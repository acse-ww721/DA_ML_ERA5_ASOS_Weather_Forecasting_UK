{
 "cells": [
  {
   "cell_type": "markdown",
   "id": "a04887c6",
   "metadata": {},
   "source": [
    "## Assimilation import"
   ]
  },
  {
   "cell_type": "code",
   "execution_count": 1,
   "id": "73fc577f",
   "metadata": {
    "ExecuteTime": {
     "end_time": "2023-09-02T23:16:16.349185Z",
     "start_time": "2023-09-02T23:16:16.336269Z"
    }
   },
   "outputs": [],
   "source": [
    "# Basic setting for Jupyter_notebook to import utils\n",
    "import os\n",
    "import sys\n",
    "\n",
    "notebook_path = os.path.abspath(\"\")\n",
    "project_root = os.path.abspath(os.path.join(notebook_path, \"../../\"))\n",
    "\n",
    "sys.path.append(project_root)"
   ]
  },
  {
   "cell_type": "code",
   "execution_count": 2,
   "id": "7bb8b09a",
   "metadata": {
    "ExecuteTime": {
     "end_time": "2023-09-02T23:16:17.735334Z",
     "start_time": "2023-09-02T23:16:16.905519Z"
    }
   },
   "outputs": [],
   "source": [
    "import os\n",
    "import xarray as xr\n",
    "import numpy as np\n",
    "import pandas as pd\n",
    "from tqdm import tqdm\n",
    "from datetime import datetime, timedelta\n",
    "from utils import folder_utils"
   ]
  },
  {
   "cell_type": "code",
   "execution_count": 3,
   "id": "923bc26c",
   "metadata": {
    "ExecuteTime": {
     "end_time": "2023-09-02T23:16:18.432039Z",
     "start_time": "2023-09-02T23:16:18.423041Z"
    }
   },
   "outputs": [],
   "source": [
    "''' \n",
    "\n",
    "@author: Ashesh Chattopadhyay\n",
    "This is a hybird SPEnKF implementation with U-STNx as the backgroud forecast model.\n",
    "\n",
    "More details in paper: https://gmd.copernicus.org/preprints/gmd-2021-71/\n",
    "\n",
    "The github repository contains an jupyter notebook to train the U-STNx model with different values of \"x\"\n",
    "\n",
    "\n",
    "\n",
    "'''\n",
    "\n",
    "import numpy as np\n",
    "import netCDF4 as nc\n",
    "import scipy.io as sio"
   ]
  },
  {
   "cell_type": "code",
   "execution_count": 4,
   "id": "da5c0411",
   "metadata": {
    "ExecuteTime": {
     "end_time": "2023-09-02T23:16:19.045477Z",
     "start_time": "2023-09-02T23:16:19.028892Z"
    }
   },
   "outputs": [],
   "source": [
    "### This .mat file has been generated from the ERA5 lat-lon data ####\n",
    "# file=sio.loadmat('ERA_grid.mat')\n",
    "# lat=file['lat']\n",
    "# lon=file['lon']\n",
    "\n",
    "lat = np.linspace(50.0, 57.75, 32)  # latitude\n",
    "lon = np.linspace(-6.0, 1.875, 64)  # longitude\n",
    "# 3.Define the grid\n",
    "# g_lon = np.linspace(-6.0, 1.875, 64)  # longitude\n",
    "# g_lat = np.linspace(50.0, 57.75, 32)  # latitude\n",
    "# # gridx, gridy = np.meshgrid(gridx, gridy)"
   ]
  },
  {
   "cell_type": "code",
   "execution_count": 5,
   "id": "98e55847",
   "metadata": {
    "ExecuteTime": {
     "end_time": "2023-09-02T23:16:20.119952Z",
     "start_time": "2023-09-02T23:16:20.107526Z"
    }
   },
   "outputs": [],
   "source": [
    "# Input setting\n",
    "# Example usage\n",
    "country = \"GB\"\n",
    "data_folder = \"data\"\n",
    "data_read_category = \"da_test_data\"\n",
    "data_test_category = \"test_data\"\n",
    "data_save_category = \"assimilated_data\"\n",
    "output_folder = \"2022_data\"\n"
   ]
  },
  {
   "cell_type": "code",
   "execution_count": 6,
   "id": "0e0f6cd8",
   "metadata": {
    "ExecuteTime": {
     "end_time": "2023-09-02T23:16:20.704661Z",
     "start_time": "2023-09-02T23:16:20.697182Z"
    }
   },
   "outputs": [],
   "source": [
    "def get_era5_list(country, data_folder, data_category, output_folder):\n",
    "    input_folder_path = folder_utils.find_folder(\n",
    "        country, data_folder, data_category, output_folder\n",
    "    )\n",
    "    nc_files = [\n",
    "        f for f in os.listdir(input_folder_path) if f.endswith(\".nc\")\n",
    "    ]\n",
    "    return [\n",
    "        os.path.join(input_folder_path, nc_file) for nc_file in nc_files\n",
    "    ]  # list for era5 nc files path"
   ]
  },
  {
   "cell_type": "code",
   "execution_count": 7,
   "id": "08f7669f",
   "metadata": {
    "ExecuteTime": {
     "end_time": "2023-09-02T23:16:21.495567Z",
     "start_time": "2023-09-02T23:16:21.473568Z"
    }
   },
   "outputs": [
    {
     "data": {
      "text/plain": [
       "['F:\\\\JuPyterNotebook\\\\irp_ww721_bakcup\\\\data\\\\da_test_data\\\\2022_data\\\\GB_2022_data\\\\asos_kridge_2022.nc',\n",
       " 'F:\\\\JuPyterNotebook\\\\irp_ww721_bakcup\\\\data\\\\da_test_data\\\\2022_data\\\\GB_2022_data\\\\era5_pressure_level_2022_regrid_filter_850.nc']"
      ]
     },
     "execution_count": 7,
     "metadata": {},
     "output_type": "execute_result"
    }
   ],
   "source": [
    "########## This is the testing set #######\n",
    "\n",
    "fileList_test=get_era5_list(country,data_folder,data_read_category,output_folder)\n",
    "fileList_test"
   ]
  },
  {
   "cell_type": "code",
   "execution_count": 8,
   "id": "6570644a",
   "metadata": {
    "ExecuteTime": {
     "end_time": "2023-09-02T23:16:22.374006Z",
     "start_time": "2023-09-02T23:16:22.360858Z"
    }
   },
   "outputs": [],
   "source": [
    "########### Ensure same normalization coefficient as trainig #######\n",
    "M = 273.77817\n",
    "sdev = 2.5819736"
   ]
  },
  {
   "cell_type": "code",
   "execution_count": 9,
   "id": "7689e535",
   "metadata": {
    "ExecuteTime": {
     "end_time": "2023-09-02T23:16:23.544903Z",
     "start_time": "2023-09-02T23:16:23.247511Z"
    }
   },
   "outputs": [],
   "source": [
    "####### True data (noise free) for twin DA experiments ##########\n",
    "## here can be modified \n",
    "\n",
    "F=nc.Dataset(fileList_test[1])\n",
    "Z=np.asarray(F['t'])\n",
    "TRUTH=Z\n",
    "\n",
    "### Meshgrid for plotting ###\n",
    "[qx,qy]=np.meshgrid(lon,lat)"
   ]
  },
  {
   "cell_type": "code",
   "execution_count": 10,
   "id": "52fa4f68",
   "metadata": {
    "ExecuteTime": {
     "end_time": "2023-09-02T23:16:24.657182Z",
     "start_time": "2023-09-02T23:16:24.442916Z"
    }
   },
   "outputs": [],
   "source": [
    "##### Add noise to the truth to mimic observations####\n",
    "#### Value 1 is 1*\\sigma_Z. See more in paper #####\n",
    "Z_rs = np.reshape(Z,[np.size(Z,0), int(np.size(Z,1)*np.size(Z,2))])\n",
    "TRUTH = Z_rs\n",
    "Z_rs = (Z_rs-M)/sdev\n",
    "TRUTH = (TRUTH-M)/sdev\n",
    "noise=1 # modify here"
   ]
  },
  {
   "cell_type": "code",
   "execution_count": 11,
   "id": "05e9e94d",
   "metadata": {
    "ExecuteTime": {
     "end_time": "2023-09-02T22:52:42.677557Z",
     "start_time": "2023-09-02T22:52:40.532287Z"
    }
   },
   "outputs": [
    {
     "name": "stdout",
     "output_type": "stream",
     "text": [
      "length of initial condition 2048\n"
     ]
    }
   ],
   "source": [
    "for k in range(1,np.size(Z_rs,0)):\n",
    "    Z_rs[k-1,:]=Z_rs[k-1,:]+np.random.normal(0, noise, 2048)\n",
    "print('length of initial condition',len(Z_rs[0,:]))"
   ]
  },
  {
   "cell_type": "code",
   "execution_count": 11,
   "id": "ee4a66bf",
   "metadata": {
    "ExecuteTime": {
     "end_time": "2023-09-02T23:16:30.347840Z",
     "start_time": "2023-09-02T23:16:30.314372Z"
    }
   },
   "outputs": [],
   "source": [
    "#### SPNEKF implementation following Tyrus Berry's implementation ######\n",
    "\n",
    "def ENKF(x, n, P ,Q, R, obs, model, u_ensemble):\n",
    "    print(\"obs\\n\")\n",
    "    obs=np.reshape(obs,[n,1]) \n",
    "    print(\"x\\n\")\n",
    "    x=np.reshape(x,[n,1])\n",
    "    print(\"USV\\n\")\n",
    "    [U,S,V]=np.linalg.svd(P)\n",
    "    print(\"D\\n\")\n",
    "    D=np.zeros([n,n])\n",
    "    print(\"diagonal\\n\")\n",
    "    np.fill_diagonal(D,S)\n",
    "    print(\"sqrtP\\n\")\n",
    "    sqrtP=np.dot(np.dot(U,np.sqrt(D)),U)\n",
    "    print(\"ens1\\n\")\n",
    "    ens=np.zeros([n,2*n])\n",
    "    print(\"ens2\\n\")\n",
    "    ens[:,0:n]=np.tile(x,(1,n)) + sqrtP\n",
    "    print(\"ens3\\n\")\n",
    "    ens[:,n:]=np.tile(x,(1,n)) - sqrtP\n",
    "    ## forecasting step,dummy model\n",
    "\n",
    "    for k in tqdm(range(0, np.size(ens,1))):\n",
    "\n",
    "       u =  model.predict(np.reshape(ens[:,k],[1, 32, 64, 1]))\n",
    "\n",
    "       u_ensemble[:,k]=np.reshape(u,(32*64,))\n",
    "\n",
    "\n",
    "\n",
    "    ############################\n",
    "    print(\"x_prior\\n\")\n",
    "    x_prior = np.reshape(np.mean(u_ensemble,1),[n,1])\n",
    "    print('shape pf x_prior',np.shape(x_prior))\n",
    "    print('shape pf obs',np.shape(obs))\n",
    "    print(\"cf_ens\\n\")\n",
    "    cf_ens = ens - np.tile(x_prior,(1,2*n))\n",
    "    print(\"P_prior\\n\")\n",
    "    P_prior = np.dot(cf_ens,np.transpose(cf_ens))/(2*n - 1)+Q\n",
    "    print(\"h_ens\\n\")\n",
    "    h_ens = ens\n",
    "    print(\"y_prior\\n\")\n",
    "    y_prior=np.reshape(np.mean(h_ens,1),[n,1])\n",
    "    ch_ens = h_ens - np.tile(y_prior,(1,2*n))\n",
    "    print('shape pf y_prior',np.shape(y_prior))\n",
    "    print(\"P_y\\n\")\n",
    "    P_y = np.dot(ch_ens, np.transpose(ch_ens))/(2*n-1) + R\n",
    "    print(\"P_xy\\n\")\n",
    "    P_xy = np.dot(cf_ens, np.transpose(ch_ens)) /(2*n-1)\n",
    "    print(\"K\\n\")\n",
    "    K = np.dot(P_xy,np.linalg.inv(P_y))\n",
    "    print(\"P\\n\")\n",
    "    P = P_prior - np.dot(np.dot(K,P_y),np.transpose(K))\n",
    "    print(\"x\\n\")\n",
    "    x = x_prior + np.dot(K,(obs-y_prior))\n",
    "\n",
    "    return x, P"
   ]
  },
  {
   "cell_type": "code",
   "execution_count": 12,
   "id": "3f8e5c05",
   "metadata": {
    "ExecuteTime": {
     "end_time": "2023-09-02T23:16:30.900293Z",
     "start_time": "2023-09-02T23:16:30.886297Z"
    }
   },
   "outputs": [],
   "source": [
    "def get_initial_weights(output_size):\n",
    "    b = np.zeros((2, 3), dtype='float32')\n",
    "    b[0, 0] = 1\n",
    "    b[1, 1] = 1\n",
    "    W = np.zeros((output_size, 6), dtype='float32')\n",
    "    weights = [W, b.flatten()]\n",
    "    return weights"
   ]
  },
  {
   "cell_type": "code",
   "execution_count": 13,
   "id": "360e29bb",
   "metadata": {
    "ExecuteTime": {
     "end_time": "2023-09-02T23:16:37.790087Z",
     "start_time": "2023-09-02T23:16:32.284810Z"
    }
   },
   "outputs": [
    {
     "name": "stderr",
     "output_type": "stream",
     "text": [
      "Using TensorFlow backend.\n",
      "D:\\anaconda3\\envs\\py37\\lib\\site-packages\\tensorflow\\python\\framework\\dtypes.py:526: FutureWarning: Passing (type, 1) or '1type' as a synonym of type is deprecated; in a future version of numpy, it will be understood as (type, (1,)) / '(1,)type'.\n",
      "  _np_qint8 = np.dtype([(\"qint8\", np.int8, 1)])\n",
      "D:\\anaconda3\\envs\\py37\\lib\\site-packages\\tensorflow\\python\\framework\\dtypes.py:527: FutureWarning: Passing (type, 1) or '1type' as a synonym of type is deprecated; in a future version of numpy, it will be understood as (type, (1,)) / '(1,)type'.\n",
      "  _np_quint8 = np.dtype([(\"quint8\", np.uint8, 1)])\n",
      "D:\\anaconda3\\envs\\py37\\lib\\site-packages\\tensorflow\\python\\framework\\dtypes.py:528: FutureWarning: Passing (type, 1) or '1type' as a synonym of type is deprecated; in a future version of numpy, it will be understood as (type, (1,)) / '(1,)type'.\n",
      "  _np_qint16 = np.dtype([(\"qint16\", np.int16, 1)])\n",
      "D:\\anaconda3\\envs\\py37\\lib\\site-packages\\tensorflow\\python\\framework\\dtypes.py:529: FutureWarning: Passing (type, 1) or '1type' as a synonym of type is deprecated; in a future version of numpy, it will be understood as (type, (1,)) / '(1,)type'.\n",
      "  _np_quint16 = np.dtype([(\"quint16\", np.uint16, 1)])\n",
      "D:\\anaconda3\\envs\\py37\\lib\\site-packages\\tensorflow\\python\\framework\\dtypes.py:530: FutureWarning: Passing (type, 1) or '1type' as a synonym of type is deprecated; in a future version of numpy, it will be understood as (type, (1,)) / '(1,)type'.\n",
      "  _np_qint32 = np.dtype([(\"qint32\", np.int32, 1)])\n",
      "D:\\anaconda3\\envs\\py37\\lib\\site-packages\\tensorflow\\python\\framework\\dtypes.py:535: FutureWarning: Passing (type, 1) or '1type' as a synonym of type is deprecated; in a future version of numpy, it will be understood as (type, (1,)) / '(1,)type'.\n",
      "  np_resource = np.dtype([(\"resource\", np.ubyte, 1)])\n"
     ]
    }
   ],
   "source": [
    "from keras import backend as K\n",
    "from keras.engine.topology import Layer\n",
    "\n",
    "if K.backend() == 'tensorflow':\n",
    "    import tensorflow as tf\n",
    "\n",
    "    def K_meshgrid(x, y):\n",
    "        return tf.meshgrid(x, y)\n",
    "\n",
    "    def K_linspace(start, stop, num):\n",
    "        return tf.linspace(start, stop, num)\n",
    "\n",
    "else:\n",
    "    raise Exception(\"Only 'tensorflow' is supported as backend\")\n",
    "\n",
    "\n",
    "class BilinearInterpolation(Layer):\n",
    "    \"\"\"Performs bilinear interpolation as a keras layer\n",
    "    References\n",
    "    ----------\n",
    "    [1]  Spatial Transformer Networks, Max Jaderberg, et al.\n",
    "    [2]  https://github.com/skaae/transformer_network\n",
    "    [3]  https://github.com/EderSantana/seya\n",
    "    \"\"\"\n",
    "\n",
    "    def __init__(self, output_size, **kwargs):\n",
    "        self.output_size = output_size\n",
    "        super(BilinearInterpolation, self).__init__(**kwargs)\n",
    "\n",
    "    def get_config(self):\n",
    "        return {\n",
    "            'output_size': self.output_size,\n",
    "        }\n",
    "\n",
    "    def compute_output_shape(self, input_shapes):\n",
    "        height, width = self.output_size\n",
    "        num_channels = input_shapes[0][-1]\n",
    "        return (None, height, width, num_channels)\n",
    "\n",
    "    def call(self, tensors, mask=None):\n",
    "        X, transformation = tensors\n",
    "        output = self._transform(X, transformation, self.output_size)\n",
    "        return output\n",
    "\n",
    "    def _interpolate(self, image, sampled_grids, output_size):\n",
    "\n",
    "        batch_size = K.shape(image)[0]\n",
    "        height = K.shape(image)[1]\n",
    "        width = K.shape(image)[2]\n",
    "        num_channels = K.shape(image)[3]\n",
    "\n",
    "        x = K.cast(K.flatten(sampled_grids[:, 0:1, :]), dtype='float32')\n",
    "        y = K.cast(K.flatten(sampled_grids[:, 1:2, :]), dtype='float32')\n",
    "\n",
    "        x = .5 * (x + 1.0) * K.cast(width, dtype='float32')\n",
    "        y = .5 * (y + 1.0) * K.cast(height, dtype='float32')\n",
    "\n",
    "        x0 = K.cast(x, 'int32')\n",
    "        x1 = x0 + 1\n",
    "        y0 = K.cast(y, 'int32')\n",
    "        y1 = y0 + 1\n",
    "\n",
    "        max_x = int(K.int_shape(image)[2] - 1)\n",
    "        max_y = int(K.int_shape(image)[1] - 1)\n",
    "\n",
    "        x0 = K.clip(x0, 0, max_x)\n",
    "        x1 = K.clip(x1, 0, max_x)\n",
    "        y0 = K.clip(y0, 0, max_y)\n",
    "        y1 = K.clip(y1, 0, max_y)\n",
    "\n",
    "        pixels_batch = K.arange(0, batch_size) * (height * width)\n",
    "        pixels_batch = K.expand_dims(pixels_batch, axis=-1)\n",
    "        flat_output_size = output_size[0] * output_size[1]\n",
    "        base = K.repeat_elements(pixels_batch, flat_output_size, axis=1)\n",
    "        base = K.flatten(base)\n",
    "\n",
    "        # base_y0 = base + (y0 * width)\n",
    "        base_y0 = y0 * width\n",
    "        base_y0 = base + base_y0\n",
    "        # base_y1 = base + (y1 * width)\n",
    "        base_y1 = y1 * width\n",
    "        base_y1 = base_y1 + base\n",
    "\n",
    "        indices_a = base_y0 + x0\n",
    "        indices_b = base_y1 + x0\n",
    "        indices_c = base_y0 + x1\n",
    "        indices_d = base_y1 + x1\n",
    "\n",
    "        flat_image = K.reshape(image, shape=(-1, num_channels))\n",
    "        flat_image = K.cast(flat_image, dtype='float32')\n",
    "        pixel_values_a = K.gather(flat_image, indices_a)\n",
    "        pixel_values_b = K.gather(flat_image, indices_b)\n",
    "        pixel_values_c = K.gather(flat_image, indices_c)\n",
    "        pixel_values_d = K.gather(flat_image, indices_d)\n",
    "\n",
    "        x0 = K.cast(x0, 'float32')\n",
    "        x1 = K.cast(x1, 'float32')\n",
    "        y0 = K.cast(y0, 'float32')\n",
    "        y1 = K.cast(y1, 'float32')\n",
    "\n",
    "        area_a = K.expand_dims(((x1 - x) * (y1 - y)), 1)\n",
    "        area_b = K.expand_dims(((x1 - x) * (y - y0)), 1)\n",
    "        area_c = K.expand_dims(((x - x0) * (y1 - y)), 1)\n",
    "        area_d = K.expand_dims(((x - x0) * (y - y0)), 1)\n",
    "\n",
    "        values_a = area_a * pixel_values_a\n",
    "        values_b = area_b * pixel_values_b\n",
    "        values_c = area_c * pixel_values_c\n",
    "        values_d = area_d * pixel_values_d\n",
    "        return values_a + values_b + values_c + values_d\n",
    "\n",
    "    def _make_regular_grids(self, batch_size, height, width):\n",
    "        # making a single regular grid\n",
    "        x_linspace = K_linspace(-1., 1., width)\n",
    "        y_linspace = K_linspace(-1., 1., height)\n",
    "        x_coordinates, y_coordinates = K_meshgrid(x_linspace, y_linspace)\n",
    "        x_coordinates = K.flatten(x_coordinates)\n",
    "        y_coordinates = K.flatten(y_coordinates)\n",
    "        ones = K.ones_like(x_coordinates)\n",
    "        grid = K.concatenate([x_coordinates, y_coordinates, ones], 0)\n",
    "\n",
    "        # repeating grids for each batch\n",
    "        grid = K.flatten(grid)\n",
    "        grids = K.tile(grid, K.stack([batch_size]))\n",
    "        return K.reshape(grids, (batch_size, 3, height * width))\n",
    "\n",
    "    def _transform(self, X, affine_transformation, output_size):\n",
    "        batch_size, num_channels = K.shape(X)[0], K.shape(X)[3]\n",
    "        transformations = K.reshape(affine_transformation,\n",
    "                                    shape=(batch_size, 2, 3))\n",
    "        # transformations = K.cast(affine_transformation[:, 0:2, :], 'float32')\n",
    "        regular_grids = self._make_regular_grids(batch_size, *output_size)\n",
    "        sampled_grids = K.batch_dot(transformations, regular_grids)\n",
    "        interpolated_image = self._interpolate(X, sampled_grids, output_size)\n",
    "        new_shape = (batch_size, output_size[0], output_size[1], num_channels)\n",
    "        interpolated_image = K.reshape(interpolated_image, new_shape)\n",
    "        return interpolated_image"
   ]
  },
  {
   "cell_type": "code",
   "execution_count": 14,
   "id": "bfd9100a",
   "metadata": {
    "ExecuteTime": {
     "end_time": "2023-09-02T23:16:37.905153Z",
     "start_time": "2023-09-02T23:16:37.867416Z"
    }
   },
   "outputs": [],
   "source": [
    "import tensorflow\n",
    "import keras.backend as K\n",
    "#from data_manager import ClutteredMNIST\n",
    "#from visualizer import plot_mnist_sample\n",
    "#from visualizer import print_evaluation\n",
    "#from visualizer import plot_mnist_grid\n",
    "import netCDF4\n",
    "import numpy as np\n",
    "from keras.layers import Input, Convolution2D, Convolution1D, MaxPooling2D, Dense, Dropout, \\\n",
    "                          Flatten, concatenate, Activation, Reshape, \\\n",
    "                          UpSampling2D,ZeroPadding2D\n",
    "import keras\n",
    "from keras.callbacks import History\n",
    "history = History()\n",
    "\n",
    "import keras\n",
    "from keras.layers import Conv2D, Conv2DTranspose, Cropping2D, Concatenate, ZeroPadding2D\n",
    "from keras.models import load_model\n",
    "\n",
    "__version__ = 0.1\n",
    "\n",
    "\n",
    "#### This is the circular convolution function. With/Without doesn't make much difference. If training is done with CConv2D then replace Convolution2D with CCvonv2D else leave it like this  #####\n",
    "def CConv2D(filters, kernel_size, strides=(1, 1), activation='linear', padding='valid', kernel_initializer='glorot_uniform', kernel_regularizer=None):\n",
    "    def CConv2D_inner(x):\n",
    "        # padding (see https://www.tensorflow.org/api_guides/python/nn#Convolution)\n",
    "        in_height = int(x.get_shape()[1])\n",
    "        in_width = int(x.get_shape()[2])\n",
    "\n",
    "        if (in_height % strides[0] == 0):\n",
    "            pad_along_height = max(kernel_size[0] - strides[0], 0)\n",
    "        else:\n",
    "            pad_along_height = max(\n",
    "                kernel_size[0] - (in_height % strides[0]), 0)\n",
    "        if (in_width % strides[1] == 0):\n",
    "            pad_along_width = max(kernel_size[1] - strides[1], 0)\n",
    "        else:\n",
    "            pad_along_width = max(kernel_size[1] - (in_width % strides[1]), 0)\n",
    "\n",
    "        pad_top = pad_along_height // 2\n",
    "        pad_bottom = pad_along_height - pad_top\n",
    "        pad_left = pad_along_width // 2\n",
    "        pad_right = pad_along_width - pad_left\n",
    "\n",
    "        # left and right side for padding\n",
    "        pad_left = Cropping2D(cropping=((0, 0), (in_width-pad_left, 0)))(x)\n",
    "        pad_right = Cropping2D(cropping=((0, 0), (0, in_width-pad_right)))(x)\n",
    "\n",
    "        # add padding to incoming image\n",
    "        conc = Concatenate(axis=2)([pad_left, x, pad_right])\n",
    "\n",
    "        # top/bottom padding options\n",
    "        if padding == 'same':\n",
    "            conc = ZeroPadding2D(padding={'top_pad': pad_top,\n",
    "                                          'bottom_pad': pad_bottom})(conc)\n",
    "        elif padding == 'valid':\n",
    "            pass\n",
    "        else:\n",
    "            raise Exception('Padding \"{}\" does not exist!'.format(padding))\n",
    "\n",
    "        # perform the circular convolution\n",
    "        cconv2d = Conv2D(filters=filters, kernel_size=kernel_size,\n",
    "                         strides=strides, activation=activation,\n",
    "                         padding='valid',\n",
    "                         kernel_initializer=kernel_initializer,\n",
    "                         kernel_regularizer=kernel_regularizer)(conc)\n",
    "\n",
    "        # return circular convolution layer\n",
    "        return cconv2d\n",
    "    return CConv2D_inner\n",
    "\n",
    "from keras.layers import Input\n",
    "from keras.models import Model\n",
    "from keras.layers import Activation\n",
    "from keras.layers import MaxPool2D\n",
    "from keras.layers import Flatten\n",
    "from keras.layers import Conv2D\n",
    "from keras.layers import Dense\n",
    "\n",
    "# from utils import get_initial_weights\n",
    "# from bilinear_interpolation_1x import BilinearInterpolation"
   ]
  },
  {
   "cell_type": "code",
   "execution_count": 15,
   "id": "b9e43b74",
   "metadata": {
    "ExecuteTime": {
     "end_time": "2023-09-02T23:16:38.026267Z",
     "start_time": "2023-09-02T23:16:37.981528Z"
    }
   },
   "outputs": [],
   "source": [
    "##### Load model. DO not train. #####\n",
    "def stn(input_shape=(32, 64, 1), sampling_size=(8, 16), num_classes=10):\n",
    "    inputs = Input(shape=input_shape)\n",
    "    conv1 = Convolution2D(32, 5, 5, activation='relu', border_mode='same')(inputs)\n",
    "    conv1 = Convolution2D(32, 5, 5, activation='relu', border_mode='same')(conv1)\n",
    "    pool1 = MaxPooling2D(pool_size=(2, 2))(conv1)\n",
    "\n",
    "    conv2 = Convolution2D(32, 5, 5, activation='relu', border_mode='same')(pool1)\n",
    "    conv2 = Convolution2D(32, 5, 5, activation='relu', border_mode='same')(conv2)\n",
    "    pool2 = MaxPooling2D(pool_size=(2, 2))(conv2)\n",
    "\n",
    "    conv3 = Convolution2D(32, 5, 5, activation='relu', border_mode='same')(pool2)\n",
    "#     conv3 = Convolution2D(32, 5, 5, activation='relu', border_mode='same')(conv3)\n",
    "\n",
    "\n",
    "    conv5 = Convolution2D(32, 5, 5, activation='relu', border_mode='same')(conv3)\n",
    "#     conv5 = Convolution2D(32, 5, 5, activation='relu', border_mode='same')(conv5)\n",
    "    \n",
    "    locnet = Flatten()(conv5)\n",
    "    locnet = Dense(500)(locnet)\n",
    "    locnet = Activation('relu')(locnet)\n",
    "    locnet = Dense(200)(locnet)\n",
    "    locnet = Activation('relu')(locnet)\n",
    "    locnet = Dense(100)(locnet)\n",
    "    locnet = Activation('relu')(locnet)\n",
    "    locnet = Dense(50)(locnet)\n",
    "    locnet = Activation('relu')(locnet)\n",
    "    weights = get_initial_weights(50)\n",
    "    locnet = Dense(6, weights=weights)(locnet)\n",
    "    x = BilinearInterpolation(sampling_size)([inputs, locnet])\n",
    "\n",
    "\n",
    "    up6 = keras.layers.Concatenate(axis=-1)([Convolution2D(32, 2, 2,activation='relu', border_mode='same')(UpSampling2D(size=(2, 2))(x)), conv2])\n",
    "    conv6 = Convolution2D(32, 5, 5, activation='relu', border_mode='same')(up6)\n",
    "    conv6 = Convolution2D(32, 5, 5, activation='relu', border_mode='same')(conv6)\n",
    "\n",
    "    up7 = keras.layers.Concatenate(axis=-1)([Convolution2D(32, 2, 2,activation='relu', border_mode='same')(UpSampling2D(size=(2, 2))(conv6)), conv1])\n",
    "    conv7 = Convolution2D(32, 5, 5, activation='relu', border_mode='same')(up7)\n",
    "    conv7 = Convolution2D(32, 5, 5, activation='relu', border_mode='same')(conv7)\n",
    "\n",
    "\n",
    "\n",
    "    conv10 = Convolution2D(1, 5, 5, activation='linear',border_mode='same')(conv7)\n",
    "\n",
    "    model = Model(input=inputs, output=conv10)\n",
    "\n",
    "\n",
    "\n",
    "    return model"
   ]
  },
  {
   "cell_type": "code",
   "execution_count": 16,
   "id": "d37ebd34",
   "metadata": {
    "ExecuteTime": {
     "end_time": "2023-09-02T23:16:38.129774Z",
     "start_time": "2023-09-02T23:16:38.108487Z"
    }
   },
   "outputs": [],
   "source": [
    "# Input setting\n",
    "# Example usage\n",
    "country = \"GB\"\n",
    "data_folder = \"data\"\n",
    "data_read_category = \"da_test_data\"\n",
    "data_test_category = \"test_data\"\n",
    "data_save_category = \"assimilated_data\"\n",
    "output_folder = \"2022_weight_data\""
   ]
  },
  {
   "cell_type": "code",
   "execution_count": 17,
   "id": "0cd267c5",
   "metadata": {
    "ExecuteTime": {
     "end_time": "2023-09-02T23:16:38.236573Z",
     "start_time": "2023-09-02T23:16:38.216768Z"
    }
   },
   "outputs": [],
   "source": [
    "def get_weight_list(country, data_folder, data_category, output_folder):\n",
    "    input_folder_path = folder_utils.create_folder(\n",
    "        country, data_folder, data_category, output_folder\n",
    "    )\n",
    "    nc_files = [\n",
    "        f for f in os.listdir(input_folder_path) if f.endswith(\".h5\")\n",
    "    ]\n",
    "    return [\n",
    "        os.path.join(input_folder_path, nc_file) for nc_file in nc_files\n",
    "    ]  # list for era5 nc files path"
   ]
  },
  {
   "cell_type": "code",
   "execution_count": 18,
   "id": "1f3282dd",
   "metadata": {
    "ExecuteTime": {
     "end_time": "2023-09-02T23:16:38.951524Z",
     "start_time": "2023-09-02T23:16:38.932097Z"
    }
   },
   "outputs": [
    {
     "name": "stdout",
     "output_type": "stream",
     "text": [
      "Folder 'F:\\JuPyterNotebook\\irp_ww721_bakcup\\data\\da_test_data\\2022_weight_data\\GB_2022_weight_data' created successfully.\n"
     ]
    }
   ],
   "source": [
    "weight_list = get_weight_list(country,data_folder,data_read_category,output_folder)"
   ]
  },
  {
   "cell_type": "code",
   "execution_count": 19,
   "id": "14edf884",
   "metadata": {
    "ExecuteTime": {
     "end_time": "2023-09-02T23:16:39.662051Z",
     "start_time": "2023-09-02T23:16:39.649730Z"
    }
   },
   "outputs": [
    {
     "data": {
      "text/plain": [
       "['F:\\\\JuPyterNotebook\\\\irp_ww721_bakcup\\\\data\\\\da_test_data\\\\2022_weight_data\\\\GB_2022_weight_data\\\\best_weights_lead12.h5',\n",
       " 'F:\\\\JuPyterNotebook\\\\irp_ww721_bakcup\\\\data\\\\da_test_data\\\\2022_weight_data\\\\GB_2022_weight_data\\\\best_weights_lead12_2.h5',\n",
       " 'F:\\\\JuPyterNotebook\\\\irp_ww721_bakcup\\\\data\\\\da_test_data\\\\2022_weight_data\\\\GB_2022_weight_data\\\\best_weights_lead12_3.h5',\n",
       " 'F:\\\\JuPyterNotebook\\\\irp_ww721_bakcup\\\\data\\\\da_test_data\\\\2022_weight_data\\\\GB_2022_weight_data\\\\best_weights_lead12_4.h5',\n",
       " 'F:\\\\JuPyterNotebook\\\\irp_ww721_bakcup\\\\data\\\\da_test_data\\\\2022_weight_data\\\\GB_2022_weight_data\\\\best_weights_lead12_5.h5',\n",
       " 'F:\\\\JuPyterNotebook\\\\irp_ww721_bakcup\\\\data\\\\da_test_data\\\\2022_weight_data\\\\GB_2022_weight_data\\\\best_weights_lead12_6.h5',\n",
       " 'F:\\\\JuPyterNotebook\\\\irp_ww721_bakcup\\\\data\\\\da_test_data\\\\2022_weight_data\\\\GB_2022_weight_data\\\\best_weights_lead12_7.h5',\n",
       " 'F:\\\\JuPyterNotebook\\\\irp_ww721_bakcup\\\\data\\\\da_test_data\\\\2022_weight_data\\\\GB_2022_weight_data\\\\best_weights_lead12_8.h5',\n",
       " 'F:\\\\JuPyterNotebook\\\\irp_ww721_bakcup\\\\data\\\\da_test_data\\\\2022_weight_data\\\\GB_2022_weight_data\\\\best_weights_lead12_ddwa.h5',\n",
       " 'F:\\\\JuPyterNotebook\\\\irp_ww721_bakcup\\\\data\\\\da_test_data\\\\2022_weight_data\\\\GB_2022_weight_data\\\\best_weights_lead1_ddwa.h5']"
      ]
     },
     "execution_count": 19,
     "metadata": {},
     "output_type": "execute_result"
    }
   ],
   "source": [
    "weight_list"
   ]
  },
  {
   "cell_type": "code",
   "execution_count": 20,
   "id": "fbc4906d",
   "metadata": {
    "ExecuteTime": {
     "end_time": "2023-09-02T23:16:40.424205Z",
     "start_time": "2023-09-02T23:16:40.403793Z"
    }
   },
   "outputs": [],
   "source": [
    "best_weight = weight_list[5]"
   ]
  },
  {
   "cell_type": "code",
   "execution_count": 21,
   "id": "e1a3ce35",
   "metadata": {
    "ExecuteTime": {
     "end_time": "2023-09-02T23:16:43.712662Z",
     "start_time": "2023-09-02T23:16:41.608188Z"
    }
   },
   "outputs": [
    {
     "name": "stdout",
     "output_type": "stream",
     "text": [
      "WARNING:tensorflow:From D:\\anaconda3\\envs\\py37\\lib\\site-packages\\tensorflow\\python\\framework\\op_def_library.py:263: colocate_with (from tensorflow.python.framework.ops) is deprecated and will be removed in a future version.\n",
      "Instructions for updating:\n",
      "Colocations handled automatically by placer.\n"
     ]
    },
    {
     "name": "stderr",
     "output_type": "stream",
     "text": [
      "D:\\anaconda3\\envs\\py37\\lib\\site-packages\\ipykernel_launcher.py:4: UserWarning: Update your `Conv2D` call to the Keras 2 API: `Conv2D(32, (5, 5), activation=\"relu\", padding=\"same\")`\n",
      "  after removing the cwd from sys.path.\n",
      "D:\\anaconda3\\envs\\py37\\lib\\site-packages\\ipykernel_launcher.py:5: UserWarning: Update your `Conv2D` call to the Keras 2 API: `Conv2D(32, (5, 5), activation=\"relu\", padding=\"same\")`\n",
      "  \"\"\"\n",
      "D:\\anaconda3\\envs\\py37\\lib\\site-packages\\ipykernel_launcher.py:8: UserWarning: Update your `Conv2D` call to the Keras 2 API: `Conv2D(32, (5, 5), activation=\"relu\", padding=\"same\")`\n",
      "  \n",
      "D:\\anaconda3\\envs\\py37\\lib\\site-packages\\ipykernel_launcher.py:9: UserWarning: Update your `Conv2D` call to the Keras 2 API: `Conv2D(32, (5, 5), activation=\"relu\", padding=\"same\")`\n",
      "  if __name__ == \"__main__\":\n",
      "D:\\anaconda3\\envs\\py37\\lib\\site-packages\\ipykernel_launcher.py:12: UserWarning: Update your `Conv2D` call to the Keras 2 API: `Conv2D(32, (5, 5), activation=\"relu\", padding=\"same\")`\n",
      "  if sys.path[0] == \"\":\n",
      "D:\\anaconda3\\envs\\py37\\lib\\site-packages\\ipykernel_launcher.py:16: UserWarning: Update your `Conv2D` call to the Keras 2 API: `Conv2D(32, (5, 5), activation=\"relu\", padding=\"same\")`\n",
      "  \n",
      "D:\\anaconda3\\envs\\py37\\lib\\site-packages\\ipykernel_launcher.py:33: UserWarning: Update your `Conv2D` call to the Keras 2 API: `Conv2D(32, (2, 2), activation=\"relu\", padding=\"same\")`\n",
      "D:\\anaconda3\\envs\\py37\\lib\\site-packages\\ipykernel_launcher.py:34: UserWarning: Update your `Conv2D` call to the Keras 2 API: `Conv2D(32, (5, 5), activation=\"relu\", padding=\"same\")`\n",
      "D:\\anaconda3\\envs\\py37\\lib\\site-packages\\ipykernel_launcher.py:35: UserWarning: Update your `Conv2D` call to the Keras 2 API: `Conv2D(32, (5, 5), activation=\"relu\", padding=\"same\")`\n",
      "D:\\anaconda3\\envs\\py37\\lib\\site-packages\\ipykernel_launcher.py:37: UserWarning: Update your `Conv2D` call to the Keras 2 API: `Conv2D(32, (2, 2), activation=\"relu\", padding=\"same\")`\n",
      "D:\\anaconda3\\envs\\py37\\lib\\site-packages\\ipykernel_launcher.py:38: UserWarning: Update your `Conv2D` call to the Keras 2 API: `Conv2D(32, (5, 5), activation=\"relu\", padding=\"same\")`\n",
      "D:\\anaconda3\\envs\\py37\\lib\\site-packages\\ipykernel_launcher.py:39: UserWarning: Update your `Conv2D` call to the Keras 2 API: `Conv2D(32, (5, 5), activation=\"relu\", padding=\"same\")`\n",
      "D:\\anaconda3\\envs\\py37\\lib\\site-packages\\ipykernel_launcher.py:43: UserWarning: Update your `Conv2D` call to the Keras 2 API: `Conv2D(1, (5, 5), activation=\"linear\", padding=\"same\")`\n",
      "D:\\anaconda3\\envs\\py37\\lib\\site-packages\\ipykernel_launcher.py:45: UserWarning: Update your `Model` call to the Keras 2 API: `Model(inputs=Tensor(\"in..., outputs=Tensor(\"co...)`\n"
     ]
    }
   ],
   "source": [
    "model = stn()\n",
    "model.load_weights(best_weight) \n",
    "### This code performs DA at every 24 hrs with a model that is forecasting every hour. So lead will always be 1 ######"
   ]
  },
  {
   "cell_type": "markdown",
   "id": "97bba051",
   "metadata": {},
   "source": [
    "## Calculation"
   ]
  },
  {
   "cell_type": "code",
   "execution_count": 22,
   "id": "b0d71df6",
   "metadata": {
    "ExecuteTime": {
     "end_time": "2023-09-02T23:16:48.464875Z",
     "start_time": "2023-09-02T23:16:47.652455Z"
    }
   },
   "outputs": [],
   "source": [
    "import scipy.io as sio\n",
    "import numpy as np\n",
    "import xarray as xr\n",
    "from scipy.stats import pearsonr\n",
    "import matplotlib.pyplot as plt\n",
    "from tqdm import tqdm"
   ]
  },
  {
   "cell_type": "code",
   "execution_count": 23,
   "id": "0d660260",
   "metadata": {
    "ExecuteTime": {
     "end_time": "2023-09-02T23:16:49.502030Z",
     "start_time": "2023-09-02T23:16:49.480522Z"
    }
   },
   "outputs": [
    {
     "data": {
      "text/plain": [
       "'F:\\\\JuPyterNotebook\\\\irp_ww721_bakcup\\\\data\\\\da_test_data\\\\2022_data\\\\GB_2022_data\\\\era5_pressure_level_2022_regrid_filter_850.nc'"
      ]
     },
     "execution_count": 23,
     "metadata": {},
     "output_type": "execute_result"
    }
   ],
   "source": [
    "era5_data = fileList_test[1]\n",
    "era5_data "
   ]
  },
  {
   "cell_type": "code",
   "execution_count": 38,
   "id": "6cf9eb3f",
   "metadata": {
    "ExecuteTime": {
     "end_time": "2023-09-02T23:21:42.000453Z",
     "start_time": "2023-09-02T23:21:41.991229Z"
    }
   },
   "outputs": [],
   "source": [
    "random_seed = 42\n",
    "np.random.seed(random_seed)\n",
    "\n",
    "# Set time step\n",
    "time_step = 120\n",
    "dt = 6\n",
    "steps = time_step // dt\n",
    "count = 0"
   ]
  },
  {
   "cell_type": "code",
   "execution_count": 39,
   "id": "7387ffc2",
   "metadata": {
    "ExecuteTime": {
     "end_time": "2023-09-02T23:21:42.366506Z",
     "start_time": "2023-09-02T23:21:42.357662Z"
    }
   },
   "outputs": [],
   "source": [
    "import netCDF4 as nc  # py37"
   ]
  },
  {
   "cell_type": "code",
   "execution_count": 40,
   "id": "b5488c19",
   "metadata": {
    "ExecuteTime": {
     "end_time": "2023-09-02T23:21:43.044191Z",
     "start_time": "2023-09-02T23:21:43.031469Z"
    },
    "scrolled": true
   },
   "outputs": [],
   "source": [
    "# Load data\n",
    "era5_value =netCDF4.Dataset(era5_data)"
   ]
  },
  {
   "cell_type": "code",
   "execution_count": 41,
   "id": "ac9bf0a8",
   "metadata": {
    "ExecuteTime": {
     "end_time": "2023-09-02T23:21:43.674219Z",
     "start_time": "2023-09-02T23:21:43.479530Z"
    }
   },
   "outputs": [
    {
     "data": {
      "text/plain": [
       "(8760, 32, 64)"
      ]
     },
     "execution_count": 41,
     "metadata": {},
     "output_type": "execute_result"
    }
   ],
   "source": [
    "era5_t = np.asarray(era5_value[\"t\"])\n",
    "era5_t.shape"
   ]
  },
  {
   "cell_type": "code",
   "execution_count": 42,
   "id": "4cb2c690",
   "metadata": {
    "ExecuteTime": {
     "end_time": "2023-09-02T23:21:44.632823Z",
     "start_time": "2023-09-02T23:21:44.623964Z"
    }
   },
   "outputs": [],
   "source": [
    "# Select 50 initial conditions randomly\n",
    "initial_conditions = 50\n",
    "random_indices = np.random.choice(\n",
    "    era5_t.shape[0] - 240,\n",
    "    size=initial_conditions,\n",
    "    replace=False,  # -240 to ensure enough range for prediction\n",
    ")\n",
    "\n",
    "pred_data = np.zeros([initial_conditions, steps, 32, 64])\n"
   ]
  },
  {
   "cell_type": "code",
   "execution_count": 43,
   "id": "e029923d",
   "metadata": {
    "ExecuteTime": {
     "end_time": "2023-09-02T23:21:45.824765Z",
     "start_time": "2023-09-02T23:21:45.806838Z"
    }
   },
   "outputs": [
    {
     "data": {
      "text/plain": [
       "array([7499, 7310, 2571, 1084,  856, 4081, 2131, 1385, 4959, 3375, 4507,\n",
       "       1670, 3617, 1623, 6847, 7028,  315, 3519, 6383, 8046, 4461, 4409,\n",
       "       2111, 1057,  868,  700, 7690, 6716, 4560, 4015, 7070, 7327, 3668,\n",
       "       3949, 8496, 1183,  794, 5794, 2487, 6686, 2802, 5962, 2483,  789,\n",
       "        233, 4695,  429, 2614, 5686, 1281])"
      ]
     },
     "execution_count": 43,
     "metadata": {},
     "output_type": "execute_result"
    }
   ],
   "source": [
    "random_indices"
   ]
  },
  {
   "cell_type": "code",
   "execution_count": 44,
   "id": "2d85f5f7",
   "metadata": {
    "ExecuteTime": {
     "end_time": "2023-09-02T23:21:46.383885Z",
     "start_time": "2023-09-02T23:21:46.362612Z"
    }
   },
   "outputs": [
    {
     "data": {
      "text/plain": [
       "(50, 20, 32, 64)"
      ]
     },
     "execution_count": 44,
     "metadata": {},
     "output_type": "execute_result"
    }
   ],
   "source": [
    "pred_data.shape"
   ]
  },
  {
   "cell_type": "code",
   "execution_count": 45,
   "id": "22d33489",
   "metadata": {
    "ExecuteTime": {
     "end_time": "2023-09-02T23:22:15.194691Z",
     "start_time": "2023-09-02T23:21:51.620961Z"
    },
    "scrolled": true
   },
   "outputs": [
    {
     "name": "stderr",
     "output_type": "stream",
     "text": [
      "50it [00:23,  2.12it/s]\n"
     ]
    }
   ],
   "source": [
    "for idx, start_t in tqdm(enumerate(random_indices)):\n",
    "    current_data = era5_t[start_t].reshape(1, 32, 64, 1)\n",
    "    for s in range(steps):\n",
    "        # Using the current data to predict the data for 24 hours later\n",
    "        pred_data[idx, s] = model.predict(current_data).squeeze()\n",
    "        # The predicted data is the current data for the next iteration\n",
    "        current_data = pred_data[idx, s].reshape(1, 32, 64, 1)"
   ]
  },
  {
   "cell_type": "code",
   "execution_count": 46,
   "id": "b06870c7",
   "metadata": {
    "ExecuteTime": {
     "end_time": "2023-09-02T23:22:29.696131Z",
     "start_time": "2023-09-02T23:22:29.610145Z"
    }
   },
   "outputs": [
    {
     "data": {
      "text/plain": [
       "(50, 20, 32, 64)"
      ]
     },
     "execution_count": 46,
     "metadata": {},
     "output_type": "execute_result"
    }
   ],
   "source": [
    "pred_data.shape"
   ]
  },
  {
   "cell_type": "code",
   "execution_count": 47,
   "id": "26180963",
   "metadata": {
    "ExecuteTime": {
     "end_time": "2023-09-02T23:22:32.975258Z",
     "start_time": "2023-09-02T23:22:30.760929Z"
    }
   },
   "outputs": [
    {
     "name": "stderr",
     "output_type": "stream",
     "text": [
      "100%|█████████████████████████████████████████████████████████████████████████████████████████████| 50/50 [00:01<00:00, 27.82it/s]\n"
     ]
    }
   ],
   "source": [
    "# Calculate accuracy\n",
    "acc_values = []\n",
    "for i in tqdm(range(initial_conditions)):\n",
    "    for s in range(steps):\n",
    "        actual_data = era5_t[random_indices[i] + s * dt]\n",
    "        predicted_data = pred_data[i, s]\n",
    "\n",
    "        correlation, _ = pearsonr(actual_data.flatten(), predicted_data.flatten())\n",
    "        acc_values.append(correlation)"
   ]
  },
  {
   "cell_type": "code",
   "execution_count": 48,
   "id": "317431be",
   "metadata": {
    "ExecuteTime": {
     "end_time": "2023-09-02T23:22:37.681134Z",
     "start_time": "2023-09-02T23:22:37.670265Z"
    }
   },
   "outputs": [],
   "source": [
    "tt = np.mean(acc_values)"
   ]
  },
  {
   "cell_type": "code",
   "execution_count": 49,
   "id": "6f402e11",
   "metadata": {
    "ExecuteTime": {
     "end_time": "2023-09-02T23:22:39.037863Z",
     "start_time": "2023-09-02T23:22:38.642068Z"
    }
   },
   "outputs": [
    {
     "data": {
      "text/plain": [
       "-0.04746939211496702"
      ]
     },
     "execution_count": 49,
     "metadata": {},
     "output_type": "execute_result"
    }
   ],
   "source": [
    "tt"
   ]
  },
  {
   "cell_type": "code",
   "execution_count": 50,
   "id": "29effece",
   "metadata": {
    "ExecuteTime": {
     "end_time": "2023-09-02T23:22:42.672037Z",
     "start_time": "2023-09-02T23:22:42.421274Z"
    }
   },
   "outputs": [
    {
     "data": {
      "text/plain": [
       "[0.43382065439902645,\n",
       " 0.5382613782793364,\n",
       " -0.1477817211645552,\n",
       " -0.09047264164290915,\n",
       " -0.3084115067874335,\n",
       " -0.46245111272081607,\n",
       " -0.7886719094854028,\n",
       " -0.600235716871462,\n",
       " -0.13299312567537813,\n",
       " -0.13846444393783414,\n",
       " -0.6417436289700011,\n",
       " -0.29983715333358213,\n",
       " 0.4699766788210823,\n",
       " 0.2302727987064994,\n",
       " 0.3703579288782894,\n",
       " 0.5752876848597315,\n",
       " 0.8111433990563455,\n",
       " 0.6773947195372136,\n",
       " 0.4294019267505129,\n",
       " 0.15319854392624888,\n",
       " 0.49254047291791425,\n",
       " 0.19761896579895966,\n",
       " 0.36217261133806067,\n",
       " 0.17033620967512972,\n",
       " 0.24436458445392467,\n",
       " -0.07381896397809626,\n",
       " -0.5147746156869716,\n",
       " -0.11673728565665045,\n",
       " -0.5364915486006894,\n",
       " 0.07252376343270964,\n",
       " -0.051623999221900196,\n",
       " -0.041338541898971466,\n",
       " -0.0821622787826248,\n",
       " -0.4152917417363947,\n",
       " -0.2621119705132494,\n",
       " -0.3367506601210079,\n",
       " -0.0382556163763909,\n",
       " 0.033120378335521436,\n",
       " -0.532732932277114,\n",
       " -0.6274216879835409,\n",
       " 0.4459726355909158,\n",
       " 0.24255996184773262,\n",
       " 0.3901193386569039,\n",
       " 0.504687192876065,\n",
       " -0.4149074975197896,\n",
       " 0.5523269184673196,\n",
       " -0.4655810120678039,\n",
       " -0.22345146982552996,\n",
       " -0.7487138735809179,\n",
       " -0.6212354051937532,\n",
       " -0.5518079546091597,\n",
       " -0.0965384282042592,\n",
       " -0.30794724893874,\n",
       " -0.09650035435811835,\n",
       " -0.10967197363034073,\n",
       " -0.23267292727702543,\n",
       " -0.08094620718584333,\n",
       " -0.34515567553904947,\n",
       " -0.18732047258119172,\n",
       " -0.1281828417045979,\n",
       " -0.4222581169623826,\n",
       " 0.5957212115091706,\n",
       " 0.26008105129711523,\n",
       " -0.09369061445730287,\n",
       " -0.3807350811229637,\n",
       " -0.625768424499198,\n",
       " -0.6377270837913271,\n",
       " -0.6294813382873092,\n",
       " -0.6260693346175037,\n",
       " -0.27469169664809473,\n",
       " -0.12021334570743286,\n",
       " -0.23035369192262325,\n",
       " 0.49192883147180944,\n",
       " -0.2884506947868707,\n",
       " 0.0008504521906566587,\n",
       " -0.47227465209360897,\n",
       " 0.04641634840299312,\n",
       " -0.4989200393108899,\n",
       " -0.39997314150739305,\n",
       " 0.08141921685371115,\n",
       " 0.07485092045249608,\n",
       " 0.506204503796875,\n",
       " 0.054243092360455936,\n",
       " 0.10532137744937461,\n",
       " -0.3145241293995773,\n",
       " 0.07206620778101283,\n",
       " 0.2986476718164329,\n",
       " 0.4966394561843771,\n",
       " 0.003152511605035562,\n",
       " -0.051304454458663315,\n",
       " -0.20591139925226168,\n",
       " -0.24196202367322084,\n",
       " -0.20331900120672555,\n",
       " 0.2922639771663207,\n",
       " 0.46198646789963493,\n",
       " 0.7442699043851368,\n",
       " 0.8303613793762368,\n",
       " 0.914408478132779,\n",
       " 0.8764953478289726,\n",
       " 0.21309657030988277,\n",
       " -0.03173108040253442,\n",
       " -0.1868330682620688,\n",
       " 0.23614951949574076,\n",
       " 0.06486188767887235,\n",
       " -0.37851086196767547,\n",
       " -0.10032315914651066,\n",
       " -0.18635729183773822,\n",
       " -0.48049774136090123,\n",
       " -0.5099893252500491,\n",
       " -0.24584583183579636,\n",
       " -0.1363352985292218,\n",
       " -0.21965628740856835,\n",
       " 0.002161323672673128,\n",
       " 0.3571815111136475,\n",
       " -0.4095395602463725,\n",
       " -0.1337662444399691,\n",
       " 0.0879715034736486,\n",
       " 0.19308671155164722,\n",
       " -0.044527779458046896,\n",
       " 0.4567215931109927,\n",
       " 0.14672497012603358,\n",
       " 0.2827805067995861,\n",
       " 0.26210938130817796,\n",
       " 0.14105779495156406,\n",
       " 0.250536577255861,\n",
       " -0.6492381087658781,\n",
       " 0.24792636588376465,\n",
       " -0.29947720754657636,\n",
       " 0.03958013162701293,\n",
       " -0.3404232731368816,\n",
       " 0.39931032548800305,\n",
       " 0.014087409950954002,\n",
       " 0.2505693234704368,\n",
       " -0.15511210082557117,\n",
       " 0.0063605707430687865,\n",
       " 0.15056527713898676,\n",
       " 0.17465885936437398,\n",
       " 0.11978405566768831,\n",
       " -0.19481093884059758,\n",
       " -0.09386607487414816,\n",
       " 0.5212170718791916,\n",
       " 0.405799087050222,\n",
       " 0.22955518859412302,\n",
       " 0.1413899641139989,\n",
       " -0.6002715063340072,\n",
       " 0.19980995967255882,\n",
       " -0.4708435564087282,\n",
       " 0.3996308376916068,\n",
       " -0.5696414615344709,\n",
       " -0.2548964624474383,\n",
       " -0.3913754393704668,\n",
       " -0.30056132448452477,\n",
       " -0.18219525682572135,\n",
       " -0.4473620405844505,\n",
       " -0.7558931245814628,\n",
       " -0.6457847837969168,\n",
       " -0.6841579040892533,\n",
       " -0.3530983379445769,\n",
       " 0.3103271103326625,\n",
       " 0.15224482816542195,\n",
       " 0.26807047169044446,\n",
       " 0.30263003772271524,\n",
       " 0.116340459784624,\n",
       " -0.14469803104844475,\n",
       " -0.59625071753174,\n",
       " -0.5743435088242539,\n",
       " -0.6308970138326986,\n",
       " -0.5090472689242358,\n",
       " -0.24760171112479978,\n",
       " -0.17480881631643452,\n",
       " 0.1348323284184595,\n",
       " 0.47340669528033225,\n",
       " 0.7475599499111829,\n",
       " 0.7005021037139234,\n",
       " 0.8300807049478942,\n",
       " 0.8480583960803695,\n",
       " 0.8258505369976952,\n",
       " 0.8621548565645154,\n",
       " 0.687769028612663,\n",
       " 0.8532299004359387,\n",
       " 0.12647115259216482,\n",
       " 0.23204227075227904,\n",
       " 0.05216170505205606,\n",
       " 0.03879160915123267,\n",
       " -0.43871164171571453,\n",
       " 0.18579424400024713,\n",
       " -0.3120234633566138,\n",
       " -0.5561146467861372,\n",
       " -0.45281998867650775,\n",
       " -0.43885376223496986,\n",
       " -0.11318191800907988,\n",
       " -0.2610652309250717,\n",
       " 0.42422844486465755,\n",
       " 0.438936662838093,\n",
       " 0.5916538855687729,\n",
       " 0.41732630600729104,\n",
       " 0.564274038178515,\n",
       " 0.8106239691550681,\n",
       " 0.8834533759395772,\n",
       " 0.8837429140441286,\n",
       " 0.03991630553608199,\n",
       " 0.39782953676845845,\n",
       " -0.024019974464190144,\n",
       " -0.16638499942772794,\n",
       " -0.2110294527273355,\n",
       " -0.391913138271467,\n",
       " -0.20435252335498041,\n",
       " -0.1720873071317526,\n",
       " -0.3699821663400188,\n",
       " -0.007262356196085635,\n",
       " -0.15836267634784668,\n",
       " 0.3107411005453269,\n",
       " 0.03317579609324202,\n",
       " -0.46963894941620454,\n",
       " 0.4162470579311519,\n",
       " -0.1378665234440553,\n",
       " -0.27993365888091837,\n",
       " 0.2847373163160283,\n",
       " -0.16871148989468954,\n",
       " -0.03606585366580892,\n",
       " 0.21203360327930848,\n",
       " -0.00047995595500716515,\n",
       " -0.2007273217994022,\n",
       " 0.2521533904211831,\n",
       " -0.5701622857266805,\n",
       " 0.32357443380533735,\n",
       " -0.3810553574333676,\n",
       " 0.1717694606805431,\n",
       " 0.029396010195840278,\n",
       " 0.09747844013189458,\n",
       " -0.22086201774752298,\n",
       " 0.29793768105148466,\n",
       " -0.17307412806586236,\n",
       " -0.0032688204096543274,\n",
       " -0.32845130640030884,\n",
       " -0.09224598105293998,\n",
       " -0.3908373844020367,\n",
       " -0.010634423585531492,\n",
       " -0.20999371040630158,\n",
       " -0.7642448426683645,\n",
       " 0.2461387709966997,\n",
       " 0.18762689600517754,\n",
       " 0.21532020828237342,\n",
       " 0.12799092510134216,\n",
       " 0.045257067501801425,\n",
       " -0.33220734015012465,\n",
       " -0.1607714436130712,\n",
       " -0.17896439211552548,\n",
       " -0.6166205116500203,\n",
       " -0.5034342227143376,\n",
       " -0.47691330705383805,\n",
       " -0.5897964088091538,\n",
       " -0.3518033161416968,\n",
       " -0.48673670516727724,\n",
       " 0.09467446494694191,\n",
       " 0.32268472958985694,\n",
       " 0.08458984629435234,\n",
       " 0.4701765128936489,\n",
       " 0.6621134865510676,\n",
       " 0.21791052662066468,\n",
       " 0.20402529865872165,\n",
       " 0.45930960554188693,\n",
       " -0.08425142865597202,\n",
       " 0.18553141410480875,\n",
       " -0.5864500602079272,\n",
       " 0.5449408945624159,\n",
       " -0.41074580146081996,\n",
       " 0.38764402871766934,\n",
       " 0.027935595710986597,\n",
       " 0.19901156031841039,\n",
       " 0.02919914691808572,\n",
       " -0.25019317763709176,\n",
       " 0.28823467671669156,\n",
       " -0.17647220947023995,\n",
       " -0.33994654797158635,\n",
       " -0.4122744394441517,\n",
       " 0.3016654272999705,\n",
       " 0.3595173521831062,\n",
       " 0.03610642765189802,\n",
       " -0.1269171447252691,\n",
       " 0.11827730524479185,\n",
       " 0.24556951163380414,\n",
       " -0.025116490180413238,\n",
       " -0.05532390840064466,\n",
       " -0.33478070341665955,\n",
       " -0.15601674879236951,\n",
       " -0.20516489731573528,\n",
       " -0.5972500074118742,\n",
       " -0.5416604776781617,\n",
       " -0.12326413736212385,\n",
       " 0.2941547317497545,\n",
       " -0.0017437133589872852,\n",
       " -0.20476402681412578,\n",
       " -0.5044468848133168,\n",
       " -0.305215298958774,\n",
       " -0.42326127353441156,\n",
       " 0.2562976242317763,\n",
       " -0.44691546197396403,\n",
       " 0.11799582269341101,\n",
       " -0.27027375390317077,\n",
       " 0.38893164503216016,\n",
       " 0.2762657705201006,\n",
       " 0.219586683564647,\n",
       " -0.12927994636835052,\n",
       " 0.05098971491383701,\n",
       " 0.4716971727432401,\n",
       " -0.43861708034355235,\n",
       " 0.20674254384439777,\n",
       " -0.26111933075217614,\n",
       " -0.33421752474247735,\n",
       " -0.06343668462043729,\n",
       " -0.38212748363021104,\n",
       " -0.27049916894338766,\n",
       " -0.06903454264429743,\n",
       " -0.33564235647402074,\n",
       " -0.6402953712189603,\n",
       " -0.6719375340774625,\n",
       " -0.5005104636320035,\n",
       " -0.1595213759259238,\n",
       " 0.399388399081653,\n",
       " 0.08607908527322225,\n",
       " 0.17185456465012833,\n",
       " 0.07667454135777307,\n",
       " -0.30882434514663276,\n",
       " -0.570539448696503,\n",
       " -0.47588259081970263,\n",
       " -0.8746618380438517,\n",
       " 0.06086380331235476,\n",
       " 0.16431004418376202,\n",
       " -0.2507998132119366,\n",
       " -0.181538265532855,\n",
       " -0.3708490403313589,\n",
       " -0.31613354457810383,\n",
       " -0.022791544671541382,\n",
       " 0.08950716765449736,\n",
       " -0.4348189296274524,\n",
       " -0.14035277051679917,\n",
       " -0.5257774217257094,\n",
       " 0.29914373092927105,\n",
       " -0.4903934728908217,\n",
       " 0.30249205791302936,\n",
       " 0.3483921661767322,\n",
       " -0.03185748115784554,\n",
       " 0.1577178839205979,\n",
       " 0.34649310767537744,\n",
       " -0.14281144226835152,\n",
       " -0.13967257944604117,\n",
       " -0.4044780922320901,\n",
       " -0.2064102528331183,\n",
       " -0.07117419423553861,\n",
       " -0.12426004457008041,\n",
       " -0.09098695036729493,\n",
       " -0.12931177728018692,\n",
       " 0.2521136251010993,\n",
       " 0.3560089874787755,\n",
       " 0.41038711497225705,\n",
       " 0.5967973364281889,\n",
       " 0.6773855686238281,\n",
       " 0.6825135791871635,\n",
       " 0.5032037225985737,\n",
       " 0.45704703927307544,\n",
       " 0.476460663897535,\n",
       " 0.3008423182470478,\n",
       " 0.11515022187005705,\n",
       " -0.040209295508840184,\n",
       " 0.1887426381880483,\n",
       " 0.5592968117338024,\n",
       " 0.3789267036643337,\n",
       " -0.3469545623881189,\n",
       " -0.7004422892036862,\n",
       " -0.7941669468822026,\n",
       " -0.5439919121220806,\n",
       " 0.15781131629336692,\n",
       " -0.0659991455940364,\n",
       " 0.6337879917187986,\n",
       " 0.589970990377638,\n",
       " 0.4432619216594974,\n",
       " 0.08401039049594125,\n",
       " 0.09815960377192359,\n",
       " 0.18589739870179453,\n",
       " -0.3127393397522279,\n",
       " -0.4041043294676539,\n",
       " -0.1285563302249881,\n",
       " 0.11250319178635429,\n",
       " 0.5279277767760508,\n",
       " -0.16268237777602568,\n",
       " -0.1959111134275215,\n",
       " -0.23897273470706715,\n",
       " -0.46102713789531646,\n",
       " -0.02032767750233791,\n",
       " -0.35860261048774555,\n",
       " 0.17350011885140015,\n",
       " -0.09139367637979205,\n",
       " 0.0390028087414873,\n",
       " -0.09546549166886314,\n",
       " -0.07262568464035102,\n",
       " -0.5443257120792766,\n",
       " -0.6693759158397619,\n",
       " -0.37155472477785384,\n",
       " -0.09709837705482995,\n",
       " -0.26805131471617855,\n",
       " 0.13529150116932784,\n",
       " -0.08873924666226456,\n",
       " -0.19086371184265932,\n",
       " 0.14387147137515177,\n",
       " -0.31204059927077743,\n",
       " -0.2701061673681693,\n",
       " -0.0572638865504886,\n",
       " -0.23750516912151054,\n",
       " -0.17570586286107567,\n",
       " -0.4477148625450212,\n",
       " -0.12767293678117342,\n",
       " -0.12821140398987413,\n",
       " -0.04096354319940803,\n",
       " 0.16084002658756355,\n",
       " -0.07786757124914684,\n",
       " 0.16181774427693643,\n",
       " -0.21604804548127116,\n",
       " -0.39456998037906493,\n",
       " 0.3164236670306858,\n",
       " 0.4468172630180408,\n",
       " 0.48109472000058223,\n",
       " 0.17308203610967704,\n",
       " 0.12641509781160196,\n",
       " 0.04579869586705264,\n",
       " -0.24889165697179935,\n",
       " -0.16239087439491792,\n",
       " -0.46032326332810314,\n",
       " -0.20204799989856637,\n",
       " -0.30863942449227955,\n",
       " -0.00905625963549514,\n",
       " -0.2362785050736826,\n",
       " 0.07880013279224041,\n",
       " 0.06454149701984052,\n",
       " 0.5063154841772796,\n",
       " -0.2982581952599681,\n",
       " -0.24359226515536386,\n",
       " -0.6033337199926507,\n",
       " -0.603958949330656,\n",
       " -0.28799042906011163,\n",
       " -0.12300246343077617,\n",
       " 0.33690005797244393,\n",
       " 0.11512840779389409,\n",
       " -0.01839713508905318,\n",
       " -0.240366742764292,\n",
       " -0.1458100415731039,\n",
       " -0.004496548935400515,\n",
       " 0.336032827287224,\n",
       " 0.4607454684175175,\n",
       " 0.4394232817438816,\n",
       " 0.3225804267590833,\n",
       " 0.4198467121281468,\n",
       " 0.22103496102079218,\n",
       " 0.37456185340640213,\n",
       " 0.4091370542247823,\n",
       " 0.37383919992803294,\n",
       " 0.010082015684916179,\n",
       " -0.5392906582030395,\n",
       " -0.7824020820897576,\n",
       " -0.8879381716106993,\n",
       " 0.42671546355483986,\n",
       " 0.33148841873470775,\n",
       " 0.18583675704684022,\n",
       " -0.03745813851702219,\n",
       " 0.42587594637510917,\n",
       " -0.28872806148350455,\n",
       " -0.45262192375189714,\n",
       " -0.5393602036502732,\n",
       " 0.016000380033732456,\n",
       " -0.4857773720739435,\n",
       " -0.631972592790676,\n",
       " -0.3916836534024487,\n",
       " -0.6739850397584788,\n",
       " 0.31030553239744896,\n",
       " 0.14174977768037023,\n",
       " 0.5345235195878306,\n",
       " 0.6466332737912177,\n",
       " 0.5079703149690385,\n",
       " -0.3993306588311171,\n",
       " 0.20178604441804826,\n",
       " 0.15189444076246417,\n",
       " 0.45463991583563756,\n",
       " 0.20658056634573524,\n",
       " 0.10690872165067611,\n",
       " 0.13933241189280285,\n",
       " -0.5870826924159745,\n",
       " 0.003202307980583163,\n",
       " -0.2110085682037327,\n",
       " -0.46930741557057226,\n",
       " -0.406885147189097,\n",
       " -0.5458647579558698,\n",
       " -0.4105845502815414,\n",
       " -0.5588329303976501,\n",
       " -0.2440943989339544,\n",
       " -0.5677224740130703,\n",
       " 0.17740184118959634,\n",
       " 0.25500160661018906,\n",
       " 0.07826545565849224,\n",
       " 0.1872278237191643,\n",
       " -0.49240908765318375,\n",
       " 0.18734542264506998,\n",
       " 0.382556606499887,\n",
       " -0.04535778697943471,\n",
       " -0.0024534581289770794,\n",
       " -0.3430165229552729,\n",
       " 0.11887063219798043,\n",
       " -0.30061010195165244,\n",
       " 0.5937385268280228,\n",
       " -0.21723330581137695,\n",
       " -0.3706518961976188,\n",
       " -0.535109876130947,\n",
       " -0.3875651687920342,\n",
       " 0.1994032581915538,\n",
       " -0.031362244333747166,\n",
       " -0.34959185960708117,\n",
       " -0.23349406823707874,\n",
       " -0.4123359619779139,\n",
       " -0.15086083114216484,\n",
       " -0.03361459453269657,\n",
       " -0.20446974965794373,\n",
       " 0.16350590450868965,\n",
       " 0.19767703917359492,\n",
       " 0.035484017863629466,\n",
       " 0.015574340591391098,\n",
       " -0.12383703728264728,\n",
       " 0.011720903506442726,\n",
       " 0.3411114657886391,\n",
       " -0.1415509573826904,\n",
       " 0.13294457291714312,\n",
       " -0.08653741631523479,\n",
       " 0.2503622688083959,\n",
       " -0.14129252720235685,\n",
       " -0.4398301370225335,\n",
       " -0.30332896476156257,\n",
       " 0.04739860936183078,\n",
       " 0.4746135665833392,\n",
       " 0.4732916518792433,\n",
       " 0.344513847518387,\n",
       " 0.31834170161478126,\n",
       " 0.6229393889538609,\n",
       " 0.3610642225089756,\n",
       " 0.41064034472780436,\n",
       " 0.06868402102807447,\n",
       " 0.10777630323746251,\n",
       " 0.2511924173775411,\n",
       " -0.5309298902763402,\n",
       " -0.164533084222581,\n",
       " -0.30852596404965604,\n",
       " -0.789177060150611,\n",
       " -0.8058945069136235,\n",
       " -0.8379114598244999,\n",
       " -0.6370398709113336,\n",
       " -0.08671150224951678,\n",
       " 0.2866736487939665,\n",
       " 0.19065495560181123,\n",
       " 0.03273828120732723,\n",
       " 0.07686528737054953,\n",
       " 0.3233557997969753,\n",
       " 0.4592172337835265,\n",
       " -0.09518452559010923,\n",
       " -0.2133518269189662,\n",
       " -0.014764762408958644,\n",
       " -0.31567494068995283,\n",
       " -0.23790052620524493,\n",
       " -0.049221247968557924,\n",
       " -0.5583526986047997,\n",
       " -0.21635736957868273,\n",
       " 0.23361087120170493,\n",
       " 0.3676333409118031,\n",
       " 0.1289160169081374,\n",
       " -0.09174410329191218,\n",
       " 0.2249930282799158,\n",
       " 0.19926696168203337,\n",
       " -0.02414756309738736,\n",
       " 0.12460214975330701,\n",
       " 0.03955395588535547,\n",
       " 0.32206584105787306,\n",
       " 0.6936445038181087,\n",
       " 0.2991188836534903,\n",
       " -0.31398557903065455,\n",
       " -0.17850230384003335,\n",
       " -0.2749682601026685,\n",
       " -0.2690784792603257,\n",
       " -0.07937457317315946,\n",
       " -0.07089298543671595,\n",
       " 0.09005280353230645,\n",
       " 0.005503353663640859,\n",
       " -0.26712580303747085,\n",
       " 0.15910923611271083,\n",
       " -0.25681362312975553,\n",
       " -0.16076743837858246,\n",
       " 0.11234988412528613,\n",
       " 0.12043209131171881,\n",
       " -0.02235023039323302,\n",
       " 0.00325811956753826,\n",
       " -0.3854190342657476,\n",
       " -0.11192594240890999,\n",
       " 0.08536934445281621,\n",
       " -0.3195390421629507,\n",
       " 0.07567445923157906,\n",
       " 0.3155303733550676,\n",
       " 0.3110697445204167,\n",
       " 0.16575894170914757,\n",
       " 0.22154529342587603,\n",
       " -0.5709734070697515,\n",
       " 0.3636285344181592,\n",
       " -0.21083467534096517,\n",
       " 0.2779467690432397,\n",
       " -0.2712515043060949,\n",
       " -0.1162162525123181,\n",
       " -0.540728455290967,\n",
       " -0.6471708817425792,\n",
       " -0.6533685911652695,\n",
       " -0.6278313758727692,\n",
       " -0.3558767884814936,\n",
       " -0.074207616278654,\n",
       " 0.2214445953266993,\n",
       " 0.6905033966961042,\n",
       " 0.6065222453945123,\n",
       " 0.6725014117177577,\n",
       " 0.09850425490647655,\n",
       " 0.4195342312598318,\n",
       " 0.20284345912941126,\n",
       " 0.3512035147434467,\n",
       " -0.41104365333855647,\n",
       " -0.04825099008543199,\n",
       " -0.4720367235617332,\n",
       " -0.07283671718178462,\n",
       " -0.2450906485527567,\n",
       " 0.031138310029955665,\n",
       " -0.05345647595429194,\n",
       " 0.5640424618203113,\n",
       " -0.4807202560321629,\n",
       " 0.049098751507986274,\n",
       " -0.14444009107050726,\n",
       " -0.6663335825730121,\n",
       " -0.15028161197768497,\n",
       " 0.37480234598057166,\n",
       " -0.04796716553134839,\n",
       " -0.07417448366724905,\n",
       " 0.38663111769663694,\n",
       " 0.19089053019202662,\n",
       " 0.26226598045678284,\n",
       " 0.23233287993299057,\n",
       " -0.2359134502339621,\n",
       " 0.3010330735152193,\n",
       " -0.4810374136950528,\n",
       " -0.21535733607846763,\n",
       " -0.4993691463258924,\n",
       " -0.2565029006966276,\n",
       " -0.27625597120349066,\n",
       " -0.3410047896487916,\n",
       " -0.2137211070405538,\n",
       " -0.21290806980391477,\n",
       " 0.16839510512463568,\n",
       " 0.3135206059510949,\n",
       " -0.39626255850973136,\n",
       " 0.3361546629930341,\n",
       " 0.4680346413814306,\n",
       " 0.22426474561269377,\n",
       " 0.2789605044299754,\n",
       " 0.2820281738983561,\n",
       " 0.11183526577706038,\n",
       " 0.1359847961835385,\n",
       " -0.04096432302730876,\n",
       " -0.4062004339591634,\n",
       " -0.3077567641896739,\n",
       " -0.6803539956096518,\n",
       " -0.025667643417926565,\n",
       " -0.23069458598432513,\n",
       " 0.5509902289751909,\n",
       " 0.018631482531488816,\n",
       " 0.3214414740870425,\n",
       " 0.37922356680091396,\n",
       " 0.31932163744134856,\n",
       " 0.2190226871187008,\n",
       " 0.15713879785200296,\n",
       " 0.24777418468928236,\n",
       " 0.3430978488524316,\n",
       " 0.6653439599258277,\n",
       " 0.3534196798461048,\n",
       " 0.5340156869759911,\n",
       " 0.2214853199489595,\n",
       " 0.282067674385749,\n",
       " 0.031877224651909224,\n",
       " -0.04978344705781735,\n",
       " -0.3346834676860339,\n",
       " -0.04538818011538865,\n",
       " -0.3570422344486093,\n",
       " 0.05321667341740369,\n",
       " -0.35626615992546207,\n",
       " -0.5142201234271322,\n",
       " -0.5211449865617293,\n",
       " -0.48064038210998716,\n",
       " -0.4904897303277935,\n",
       " -0.4072233443270106,\n",
       " -0.6119548773567934,\n",
       " -0.3463742825145919,\n",
       " -0.14959351898791381,\n",
       " 0.44406923476748267,\n",
       " 0.08500667944126858,\n",
       " 0.4166628556296982,\n",
       " 0.12673222551147661,\n",
       " -0.6148149117767945,\n",
       " 0.09342931386190448,\n",
       " -0.5974999348088881,\n",
       " -0.7870880061663416,\n",
       " 0.31781852409761263,\n",
       " -0.07607197676776567,\n",
       " 0.21053052450170745,\n",
       " -0.25908132010463114,\n",
       " -0.18016469704141239,\n",
       " -0.1614339326861118,\n",
       " -0.4365687435966116,\n",
       " -0.30675817582150544,\n",
       " -0.5577270825055294,\n",
       " -0.27663584780633976,\n",
       " 0.1271919091983995,\n",
       " 0.05604889933011256,\n",
       " -0.19074572938363193,\n",
       " 0.2525150252347891,\n",
       " -0.11886669119851703,\n",
       " 0.0650409482081595,\n",
       " -0.14813465563417189,\n",
       " -0.415099086061924,\n",
       " -0.2709548217113984,\n",
       " -0.4651936687372794,\n",
       " -0.3011988599761406,\n",
       " -0.22302193624357436,\n",
       " -0.524086777265022,\n",
       " -0.15696867550299898,\n",
       " -0.0444609638221284,\n",
       " -0.3776657063583517,\n",
       " 0.1128122931586429,\n",
       " -0.193728811525323,\n",
       " 0.24352871076682164,\n",
       " -0.4654369560168991,\n",
       " 0.0348217209029412,\n",
       " 0.011936461025256149,\n",
       " -0.43707138112766264,\n",
       " 0.025772249902791564,\n",
       " 0.07949844834077671,\n",
       " 0.26400298569664804,\n",
       " 0.20623734908148883,\n",
       " 0.34193045030802616,\n",
       " 0.2782309776252651,\n",
       " -0.07668347099241418,\n",
       " 0.26888186113330614,\n",
       " -0.020309517631782542,\n",
       " -0.5294030562963223,\n",
       " -0.19627868823587935,\n",
       " -0.2558906710938767,\n",
       " -0.46762387647559883,\n",
       " -0.5222211888580901,\n",
       " -0.25826676840631624,\n",
       " -0.13086192216914083,\n",
       " -0.25586178629194567,\n",
       " 0.19913178211961546,\n",
       " 0.1693216888912894,\n",
       " -0.3885857382883955,\n",
       " -0.2129768257596819,\n",
       " 0.04945423554217691,\n",
       " 0.04655353414654573,\n",
       " 0.055792971819878384,\n",
       " 0.1114300797324495,\n",
       " -0.08847568212595994,\n",
       " 0.10344882129943925,\n",
       " 0.1683094708554746,\n",
       " -0.16056545187460913,\n",
       " -0.31854451817052876,\n",
       " -0.6693754470452099,\n",
       " -0.32012779435839894,\n",
       " 0.08217513231756571,\n",
       " -0.46830425935653885,\n",
       " -0.4193263047027922,\n",
       " -0.6310638148920251,\n",
       " 0.17994597528462614,\n",
       " -0.42520593910106136,\n",
       " 0.3125803158563737,\n",
       " -0.45569283022214946,\n",
       " 0.023273340949712992,\n",
       " 0.40210425239806735,\n",
       " 0.0803303474782635,\n",
       " -0.05386054921387866,\n",
       " -0.4002618705781723,\n",
       " 0.07937855305621788,\n",
       " -0.6767001351939012,\n",
       " -0.27489902182578424,\n",
       " -0.5551210581955449,\n",
       " 0.19514279090834608,\n",
       " -0.2658447098913207,\n",
       " 0.006772882622883067,\n",
       " -0.36782360256245183,\n",
       " -0.8456190569598848,\n",
       " -0.8299696183222578,\n",
       " -0.7803375499584005,\n",
       " -0.5273839927535524,\n",
       " -0.40299309681263773,\n",
       " 0.2867623104473031,\n",
       " 0.40226427656193875,\n",
       " 0.36185070841792505,\n",
       " 0.5108078627142082,\n",
       " 0.12365688484640897,\n",
       " -0.15393878866237065,\n",
       " -0.08353809535100634,\n",
       " -0.5557680117943011,\n",
       " -0.1585667912925117,\n",
       " -0.46128551745965884,\n",
       " -0.09165591555685013,\n",
       " -0.09592297943563097,\n",
       " 0.10786850118229552,\n",
       " -0.2551124733043742,\n",
       " -0.02759725814824737,\n",
       " -0.01423560045592368,\n",
       " -0.011055397422561005,\n",
       " -0.4813703280747133,\n",
       " -0.6586877751807304,\n",
       " -0.5929998187961453,\n",
       " -0.5894220202862226,\n",
       " -0.1748269597187846,\n",
       " 0.44814580341970334,\n",
       " -0.026452001893589372,\n",
       " 0.2469768643604772,\n",
       " 0.5208676190229344,\n",
       " 0.0449202396017743,\n",
       " 0.3296471460496766,\n",
       " 0.4321474908716213,\n",
       " 0.06985378875786158,\n",
       " -0.0018901431349232973,\n",
       " -0.12249324809824345,\n",
       " -0.1403561093078331,\n",
       " -0.2766821203957034,\n",
       " -0.10071957679797715,\n",
       " -0.29498916536378145,\n",
       " -0.3105089654538209,\n",
       " -0.011634233292382612,\n",
       " -0.18708397234039287,\n",
       " -0.07490524823560375,\n",
       " -0.02578116301874647,\n",
       " -0.3745641997001126,\n",
       " -0.18650706277703416,\n",
       " 0.14381162259879193,\n",
       " -0.05476103216951391,\n",
       " -0.28419792534836774,\n",
       " -0.07421061102064004,\n",
       " -0.2317541674947252,\n",
       " -0.34113348854597003,\n",
       " 0.044425466076003645,\n",
       " -0.6458241763712901,\n",
       " -0.13424391264096625,\n",
       " -0.610386313289837,\n",
       " -0.6967196647652505,\n",
       " -0.7788685196927823,\n",
       " -0.7667547793730658,\n",
       " -0.43622432195885924,\n",
       " -0.734650281971206,\n",
       " -0.6242595913685074,\n",
       " 0.06439489778369642,\n",
       " 0.047175060979155845,\n",
       " 0.17992611840556508,\n",
       " 0.32282115067991524,\n",
       " 0.21551056983690212,\n",
       " -0.32921278203154414,\n",
       " 0.237815274357776,\n",
       " -0.4843464692611805,\n",
       " -0.41472843003052284,\n",
       " -0.5529115907037507,\n",
       " -0.47723504421448815,\n",
       " -0.5569010250003372,\n",
       " -0.06664633926465888,\n",
       " 0.41952188013440606,\n",
       " -0.13192878302161481,\n",
       " -0.2893539162521399,\n",
       " -0.03976007338785617,\n",
       " 0.39184658088569313,\n",
       " 0.10203868047819503,\n",
       " 0.18815601668201548,\n",
       " -0.34020281551284565,\n",
       " -0.19395966647177687,\n",
       " -0.47375788451547485,\n",
       " -0.10931219087598024,\n",
       " 0.5681063119014872,\n",
       " 0.13827456340170594,\n",
       " 0.033281053112767085,\n",
       " -0.3583009549581558,\n",
       " -0.4633607104354795,\n",
       " 0.2659608726195769,\n",
       " 0.3038348242957672,\n",
       " 0.4947054429404053,\n",
       " 0.0752249109142403,\n",
       " -0.2820215717824398,\n",
       " 0.08997830518101776,\n",
       " 0.5043846862107417,\n",
       " 0.38857401866275,\n",
       " 0.6434302924126284,\n",
       " 0.6573344122628973,\n",
       " 0.5814474786656332,\n",
       " 0.7863494783207692,\n",
       " 0.8395799731732955,\n",
       " 0.8000349234991437,\n",
       " -0.13360937807458417,\n",
       " 0.23077126673520265,\n",
       " 0.007983680635132707,\n",
       " -0.19585803972506374,\n",
       " -0.026539029859464477,\n",
       " 0.17535279845134893,\n",
       " -0.20817461864573167,\n",
       " 0.30633561540194715,\n",
       " 0.2637512877261554,\n",
       " 0.019704181624022314,\n",
       " -0.3719746335829885,\n",
       " -0.3839468156633432,\n",
       " 0.28224632586588916,\n",
       " 0.5509698863595751,\n",
       " 0.38990705121452407,\n",
       " -0.13703890776772887,\n",
       " -0.1990110898788978,\n",
       " 0.34729125417761986,\n",
       " 0.3881435475149455,\n",
       " 0.12625698195171076,\n",
       " 0.40825493336765817,\n",
       " 0.46542587291193893,\n",
       " 0.24860126392320048,\n",
       " 0.05703766629362763,\n",
       " 0.02520283768497063,\n",
       " -0.4142486602245355,\n",
       " 0.31055346622302354,\n",
       " -0.17541967695949,\n",
       " -0.15758760722956883,\n",
       " -0.34607977520725947,\n",
       " 0.42533936064165934,\n",
       " 0.03591639443850282,\n",
       " 0.1596704609930331,\n",
       " -0.28877428017851764,\n",
       " -0.3947957212200054,\n",
       " -0.5564656689853409,\n",
       " -0.10155570946902433,\n",
       " 0.10544413762819518,\n",
       " -0.3459824583828621,\n",
       " 0.4068930848985818,\n",
       " 0.37054092051341847,\n",
       " 0.4478781012756464,\n",
       " 0.09905440775535887,\n",
       " 0.02361791933786183,\n",
       " -0.2677603736101758,\n",
       " 0.08988644075191324,\n",
       " -0.24425883087674166,\n",
       " 0.0566743688837124,\n",
       " 0.07958179383840393,\n",
       " -0.13481695905452667,\n",
       " -0.036881404979535556,\n",
       " -0.28807047005184516,\n",
       " -0.10958028535789788,\n",
       " -0.5883224380613503,\n",
       " -0.5024595733324551,\n",
       " -0.5359822527929522,\n",
       " -0.6343566181287283,\n",
       " -0.18318678516327314,\n",
       " 0.2714406701614434,\n",
       " 0.45145053099665267,\n",
       " 0.40741985578714035,\n",
       " 0.4249311342260757,\n",
       " -0.015874141924463733,\n",
       " -0.142041914187921,\n",
       " -0.42364814264867523,\n",
       " -0.26981945661697126,\n",
       " -0.22500598658732468,\n",
       " -0.0691952722112335,\n",
       " -0.5593644410927353,\n",
       " 0.11298986379710918,\n",
       " -0.4962303413767053,\n",
       " -0.1349776657807737,\n",
       " -0.23138911703006199,\n",
       " -0.31183908284410555,\n",
       " -0.18894371857948275,\n",
       " -0.12052553293074243,\n",
       " 0.08499715006191301,\n",
       " -0.4888863056969179,\n",
       " -0.018782956368584416,\n",
       " 0.1539236930522644,\n",
       " 0.19859364033025556,\n",
       " 0.3562349911636718,\n",
       " 0.10523771310593474,\n",
       " 0.2631182548038648,\n",
       " -0.12069204422191288,\n",
       " 0.4810383750332873,\n",
       " -0.011690067705482931,\n",
       " -0.04835934004040917,\n",
       " -0.2890465020262622,\n",
       " -0.15028147177428516,\n",
       " -0.32097800645819474,\n",
       " -0.13574476569286295,\n",
       " 0.14193575255526944,\n",
       " -0.5079446666538066,\n",
       " -0.5078459411221892,\n",
       " -0.1570997777761599,\n",
       " -0.8657303125771992,\n",
       " -0.647391717834901,\n",
       " -0.6233036701184762,\n",
       " -0.5164623771426844]"
      ]
     },
     "execution_count": 50,
     "metadata": {},
     "output_type": "execute_result"
    }
   ],
   "source": [
    "acc_values"
   ]
  },
  {
   "cell_type": "code",
   "execution_count": 56,
   "id": "64d85437",
   "metadata": {
    "ExecuteTime": {
     "end_time": "2023-09-02T23:10:53.470253Z",
     "start_time": "2023-09-02T23:10:53.451739Z"
    }
   },
   "outputs": [
    {
     "data": {
      "text/plain": [
       "500"
      ]
     },
     "execution_count": 56,
     "metadata": {},
     "output_type": "execute_result"
    }
   ],
   "source": [
    "len(acc_values)"
   ]
  },
  {
   "cell_type": "code",
   "execution_count": 60,
   "id": "43519cd9",
   "metadata": {
    "ExecuteTime": {
     "end_time": "2023-09-02T23:13:24.646976Z",
     "start_time": "2023-09-02T23:13:24.621098Z"
    }
   },
   "outputs": [],
   "source": [
    "def calculate_acc(era5_data, stn_model_data, model_weight):\n",
    "    # acc_value = 1 - np.mean(np.abs(input_value))\n",
    "\n",
    "    # Load model\n",
    "    model = stn()\n",
    "    model.load_weights(model_weight)\n",
    "\n",
    "    random_seed = 42\n",
    "    np.random.seed(random_seed)\n",
    "\n",
    "    # Set time step\n",
    "    time_step = 240\n",
    "    dt = 24\n",
    "    steps = time_step // dt\n",
    "    count = 0\n",
    "\n",
    "    # Load data\n",
    "\n",
    "    era5_value = xr.open_dataset(era5_data)\n",
    "    era5_t = np.asarray(era5_value[\"t\"])\n",
    "\n",
    "    # Select 50 initial conditions randomly\n",
    "    initial_conditions = 50\n",
    "    random_indices = np.random.choice(\n",
    "        era5_t.shape[0] - 240,\n",
    "        size=initial_conditions,\n",
    "        replace=False,  # -240 to ensure enough range for prediction\n",
    "    )\n",
    "\n",
    "    pred_data = np.zeros([initial_conditions, steps, 32, 64])\n",
    "\n",
    "    for idx, start_t in tqdm(enumerate(random_indices)):\n",
    "        current_data = era5_t[start_t].reshape(1, 32, 64, 1)\n",
    "        for s in range(steps):\n",
    "            # Using the current data to predict the data for 24 hours later\n",
    "            pred_data[idx, s] = model.predict(current_data).squeeze()\n",
    "            # The predicted data is the current data for the next iteration\n",
    "            current_data = pred_data[idx, s].reshape(1, 32, 64, 1)\n",
    "\n",
    "    # Calculate accuracy\n",
    "    acc_values = []\n",
    "    for i in tqdm(range(initial_conditions)):\n",
    "        for s in range(steps):\n",
    "            actual_data = era5_t[random_indices[i] + s * dt]\n",
    "            predicted_data = pred_data[i, s]\n",
    "\n",
    "            correlation, _ = pearsonr(actual_data.flatten(), predicted_data.flatten())\n",
    "            acc_values.append(correlation)\n",
    "\n",
    "    return acc_values"
   ]
  },
  {
   "cell_type": "code",
   "execution_count": 37,
   "id": "05e247da",
   "metadata": {
    "ExecuteTime": {
     "end_time": "2023-09-02T23:18:34.765642Z",
     "start_time": "2023-09-02T23:18:34.740116Z"
    }
   },
   "outputs": [
    {
     "data": {
      "text/plain": [
       "-0.069554518191299"
      ]
     },
     "execution_count": 37,
     "metadata": {},
     "output_type": "execute_result"
    }
   ],
   "source": [
    "np.mean(acc_values)"
   ]
  },
  {
   "cell_type": "code",
   "execution_count": null,
   "id": "392d3835",
   "metadata": {},
   "outputs": [],
   "source": []
  }
 ],
 "metadata": {
  "hide_input": false,
  "kernelspec": {
   "display_name": "Python 3 (ipykernel)",
   "language": "python",
   "name": "python3"
  },
  "language_info": {
   "codemirror_mode": {
    "name": "ipython",
    "version": 3
   },
   "file_extension": ".py",
   "mimetype": "text/x-python",
   "name": "python",
   "nbconvert_exporter": "python",
   "pygments_lexer": "ipython3",
   "version": "3.7.12"
  },
  "nbTranslate": {
   "displayLangs": [
    "*"
   ],
   "hotkey": "alt-t",
   "langInMainMenu": true,
   "sourceLang": "en",
   "targetLang": "fr",
   "useGoogleTranslate": true
  },
  "toc": {
   "base_numbering": 1,
   "nav_menu": {},
   "number_sections": true,
   "sideBar": true,
   "skip_h1_title": false,
   "title_cell": "Table of Contents",
   "title_sidebar": "Contents",
   "toc_cell": false,
   "toc_position": {},
   "toc_section_display": true,
   "toc_window_display": false
  },
  "varInspector": {
   "cols": {
    "lenName": 16,
    "lenType": 16,
    "lenVar": 40
   },
   "kernels_config": {
    "python": {
     "delete_cmd_postfix": "",
     "delete_cmd_prefix": "del ",
     "library": "var_list.py",
     "varRefreshCmd": "print(var_dic_list())"
    },
    "r": {
     "delete_cmd_postfix": ") ",
     "delete_cmd_prefix": "rm(",
     "library": "var_list.r",
     "varRefreshCmd": "cat(var_dic_list()) "
    }
   },
   "types_to_exclude": [
    "module",
    "function",
    "builtin_function_or_method",
    "instance",
    "_Feature"
   ],
   "window_display": false
  }
 },
 "nbformat": 4,
 "nbformat_minor": 5
}
