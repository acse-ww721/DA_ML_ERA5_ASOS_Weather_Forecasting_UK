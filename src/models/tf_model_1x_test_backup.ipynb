{
 "cells": [
  {
   "cell_type": "markdown",
   "id": "9aa27d5e",
   "metadata": {},
   "source": [
    "# Unet_STN_12"
   ]
  },
  {
   "cell_type": "markdown",
   "id": "e65deb56",
   "metadata": {},
   "source": [
    "## Environment settings"
   ]
  },
  {
   "cell_type": "code",
   "execution_count": 1,
   "id": "3aaa806e",
   "metadata": {
    "ExecuteTime": {
     "end_time": "2023-08-30T22:07:38.028628Z",
     "start_time": "2023-08-30T22:07:38.009616Z"
    }
   },
   "outputs": [],
   "source": [
    "# Basic setting for Jupyter_notebook to import utils\n",
    "import os\n",
    "import sys\n",
    "\n",
    "notebook_path = os.path.abspath(\"\")\n",
    "project_root = os.path.abspath(os.path.join(notebook_path, \"../../\"))\n",
    "\n",
    "sys.path.append(project_root)"
   ]
  },
  {
   "cell_type": "code",
   "execution_count": 4,
   "id": "19831d32",
   "metadata": {
    "ExecuteTime": {
     "end_time": "2023-08-30T22:07:39.667111Z",
     "start_time": "2023-08-30T22:07:39.653067Z"
    }
   },
   "outputs": [],
   "source": [
    "import sys\n",
    "import os\n",
    "import xarray as xr\n",
    "import numpy as np\n",
    "import pandas as pd\n",
    "import netCDF4 as nc\n",
    "import matplotlib.pyplot as plt\n",
    "import xarray as xr\n",
    "import scipy.io as sio\n",
    "from tqdm import tqdm\n",
    "from utils import folder_utils"
   ]
  },
  {
   "cell_type": "code",
   "execution_count": 5,
   "id": "fdca99b0",
   "metadata": {
    "ExecuteTime": {
     "end_time": "2023-08-30T22:07:39.791115Z",
     "start_time": "2023-08-30T22:07:39.783113Z"
    }
   },
   "outputs": [],
   "source": [
    "# Example usage\n",
    "\n",
    "country = \"GB\"\n",
    "data_folder = \"data\"\n",
    "data_test_category = \"test_data\"\n",
    "data_read_category = \"raw_data\"\n",
    "data_save_category = \"processed_data\"\n",
    "output_folder = \"ERA5_DATA\"\n",
    "ddeg_out_lat = 0.25\n",
    "ddeg_out_lon = 0.125"
   ]
  },
  {
   "cell_type": "code",
   "execution_count": 6,
   "id": "f685f847",
   "metadata": {
    "ExecuteTime": {
     "end_time": "2023-08-30T22:07:41.529674Z",
     "start_time": "2023-08-30T22:07:40.809932Z"
    }
   },
   "outputs": [
    {
     "name": "stderr",
     "output_type": "stream",
     "text": [
      "D:\\anaconda3\\envs\\py37\\lib\\site-packages\\tensorflow\\python\\framework\\dtypes.py:526: FutureWarning: Passing (type, 1) or '1type' as a synonym of type is deprecated; in a future version of numpy, it will be understood as (type, (1,)) / '(1,)type'.\n",
      "  _np_qint8 = np.dtype([(\"qint8\", np.int8, 1)])\n",
      "D:\\anaconda3\\envs\\py37\\lib\\site-packages\\tensorflow\\python\\framework\\dtypes.py:527: FutureWarning: Passing (type, 1) or '1type' as a synonym of type is deprecated; in a future version of numpy, it will be understood as (type, (1,)) / '(1,)type'.\n",
      "  _np_quint8 = np.dtype([(\"quint8\", np.uint8, 1)])\n",
      "D:\\anaconda3\\envs\\py37\\lib\\site-packages\\tensorflow\\python\\framework\\dtypes.py:528: FutureWarning: Passing (type, 1) or '1type' as a synonym of type is deprecated; in a future version of numpy, it will be understood as (type, (1,)) / '(1,)type'.\n",
      "  _np_qint16 = np.dtype([(\"qint16\", np.int16, 1)])\n",
      "D:\\anaconda3\\envs\\py37\\lib\\site-packages\\tensorflow\\python\\framework\\dtypes.py:529: FutureWarning: Passing (type, 1) or '1type' as a synonym of type is deprecated; in a future version of numpy, it will be understood as (type, (1,)) / '(1,)type'.\n",
      "  _np_quint16 = np.dtype([(\"quint16\", np.uint16, 1)])\n",
      "D:\\anaconda3\\envs\\py37\\lib\\site-packages\\tensorflow\\python\\framework\\dtypes.py:530: FutureWarning: Passing (type, 1) or '1type' as a synonym of type is deprecated; in a future version of numpy, it will be understood as (type, (1,)) / '(1,)type'.\n",
      "  _np_qint32 = np.dtype([(\"qint32\", np.int32, 1)])\n",
      "D:\\anaconda3\\envs\\py37\\lib\\site-packages\\tensorflow\\python\\framework\\dtypes.py:535: FutureWarning: Passing (type, 1) or '1type' as a synonym of type is deprecated; in a future version of numpy, it will be understood as (type, (1,)) / '(1,)type'.\n",
      "  np_resource = np.dtype([(\"resource\", np.ubyte, 1)])\n",
      "Using TensorFlow backend.\n"
     ]
    }
   ],
   "source": [
    "import tensorflow\n",
    "import keras.backend as K\n",
    "# from tensorflow.contrib import keras\n",
    "# from tensorflow.contrib.keras import backend as K\n",
    "\n",
    "#from data_manager import ClutteredMNIST\n",
    "#from visualizer import plot_mnist_sample\n",
    "#from visualizer import print_evaluation\n",
    "#from visualizer import plot_mnist_grid\n",
    "# import netCDF4 as nc\n",
    "\n",
    "from keras.layers import Input, Convolution2D, Convolution1D, MaxPooling2D, Dense, Dropout, \\\n",
    "                          Flatten, concatenate, Activation, Reshape, \\\n",
    "                          UpSampling2D,ZeroPadding2D\n",
    "import keras\n",
    "from keras.callbacks import History\n",
    "history = History()\n",
    "\n",
    "import keras\n",
    "from keras.layers import Conv2D, Conv2DTranspose, Cropping2D, Concatenate, ZeroPadding2D\n",
    "from keras.models import load_model\n",
    "from keras.layers import Input\n",
    "from keras.models import Model\n",
    "from keras.layers import Activation\n",
    "from keras.layers import MaxPool2D\n",
    "from keras.layers import Flatten\n",
    "from keras.layers import Conv2D\n",
    "from keras.layers import Dense\n",
    "\n",
    "from utils import model_utils_tf\n",
    "from bilinear_interpolation_1x import BilinearInterpolation"
   ]
  },
  {
   "cell_type": "markdown",
   "id": "ee7c98aa",
   "metadata": {},
   "source": [
    "## Model loading"
   ]
  },
  {
   "cell_type": "code",
   "execution_count": 7,
   "id": "cab469b6",
   "metadata": {
    "ExecuteTime": {
     "end_time": "2023-08-30T22:07:44.857929Z",
     "start_time": "2023-08-30T22:07:44.842025Z"
    }
   },
   "outputs": [],
   "source": [
    "def get_initial_weights(output_size):\n",
    "    b = np.zeros((2, 3), dtype='float32')\n",
    "    b[0, 0] = 1\n",
    "    b[1, 1] = 1\n",
    "    W = np.zeros((output_size, 6), dtype='float32')\n",
    "    weights = [W, b.flatten()]\n",
    "    return weights"
   ]
  },
  {
   "cell_type": "code",
   "execution_count": 8,
   "id": "bbdabaa5",
   "metadata": {
    "ExecuteTime": {
     "end_time": "2023-08-30T22:07:45.455256Z",
     "start_time": "2023-08-30T22:07:45.439253Z"
    }
   },
   "outputs": [],
   "source": [
    "losses = []  # Save the loss per epoch\n",
    "val_losses = []  # Save the val_loss per epoch"
   ]
  },
  {
   "cell_type": "code",
   "execution_count": 9,
   "id": "37500c3d",
   "metadata": {
    "ExecuteTime": {
     "end_time": "2023-08-30T22:07:46.019273Z",
     "start_time": "2023-08-30T22:07:45.989665Z"
    }
   },
   "outputs": [],
   "source": [
    "def stn(input_shape=(32, 64, 1), sampling_size=(8, 16), num_classes=10):\n",
    "    inputs = Input(shape=input_shape)\n",
    "    conv1 = Convolution2D(32, 5, 5, activation='relu', border_mode='same')(inputs)\n",
    "    conv1 = Convolution2D(32, 5, 5, activation='relu', border_mode='same')(conv1)\n",
    "    pool1 = MaxPooling2D(pool_size=(2, 2))(conv1)\n",
    "\n",
    "    conv2 = Convolution2D(32, 5, 5, activation='relu', border_mode='same')(pool1)\n",
    "    conv2 = Convolution2D(32, 5, 5, activation='relu', border_mode='same')(conv2)\n",
    "    pool2 = MaxPooling2D(pool_size=(2, 2))(conv2)\n",
    "\n",
    "    conv3 = Convolution2D(32, 5, 5, activation='relu', border_mode='same')(pool2)\n",
    "#     conv3 = Convolution2D(32, 5, 5, activation='relu', border_mode='same')(conv3)\n",
    "\n",
    "\n",
    "    conv5 = Convolution2D(32, 5, 5, activation='relu', border_mode='same')(conv3)\n",
    "#     conv5 = Convolution2D(32, 5, 5, activation='relu', border_mode='same')(conv5)\n",
    "    \n",
    "    locnet = Flatten()(conv5)\n",
    "    locnet = Dense(500)(locnet)\n",
    "    locnet = Activation('relu')(locnet)\n",
    "    locnet = Dense(200)(locnet)\n",
    "    locnet = Activation('relu')(locnet)\n",
    "    locnet = Dense(100)(locnet)\n",
    "    locnet = Activation('relu')(locnet)\n",
    "    locnet = Dense(50)(locnet)\n",
    "    locnet = Activation('relu')(locnet)\n",
    "    weights = get_initial_weights(50)\n",
    "    locnet = Dense(6, weights=weights)(locnet)\n",
    "    x = BilinearInterpolation(sampling_size)([inputs, locnet])\n",
    "\n",
    "\n",
    "    up6 = keras.layers.Concatenate(axis=-1)([Convolution2D(32, 2, 2,activation='relu', border_mode='same')(UpSampling2D(size=(2, 2))(x)), conv2])\n",
    "    conv6 = Convolution2D(32, 5, 5, activation='relu', border_mode='same')(up6)\n",
    "    conv6 = Convolution2D(32, 5, 5, activation='relu', border_mode='same')(conv6)\n",
    "\n",
    "    up7 = keras.layers.Concatenate(axis=-1)([Convolution2D(32, 2, 2,activation='relu', border_mode='same')(UpSampling2D(size=(2, 2))(conv6)), conv1])\n",
    "    conv7 = Convolution2D(32, 5, 5, activation='relu', border_mode='same')(up7)\n",
    "    conv7 = Convolution2D(32, 5, 5, activation='relu', border_mode='same')(conv7)\n",
    "\n",
    "\n",
    "\n",
    "    conv10 = Convolution2D(1, 5, 5, activation='linear',border_mode='same')(conv7)\n",
    "\n",
    "    model = Model(input=inputs, output=conv10)\n",
    "\n",
    "\n",
    "\n",
    "    return model"
   ]
  },
  {
   "cell_type": "code",
   "execution_count": 10,
   "id": "1b3a34bd",
   "metadata": {
    "ExecuteTime": {
     "end_time": "2023-08-30T22:07:46.853595Z",
     "start_time": "2023-08-30T22:07:46.586090Z"
    }
   },
   "outputs": [
    {
     "name": "stdout",
     "output_type": "stream",
     "text": [
      "WARNING:tensorflow:From D:\\anaconda3\\envs\\py37\\lib\\site-packages\\tensorflow\\python\\framework\\op_def_library.py:263: colocate_with (from tensorflow.python.framework.ops) is deprecated and will be removed in a future version.\n",
      "Instructions for updating:\n",
      "Colocations handled automatically by placer.\n"
     ]
    },
    {
     "name": "stderr",
     "output_type": "stream",
     "text": [
      "D:\\anaconda3\\envs\\py37\\lib\\site-packages\\ipykernel_launcher.py:3: UserWarning: Update your `Conv2D` call to the Keras 2 API: `Conv2D(32, (5, 5), activation=\"relu\", padding=\"same\")`\n",
      "  This is separate from the ipykernel package so we can avoid doing imports until\n",
      "D:\\anaconda3\\envs\\py37\\lib\\site-packages\\ipykernel_launcher.py:4: UserWarning: Update your `Conv2D` call to the Keras 2 API: `Conv2D(32, (5, 5), activation=\"relu\", padding=\"same\")`\n",
      "  after removing the cwd from sys.path.\n",
      "D:\\anaconda3\\envs\\py37\\lib\\site-packages\\ipykernel_launcher.py:7: UserWarning: Update your `Conv2D` call to the Keras 2 API: `Conv2D(32, (5, 5), activation=\"relu\", padding=\"same\")`\n",
      "  import sys\n",
      "D:\\anaconda3\\envs\\py37\\lib\\site-packages\\ipykernel_launcher.py:8: UserWarning: Update your `Conv2D` call to the Keras 2 API: `Conv2D(32, (5, 5), activation=\"relu\", padding=\"same\")`\n",
      "  \n",
      "D:\\anaconda3\\envs\\py37\\lib\\site-packages\\ipykernel_launcher.py:11: UserWarning: Update your `Conv2D` call to the Keras 2 API: `Conv2D(32, (5, 5), activation=\"relu\", padding=\"same\")`\n",
      "  # This is added back by InteractiveShellApp.init_path()\n",
      "D:\\anaconda3\\envs\\py37\\lib\\site-packages\\ipykernel_launcher.py:15: UserWarning: Update your `Conv2D` call to the Keras 2 API: `Conv2D(32, (5, 5), activation=\"relu\", padding=\"same\")`\n",
      "  from ipykernel import kernelapp as app\n",
      "D:\\anaconda3\\envs\\py37\\lib\\site-packages\\ipykernel_launcher.py:32: UserWarning: Update your `Conv2D` call to the Keras 2 API: `Conv2D(32, (2, 2), activation=\"relu\", padding=\"same\")`\n",
      "D:\\anaconda3\\envs\\py37\\lib\\site-packages\\ipykernel_launcher.py:33: UserWarning: Update your `Conv2D` call to the Keras 2 API: `Conv2D(32, (5, 5), activation=\"relu\", padding=\"same\")`\n",
      "D:\\anaconda3\\envs\\py37\\lib\\site-packages\\ipykernel_launcher.py:34: UserWarning: Update your `Conv2D` call to the Keras 2 API: `Conv2D(32, (5, 5), activation=\"relu\", padding=\"same\")`\n"
     ]
    },
    {
     "name": "stdout",
     "output_type": "stream",
     "text": [
      "__________________________________________________________________________________________________\n",
      "Layer (type)                    Output Shape         Param #     Connected to                     \n",
      "==================================================================================================\n",
      "input_1 (InputLayer)            (None, 32, 64, 1)    0                                            \n",
      "__________________________________________________________________________________________________\n",
      "conv2d_1 (Conv2D)               (None, 32, 64, 32)   832         input_1[0][0]                    \n",
      "__________________________________________________________________________________________________\n",
      "conv2d_2 (Conv2D)               (None, 32, 64, 32)   25632       conv2d_1[0][0]                   \n",
      "__________________________________________________________________________________________________\n",
      "max_pooling2d_1 (MaxPooling2D)  (None, 16, 32, 32)   0           conv2d_2[0][0]                   \n",
      "__________________________________________________________________________________________________\n",
      "conv2d_3 (Conv2D)               (None, 16, 32, 32)   25632       max_pooling2d_1[0][0]            \n",
      "__________________________________________________________________________________________________\n",
      "conv2d_4 (Conv2D)               (None, 16, 32, 32)   25632       conv2d_3[0][0]                   \n",
      "__________________________________________________________________________________________________\n",
      "max_pooling2d_2 (MaxPooling2D)  (None, 8, 16, 32)    0           conv2d_4[0][0]                   \n",
      "__________________________________________________________________________________________________\n",
      "conv2d_5 (Conv2D)               (None, 8, 16, 32)    25632       max_pooling2d_2[0][0]            \n",
      "__________________________________________________________________________________________________\n",
      "conv2d_6 (Conv2D)               (None, 8, 16, 32)    25632       conv2d_5[0][0]                   \n",
      "__________________________________________________________________________________________________\n",
      "flatten_1 (Flatten)             (None, 4096)         0           conv2d_6[0][0]                   \n",
      "__________________________________________________________________________________________________\n",
      "dense_1 (Dense)                 (None, 500)          2048500     flatten_1[0][0]                  \n",
      "__________________________________________________________________________________________________\n",
      "activation_1 (Activation)       (None, 500)          0           dense_1[0][0]                    \n",
      "__________________________________________________________________________________________________\n",
      "dense_2 (Dense)                 (None, 200)          100200      activation_1[0][0]               \n",
      "__________________________________________________________________________________________________\n",
      "activation_2 (Activation)       (None, 200)          0           dense_2[0][0]                    \n",
      "__________________________________________________________________________________________________\n",
      "dense_3 (Dense)                 (None, 100)          20100       activation_2[0][0]               \n",
      "__________________________________________________________________________________________________\n",
      "activation_3 (Activation)       (None, 100)          0           dense_3[0][0]                    \n",
      "__________________________________________________________________________________________________\n",
      "dense_4 (Dense)                 (None, 50)           5050        activation_3[0][0]               \n",
      "__________________________________________________________________________________________________\n",
      "activation_4 (Activation)       (None, 50)           0           dense_4[0][0]                    \n",
      "__________________________________________________________________________________________________\n",
      "dense_5 (Dense)                 (None, 6)            306         activation_4[0][0]               \n",
      "__________________________________________________________________________________________________\n",
      "bilinear_interpolation_1 (Bilin (None, 8, 16, 1)     0           input_1[0][0]                    \n",
      "                                                                 dense_5[0][0]                    \n",
      "__________________________________________________________________________________________________\n",
      "up_sampling2d_1 (UpSampling2D)  (None, 16, 32, 1)    0           bilinear_interpolation_1[0][0]   \n",
      "__________________________________________________________________________________________________\n",
      "conv2d_7 (Conv2D)               (None, 16, 32, 32)   160         up_sampling2d_1[0][0]            \n",
      "__________________________________________________________________________________________________\n",
      "concatenate_1 (Concatenate)     (None, 16, 32, 64)   0           conv2d_7[0][0]                   \n",
      "                                                                 conv2d_4[0][0]                   \n",
      "__________________________________________________________________________________________________\n",
      "conv2d_8 (Conv2D)               (None, 16, 32, 32)   51232       concatenate_1[0][0]              \n",
      "__________________________________________________________________________________________________\n",
      "conv2d_9 (Conv2D)               (None, 16, 32, 32)   25632       conv2d_8[0][0]                   \n",
      "__________________________________________________________________________________________________\n",
      "up_sampling2d_2 (UpSampling2D)  (None, 32, 64, 32)   0           conv2d_9[0][0]                   \n",
      "__________________________________________________________________________________________________\n",
      "conv2d_10 (Conv2D)              (None, 32, 64, 32)   4128        up_sampling2d_2[0][0]            \n",
      "__________________________________________________________________________________________________\n",
      "concatenate_2 (Concatenate)     (None, 32, 64, 64)   0           conv2d_10[0][0]                  \n",
      "                                                                 conv2d_2[0][0]                   \n",
      "__________________________________________________________________________________________________\n",
      "conv2d_11 (Conv2D)              (None, 32, 64, 32)   51232       concatenate_2[0][0]              \n",
      "__________________________________________________________________________________________________\n",
      "conv2d_12 (Conv2D)              (None, 32, 64, 32)   25632       conv2d_11[0][0]                  \n",
      "__________________________________________________________________________________________________\n",
      "conv2d_13 (Conv2D)              (None, 32, 64, 1)    801         conv2d_12[0][0]                  \n",
      "==================================================================================================\n",
      "Total params: 2,461,965\n",
      "Trainable params: 2,461,965\n",
      "Non-trainable params: 0\n",
      "__________________________________________________________________________________________________\n"
     ]
    },
    {
     "name": "stderr",
     "output_type": "stream",
     "text": [
      "D:\\anaconda3\\envs\\py37\\lib\\site-packages\\ipykernel_launcher.py:36: UserWarning: Update your `Conv2D` call to the Keras 2 API: `Conv2D(32, (2, 2), activation=\"relu\", padding=\"same\")`\n",
      "D:\\anaconda3\\envs\\py37\\lib\\site-packages\\ipykernel_launcher.py:37: UserWarning: Update your `Conv2D` call to the Keras 2 API: `Conv2D(32, (5, 5), activation=\"relu\", padding=\"same\")`\n",
      "D:\\anaconda3\\envs\\py37\\lib\\site-packages\\ipykernel_launcher.py:38: UserWarning: Update your `Conv2D` call to the Keras 2 API: `Conv2D(32, (5, 5), activation=\"relu\", padding=\"same\")`\n",
      "D:\\anaconda3\\envs\\py37\\lib\\site-packages\\ipykernel_launcher.py:42: UserWarning: Update your `Conv2D` call to the Keras 2 API: `Conv2D(1, (5, 5), activation=\"linear\", padding=\"same\")`\n",
      "D:\\anaconda3\\envs\\py37\\lib\\site-packages\\ipykernel_launcher.py:44: UserWarning: Update your `Model` call to the Keras 2 API: `Model(inputs=Tensor(\"in..., outputs=Tensor(\"co...)`\n"
     ]
    }
   ],
   "source": [
    "model = stn()\n",
    "model.compile(loss='mse', optimizer='adam')\n",
    "model.summary()"
   ]
  },
  {
   "cell_type": "markdown",
   "id": "83717a55",
   "metadata": {
    "ExecuteTime": {
     "end_time": "2023-08-30T23:50:18.311007Z",
     "start_time": "2023-08-30T23:50:18.304382Z"
    }
   },
   "source": [
    "## File loading"
   ]
  },
  {
   "cell_type": "code",
   "execution_count": null,
   "id": "2c0b2ab7",
   "metadata": {},
   "outputs": [],
   "source": [
    "import tensorflow as tf\n",
    "print(tf.__version__)\n",
    "print(\"GPU Available:\", tf.test.is_gpu_available())"
   ]
  },
  {
   "cell_type": "code",
   "execution_count": 11,
   "id": "9a9ec3e3",
   "metadata": {
    "ExecuteTime": {
     "end_time": "2023-08-30T22:07:47.651035Z",
     "start_time": "2023-08-30T22:07:47.645052Z"
    }
   },
   "outputs": [],
   "source": [
    "fileList_train = []\n",
    "fileList_validation =[]\n",
    "fileList_test=[]\n",
    "input_folder_path = folder_utils.find_folder(\n",
    "    country, data_folder, data_save_category, output_folder\n",
    ")\n",
    "\n",
    "for year in range (1979,2021):\n",
    "    file_path =  os.path.join(input_folder_path, f\"era5_pressure_level_{year}_regrid_filter_850.nc\")\n",
    "    fileList_train.append (file_path)\n",
    "    \n",
    "fileList_validation.append(os.path.join(input_folder_path, f\"era5_pressure_level_2021_regrid_filter_850.nc\"))\n",
    "fileList_test.append(os.path.join(input_folder_path, f\"era5_pressure_level_2022_regrid_filter_850.nc\"))\n"
   ]
  },
  {
   "cell_type": "code",
   "execution_count": 12,
   "id": "d771a97a",
   "metadata": {
    "ExecuteTime": {
     "end_time": "2023-08-30T22:07:48.123279Z",
     "start_time": "2023-08-30T22:07:48.114967Z"
    }
   },
   "outputs": [
    {
     "data": {
      "text/plain": [
       "'F:\\\\JuPyterNotebook\\\\irp_ww721_bakcup\\\\data\\\\processed_data\\\\ERA5_DATA\\\\GB_ERA5_DATA'"
      ]
     },
     "execution_count": 12,
     "metadata": {},
     "output_type": "execute_result"
    }
   ],
   "source": [
    "input_folder_path"
   ]
  },
  {
   "cell_type": "code",
   "execution_count": 13,
   "id": "539865a9",
   "metadata": {
    "ExecuteTime": {
     "end_time": "2023-08-30T22:07:48.783713Z",
     "start_time": "2023-08-30T22:07:48.763778Z"
    }
   },
   "outputs": [
    {
     "data": {
      "text/plain": [
       "['F:\\\\JuPyterNotebook\\\\irp_ww721_bakcup\\\\data\\\\processed_data\\\\ERA5_DATA\\\\GB_ERA5_DATA\\\\era5_pressure_level_1979_regrid_filter_850.nc',\n",
       " 'F:\\\\JuPyterNotebook\\\\irp_ww721_bakcup\\\\data\\\\processed_data\\\\ERA5_DATA\\\\GB_ERA5_DATA\\\\era5_pressure_level_1980_regrid_filter_850.nc',\n",
       " 'F:\\\\JuPyterNotebook\\\\irp_ww721_bakcup\\\\data\\\\processed_data\\\\ERA5_DATA\\\\GB_ERA5_DATA\\\\era5_pressure_level_1981_regrid_filter_850.nc',\n",
       " 'F:\\\\JuPyterNotebook\\\\irp_ww721_bakcup\\\\data\\\\processed_data\\\\ERA5_DATA\\\\GB_ERA5_DATA\\\\era5_pressure_level_1982_regrid_filter_850.nc',\n",
       " 'F:\\\\JuPyterNotebook\\\\irp_ww721_bakcup\\\\data\\\\processed_data\\\\ERA5_DATA\\\\GB_ERA5_DATA\\\\era5_pressure_level_1983_regrid_filter_850.nc',\n",
       " 'F:\\\\JuPyterNotebook\\\\irp_ww721_bakcup\\\\data\\\\processed_data\\\\ERA5_DATA\\\\GB_ERA5_DATA\\\\era5_pressure_level_1984_regrid_filter_850.nc',\n",
       " 'F:\\\\JuPyterNotebook\\\\irp_ww721_bakcup\\\\data\\\\processed_data\\\\ERA5_DATA\\\\GB_ERA5_DATA\\\\era5_pressure_level_1985_regrid_filter_850.nc',\n",
       " 'F:\\\\JuPyterNotebook\\\\irp_ww721_bakcup\\\\data\\\\processed_data\\\\ERA5_DATA\\\\GB_ERA5_DATA\\\\era5_pressure_level_1986_regrid_filter_850.nc',\n",
       " 'F:\\\\JuPyterNotebook\\\\irp_ww721_bakcup\\\\data\\\\processed_data\\\\ERA5_DATA\\\\GB_ERA5_DATA\\\\era5_pressure_level_1987_regrid_filter_850.nc',\n",
       " 'F:\\\\JuPyterNotebook\\\\irp_ww721_bakcup\\\\data\\\\processed_data\\\\ERA5_DATA\\\\GB_ERA5_DATA\\\\era5_pressure_level_1988_regrid_filter_850.nc',\n",
       " 'F:\\\\JuPyterNotebook\\\\irp_ww721_bakcup\\\\data\\\\processed_data\\\\ERA5_DATA\\\\GB_ERA5_DATA\\\\era5_pressure_level_1989_regrid_filter_850.nc',\n",
       " 'F:\\\\JuPyterNotebook\\\\irp_ww721_bakcup\\\\data\\\\processed_data\\\\ERA5_DATA\\\\GB_ERA5_DATA\\\\era5_pressure_level_1990_regrid_filter_850.nc',\n",
       " 'F:\\\\JuPyterNotebook\\\\irp_ww721_bakcup\\\\data\\\\processed_data\\\\ERA5_DATA\\\\GB_ERA5_DATA\\\\era5_pressure_level_1991_regrid_filter_850.nc',\n",
       " 'F:\\\\JuPyterNotebook\\\\irp_ww721_bakcup\\\\data\\\\processed_data\\\\ERA5_DATA\\\\GB_ERA5_DATA\\\\era5_pressure_level_1992_regrid_filter_850.nc',\n",
       " 'F:\\\\JuPyterNotebook\\\\irp_ww721_bakcup\\\\data\\\\processed_data\\\\ERA5_DATA\\\\GB_ERA5_DATA\\\\era5_pressure_level_1993_regrid_filter_850.nc',\n",
       " 'F:\\\\JuPyterNotebook\\\\irp_ww721_bakcup\\\\data\\\\processed_data\\\\ERA5_DATA\\\\GB_ERA5_DATA\\\\era5_pressure_level_1994_regrid_filter_850.nc',\n",
       " 'F:\\\\JuPyterNotebook\\\\irp_ww721_bakcup\\\\data\\\\processed_data\\\\ERA5_DATA\\\\GB_ERA5_DATA\\\\era5_pressure_level_1995_regrid_filter_850.nc',\n",
       " 'F:\\\\JuPyterNotebook\\\\irp_ww721_bakcup\\\\data\\\\processed_data\\\\ERA5_DATA\\\\GB_ERA5_DATA\\\\era5_pressure_level_1996_regrid_filter_850.nc',\n",
       " 'F:\\\\JuPyterNotebook\\\\irp_ww721_bakcup\\\\data\\\\processed_data\\\\ERA5_DATA\\\\GB_ERA5_DATA\\\\era5_pressure_level_1997_regrid_filter_850.nc',\n",
       " 'F:\\\\JuPyterNotebook\\\\irp_ww721_bakcup\\\\data\\\\processed_data\\\\ERA5_DATA\\\\GB_ERA5_DATA\\\\era5_pressure_level_1998_regrid_filter_850.nc',\n",
       " 'F:\\\\JuPyterNotebook\\\\irp_ww721_bakcup\\\\data\\\\processed_data\\\\ERA5_DATA\\\\GB_ERA5_DATA\\\\era5_pressure_level_1999_regrid_filter_850.nc',\n",
       " 'F:\\\\JuPyterNotebook\\\\irp_ww721_bakcup\\\\data\\\\processed_data\\\\ERA5_DATA\\\\GB_ERA5_DATA\\\\era5_pressure_level_2000_regrid_filter_850.nc',\n",
       " 'F:\\\\JuPyterNotebook\\\\irp_ww721_bakcup\\\\data\\\\processed_data\\\\ERA5_DATA\\\\GB_ERA5_DATA\\\\era5_pressure_level_2001_regrid_filter_850.nc',\n",
       " 'F:\\\\JuPyterNotebook\\\\irp_ww721_bakcup\\\\data\\\\processed_data\\\\ERA5_DATA\\\\GB_ERA5_DATA\\\\era5_pressure_level_2002_regrid_filter_850.nc',\n",
       " 'F:\\\\JuPyterNotebook\\\\irp_ww721_bakcup\\\\data\\\\processed_data\\\\ERA5_DATA\\\\GB_ERA5_DATA\\\\era5_pressure_level_2003_regrid_filter_850.nc',\n",
       " 'F:\\\\JuPyterNotebook\\\\irp_ww721_bakcup\\\\data\\\\processed_data\\\\ERA5_DATA\\\\GB_ERA5_DATA\\\\era5_pressure_level_2004_regrid_filter_850.nc',\n",
       " 'F:\\\\JuPyterNotebook\\\\irp_ww721_bakcup\\\\data\\\\processed_data\\\\ERA5_DATA\\\\GB_ERA5_DATA\\\\era5_pressure_level_2005_regrid_filter_850.nc',\n",
       " 'F:\\\\JuPyterNotebook\\\\irp_ww721_bakcup\\\\data\\\\processed_data\\\\ERA5_DATA\\\\GB_ERA5_DATA\\\\era5_pressure_level_2006_regrid_filter_850.nc',\n",
       " 'F:\\\\JuPyterNotebook\\\\irp_ww721_bakcup\\\\data\\\\processed_data\\\\ERA5_DATA\\\\GB_ERA5_DATA\\\\era5_pressure_level_2007_regrid_filter_850.nc',\n",
       " 'F:\\\\JuPyterNotebook\\\\irp_ww721_bakcup\\\\data\\\\processed_data\\\\ERA5_DATA\\\\GB_ERA5_DATA\\\\era5_pressure_level_2008_regrid_filter_850.nc',\n",
       " 'F:\\\\JuPyterNotebook\\\\irp_ww721_bakcup\\\\data\\\\processed_data\\\\ERA5_DATA\\\\GB_ERA5_DATA\\\\era5_pressure_level_2009_regrid_filter_850.nc',\n",
       " 'F:\\\\JuPyterNotebook\\\\irp_ww721_bakcup\\\\data\\\\processed_data\\\\ERA5_DATA\\\\GB_ERA5_DATA\\\\era5_pressure_level_2010_regrid_filter_850.nc',\n",
       " 'F:\\\\JuPyterNotebook\\\\irp_ww721_bakcup\\\\data\\\\processed_data\\\\ERA5_DATA\\\\GB_ERA5_DATA\\\\era5_pressure_level_2011_regrid_filter_850.nc',\n",
       " 'F:\\\\JuPyterNotebook\\\\irp_ww721_bakcup\\\\data\\\\processed_data\\\\ERA5_DATA\\\\GB_ERA5_DATA\\\\era5_pressure_level_2012_regrid_filter_850.nc',\n",
       " 'F:\\\\JuPyterNotebook\\\\irp_ww721_bakcup\\\\data\\\\processed_data\\\\ERA5_DATA\\\\GB_ERA5_DATA\\\\era5_pressure_level_2013_regrid_filter_850.nc',\n",
       " 'F:\\\\JuPyterNotebook\\\\irp_ww721_bakcup\\\\data\\\\processed_data\\\\ERA5_DATA\\\\GB_ERA5_DATA\\\\era5_pressure_level_2014_regrid_filter_850.nc',\n",
       " 'F:\\\\JuPyterNotebook\\\\irp_ww721_bakcup\\\\data\\\\processed_data\\\\ERA5_DATA\\\\GB_ERA5_DATA\\\\era5_pressure_level_2015_regrid_filter_850.nc',\n",
       " 'F:\\\\JuPyterNotebook\\\\irp_ww721_bakcup\\\\data\\\\processed_data\\\\ERA5_DATA\\\\GB_ERA5_DATA\\\\era5_pressure_level_2016_regrid_filter_850.nc',\n",
       " 'F:\\\\JuPyterNotebook\\\\irp_ww721_bakcup\\\\data\\\\processed_data\\\\ERA5_DATA\\\\GB_ERA5_DATA\\\\era5_pressure_level_2017_regrid_filter_850.nc',\n",
       " 'F:\\\\JuPyterNotebook\\\\irp_ww721_bakcup\\\\data\\\\processed_data\\\\ERA5_DATA\\\\GB_ERA5_DATA\\\\era5_pressure_level_2018_regrid_filter_850.nc',\n",
       " 'F:\\\\JuPyterNotebook\\\\irp_ww721_bakcup\\\\data\\\\processed_data\\\\ERA5_DATA\\\\GB_ERA5_DATA\\\\era5_pressure_level_2019_regrid_filter_850.nc',\n",
       " 'F:\\\\JuPyterNotebook\\\\irp_ww721_bakcup\\\\data\\\\processed_data\\\\ERA5_DATA\\\\GB_ERA5_DATA\\\\era5_pressure_level_2020_regrid_filter_850.nc']"
      ]
     },
     "execution_count": 13,
     "metadata": {},
     "output_type": "execute_result"
    }
   ],
   "source": [
    "fileList_train"
   ]
  },
  {
   "cell_type": "code",
   "execution_count": 14,
   "id": "7c4bdb87",
   "metadata": {
    "ExecuteTime": {
     "end_time": "2023-08-30T22:07:49.564000Z",
     "start_time": "2023-08-30T22:07:49.555002Z"
    }
   },
   "outputs": [],
   "source": [
    "# Calculated constants\n",
    "M = 273.77817\n",
    "sdev = 2.5819736"
   ]
  },
  {
   "cell_type": "code",
   "execution_count": 15,
   "id": "e7acf4d9",
   "metadata": {
    "ExecuteTime": {
     "end_time": "2023-08-30T22:07:50.487463Z",
     "start_time": "2023-08-30T22:07:50.185635Z"
    }
   },
   "outputs": [
    {
     "data": {
      "image/png": "[encoded data removed]",
      "text/plain": [
       "<Figure size 640x480 with 1 Axes>"
      ]
     },
     "metadata": {},
     "output_type": "display_data"
    }
   ],
   "source": [
    "plt.plot(losses, label='Train Loss')\n",
    "plt.plot(val_losses, label='Validation Loss')\n",
    "plt.xlabel('Epochs')\n",
    "plt.ylabel('Loss')\n",
    "plt.legend()\n",
    "plt.show()"
   ]
  },
  {
   "cell_type": "code",
   "execution_count": 16,
   "id": "0bf864b4",
   "metadata": {
    "ExecuteTime": {
     "end_time": "2023-08-30T22:07:50.596923Z",
     "start_time": "2023-08-30T22:07:50.587920Z"
    }
   },
   "outputs": [
    {
     "data": {
      "text/plain": [
       "<class 'netCDF4._netCDF4.Dataset'>\n",
       "root group (NETCDF3_64BIT_OFFSET data model, file format NETCDF3):\n",
       "    regrid_method: bilinear\n",
       "    Conventions: CF-1.6\n",
       "    history: 2023-08-26 11:48:45 GMT by grib_to_netcdf-2.25.1: /opt/ecmwf/mars-client/bin/grib_to_netcdf.bin -S param -o /cache/data6/adaptor.mars.internal-1693050523.9571652-30807-11-9f2e4cee-f5dd-4cb7-bd14-d8cfa9322780.nc /cache/tmp/9f2e4cee-f5dd-4cb7-bd14-d8cfa9322780-adaptor.mars.internal-1693050488.2242575-30807-18-tmp.grib\n",
       "    dimensions(sizes): time(8760), lat(32), lon(64)\n",
       "    variables(dimensions): float32 t(time, lat, lon), int32 time(time), float64 lon(lon), float64 lat(lat)\n",
       "    groups: "
      ]
     },
     "execution_count": 16,
     "metadata": {},
     "output_type": "execute_result"
    }
   ],
   "source": [
    "File=nc.Dataset(fileList_train[0])\n",
    "File"
   ]
  },
  {
   "cell_type": "code",
   "execution_count": 17,
   "id": "0f269b6f",
   "metadata": {
    "ExecuteTime": {
     "end_time": "2023-08-30T22:07:55.822062Z",
     "start_time": "2023-08-30T22:07:55.743264Z"
    }
   },
   "outputs": [
    {
     "data": {
      "text/plain": [
       "(8760, 32, 64)"
      ]
     },
     "execution_count": 17,
     "metadata": {},
     "output_type": "execute_result"
    }
   ],
   "source": [
    "Z=np.asarray(File['t'])\n",
    "# Filter out zero and NaN values\n",
    "Z.shape"
   ]
  },
  {
   "cell_type": "code",
   "execution_count": 19,
   "id": "dfa44b1f",
   "metadata": {
    "ExecuteTime": {
     "end_time": "2023-08-30T22:08:04.253301Z",
     "start_time": "2023-08-30T22:08:04.240855Z"
    }
   },
   "outputs": [],
   "source": [
    "batch_size = 10\n",
    "num_epochs = 8\n",
    "lead=12\n",
    "count=0"
   ]
  },
  {
   "cell_type": "code",
   "execution_count": null,
   "id": "5704842d",
   "metadata": {
    "ExecuteTime": {
     "start_time": "2023-08-30T22:09:04.549Z"
    }
   },
   "outputs": [
    {
     "name": "stderr",
     "output_type": "stream",
     "text": [
      "Processing files:   0%|                                                                         | 0/42 [00:00<?, ?it/s]D:\\anaconda3\\envs\\py37\\lib\\site-packages\\ipykernel_launcher.py:3: UserWarning: Update your `Conv2D` call to the Keras 2 API: `Conv2D(32, (5, 5), activation=\"relu\", padding=\"same\")`\n",
      "  This is separate from the ipykernel package so we can avoid doing imports until\n",
      "D:\\anaconda3\\envs\\py37\\lib\\site-packages\\ipykernel_launcher.py:4: UserWarning: Update your `Conv2D` call to the Keras 2 API: `Conv2D(32, (5, 5), activation=\"relu\", padding=\"same\")`\n",
      "  after removing the cwd from sys.path.\n",
      "D:\\anaconda3\\envs\\py37\\lib\\site-packages\\ipykernel_launcher.py:7: UserWarning: Update your `Conv2D` call to the Keras 2 API: `Conv2D(32, (5, 5), activation=\"relu\", padding=\"same\")`\n",
      "  import sys\n",
      "D:\\anaconda3\\envs\\py37\\lib\\site-packages\\ipykernel_launcher.py:8: UserWarning: Update your `Conv2D` call to the Keras 2 API: `Conv2D(32, (5, 5), activation=\"relu\", padding=\"same\")`\n",
      "  \n",
      "D:\\anaconda3\\envs\\py37\\lib\\site-packages\\ipykernel_launcher.py:11: UserWarning: Update your `Conv2D` call to the Keras 2 API: `Conv2D(32, (5, 5), activation=\"relu\", padding=\"same\")`\n",
      "  # This is added back by InteractiveShellApp.init_path()\n",
      "D:\\anaconda3\\envs\\py37\\lib\\site-packages\\ipykernel_launcher.py:15: UserWarning: Update your `Conv2D` call to the Keras 2 API: `Conv2D(32, (5, 5), activation=\"relu\", padding=\"same\")`\n",
      "  from ipykernel import kernelapp as app\n"
     ]
    },
    {
     "name": "stdout",
     "output_type": "stream",
     "text": [
      "******************** counter************* 1\n"
     ]
    },
    {
     "name": "stderr",
     "output_type": "stream",
     "text": [
      "D:\\anaconda3\\envs\\py37\\lib\\site-packages\\ipykernel_launcher.py:32: UserWarning: Update your `Conv2D` call to the Keras 2 API: `Conv2D(32, (2, 2), activation=\"relu\", padding=\"same\")`\n",
      "D:\\anaconda3\\envs\\py37\\lib\\site-packages\\ipykernel_launcher.py:33: UserWarning: Update your `Conv2D` call to the Keras 2 API: `Conv2D(32, (5, 5), activation=\"relu\", padding=\"same\")`\n",
      "D:\\anaconda3\\envs\\py37\\lib\\site-packages\\ipykernel_launcher.py:34: UserWarning: Update your `Conv2D` call to the Keras 2 API: `Conv2D(32, (5, 5), activation=\"relu\", padding=\"same\")`\n",
      "D:\\anaconda3\\envs\\py37\\lib\\site-packages\\ipykernel_launcher.py:36: UserWarning: Update your `Conv2D` call to the Keras 2 API: `Conv2D(32, (2, 2), activation=\"relu\", padding=\"same\")`\n",
      "D:\\anaconda3\\envs\\py37\\lib\\site-packages\\ipykernel_launcher.py:37: UserWarning: Update your `Conv2D` call to the Keras 2 API: `Conv2D(32, (5, 5), activation=\"relu\", padding=\"same\")`\n",
      "D:\\anaconda3\\envs\\py37\\lib\\site-packages\\ipykernel_launcher.py:38: UserWarning: Update your `Conv2D` call to the Keras 2 API: `Conv2D(32, (5, 5), activation=\"relu\", padding=\"same\")`\n",
      "D:\\anaconda3\\envs\\py37\\lib\\site-packages\\ipykernel_launcher.py:42: UserWarning: Update your `Conv2D` call to the Keras 2 API: `Conv2D(1, (5, 5), activation=\"linear\", padding=\"same\")`\n",
      "D:\\anaconda3\\envs\\py37\\lib\\site-packages\\ipykernel_launcher.py:44: UserWarning: Update your `Model` call to the Keras 2 API: `Model(inputs=Tensor(\"in..., outputs=Tensor(\"co...)`\n"
     ]
    },
    {
     "name": "stdout",
     "output_type": "stream",
     "text": [
      "Train on 8460 samples, validate on 276 samples\n",
      "Epoch 1/20\n",
      "8460/8460 [==============================] - 142s 17ms/step - loss: 4.0010 - val_loss: 0.7709\n",
      "\n",
      "Epoch 00001: val_loss improved from inf to 0.77087, saving model to best_weights_lead12.h5\n",
      "Epoch 2/20\n",
      "8460/8460 [==============================] - 146s 17ms/step - loss: 3.9174 - val_loss: 0.7360\n",
      "\n",
      "Epoch 00002: val_loss improved from 0.77087 to 0.73603, saving model to best_weights_lead12.h5\n",
      "Epoch 3/20\n",
      "8460/8460 [==============================] - 147s 17ms/step - loss: 3.7878 - val_loss: 0.8454\n",
      "\n",
      "Epoch 00003: val_loss did not improve from 0.73603\n",
      "Epoch 4/20\n",
      "8460/8460 [==============================] - 149s 18ms/step - loss: 3.7374 - val_loss: 0.8584\n",
      "\n",
      "Epoch 00004: val_loss did not improve from 0.73603\n",
      "Epoch 5/20\n",
      "8460/8460 [==============================] - 151s 18ms/step - loss: 3.6514 - val_loss: 0.8851\n",
      "\n",
      "Epoch 00005: val_loss did not improve from 0.73603\n",
      "Epoch 6/20\n",
      "8460/8460 [==============================] - 156s 18ms/step - loss: 3.5694 - val_loss: 0.8042\n",
      "\n",
      "Epoch 00006: val_loss did not improve from 0.73603\n",
      "Epoch 7/20\n",
      "8460/8460 [==============================] - 154s 18ms/step - loss: 3.4738 - val_loss: 0.9338\n"
     ]
    },
    {
     "name": "stderr",
     "output_type": "stream",
     "text": [
      "\r",
      "Processing files:   2%|█▍                                                          | 1/42 [17:27<11:55:37, 1047.25s/it]"
     ]
    },
    {
     "name": "stdout",
     "output_type": "stream",
     "text": [
      "\n",
      "Epoch 00007: val_loss did not improve from 0.73603\n",
      "******************** counter************* 2\n",
      "Train on 8484 samples, validate on 276 samples\n",
      "Epoch 1/20\n",
      "8484/8484 [==============================] - 152s 18ms/step - loss: 2.1476 - val_loss: 1.2994\n",
      "\n",
      "Epoch 00001: val_loss improved from inf to 1.29942, saving model to best_weights_lead12.h5\n",
      "Epoch 2/20\n",
      "8484/8484 [==============================] - 151s 18ms/step - loss: 2.0732 - val_loss: 1.3515\n",
      "\n",
      "Epoch 00002: val_loss did not improve from 1.29942\n",
      "Epoch 3/20\n",
      "8484/8484 [==============================] - 159s 19ms/step - loss: 2.0241 - val_loss: 1.2476\n",
      "\n",
      "Epoch 00003: val_loss improved from 1.29942 to 1.24763, saving model to best_weights_lead12.h5\n",
      "Epoch 4/20\n",
      "8484/8484 [==============================] - 156s 18ms/step - loss: 1.9795 - val_loss: 1.2462\n",
      "\n",
      "Epoch 00004: val_loss improved from 1.24763 to 1.24619, saving model to best_weights_lead12.h5\n",
      "Epoch 5/20\n",
      "8484/8484 [==============================] - 155s 18ms/step - loss: 1.9180 - val_loss: 1.3078\n",
      "\n",
      "Epoch 00005: val_loss did not improve from 1.24619\n",
      "Epoch 6/20\n",
      "8484/8484 [==============================] - 154s 18ms/step - loss: 1.8845 - val_loss: 1.2840\n",
      "\n",
      "Epoch 00006: val_loss did not improve from 1.24619\n",
      "Epoch 7/20\n",
      "8484/8484 [==============================] - 154s 18ms/step - loss: 1.8166 - val_loss: 1.3286\n",
      "\n",
      "Epoch 00007: val_loss did not improve from 1.24619\n",
      "Epoch 8/20\n",
      "8484/8484 [==============================] - 158s 19ms/step - loss: 1.7713 - val_loss: 1.3217\n",
      "\n",
      "Epoch 00008: val_loss did not improve from 1.24619\n",
      "Epoch 9/20\n",
      "8484/8484 [==============================] - 161s 19ms/step - loss: 1.7147 - val_loss: 1.3984\n"
     ]
    },
    {
     "name": "stderr",
     "output_type": "stream",
     "text": [
      "\r",
      "Processing files:   5%|██▊                                                         | 2/42 [40:50<13:57:45, 1256.64s/it]"
     ]
    },
    {
     "name": "stdout",
     "output_type": "stream",
     "text": [
      "\n",
      "Epoch 00009: val_loss did not improve from 1.24619\n",
      "******************** counter************* 3\n",
      "Train on 8460 samples, validate on 276 samples\n",
      "Epoch 1/20\n",
      "8460/8460 [==============================] - 156s 18ms/step - loss: 2.0428 - val_loss: 0.7813\n",
      "\n",
      "Epoch 00001: val_loss improved from inf to 0.78134, saving model to best_weights_lead12.h5\n",
      "Epoch 2/20\n",
      "8460/8460 [==============================] - 156s 18ms/step - loss: 1.9539 - val_loss: 0.6108\n",
      "\n",
      "Epoch 00002: val_loss improved from 0.78134 to 0.61080, saving model to best_weights_lead12.h5\n",
      "Epoch 3/20\n",
      "8460/8460 [==============================] - 155s 18ms/step - loss: 1.9070 - val_loss: 0.7263\n",
      "\n",
      "Epoch 00003: val_loss did not improve from 0.61080\n",
      "Epoch 4/20\n",
      "8460/8460 [==============================] - 151s 18ms/step - loss: 1.8502 - val_loss: 0.8362\n",
      "\n",
      "Epoch 00004: val_loss did not improve from 0.61080\n",
      "Epoch 5/20\n",
      "8460/8460 [==============================] - 153s 18ms/step - loss: 1.8049 - val_loss: 0.7265\n",
      "\n",
      "Epoch 00005: val_loss did not improve from 0.61080\n",
      "Epoch 6/20\n",
      "8460/8460 [==============================] - 157s 19ms/step - loss: 1.7533 - val_loss: 0.6949\n",
      "\n",
      "Epoch 00006: val_loss did not improve from 0.61080\n",
      "Epoch 7/20\n",
      "8460/8460 [==============================] - 155s 18ms/step - loss: 1.6980 - val_loss: 0.8240\n"
     ]
    },
    {
     "name": "stderr",
     "output_type": "stream",
     "text": [
      "\r",
      "Processing files:   7%|████▎                                                       | 3/42 [58:57<12:46:26, 1179.15s/it]"
     ]
    },
    {
     "name": "stdout",
     "output_type": "stream",
     "text": [
      "\n",
      "Epoch 00007: val_loss did not improve from 0.61080\n",
      "******************** counter************* 4\n",
      "Train on 8460 samples, validate on 276 samples\n",
      "Epoch 1/20\n",
      "8460/8460 [==============================] - 162s 19ms/step - loss: 2.7523 - val_loss: 1.0127\n",
      "\n",
      "Epoch 00001: val_loss improved from inf to 1.01274, saving model to best_weights_lead12.h5\n",
      "Epoch 2/20\n",
      "8460/8460 [==============================] - 164s 19ms/step - loss: 2.6083 - val_loss: 1.0634\n",
      "\n",
      "Epoch 00002: val_loss did not improve from 1.01274\n",
      "Epoch 3/20\n",
      "8460/8460 [==============================] - 158s 19ms/step - loss: 2.5175 - val_loss: 1.1019\n",
      "\n",
      "Epoch 00003: val_loss did not improve from 1.01274\n",
      "Epoch 4/20\n",
      "8460/8460 [==============================] - 156s 18ms/step - loss: 2.4395 - val_loss: 0.9205\n",
      "\n",
      "Epoch 00004: val_loss improved from 1.01274 to 0.92051, saving model to best_weights_lead12.h5\n",
      "Epoch 5/20\n",
      "8460/8460 [==============================] - 157s 19ms/step - loss: 2.3458 - val_loss: 0.8886\n",
      "\n",
      "Epoch 00005: val_loss improved from 0.92051 to 0.88865, saving model to best_weights_lead12.h5\n",
      "Epoch 6/20\n",
      "8460/8460 [==============================] - 155s 18ms/step - loss: 2.3156 - val_loss: 0.8985\n",
      "\n",
      "Epoch 00006: val_loss did not improve from 0.88865\n",
      "Epoch 7/20\n",
      "8460/8460 [==============================] - 158s 19ms/step - loss: 2.2405 - val_loss: 0.8650\n",
      "\n",
      "Epoch 00007: val_loss improved from 0.88865 to 0.86495, saving model to best_weights_lead12.h5\n",
      "Epoch 8/20\n",
      "8460/8460 [==============================] - 167s 20ms/step - loss: 2.1437 - val_loss: 0.9539\n",
      "\n",
      "Epoch 00008: val_loss did not improve from 0.86495\n",
      "Epoch 9/20\n",
      "8460/8460 [==============================] - 166s 20ms/step - loss: 2.0893 - val_loss: 0.9267\n",
      "\n",
      "Epoch 00009: val_loss did not improve from 0.86495\n",
      "Epoch 10/20\n",
      "8460/8460 [==============================] - 180s 21ms/step - loss: 2.0374 - val_loss: 0.9158\n",
      "\n",
      "Epoch 00010: val_loss did not improve from 0.86495\n",
      "Epoch 11/20\n",
      "8460/8460 [==============================] - 184s 22ms/step - loss: 1.9715 - val_loss: 0.9514\n",
      "\n",
      "Epoch 00011: val_loss did not improve from 0.86495\n",
      "Epoch 12/20\n",
      "8460/8460 [==============================] - 178s 21ms/step - loss: 1.9117 - val_loss: 0.9045\n"
     ]
    },
    {
     "name": "stderr",
     "output_type": "stream",
     "text": [
      "\r",
      "Processing files:  10%|█████▌                                                    | 4/42 [1:32:05<15:49:10, 1498.69s/it]"
     ]
    },
    {
     "name": "stdout",
     "output_type": "stream",
     "text": [
      "\n",
      "Epoch 00012: val_loss did not improve from 0.86495\n",
      "******************** counter************* 5\n",
      "Train on 8460 samples, validate on 276 samples\n",
      "Epoch 1/20\n",
      "8460/8460 [==============================] - 179s 21ms/step - loss: 1.9306 - val_loss: 2.1092\n",
      "\n",
      "Epoch 00001: val_loss improved from inf to 2.10924, saving model to best_weights_lead12.h5\n",
      "Epoch 2/20\n",
      "6300/8460 [=====================>........] - ETA: 44s - loss: 1.7798"
     ]
    }
   ],
   "source": [
    "batch_size = 10\n",
    "num_epochs = 8\n",
    "lead=12\n",
    "count=0\n",
    "for loop in tqdm(fileList_train, desc=\"Processing files\"):\n",
    "    print('******************** counter*************',count)\n",
    "    File=nc.Dataset(loop)\n",
    "    Z=np.asarray(File['t'])\n",
    "    \n",
    "# # Create a mask to filter out samples with NaN values\n",
    "#     mask = np.all(~np.isnan(Z), axis=(1, 2))\n",
    "#     Z = Z[mask]\n",
    "    \n",
    "    trainN=np.size(Z,0)-300\n",
    "    Z=(Z-M)/sdev\n",
    "    \n",
    "    \n",
    "    x_train=Z[0:trainN,:,:]\n",
    "    x_train=x_train.reshape([np.size(x_train,0),32,64,1])\n",
    "    y_train=Z[lead:trainN+lead,:,:]\n",
    "    y_train=y_train.reshape([np.size(y_train,0),32,64,1])\n",
    "    \n",
    "    x_val= Z[trainN+lead:np.size(Z,0)-lead,:,:]\n",
    "    x_val=x_val.reshape([np.size(x_val,0),32,64,1])\n",
    "    \n",
    "    y_val= Z[trainN+lead*2:np.size(Z,0),:,:]\n",
    "    y_val=y_val.reshape([np.size(y_val,0),32,64,1])\n",
    "\n",
    "    if (count>0):\n",
    "        \n",
    "        model = stn()\n",
    "        model.compile(loss='mse', optimizer='adam')\n",
    "        # Modify the HDF5 file before loading weights\n",
    "#         modify_h5_file('best_weights_lead12.h5')\n",
    "\n",
    "        model.load_weights('best_weights_lead12.h5')\n",
    "        hist = model.fit(x_train, y_train,\n",
    "                       batch_size = batch_size,\n",
    "             verbose=1,\n",
    "             epochs = 20,\n",
    "             validation_data=(x_val,y_val),shuffle=True,\n",
    "             callbacks=[keras.callbacks.EarlyStopping(monitor='val_loss',\n",
    "                                        min_delta=0,\n",
    "                                        patience=5, # just to make sure we use a lot of patience before stopping\n",
    "                                        verbose=0, mode='auto'),\n",
    "                       keras.callbacks.ModelCheckpoint('best_weights_lead'+str(lead)+'.h5', monitor='val_loss',\n",
    "                                                    verbose=1, save_best_only=True,\n",
    "                                                    save_weights_only=True, mode='auto', period=1),history]\n",
    "             )\n",
    "        losses.extend(hist.history['loss'])\n",
    "        val_losses.extend(hist.history['val_loss'])\n",
    "\n",
    "    else:\n",
    "        hist = model.fit(x_train, y_train,\n",
    "                       batch_size = batch_size,\n",
    "             verbose=1,\n",
    "             epochs = 20,\n",
    "             validation_data=(x_val,y_val),shuffle=True,\n",
    "             callbacks=[keras.callbacks.EarlyStopping(monitor='val_loss',\n",
    "                                        min_delta=0,\n",
    "                                        patience=5, # just to make sure we use a lot of patience before stopping\n",
    "                                        verbose=0, mode='auto'),\n",
    "                       keras.callbacks.ModelCheckpoint('best_weights_lead'+str(lead)+'.h5', monitor='val_loss',\n",
    "                                                    verbose=1, save_best_only=True,\n",
    "                                                    save_weights_only=True, mode='auto', period=1),history]\n",
    "             )\n",
    "        losses.extend(hist.history['loss'])\n",
    "        val_losses.extend(hist.history['val_loss'])\n",
    "\n",
    "\n",
    "    count=count+1"
   ]
  },
  {
   "cell_type": "code",
   "execution_count": null,
   "id": "37e921bf",
   "metadata": {},
   "outputs": [],
   "source": []
  }
 ],
 "metadata": {
  "hide_input": false,
  "kernelspec": {
   "display_name": "Python 3 (ipykernel)",
   "language": "python",
   "name": "python3"
  },
  "language_info": {
   "codemirror_mode": {
    "name": "ipython",
    "version": 3
   },
   "file_extension": ".py",
   "mimetype": "text/x-python",
   "name": "python",
   "nbconvert_exporter": "python",
   "pygments_lexer": "ipython3",
   "version": "3.7.12"
  },
  "toc": {
   "base_numbering": 1,
   "nav_menu": {},
   "number_sections": true,
   "sideBar": true,
   "skip_h1_title": false,
   "title_cell": "Table of Contents",
   "title_sidebar": "Contents",
   "toc_cell": false,
   "toc_position": {},
   "toc_section_display": true,
   "toc_window_display": false
  },
  "varInspector": {
   "cols": {
    "lenName": 16,
    "lenType": 16,
    "lenVar": 40
   },
   "kernels_config": {
    "python": {
     "delete_cmd_postfix": "",
     "delete_cmd_prefix": "del ",
     "library": "var_list.py",
     "varRefreshCmd": "print(var_dic_list())"
    },
    "r": {
     "delete_cmd_postfix": ") ",
     "delete_cmd_prefix": "rm(",
     "library": "var_list.r",
     "varRefreshCmd": "cat(var_dic_list()) "
    }
   },
   "types_to_exclude": [
    "module",
    "function",
    "builtin_function_or_method",
    "instance",
    "_Feature"
   ],
   "window_display": false
  }
 },
 "nbformat": 4,
 "nbformat_minor": 5
}
