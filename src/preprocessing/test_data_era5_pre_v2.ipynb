{
 "cells": [
  {
   "cell_type": "code",
   "execution_count": 1,
   "id": "78c79cf6-a027-48b2-be07-ffcc3c900326",
   "metadata": {},
   "outputs": [],
   "source": [
    "# Basic setting for Jupyter_notebook to import utils\n",
    "import os\n",
    "import sys\n",
    "\n",
    "notebook_path = os.path.abspath(\"\")\n",
    "project_root = os.path.abspath(os.path.join(notebook_path, \"../../\"))\n",
    "\n",
    "sys.path.append(project_root)"
   ]
  },
  {
   "cell_type": "code",
   "execution_count": 2,
   "id": "259a913d4995e6db",
   "metadata": {
    "collapsed": false,
    "jupyter": {
     "outputs_hidden": false
    }
   },
   "outputs": [
    {
     "data": {
      "text/plain": [
       "'V2'"
      ]
     },
     "execution_count": 2,
     "metadata": {},
     "output_type": "execute_result"
    }
   ],
   "source": [
    "\"\"\"V2\"\"\""
   ]
  },
  {
   "cell_type": "markdown",
   "id": "b458d08f-eff5-4a5b-a531-9c0f9ac7b085",
   "metadata": {},
   "source": [
    "# 2 ERA5_DATA_PROCESSING"
   ]
  },
  {
   "cell_type": "markdown",
   "id": "3ddcb1ec-ebc3-474b-9147-cf506a4e1058",
   "metadata": {
    "jp-MarkdownHeadingCollapsed": true
   },
   "source": [
    "## Data EDA"
   ]
  },
  {
   "cell_type": "code",
   "execution_count": 3,
   "id": "93bc14f1-5c99-40cf-aa90-6e74c40340b9",
   "metadata": {},
   "outputs": [],
   "source": [
    "import os\n",
    "import pandas as pd\n",
    "import numpy as np\n",
    "import xarray as xr\n",
    "import matplotlib.pyplot as plt\n",
    "import cartopy.crs as ccrs\n",
    "from utils import folder_utils\n",
    "from tqdm import tqdm"
   ]
  },
  {
   "cell_type": "code",
   "execution_count": 4,
   "id": "05cbb6df-3d33-4147-9f54-ac30ad769607",
   "metadata": {},
   "outputs": [],
   "source": [
    "# Example usage\n",
    "\n",
    "country = \"GB\"\n",
    "data_folder = \"data\"\n",
    "data_test_category = \"test_data\"\n",
    "data_read_category = \"raw_data\"\n",
    "data_save_category = \"processed_data\"\n",
    "# output_folder = \"ASOS_DATA\"\n",
    "output_folder2 =\"ERA5_DATA\""
   ]
  },
  {
   "cell_type": "code",
   "execution_count": 4,
   "id": "1859c98d-0810-4f5f-ab2b-58dabed50749",
   "metadata": {},
   "outputs": [
    {
     "name": "stdout",
     "output_type": "stream",
     "text": [
      "Folder '/Users/ww721/JupyterNotebookPath/IRP_20220602/irp_ww721_bakcup/data/test_data/ERA5_DATA/GB_ERA5_DATA' created successfully.\n"
     ]
    },
    {
     "data": {
      "text/plain": [
       "'/Users/ww721/JupyterNotebookPath/IRP_20220602/irp_ww721_bakcup/data/test_data/ERA5_DATA/GB_ERA5_DATA'"
      ]
     },
     "execution_count": 4,
     "metadata": {},
     "output_type": "execute_result"
    }
   ],
   "source": [
    "folder_utils.create_folder( country, data_folder, data_test_category, output_folder2)"
   ]
  },
  {
   "cell_type": "code",
   "execution_count": 5,
   "id": "b24c4df8-5dff-4e2b-a0cb-7229b232e40b",
   "metadata": {},
   "outputs": [],
   "source": [
    "def extract_data_nc_to_xr(country, data_folder, data_category, output_folder):\n",
    "    # Specify the folder path\n",
    "    input_folder_path = folder_utils.find_folder(\n",
    "        country, data_folder, data_category, output_folder\n",
    "    )\n",
    "    raw_ds = None  # Initialize raw_ds outside the loop\n",
    "    nc_files = [\n",
    "        f\n",
    "        for f in os.listdir(input_folder_path)\n",
    "        if f.endswith('.nc') and \"era5_station_network\" not in f\n",
    "    ]\n",
    "    # Read and merge the csv files in queue\n",
    "    for nc_file in tqdm(nc_files):\n",
    "        nc_file_path = os.path.join(input_folder_path, nc_file)\n",
    "        raw_ds = xr.open_dataset(nc_file_path)\n",
    "        # raw_df = pd.concat([raw_df, df], ignore_index=True)\n",
    "\n",
    "    return raw_ds\n"
   ]
  },
  {
   "cell_type": "code",
   "execution_count": 6,
   "id": "61f67ace-eaac-4814-81cb-1ee36b8ea5be",
   "metadata": {},
   "outputs": [
    {
     "name": "stderr",
     "output_type": "stream",
     "text": [
      "100%|█████████████████████████████████████████████| 1/1 [00:00<00:00,  1.77it/s]\n"
     ]
    }
   ],
   "source": [
    "ds = extract_data_nc_to_xr(country, data_folder, data_test_category, output_folder2)"
   ]
  },
  {
   "cell_type": "code",
   "execution_count": 7,
   "id": "f7d9c0cc-b5ee-4a79-92c2-7e92dda6f545",
   "metadata": {},
   "outputs": [
    {
     "name": "stdout",
     "output_type": "stream",
     "text": [
      "<xarray.Dataset>\n",
      "Dimensions:    (longitude: 37, latitude: 33, time: 720)\n",
      "Coordinates:\n",
      "  * longitude  (longitude) float32 -7.0 -6.75 -6.5 -6.25 ... 1.25 1.5 1.75 2.0\n",
      "  * latitude   (latitude) float32 58.0 57.75 57.5 57.25 ... 50.5 50.25 50.0\n",
      "  * time       (time) datetime64[ns] 2008-11-01 ... 2008-11-30T23:00:00\n",
      "Data variables:\n",
      "    t          (time, latitude, longitude) float32 ...\n",
      "Attributes:\n",
      "    Conventions:  CF-1.6\n",
      "    history:      2023-08-26 21:23:07 GMT by grib_to_netcdf-2.25.1: /opt/ecmw...\n"
     ]
    }
   ],
   "source": [
    "print(ds)"
   ]
  },
  {
   "cell_type": "code",
   "execution_count": 8,
   "id": "00b5df08-7146-4bdd-987c-d93cc58a0cac",
   "metadata": {},
   "outputs": [
    {
     "data": {
      "text/plain": [
       "Frozen({'longitude': 37, 'latitude': 33, 'time': 720})"
      ]
     },
     "execution_count": 8,
     "metadata": {},
     "output_type": "execute_result"
    }
   ],
   "source": [
    "ds.dims"
   ]
  },
  {
   "cell_type": "code",
   "execution_count": 9,
   "id": "7f9d17c2-2164-47aa-bef7-9e63c44a6d5d",
   "metadata": {},
   "outputs": [
    {
     "data": {
      "text/plain": [
       "Data variables:\n",
       "    t        (time, latitude, longitude) float32 ..."
      ]
     },
     "execution_count": 9,
     "metadata": {},
     "output_type": "execute_result"
    }
   ],
   "source": [
    "ds.data_vars"
   ]
  },
  {
   "cell_type": "code",
   "execution_count": 10,
   "id": "53e92f49-9b01-4c59-a285-74a6cf842197",
   "metadata": {},
   "outputs": [
    {
     "data": {
      "text/plain": [
       "Coordinates:\n",
       "  * longitude  (longitude) float32 -7.0 -6.75 -6.5 -6.25 ... 1.25 1.5 1.75 2.0\n",
       "  * latitude   (latitude) float32 58.0 57.75 57.5 57.25 ... 50.5 50.25 50.0\n",
       "  * time       (time) datetime64[ns] 2008-11-01 ... 2008-11-30T23:00:00"
      ]
     },
     "execution_count": 10,
     "metadata": {},
     "output_type": "execute_result"
    }
   ],
   "source": [
    "ds.coords"
   ]
  },
  {
   "cell_type": "code",
   "execution_count": 11,
   "id": "fc78eaa2-6ed3-4303-a865-cf72024e9990",
   "metadata": {},
   "outputs": [
    {
     "data": {
      "text/plain": [
       "{'Conventions': 'CF-1.6',\n",
       " 'history': '2023-08-26 21:23:07 GMT by grib_to_netcdf-2.25.1: /opt/ecmwf/mars-client/bin/grib_to_netcdf.bin -S param -o /cache/data9/adaptor.mars.internal-1693084986.468713-31194-10-5f7e33e6-dc9a-468e-bbb4-df30f1d52c8b.nc /cache/tmp/5f7e33e6-dc9a-468e-bbb4-df30f1d52c8b-adaptor.mars.internal-1693084950.2077148-31194-19-tmp.grib'}"
      ]
     },
     "execution_count": 11,
     "metadata": {},
     "output_type": "execute_result"
    }
   ],
   "source": [
    "ds.attrs"
   ]
  },
  {
   "cell_type": "code",
   "execution_count": 12,
   "id": "06766584-c041-4a41-98cd-51630213fc75",
   "metadata": {},
   "outputs": [
    {
     "data": {
      "text/html": [
       "<div><svg style=\"position: absolute; width: 0; height: 0; overflow: hidden\">\n",
       "<defs>\n",
       "<symbol id=\"icon-database\" viewBox=\"0 0 32 32\">\n",
       "<path d=\"M16 0c-8.837 0-16 2.239-16 5v4c0 2.761 7.163 5 16 5s16-2.239 16-5v-4c0-2.761-7.163-5-16-5z\"></path>\n",
       "<path d=\"M16 17c-8.837 0-16-2.239-16-5v6c0 2.761 7.163 5 16 5s16-2.239 16-5v-6c0 2.761-7.163 5-16 5z\"></path>\n",
       "<path d=\"M16 26c-8.837 0-16-2.239-16-5v6c0 2.761 7.163 5 16 5s16-2.239 16-5v-6c0 2.761-7.163 5-16 5z\"></path>\n",
       "</symbol>\n",
       "<symbol id=\"icon-file-text2\" viewBox=\"0 0 32 32\">\n",
       "<path d=\"M28.681 7.159c-0.694-0.947-1.662-2.053-2.724-3.116s-2.169-2.030-3.116-2.724c-1.612-1.182-2.393-1.319-2.841-1.319h-15.5c-1.378 0-2.5 1.121-2.5 2.5v27c0 1.378 1.122 2.5 2.5 2.5h23c1.378 0 2.5-1.122 2.5-2.5v-19.5c0-0.448-0.137-1.23-1.319-2.841zM24.543 5.457c0.959 0.959 1.712 1.825 2.268 2.543h-4.811v-4.811c0.718 0.556 1.584 1.309 2.543 2.268zM28 29.5c0 0.271-0.229 0.5-0.5 0.5h-23c-0.271 0-0.5-0.229-0.5-0.5v-27c0-0.271 0.229-0.5 0.5-0.5 0 0 15.499-0 15.5 0v7c0 0.552 0.448 1 1 1h7v19.5z\"></path>\n",
       "<path d=\"M23 26h-14c-0.552 0-1-0.448-1-1s0.448-1 1-1h14c0.552 0 1 0.448 1 1s-0.448 1-1 1z\"></path>\n",
       "<path d=\"M23 22h-14c-0.552 0-1-0.448-1-1s0.448-1 1-1h14c0.552 0 1 0.448 1 1s-0.448 1-1 1z\"></path>\n",
       "<path d=\"M23 18h-14c-0.552 0-1-0.448-1-1s0.448-1 1-1h14c0.552 0 1 0.448 1 1s-0.448 1-1 1z\"></path>\n",
       "</symbol>\n",
       "</defs>\n",
       "</svg>\n",
       "<style>/* CSS stylesheet for displaying xarray objects in jupyterlab.\n",
       " *\n",
       " */\n",
       "\n",
       ":root {\n",
       "  --xr-font-color0: var(--jp-content-font-color0, rgba(0, 0, 0, 1));\n",
       "  --xr-font-color2: var(--jp-content-font-color2, rgba(0, 0, 0, 0.54));\n",
       "  --xr-font-color3: var(--jp-content-font-color3, rgba(0, 0, 0, 0.38));\n",
       "  --xr-border-color: var(--jp-border-color2, #e0e0e0);\n",
       "  --xr-disabled-color: var(--jp-layout-color3, #bdbdbd);\n",
       "  --xr-background-color: var(--jp-layout-color0, white);\n",
       "  --xr-background-color-row-even: var(--jp-layout-color1, white);\n",
       "  --xr-background-color-row-odd: var(--jp-layout-color2, #eeeeee);\n",
       "}\n",
       "\n",
       "html[theme=dark],\n",
       "body[data-theme=dark],\n",
       "body.vscode-dark {\n",
       "  --xr-font-color0: rgba(255, 255, 255, 1);\n",
       "  --xr-font-color2: rgba(255, 255, 255, 0.54);\n",
       "  --xr-font-color3: rgba(255, 255, 255, 0.38);\n",
       "  --xr-border-color: #1F1F1F;\n",
       "  --xr-disabled-color: #515151;\n",
       "  --xr-background-color: #111111;\n",
       "  --xr-background-color-row-even: #111111;\n",
       "  --xr-background-color-row-odd: #313131;\n",
       "}\n",
       "\n",
       ".xr-wrap {\n",
       "  display: block !important;\n",
       "  min-width: 300px;\n",
       "  max-width: 700px;\n",
       "}\n",
       "\n",
       ".xr-text-repr-fallback {\n",
       "  /* fallback to plain text repr when CSS is not injected (untrusted notebook) */\n",
       "  display: none;\n",
       "}\n",
       "\n",
       ".xr-header {\n",
       "  padding-top: 6px;\n",
       "  padding-bottom: 6px;\n",
       "  margin-bottom: 4px;\n",
       "  border-bottom: solid 1px var(--xr-border-color);\n",
       "}\n",
       "\n",
       ".xr-header > div,\n",
       ".xr-header > ul {\n",
       "  display: inline;\n",
       "  margin-top: 0;\n",
       "  margin-bottom: 0;\n",
       "}\n",
       "\n",
       ".xr-obj-type,\n",
       ".xr-array-name {\n",
       "  margin-left: 2px;\n",
       "  margin-right: 10px;\n",
       "}\n",
       "\n",
       ".xr-obj-type {\n",
       "  color: var(--xr-font-color2);\n",
       "}\n",
       "\n",
       ".xr-sections {\n",
       "  padding-left: 0 !important;\n",
       "  display: grid;\n",
       "  grid-template-columns: 150px auto auto 1fr 20px 20px;\n",
       "}\n",
       "\n",
       ".xr-section-item {\n",
       "  display: contents;\n",
       "}\n",
       "\n",
       ".xr-section-item input {\n",
       "  display: none;\n",
       "}\n",
       "\n",
       ".xr-section-item input + label {\n",
       "  color: var(--xr-disabled-color);\n",
       "}\n",
       "\n",
       ".xr-section-item input:enabled + label {\n",
       "  cursor: pointer;\n",
       "  color: var(--xr-font-color2);\n",
       "}\n",
       "\n",
       ".xr-section-item input:enabled + label:hover {\n",
       "  color: var(--xr-font-color0);\n",
       "}\n",
       "\n",
       ".xr-section-summary {\n",
       "  grid-column: 1;\n",
       "  color: var(--xr-font-color2);\n",
       "  font-weight: 500;\n",
       "}\n",
       "\n",
       ".xr-section-summary > span {\n",
       "  display: inline-block;\n",
       "  padding-left: 0.5em;\n",
       "}\n",
       "\n",
       ".xr-section-summary-in:disabled + label {\n",
       "  color: var(--xr-font-color2);\n",
       "}\n",
       "\n",
       ".xr-section-summary-in + label:before {\n",
       "  display: inline-block;\n",
       "  content: '►';\n",
       "  font-size: 11px;\n",
       "  width: 15px;\n",
       "  text-align: center;\n",
       "}\n",
       "\n",
       ".xr-section-summary-in:disabled + label:before {\n",
       "  color: var(--xr-disabled-color);\n",
       "}\n",
       "\n",
       ".xr-section-summary-in:checked + label:before {\n",
       "  content: '▼';\n",
       "}\n",
       "\n",
       ".xr-section-summary-in:checked + label > span {\n",
       "  display: none;\n",
       "}\n",
       "\n",
       ".xr-section-summary,\n",
       ".xr-section-inline-details {\n",
       "  padding-top: 4px;\n",
       "  padding-bottom: 4px;\n",
       "}\n",
       "\n",
       ".xr-section-inline-details {\n",
       "  grid-column: 2 / -1;\n",
       "}\n",
       "\n",
       ".xr-section-details {\n",
       "  display: none;\n",
       "  grid-column: 1 / -1;\n",
       "  margin-bottom: 5px;\n",
       "}\n",
       "\n",
       ".xr-section-summary-in:checked ~ .xr-section-details {\n",
       "  display: contents;\n",
       "}\n",
       "\n",
       ".xr-array-wrap {\n",
       "  grid-column: 1 / -1;\n",
       "  display: grid;\n",
       "  grid-template-columns: 20px auto;\n",
       "}\n",
       "\n",
       ".xr-array-wrap > label {\n",
       "  grid-column: 1;\n",
       "  vertical-align: top;\n",
       "}\n",
       "\n",
       ".xr-preview {\n",
       "  color: var(--xr-font-color3);\n",
       "}\n",
       "\n",
       ".xr-array-preview,\n",
       ".xr-array-data {\n",
       "  padding: 0 5px !important;\n",
       "  grid-column: 2;\n",
       "}\n",
       "\n",
       ".xr-array-data,\n",
       ".xr-array-in:checked ~ .xr-array-preview {\n",
       "  display: none;\n",
       "}\n",
       "\n",
       ".xr-array-in:checked ~ .xr-array-data,\n",
       ".xr-array-preview {\n",
       "  display: inline-block;\n",
       "}\n",
       "\n",
       ".xr-dim-list {\n",
       "  display: inline-block !important;\n",
       "  list-style: none;\n",
       "  padding: 0 !important;\n",
       "  margin: 0;\n",
       "}\n",
       "\n",
       ".xr-dim-list li {\n",
       "  display: inline-block;\n",
       "  padding: 0;\n",
       "  margin: 0;\n",
       "}\n",
       "\n",
       ".xr-dim-list:before {\n",
       "  content: '(';\n",
       "}\n",
       "\n",
       ".xr-dim-list:after {\n",
       "  content: ')';\n",
       "}\n",
       "\n",
       ".xr-dim-list li:not(:last-child):after {\n",
       "  content: ',';\n",
       "  padding-right: 5px;\n",
       "}\n",
       "\n",
       ".xr-has-index {\n",
       "  font-weight: bold;\n",
       "}\n",
       "\n",
       ".xr-var-list,\n",
       ".xr-var-item {\n",
       "  display: contents;\n",
       "}\n",
       "\n",
       ".xr-var-item > div,\n",
       ".xr-var-item label,\n",
       ".xr-var-item > .xr-var-name span {\n",
       "  background-color: var(--xr-background-color-row-even);\n",
       "  margin-bottom: 0;\n",
       "}\n",
       "\n",
       ".xr-var-item > .xr-var-name:hover span {\n",
       "  padding-right: 5px;\n",
       "}\n",
       "\n",
       ".xr-var-list > li:nth-child(odd) > div,\n",
       ".xr-var-list > li:nth-child(odd) > label,\n",
       ".xr-var-list > li:nth-child(odd) > .xr-var-name span {\n",
       "  background-color: var(--xr-background-color-row-odd);\n",
       "}\n",
       "\n",
       ".xr-var-name {\n",
       "  grid-column: 1;\n",
       "}\n",
       "\n",
       ".xr-var-dims {\n",
       "  grid-column: 2;\n",
       "}\n",
       "\n",
       ".xr-var-dtype {\n",
       "  grid-column: 3;\n",
       "  text-align: right;\n",
       "  color: var(--xr-font-color2);\n",
       "}\n",
       "\n",
       ".xr-var-preview {\n",
       "  grid-column: 4;\n",
       "}\n",
       "\n",
       ".xr-index-preview {\n",
       "  grid-column: 2 / 5;\n",
       "  color: var(--xr-font-color2);\n",
       "}\n",
       "\n",
       ".xr-var-name,\n",
       ".xr-var-dims,\n",
       ".xr-var-dtype,\n",
       ".xr-preview,\n",
       ".xr-attrs dt {\n",
       "  white-space: nowrap;\n",
       "  overflow: hidden;\n",
       "  text-overflow: ellipsis;\n",
       "  padding-right: 10px;\n",
       "}\n",
       "\n",
       ".xr-var-name:hover,\n",
       ".xr-var-dims:hover,\n",
       ".xr-var-dtype:hover,\n",
       ".xr-attrs dt:hover {\n",
       "  overflow: visible;\n",
       "  width: auto;\n",
       "  z-index: 1;\n",
       "}\n",
       "\n",
       ".xr-var-attrs,\n",
       ".xr-var-data,\n",
       ".xr-index-data {\n",
       "  display: none;\n",
       "  background-color: var(--xr-background-color) !important;\n",
       "  padding-bottom: 5px !important;\n",
       "}\n",
       "\n",
       ".xr-var-attrs-in:checked ~ .xr-var-attrs,\n",
       ".xr-var-data-in:checked ~ .xr-var-data,\n",
       ".xr-index-data-in:checked ~ .xr-index-data {\n",
       "  display: block;\n",
       "}\n",
       "\n",
       ".xr-var-data > table {\n",
       "  float: right;\n",
       "}\n",
       "\n",
       ".xr-var-name span,\n",
       ".xr-var-data,\n",
       ".xr-index-name div,\n",
       ".xr-index-data,\n",
       ".xr-attrs {\n",
       "  padding-left: 25px !important;\n",
       "}\n",
       "\n",
       ".xr-attrs,\n",
       ".xr-var-attrs,\n",
       ".xr-var-data,\n",
       ".xr-index-data {\n",
       "  grid-column: 1 / -1;\n",
       "}\n",
       "\n",
       "dl.xr-attrs {\n",
       "  padding: 0;\n",
       "  margin: 0;\n",
       "  display: grid;\n",
       "  grid-template-columns: 125px auto;\n",
       "}\n",
       "\n",
       ".xr-attrs dt,\n",
       ".xr-attrs dd {\n",
       "  padding: 0;\n",
       "  margin: 0;\n",
       "  float: left;\n",
       "  padding-right: 10px;\n",
       "  width: auto;\n",
       "}\n",
       "\n",
       ".xr-attrs dt {\n",
       "  font-weight: normal;\n",
       "  grid-column: 1;\n",
       "}\n",
       "\n",
       ".xr-attrs dt:hover span {\n",
       "  display: inline-block;\n",
       "  background: var(--xr-background-color);\n",
       "  padding-right: 10px;\n",
       "}\n",
       "\n",
       ".xr-attrs dd {\n",
       "  grid-column: 2;\n",
       "  white-space: pre-wrap;\n",
       "  word-break: break-all;\n",
       "}\n",
       "\n",
       ".xr-icon-database,\n",
       ".xr-icon-file-text2,\n",
       ".xr-no-icon {\n",
       "  display: inline-block;\n",
       "  vertical-align: middle;\n",
       "  width: 1em;\n",
       "  height: 1.5em !important;\n",
       "  stroke-width: 0;\n",
       "  stroke: currentColor;\n",
       "  fill: currentColor;\n",
       "}\n",
       "</style><pre class='xr-text-repr-fallback'>&lt;xarray.DataArray &#x27;longitude&#x27; (longitude: 37)&gt;\n",
       "array([-7.  , -6.75, -6.5 , -6.25, -6.  , -5.75, -5.5 , -5.25, -5.  , -4.75,\n",
       "       -4.5 , -4.25, -4.  , -3.75, -3.5 , -3.25, -3.  , -2.75, -2.5 , -2.25,\n",
       "       -2.  , -1.75, -1.5 , -1.25, -1.  , -0.75, -0.5 , -0.25,  0.  ,  0.25,\n",
       "        0.5 ,  0.75,  1.  ,  1.25,  1.5 ,  1.75,  2.  ], dtype=float32)\n",
       "Coordinates:\n",
       "  * longitude  (longitude) float32 -7.0 -6.75 -6.5 -6.25 ... 1.25 1.5 1.75 2.0\n",
       "Attributes:\n",
       "    units:      degrees_east\n",
       "    long_name:  longitude</pre><div class='xr-wrap' style='display:none'><div class='xr-header'><div class='xr-obj-type'>xarray.DataArray</div><div class='xr-array-name'>'longitude'</div><ul class='xr-dim-list'><li><span class='xr-has-index'>longitude</span>: 37</li></ul></div><ul class='xr-sections'><li class='xr-section-item'><div class='xr-array-wrap'><input id='section-6a5c7925-ab41-4400-a38e-bb916dfaaaa2' class='xr-array-in' type='checkbox' checked><label for='section-6a5c7925-ab41-4400-a38e-bb916dfaaaa2' title='Show/hide data repr'><svg class='icon xr-icon-database'><use xlink:href='#icon-database'></use></svg></label><div class='xr-array-preview xr-preview'><span>-7.0 -6.75 -6.5 -6.25 -6.0 -5.75 -5.5 ... 0.75 1.0 1.25 1.5 1.75 2.0</span></div><div class='xr-array-data'><pre>array([-7.  , -6.75, -6.5 , -6.25, -6.  , -5.75, -5.5 , -5.25, -5.  , -4.75,\n",
       "       -4.5 , -4.25, -4.  , -3.75, -3.5 , -3.25, -3.  , -2.75, -2.5 , -2.25,\n",
       "       -2.  , -1.75, -1.5 , -1.25, -1.  , -0.75, -0.5 , -0.25,  0.  ,  0.25,\n",
       "        0.5 ,  0.75,  1.  ,  1.25,  1.5 ,  1.75,  2.  ], dtype=float32)</pre></div></div></li><li class='xr-section-item'><input id='section-b136ccfa-f5cf-4065-a5b3-9e4164b72258' class='xr-section-summary-in' type='checkbox'  checked><label for='section-b136ccfa-f5cf-4065-a5b3-9e4164b72258' class='xr-section-summary' >Coordinates: <span>(1)</span></label><div class='xr-section-inline-details'></div><div class='xr-section-details'><ul class='xr-var-list'><li class='xr-var-item'><div class='xr-var-name'><span class='xr-has-index'>longitude</span></div><div class='xr-var-dims'>(longitude)</div><div class='xr-var-dtype'>float32</div><div class='xr-var-preview xr-preview'>-7.0 -6.75 -6.5 ... 1.5 1.75 2.0</div><input id='attrs-c3b0d948-3ab9-48c5-ab47-c8385c5845fa' class='xr-var-attrs-in' type='checkbox' ><label for='attrs-c3b0d948-3ab9-48c5-ab47-c8385c5845fa' title='Show/Hide attributes'><svg class='icon xr-icon-file-text2'><use xlink:href='#icon-file-text2'></use></svg></label><input id='data-ec2cd22a-3d38-4677-978b-b2ff2c5fbde5' class='xr-var-data-in' type='checkbox'><label for='data-ec2cd22a-3d38-4677-978b-b2ff2c5fbde5' title='Show/Hide data repr'><svg class='icon xr-icon-database'><use xlink:href='#icon-database'></use></svg></label><div class='xr-var-attrs'><dl class='xr-attrs'><dt><span>units :</span></dt><dd>degrees_east</dd><dt><span>long_name :</span></dt><dd>longitude</dd></dl></div><div class='xr-var-data'><pre>array([-7.  , -6.75, -6.5 , -6.25, -6.  , -5.75, -5.5 , -5.25, -5.  , -4.75,\n",
       "       -4.5 , -4.25, -4.  , -3.75, -3.5 , -3.25, -3.  , -2.75, -2.5 , -2.25,\n",
       "       -2.  , -1.75, -1.5 , -1.25, -1.  , -0.75, -0.5 , -0.25,  0.  ,  0.25,\n",
       "        0.5 ,  0.75,  1.  ,  1.25,  1.5 ,  1.75,  2.  ], dtype=float32)</pre></div></li></ul></div></li><li class='xr-section-item'><input id='section-d84ddc74-dc18-429c-abfa-f8018b04d65e' class='xr-section-summary-in' type='checkbox'  ><label for='section-d84ddc74-dc18-429c-abfa-f8018b04d65e' class='xr-section-summary' >Indexes: <span>(1)</span></label><div class='xr-section-inline-details'></div><div class='xr-section-details'><ul class='xr-var-list'><li class='xr-var-item'><div class='xr-index-name'><div>longitude</div></div><div class='xr-index-preview'>PandasIndex</div><div></div><input id='index-d39936cb-aed1-46a6-8dfc-b1db617f24b7' class='xr-index-data-in' type='checkbox'/><label for='index-d39936cb-aed1-46a6-8dfc-b1db617f24b7' title='Show/Hide index repr'><svg class='icon xr-icon-database'><use xlink:href='#icon-database'></use></svg></label><div class='xr-index-data'><pre>PandasIndex(Index([ -7.0, -6.75,  -6.5, -6.25,  -6.0, -5.75,  -5.5, -5.25,  -5.0, -4.75,\n",
       "        -4.5, -4.25,  -4.0, -3.75,  -3.5, -3.25,  -3.0, -2.75,  -2.5, -2.25,\n",
       "        -2.0, -1.75,  -1.5, -1.25,  -1.0, -0.75,  -0.5, -0.25,   0.0,  0.25,\n",
       "         0.5,  0.75,   1.0,  1.25,   1.5,  1.75,   2.0],\n",
       "      dtype=&#x27;float32&#x27;, name=&#x27;longitude&#x27;))</pre></div></li></ul></div></li><li class='xr-section-item'><input id='section-17b2c00d-cdc8-4ecd-b58b-0c5facff682d' class='xr-section-summary-in' type='checkbox'  checked><label for='section-17b2c00d-cdc8-4ecd-b58b-0c5facff682d' class='xr-section-summary' >Attributes: <span>(2)</span></label><div class='xr-section-inline-details'></div><div class='xr-section-details'><dl class='xr-attrs'><dt><span>units :</span></dt><dd>degrees_east</dd><dt><span>long_name :</span></dt><dd>longitude</dd></dl></div></li></ul></div></div>"
      ],
      "text/plain": [
       "<xarray.DataArray 'longitude' (longitude: 37)>\n",
       "array([-7.  , -6.75, -6.5 , -6.25, -6.  , -5.75, -5.5 , -5.25, -5.  , -4.75,\n",
       "       -4.5 , -4.25, -4.  , -3.75, -3.5 , -3.25, -3.  , -2.75, -2.5 , -2.25,\n",
       "       -2.  , -1.75, -1.5 , -1.25, -1.  , -0.75, -0.5 , -0.25,  0.  ,  0.25,\n",
       "        0.5 ,  0.75,  1.  ,  1.25,  1.5 ,  1.75,  2.  ], dtype=float32)\n",
       "Coordinates:\n",
       "  * longitude  (longitude) float32 -7.0 -6.75 -6.5 -6.25 ... 1.25 1.5 1.75 2.0\n",
       "Attributes:\n",
       "    units:      degrees_east\n",
       "    long_name:  longitude"
      ]
     },
     "execution_count": 12,
     "metadata": {},
     "output_type": "execute_result"
    }
   ],
   "source": [
    "ds.longitude"
   ]
  },
  {
   "cell_type": "code",
   "execution_count": 13,
   "id": "3c9c3e9e-35d3-4b63-afe6-b80afa1e37d4",
   "metadata": {},
   "outputs": [
    {
     "data": {
      "text/html": [
       "<div><svg style=\"position: absolute; width: 0; height: 0; overflow: hidden\">\n",
       "<defs>\n",
       "<symbol id=\"icon-database\" viewBox=\"0 0 32 32\">\n",
       "<path d=\"M16 0c-8.837 0-16 2.239-16 5v4c0 2.761 7.163 5 16 5s16-2.239 16-5v-4c0-2.761-7.163-5-16-5z\"></path>\n",
       "<path d=\"M16 17c-8.837 0-16-2.239-16-5v6c0 2.761 7.163 5 16 5s16-2.239 16-5v-6c0 2.761-7.163 5-16 5z\"></path>\n",
       "<path d=\"M16 26c-8.837 0-16-2.239-16-5v6c0 2.761 7.163 5 16 5s16-2.239 16-5v-6c0 2.761-7.163 5-16 5z\"></path>\n",
       "</symbol>\n",
       "<symbol id=\"icon-file-text2\" viewBox=\"0 0 32 32\">\n",
       "<path d=\"M28.681 7.159c-0.694-0.947-1.662-2.053-2.724-3.116s-2.169-2.030-3.116-2.724c-1.612-1.182-2.393-1.319-2.841-1.319h-15.5c-1.378 0-2.5 1.121-2.5 2.5v27c0 1.378 1.122 2.5 2.5 2.5h23c1.378 0 2.5-1.122 2.5-2.5v-19.5c0-0.448-0.137-1.23-1.319-2.841zM24.543 5.457c0.959 0.959 1.712 1.825 2.268 2.543h-4.811v-4.811c0.718 0.556 1.584 1.309 2.543 2.268zM28 29.5c0 0.271-0.229 0.5-0.5 0.5h-23c-0.271 0-0.5-0.229-0.5-0.5v-27c0-0.271 0.229-0.5 0.5-0.5 0 0 15.499-0 15.5 0v7c0 0.552 0.448 1 1 1h7v19.5z\"></path>\n",
       "<path d=\"M23 26h-14c-0.552 0-1-0.448-1-1s0.448-1 1-1h14c0.552 0 1 0.448 1 1s-0.448 1-1 1z\"></path>\n",
       "<path d=\"M23 22h-14c-0.552 0-1-0.448-1-1s0.448-1 1-1h14c0.552 0 1 0.448 1 1s-0.448 1-1 1z\"></path>\n",
       "<path d=\"M23 18h-14c-0.552 0-1-0.448-1-1s0.448-1 1-1h14c0.552 0 1 0.448 1 1s-0.448 1-1 1z\"></path>\n",
       "</symbol>\n",
       "</defs>\n",
       "</svg>\n",
       "<style>/* CSS stylesheet for displaying xarray objects in jupyterlab.\n",
       " *\n",
       " */\n",
       "\n",
       ":root {\n",
       "  --xr-font-color0: var(--jp-content-font-color0, rgba(0, 0, 0, 1));\n",
       "  --xr-font-color2: var(--jp-content-font-color2, rgba(0, 0, 0, 0.54));\n",
       "  --xr-font-color3: var(--jp-content-font-color3, rgba(0, 0, 0, 0.38));\n",
       "  --xr-border-color: var(--jp-border-color2, #e0e0e0);\n",
       "  --xr-disabled-color: var(--jp-layout-color3, #bdbdbd);\n",
       "  --xr-background-color: var(--jp-layout-color0, white);\n",
       "  --xr-background-color-row-even: var(--jp-layout-color1, white);\n",
       "  --xr-background-color-row-odd: var(--jp-layout-color2, #eeeeee);\n",
       "}\n",
       "\n",
       "html[theme=dark],\n",
       "body[data-theme=dark],\n",
       "body.vscode-dark {\n",
       "  --xr-font-color0: rgba(255, 255, 255, 1);\n",
       "  --xr-font-color2: rgba(255, 255, 255, 0.54);\n",
       "  --xr-font-color3: rgba(255, 255, 255, 0.38);\n",
       "  --xr-border-color: #1F1F1F;\n",
       "  --xr-disabled-color: #515151;\n",
       "  --xr-background-color: #111111;\n",
       "  --xr-background-color-row-even: #111111;\n",
       "  --xr-background-color-row-odd: #313131;\n",
       "}\n",
       "\n",
       ".xr-wrap {\n",
       "  display: block !important;\n",
       "  min-width: 300px;\n",
       "  max-width: 700px;\n",
       "}\n",
       "\n",
       ".xr-text-repr-fallback {\n",
       "  /* fallback to plain text repr when CSS is not injected (untrusted notebook) */\n",
       "  display: none;\n",
       "}\n",
       "\n",
       ".xr-header {\n",
       "  padding-top: 6px;\n",
       "  padding-bottom: 6px;\n",
       "  margin-bottom: 4px;\n",
       "  border-bottom: solid 1px var(--xr-border-color);\n",
       "}\n",
       "\n",
       ".xr-header > div,\n",
       ".xr-header > ul {\n",
       "  display: inline;\n",
       "  margin-top: 0;\n",
       "  margin-bottom: 0;\n",
       "}\n",
       "\n",
       ".xr-obj-type,\n",
       ".xr-array-name {\n",
       "  margin-left: 2px;\n",
       "  margin-right: 10px;\n",
       "}\n",
       "\n",
       ".xr-obj-type {\n",
       "  color: var(--xr-font-color2);\n",
       "}\n",
       "\n",
       ".xr-sections {\n",
       "  padding-left: 0 !important;\n",
       "  display: grid;\n",
       "  grid-template-columns: 150px auto auto 1fr 20px 20px;\n",
       "}\n",
       "\n",
       ".xr-section-item {\n",
       "  display: contents;\n",
       "}\n",
       "\n",
       ".xr-section-item input {\n",
       "  display: none;\n",
       "}\n",
       "\n",
       ".xr-section-item input + label {\n",
       "  color: var(--xr-disabled-color);\n",
       "}\n",
       "\n",
       ".xr-section-item input:enabled + label {\n",
       "  cursor: pointer;\n",
       "  color: var(--xr-font-color2);\n",
       "}\n",
       "\n",
       ".xr-section-item input:enabled + label:hover {\n",
       "  color: var(--xr-font-color0);\n",
       "}\n",
       "\n",
       ".xr-section-summary {\n",
       "  grid-column: 1;\n",
       "  color: var(--xr-font-color2);\n",
       "  font-weight: 500;\n",
       "}\n",
       "\n",
       ".xr-section-summary > span {\n",
       "  display: inline-block;\n",
       "  padding-left: 0.5em;\n",
       "}\n",
       "\n",
       ".xr-section-summary-in:disabled + label {\n",
       "  color: var(--xr-font-color2);\n",
       "}\n",
       "\n",
       ".xr-section-summary-in + label:before {\n",
       "  display: inline-block;\n",
       "  content: '►';\n",
       "  font-size: 11px;\n",
       "  width: 15px;\n",
       "  text-align: center;\n",
       "}\n",
       "\n",
       ".xr-section-summary-in:disabled + label:before {\n",
       "  color: var(--xr-disabled-color);\n",
       "}\n",
       "\n",
       ".xr-section-summary-in:checked + label:before {\n",
       "  content: '▼';\n",
       "}\n",
       "\n",
       ".xr-section-summary-in:checked + label > span {\n",
       "  display: none;\n",
       "}\n",
       "\n",
       ".xr-section-summary,\n",
       ".xr-section-inline-details {\n",
       "  padding-top: 4px;\n",
       "  padding-bottom: 4px;\n",
       "}\n",
       "\n",
       ".xr-section-inline-details {\n",
       "  grid-column: 2 / -1;\n",
       "}\n",
       "\n",
       ".xr-section-details {\n",
       "  display: none;\n",
       "  grid-column: 1 / -1;\n",
       "  margin-bottom: 5px;\n",
       "}\n",
       "\n",
       ".xr-section-summary-in:checked ~ .xr-section-details {\n",
       "  display: contents;\n",
       "}\n",
       "\n",
       ".xr-array-wrap {\n",
       "  grid-column: 1 / -1;\n",
       "  display: grid;\n",
       "  grid-template-columns: 20px auto;\n",
       "}\n",
       "\n",
       ".xr-array-wrap > label {\n",
       "  grid-column: 1;\n",
       "  vertical-align: top;\n",
       "}\n",
       "\n",
       ".xr-preview {\n",
       "  color: var(--xr-font-color3);\n",
       "}\n",
       "\n",
       ".xr-array-preview,\n",
       ".xr-array-data {\n",
       "  padding: 0 5px !important;\n",
       "  grid-column: 2;\n",
       "}\n",
       "\n",
       ".xr-array-data,\n",
       ".xr-array-in:checked ~ .xr-array-preview {\n",
       "  display: none;\n",
       "}\n",
       "\n",
       ".xr-array-in:checked ~ .xr-array-data,\n",
       ".xr-array-preview {\n",
       "  display: inline-block;\n",
       "}\n",
       "\n",
       ".xr-dim-list {\n",
       "  display: inline-block !important;\n",
       "  list-style: none;\n",
       "  padding: 0 !important;\n",
       "  margin: 0;\n",
       "}\n",
       "\n",
       ".xr-dim-list li {\n",
       "  display: inline-block;\n",
       "  padding: 0;\n",
       "  margin: 0;\n",
       "}\n",
       "\n",
       ".xr-dim-list:before {\n",
       "  content: '(';\n",
       "}\n",
       "\n",
       ".xr-dim-list:after {\n",
       "  content: ')';\n",
       "}\n",
       "\n",
       ".xr-dim-list li:not(:last-child):after {\n",
       "  content: ',';\n",
       "  padding-right: 5px;\n",
       "}\n",
       "\n",
       ".xr-has-index {\n",
       "  font-weight: bold;\n",
       "}\n",
       "\n",
       ".xr-var-list,\n",
       ".xr-var-item {\n",
       "  display: contents;\n",
       "}\n",
       "\n",
       ".xr-var-item > div,\n",
       ".xr-var-item label,\n",
       ".xr-var-item > .xr-var-name span {\n",
       "  background-color: var(--xr-background-color-row-even);\n",
       "  margin-bottom: 0;\n",
       "}\n",
       "\n",
       ".xr-var-item > .xr-var-name:hover span {\n",
       "  padding-right: 5px;\n",
       "}\n",
       "\n",
       ".xr-var-list > li:nth-child(odd) > div,\n",
       ".xr-var-list > li:nth-child(odd) > label,\n",
       ".xr-var-list > li:nth-child(odd) > .xr-var-name span {\n",
       "  background-color: var(--xr-background-color-row-odd);\n",
       "}\n",
       "\n",
       ".xr-var-name {\n",
       "  grid-column: 1;\n",
       "}\n",
       "\n",
       ".xr-var-dims {\n",
       "  grid-column: 2;\n",
       "}\n",
       "\n",
       ".xr-var-dtype {\n",
       "  grid-column: 3;\n",
       "  text-align: right;\n",
       "  color: var(--xr-font-color2);\n",
       "}\n",
       "\n",
       ".xr-var-preview {\n",
       "  grid-column: 4;\n",
       "}\n",
       "\n",
       ".xr-index-preview {\n",
       "  grid-column: 2 / 5;\n",
       "  color: var(--xr-font-color2);\n",
       "}\n",
       "\n",
       ".xr-var-name,\n",
       ".xr-var-dims,\n",
       ".xr-var-dtype,\n",
       ".xr-preview,\n",
       ".xr-attrs dt {\n",
       "  white-space: nowrap;\n",
       "  overflow: hidden;\n",
       "  text-overflow: ellipsis;\n",
       "  padding-right: 10px;\n",
       "}\n",
       "\n",
       ".xr-var-name:hover,\n",
       ".xr-var-dims:hover,\n",
       ".xr-var-dtype:hover,\n",
       ".xr-attrs dt:hover {\n",
       "  overflow: visible;\n",
       "  width: auto;\n",
       "  z-index: 1;\n",
       "}\n",
       "\n",
       ".xr-var-attrs,\n",
       ".xr-var-data,\n",
       ".xr-index-data {\n",
       "  display: none;\n",
       "  background-color: var(--xr-background-color) !important;\n",
       "  padding-bottom: 5px !important;\n",
       "}\n",
       "\n",
       ".xr-var-attrs-in:checked ~ .xr-var-attrs,\n",
       ".xr-var-data-in:checked ~ .xr-var-data,\n",
       ".xr-index-data-in:checked ~ .xr-index-data {\n",
       "  display: block;\n",
       "}\n",
       "\n",
       ".xr-var-data > table {\n",
       "  float: right;\n",
       "}\n",
       "\n",
       ".xr-var-name span,\n",
       ".xr-var-data,\n",
       ".xr-index-name div,\n",
       ".xr-index-data,\n",
       ".xr-attrs {\n",
       "  padding-left: 25px !important;\n",
       "}\n",
       "\n",
       ".xr-attrs,\n",
       ".xr-var-attrs,\n",
       ".xr-var-data,\n",
       ".xr-index-data {\n",
       "  grid-column: 1 / -1;\n",
       "}\n",
       "\n",
       "dl.xr-attrs {\n",
       "  padding: 0;\n",
       "  margin: 0;\n",
       "  display: grid;\n",
       "  grid-template-columns: 125px auto;\n",
       "}\n",
       "\n",
       ".xr-attrs dt,\n",
       ".xr-attrs dd {\n",
       "  padding: 0;\n",
       "  margin: 0;\n",
       "  float: left;\n",
       "  padding-right: 10px;\n",
       "  width: auto;\n",
       "}\n",
       "\n",
       ".xr-attrs dt {\n",
       "  font-weight: normal;\n",
       "  grid-column: 1;\n",
       "}\n",
       "\n",
       ".xr-attrs dt:hover span {\n",
       "  display: inline-block;\n",
       "  background: var(--xr-background-color);\n",
       "  padding-right: 10px;\n",
       "}\n",
       "\n",
       ".xr-attrs dd {\n",
       "  grid-column: 2;\n",
       "  white-space: pre-wrap;\n",
       "  word-break: break-all;\n",
       "}\n",
       "\n",
       ".xr-icon-database,\n",
       ".xr-icon-file-text2,\n",
       ".xr-no-icon {\n",
       "  display: inline-block;\n",
       "  vertical-align: middle;\n",
       "  width: 1em;\n",
       "  height: 1.5em !important;\n",
       "  stroke-width: 0;\n",
       "  stroke: currentColor;\n",
       "  fill: currentColor;\n",
       "}\n",
       "</style><pre class='xr-text-repr-fallback'>&lt;xarray.DataArray &#x27;latitude&#x27; (latitude: 33)&gt;\n",
       "array([58.  , 57.75, 57.5 , 57.25, 57.  , 56.75, 56.5 , 56.25, 56.  , 55.75,\n",
       "       55.5 , 55.25, 55.  , 54.75, 54.5 , 54.25, 54.  , 53.75, 53.5 , 53.25,\n",
       "       53.  , 52.75, 52.5 , 52.25, 52.  , 51.75, 51.5 , 51.25, 51.  , 50.75,\n",
       "       50.5 , 50.25, 50.  ], dtype=float32)\n",
       "Coordinates:\n",
       "  * latitude  (latitude) float32 58.0 57.75 57.5 57.25 ... 50.75 50.5 50.25 50.0\n",
       "Attributes:\n",
       "    units:      degrees_north\n",
       "    long_name:  latitude</pre><div class='xr-wrap' style='display:none'><div class='xr-header'><div class='xr-obj-type'>xarray.DataArray</div><div class='xr-array-name'>'latitude'</div><ul class='xr-dim-list'><li><span class='xr-has-index'>latitude</span>: 33</li></ul></div><ul class='xr-sections'><li class='xr-section-item'><div class='xr-array-wrap'><input id='section-0fbcc3b7-e5b6-48b0-964d-07745930a191' class='xr-array-in' type='checkbox' checked><label for='section-0fbcc3b7-e5b6-48b0-964d-07745930a191' title='Show/hide data repr'><svg class='icon xr-icon-database'><use xlink:href='#icon-database'></use></svg></label><div class='xr-array-preview xr-preview'><span>58.0 57.75 57.5 57.25 57.0 56.75 ... 51.25 51.0 50.75 50.5 50.25 50.0</span></div><div class='xr-array-data'><pre>array([58.  , 57.75, 57.5 , 57.25, 57.  , 56.75, 56.5 , 56.25, 56.  , 55.75,\n",
       "       55.5 , 55.25, 55.  , 54.75, 54.5 , 54.25, 54.  , 53.75, 53.5 , 53.25,\n",
       "       53.  , 52.75, 52.5 , 52.25, 52.  , 51.75, 51.5 , 51.25, 51.  , 50.75,\n",
       "       50.5 , 50.25, 50.  ], dtype=float32)</pre></div></div></li><li class='xr-section-item'><input id='section-27bb80bd-f04f-436a-b5c4-af0df09e94b2' class='xr-section-summary-in' type='checkbox'  checked><label for='section-27bb80bd-f04f-436a-b5c4-af0df09e94b2' class='xr-section-summary' >Coordinates: <span>(1)</span></label><div class='xr-section-inline-details'></div><div class='xr-section-details'><ul class='xr-var-list'><li class='xr-var-item'><div class='xr-var-name'><span class='xr-has-index'>latitude</span></div><div class='xr-var-dims'>(latitude)</div><div class='xr-var-dtype'>float32</div><div class='xr-var-preview xr-preview'>58.0 57.75 57.5 ... 50.5 50.25 50.0</div><input id='attrs-216fcee7-d43d-45d5-b7b0-c3f4ce298645' class='xr-var-attrs-in' type='checkbox' ><label for='attrs-216fcee7-d43d-45d5-b7b0-c3f4ce298645' title='Show/Hide attributes'><svg class='icon xr-icon-file-text2'><use xlink:href='#icon-file-text2'></use></svg></label><input id='data-68354f45-d25b-4483-ab97-8f927c325984' class='xr-var-data-in' type='checkbox'><label for='data-68354f45-d25b-4483-ab97-8f927c325984' title='Show/Hide data repr'><svg class='icon xr-icon-database'><use xlink:href='#icon-database'></use></svg></label><div class='xr-var-attrs'><dl class='xr-attrs'><dt><span>units :</span></dt><dd>degrees_north</dd><dt><span>long_name :</span></dt><dd>latitude</dd></dl></div><div class='xr-var-data'><pre>array([58.  , 57.75, 57.5 , 57.25, 57.  , 56.75, 56.5 , 56.25, 56.  , 55.75,\n",
       "       55.5 , 55.25, 55.  , 54.75, 54.5 , 54.25, 54.  , 53.75, 53.5 , 53.25,\n",
       "       53.  , 52.75, 52.5 , 52.25, 52.  , 51.75, 51.5 , 51.25, 51.  , 50.75,\n",
       "       50.5 , 50.25, 50.  ], dtype=float32)</pre></div></li></ul></div></li><li class='xr-section-item'><input id='section-79ef5628-d2d0-417d-9180-c8fda8d35938' class='xr-section-summary-in' type='checkbox'  ><label for='section-79ef5628-d2d0-417d-9180-c8fda8d35938' class='xr-section-summary' >Indexes: <span>(1)</span></label><div class='xr-section-inline-details'></div><div class='xr-section-details'><ul class='xr-var-list'><li class='xr-var-item'><div class='xr-index-name'><div>latitude</div></div><div class='xr-index-preview'>PandasIndex</div><div></div><input id='index-9cdbe658-cac6-4705-9b40-4e1f5600f732' class='xr-index-data-in' type='checkbox'/><label for='index-9cdbe658-cac6-4705-9b40-4e1f5600f732' title='Show/Hide index repr'><svg class='icon xr-icon-database'><use xlink:href='#icon-database'></use></svg></label><div class='xr-index-data'><pre>PandasIndex(Index([ 58.0, 57.75,  57.5, 57.25,  57.0, 56.75,  56.5, 56.25,  56.0, 55.75,\n",
       "        55.5, 55.25,  55.0, 54.75,  54.5, 54.25,  54.0, 53.75,  53.5, 53.25,\n",
       "        53.0, 52.75,  52.5, 52.25,  52.0, 51.75,  51.5, 51.25,  51.0, 50.75,\n",
       "        50.5, 50.25,  50.0],\n",
       "      dtype=&#x27;float32&#x27;, name=&#x27;latitude&#x27;))</pre></div></li></ul></div></li><li class='xr-section-item'><input id='section-57b528eb-ae6c-4336-a0e9-8c30e4d4d6f4' class='xr-section-summary-in' type='checkbox'  checked><label for='section-57b528eb-ae6c-4336-a0e9-8c30e4d4d6f4' class='xr-section-summary' >Attributes: <span>(2)</span></label><div class='xr-section-inline-details'></div><div class='xr-section-details'><dl class='xr-attrs'><dt><span>units :</span></dt><dd>degrees_north</dd><dt><span>long_name :</span></dt><dd>latitude</dd></dl></div></li></ul></div></div>"
      ],
      "text/plain": [
       "<xarray.DataArray 'latitude' (latitude: 33)>\n",
       "array([58.  , 57.75, 57.5 , 57.25, 57.  , 56.75, 56.5 , 56.25, 56.  , 55.75,\n",
       "       55.5 , 55.25, 55.  , 54.75, 54.5 , 54.25, 54.  , 53.75, 53.5 , 53.25,\n",
       "       53.  , 52.75, 52.5 , 52.25, 52.  , 51.75, 51.5 , 51.25, 51.  , 50.75,\n",
       "       50.5 , 50.25, 50.  ], dtype=float32)\n",
       "Coordinates:\n",
       "  * latitude  (latitude) float32 58.0 57.75 57.5 57.25 ... 50.75 50.5 50.25 50.0\n",
       "Attributes:\n",
       "    units:      degrees_north\n",
       "    long_name:  latitude"
      ]
     },
     "execution_count": 13,
     "metadata": {},
     "output_type": "execute_result"
    }
   ],
   "source": [
    "ds.latitude"
   ]
  },
  {
   "cell_type": "code",
   "execution_count": 14,
   "id": "35483674-0d5b-4f75-b3f5-3f541ac1772e",
   "metadata": {},
   "outputs": [
    {
     "data": {
      "text/html": [
       "<div><svg style=\"position: absolute; width: 0; height: 0; overflow: hidden\">\n",
       "<defs>\n",
       "<symbol id=\"icon-database\" viewBox=\"0 0 32 32\">\n",
       "<path d=\"M16 0c-8.837 0-16 2.239-16 5v4c0 2.761 7.163 5 16 5s16-2.239 16-5v-4c0-2.761-7.163-5-16-5z\"></path>\n",
       "<path d=\"M16 17c-8.837 0-16-2.239-16-5v6c0 2.761 7.163 5 16 5s16-2.239 16-5v-6c0 2.761-7.163 5-16 5z\"></path>\n",
       "<path d=\"M16 26c-8.837 0-16-2.239-16-5v6c0 2.761 7.163 5 16 5s16-2.239 16-5v-6c0 2.761-7.163 5-16 5z\"></path>\n",
       "</symbol>\n",
       "<symbol id=\"icon-file-text2\" viewBox=\"0 0 32 32\">\n",
       "<path d=\"M28.681 7.159c-0.694-0.947-1.662-2.053-2.724-3.116s-2.169-2.030-3.116-2.724c-1.612-1.182-2.393-1.319-2.841-1.319h-15.5c-1.378 0-2.5 1.121-2.5 2.5v27c0 1.378 1.122 2.5 2.5 2.5h23c1.378 0 2.5-1.122 2.5-2.5v-19.5c0-0.448-0.137-1.23-1.319-2.841zM24.543 5.457c0.959 0.959 1.712 1.825 2.268 2.543h-4.811v-4.811c0.718 0.556 1.584 1.309 2.543 2.268zM28 29.5c0 0.271-0.229 0.5-0.5 0.5h-23c-0.271 0-0.5-0.229-0.5-0.5v-27c0-0.271 0.229-0.5 0.5-0.5 0 0 15.499-0 15.5 0v7c0 0.552 0.448 1 1 1h7v19.5z\"></path>\n",
       "<path d=\"M23 26h-14c-0.552 0-1-0.448-1-1s0.448-1 1-1h14c0.552 0 1 0.448 1 1s-0.448 1-1 1z\"></path>\n",
       "<path d=\"M23 22h-14c-0.552 0-1-0.448-1-1s0.448-1 1-1h14c0.552 0 1 0.448 1 1s-0.448 1-1 1z\"></path>\n",
       "<path d=\"M23 18h-14c-0.552 0-1-0.448-1-1s0.448-1 1-1h14c0.552 0 1 0.448 1 1s-0.448 1-1 1z\"></path>\n",
       "</symbol>\n",
       "</defs>\n",
       "</svg>\n",
       "<style>/* CSS stylesheet for displaying xarray objects in jupyterlab.\n",
       " *\n",
       " */\n",
       "\n",
       ":root {\n",
       "  --xr-font-color0: var(--jp-content-font-color0, rgba(0, 0, 0, 1));\n",
       "  --xr-font-color2: var(--jp-content-font-color2, rgba(0, 0, 0, 0.54));\n",
       "  --xr-font-color3: var(--jp-content-font-color3, rgba(0, 0, 0, 0.38));\n",
       "  --xr-border-color: var(--jp-border-color2, #e0e0e0);\n",
       "  --xr-disabled-color: var(--jp-layout-color3, #bdbdbd);\n",
       "  --xr-background-color: var(--jp-layout-color0, white);\n",
       "  --xr-background-color-row-even: var(--jp-layout-color1, white);\n",
       "  --xr-background-color-row-odd: var(--jp-layout-color2, #eeeeee);\n",
       "}\n",
       "\n",
       "html[theme=dark],\n",
       "body[data-theme=dark],\n",
       "body.vscode-dark {\n",
       "  --xr-font-color0: rgba(255, 255, 255, 1);\n",
       "  --xr-font-color2: rgba(255, 255, 255, 0.54);\n",
       "  --xr-font-color3: rgba(255, 255, 255, 0.38);\n",
       "  --xr-border-color: #1F1F1F;\n",
       "  --xr-disabled-color: #515151;\n",
       "  --xr-background-color: #111111;\n",
       "  --xr-background-color-row-even: #111111;\n",
       "  --xr-background-color-row-odd: #313131;\n",
       "}\n",
       "\n",
       ".xr-wrap {\n",
       "  display: block !important;\n",
       "  min-width: 300px;\n",
       "  max-width: 700px;\n",
       "}\n",
       "\n",
       ".xr-text-repr-fallback {\n",
       "  /* fallback to plain text repr when CSS is not injected (untrusted notebook) */\n",
       "  display: none;\n",
       "}\n",
       "\n",
       ".xr-header {\n",
       "  padding-top: 6px;\n",
       "  padding-bottom: 6px;\n",
       "  margin-bottom: 4px;\n",
       "  border-bottom: solid 1px var(--xr-border-color);\n",
       "}\n",
       "\n",
       ".xr-header > div,\n",
       ".xr-header > ul {\n",
       "  display: inline;\n",
       "  margin-top: 0;\n",
       "  margin-bottom: 0;\n",
       "}\n",
       "\n",
       ".xr-obj-type,\n",
       ".xr-array-name {\n",
       "  margin-left: 2px;\n",
       "  margin-right: 10px;\n",
       "}\n",
       "\n",
       ".xr-obj-type {\n",
       "  color: var(--xr-font-color2);\n",
       "}\n",
       "\n",
       ".xr-sections {\n",
       "  padding-left: 0 !important;\n",
       "  display: grid;\n",
       "  grid-template-columns: 150px auto auto 1fr 20px 20px;\n",
       "}\n",
       "\n",
       ".xr-section-item {\n",
       "  display: contents;\n",
       "}\n",
       "\n",
       ".xr-section-item input {\n",
       "  display: none;\n",
       "}\n",
       "\n",
       ".xr-section-item input + label {\n",
       "  color: var(--xr-disabled-color);\n",
       "}\n",
       "\n",
       ".xr-section-item input:enabled + label {\n",
       "  cursor: pointer;\n",
       "  color: var(--xr-font-color2);\n",
       "}\n",
       "\n",
       ".xr-section-item input:enabled + label:hover {\n",
       "  color: var(--xr-font-color0);\n",
       "}\n",
       "\n",
       ".xr-section-summary {\n",
       "  grid-column: 1;\n",
       "  color: var(--xr-font-color2);\n",
       "  font-weight: 500;\n",
       "}\n",
       "\n",
       ".xr-section-summary > span {\n",
       "  display: inline-block;\n",
       "  padding-left: 0.5em;\n",
       "}\n",
       "\n",
       ".xr-section-summary-in:disabled + label {\n",
       "  color: var(--xr-font-color2);\n",
       "}\n",
       "\n",
       ".xr-section-summary-in + label:before {\n",
       "  display: inline-block;\n",
       "  content: '►';\n",
       "  font-size: 11px;\n",
       "  width: 15px;\n",
       "  text-align: center;\n",
       "}\n",
       "\n",
       ".xr-section-summary-in:disabled + label:before {\n",
       "  color: var(--xr-disabled-color);\n",
       "}\n",
       "\n",
       ".xr-section-summary-in:checked + label:before {\n",
       "  content: '▼';\n",
       "}\n",
       "\n",
       ".xr-section-summary-in:checked + label > span {\n",
       "  display: none;\n",
       "}\n",
       "\n",
       ".xr-section-summary,\n",
       ".xr-section-inline-details {\n",
       "  padding-top: 4px;\n",
       "  padding-bottom: 4px;\n",
       "}\n",
       "\n",
       ".xr-section-inline-details {\n",
       "  grid-column: 2 / -1;\n",
       "}\n",
       "\n",
       ".xr-section-details {\n",
       "  display: none;\n",
       "  grid-column: 1 / -1;\n",
       "  margin-bottom: 5px;\n",
       "}\n",
       "\n",
       ".xr-section-summary-in:checked ~ .xr-section-details {\n",
       "  display: contents;\n",
       "}\n",
       "\n",
       ".xr-array-wrap {\n",
       "  grid-column: 1 / -1;\n",
       "  display: grid;\n",
       "  grid-template-columns: 20px auto;\n",
       "}\n",
       "\n",
       ".xr-array-wrap > label {\n",
       "  grid-column: 1;\n",
       "  vertical-align: top;\n",
       "}\n",
       "\n",
       ".xr-preview {\n",
       "  color: var(--xr-font-color3);\n",
       "}\n",
       "\n",
       ".xr-array-preview,\n",
       ".xr-array-data {\n",
       "  padding: 0 5px !important;\n",
       "  grid-column: 2;\n",
       "}\n",
       "\n",
       ".xr-array-data,\n",
       ".xr-array-in:checked ~ .xr-array-preview {\n",
       "  display: none;\n",
       "}\n",
       "\n",
       ".xr-array-in:checked ~ .xr-array-data,\n",
       ".xr-array-preview {\n",
       "  display: inline-block;\n",
       "}\n",
       "\n",
       ".xr-dim-list {\n",
       "  display: inline-block !important;\n",
       "  list-style: none;\n",
       "  padding: 0 !important;\n",
       "  margin: 0;\n",
       "}\n",
       "\n",
       ".xr-dim-list li {\n",
       "  display: inline-block;\n",
       "  padding: 0;\n",
       "  margin: 0;\n",
       "}\n",
       "\n",
       ".xr-dim-list:before {\n",
       "  content: '(';\n",
       "}\n",
       "\n",
       ".xr-dim-list:after {\n",
       "  content: ')';\n",
       "}\n",
       "\n",
       ".xr-dim-list li:not(:last-child):after {\n",
       "  content: ',';\n",
       "  padding-right: 5px;\n",
       "}\n",
       "\n",
       ".xr-has-index {\n",
       "  font-weight: bold;\n",
       "}\n",
       "\n",
       ".xr-var-list,\n",
       ".xr-var-item {\n",
       "  display: contents;\n",
       "}\n",
       "\n",
       ".xr-var-item > div,\n",
       ".xr-var-item label,\n",
       ".xr-var-item > .xr-var-name span {\n",
       "  background-color: var(--xr-background-color-row-even);\n",
       "  margin-bottom: 0;\n",
       "}\n",
       "\n",
       ".xr-var-item > .xr-var-name:hover span {\n",
       "  padding-right: 5px;\n",
       "}\n",
       "\n",
       ".xr-var-list > li:nth-child(odd) > div,\n",
       ".xr-var-list > li:nth-child(odd) > label,\n",
       ".xr-var-list > li:nth-child(odd) > .xr-var-name span {\n",
       "  background-color: var(--xr-background-color-row-odd);\n",
       "}\n",
       "\n",
       ".xr-var-name {\n",
       "  grid-column: 1;\n",
       "}\n",
       "\n",
       ".xr-var-dims {\n",
       "  grid-column: 2;\n",
       "}\n",
       "\n",
       ".xr-var-dtype {\n",
       "  grid-column: 3;\n",
       "  text-align: right;\n",
       "  color: var(--xr-font-color2);\n",
       "}\n",
       "\n",
       ".xr-var-preview {\n",
       "  grid-column: 4;\n",
       "}\n",
       "\n",
       ".xr-index-preview {\n",
       "  grid-column: 2 / 5;\n",
       "  color: var(--xr-font-color2);\n",
       "}\n",
       "\n",
       ".xr-var-name,\n",
       ".xr-var-dims,\n",
       ".xr-var-dtype,\n",
       ".xr-preview,\n",
       ".xr-attrs dt {\n",
       "  white-space: nowrap;\n",
       "  overflow: hidden;\n",
       "  text-overflow: ellipsis;\n",
       "  padding-right: 10px;\n",
       "}\n",
       "\n",
       ".xr-var-name:hover,\n",
       ".xr-var-dims:hover,\n",
       ".xr-var-dtype:hover,\n",
       ".xr-attrs dt:hover {\n",
       "  overflow: visible;\n",
       "  width: auto;\n",
       "  z-index: 1;\n",
       "}\n",
       "\n",
       ".xr-var-attrs,\n",
       ".xr-var-data,\n",
       ".xr-index-data {\n",
       "  display: none;\n",
       "  background-color: var(--xr-background-color) !important;\n",
       "  padding-bottom: 5px !important;\n",
       "}\n",
       "\n",
       ".xr-var-attrs-in:checked ~ .xr-var-attrs,\n",
       ".xr-var-data-in:checked ~ .xr-var-data,\n",
       ".xr-index-data-in:checked ~ .xr-index-data {\n",
       "  display: block;\n",
       "}\n",
       "\n",
       ".xr-var-data > table {\n",
       "  float: right;\n",
       "}\n",
       "\n",
       ".xr-var-name span,\n",
       ".xr-var-data,\n",
       ".xr-index-name div,\n",
       ".xr-index-data,\n",
       ".xr-attrs {\n",
       "  padding-left: 25px !important;\n",
       "}\n",
       "\n",
       ".xr-attrs,\n",
       ".xr-var-attrs,\n",
       ".xr-var-data,\n",
       ".xr-index-data {\n",
       "  grid-column: 1 / -1;\n",
       "}\n",
       "\n",
       "dl.xr-attrs {\n",
       "  padding: 0;\n",
       "  margin: 0;\n",
       "  display: grid;\n",
       "  grid-template-columns: 125px auto;\n",
       "}\n",
       "\n",
       ".xr-attrs dt,\n",
       ".xr-attrs dd {\n",
       "  padding: 0;\n",
       "  margin: 0;\n",
       "  float: left;\n",
       "  padding-right: 10px;\n",
       "  width: auto;\n",
       "}\n",
       "\n",
       ".xr-attrs dt {\n",
       "  font-weight: normal;\n",
       "  grid-column: 1;\n",
       "}\n",
       "\n",
       ".xr-attrs dt:hover span {\n",
       "  display: inline-block;\n",
       "  background: var(--xr-background-color);\n",
       "  padding-right: 10px;\n",
       "}\n",
       "\n",
       ".xr-attrs dd {\n",
       "  grid-column: 2;\n",
       "  white-space: pre-wrap;\n",
       "  word-break: break-all;\n",
       "}\n",
       "\n",
       ".xr-icon-database,\n",
       ".xr-icon-file-text2,\n",
       ".xr-no-icon {\n",
       "  display: inline-block;\n",
       "  vertical-align: middle;\n",
       "  width: 1em;\n",
       "  height: 1.5em !important;\n",
       "  stroke-width: 0;\n",
       "  stroke: currentColor;\n",
       "  fill: currentColor;\n",
       "}\n",
       "</style><pre class='xr-text-repr-fallback'>&lt;xarray.DataArray &#x27;time&#x27; (time: 720)&gt;\n",
       "array([&#x27;2008-11-01T00:00:00.000000000&#x27;, &#x27;2008-11-01T01:00:00.000000000&#x27;,\n",
       "       &#x27;2008-11-01T02:00:00.000000000&#x27;, ..., &#x27;2008-11-30T21:00:00.000000000&#x27;,\n",
       "       &#x27;2008-11-30T22:00:00.000000000&#x27;, &#x27;2008-11-30T23:00:00.000000000&#x27;],\n",
       "      dtype=&#x27;datetime64[ns]&#x27;)\n",
       "Coordinates:\n",
       "  * time     (time) datetime64[ns] 2008-11-01 ... 2008-11-30T23:00:00\n",
       "Attributes:\n",
       "    long_name:  time</pre><div class='xr-wrap' style='display:none'><div class='xr-header'><div class='xr-obj-type'>xarray.DataArray</div><div class='xr-array-name'>'time'</div><ul class='xr-dim-list'><li><span class='xr-has-index'>time</span>: 720</li></ul></div><ul class='xr-sections'><li class='xr-section-item'><div class='xr-array-wrap'><input id='section-6c79ddb8-50ac-43ea-8917-cc6e6e272a04' class='xr-array-in' type='checkbox' checked><label for='section-6c79ddb8-50ac-43ea-8917-cc6e6e272a04' title='Show/hide data repr'><svg class='icon xr-icon-database'><use xlink:href='#icon-database'></use></svg></label><div class='xr-array-preview xr-preview'><span>2008-11-01 2008-11-01T01:00:00 ... 2008-11-30T23:00:00</span></div><div class='xr-array-data'><pre>array([&#x27;2008-11-01T00:00:00.000000000&#x27;, &#x27;2008-11-01T01:00:00.000000000&#x27;,\n",
       "       &#x27;2008-11-01T02:00:00.000000000&#x27;, ..., &#x27;2008-11-30T21:00:00.000000000&#x27;,\n",
       "       &#x27;2008-11-30T22:00:00.000000000&#x27;, &#x27;2008-11-30T23:00:00.000000000&#x27;],\n",
       "      dtype=&#x27;datetime64[ns]&#x27;)</pre></div></div></li><li class='xr-section-item'><input id='section-3077374e-4ca3-4a21-b3ac-cf90b633f0b7' class='xr-section-summary-in' type='checkbox'  checked><label for='section-3077374e-4ca3-4a21-b3ac-cf90b633f0b7' class='xr-section-summary' >Coordinates: <span>(1)</span></label><div class='xr-section-inline-details'></div><div class='xr-section-details'><ul class='xr-var-list'><li class='xr-var-item'><div class='xr-var-name'><span class='xr-has-index'>time</span></div><div class='xr-var-dims'>(time)</div><div class='xr-var-dtype'>datetime64[ns]</div><div class='xr-var-preview xr-preview'>2008-11-01 ... 2008-11-30T23:00:00</div><input id='attrs-c6c1d55a-4a32-41df-8392-ba1bcd8b7824' class='xr-var-attrs-in' type='checkbox' ><label for='attrs-c6c1d55a-4a32-41df-8392-ba1bcd8b7824' title='Show/Hide attributes'><svg class='icon xr-icon-file-text2'><use xlink:href='#icon-file-text2'></use></svg></label><input id='data-01d29fb2-8cd2-47b0-8598-d40671122796' class='xr-var-data-in' type='checkbox'><label for='data-01d29fb2-8cd2-47b0-8598-d40671122796' title='Show/Hide data repr'><svg class='icon xr-icon-database'><use xlink:href='#icon-database'></use></svg></label><div class='xr-var-attrs'><dl class='xr-attrs'><dt><span>long_name :</span></dt><dd>time</dd></dl></div><div class='xr-var-data'><pre>array([&#x27;2008-11-01T00:00:00.000000000&#x27;, &#x27;2008-11-01T01:00:00.000000000&#x27;,\n",
       "       &#x27;2008-11-01T02:00:00.000000000&#x27;, ..., &#x27;2008-11-30T21:00:00.000000000&#x27;,\n",
       "       &#x27;2008-11-30T22:00:00.000000000&#x27;, &#x27;2008-11-30T23:00:00.000000000&#x27;],\n",
       "      dtype=&#x27;datetime64[ns]&#x27;)</pre></div></li></ul></div></li><li class='xr-section-item'><input id='section-32658b63-296a-408e-8025-a6f00866ced7' class='xr-section-summary-in' type='checkbox'  ><label for='section-32658b63-296a-408e-8025-a6f00866ced7' class='xr-section-summary' >Indexes: <span>(1)</span></label><div class='xr-section-inline-details'></div><div class='xr-section-details'><ul class='xr-var-list'><li class='xr-var-item'><div class='xr-index-name'><div>time</div></div><div class='xr-index-preview'>PandasIndex</div><div></div><input id='index-1160685b-d63c-4b01-8e0d-d8b9d78e916d' class='xr-index-data-in' type='checkbox'/><label for='index-1160685b-d63c-4b01-8e0d-d8b9d78e916d' title='Show/Hide index repr'><svg class='icon xr-icon-database'><use xlink:href='#icon-database'></use></svg></label><div class='xr-index-data'><pre>PandasIndex(DatetimeIndex([&#x27;2008-11-01 00:00:00&#x27;, &#x27;2008-11-01 01:00:00&#x27;,\n",
       "               &#x27;2008-11-01 02:00:00&#x27;, &#x27;2008-11-01 03:00:00&#x27;,\n",
       "               &#x27;2008-11-01 04:00:00&#x27;, &#x27;2008-11-01 05:00:00&#x27;,\n",
       "               &#x27;2008-11-01 06:00:00&#x27;, &#x27;2008-11-01 07:00:00&#x27;,\n",
       "               &#x27;2008-11-01 08:00:00&#x27;, &#x27;2008-11-01 09:00:00&#x27;,\n",
       "               ...\n",
       "               &#x27;2008-11-30 14:00:00&#x27;, &#x27;2008-11-30 15:00:00&#x27;,\n",
       "               &#x27;2008-11-30 16:00:00&#x27;, &#x27;2008-11-30 17:00:00&#x27;,\n",
       "               &#x27;2008-11-30 18:00:00&#x27;, &#x27;2008-11-30 19:00:00&#x27;,\n",
       "               &#x27;2008-11-30 20:00:00&#x27;, &#x27;2008-11-30 21:00:00&#x27;,\n",
       "               &#x27;2008-11-30 22:00:00&#x27;, &#x27;2008-11-30 23:00:00&#x27;],\n",
       "              dtype=&#x27;datetime64[ns]&#x27;, name=&#x27;time&#x27;, length=720, freq=None))</pre></div></li></ul></div></li><li class='xr-section-item'><input id='section-0f58b066-f3ca-4bce-ad23-c5d44fb51bc6' class='xr-section-summary-in' type='checkbox'  checked><label for='section-0f58b066-f3ca-4bce-ad23-c5d44fb51bc6' class='xr-section-summary' >Attributes: <span>(1)</span></label><div class='xr-section-inline-details'></div><div class='xr-section-details'><dl class='xr-attrs'><dt><span>long_name :</span></dt><dd>time</dd></dl></div></li></ul></div></div>"
      ],
      "text/plain": [
       "<xarray.DataArray 'time' (time: 720)>\n",
       "array(['2008-11-01T00:00:00.000000000', '2008-11-01T01:00:00.000000000',\n",
       "       '2008-11-01T02:00:00.000000000', ..., '2008-11-30T21:00:00.000000000',\n",
       "       '2008-11-30T22:00:00.000000000', '2008-11-30T23:00:00.000000000'],\n",
       "      dtype='datetime64[ns]')\n",
       "Coordinates:\n",
       "  * time     (time) datetime64[ns] 2008-11-01 ... 2008-11-30T23:00:00\n",
       "Attributes:\n",
       "    long_name:  time"
      ]
     },
     "execution_count": 14,
     "metadata": {},
     "output_type": "execute_result"
    }
   ],
   "source": [
    "ds.time"
   ]
  },
  {
   "cell_type": "code",
   "execution_count": 15,
   "id": "27e97122-aadd-4528-9cc0-e5c0446bfcf4",
   "metadata": {
    "scrolled": true
   },
   "outputs": [
    {
     "data": {
      "text/plain": [
       "{'units': 'K', 'long_name': 'Temperature', 'standard_name': 'air_temperature'}"
      ]
     },
     "execution_count": 15,
     "metadata": {},
     "output_type": "execute_result"
    }
   ],
   "source": [
    "ds.t.attrs"
   ]
  },
  {
   "cell_type": "code",
   "execution_count": 16,
   "id": "14b44b70-e39c-4751-bb45-15b30cafd92c",
   "metadata": {},
   "outputs": [
    {
     "data": {
      "text/plain": [
       "'2 metre dewpoint temperature'"
      ]
     },
     "execution_count": 16,
     "metadata": {},
     "output_type": "execute_result"
    }
   ],
   "source": [
    "ds.d2m.long_name"
   ]
  },
  {
   "cell_type": "code",
   "execution_count": 16,
   "id": "159c8ed1-bef6-4226-b9ac-b62fa59de303",
   "metadata": {},
   "outputs": [
    {
     "data": {
      "text/plain": [
       "(37,)"
      ]
     },
     "execution_count": 16,
     "metadata": {},
     "output_type": "execute_result"
    }
   ],
   "source": [
    "ds.longitude.shape"
   ]
  },
  {
   "cell_type": "code",
   "execution_count": 17,
   "id": "d08ee208-af25-4d59-a52b-24f4f8a11e4f",
   "metadata": {},
   "outputs": [
    {
     "data": {
      "text/plain": [
       "33"
      ]
     },
     "execution_count": 17,
     "metadata": {},
     "output_type": "execute_result"
    }
   ],
   "source": [
    "ds.latitude.shape[0]"
   ]
  },
  {
   "cell_type": "code",
   "execution_count": 18,
   "id": "685b3388-dafd-4490-be38-6873a48c773b",
   "metadata": {},
   "outputs": [
    {
     "data": {
      "text/plain": [
       "(33,)"
      ]
     },
     "execution_count": 18,
     "metadata": {},
     "output_type": "execute_result"
    }
   ],
   "source": [
    "ds.latitude.shape"
   ]
  },
  {
   "cell_type": "code",
   "execution_count": 19,
   "id": "b8b0f381-551b-4173-b8e5-0f74a7b4b815",
   "metadata": {},
   "outputs": [
    {
     "data": {
      "text/plain": [
       "58.0"
      ]
     },
     "execution_count": 19,
     "metadata": {},
     "output_type": "execute_result"
    }
   ],
   "source": [
    "ds.latitude.values[0]"
   ]
  },
  {
   "cell_type": "code",
   "execution_count": 20,
   "id": "7ca8dbad-268c-4b9c-904b-5dff6b5372b9",
   "metadata": {},
   "outputs": [
    {
     "data": {
      "text/plain": [
       "(720, 33, 37)"
      ]
     },
     "execution_count": 20,
     "metadata": {},
     "output_type": "execute_result"
    }
   ],
   "source": [
    "ds.t.shape"
   ]
  },
  {
   "cell_type": "code",
   "execution_count": 22,
   "id": "febf2586-faec-4c14-ae30-5e9fb99c70e1",
   "metadata": {},
   "outputs": [
    {
     "name": "stdout",
     "output_type": "stream",
     "text": [
      "Latitudes and longitudes of domain corners:\n",
      "  0, 0:         61.0 -8.0\n",
      "  0, x-max:     50.0 -8.0\n"
     ]
    },
    {
     "ename": "IndexError",
     "evalue": "index 44 is out of bounds for axis 0 with size 41",
     "output_type": "error",
     "traceback": [
      "\u001b[0;31m---------------------------------------------------------------------------\u001b[0m",
      "\u001b[0;31mIndexError\u001b[0m                                Traceback (most recent call last)",
      "Cell \u001b[0;32mIn[22], line 8\u001b[0m\n\u001b[1;32m      6\u001b[0m \u001b[38;5;28mprint\u001b[39m(\u001b[38;5;124m'\u001b[39m\u001b[38;5;124m  0, x-max:    \u001b[39m\u001b[38;5;124m'\u001b[39m, ds\u001b[38;5;241m.\u001b[39mlatitude\u001b[38;5;241m.\u001b[39mvalues[pt1], ds\u001b[38;5;241m.\u001b[39mlongitude\u001b[38;5;241m.\u001b[39mvalues[pt2])\n\u001b[1;32m      7\u001b[0m pt \u001b[38;5;241m=\u001b[39m ds\u001b[38;5;241m.\u001b[39mlatitude\u001b[38;5;241m.\u001b[39mshape[\u001b[38;5;241m0\u001b[39m] \u001b[38;5;241m-\u001b[39m \u001b[38;5;241m1\u001b[39m\n\u001b[0;32m----> 8\u001b[0m \u001b[38;5;28mprint\u001b[39m(\u001b[38;5;124m'\u001b[39m\u001b[38;5;124m  y-max, 0:    \u001b[39m\u001b[38;5;124m'\u001b[39m, ds\u001b[38;5;241m.\u001b[39mlatitude\u001b[38;5;241m.\u001b[39mvalues[pt], \u001b[43mds\u001b[49m\u001b[38;5;241;43m.\u001b[39;49m\u001b[43mlongitude\u001b[49m\u001b[38;5;241;43m.\u001b[39;49m\u001b[43mvalues\u001b[49m\u001b[43m[\u001b[49m\u001b[43mpt\u001b[49m\u001b[43m]\u001b[49m)\n\u001b[1;32m      9\u001b[0m pt \u001b[38;5;241m=\u001b[39m ds\u001b[38;5;241m.\u001b[39mlatitude\u001b[38;5;241m.\u001b[39mshape[\u001b[38;5;241m0\u001b[39m] \u001b[38;5;241m-\u001b[39m \u001b[38;5;241m1\u001b[39m\n\u001b[1;32m     10\u001b[0m pt2 \u001b[38;5;241m=\u001b[39m ds\u001b[38;5;241m.\u001b[39mlongitude\u001b[38;5;241m.\u001b[39mshape[\u001b[38;5;241m0\u001b[39m] \u001b[38;5;241m-\u001b[39m \u001b[38;5;241m1\u001b[39m\n",
      "\u001b[0;31mIndexError\u001b[0m: index 44 is out of bounds for axis 0 with size 41"
     ]
    }
   ],
   "source": [
    "print('Latitudes and longitudes of domain corners:')\n",
    "pt1 = 0\n",
    "pt2 = 0\n",
    "print('  0, 0:        ', ds.latitude.values[pt1], ds.longitude.values[pt2])\n",
    "pt1 = ds.latitude.shape[0] - 1\n",
    "print('  0, x-max:    ', ds.latitude.values[pt1], ds.longitude.values[pt2])\n",
    "pt = ds.latitude.shape[0] - 1\n",
    "print('  y-max, 0:    ', ds.latitude.values[pt], ds.longitude.values[pt])\n",
    "pt = ds.latitude.shape[0] - 1\n",
    "pt2 = ds.longitude.shape[0] - 1\n",
    "print('  y-max, x-max:', ds.latitude.values[pt], ds.longitude.values[pt2])"
   ]
  },
  {
   "cell_type": "code",
   "execution_count": 23,
   "id": "04d654d5-7113-454b-8589-ccf2fac43cc1",
   "metadata": {},
   "outputs": [
    {
     "data": {
      "text/plain": [
       "array([61.  , 60.75, 60.5 , 60.25, 60.  , 59.75, 59.5 , 59.25, 59.  ,\n",
       "       58.75, 58.5 , 58.25, 58.  , 57.75, 57.5 , 57.25, 57.  , 56.75,\n",
       "       56.5 , 56.25, 56.  , 55.75, 55.5 , 55.25, 55.  , 54.75, 54.5 ,\n",
       "       54.25, 54.  , 53.75, 53.5 , 53.25, 53.  , 52.75, 52.5 , 52.25,\n",
       "       52.  , 51.75, 51.5 , 51.25, 51.  , 50.75, 50.5 , 50.25, 50.  ],\n",
       "      dtype=float32)"
      ]
     },
     "execution_count": 23,
     "metadata": {},
     "output_type": "execute_result"
    }
   ],
   "source": [
    "ds.latitude.values # 提取数值"
   ]
  },
  {
   "cell_type": "code",
   "execution_count": 24,
   "id": "18d03cb5-d8c7-406d-ab15-acbc24d02eb8",
   "metadata": {},
   "outputs": [
    {
     "data": {
      "text/plain": [
       "array([60.25, 60.  ], dtype=float32)"
      ]
     },
     "execution_count": 24,
     "metadata": {},
     "output_type": "execute_result"
    }
   ],
   "source": [
    "ds.latitude.values[3:5]   # like numpy"
   ]
  },
  {
   "cell_type": "code",
   "execution_count": 21,
   "id": "f9fe4470-c473-4885-a43d-2434287bf2d6",
   "metadata": {},
   "outputs": [
    {
     "name": "stdout",
     "output_type": "stream",
     "text": [
      "--------------------------------------------------------------------\n",
      "t\n",
      "--------------------------------------------------------------------\n",
      "<xarray.DataArray 't' (time: 720, latitude: 33, longitude: 37)>\n",
      "[879120 values with dtype=float32]\n",
      "Coordinates:\n",
      "  * longitude  (longitude) float32 -7.0 -6.75 -6.5 -6.25 ... 1.25 1.5 1.75 2.0\n",
      "  * latitude   (latitude) float32 58.0 57.75 57.5 57.25 ... 50.5 50.25 50.0\n",
      "  * time       (time) datetime64[ns] 2008-11-01 ... 2008-11-30T23:00:00\n",
      "Attributes:\n",
      "    units:          K\n",
      "    long_name:      Temperature\n",
      "    standard_name:  air_temperature\n"
     ]
    }
   ],
   "source": [
    "# Data Description\n",
    "for i in ds.data_vars:\n",
    "    print(\"--------------------------------------------------------------------\")\n",
    "    print(i)\n",
    "    print(\"--------------------------------------------------------------------\")\n",
    "    var_data = ds[i]\n",
    "    print(var_data)"
   ]
  },
  {
   "cell_type": "code",
   "execution_count": 22,
   "id": "610ec0c8-0d80-4924-b2a5-186cf19cef99",
   "metadata": {},
   "outputs": [
    {
     "name": "stdout",
     "output_type": "stream",
     "text": [
      "[[[268.44385 268.27588 268.15677 ... 268.02    268.09814 268.28564]\n",
      "  [268.2913  268.22104 268.1331  ... 267.88507 267.9809  268.25034]\n",
      "  [268.19962 268.1782  268.11957 ... 268.1917  268.32474 268.59793]\n",
      "  ...\n",
      "  [270.3265  270.25433 270.17017 ... 272.31662 272.68976 273.00616]\n",
      "  [270.45538 270.35956 270.28552 ... 272.85208 273.20944 273.49054]\n",
      "  [270.5591  270.50424 270.4986  ... 273.31693 273.5706  273.73477]]\n",
      "\n",
      " [[268.8606  268.6201  268.44836 ... 268.0929  268.0478  268.06546]\n",
      "  [268.58102 268.45026 268.33902 ... 267.88583 267.8644  267.9347 ]\n",
      "  [268.3702  268.3097  268.2432  ... 267.9873  268.03052 268.15152]\n",
      "  ...\n",
      "  [270.4073  270.34866 270.263   ... 272.7044  273.0753  273.34888]\n",
      "  [270.4971  270.42496 270.36633 ... 273.2493  273.5187  273.71185]\n",
      "  [270.5869  270.5422  270.54407 ... 273.73743 273.84113 273.89185]]\n",
      "\n",
      " [[269.13452 268.86472 268.67157 ... 268.21463 268.0835  267.98016]\n",
      "  [268.7828  268.6325  268.51715 ... 268.02298 267.88058 267.78476]\n",
      "  [268.4664  268.4138  268.3687  ... 267.87457 267.82382 267.83173]\n",
      "  ...\n",
      "  [270.47043 270.40015 270.27502 ... 273.0426  273.34323 273.5172 ]\n",
      "  [270.57187 270.48584 270.38437 ... 273.46234 273.63632 273.71826]\n",
      "  [270.65793 270.60907 270.58163 ... 273.7419  273.781   273.79453]]\n",
      "\n",
      " ...\n",
      "\n",
      " [[268.5205  268.45813 268.39575 ... 268.3255  268.4093  268.53027]\n",
      "  [268.66144 268.64566 268.63965 ... 268.2199  268.30182 268.4679 ]\n",
      "  [268.8294  268.79596 268.7922  ... 268.2511  268.3721  268.50323]\n",
      "  ...\n",
      "  [268.71405 268.88013 269.06952 ... 269.7805  269.77448 269.76285]\n",
      "  [268.76852 268.86435 269.06766 ... 269.77637 269.78238 269.8038 ]\n",
      "  [268.96393 268.96808 269.1338  ... 269.81958 269.85452 269.91315]]\n",
      "\n",
      " [[267.7791  267.68628 267.6461  ... 268.0944  268.16843 268.31122]\n",
      "  [268.03577 267.96625 267.95947 ... 268.02225 268.1053  268.29657]\n",
      "  [268.29053 268.21237 268.20074 ... 268.04553 268.16843 268.32663]\n",
      "  ...\n",
      "  [269.45358 269.57382 269.6655  ... 269.8872  269.76733 269.6501 ]\n",
      "  [269.6178  269.6715  269.69406 ... 269.87482 269.75833 269.7027 ]\n",
      "  [269.69482 269.69406 269.67264 ... 269.88535 269.82672 269.85904]]\n",
      "\n",
      " [[267.57394 267.533   267.56042 ... 268.3721  268.39838 268.43146]\n",
      "  [267.85126 267.85916 267.93542 ... 268.40628 268.40704 268.43335]\n",
      "  [268.18158 268.19022 268.2586  ... 268.47842 268.4852  268.45288]\n",
      "  ...\n",
      "  [269.1413  269.24802 269.35925 ... 270.01535 269.915   269.77448]\n",
      "  [269.29874 269.37277 269.45883 ... 269.99393 269.87482 269.77148]\n",
      "  [269.4532  269.50394 269.57007 ... 269.98904 269.8876  269.87292]]]\n"
     ]
    }
   ],
   "source": [
    "# data values\n",
    "for i in ds.data_vars:\n",
    "    var_data = ds[i]\n",
    "    print(var_data.values)"
   ]
  },
  {
   "cell_type": "code",
   "execution_count": 28,
   "id": "5b637c85-4ac8-4f2f-9e11-071011f82215",
   "metadata": {},
   "outputs": [
    {
     "name": "stdout",
     "output_type": "stream",
     "text": [
      "[50.   50.25 50.5  50.75 51.   51.25 51.5  51.75 52.   52.25 52.5  52.75\n",
      " 53.   53.25 53.5  53.75 54.   54.25 54.5  54.75 55.   55.25 55.5  55.75\n",
      " 56.   56.25 56.5  56.75 57.   57.25 57.5  57.75]\n",
      "32\n"
     ]
    }
   ],
   "source": [
    "ddeg_out_lat = 0.25\n",
    "lat_list = np.arange(50, 58, ddeg_out_lat)\n",
    "print(lat_list)\n",
    "print(len(lat_list))"
   ]
  },
  {
   "cell_type": "code",
   "execution_count": 35,
   "id": "4f8df65e-8689-4573-9f9c-4b55a9f776ab",
   "metadata": {},
   "outputs": [
    {
     "name": "stdout",
     "output_type": "stream",
     "text": [
      "[-6.    -5.875 -5.75  -5.625 -5.5   -5.375 -5.25  -5.125 -5.    -4.875\n",
      " -4.75  -4.625 -4.5   -4.375 -4.25  -4.125 -4.    -3.875 -3.75  -3.625\n",
      " -3.5   -3.375 -3.25  -3.125 -3.    -2.875 -2.75  -2.625 -2.5   -2.375\n",
      " -2.25  -2.125 -2.    -1.875 -1.75  -1.625 -1.5   -1.375 -1.25  -1.125\n",
      " -1.    -0.875 -0.75  -0.625 -0.5   -0.375 -0.25  -0.125  0.     0.125\n",
      "  0.25   0.375  0.5    0.625  0.75   0.875  1.     1.125  1.25   1.375\n",
      "  1.5    1.625  1.75   1.875]\n",
      "64\n"
     ]
    }
   ],
   "source": [
    "ddeg_out_lon = 0.125\n",
    "lon_list = np.arange(-6,2 , ddeg_out_lon)\n",
    "print(lon_list)\n",
    "print(len(lon_list))"
   ]
  },
  {
   "cell_type": "code",
   "execution_count": null,
   "id": "2f598d94-bad1-46e9-b83a-87c372870308",
   "metadata": {},
   "outputs": [],
   "source": []
  },
  {
   "cell_type": "code",
   "execution_count": 38,
   "id": "0e628e67-771a-43e0-a115-00f7ca0aecff",
   "metadata": {},
   "outputs": [],
   "source": [
    "def extract_data_nc_to_xr(country, data_folder, data_category, output_folder):\n",
    "    # Specify the folder path\n",
    "    input_folder_path = folder_utils.find_folder(\n",
    "        country, data_folder, data_category, output_folder\n",
    "    )\n",
    "    raw_ds = None  # Initialize raw_ds outside the loop\n",
    "    nc_files = [\n",
    "        f\n",
    "        for f in os.listdir(input_folder_path)\n",
    "        if f.endswith('.nc') and \"era5_station_network\" not in f\n",
    "    ]\n",
    "    # Read and merge the csv files in queue\n",
    "    nc_files_path =[]\n",
    "    for nc_file in tqdm(nc_files):\n",
    "        nc_file_path = os.path.join(input_folder_path, nc_file)\n",
    "        nc_files_path.append(nc_file_path)\n",
    "        # raw_ds = xr.open_dataset(nc_file_path)\n",
    "        # raw_df = pd.concat([raw_df, df], ignore_index=True)\n",
    "\n",
    "    return  nc_files_path"
   ]
  },
  {
   "cell_type": "code",
   "execution_count": 29,
   "id": "3f47f2ee-b305-4622-b74a-0792bae7aaf6",
   "metadata": {},
   "outputs": [
    {
     "ename": "SyntaxError",
     "evalue": "EOL while scanning string literal (4200837596.py, line 9)",
     "output_type": "error",
     "traceback": [
      "\u001b[0;31m---------------------------------------------------------------------------\u001b[0m",
      "\u001b[0;31mSyntaxError\u001b[0m                               Traceback (most recent call last)",
      "File \u001b[0;32m~/opt/anaconda3/envs/graph_irp_2/lib/python3.9/site-packages/IPython/core/compilerop.py:86\u001b[0m, in \u001b[0;36mCachingCompiler.ast_parse\u001b[0;34m(self, source, filename, symbol)\u001b[0m\n\u001b[1;32m     81\u001b[0m \u001b[38;5;28;01mdef\u001b[39;00m \u001b[38;5;21mast_parse\u001b[39m(\u001b[38;5;28mself\u001b[39m, source, filename\u001b[38;5;241m=\u001b[39m\u001b[38;5;124m'\u001b[39m\u001b[38;5;124m<unknown>\u001b[39m\u001b[38;5;124m'\u001b[39m, symbol\u001b[38;5;241m=\u001b[39m\u001b[38;5;124m'\u001b[39m\u001b[38;5;124mexec\u001b[39m\u001b[38;5;124m'\u001b[39m):\n\u001b[1;32m     82\u001b[0m \u001b[38;5;250m    \u001b[39m\u001b[38;5;124;03m\"\"\"Parse code to an AST with the current compiler flags active.\u001b[39;00m\n\u001b[1;32m     83\u001b[0m \n\u001b[1;32m     84\u001b[0m \u001b[38;5;124;03m    Arguments are exactly the same as ast.parse (in the standard library),\u001b[39;00m\n\u001b[1;32m     85\u001b[0m \u001b[38;5;124;03m    and are passed to the built-in compile function.\"\"\"\u001b[39;00m\n\u001b[0;32m---> 86\u001b[0m     \u001b[38;5;28;01mreturn\u001b[39;00m \u001b[38;5;28;43mcompile\u001b[39;49m\u001b[43m(\u001b[49m\u001b[43msource\u001b[49m\u001b[43m,\u001b[49m\u001b[43m \u001b[49m\u001b[43mfilename\u001b[49m\u001b[43m,\u001b[49m\u001b[43m \u001b[49m\u001b[43msymbol\u001b[49m\u001b[43m,\u001b[49m\u001b[43m \u001b[49m\u001b[38;5;28;43mself\u001b[39;49m\u001b[38;5;241;43m.\u001b[39;49m\u001b[43mflags\u001b[49m\u001b[43m \u001b[49m\u001b[38;5;241;43m|\u001b[39;49m\u001b[43m \u001b[49m\u001b[43mPyCF_ONLY_AST\u001b[49m\u001b[43m,\u001b[49m\u001b[43m \u001b[49m\u001b[38;5;241;43m1\u001b[39;49m\u001b[43m)\u001b[49m\n",
      "\u001b[0;31mSyntaxError\u001b[0m: EOL while scanning string literal (4200837596.py, line 9)"
     ]
    }
   ],
   "source": [
    "# Example usage\n",
    "\n",
    "country = \"GB\"\n",
    "data_folder = \"data\"\n",
    "data_test_category = \"test_data\"\n",
    "data_read_category = \"raw_data\"\n",
    "data_save_category = \"processed_data\"\n",
    "# output_folder = \"ASOS_DATA\"\n",
    "output_folder2 =\"ERA5_DATA"
   ]
  },
  {
   "cell_type": "code",
   "execution_count": 39,
   "id": "57ed0297-02d8-48e7-bb4c-c956e927e660",
   "metadata": {},
   "outputs": [
    {
     "name": "stderr",
     "output_type": "stream",
     "text": [
      "100%|███████████████████████████████████████████████| 2/2 [00:00<00:00, 9383.23it/s]\n"
     ]
    }
   ],
   "source": [
    "nc_file_path = extract_data_nc_to_xr(country, data_folder, data_test_category, output_folder2)"
   ]
  },
  {
   "cell_type": "code",
   "execution_count": 40,
   "id": "6d35cf8f-512f-4e13-99ce-b18ded5801e0",
   "metadata": {},
   "outputs": [
    {
     "data": {
      "text/plain": [
       "['/Users/ww721/JupyterNotebookPath/IRP_20220602/irp_ww721_bakcup/data/test_data/ERA5_DATA/GB_ERA5_DATA/era5_pressure_level_2022_02_1000.nc',\n",
       " '/Users/ww721/JupyterNotebookPath/IRP_20220602/irp_ww721_bakcup/data/test_data/ERA5_DATA/GB_ERA5_DATA/era5_single_level_2023_01.nc']"
      ]
     },
     "execution_count": 40,
     "metadata": {},
     "output_type": "execute_result"
    }
   ],
   "source": [
    "nc_file_path"
   ]
  },
  {
   "cell_type": "code",
   "execution_count": 43,
   "id": "7d7abcbc-af79-463b-8c0b-d0bae65caaa2",
   "metadata": {},
   "outputs": [],
   "source": [
    "ds2 = xr.open_dataset(nc_file_path[0])"
   ]
  },
  {
   "cell_type": "code",
   "execution_count": 44,
   "id": "7ae9e2a6-1a20-4e78-b523-5ef02fa51e0d",
   "metadata": {},
   "outputs": [
    {
     "name": "stdout",
     "output_type": "stream",
     "text": [
      "--------------------------------------------------------------------\n",
      "r\n",
      "--------------------------------------------------------------------\n",
      "<xarray.DataArray 'r' (time: 672, latitude: 45, longitude: 41)>\n",
      "[1239840 values with dtype=float32]\n",
      "Coordinates:\n",
      "  * longitude  (longitude) float32 -8.0 -7.75 -7.5 -7.25 ... 1.25 1.5 1.75 2.0\n",
      "  * latitude   (latitude) float32 61.0 60.75 60.5 60.25 ... 50.5 50.25 50.0\n",
      "  * time       (time) datetime64[ns] 2022-02-01 ... 2022-02-28T23:00:00\n",
      "Attributes:\n",
      "    units:          %\n",
      "    long_name:      Relative humidity\n",
      "    standard_name:  relative_humidity\n",
      "--------------------------------------------------------------------\n",
      "q\n",
      "--------------------------------------------------------------------\n",
      "<xarray.DataArray 'q' (time: 672, latitude: 45, longitude: 41)>\n",
      "[1239840 values with dtype=float32]\n",
      "Coordinates:\n",
      "  * longitude  (longitude) float32 -8.0 -7.75 -7.5 -7.25 ... 1.25 1.5 1.75 2.0\n",
      "  * latitude   (latitude) float32 61.0 60.75 60.5 60.25 ... 50.5 50.25 50.0\n",
      "  * time       (time) datetime64[ns] 2022-02-01 ... 2022-02-28T23:00:00\n",
      "Attributes:\n",
      "    units:          kg kg**-1\n",
      "    long_name:      Specific humidity\n",
      "    standard_name:  specific_humidity\n"
     ]
    }
   ],
   "source": [
    "# Data Description\n",
    "for i in ds2.data_vars:\n",
    "    print(\"--------------------------------------------------------------------\")\n",
    "    print(i)\n",
    "    print(\"--------------------------------------------------------------------\")\n",
    "    var_data = ds2[i]\n",
    "    print(var_data)"
   ]
  },
  {
   "cell_type": "code",
   "execution_count": 49,
   "id": "c71dbf54-a6df-49aa-b2db-9e2c295b48e2",
   "metadata": {},
   "outputs": [
    {
     "name": "stdout",
     "output_type": "stream",
     "text": [
      "----------------------------------------\n",
      "[[[80.47372  82.185234 83.93959  ... 77.920364 77.62262  76.74437 ]\n",
      "  [80.34091  81.25129  82.48941  ... 80.47372  80.92355  80.56797 ]\n",
      "  [80.482285 80.58296  81.1656   ... 80.94711  82.22379  83.34624 ]\n",
      "  ...\n",
      "  [86.52508  86.43511  86.23161  ... 84.020996 85.107025 84.79    ]\n",
      "  [85.91887  85.49474  85.077034 ... 79.12635  82.088844 83.26698 ]\n",
      "  [84.61863  84.014565 83.47048  ... 79.68972  81.8018   81.59616 ]]\n",
      "\n",
      " [[78.822174 79.104935 78.920715 ... 81.60902  80.25308  79.818245]\n",
      "  [79.745415 80.06458  79.70471  ... 80.99424  80.81859  81.429085]\n",
      "  [81.10777  81.099205 80.67507  ... 78.775055 79.419815 80.67507 ]\n",
      "  ...\n",
      "  [88.16591  88.91992  89.2091   ... 84.3573   86.60434  88.05023 ]\n",
      "  [87.814606 88.14235  88.213036 ... 79.745415 82.57295  85.56543 ]\n",
      "  [86.78855  86.767136 86.767136 ... 80.72434  82.59223  84.22235 ]]\n",
      "\n",
      " [[78.80076  79.02782  79.16063  ... 88.10807  87.61754  85.29981 ]\n",
      "  [79.60618  79.77754  79.90178  ... 84.17094  86.32372  86.115944]\n",
      "  [80.61723  81.15918  81.666855 ... 79.9382   82.46799  83.78536 ]\n",
      "  ...\n",
      "  [88.999176 89.38261  90.11734  ... 84.89925  86.53579  88.24516 ]\n",
      "  [88.61789  88.74213  89.39332  ... 82.8707   84.179504 86.14379 ]\n",
      "  [88.58147  88.305145 88.43367  ... 83.78108  84.3316   85.25697 ]]\n",
      "\n",
      " ...\n",
      "\n",
      " [[74.728676 76.75936  77.11923  ... 72.56732  73.5184   73.122116]\n",
      "  [77.11066  76.013916 74.325966 ... 73.4777   73.70048  73.36203 ]\n",
      "  [74.810074 72.45379  71.36133  ... 73.514114 73.61051  73.82686 ]\n",
      "  ...\n",
      "  [77.94607  79.5869   82.142395 ... 46.646072 47.485767 50.29831 ]\n",
      "  [81.44408  83.661125 85.75179  ... 45.39296  45.407955 48.031994]\n",
      "  [85.24412  86.833534 87.46759  ... 48.77101  47.869198 47.14946 ]]\n",
      "\n",
      " [[55.415726 56.82521  59.119373 ... 67.4906   71.34206  74.403076]\n",
      "  [58.048336 60.29109  62.454586 ... 70.71228  73.762596 76.11888 ]\n",
      "  [61.130783 62.630234 63.043655 ... 73.79044  75.92395  77.56478 ]\n",
      "  ...\n",
      "  [74.40094  75.76758  77.920364 ... 46.967384 46.536827 48.56109 ]\n",
      "  [78.571556 80.59582  82.802155 ... 46.466137 45.660717 46.86885 ]\n",
      "  [82.26663  83.95459  84.661476 ... 48.794575 47.423645 45.521484]]\n",
      "\n",
      " [[51.851315 51.799904 52.52821  ... 60.531002 62.081863 64.926544]\n",
      "  [51.864166 52.262592 53.526417 ... 63.050083 64.059    66.27818 ]\n",
      "  [52.463947 53.355053 54.929478 ... 66.69589  67.72195  69.53414 ]\n",
      "  ...\n",
      "  [72.635864 73.46485  74.75866  ... 52.65245  48.246204 49.848476]\n",
      "  [76.91359  78.260956 79.76255  ... 48.87169  45.975605 47.7064  ]\n",
      "  [81.15918  82.641495 83.24556  ... 49.276543 47.648563 46.13626 ]]]\n",
      "----------------------------------------\n",
      "----------------------------------------\n",
      "[[[0.00568191 0.0057812  0.00588323 ... 0.00362495 0.0035453  0.00347042]\n",
      "  [0.00569537 0.00573727 0.00582978 ... 0.00373364 0.0036659  0.00360054]\n",
      "  [0.00571299 0.0057368  0.00580549 ... 0.00381614 0.00378793 0.00372555]\n",
      "  ...\n",
      "  [0.00563144 0.00563525 0.00564001 ... 0.00441688 0.00428771 0.0040621 ]\n",
      "  [0.00564239 0.00561286 0.00559132 ... 0.00434973 0.00423425 0.00405687]\n",
      "  [0.00556608 0.00553655 0.00551131 ... 0.00433878 0.00419758 0.00399782]]\n",
      "\n",
      " [[0.00545131 0.00545988 0.00543369 ... 0.00395686 0.00386817 0.00382817]\n",
      "  [0.00550989 0.00553286 0.00550274 ... 0.00400222 0.00392734 0.00389876]\n",
      "  [0.00566965 0.00568299 0.00564965 ... 0.00401936 0.00397924 0.00395162]\n",
      "  ...\n",
      "  [0.00573025 0.00576882 0.0058118  ... 0.00456724 0.00448093 0.00432497]\n",
      "  [0.00575882 0.00576215 0.00577644 ... 0.00448093 0.00439223 0.00429211]\n",
      "  [0.00569739 0.00570072 0.00570501 ... 0.00447045 0.00436937 0.00425723]]\n",
      "\n",
      " [[0.00537524 0.00540095 0.00541476 ... 0.0042733  0.00414544 0.00401913]\n",
      "  [0.00546965 0.00549298 0.00550536 ... 0.00429568 0.00423747 0.00409544]\n",
      "  [0.00560072 0.0056237  0.00564894 ... 0.00432997 0.00426092 0.00419032]\n",
      "  ...\n",
      "  [0.00583204 0.00586013 0.00590883 ... 0.00473058 0.00462522 0.00449926]\n",
      "  [0.00582013 0.00582632 0.00585966 ... 0.00475248 0.00464712 0.00450545]\n",
      "  [0.00582442 0.00583061 0.00581918 ... 0.00470724 0.00459605 0.00447069]]\n",
      "\n",
      " ...\n",
      "\n",
      " [[0.00382293 0.00388019 0.00390257 ... 0.00430116 0.00438557 0.00438842]\n",
      "  [0.00386769 0.00382245 0.00376995 ... 0.00432794 0.00438985 0.00439318]\n",
      "  [0.00370947 0.00366792 0.00363983 ... 0.00433128 0.00439271 0.00445997]\n",
      "  ...\n",
      "  [0.00510844 0.00521476 0.005365   ... 0.00345482 0.00322351 0.00317541]\n",
      "  [0.00536119 0.00546369 0.00558727 ... 0.00341185 0.00318017 0.00311196]\n",
      "  [0.00560346 0.00570644 0.00570977 ... 0.00332363 0.00317351 0.00306184]]\n",
      "\n",
      " [[0.00302672 0.00312684 0.00324267 ... 0.00398793 0.00414056 0.00424401]\n",
      "  [0.0031435  0.00323696 0.00327708 ... 0.00406901 0.00425401 0.00435378]\n",
      "  [0.00325506 0.0033247  0.00331946 ... 0.0042283  0.00432223 0.00438854]\n",
      "  ...\n",
      "  [0.00489213 0.00501368 0.00515773 ... 0.00370328 0.00338387 0.00325982]\n",
      "  [0.00523583 0.00535607 0.00549191 ... 0.0036709  0.00335756 0.00320315]\n",
      "  [0.00548334 0.00560394 0.0056412  ... 0.0034453  0.00328089 0.00313588]]\n",
      "\n",
      " [[0.00280778 0.00283635 0.00288695 ... 0.00357745 0.00365804 0.00380531]\n",
      "  [0.0028273  0.00286742 0.00294469 ... 0.00368328 0.00374102 0.00387924]\n",
      "  [0.00288076 0.00292552 0.00300564 ... 0.00381674 0.00387495 0.0040052 ]\n",
      "  ...\n",
      "  [0.00472272 0.00482582 0.00492118 ... 0.00398746 0.0035178  0.00334899]\n",
      "  [0.00509428 0.00517392 0.00525916 ... 0.003864   0.00341482 0.00323744]\n",
      "  [0.00539512 0.00547429 0.00552381 ... 0.00344816 0.00329327 0.00313636]]]\n",
      "----------------------------------------\n"
     ]
    }
   ],
   "source": [
    "# data values\n",
    "for i in ds2.data_vars:\n",
    "    var_data = ds2[i]\n",
    "    print('----------------------------------------')\n",
    "    print(var_data.values)\n",
    "    print('----------------------------------------')"
   ]
  },
  {
   "cell_type": "markdown",
   "id": "25be018a-2380-4a60-9b0d-8493826e9f70",
   "metadata": {},
   "source": [
    "## Data Merge and regrid"
   ]
  },
  {
   "cell_type": "markdown",
   "id": "c818afec-eed4-4a4f-b814-5a48f466c223",
   "metadata": {},
   "source": [
    "### All used function"
   ]
  },
  {
   "cell_type": "code",
   "execution_count": 1,
   "id": "d745c35e-e715-44ed-b0d3-20779eab4942",
   "metadata": {},
   "outputs": [
    {
     "data": {
      "text/plain": [
       "'D:\\\\anaconda3\\\\envs\\\\da\\\\Library\\\\lib\\\\esmf.mk'"
      ]
     },
     "execution_count": 1,
     "metadata": {},
     "output_type": "execute_result"
    }
   ],
   "source": [
    "%env ESMFMKFILE\n"
   ]
  },
  {
   "cell_type": "code",
   "execution_count": 2,
   "id": "53fb6349-6f4b-4b92-bded-ea46a5d636d4",
   "metadata": {},
   "outputs": [
    {
     "name": "stdout",
     "output_type": "stream",
     "text": [
      "ESMFMKFILE path: D:\\anaconda3\\envs\\da\\Library\\lib\\esmf.mk\n"
     ]
    }
   ],
   "source": [
    "import os\n",
    "esmfmkfile = os.environ.get(\"ESMFMKFILE\")\n",
    "print(\"ESMFMKFILE path:\", esmfmkfile)\n"
   ]
  },
  {
   "cell_type": "code",
   "execution_count": 1,
   "id": "986ff743-2549-46bf-a6d8-438a3c6ce717",
   "metadata": {},
   "outputs": [],
   "source": [
    "# Basic setting for Jupyter_notebook to import utils\n",
    "import os\n",
    "import sys\n",
    "\n",
    "notebook_path = os.path.abspath(\"\")\n",
    "project_root = os.path.abspath(os.path.join(notebook_path, \"../../\"))\n",
    "\n",
    "sys.path.append(project_root)"
   ]
  },
  {
   "cell_type": "code",
   "execution_count": 2,
   "id": "8d30269f-69b3-48c1-a42c-b399b33c4ea4",
   "metadata": {},
   "outputs": [],
   "source": [
    "\n",
    "def get_current_directory():\n",
    "    if \"__file__\" in globals():\n",
    "        # Running in a Python file\n",
    "        return os.path.abspath(os.path.dirname(__file__))\n",
    "    else:\n",
    "        # Running in a Jupyter Notebook\n",
    "        return os.path.abspath(os.path.dirname(\"\"))\n",
    "\n",
    "\n",
    "def find_folder(c, data_folder, data_category, output_folder):\n",
    "    # c: country list\n",
    "    current_directory = get_current_directory()\n",
    "    project_root = os.path.abspath(os.path.join(current_directory, \"..\", \".\"))\n",
    "    folder_name = f\"{c}_{output_folder}\"\n",
    "    folder_path = os.path.join(\n",
    "        project_root, data_folder, data_category, output_folder, folder_name\n",
    "    )\n",
    "\n",
    "    return folder_path\n",
    "\n",
    "\n",
    "def create_folder(c, data_folder, data_category, output_folder):\n",
    "    # c: country list\n",
    "    folder_path = find_folder(c, data_folder, data_category, output_folder)\n",
    "\n",
    "    try:\n",
    "        os.makedirs(folder_path, exist_ok=True)\n",
    "        print(f\"Folder '{folder_path}' created successfully.\")\n",
    "    except FileExistsError:\n",
    "        print(f\"Folder '{folder_path}' already exists.\")\n",
    "\n",
    "    return folder_path\n"
   ]
  },
  {
   "cell_type": "code",
   "execution_count": 3,
   "id": "24b9be3c-081a-420e-87ad-60e4129c7ad0",
   "metadata": {},
   "outputs": [],
   "source": [
    "import os\n",
    "import re\n",
    "import xarray as xr\n",
    "import numpy as np\n",
    "import xesmf as xe\n",
    "import dask\n",
    "from tqdm import tqdm"
   ]
  },
  {
   "cell_type": "code",
   "execution_count": 4,
   "id": "98175f9c-da6e-4571-ad5c-ffc7e6a28c1b",
   "metadata": {},
   "outputs": [],
   "source": [
    "PREFIX = \"era5_pressure_level_\"\n",
    "SUFFIX = \"_850.nc\""
   ]
  },
  {
   "cell_type": "code",
   "execution_count": 5,
   "id": "2b2a39bc-beb3-43ce-b7b6-c964f639d619",
   "metadata": {},
   "outputs": [],
   "source": [
    "def get_era5_list(country, data_folder, data_category, output_folder):\n",
    "    input_folder_path = find_folder(\n",
    "        country, data_folder, data_category, output_folder\n",
    "    )\n",
    "    nc_files = [\n",
    "        f for f in os.listdir(input_folder_path) if f.endswith(\".nc\") and \"era5\" in f\n",
    "    ]\n",
    "    return [\n",
    "        os.path.join(input_folder_path, nc_file) for nc_file in nc_files\n",
    "    ]  # list for era5 nc files path"
   ]
  },
  {
   "cell_type": "code",
   "execution_count": 6,
   "id": "62ceee7c-2883-4123-bae7-fbedb7c7ba48",
   "metadata": {},
   "outputs": [],
   "source": [
    "def merge_ds_by_year(era5_list, country, data_folder, data_category, output_folder):\n",
    "    \"\"\"\n",
    "    Merge netcdf files by year in the given list.\n",
    "    \"\"\"\n",
    "\n",
    "    # Organize files by year\n",
    "    files_by_year = {}\n",
    "    pattern = r\"era5_pressure_level_(\\d{4})_\\d{2}_\\d{3}\\.nc\"\n",
    "\n",
    "\n",
    "    for file in era5_list:\n",
    "        match = re.search(pattern, file)\n",
    "        if match:\n",
    "            year = match.group(1)\n",
    "            if year not in files_by_year:\n",
    "                files_by_year[year] = []\n",
    "            files_by_year[year].append(file)\n",
    "\n",
    "    # Merge and save for each year\n",
    "    # Calculate the output folder outside the loop\n",
    "    output_folder_path = find_folder(\n",
    "        country, data_folder, data_category, output_folder\n",
    "    )\n",
    "    \n",
    "    for year, file_list in files_by_year.items():\n",
    "        merged_ds = xr.open_mfdataset(file_list, combine=\"by_coords\")\n",
    "        output_filename = os.path.join(output_folder_path, f\"{PREFIX}{year}{SUFFIX}\")\n",
    "        merged_ds.to_netcdf(output_filename)\n",
    "        print(f\"Merged data for {year} saved as {output_filename}\")\n",
    "\n",
    "    # Get unique years\n",
    "    unique_years = list(files_by_year.keys())\n",
    "    return unique_years"
   ]
  },
  {
   "cell_type": "code",
   "execution_count": 7,
   "id": "accfb4ce-271b-45a4-890f-920a2824ac40",
   "metadata": {},
   "outputs": [],
   "source": [
    "def cutoff_ds(era5_nc_path, lat_min, lat_max, lon_min, lon_max):\n",
    "    \"\"\"\n",
    "    Cut off the dataset with given lat and lon range\n",
    "    :param ds: Input xarray dataset\n",
    "    :param lat_min: Minimum latitude\n",
    "    :param lat_max: Maximum latitude\n",
    "    :param lon_min: Minimum longitude\n",
    "    :param lon_max: Maximum longitude\n",
    "    :return: ds: Cut off dataset\n",
    "    \"\"\"\n",
    "    with xr.open_dataset(era5_nc_path) as ds:\n",
    "        return ds.sel(\n",
    "            latitude=slice(lat_max, lat_min),  # Reversed latitudes\n",
    "            longitude=slice(lon_min, lon_max),\n",
    "        )\n"
   ]
  },
  {
   "cell_type": "code",
   "execution_count": 8,
   "id": "ac0e5ffb-986e-4c10-9571-de9e6b55760f",
   "metadata": {},
   "outputs": [],
   "source": [
    "def regrid(ds_in, ddeg_out_lat, ddeg_out_lon, method=\"bilinear\", reuse_weights=True):\n",
    "    \"\"\"\n",
    "    Regrid horizontally (longitude direction).\n",
    "    :param ds_in: Input xarray dataset\n",
    "    :param ddeg_out: Output resolution\n",
    "    :param method: Regridding method\n",
    "    :param reuse_weights: Reuse weights for regridding\n",
    "    :return: ds_out: Regridded dataset\n",
    "    \"\"\"\n",
    "    # Rename to ESMF compatible coordinates\n",
    "    if \"latitude\" in ds_in.coords:\n",
    "        ds_in = ds_in.rename({\"latitude\": \"lat\", \"longitude\": \"lon\"})\n",
    "\n",
    "    # Create output grid\n",
    "    grid_out = xr.Dataset(\n",
    "        {\n",
    "            \"lat\": ([\"lat\"], np.arange(50, 58, ddeg_out_lat)),  # 50 - 57.75\n",
    "            \"lon\": ([\"lon\"], np.arange(-6, 2.0, ddeg_out_lon)),  # -6 - 1.875\n",
    "        }\n",
    "    )\n",
    "\n",
    "    # Create regridder\n",
    "    regridder = xe.Regridder(\n",
    "        ds_in,\n",
    "        grid_out,\n",
    "        method,\n",
    "        periodic=False,  # For a specific region, set periodic to False\n",
    "        reuse_weights=False, # recalculat weight automatically\n",
    "    )\n",
    "\n",
    "    # Hack to speed up regridding of large files\n",
    "    ds_list = []\n",
    "    chunk_size = 500\n",
    "    n_chunks = len(ds_in.time) // chunk_size + 1\n",
    "    for i in range(n_chunks):\n",
    "        ds_small = ds_in.isel(time=slice(i * chunk_size, (i + 1) * chunk_size))\n",
    "        ds_list.append(regridder(ds_small).astype(\"float32\"))\n",
    "    ds_out = xr.concat(ds_list, dim=\"time\")\n",
    "\n",
    "    # Set attributes since they get lost during regridding\n",
    "    for var in ds_out:\n",
    "        ds_out[var].attrs = ds_in[var].attrs\n",
    "    ds_out.attrs.update(ds_in.attrs)\n",
    "\n",
    "    # Regrid dataset\n",
    "    # ds_out = regridder(ds_in)\n",
    "    return ds_out"
   ]
  },
  {
   "cell_type": "code",
   "execution_count": 9,
   "id": "6b545e4f-1218-494b-b500-5e8de43c9a99",
   "metadata": {},
   "outputs": [],
   "source": [
    "def save_regridded_era5(\n",
    "    ds_out, year, country, data_folder, data_category, output_folder\n",
    "):\n",
    "    prefix = \"era5_pressure_level_\"\n",
    "    suffix = \"_850.nc\"\n",
    "    output_folder = find_folder(\n",
    "        country, data_folder, data_category, output_folder\n",
    "    )\n",
    "    output_filename = os.path.join(output_folder, f\"{prefix}{year}_regrid{suffix}\")\n",
    "    ds_out.to_netcdf(output_filename)\n",
    "    print(f\"Regridded data for {year} saved as {output_filename}\")"
   ]
  },
  {
   "cell_type": "markdown",
   "id": "92ee6583-1a77-438d-b9c7-6379ae014a5a",
   "metadata": {
    "jp-MarkdownHeadingCollapsed": true
   },
   "source": [
    "### Test example"
   ]
  },
  {
   "cell_type": "code",
   "execution_count": 9,
   "id": "21ebafc5-5da9-471f-a813-111139061942",
   "metadata": {},
   "outputs": [],
   "source": [
    "# Example usage\n",
    "\n",
    "country = \"GB\"\n",
    "data_folder = \"data\"\n",
    "data_test_category = \"test_data\"\n",
    "data_read_category = \"raw_data\"\n",
    "data_save_category = \"processed_data\"\n",
    "output_folder = \"ERA5_DATA\"\n",
    "ddeg_out_lat = 0.25\n",
    "ddeg_out_lon = 0.125"
   ]
  },
  {
   "cell_type": "code",
   "execution_count": 10,
   "id": "ef1f93f0-af8b-47bf-87d2-754b727bfc48",
   "metadata": {},
   "outputs": [
    {
     "data": {
      "text/plain": [
       "['F:\\\\JuPyterNotebook\\\\data\\\\test_data\\\\ERA5_DATA\\\\GB_ERA5_DATA\\\\era5_pressure_level_1979_01_850.nc',\n",
       " 'F:\\\\JuPyterNotebook\\\\data\\\\test_data\\\\ERA5_DATA\\\\GB_ERA5_DATA\\\\era5_pressure_level_1979_02_850.nc',\n",
       " 'F:\\\\JuPyterNotebook\\\\data\\\\test_data\\\\ERA5_DATA\\\\GB_ERA5_DATA\\\\era5_pressure_level_1979_03_850.nc',\n",
       " 'F:\\\\JuPyterNotebook\\\\data\\\\test_data\\\\ERA5_DATA\\\\GB_ERA5_DATA\\\\era5_pressure_level_1979_04_850.nc',\n",
       " 'F:\\\\JuPyterNotebook\\\\data\\\\test_data\\\\ERA5_DATA\\\\GB_ERA5_DATA\\\\era5_pressure_level_1979_05_850.nc',\n",
       " 'F:\\\\JuPyterNotebook\\\\data\\\\test_data\\\\ERA5_DATA\\\\GB_ERA5_DATA\\\\era5_pressure_level_1979_06_850.nc',\n",
       " 'F:\\\\JuPyterNotebook\\\\data\\\\test_data\\\\ERA5_DATA\\\\GB_ERA5_DATA\\\\era5_pressure_level_1979_07_850.nc',\n",
       " 'F:\\\\JuPyterNotebook\\\\data\\\\test_data\\\\ERA5_DATA\\\\GB_ERA5_DATA\\\\era5_pressure_level_1979_08_850.nc',\n",
       " 'F:\\\\JuPyterNotebook\\\\data\\\\test_data\\\\ERA5_DATA\\\\GB_ERA5_DATA\\\\era5_pressure_level_1979_09_850.nc',\n",
       " 'F:\\\\JuPyterNotebook\\\\data\\\\test_data\\\\ERA5_DATA\\\\GB_ERA5_DATA\\\\era5_pressure_level_1979_10_850.nc',\n",
       " 'F:\\\\JuPyterNotebook\\\\data\\\\test_data\\\\ERA5_DATA\\\\GB_ERA5_DATA\\\\era5_pressure_level_1979_11_850.nc',\n",
       " 'F:\\\\JuPyterNotebook\\\\data\\\\test_data\\\\ERA5_DATA\\\\GB_ERA5_DATA\\\\era5_pressure_level_1979_12_850.nc',\n",
       " 'F:\\\\JuPyterNotebook\\\\data\\\\test_data\\\\ERA5_DATA\\\\GB_ERA5_DATA\\\\era5_pressure_level_1980_01_850.nc',\n",
       " 'F:\\\\JuPyterNotebook\\\\data\\\\test_data\\\\ERA5_DATA\\\\GB_ERA5_DATA\\\\era5_pressure_level_1980_02_850.nc',\n",
       " 'F:\\\\JuPyterNotebook\\\\data\\\\test_data\\\\ERA5_DATA\\\\GB_ERA5_DATA\\\\era5_pressure_level_1980_03_850.nc',\n",
       " 'F:\\\\JuPyterNotebook\\\\data\\\\test_data\\\\ERA5_DATA\\\\GB_ERA5_DATA\\\\era5_pressure_level_1980_04_850.nc',\n",
       " 'F:\\\\JuPyterNotebook\\\\data\\\\test_data\\\\ERA5_DATA\\\\GB_ERA5_DATA\\\\era5_pressure_level_1980_05_850.nc',\n",
       " 'F:\\\\JuPyterNotebook\\\\data\\\\test_data\\\\ERA5_DATA\\\\GB_ERA5_DATA\\\\era5_pressure_level_1980_06_850.nc',\n",
       " 'F:\\\\JuPyterNotebook\\\\data\\\\test_data\\\\ERA5_DATA\\\\GB_ERA5_DATA\\\\era5_pressure_level_1980_07_850.nc',\n",
       " 'F:\\\\JuPyterNotebook\\\\data\\\\test_data\\\\ERA5_DATA\\\\GB_ERA5_DATA\\\\era5_pressure_level_1980_08_850.nc',\n",
       " 'F:\\\\JuPyterNotebook\\\\data\\\\test_data\\\\ERA5_DATA\\\\GB_ERA5_DATA\\\\era5_pressure_level_1980_09_850.nc',\n",
       " 'F:\\\\JuPyterNotebook\\\\data\\\\test_data\\\\ERA5_DATA\\\\GB_ERA5_DATA\\\\era5_pressure_level_1980_10_850.nc',\n",
       " 'F:\\\\JuPyterNotebook\\\\data\\\\test_data\\\\ERA5_DATA\\\\GB_ERA5_DATA\\\\era5_pressure_level_1980_11_850.nc',\n",
       " 'F:\\\\JuPyterNotebook\\\\data\\\\test_data\\\\ERA5_DATA\\\\GB_ERA5_DATA\\\\era5_pressure_level_1980_12_850.nc']"
      ]
     },
     "execution_count": 10,
     "metadata": {},
     "output_type": "execute_result"
    }
   ],
   "source": [
    "era5_list = get_era5_list(country, data_folder, data_test_category, output_folder)"
   ]
  },
  {
   "cell_type": "code",
   "execution_count": 13,
   "id": "2410cdde-84a0-470b-bae8-44b9d1f47e5f",
   "metadata": {},
   "outputs": [],
   "source": [
    "year_list =[]"
   ]
  },
  {
   "cell_type": "code",
   "execution_count": 16,
   "id": "8c5aacf5-b24a-4afb-ba99-ac7bf0527be1",
   "metadata": {
    "scrolled": true
   },
   "outputs": [
    {
     "name": "stdout",
     "output_type": "stream",
     "text": [
      "Merged data for 1979 saved as F:\\JuPyterNotebook\\data\\processed_data\\ERA5_DATA\\GB_ERA5_DATA\\era5_pressure_level_1979_850.nc\n",
      "Merged data for 1980 saved as F:\\JuPyterNotebook\\data\\processed_data\\ERA5_DATA\\GB_ERA5_DATA\\era5_pressure_level_1980_850.nc\n"
     ]
    }
   ],
   "source": [
    "year_list = merge_ds_by_year(\n",
    "    era5_list, country, data_folder, data_save_category, output_folder\n",
    ")"
   ]
  },
  {
   "cell_type": "code",
   "execution_count": 29,
   "id": "80bbe878-fc55-4a59-9f33-131d7954e100",
   "metadata": {},
   "outputs": [],
   "source": [
    "merge_era5_list = get_era5_list(country, data_folder, data_save_category, output_folder)"
   ]
  },
  {
   "cell_type": "code",
   "execution_count": 30,
   "id": "958e712c-e3c2-44bb-8e0e-6530c2b3d0e8",
   "metadata": {
    "scrolled": true
   },
   "outputs": [
    {
     "data": {
      "text/plain": [
       "['F:\\\\JuPyterNotebook\\\\data\\\\processed_data\\\\ERA5_DATA\\\\GB_ERA5_DATA\\\\era5_pressure_level_1979_850.nc',\n",
       " 'F:\\\\JuPyterNotebook\\\\data\\\\processed_data\\\\ERA5_DATA\\\\GB_ERA5_DATA\\\\era5_pressure_level_1979_regrid_850.nc',\n",
       " 'F:\\\\JuPyterNotebook\\\\data\\\\processed_data\\\\ERA5_DATA\\\\GB_ERA5_DATA\\\\era5_pressure_level_1980_850.nc',\n",
       " 'F:\\\\JuPyterNotebook\\\\data\\\\processed_data\\\\ERA5_DATA\\\\GB_ERA5_DATA\\\\era5_pressure_level_1980_regrid_850.nc']"
      ]
     },
     "execution_count": 30,
     "metadata": {},
     "output_type": "execute_result"
    }
   ],
   "source": [
    "merge_era5_list"
   ]
  },
  {
   "cell_type": "code",
   "execution_count": 21,
   "id": "96adeabe-36b7-4035-990f-c4e77ffb40cd",
   "metadata": {},
   "outputs": [
    {
     "name": "stdout",
     "output_type": "stream",
     "text": [
      "<xarray.Dataset>\n",
      "Dimensions:    (time: 8760, latitude: 33, longitude: 37)\n",
      "Coordinates:\n",
      "  * time       (time) datetime64[ns] 1979-01-01 ... 1979-12-31T23:00:00\n",
      "  * longitude  (longitude) float32 -7.0 -6.75 -6.5 -6.25 ... 1.25 1.5 1.75 2.0\n",
      "  * latitude   (latitude) float32 58.0 57.75 57.5 57.25 ... 50.5 50.25 50.0\n",
      "Data variables:\n",
      "    t          (time, latitude, longitude) float32 ...\n",
      "Attributes:\n",
      "    Conventions:  CF-1.6\n",
      "    history:      2023-08-26 11:48:45 GMT by grib_to_netcdf-2.25.1: /opt/ecmw...\n"
     ]
    }
   ],
   "source": [
    "ds2 = xr.open_dataset(merge_era5_list[0])\n",
    "print(ds2)"
   ]
  },
  {
   "cell_type": "code",
   "execution_count": 25,
   "id": "c358566c-3a5c-41d6-bcc5-275cd9d8411e",
   "metadata": {},
   "outputs": [
    {
     "name": "stdout",
     "output_type": "stream",
     "text": [
      "<xarray.Dataset>\n",
      "Dimensions:    (time: 8760, latitude: 33, longitude: 33)\n",
      "Coordinates:\n",
      "  * time       (time) datetime64[ns] 1979-01-01 ... 1979-12-31T23:00:00\n",
      "  * longitude  (longitude) float32 -6.0 -5.75 -5.5 -5.25 ... 1.25 1.5 1.75 2.0\n",
      "  * latitude   (latitude) float32 58.0 57.75 57.5 57.25 ... 50.5 50.25 50.0\n",
      "Data variables:\n",
      "    t          (time, latitude, longitude) float32 ...\n",
      "Attributes:\n",
      "    Conventions:  CF-1.6\n",
      "    history:      2023-08-26 11:48:45 GMT by grib_to_netcdf-2.25.1: /opt/ecmw...\n"
     ]
    }
   ],
   "source": [
    "ds3 =  cutoff_ds(merge_era5_list[0], 50, 58, -6, 2)\n",
    "print(ds3)"
   ]
  },
  {
   "cell_type": "code",
   "execution_count": 28,
   "id": "5fde472a-150d-479b-8192-aa5e23215001",
   "metadata": {},
   "outputs": [
    {
     "name": "stderr",
     "output_type": "stream",
     "text": [
      "1it [00:02,  2.36s/it]"
     ]
    },
    {
     "name": "stdout",
     "output_type": "stream",
     "text": [
      "Regridded data for 1979 saved as F:\\JuPyterNotebook\\data\\processed_data\\ERA5_DATA\\GB_ERA5_DATA\\era5_pressure_level_1979_regrid_850.nc\n"
     ]
    },
    {
     "name": "stderr",
     "output_type": "stream",
     "text": [
      "2it [00:03,  1.66s/it]"
     ]
    },
    {
     "name": "stdout",
     "output_type": "stream",
     "text": [
      "Regridded data for 1980 saved as F:\\JuPyterNotebook\\data\\processed_data\\ERA5_DATA\\GB_ERA5_DATA\\era5_pressure_level_1980_regrid_850.nc\n"
     ]
    },
    {
     "name": "stderr",
     "output_type": "stream",
     "text": [
      "\n"
     ]
    }
   ],
   "source": [
    "for merged_ds_path, year in tqdm(zip(merge_era5_list, year_list)):\n",
    "    ds = xr.open_dataset(merged_ds_path)\n",
    "    ds = cutoff_ds(merged_ds_path, 50, 58, -6, 2)\n",
    "    ds_out = regrid(ds, ddeg_out_lat, ddeg_out_lon)\n",
    "    save_regridded_era5(\n",
    "        ds_out, year, country, data_folder, data_save_category, output_folder\n",
    "    )"
   ]
  },
  {
   "cell_type": "code",
   "execution_count": 32,
   "id": "63abfc7f-b59a-4eb5-8de5-bd3a301dad77",
   "metadata": {},
   "outputs": [
    {
     "name": "stdout",
     "output_type": "stream",
     "text": [
      "<xarray.Dataset>\n",
      "Dimensions:  (time: 8760, lat: 32, lon: 64)\n",
      "Coordinates:\n",
      "  * time     (time) datetime64[ns] 1979-01-01 ... 1979-12-31T23:00:00\n",
      "  * lon      (lon) float64 -6.0 -5.875 -5.75 -5.625 ... 1.5 1.625 1.75 1.875\n",
      "  * lat      (lat) float64 50.0 50.25 50.5 50.75 51.0 ... 57.0 57.25 57.5 57.75\n",
      "Data variables:\n",
      "    t        (time, lat, lon) float32 ...\n",
      "Attributes:\n",
      "    regrid_method:  bilinear\n",
      "    Conventions:    CF-1.6\n",
      "    history:        2023-08-26 11:48:45 GMT by grib_to_netcdf-2.25.1: /opt/ec...\n"
     ]
    }
   ],
   "source": [
    "ds4 = xr.open_dataset(merge_era5_list[1])\n",
    "print(ds4)"
   ]
  },
  {
   "cell_type": "markdown",
   "id": "de8a5018-a375-4948-8b60-9cd70d3efd19",
   "metadata": {},
   "source": [
    "### The whole process"
   ]
  },
  {
   "cell_type": "code",
   "execution_count": 10,
   "id": "343517ce-a6b4-4e88-99a9-788b0bb90370",
   "metadata": {},
   "outputs": [],
   "source": [
    "# Example usage\n",
    "\n",
    "country = \"GB\"\n",
    "data_folder = \"data\"\n",
    "data_test_category = \"test_data\"\n",
    "data_read_category = \"raw_data\"\n",
    "data_save_category = \"processed_data\"\n",
    "output_folder = \"ERA5_DATA\"\n",
    "ddeg_out_lat = 0.25\n",
    "ddeg_out_lon = 0.125"
   ]
  },
  {
   "cell_type": "code",
   "execution_count": 11,
   "id": "148768ce-f0f8-4cdd-bd24-92b9e3f884e6",
   "metadata": {},
   "outputs": [],
   "source": [
    "era5_list = get_era5_list(country, data_folder, data_read_category, output_folder)"
   ]
  },
  {
   "cell_type": "code",
   "execution_count": 12,
   "id": "0b5c47d5-a1fa-4623-bd5b-4d4bd9262016",
   "metadata": {},
   "outputs": [
    {
     "data": {
      "text/plain": [
       "528"
      ]
     },
     "execution_count": 12,
     "metadata": {},
     "output_type": "execute_result"
    }
   ],
   "source": [
    "len(era5_list)"
   ]
  },
  {
   "cell_type": "code",
   "execution_count": 13,
   "id": "c5a5913f-ffb4-46df-9fe4-ece0281003b3",
   "metadata": {},
   "outputs": [],
   "source": [
    "year_list =[]"
   ]
  },
  {
   "cell_type": "code",
   "execution_count": 15,
   "id": "9a07a2bd-7135-4af4-9f44-6507c0cada6b",
   "metadata": {
    "scrolled": true
   },
   "outputs": [
    {
     "name": "stdout",
     "output_type": "stream",
     "text": [
      "Merged data for 1979 saved as F:\\JuPyterNotebook\\data\\processed_data\\ERA5_DATA\\GB_ERA5_DATA\\era5_pressure_level_1979_850.nc\n",
      "Merged data for 1980 saved as F:\\JuPyterNotebook\\data\\processed_data\\ERA5_DATA\\GB_ERA5_DATA\\era5_pressure_level_1980_850.nc\n",
      "Merged data for 1981 saved as F:\\JuPyterNotebook\\data\\processed_data\\ERA5_DATA\\GB_ERA5_DATA\\era5_pressure_level_1981_850.nc\n",
      "Merged data for 1982 saved as F:\\JuPyterNotebook\\data\\processed_data\\ERA5_DATA\\GB_ERA5_DATA\\era5_pressure_level_1982_850.nc\n",
      "Merged data for 1983 saved as F:\\JuPyterNotebook\\data\\processed_data\\ERA5_DATA\\GB_ERA5_DATA\\era5_pressure_level_1983_850.nc\n",
      "Merged data for 1984 saved as F:\\JuPyterNotebook\\data\\processed_data\\ERA5_DATA\\GB_ERA5_DATA\\era5_pressure_level_1984_850.nc\n",
      "Merged data for 1985 saved as F:\\JuPyterNotebook\\data\\processed_data\\ERA5_DATA\\GB_ERA5_DATA\\era5_pressure_level_1985_850.nc\n",
      "Merged data for 1986 saved as F:\\JuPyterNotebook\\data\\processed_data\\ERA5_DATA\\GB_ERA5_DATA\\era5_pressure_level_1986_850.nc\n",
      "Merged data for 1987 saved as F:\\JuPyterNotebook\\data\\processed_data\\ERA5_DATA\\GB_ERA5_DATA\\era5_pressure_level_1987_850.nc\n",
      "Merged data for 1988 saved as F:\\JuPyterNotebook\\data\\processed_data\\ERA5_DATA\\GB_ERA5_DATA\\era5_pressure_level_1988_850.nc\n",
      "Merged data for 1989 saved as F:\\JuPyterNotebook\\data\\processed_data\\ERA5_DATA\\GB_ERA5_DATA\\era5_pressure_level_1989_850.nc\n",
      "Merged data for 1990 saved as F:\\JuPyterNotebook\\data\\processed_data\\ERA5_DATA\\GB_ERA5_DATA\\era5_pressure_level_1990_850.nc\n",
      "Merged data for 1991 saved as F:\\JuPyterNotebook\\data\\processed_data\\ERA5_DATA\\GB_ERA5_DATA\\era5_pressure_level_1991_850.nc\n",
      "Merged data for 1992 saved as F:\\JuPyterNotebook\\data\\processed_data\\ERA5_DATA\\GB_ERA5_DATA\\era5_pressure_level_1992_850.nc\n",
      "Merged data for 1993 saved as F:\\JuPyterNotebook\\data\\processed_data\\ERA5_DATA\\GB_ERA5_DATA\\era5_pressure_level_1993_850.nc\n",
      "Merged data for 1994 saved as F:\\JuPyterNotebook\\data\\processed_data\\ERA5_DATA\\GB_ERA5_DATA\\era5_pressure_level_1994_850.nc\n",
      "Merged data for 1995 saved as F:\\JuPyterNotebook\\data\\processed_data\\ERA5_DATA\\GB_ERA5_DATA\\era5_pressure_level_1995_850.nc\n",
      "Merged data for 1996 saved as F:\\JuPyterNotebook\\data\\processed_data\\ERA5_DATA\\GB_ERA5_DATA\\era5_pressure_level_1996_850.nc\n",
      "Merged data for 1997 saved as F:\\JuPyterNotebook\\data\\processed_data\\ERA5_DATA\\GB_ERA5_DATA\\era5_pressure_level_1997_850.nc\n",
      "Merged data for 1998 saved as F:\\JuPyterNotebook\\data\\processed_data\\ERA5_DATA\\GB_ERA5_DATA\\era5_pressure_level_1998_850.nc\n",
      "Merged data for 1999 saved as F:\\JuPyterNotebook\\data\\processed_data\\ERA5_DATA\\GB_ERA5_DATA\\era5_pressure_level_1999_850.nc\n",
      "Merged data for 2000 saved as F:\\JuPyterNotebook\\data\\processed_data\\ERA5_DATA\\GB_ERA5_DATA\\era5_pressure_level_2000_850.nc\n",
      "Merged data for 2001 saved as F:\\JuPyterNotebook\\data\\processed_data\\ERA5_DATA\\GB_ERA5_DATA\\era5_pressure_level_2001_850.nc\n",
      "Merged data for 2002 saved as F:\\JuPyterNotebook\\data\\processed_data\\ERA5_DATA\\GB_ERA5_DATA\\era5_pressure_level_2002_850.nc\n",
      "Merged data for 2003 saved as F:\\JuPyterNotebook\\data\\processed_data\\ERA5_DATA\\GB_ERA5_DATA\\era5_pressure_level_2003_850.nc\n",
      "Merged data for 2004 saved as F:\\JuPyterNotebook\\data\\processed_data\\ERA5_DATA\\GB_ERA5_DATA\\era5_pressure_level_2004_850.nc\n",
      "Merged data for 2005 saved as F:\\JuPyterNotebook\\data\\processed_data\\ERA5_DATA\\GB_ERA5_DATA\\era5_pressure_level_2005_850.nc\n",
      "Merged data for 2006 saved as F:\\JuPyterNotebook\\data\\processed_data\\ERA5_DATA\\GB_ERA5_DATA\\era5_pressure_level_2006_850.nc\n",
      "Merged data for 2007 saved as F:\\JuPyterNotebook\\data\\processed_data\\ERA5_DATA\\GB_ERA5_DATA\\era5_pressure_level_2007_850.nc\n",
      "Merged data for 2008 saved as F:\\JuPyterNotebook\\data\\processed_data\\ERA5_DATA\\GB_ERA5_DATA\\era5_pressure_level_2008_850.nc\n",
      "Merged data for 2009 saved as F:\\JuPyterNotebook\\data\\processed_data\\ERA5_DATA\\GB_ERA5_DATA\\era5_pressure_level_2009_850.nc\n",
      "Merged data for 2010 saved as F:\\JuPyterNotebook\\data\\processed_data\\ERA5_DATA\\GB_ERA5_DATA\\era5_pressure_level_2010_850.nc\n",
      "Merged data for 2011 saved as F:\\JuPyterNotebook\\data\\processed_data\\ERA5_DATA\\GB_ERA5_DATA\\era5_pressure_level_2011_850.nc\n",
      "Merged data for 2012 saved as F:\\JuPyterNotebook\\data\\processed_data\\ERA5_DATA\\GB_ERA5_DATA\\era5_pressure_level_2012_850.nc\n",
      "Merged data for 2013 saved as F:\\JuPyterNotebook\\data\\processed_data\\ERA5_DATA\\GB_ERA5_DATA\\era5_pressure_level_2013_850.nc\n",
      "Merged data for 2014 saved as F:\\JuPyterNotebook\\data\\processed_data\\ERA5_DATA\\GB_ERA5_DATA\\era5_pressure_level_2014_850.nc\n",
      "Merged data for 2015 saved as F:\\JuPyterNotebook\\data\\processed_data\\ERA5_DATA\\GB_ERA5_DATA\\era5_pressure_level_2015_850.nc\n",
      "Merged data for 2016 saved as F:\\JuPyterNotebook\\data\\processed_data\\ERA5_DATA\\GB_ERA5_DATA\\era5_pressure_level_2016_850.nc\n",
      "Merged data for 2017 saved as F:\\JuPyterNotebook\\data\\processed_data\\ERA5_DATA\\GB_ERA5_DATA\\era5_pressure_level_2017_850.nc\n",
      "Merged data for 2018 saved as F:\\JuPyterNotebook\\data\\processed_data\\ERA5_DATA\\GB_ERA5_DATA\\era5_pressure_level_2018_850.nc\n",
      "Merged data for 2019 saved as F:\\JuPyterNotebook\\data\\processed_data\\ERA5_DATA\\GB_ERA5_DATA\\era5_pressure_level_2019_850.nc\n",
      "Merged data for 2020 saved as F:\\JuPyterNotebook\\data\\processed_data\\ERA5_DATA\\GB_ERA5_DATA\\era5_pressure_level_2020_850.nc\n",
      "Merged data for 2021 saved as F:\\JuPyterNotebook\\data\\processed_data\\ERA5_DATA\\GB_ERA5_DATA\\era5_pressure_level_2021_850.nc\n",
      "Merged data for 2022 saved as F:\\JuPyterNotebook\\data\\processed_data\\ERA5_DATA\\GB_ERA5_DATA\\era5_pressure_level_2022_850.nc\n"
     ]
    }
   ],
   "source": [
    "year_list = merge_ds_by_year(\n",
    "    era5_list, country, data_folder, data_save_category, output_folder\n",
    ")"
   ]
  },
  {
   "cell_type": "code",
   "execution_count": 16,
   "id": "44a1329a-287c-436a-8fe8-20efe6711641",
   "metadata": {},
   "outputs": [
    {
     "data": {
      "text/plain": [
       "44"
      ]
     },
     "execution_count": 16,
     "metadata": {},
     "output_type": "execute_result"
    }
   ],
   "source": [
    "len(year_list)"
   ]
  },
  {
   "cell_type": "code",
   "execution_count": 17,
   "id": "9feb7e79-95cb-4f2e-8840-1d7b5172a3ee",
   "metadata": {},
   "outputs": [],
   "source": [
    "merge_era5_list = get_era5_list(country, data_folder, data_save_category, output_folder)"
   ]
  },
  {
   "cell_type": "code",
   "execution_count": 18,
   "id": "b8417283-7722-48af-8ebd-a8e1113a6da3",
   "metadata": {
    "scrolled": true
   },
   "outputs": [
    {
     "data": {
      "text/plain": [
       "['F:\\\\JuPyterNotebook\\\\data\\\\processed_data\\\\ERA5_DATA\\\\GB_ERA5_DATA\\\\era5_pressure_level_1979_850.nc',\n",
       " 'F:\\\\JuPyterNotebook\\\\data\\\\processed_data\\\\ERA5_DATA\\\\GB_ERA5_DATA\\\\era5_pressure_level_1980_850.nc',\n",
       " 'F:\\\\JuPyterNotebook\\\\data\\\\processed_data\\\\ERA5_DATA\\\\GB_ERA5_DATA\\\\era5_pressure_level_1981_850.nc',\n",
       " 'F:\\\\JuPyterNotebook\\\\data\\\\processed_data\\\\ERA5_DATA\\\\GB_ERA5_DATA\\\\era5_pressure_level_1982_850.nc',\n",
       " 'F:\\\\JuPyterNotebook\\\\data\\\\processed_data\\\\ERA5_DATA\\\\GB_ERA5_DATA\\\\era5_pressure_level_1983_850.nc',\n",
       " 'F:\\\\JuPyterNotebook\\\\data\\\\processed_data\\\\ERA5_DATA\\\\GB_ERA5_DATA\\\\era5_pressure_level_1984_850.nc',\n",
       " 'F:\\\\JuPyterNotebook\\\\data\\\\processed_data\\\\ERA5_DATA\\\\GB_ERA5_DATA\\\\era5_pressure_level_1985_850.nc',\n",
       " 'F:\\\\JuPyterNotebook\\\\data\\\\processed_data\\\\ERA5_DATA\\\\GB_ERA5_DATA\\\\era5_pressure_level_1986_850.nc',\n",
       " 'F:\\\\JuPyterNotebook\\\\data\\\\processed_data\\\\ERA5_DATA\\\\GB_ERA5_DATA\\\\era5_pressure_level_1987_850.nc',\n",
       " 'F:\\\\JuPyterNotebook\\\\data\\\\processed_data\\\\ERA5_DATA\\\\GB_ERA5_DATA\\\\era5_pressure_level_1988_850.nc',\n",
       " 'F:\\\\JuPyterNotebook\\\\data\\\\processed_data\\\\ERA5_DATA\\\\GB_ERA5_DATA\\\\era5_pressure_level_1989_850.nc',\n",
       " 'F:\\\\JuPyterNotebook\\\\data\\\\processed_data\\\\ERA5_DATA\\\\GB_ERA5_DATA\\\\era5_pressure_level_1990_850.nc',\n",
       " 'F:\\\\JuPyterNotebook\\\\data\\\\processed_data\\\\ERA5_DATA\\\\GB_ERA5_DATA\\\\era5_pressure_level_1991_850.nc',\n",
       " 'F:\\\\JuPyterNotebook\\\\data\\\\processed_data\\\\ERA5_DATA\\\\GB_ERA5_DATA\\\\era5_pressure_level_1992_850.nc',\n",
       " 'F:\\\\JuPyterNotebook\\\\data\\\\processed_data\\\\ERA5_DATA\\\\GB_ERA5_DATA\\\\era5_pressure_level_1993_850.nc',\n",
       " 'F:\\\\JuPyterNotebook\\\\data\\\\processed_data\\\\ERA5_DATA\\\\GB_ERA5_DATA\\\\era5_pressure_level_1994_850.nc',\n",
       " 'F:\\\\JuPyterNotebook\\\\data\\\\processed_data\\\\ERA5_DATA\\\\GB_ERA5_DATA\\\\era5_pressure_level_1995_850.nc',\n",
       " 'F:\\\\JuPyterNotebook\\\\data\\\\processed_data\\\\ERA5_DATA\\\\GB_ERA5_DATA\\\\era5_pressure_level_1996_850.nc',\n",
       " 'F:\\\\JuPyterNotebook\\\\data\\\\processed_data\\\\ERA5_DATA\\\\GB_ERA5_DATA\\\\era5_pressure_level_1997_850.nc',\n",
       " 'F:\\\\JuPyterNotebook\\\\data\\\\processed_data\\\\ERA5_DATA\\\\GB_ERA5_DATA\\\\era5_pressure_level_1998_850.nc',\n",
       " 'F:\\\\JuPyterNotebook\\\\data\\\\processed_data\\\\ERA5_DATA\\\\GB_ERA5_DATA\\\\era5_pressure_level_1999_850.nc',\n",
       " 'F:\\\\JuPyterNotebook\\\\data\\\\processed_data\\\\ERA5_DATA\\\\GB_ERA5_DATA\\\\era5_pressure_level_2000_850.nc',\n",
       " 'F:\\\\JuPyterNotebook\\\\data\\\\processed_data\\\\ERA5_DATA\\\\GB_ERA5_DATA\\\\era5_pressure_level_2001_850.nc',\n",
       " 'F:\\\\JuPyterNotebook\\\\data\\\\processed_data\\\\ERA5_DATA\\\\GB_ERA5_DATA\\\\era5_pressure_level_2002_850.nc',\n",
       " 'F:\\\\JuPyterNotebook\\\\data\\\\processed_data\\\\ERA5_DATA\\\\GB_ERA5_DATA\\\\era5_pressure_level_2003_850.nc',\n",
       " 'F:\\\\JuPyterNotebook\\\\data\\\\processed_data\\\\ERA5_DATA\\\\GB_ERA5_DATA\\\\era5_pressure_level_2004_850.nc',\n",
       " 'F:\\\\JuPyterNotebook\\\\data\\\\processed_data\\\\ERA5_DATA\\\\GB_ERA5_DATA\\\\era5_pressure_level_2005_850.nc',\n",
       " 'F:\\\\JuPyterNotebook\\\\data\\\\processed_data\\\\ERA5_DATA\\\\GB_ERA5_DATA\\\\era5_pressure_level_2006_850.nc',\n",
       " 'F:\\\\JuPyterNotebook\\\\data\\\\processed_data\\\\ERA5_DATA\\\\GB_ERA5_DATA\\\\era5_pressure_level_2007_850.nc',\n",
       " 'F:\\\\JuPyterNotebook\\\\data\\\\processed_data\\\\ERA5_DATA\\\\GB_ERA5_DATA\\\\era5_pressure_level_2008_850.nc',\n",
       " 'F:\\\\JuPyterNotebook\\\\data\\\\processed_data\\\\ERA5_DATA\\\\GB_ERA5_DATA\\\\era5_pressure_level_2009_850.nc',\n",
       " 'F:\\\\JuPyterNotebook\\\\data\\\\processed_data\\\\ERA5_DATA\\\\GB_ERA5_DATA\\\\era5_pressure_level_2010_850.nc',\n",
       " 'F:\\\\JuPyterNotebook\\\\data\\\\processed_data\\\\ERA5_DATA\\\\GB_ERA5_DATA\\\\era5_pressure_level_2011_850.nc',\n",
       " 'F:\\\\JuPyterNotebook\\\\data\\\\processed_data\\\\ERA5_DATA\\\\GB_ERA5_DATA\\\\era5_pressure_level_2012_850.nc',\n",
       " 'F:\\\\JuPyterNotebook\\\\data\\\\processed_data\\\\ERA5_DATA\\\\GB_ERA5_DATA\\\\era5_pressure_level_2013_850.nc',\n",
       " 'F:\\\\JuPyterNotebook\\\\data\\\\processed_data\\\\ERA5_DATA\\\\GB_ERA5_DATA\\\\era5_pressure_level_2014_850.nc',\n",
       " 'F:\\\\JuPyterNotebook\\\\data\\\\processed_data\\\\ERA5_DATA\\\\GB_ERA5_DATA\\\\era5_pressure_level_2015_850.nc',\n",
       " 'F:\\\\JuPyterNotebook\\\\data\\\\processed_data\\\\ERA5_DATA\\\\GB_ERA5_DATA\\\\era5_pressure_level_2016_850.nc',\n",
       " 'F:\\\\JuPyterNotebook\\\\data\\\\processed_data\\\\ERA5_DATA\\\\GB_ERA5_DATA\\\\era5_pressure_level_2017_850.nc',\n",
       " 'F:\\\\JuPyterNotebook\\\\data\\\\processed_data\\\\ERA5_DATA\\\\GB_ERA5_DATA\\\\era5_pressure_level_2018_850.nc',\n",
       " 'F:\\\\JuPyterNotebook\\\\data\\\\processed_data\\\\ERA5_DATA\\\\GB_ERA5_DATA\\\\era5_pressure_level_2019_850.nc',\n",
       " 'F:\\\\JuPyterNotebook\\\\data\\\\processed_data\\\\ERA5_DATA\\\\GB_ERA5_DATA\\\\era5_pressure_level_2020_850.nc',\n",
       " 'F:\\\\JuPyterNotebook\\\\data\\\\processed_data\\\\ERA5_DATA\\\\GB_ERA5_DATA\\\\era5_pressure_level_2021_850.nc',\n",
       " 'F:\\\\JuPyterNotebook\\\\data\\\\processed_data\\\\ERA5_DATA\\\\GB_ERA5_DATA\\\\era5_pressure_level_2022_850.nc']"
      ]
     },
     "execution_count": 18,
     "metadata": {},
     "output_type": "execute_result"
    }
   ],
   "source": [
    "merge_era5_list"
   ]
  },
  {
   "cell_type": "code",
   "execution_count": 19,
   "id": "4a8d9bfb-adc8-42a5-b048-df84ea6ca699",
   "metadata": {},
   "outputs": [
    {
     "name": "stderr",
     "output_type": "stream",
     "text": [
      "1it [00:01,  1.99s/it]"
     ]
    },
    {
     "name": "stdout",
     "output_type": "stream",
     "text": [
      "Regridded data for 1979 saved as F:\\JuPyterNotebook\\data\\processed_data\\ERA5_DATA\\GB_ERA5_DATA\\era5_pressure_level_1979_regrid_850.nc\n"
     ]
    },
    {
     "name": "stderr",
     "output_type": "stream",
     "text": [
      "2it [00:02,  1.40s/it]"
     ]
    },
    {
     "name": "stdout",
     "output_type": "stream",
     "text": [
      "Regridded data for 1980 saved as F:\\JuPyterNotebook\\data\\processed_data\\ERA5_DATA\\GB_ERA5_DATA\\era5_pressure_level_1980_regrid_850.nc\n"
     ]
    },
    {
     "name": "stderr",
     "output_type": "stream",
     "text": [
      "3it [00:04,  1.23s/it]"
     ]
    },
    {
     "name": "stdout",
     "output_type": "stream",
     "text": [
      "Regridded data for 1981 saved as F:\\JuPyterNotebook\\data\\processed_data\\ERA5_DATA\\GB_ERA5_DATA\\era5_pressure_level_1981_regrid_850.nc\n"
     ]
    },
    {
     "name": "stderr",
     "output_type": "stream",
     "text": [
      "4it [00:04,  1.12s/it]"
     ]
    },
    {
     "name": "stdout",
     "output_type": "stream",
     "text": [
      "Regridded data for 1982 saved as F:\\JuPyterNotebook\\data\\processed_data\\ERA5_DATA\\GB_ERA5_DATA\\era5_pressure_level_1982_regrid_850.nc\n"
     ]
    },
    {
     "name": "stderr",
     "output_type": "stream",
     "text": [
      "5it [00:05,  1.06s/it]"
     ]
    },
    {
     "name": "stdout",
     "output_type": "stream",
     "text": [
      "Regridded data for 1983 saved as F:\\JuPyterNotebook\\data\\processed_data\\ERA5_DATA\\GB_ERA5_DATA\\era5_pressure_level_1983_regrid_850.nc\n"
     ]
    },
    {
     "name": "stderr",
     "output_type": "stream",
     "text": [
      "6it [00:06,  1.04s/it]"
     ]
    },
    {
     "name": "stdout",
     "output_type": "stream",
     "text": [
      "Regridded data for 1984 saved as F:\\JuPyterNotebook\\data\\processed_data\\ERA5_DATA\\GB_ERA5_DATA\\era5_pressure_level_1984_regrid_850.nc\n"
     ]
    },
    {
     "name": "stderr",
     "output_type": "stream",
     "text": [
      "7it [00:07,  1.01it/s]"
     ]
    },
    {
     "name": "stdout",
     "output_type": "stream",
     "text": [
      "Regridded data for 1985 saved as F:\\JuPyterNotebook\\data\\processed_data\\ERA5_DATA\\GB_ERA5_DATA\\era5_pressure_level_1985_regrid_850.nc\n"
     ]
    },
    {
     "name": "stderr",
     "output_type": "stream",
     "text": [
      "8it [00:08,  1.00s/it]"
     ]
    },
    {
     "name": "stdout",
     "output_type": "stream",
     "text": [
      "Regridded data for 1986 saved as F:\\JuPyterNotebook\\data\\processed_data\\ERA5_DATA\\GB_ERA5_DATA\\era5_pressure_level_1986_regrid_850.nc\n"
     ]
    },
    {
     "name": "stderr",
     "output_type": "stream",
     "text": [
      "9it [00:09,  1.03s/it]"
     ]
    },
    {
     "name": "stdout",
     "output_type": "stream",
     "text": [
      "Regridded data for 1987 saved as F:\\JuPyterNotebook\\data\\processed_data\\ERA5_DATA\\GB_ERA5_DATA\\era5_pressure_level_1987_regrid_850.nc\n"
     ]
    },
    {
     "name": "stderr",
     "output_type": "stream",
     "text": [
      "10it [00:10,  1.04s/it]"
     ]
    },
    {
     "name": "stdout",
     "output_type": "stream",
     "text": [
      "Regridded data for 1988 saved as F:\\JuPyterNotebook\\data\\processed_data\\ERA5_DATA\\GB_ERA5_DATA\\era5_pressure_level_1988_regrid_850.nc\n"
     ]
    },
    {
     "name": "stderr",
     "output_type": "stream",
     "text": [
      "11it [00:12,  1.06s/it]"
     ]
    },
    {
     "name": "stdout",
     "output_type": "stream",
     "text": [
      "Regridded data for 1989 saved as F:\\JuPyterNotebook\\data\\processed_data\\ERA5_DATA\\GB_ERA5_DATA\\era5_pressure_level_1989_regrid_850.nc\n"
     ]
    },
    {
     "name": "stderr",
     "output_type": "stream",
     "text": [
      "12it [00:12,  1.01s/it]"
     ]
    },
    {
     "name": "stdout",
     "output_type": "stream",
     "text": [
      "Regridded data for 1990 saved as F:\\JuPyterNotebook\\data\\processed_data\\ERA5_DATA\\GB_ERA5_DATA\\era5_pressure_level_1990_regrid_850.nc\n"
     ]
    },
    {
     "name": "stderr",
     "output_type": "stream",
     "text": [
      "13it [00:13,  1.03it/s]"
     ]
    },
    {
     "name": "stdout",
     "output_type": "stream",
     "text": [
      "Regridded data for 1991 saved as F:\\JuPyterNotebook\\data\\processed_data\\ERA5_DATA\\GB_ERA5_DATA\\era5_pressure_level_1991_regrid_850.nc\n"
     ]
    },
    {
     "name": "stderr",
     "output_type": "stream",
     "text": [
      "14it [00:14,  1.02it/s]"
     ]
    },
    {
     "name": "stdout",
     "output_type": "stream",
     "text": [
      "Regridded data for 1992 saved as F:\\JuPyterNotebook\\data\\processed_data\\ERA5_DATA\\GB_ERA5_DATA\\era5_pressure_level_1992_regrid_850.nc\n"
     ]
    },
    {
     "name": "stderr",
     "output_type": "stream",
     "text": [
      "15it [00:15,  1.01it/s]"
     ]
    },
    {
     "name": "stdout",
     "output_type": "stream",
     "text": [
      "Regridded data for 1993 saved as F:\\JuPyterNotebook\\data\\processed_data\\ERA5_DATA\\GB_ERA5_DATA\\era5_pressure_level_1993_regrid_850.nc\n"
     ]
    },
    {
     "name": "stderr",
     "output_type": "stream",
     "text": [
      "16it [00:16,  1.01it/s]"
     ]
    },
    {
     "name": "stdout",
     "output_type": "stream",
     "text": [
      "Regridded data for 1994 saved as F:\\JuPyterNotebook\\data\\processed_data\\ERA5_DATA\\GB_ERA5_DATA\\era5_pressure_level_1994_regrid_850.nc\n"
     ]
    },
    {
     "name": "stderr",
     "output_type": "stream",
     "text": [
      "17it [00:17,  1.01it/s]"
     ]
    },
    {
     "name": "stdout",
     "output_type": "stream",
     "text": [
      "Regridded data for 1995 saved as F:\\JuPyterNotebook\\data\\processed_data\\ERA5_DATA\\GB_ERA5_DATA\\era5_pressure_level_1995_regrid_850.nc\n"
     ]
    },
    {
     "name": "stderr",
     "output_type": "stream",
     "text": [
      "18it [00:18,  1.05it/s]"
     ]
    },
    {
     "name": "stdout",
     "output_type": "stream",
     "text": [
      "Regridded data for 1996 saved as F:\\JuPyterNotebook\\data\\processed_data\\ERA5_DATA\\GB_ERA5_DATA\\era5_pressure_level_1996_regrid_850.nc\n"
     ]
    },
    {
     "name": "stderr",
     "output_type": "stream",
     "text": [
      "19it [00:19,  1.03it/s]"
     ]
    },
    {
     "name": "stdout",
     "output_type": "stream",
     "text": [
      "Regridded data for 1997 saved as F:\\JuPyterNotebook\\data\\processed_data\\ERA5_DATA\\GB_ERA5_DATA\\era5_pressure_level_1997_regrid_850.nc\n"
     ]
    },
    {
     "name": "stderr",
     "output_type": "stream",
     "text": [
      "20it [00:20,  1.03it/s]"
     ]
    },
    {
     "name": "stdout",
     "output_type": "stream",
     "text": [
      "Regridded data for 1998 saved as F:\\JuPyterNotebook\\data\\processed_data\\ERA5_DATA\\GB_ERA5_DATA\\era5_pressure_level_1998_regrid_850.nc\n"
     ]
    },
    {
     "name": "stderr",
     "output_type": "stream",
     "text": [
      "21it [00:21,  1.06it/s]"
     ]
    },
    {
     "name": "stdout",
     "output_type": "stream",
     "text": [
      "Regridded data for 1999 saved as F:\\JuPyterNotebook\\data\\processed_data\\ERA5_DATA\\GB_ERA5_DATA\\era5_pressure_level_1999_regrid_850.nc\n"
     ]
    },
    {
     "name": "stderr",
     "output_type": "stream",
     "text": [
      "22it [00:22,  1.05it/s]"
     ]
    },
    {
     "name": "stdout",
     "output_type": "stream",
     "text": [
      "Regridded data for 2000 saved as F:\\JuPyterNotebook\\data\\processed_data\\ERA5_DATA\\GB_ERA5_DATA\\era5_pressure_level_2000_regrid_850.nc\n"
     ]
    },
    {
     "name": "stderr",
     "output_type": "stream",
     "text": [
      "23it [00:23,  1.06it/s]"
     ]
    },
    {
     "name": "stdout",
     "output_type": "stream",
     "text": [
      "Regridded data for 2001 saved as F:\\JuPyterNotebook\\data\\processed_data\\ERA5_DATA\\GB_ERA5_DATA\\era5_pressure_level_2001_regrid_850.nc\n"
     ]
    },
    {
     "name": "stderr",
     "output_type": "stream",
     "text": [
      "24it [00:24,  1.06it/s]"
     ]
    },
    {
     "name": "stdout",
     "output_type": "stream",
     "text": [
      "Regridded data for 2002 saved as F:\\JuPyterNotebook\\data\\processed_data\\ERA5_DATA\\GB_ERA5_DATA\\era5_pressure_level_2002_regrid_850.nc\n"
     ]
    },
    {
     "name": "stderr",
     "output_type": "stream",
     "text": [
      "25it [00:25,  1.01s/it]"
     ]
    },
    {
     "name": "stdout",
     "output_type": "stream",
     "text": [
      "Regridded data for 2003 saved as F:\\JuPyterNotebook\\data\\processed_data\\ERA5_DATA\\GB_ERA5_DATA\\era5_pressure_level_2003_regrid_850.nc\n"
     ]
    },
    {
     "name": "stderr",
     "output_type": "stream",
     "text": [
      "26it [00:26,  1.00it/s]"
     ]
    },
    {
     "name": "stdout",
     "output_type": "stream",
     "text": [
      "Regridded data for 2004 saved as F:\\JuPyterNotebook\\data\\processed_data\\ERA5_DATA\\GB_ERA5_DATA\\era5_pressure_level_2004_regrid_850.nc\n"
     ]
    },
    {
     "name": "stderr",
     "output_type": "stream",
     "text": [
      "27it [00:27,  1.02it/s]"
     ]
    },
    {
     "name": "stdout",
     "output_type": "stream",
     "text": [
      "Regridded data for 2005 saved as F:\\JuPyterNotebook\\data\\processed_data\\ERA5_DATA\\GB_ERA5_DATA\\era5_pressure_level_2005_regrid_850.nc\n"
     ]
    },
    {
     "name": "stderr",
     "output_type": "stream",
     "text": [
      "28it [00:28,  1.04it/s]"
     ]
    },
    {
     "name": "stdout",
     "output_type": "stream",
     "text": [
      "Regridded data for 2006 saved as F:\\JuPyterNotebook\\data\\processed_data\\ERA5_DATA\\GB_ERA5_DATA\\era5_pressure_level_2006_regrid_850.nc\n"
     ]
    },
    {
     "name": "stderr",
     "output_type": "stream",
     "text": [
      "29it [00:29,  1.04it/s]"
     ]
    },
    {
     "name": "stdout",
     "output_type": "stream",
     "text": [
      "Regridded data for 2007 saved as F:\\JuPyterNotebook\\data\\processed_data\\ERA5_DATA\\GB_ERA5_DATA\\era5_pressure_level_2007_regrid_850.nc\n"
     ]
    },
    {
     "name": "stderr",
     "output_type": "stream",
     "text": [
      "30it [00:30,  1.04it/s]"
     ]
    },
    {
     "name": "stdout",
     "output_type": "stream",
     "text": [
      "Regridded data for 2008 saved as F:\\JuPyterNotebook\\data\\processed_data\\ERA5_DATA\\GB_ERA5_DATA\\era5_pressure_level_2008_regrid_850.nc\n"
     ]
    },
    {
     "name": "stderr",
     "output_type": "stream",
     "text": [
      "31it [00:31,  1.08it/s]"
     ]
    },
    {
     "name": "stdout",
     "output_type": "stream",
     "text": [
      "Regridded data for 2009 saved as F:\\JuPyterNotebook\\data\\processed_data\\ERA5_DATA\\GB_ERA5_DATA\\era5_pressure_level_2009_regrid_850.nc\n"
     ]
    },
    {
     "name": "stderr",
     "output_type": "stream",
     "text": [
      "32it [00:32,  1.00it/s]"
     ]
    },
    {
     "name": "stdout",
     "output_type": "stream",
     "text": [
      "Regridded data for 2010 saved as F:\\JuPyterNotebook\\data\\processed_data\\ERA5_DATA\\GB_ERA5_DATA\\era5_pressure_level_2010_regrid_850.nc\n"
     ]
    },
    {
     "name": "stderr",
     "output_type": "stream",
     "text": [
      "33it [00:33,  1.01it/s]"
     ]
    },
    {
     "name": "stdout",
     "output_type": "stream",
     "text": [
      "Regridded data for 2011 saved as F:\\JuPyterNotebook\\data\\processed_data\\ERA5_DATA\\GB_ERA5_DATA\\era5_pressure_level_2011_regrid_850.nc\n"
     ]
    },
    {
     "name": "stderr",
     "output_type": "stream",
     "text": [
      "34it [00:34,  1.05it/s]"
     ]
    },
    {
     "name": "stdout",
     "output_type": "stream",
     "text": [
      "Regridded data for 2012 saved as F:\\JuPyterNotebook\\data\\processed_data\\ERA5_DATA\\GB_ERA5_DATA\\era5_pressure_level_2012_regrid_850.nc\n"
     ]
    },
    {
     "name": "stderr",
     "output_type": "stream",
     "text": [
      "35it [00:35,  1.04it/s]"
     ]
    },
    {
     "name": "stdout",
     "output_type": "stream",
     "text": [
      "Regridded data for 2013 saved as F:\\JuPyterNotebook\\data\\processed_data\\ERA5_DATA\\GB_ERA5_DATA\\era5_pressure_level_2013_regrid_850.nc\n"
     ]
    },
    {
     "name": "stderr",
     "output_type": "stream",
     "text": [
      "36it [00:36,  1.02it/s]"
     ]
    },
    {
     "name": "stdout",
     "output_type": "stream",
     "text": [
      "Regridded data for 2014 saved as F:\\JuPyterNotebook\\data\\processed_data\\ERA5_DATA\\GB_ERA5_DATA\\era5_pressure_level_2014_regrid_850.nc\n"
     ]
    },
    {
     "name": "stderr",
     "output_type": "stream",
     "text": [
      "37it [00:37,  1.03it/s]"
     ]
    },
    {
     "name": "stdout",
     "output_type": "stream",
     "text": [
      "Regridded data for 2015 saved as F:\\JuPyterNotebook\\data\\processed_data\\ERA5_DATA\\GB_ERA5_DATA\\era5_pressure_level_2015_regrid_850.nc\n"
     ]
    },
    {
     "name": "stderr",
     "output_type": "stream",
     "text": [
      "38it [00:38,  1.03s/it]"
     ]
    },
    {
     "name": "stdout",
     "output_type": "stream",
     "text": [
      "Regridded data for 2016 saved as F:\\JuPyterNotebook\\data\\processed_data\\ERA5_DATA\\GB_ERA5_DATA\\era5_pressure_level_2016_regrid_850.nc\n"
     ]
    },
    {
     "name": "stderr",
     "output_type": "stream",
     "text": [
      "39it [00:39,  1.02s/it]"
     ]
    },
    {
     "name": "stdout",
     "output_type": "stream",
     "text": [
      "Regridded data for 2017 saved as F:\\JuPyterNotebook\\data\\processed_data\\ERA5_DATA\\GB_ERA5_DATA\\era5_pressure_level_2017_regrid_850.nc\n"
     ]
    },
    {
     "name": "stderr",
     "output_type": "stream",
     "text": [
      "40it [00:40,  1.01s/it]"
     ]
    },
    {
     "name": "stdout",
     "output_type": "stream",
     "text": [
      "Regridded data for 2018 saved as F:\\JuPyterNotebook\\data\\processed_data\\ERA5_DATA\\GB_ERA5_DATA\\era5_pressure_level_2018_regrid_850.nc\n"
     ]
    },
    {
     "name": "stderr",
     "output_type": "stream",
     "text": [
      "41it [00:41,  1.01it/s]"
     ]
    },
    {
     "name": "stdout",
     "output_type": "stream",
     "text": [
      "Regridded data for 2019 saved as F:\\JuPyterNotebook\\data\\processed_data\\ERA5_DATA\\GB_ERA5_DATA\\era5_pressure_level_2019_regrid_850.nc\n"
     ]
    },
    {
     "name": "stderr",
     "output_type": "stream",
     "text": [
      "42it [00:42,  1.01it/s]"
     ]
    },
    {
     "name": "stdout",
     "output_type": "stream",
     "text": [
      "Regridded data for 2020 saved as F:\\JuPyterNotebook\\data\\processed_data\\ERA5_DATA\\GB_ERA5_DATA\\era5_pressure_level_2020_regrid_850.nc\n"
     ]
    },
    {
     "name": "stderr",
     "output_type": "stream",
     "text": [
      "43it [00:43,  1.03it/s]"
     ]
    },
    {
     "name": "stdout",
     "output_type": "stream",
     "text": [
      "Regridded data for 2021 saved as F:\\JuPyterNotebook\\data\\processed_data\\ERA5_DATA\\GB_ERA5_DATA\\era5_pressure_level_2021_regrid_850.nc\n"
     ]
    },
    {
     "name": "stderr",
     "output_type": "stream",
     "text": [
      "44it [00:44,  1.00s/it]"
     ]
    },
    {
     "name": "stdout",
     "output_type": "stream",
     "text": [
      "Regridded data for 2022 saved as F:\\JuPyterNotebook\\data\\processed_data\\ERA5_DATA\\GB_ERA5_DATA\\era5_pressure_level_2022_regrid_850.nc\n"
     ]
    },
    {
     "name": "stderr",
     "output_type": "stream",
     "text": [
      "\n"
     ]
    }
   ],
   "source": [
    "for merged_ds_path, year in tqdm(zip(merge_era5_list, year_list)):\n",
    "    ds = xr.open_dataset(merged_ds_path)\n",
    "    ds = cutoff_ds(merged_ds_path, 50, 58, -6, 2)\n",
    "    ds_out = regrid(ds, ddeg_out_lat, ddeg_out_lon)\n",
    "    save_regridded_era5(\n",
    "        ds_out, year, country, data_folder, data_save_category, output_folder\n",
    "    )"
   ]
  },
  {
   "cell_type": "code",
   "execution_count": null,
   "id": "cf6b401d-7d33-4ce8-9f13-c961ae5b9eb3",
   "metadata": {},
   "outputs": [],
   "source": []
  }
 ],
 "metadata": {
  "kernelspec": {
   "display_name": "Python 3 (ipykernel)",
   "language": "python",
   "name": "python3"
  },
  "language_info": {
   "codemirror_mode": {
    "name": "ipython",
    "version": 3
   },
   "file_extension": ".py",
   "mimetype": "text/x-python",
   "name": "python",
   "nbconvert_exporter": "python",
   "pygments_lexer": "ipython3",
   "version": "3.9.17"
  }
 },
 "nbformat": 4,
 "nbformat_minor": 5
}
