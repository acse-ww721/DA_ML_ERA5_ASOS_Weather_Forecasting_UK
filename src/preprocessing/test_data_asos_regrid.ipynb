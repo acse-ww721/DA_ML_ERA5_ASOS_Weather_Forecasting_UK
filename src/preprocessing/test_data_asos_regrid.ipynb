{
 "cells": [
  {
   "cell_type": "markdown",
   "id": "6aabab9f-2abd-4a50-8b47-ec29db1ca02e",
   "metadata": {
    "jp-MarkdownHeadingCollapsed": true
   },
   "source": [
    "## Basic import"
   ]
  },
  {
   "cell_type": "code",
   "execution_count": 1,
   "id": "036b6f04-a293-4039-9adc-8dde5582a7dc",
   "metadata": {},
   "outputs": [],
   "source": [
    "# Basic setting for Jupyter_notebook to import utils\n",
    "import os\n",
    "import sys\n",
    "\n",
    "notebook_path = os.path.abspath(\"\")\n",
    "project_root = os.path.abspath(os.path.join(notebook_path, \"../../\"))\n",
    "\n",
    "sys.path.append(project_root)"
   ]
  },
  {
   "cell_type": "code",
   "execution_count": 66,
   "id": "40e801c7-2a46-4d6a-9989-24280f09a566",
   "metadata": {},
   "outputs": [],
   "source": [
    "import os\n",
    "import xarray as xr\n",
    "import numpy as np\n",
    "import pandas as pd\n",
    "from tqdm import tqdm\n",
    "from datetime import datetime, timedelta\n",
    "from utils import folder_utils"
   ]
  },
  {
   "cell_type": "markdown",
   "id": "203299c0-9cb2-4e02-a9d8-ef0a271e26c6",
   "metadata": {
    "jp-MarkdownHeadingCollapsed": true
   },
   "source": [
    "## Basic function"
   ]
  },
  {
   "cell_type": "code",
   "execution_count": 3,
   "id": "09e441ac-dc53-4a33-a957-3af0e47aa4c4",
   "metadata": {},
   "outputs": [],
   "source": [
    "\n",
    "# Example usage\n",
    "country = \"GB\"\n",
    "data_folder = \"data\"\n",
    "data_read_category = \"raw_data\"\n",
    "data_test_category = \"test_data\"\n",
    "data_save_category = \"processed_data\"\n",
    "output_folder = \"ASOS_DATA\""
   ]
  },
  {
   "cell_type": "code",
   "execution_count": 34,
   "id": "ddb02f73-543c-4c50-9c7a-d8b68adf563c",
   "metadata": {},
   "outputs": [],
   "source": [
    "def get_year_from_filename(filename):\n",
    "    # extract year from filename\n",
    "    # filename = \"GB_merged_ASOS_1979.csv\"\n",
    "    parts = filename.split(\"_\")\n",
    "    return parts[3]"
   ]
  },
  {
   "cell_type": "code",
   "execution_count": 35,
   "id": "e8e4103f-1d78-4f71-8e0b-bab29073ab84",
   "metadata": {},
   "outputs": [],
   "source": [
    "def get_asos_year_file_list(country, data_folder, data_category, output_folder):\n",
    "    input_folder_path = folder_utils.find_folder(\n",
    "        country, data_folder, data_category, output_folder\n",
    "    )\n",
    "    csv_files = [\n",
    "        f\n",
    "        for f in os.listdir(input_folder_path)\n",
    "        if f.endswith(\".csv\") and \"_merged_ASOS_\" in f\n",
    "    ]\n",
    "\n",
    "    # sort by year\n",
    "    csv_files.sort(key=lambda x: get_year_from_filename(x))\n",
    "\n",
    "    return [\n",
    "        os.path.join(input_folder_path, csv_file) for csv_file in csv_files\n",
    "    ]  # return the full path"
   ]
  },
  {
   "cell_type": "code",
   "execution_count": 5,
   "id": "61d5d139-ea98-44a1-ab38-482f625de3f2",
   "metadata": {},
   "outputs": [],
   "source": [
    "def csv_to_nc4(merged_csv_path,year, country, data_folder, data_category, output_folder):\n",
    "    \"\"\"Convert the merged CSV file to netCDF4 format by year.\"\"\"\n",
    "    df = pd.read_csv(merged_csv_path)\n",
    "    ds_in = xr.Dataset.from_dataframe(df.set_index(['latitude', 'longitude', 'time']))\n",
    "    ds_in = ds_in.sel(latitude=slice(50, 58), longitude=slice(-6, 2))\n",
    "    ddeg_out_lat = 0.25\n",
    "    ddeg_out_lon = 0.125\n",
    "    regridded_ds = regrid(ds_in, ddeg_out_lat, ddeg_out_lon, method=\"bilinear\", reuse_weights=False)\n",
    "\n",
    "    output_directory = folder_utils.find_folder(country,data_folder,data_category,output_folder)\n",
    "    output_filename = f\"{country}_ASOS_regird_{year}.nc\"\n",
    "    output_path = os.path.join(output_directory, output_filename)\n",
    "    regridded_ds.to_netcdf(output_path)\n",
    "    print(f\"{output_filename} done!\")"
   ]
  },
  {
   "cell_type": "code",
   "execution_count": 6,
   "id": "cff43d69-2ca4-4c03-a582-35f44443d500",
   "metadata": {},
   "outputs": [],
   "source": [
    "def get_year(start_year, end_year):\n",
    "    # start_year = 1979\n",
    "    # end_year = 2023\n",
    "    year_list = list(range(start_year, end_year + 1))\n",
    "\n",
    "    # Convert the integer list to a string list\n",
    "    year_str_list = [str(year) for year in year_list]\n",
    "\n",
    "    return year_str_list"
   ]
  },
  {
   "cell_type": "markdown",
   "id": "ac266bc2-d55e-4122-b0f9-0941a70038b0",
   "metadata": {
    "jp-MarkdownHeadingCollapsed": true
   },
   "source": [
    "## Test example"
   ]
  },
  {
   "cell_type": "code",
   "execution_count": 7,
   "id": "77ec24c6-7282-44e6-b6fb-e1a4f5737b87",
   "metadata": {},
   "outputs": [],
   "source": [
    "year_list = get_year(start_year=1979, end_year=2023)"
   ]
  },
  {
   "cell_type": "code",
   "execution_count": 36,
   "id": "8da9ed5f-926d-4071-b345-7feb74986c2a",
   "metadata": {},
   "outputs": [],
   "source": [
    "csv_paths = get_asos_year_file_list(\n",
    "    country, data_folder, data_save_category, output_folder\n",
    ")"
   ]
  },
  {
   "cell_type": "code",
   "execution_count": 37,
   "id": "04c46130-defc-4cdc-9e17-1fd39a7d7546",
   "metadata": {},
   "outputs": [
    {
     "data": {
      "text/plain": [
       "['/Users/ww721/JupyterNotebookPath/IRP_20220602/irp_ww721_bakcup/data/processed_data/ASOS_DATA/GB_ASOS_DATA/GB_merged_ASOS_1979.csv',\n",
       " '/Users/ww721/JupyterNotebookPath/IRP_20220602/irp_ww721_bakcup/data/processed_data/ASOS_DATA/GB_ASOS_DATA/GB_merged_ASOS_1980.csv',\n",
       " '/Users/ww721/JupyterNotebookPath/IRP_20220602/irp_ww721_bakcup/data/processed_data/ASOS_DATA/GB_ASOS_DATA/GB_merged_ASOS_1981.csv',\n",
       " '/Users/ww721/JupyterNotebookPath/IRP_20220602/irp_ww721_bakcup/data/processed_data/ASOS_DATA/GB_ASOS_DATA/GB_merged_ASOS_1982.csv',\n",
       " '/Users/ww721/JupyterNotebookPath/IRP_20220602/irp_ww721_bakcup/data/processed_data/ASOS_DATA/GB_ASOS_DATA/GB_merged_ASOS_1983.csv',\n",
       " '/Users/ww721/JupyterNotebookPath/IRP_20220602/irp_ww721_bakcup/data/processed_data/ASOS_DATA/GB_ASOS_DATA/GB_merged_ASOS_1984.csv',\n",
       " '/Users/ww721/JupyterNotebookPath/IRP_20220602/irp_ww721_bakcup/data/processed_data/ASOS_DATA/GB_ASOS_DATA/GB_merged_ASOS_1985.csv',\n",
       " '/Users/ww721/JupyterNotebookPath/IRP_20220602/irp_ww721_bakcup/data/processed_data/ASOS_DATA/GB_ASOS_DATA/GB_merged_ASOS_1986.csv',\n",
       " '/Users/ww721/JupyterNotebookPath/IRP_20220602/irp_ww721_bakcup/data/processed_data/ASOS_DATA/GB_ASOS_DATA/GB_merged_ASOS_1987.csv',\n",
       " '/Users/ww721/JupyterNotebookPath/IRP_20220602/irp_ww721_bakcup/data/processed_data/ASOS_DATA/GB_ASOS_DATA/GB_merged_ASOS_1988.csv',\n",
       " '/Users/ww721/JupyterNotebookPath/IRP_20220602/irp_ww721_bakcup/data/processed_data/ASOS_DATA/GB_ASOS_DATA/GB_merged_ASOS_1989.csv',\n",
       " '/Users/ww721/JupyterNotebookPath/IRP_20220602/irp_ww721_bakcup/data/processed_data/ASOS_DATA/GB_ASOS_DATA/GB_merged_ASOS_1990.csv',\n",
       " '/Users/ww721/JupyterNotebookPath/IRP_20220602/irp_ww721_bakcup/data/processed_data/ASOS_DATA/GB_ASOS_DATA/GB_merged_ASOS_1991.csv',\n",
       " '/Users/ww721/JupyterNotebookPath/IRP_20220602/irp_ww721_bakcup/data/processed_data/ASOS_DATA/GB_ASOS_DATA/GB_merged_ASOS_1992.csv',\n",
       " '/Users/ww721/JupyterNotebookPath/IRP_20220602/irp_ww721_bakcup/data/processed_data/ASOS_DATA/GB_ASOS_DATA/GB_merged_ASOS_1993.csv',\n",
       " '/Users/ww721/JupyterNotebookPath/IRP_20220602/irp_ww721_bakcup/data/processed_data/ASOS_DATA/GB_ASOS_DATA/GB_merged_ASOS_1994.csv',\n",
       " '/Users/ww721/JupyterNotebookPath/IRP_20220602/irp_ww721_bakcup/data/processed_data/ASOS_DATA/GB_ASOS_DATA/GB_merged_ASOS_1995.csv',\n",
       " '/Users/ww721/JupyterNotebookPath/IRP_20220602/irp_ww721_bakcup/data/processed_data/ASOS_DATA/GB_ASOS_DATA/GB_merged_ASOS_1996.csv',\n",
       " '/Users/ww721/JupyterNotebookPath/IRP_20220602/irp_ww721_bakcup/data/processed_data/ASOS_DATA/GB_ASOS_DATA/GB_merged_ASOS_1997.csv',\n",
       " '/Users/ww721/JupyterNotebookPath/IRP_20220602/irp_ww721_bakcup/data/processed_data/ASOS_DATA/GB_ASOS_DATA/GB_merged_ASOS_1998.csv',\n",
       " '/Users/ww721/JupyterNotebookPath/IRP_20220602/irp_ww721_bakcup/data/processed_data/ASOS_DATA/GB_ASOS_DATA/GB_merged_ASOS_1999.csv',\n",
       " '/Users/ww721/JupyterNotebookPath/IRP_20220602/irp_ww721_bakcup/data/processed_data/ASOS_DATA/GB_ASOS_DATA/GB_merged_ASOS_2000.csv',\n",
       " '/Users/ww721/JupyterNotebookPath/IRP_20220602/irp_ww721_bakcup/data/processed_data/ASOS_DATA/GB_ASOS_DATA/GB_merged_ASOS_2001.csv',\n",
       " '/Users/ww721/JupyterNotebookPath/IRP_20220602/irp_ww721_bakcup/data/processed_data/ASOS_DATA/GB_ASOS_DATA/GB_merged_ASOS_2002.csv',\n",
       " '/Users/ww721/JupyterNotebookPath/IRP_20220602/irp_ww721_bakcup/data/processed_data/ASOS_DATA/GB_ASOS_DATA/GB_merged_ASOS_2003.csv',\n",
       " '/Users/ww721/JupyterNotebookPath/IRP_20220602/irp_ww721_bakcup/data/processed_data/ASOS_DATA/GB_ASOS_DATA/GB_merged_ASOS_2004.csv',\n",
       " '/Users/ww721/JupyterNotebookPath/IRP_20220602/irp_ww721_bakcup/data/processed_data/ASOS_DATA/GB_ASOS_DATA/GB_merged_ASOS_2005.csv',\n",
       " '/Users/ww721/JupyterNotebookPath/IRP_20220602/irp_ww721_bakcup/data/processed_data/ASOS_DATA/GB_ASOS_DATA/GB_merged_ASOS_2006.csv',\n",
       " '/Users/ww721/JupyterNotebookPath/IRP_20220602/irp_ww721_bakcup/data/processed_data/ASOS_DATA/GB_ASOS_DATA/GB_merged_ASOS_2007.csv',\n",
       " '/Users/ww721/JupyterNotebookPath/IRP_20220602/irp_ww721_bakcup/data/processed_data/ASOS_DATA/GB_ASOS_DATA/GB_merged_ASOS_2008.csv',\n",
       " '/Users/ww721/JupyterNotebookPath/IRP_20220602/irp_ww721_bakcup/data/processed_data/ASOS_DATA/GB_ASOS_DATA/GB_merged_ASOS_2009.csv',\n",
       " '/Users/ww721/JupyterNotebookPath/IRP_20220602/irp_ww721_bakcup/data/processed_data/ASOS_DATA/GB_ASOS_DATA/GB_merged_ASOS_2010.csv',\n",
       " '/Users/ww721/JupyterNotebookPath/IRP_20220602/irp_ww721_bakcup/data/processed_data/ASOS_DATA/GB_ASOS_DATA/GB_merged_ASOS_2011.csv',\n",
       " '/Users/ww721/JupyterNotebookPath/IRP_20220602/irp_ww721_bakcup/data/processed_data/ASOS_DATA/GB_ASOS_DATA/GB_merged_ASOS_2012.csv',\n",
       " '/Users/ww721/JupyterNotebookPath/IRP_20220602/irp_ww721_bakcup/data/processed_data/ASOS_DATA/GB_ASOS_DATA/GB_merged_ASOS_2013.csv',\n",
       " '/Users/ww721/JupyterNotebookPath/IRP_20220602/irp_ww721_bakcup/data/processed_data/ASOS_DATA/GB_ASOS_DATA/GB_merged_ASOS_2014.csv',\n",
       " '/Users/ww721/JupyterNotebookPath/IRP_20220602/irp_ww721_bakcup/data/processed_data/ASOS_DATA/GB_ASOS_DATA/GB_merged_ASOS_2015.csv',\n",
       " '/Users/ww721/JupyterNotebookPath/IRP_20220602/irp_ww721_bakcup/data/processed_data/ASOS_DATA/GB_ASOS_DATA/GB_merged_ASOS_2016.csv',\n",
       " '/Users/ww721/JupyterNotebookPath/IRP_20220602/irp_ww721_bakcup/data/processed_data/ASOS_DATA/GB_ASOS_DATA/GB_merged_ASOS_2017.csv',\n",
       " '/Users/ww721/JupyterNotebookPath/IRP_20220602/irp_ww721_bakcup/data/processed_data/ASOS_DATA/GB_ASOS_DATA/GB_merged_ASOS_2018.csv',\n",
       " '/Users/ww721/JupyterNotebookPath/IRP_20220602/irp_ww721_bakcup/data/processed_data/ASOS_DATA/GB_ASOS_DATA/GB_merged_ASOS_2019.csv',\n",
       " '/Users/ww721/JupyterNotebookPath/IRP_20220602/irp_ww721_bakcup/data/processed_data/ASOS_DATA/GB_ASOS_DATA/GB_merged_ASOS_2020.csv',\n",
       " '/Users/ww721/JupyterNotebookPath/IRP_20220602/irp_ww721_bakcup/data/processed_data/ASOS_DATA/GB_ASOS_DATA/GB_merged_ASOS_2021.csv',\n",
       " '/Users/ww721/JupyterNotebookPath/IRP_20220602/irp_ww721_bakcup/data/processed_data/ASOS_DATA/GB_ASOS_DATA/GB_merged_ASOS_2022.csv',\n",
       " '/Users/ww721/JupyterNotebookPath/IRP_20220602/irp_ww721_bakcup/data/processed_data/ASOS_DATA/GB_ASOS_DATA/GB_merged_ASOS_2023.csv']"
      ]
     },
     "execution_count": 37,
     "metadata": {},
     "output_type": "execute_result"
    }
   ],
   "source": [
    "csv_paths"
   ]
  },
  {
   "cell_type": "code",
   "execution_count": null,
   "id": "3f56369f-e596-4565-89c6-c4bf62d041fc",
   "metadata": {},
   "outputs": [],
   "source": [
    "# csv_to_nc4(csv_path, year, country, data_folder, data_save_category, output_folder)"
   ]
  },
  {
   "cell_type": "code",
   "execution_count": 43,
   "id": "78a0c569-31bb-4912-942e-90d6c0ab50aa",
   "metadata": {},
   "outputs": [],
   "source": [
    "\"\"\"Convert the merged CSV file to netCDF4 format by year.\"\"\"\n",
    "df = pd.read_csv(csv_paths[25])\n"
   ]
  },
  {
   "cell_type": "code",
   "execution_count": 44,
   "id": "e8c0f9ff-e607-49f5-a856-06cba9811141",
   "metadata": {},
   "outputs": [
    {
     "data": {
      "text/html": [
       "<div>\n",
       "<style scoped>\n",
       "    .dataframe tbody tr th:only-of-type {\n",
       "        vertical-align: middle;\n",
       "    }\n",
       "\n",
       "    .dataframe tbody tr th {\n",
       "        vertical-align: top;\n",
       "    }\n",
       "\n",
       "    .dataframe thead th {\n",
       "        text-align: right;\n",
       "    }\n",
       "</style>\n",
       "<table border=\"1\" class=\"dataframe\">\n",
       "  <thead>\n",
       "    <tr style=\"text-align: right;\">\n",
       "      <th></th>\n",
       "      <th>latitude</th>\n",
       "      <th>longitude</th>\n",
       "      <th>time</th>\n",
       "      <th>t2m</th>\n",
       "    </tr>\n",
       "  </thead>\n",
       "  <tbody>\n",
       "    <tr>\n",
       "      <th>0</th>\n",
       "      <td>57.2049</td>\n",
       "      <td>-2.2053</td>\n",
       "      <td>2004-01-01 00:00:00</td>\n",
       "      <td>276.0</td>\n",
       "    </tr>\n",
       "    <tr>\n",
       "      <th>1</th>\n",
       "      <td>57.2049</td>\n",
       "      <td>-2.2053</td>\n",
       "      <td>2004-01-01 01:00:00</td>\n",
       "      <td>276.0</td>\n",
       "    </tr>\n",
       "    <tr>\n",
       "      <th>2</th>\n",
       "      <td>57.2049</td>\n",
       "      <td>-2.2053</td>\n",
       "      <td>2004-01-01 02:00:00</td>\n",
       "      <td>276.5</td>\n",
       "    </tr>\n",
       "    <tr>\n",
       "      <th>3</th>\n",
       "      <td>57.2049</td>\n",
       "      <td>-2.2053</td>\n",
       "      <td>2004-01-01 03:00:00</td>\n",
       "      <td>276.8</td>\n",
       "    </tr>\n",
       "    <tr>\n",
       "      <th>4</th>\n",
       "      <td>57.2049</td>\n",
       "      <td>-2.2053</td>\n",
       "      <td>2004-01-01 04:00:00</td>\n",
       "      <td>277.3</td>\n",
       "    </tr>\n",
       "    <tr>\n",
       "      <th>...</th>\n",
       "      <td>...</td>\n",
       "      <td>...</td>\n",
       "      <td>...</td>\n",
       "      <td>...</td>\n",
       "    </tr>\n",
       "    <tr>\n",
       "      <th>550074</th>\n",
       "      <td>51.0063</td>\n",
       "      <td>-2.6428</td>\n",
       "      <td>2004-12-31 19:00:00</td>\n",
       "      <td>281.5</td>\n",
       "    </tr>\n",
       "    <tr>\n",
       "      <th>550075</th>\n",
       "      <td>51.0063</td>\n",
       "      <td>-2.6428</td>\n",
       "      <td>2004-12-31 20:00:00</td>\n",
       "      <td>280.9</td>\n",
       "    </tr>\n",
       "    <tr>\n",
       "      <th>550076</th>\n",
       "      <td>51.0063</td>\n",
       "      <td>-2.6428</td>\n",
       "      <td>2004-12-31 21:00:00</td>\n",
       "      <td>281.5</td>\n",
       "    </tr>\n",
       "    <tr>\n",
       "      <th>550077</th>\n",
       "      <td>51.0063</td>\n",
       "      <td>-2.6428</td>\n",
       "      <td>2004-12-31 22:00:00</td>\n",
       "      <td>281.0</td>\n",
       "    </tr>\n",
       "    <tr>\n",
       "      <th>550078</th>\n",
       "      <td>51.0063</td>\n",
       "      <td>-2.6428</td>\n",
       "      <td>2004-12-31 23:00:00</td>\n",
       "      <td>281.5</td>\n",
       "    </tr>\n",
       "  </tbody>\n",
       "</table>\n",
       "<p>550079 rows × 4 columns</p>\n",
       "</div>"
      ],
      "text/plain": [
       "        latitude  longitude                 time    t2m\n",
       "0        57.2049    -2.2053  2004-01-01 00:00:00  276.0\n",
       "1        57.2049    -2.2053  2004-01-01 01:00:00  276.0\n",
       "2        57.2049    -2.2053  2004-01-01 02:00:00  276.5\n",
       "3        57.2049    -2.2053  2004-01-01 03:00:00  276.8\n",
       "4        57.2049    -2.2053  2004-01-01 04:00:00  277.3\n",
       "...          ...        ...                  ...    ...\n",
       "550074   51.0063    -2.6428  2004-12-31 19:00:00  281.5\n",
       "550075   51.0063    -2.6428  2004-12-31 20:00:00  280.9\n",
       "550076   51.0063    -2.6428  2004-12-31 21:00:00  281.5\n",
       "550077   51.0063    -2.6428  2004-12-31 22:00:00  281.0\n",
       "550078   51.0063    -2.6428  2004-12-31 23:00:00  281.5\n",
       "\n",
       "[550079 rows x 4 columns]"
      ]
     },
     "execution_count": 44,
     "metadata": {},
     "output_type": "execute_result"
    }
   ],
   "source": [
    "df"
   ]
  },
  {
   "cell_type": "code",
   "execution_count": 46,
   "id": "ea576c1c-9c77-4268-a089-836ad9b5b995",
   "metadata": {},
   "outputs": [],
   "source": [
    "def filter_data(df):\n",
    "    \"\"\"\n",
    "    Filter data by deleting rows with missing values and wrong values\n",
    "    \"\"\"\n",
    "    # Delete rows with missing values\n",
    "    df = df.dropna()\n",
    "   # Convert to datetime\n",
    "    df[\"time\"] = pd.to_datetime(df[\"time\"])  # Convert to datetime\n",
    "\n",
    "    # If the time is not a whole hour, delete the row\n",
    "    is_whole_hour = (df[\"time\"].dt.minute == 0) & (df[\"time\"].dt.second == 0)\n",
    "    not_null = df[\"time\"].notnull()\n",
    "    latitude_condition = (df[\"latitude\"] >= 50) & (df[\"latitude\"] <= 58)\n",
    "    longitude_condition = (df[\"longitude\"] >= -6) & (df[\"longitude\"] <= 2)\n",
    "    # Combine all conditions\n",
    "    combined_condition = (\n",
    "        is_whole_hour & not_null & latitude_condition & longitude_condition\n",
    "    )\n",
    "\n",
    "    filtered_df = df[combined_condition]\n",
    "\n",
    "    return filtered_df\n"
   ]
  },
  {
   "cell_type": "code",
   "execution_count": 47,
   "id": "7d54d4ee-b9b6-445d-93cd-96653a65272e",
   "metadata": {},
   "outputs": [
    {
     "name": "stderr",
     "output_type": "stream",
     "text": [
      "/var/folders/tt/fs_l1by51m30s907pzxq6gf40000gp/T/ipykernel_23224/2189851267.py:8: SettingWithCopyWarning: \n",
      "A value is trying to be set on a copy of a slice from a DataFrame.\n",
      "Try using .loc[row_indexer,col_indexer] = value instead\n",
      "\n",
      "See the caveats in the documentation: https://pandas.pydata.org/pandas-docs/stable/user_guide/indexing.html#returning-a-view-versus-a-copy\n",
      "  df[\"time\"] = pd.to_datetime(df[\"time\"])  # Convert to datetime\n"
     ]
    },
    {
     "data": {
      "text/html": [
       "<div>\n",
       "<style scoped>\n",
       "    .dataframe tbody tr th:only-of-type {\n",
       "        vertical-align: middle;\n",
       "    }\n",
       "\n",
       "    .dataframe tbody tr th {\n",
       "        vertical-align: top;\n",
       "    }\n",
       "\n",
       "    .dataframe thead th {\n",
       "        text-align: right;\n",
       "    }\n",
       "</style>\n",
       "<table border=\"1\" class=\"dataframe\">\n",
       "  <thead>\n",
       "    <tr style=\"text-align: right;\">\n",
       "      <th></th>\n",
       "      <th>latitude</th>\n",
       "      <th>longitude</th>\n",
       "      <th>time</th>\n",
       "      <th>t2m</th>\n",
       "    </tr>\n",
       "  </thead>\n",
       "  <tbody>\n",
       "    <tr>\n",
       "      <th>0</th>\n",
       "      <td>57.2049</td>\n",
       "      <td>-2.2053</td>\n",
       "      <td>2004-01-01 00:00:00</td>\n",
       "      <td>276.0</td>\n",
       "    </tr>\n",
       "    <tr>\n",
       "      <th>1</th>\n",
       "      <td>57.2049</td>\n",
       "      <td>-2.2053</td>\n",
       "      <td>2004-01-01 01:00:00</td>\n",
       "      <td>276.0</td>\n",
       "    </tr>\n",
       "    <tr>\n",
       "      <th>2</th>\n",
       "      <td>57.2049</td>\n",
       "      <td>-2.2053</td>\n",
       "      <td>2004-01-01 02:00:00</td>\n",
       "      <td>276.5</td>\n",
       "    </tr>\n",
       "    <tr>\n",
       "      <th>3</th>\n",
       "      <td>57.2049</td>\n",
       "      <td>-2.2053</td>\n",
       "      <td>2004-01-01 03:00:00</td>\n",
       "      <td>276.8</td>\n",
       "    </tr>\n",
       "    <tr>\n",
       "      <th>4</th>\n",
       "      <td>57.2049</td>\n",
       "      <td>-2.2053</td>\n",
       "      <td>2004-01-01 04:00:00</td>\n",
       "      <td>277.3</td>\n",
       "    </tr>\n",
       "    <tr>\n",
       "      <th>...</th>\n",
       "      <td>...</td>\n",
       "      <td>...</td>\n",
       "      <td>...</td>\n",
       "      <td>...</td>\n",
       "    </tr>\n",
       "    <tr>\n",
       "      <th>550074</th>\n",
       "      <td>51.0063</td>\n",
       "      <td>-2.6428</td>\n",
       "      <td>2004-12-31 19:00:00</td>\n",
       "      <td>281.5</td>\n",
       "    </tr>\n",
       "    <tr>\n",
       "      <th>550075</th>\n",
       "      <td>51.0063</td>\n",
       "      <td>-2.6428</td>\n",
       "      <td>2004-12-31 20:00:00</td>\n",
       "      <td>280.9</td>\n",
       "    </tr>\n",
       "    <tr>\n",
       "      <th>550076</th>\n",
       "      <td>51.0063</td>\n",
       "      <td>-2.6428</td>\n",
       "      <td>2004-12-31 21:00:00</td>\n",
       "      <td>281.5</td>\n",
       "    </tr>\n",
       "    <tr>\n",
       "      <th>550077</th>\n",
       "      <td>51.0063</td>\n",
       "      <td>-2.6428</td>\n",
       "      <td>2004-12-31 22:00:00</td>\n",
       "      <td>281.0</td>\n",
       "    </tr>\n",
       "    <tr>\n",
       "      <th>550078</th>\n",
       "      <td>51.0063</td>\n",
       "      <td>-2.6428</td>\n",
       "      <td>2004-12-31 23:00:00</td>\n",
       "      <td>281.5</td>\n",
       "    </tr>\n",
       "  </tbody>\n",
       "</table>\n",
       "<p>538051 rows × 4 columns</p>\n",
       "</div>"
      ],
      "text/plain": [
       "        latitude  longitude                time    t2m\n",
       "0        57.2049    -2.2053 2004-01-01 00:00:00  276.0\n",
       "1        57.2049    -2.2053 2004-01-01 01:00:00  276.0\n",
       "2        57.2049    -2.2053 2004-01-01 02:00:00  276.5\n",
       "3        57.2049    -2.2053 2004-01-01 03:00:00  276.8\n",
       "4        57.2049    -2.2053 2004-01-01 04:00:00  277.3\n",
       "...          ...        ...                 ...    ...\n",
       "550074   51.0063    -2.6428 2004-12-31 19:00:00  281.5\n",
       "550075   51.0063    -2.6428 2004-12-31 20:00:00  280.9\n",
       "550076   51.0063    -2.6428 2004-12-31 21:00:00  281.5\n",
       "550077   51.0063    -2.6428 2004-12-31 22:00:00  281.0\n",
       "550078   51.0063    -2.6428 2004-12-31 23:00:00  281.5\n",
       "\n",
       "[538051 rows x 4 columns]"
      ]
     },
     "execution_count": 47,
     "metadata": {},
     "output_type": "execute_result"
    }
   ],
   "source": [
    "df = filter_data(df)\n",
    "df"
   ]
  },
  {
   "cell_type": "code",
   "execution_count": 62,
   "id": "58cd33ac-4105-44b2-82f6-951d05aa0890",
   "metadata": {},
   "outputs": [
    {
     "name": "stdout",
     "output_type": "stream",
     "text": [
      "<xarray.Dataset>\n",
      "Dimensions:    (latitude: 80, longitude: 80, time: 8784)\n",
      "Coordinates:\n",
      "  * latitude   (latitude) float64 50.08 50.42 50.44 50.74 ... 57.65 57.71 57.82\n",
      "  * longitude  (longitude) float64 -5.873 -5.686 -5.257 ... 1.3 1.346 1.357\n",
      "  * time       (time) datetime64[ns] 2004-01-01 ... 2004-12-31T23:00:00\n",
      "Data variables:\n",
      "    t2m        (time, latitude, longitude) float32 nan nan 282.3 ... nan nan nan\n"
     ]
    }
   ],
   "source": [
    "ds_in = xr.Dataset.from_dataframe(df.set_index(['latitude', 'longitude', 'time']))\n",
    "\n",
    "# 调整维度顺序，并更改数据类型\n",
    "ds_adjusted = ds_in.transpose(\"time\", \"latitude\", \"longitude\")\n",
    "ds_adjusted[\"t2m\"] = ds_adjusted[\"t2m\"].astype(\"float32\")\n",
    "\n",
    "print(ds_adjusted)\n"
   ]
  },
  {
   "cell_type": "code",
   "execution_count": 67,
   "id": "5e1483d7-3e37-4658-b56a-d573d02db0b6",
   "metadata": {},
   "outputs": [],
   "source": [
    "a = np.asarray(ds_adjusted['t2m'])"
   ]
  },
  {
   "cell_type": "code",
   "execution_count": 69,
   "id": "725f7cb7-0579-4877-9f00-c4ce408f95f8",
   "metadata": {},
   "outputs": [
    {
     "data": {
      "text/plain": [
       "(8784, 80, 80)"
      ]
     },
     "execution_count": 69,
     "metadata": {},
     "output_type": "execute_result"
    }
   ],
   "source": [
    "a.shape"
   ]
  },
  {
   "cell_type": "code",
   "execution_count": 74,
   "id": "3217e689-0d99-4aea-a775-449a88165967",
   "metadata": {},
   "outputs": [
    {
     "data": {
      "text/plain": [
       "array([  nan,   nan, 281.8,   nan,   nan,   nan,   nan,   nan,   nan,\n",
       "         nan,   nan,   nan,   nan,   nan,   nan,   nan,   nan,   nan,\n",
       "         nan,   nan,   nan,   nan,   nan,   nan,   nan,   nan,   nan,\n",
       "         nan,   nan,   nan,   nan,   nan,   nan,   nan,   nan,   nan,\n",
       "         nan,   nan,   nan,   nan,   nan,   nan,   nan,   nan,   nan,\n",
       "         nan,   nan,   nan,   nan,   nan,   nan,   nan,   nan,   nan,\n",
       "         nan,   nan,   nan,   nan,   nan,   nan,   nan,   nan,   nan,\n",
       "         nan,   nan,   nan,   nan,   nan,   nan,   nan,   nan,   nan,\n",
       "         nan,   nan,   nan,   nan,   nan,   nan,   nan,   nan],\n",
       "      dtype=float32)"
      ]
     },
     "execution_count": 74,
     "metadata": {},
     "output_type": "execute_result"
    }
   ],
   "source": [
    "a[3][0]"
   ]
  },
  {
   "cell_type": "markdown",
   "id": "1d6607e4-77ce-44fe-9e1d-1bbaf075b69a",
   "metadata": {},
   "source": [
    "## UK_background"
   ]
  },
  {
   "cell_type": "markdown",
   "id": "ddb0cff1-b14d-4a18-9104-b27b6445010f",
   "metadata": {
    "jp-MarkdownHeadingCollapsed": true
   },
   "source": [
    "### Modification from gstools"
   ]
  },
  {
   "cell_type": "code",
   "execution_count": 128,
   "id": "57aaebd1-28e6-42be-8902-23fb9698dcdf",
   "metadata": {},
   "outputs": [
    {
     "name": "stdout",
     "output_type": "stream",
     "text": [
      "Index(['featurecla', 'scalerank', 'LABELRANK', 'SOVEREIGNT', 'SOV_A3',\n",
      "       'ADM0_DIF', 'LEVEL', 'TYPE', 'TLC', 'ADMIN',\n",
      "       ...\n",
      "       'FCLASS_TR', 'FCLASS_ID', 'FCLASS_PL', 'FCLASS_GR', 'FCLASS_IT',\n",
      "       'FCLASS_NL', 'FCLASS_SE', 'FCLASS_BD', 'FCLASS_UA', 'geometry'],\n",
      "      dtype='object', length=169)\n"
     ]
    },
    {
     "data": {
      "image/png": "[encoded data removed]",
      "text/plain": [
       "<Figure size 640x480 with 1 Axes>"
      ]
     },
     "metadata": {},
     "output_type": "display_data"
    }
   ],
   "source": [
    "import geopandas as gpd\n",
    "import matplotlib.pyplot as plt\n",
    "import cartopy.crs as ccrs\n",
    "from cartopy.io import shapereader\n",
    "\n",
    "# 下载简化的英国边界 shapefile\n",
    "shpfile = shapereader.natural_earth(\"50m\", \"cultural\", \"admin_0_countries\")\n",
    "\n",
    "# 使用 GeoPandas 读取 shapefile\n",
    "gdf = gpd.read_file(shpfile)\n",
    "# print(gdf.columns)\n",
    "\n",
    "# 选择英国的边界\n",
    "uk_border = gdf[gdf[\"ADMIN\"] == \"United Kingdom\"]\n",
    "\n",
    "\n",
    "# 保存英国边界为 GeoJSON 文件\n",
    "uk_border.to_file(\"uk_border.geojson\", driver=\"GeoJSON\")\n",
    "\n",
    "# 或者保存为 Shapefile 文件\n",
    "uk_border.to_file(\"uk_border.shp\")\n",
    "\n",
    "\n",
    "# 创建地图和投影\n",
    "fig, ax = plt.subplots(subplot_kw={\"projection\": ccrs.PlateCarree()})\n",
    "ax.add_geometries(uk_border.geometry, crs=ccrs.PlateCarree(), edgecolor=\"black\", facecolor=\"none\")\n",
    "\n",
    "# 设置地图属性\n",
    "ax.coastlines(resolution=\"50m\")\n",
    "ax.set_extent([-8, 4, 49, 60], crs=ccrs.PlateCarree())  # 设置地图显示范围（经度、纬度）\n",
    "\n",
    "# 显示地图\n",
    "plt.show()\n"
   ]
  },
  {
   "cell_type": "code",
   "execution_count": 121,
   "id": "d8633ef3-257f-4af0-82bc-85a8349f09a9",
   "metadata": {},
   "outputs": [
    {
     "data": {
      "image/png": "[encoded data removed]",
      "text/plain": [
       "<Figure size 640x480 with 1 Axes>"
      ]
     },
     "metadata": {},
     "output_type": "display_data"
    }
   ],
   "source": [
    "import matplotlib.pyplot as plt\n",
    "import cartopy.crs as ccrs\n",
    "import cartopy.feature as cfeature\n",
    "\n",
    "def plot_uk_border():\n",
    "    # 创建一个matplotlib的图和坐标轴，使用PlateCarree投影\n",
    "    fig, ax = plt.subplots(subplot_kw={'projection': ccrs.PlateCarree()})\n",
    "    \n",
    "    # 设置地理范围为英国周边\n",
    "    ax.set_extent([-10, 2, 49, 60], crs=ccrs.PlateCarree())\n",
    "    \n",
    "    # 添加英国的边界\n",
    "    ax.add_feature(cfeature.BORDERS, linestyle=':')\n",
    "    \n",
    "    # 添加海岸线和湖泊\n",
    "    ax.add_feature(cfeature.COASTLINE)\n",
    "    ax.add_feature(cfeature.LAKES, edgecolor='black')\n",
    "    \n",
    "    # 添加网格线\n",
    "    ax.gridlines(draw_labels=True)\n",
    "    \n",
    "    # 显示图像\n",
    "    plt.show()\n",
    "\n",
    "plot_uk_border()\n"
   ]
  },
  {
   "cell_type": "markdown",
   "id": "1b18bfdf-6378-4a36-b831-a7c051740848",
   "metadata": {
    "jp-MarkdownHeadingCollapsed": true
   },
   "source": [
    "### coarse version "
   ]
  },
  {
   "cell_type": "code",
   "execution_count": null,
   "id": "165174f5-b35f-4692-821d-0d187f34c099",
   "metadata": {},
   "outputs": [],
   "source": [
    "import geopandas as gpd\n",
    "\n",
    "def download_uk_border():\n",
    "    # 从Natural Earth下载全球国家边界数据\n",
    "    world = gpd.read_file(gpd.datasets.get_path('naturalearth_lowres'))\n",
    "\n",
    "    # 提取英国的边界数据\n",
    "    uk = world[world['name'] == \"United Kingdom\"]\n",
    "\n",
    "    # 保存英国的边界到Shapefile\n",
    "    uk.to_file(\"UK_border.shp\")\n",
    "\n",
    "download_uk_border()\n"
   ]
  },
  {
   "cell_type": "code",
   "execution_count": 125,
   "id": "75a8c3c6-86ea-4380-ae2d-b332bff65bbf",
   "metadata": {},
   "outputs": [
    {
     "data": {
      "image/png": "[encoded data removed]",
      "text/plain": [
       "<Figure size 640x480 with 1 Axes>"
      ]
     },
     "metadata": {},
     "output_type": "display_data"
    }
   ],
   "source": [
    "# 从Shapefile加载英国的边界数据\n",
    "uk_border = gpd.read_file(\"UK_border.shp\")\n",
    "\n",
    "# 绘制并显示边界\n",
    "uk_border.plot()\n",
    "plt.title(\"United Kingdom Border\")\n",
    "plt.xlabel(\"Longitude\")\n",
    "plt.ylabel(\"Latitude\")\n",
    "plt.grid(True)\n",
    "plt.show()"
   ]
  },
  {
   "cell_type": "code",
   "execution_count": 126,
   "id": "f4a18495-3a45-4ebf-aa1c-03dec1e2943f",
   "metadata": {},
   "outputs": [],
   "source": [
    "gdf = gpd.read_file('UK_border.shp')"
   ]
  },
  {
   "cell_type": "code",
   "execution_count": 127,
   "id": "b9df3d43-0b1a-4d85-b6dd-0be8978a616e",
   "metadata": {},
   "outputs": [
    {
     "data": {
      "text/html": [
       "<div>\n",
       "<style scoped>\n",
       "    .dataframe tbody tr th:only-of-type {\n",
       "        vertical-align: middle;\n",
       "    }\n",
       "\n",
       "    .dataframe tbody tr th {\n",
       "        vertical-align: top;\n",
       "    }\n",
       "\n",
       "    .dataframe thead th {\n",
       "        text-align: right;\n",
       "    }\n",
       "</style>\n",
       "<table border=\"1\" class=\"dataframe\">\n",
       "  <thead>\n",
       "    <tr style=\"text-align: right;\">\n",
       "      <th></th>\n",
       "      <th>pop_est</th>\n",
       "      <th>continent</th>\n",
       "      <th>name</th>\n",
       "      <th>iso_a3</th>\n",
       "      <th>gdp_md_est</th>\n",
       "      <th>geometry</th>\n",
       "    </tr>\n",
       "  </thead>\n",
       "  <tbody>\n",
       "    <tr>\n",
       "      <th>0</th>\n",
       "      <td>66834405.0</td>\n",
       "      <td>Europe</td>\n",
       "      <td>United Kingdom</td>\n",
       "      <td>GBR</td>\n",
       "      <td>2829108</td>\n",
       "      <td>MULTIPOLYGON (((-6.19788 53.86757, -6.95373 54.07370, -7.57217 54.05996, -7.36603 54.59584, -7.57217 55.13162, -6.73385 55.17286, -5.66195 54.55460, -6.19788 53.86757)), ((-3.09383 53.40455, -3.09208 53.40444, -2.94501 53.98500, -3.61470 54.60094, -3.63001 54.61501, -4.84417 54.79097, -5.08253 55.06160, -4.71911 55.50847, -5.04798 55.78399, -5.58640 55.31115, -5.64500 56.27501, -6.14998 56.78501, -5.78682 57.81885, -5.01000 58.63001, -4.21149 58.55085, -3.00500 58.63500, -4.07383 57.55302, -3.05500 57.69002, -1.95928 57.68480, -2.21999 56.87002, -3.11900 55.97379, -2.08501 55.91000, -2.00568 55.80490, -1.11499 54.62499, -0.43048 54.46438, 0.18498 53.32501, 0.46998 52.93000, 1.68153 52.73952, 1.55999 52.10000, 1.05056 51.80676, 1.44987 51.28943, 0.55033 50.76574, -0.78752 50.77499, -2.49000 50.50002, -2.95627 50.69688, -3.61745 50.22836, -4.54251 50.34184, -5.24502 49.96000, -5.77657 50.15968, -4.30999 51.21000, -3.41485 51.42601, -3.42272 51.42685, -4.98437 51.59347, -5.26730 51.99140, -4.22235 52.30136, -4.77001 52.84000, -4.58000 53.49500, -3.09383 53.40455)))</td>\n",
       "    </tr>\n",
       "  </tbody>\n",
       "</table>\n",
       "</div>"
      ],
      "text/plain": [
       "      pop_est continent            name iso_a3  gdp_md_est  \\\n",
       "0  66834405.0    Europe  United Kingdom    GBR     2829108   \n",
       "\n",
       "                                                                                                                                                                                                                                                                                                                                                                                                                                                                                                                                                                                                                                                                                                                                                                                                                                                                                                                                                                                                                                                                                                                 geometry  \n",
       "0  MULTIPOLYGON (((-6.19788 53.86757, -6.95373 54.07370, -7.57217 54.05996, -7.36603 54.59584, -7.57217 55.13162, -6.73385 55.17286, -5.66195 54.55460, -6.19788 53.86757)), ((-3.09383 53.40455, -3.09208 53.40444, -2.94501 53.98500, -3.61470 54.60094, -3.63001 54.61501, -4.84417 54.79097, -5.08253 55.06160, -4.71911 55.50847, -5.04798 55.78399, -5.58640 55.31115, -5.64500 56.27501, -6.14998 56.78501, -5.78682 57.81885, -5.01000 58.63001, -4.21149 58.55085, -3.00500 58.63500, -4.07383 57.55302, -3.05500 57.69002, -1.95928 57.68480, -2.21999 56.87002, -3.11900 55.97379, -2.08501 55.91000, -2.00568 55.80490, -1.11499 54.62499, -0.43048 54.46438, 0.18498 53.32501, 0.46998 52.93000, 1.68153 52.73952, 1.55999 52.10000, 1.05056 51.80676, 1.44987 51.28943, 0.55033 50.76574, -0.78752 50.77499, -2.49000 50.50002, -2.95627 50.69688, -3.61745 50.22836, -4.54251 50.34184, -5.24502 49.96000, -5.77657 50.15968, -4.30999 51.21000, -3.41485 51.42601, -3.42272 51.42685, -4.98437 51.59347, -5.26730 51.99140, -4.22235 52.30136, -4.77001 52.84000, -4.58000 53.49500, -3.09383 53.40455)))  "
      ]
     },
     "execution_count": 127,
     "metadata": {},
     "output_type": "execute_result"
    }
   ],
   "source": [
    "gdf"
   ]
  },
  {
   "cell_type": "code",
   "execution_count": null,
   "id": "edc54528-a373-4097-89ff-869a3e69f7b1",
   "metadata": {},
   "outputs": [],
   "source": []
  },
  {
   "cell_type": "markdown",
   "id": "29e92d27-4a00-44cf-90f3-34f8cd644797",
   "metadata": {},
   "source": [
    "## Regrid"
   ]
  },
  {
   "cell_type": "markdown",
   "id": "c995edb0-367f-4e61-b1cc-e99c4b3abbf3",
   "metadata": {},
   "source": [
    "### test1"
   ]
  },
  {
   "cell_type": "code",
   "execution_count": 129,
   "id": "75f23541-1a8e-47fe-9b47-5e73414598e7",
   "metadata": {},
   "outputs": [],
   "source": [
    "gridx = np.linspace(-6.0, 1.875, 64)"
   ]
  },
  {
   "cell_type": "code",
   "execution_count": 130,
   "id": "d3a451ee-d81c-4c53-943c-1b304e7dd03a",
   "metadata": {},
   "outputs": [
    {
     "data": {
      "text/plain": [
       "array([-6.   , -5.875, -5.75 , -5.625, -5.5  , -5.375, -5.25 , -5.125,\n",
       "       -5.   , -4.875, -4.75 , -4.625, -4.5  , -4.375, -4.25 , -4.125,\n",
       "       -4.   , -3.875, -3.75 , -3.625, -3.5  , -3.375, -3.25 , -3.125,\n",
       "       -3.   , -2.875, -2.75 , -2.625, -2.5  , -2.375, -2.25 , -2.125,\n",
       "       -2.   , -1.875, -1.75 , -1.625, -1.5  , -1.375, -1.25 , -1.125,\n",
       "       -1.   , -0.875, -0.75 , -0.625, -0.5  , -0.375, -0.25 , -0.125,\n",
       "        0.   ,  0.125,  0.25 ,  0.375,  0.5  ,  0.625,  0.75 ,  0.875,\n",
       "        1.   ,  1.125,  1.25 ,  1.375,  1.5  ,  1.625,  1.75 ,  1.875])"
      ]
     },
     "execution_count": 130,
     "metadata": {},
     "output_type": "execute_result"
    }
   ],
   "source": [
    "gridx"
   ]
  },
  {
   "cell_type": "code",
   "execution_count": 133,
   "id": "855d5a9c-2396-4ef2-bc89-916652602a77",
   "metadata": {},
   "outputs": [],
   "source": [
    "gridy = np.linspace(50.0, 57.75, 32) "
   ]
  },
  {
   "cell_type": "code",
   "execution_count": 134,
   "id": "ffb835bd-f853-4bce-95a5-fe1cd5c70338",
   "metadata": {},
   "outputs": [
    {
     "data": {
      "text/plain": [
       "array([50.  , 50.25, 50.5 , 50.75, 51.  , 51.25, 51.5 , 51.75, 52.  ,\n",
       "       52.25, 52.5 , 52.75, 53.  , 53.25, 53.5 , 53.75, 54.  , 54.25,\n",
       "       54.5 , 54.75, 55.  , 55.25, 55.5 , 55.75, 56.  , 56.25, 56.5 ,\n",
       "       56.75, 57.  , 57.25, 57.5 , 57.75])"
      ]
     },
     "execution_count": 134,
     "metadata": {},
     "output_type": "execute_result"
    }
   ],
   "source": [
    "gridy"
   ]
  },
  {
   "cell_type": "markdown",
   "id": "f6ed8c4e-fbea-4a6f-8350-8d5f135c9e66",
   "metadata": {},
   "source": [
    "### test2"
   ]
  },
  {
   "cell_type": "markdown",
   "id": "c7de92eb-f135-4e95-a520-a5520b4a1229",
   "metadata": {},
   "source": [
    "#### basic import"
   ]
  },
  {
   "cell_type": "code",
   "execution_count": 143,
   "id": "ebc6b815-58a9-4253-beeb-26c5742bccb5",
   "metadata": {},
   "outputs": [],
   "source": [
    "import os\n",
    "import pandas as pd\n",
    "import numpy as np\n",
    "import xarray as xr\n",
    "import gstools as gs\n",
    "import geopandas as gpd\n",
    "import matplotlib.pyplot as plt\n",
    "from utils import folder_utils\n",
    "from tqdm import tqdm"
   ]
  },
  {
   "cell_type": "code",
   "execution_count": 137,
   "id": "a256c2be-e0c2-4644-9855-269b7937c7f5",
   "metadata": {},
   "outputs": [],
   "source": [
    "def krige_regrid(\n",
    "    year_df_path, year, country, data_folder, data_category, output_folder\n",
    "):\n",
    "    # 1. Load the data\n",
    "    df = pd.read_csv(year_df_path)\n",
    "    lat = df[\"latitude\"].values\n",
    "    lon = df[\"longitude\"].values\n",
    "\n",
    "    # 2. Create a new dataframe to store the interpolated data\n",
    "    output_df = pd.DataFrame()\n",
    "\n",
    "    # 3.Define the grid\n",
    "    g_lon = np.linspace(-6.0, 1.875, 64)  # longitude\n",
    "    g_lat = np.linspace(50.0, 57.5, 32)  # latitude\n",
    "    # gridx, gridy = np.meshgrid(gridx, gridy)\n",
    "\n",
    "    # 4. Drift term\n",
    "    def north_south_drift(lat, lon):\n",
    "        return lat\n",
    "\n",
    "    unique_times = df[\"time\"].unique()\n",
    "\n",
    "    # Iterate over each time\n",
    "    for time_point in unique_times:\n",
    "        # 1. Load data\n",
    "        t2m = df[df[\"time\"] == time_point][\"t2m\"].values\n",
    "\n",
    "        # 2. Estimate the variogram\n",
    "        bin_center, vario = gs.vario_estimate(\n",
    "            (lat, lon), t2m, latlon=True, geo_scale=gs.KM_SCALE, max_dist=900\n",
    "        )\n",
    "\n",
    "        # 3. krige interpolation\n",
    "        model = gs.Spherical(latlon=True, geo_scale=gs.KM_SCALE)\n",
    "        model.fit_variogram(bin_center, vario, nugget=False)\n",
    "\n",
    "        # 5. Universal Kriging\n",
    "\n",
    "        uk = gs.krige.Universal(\n",
    "            model=model,\n",
    "            cond_pos=(lat, lon),\n",
    "            cond_val=t2m,\n",
    "            drift_functions=north_south_drift,\n",
    "        )\n",
    "\n",
    "        uk.set_pos((g_lat, g_lon), mesh_type=\"structured\")\n",
    "        interpolated_values = uk(return_var=False)\n",
    "\n",
    "        temp_df = pd.DataFrame(\n",
    "            {\n",
    "                \"lat\": np.tile(g_lat, len(g_lon)),\n",
    "                \"lon\": np.repeat(g_lon, len(g_lat)),\n",
    "                \"time\": [time_point] * len(g_lat) * len(g_lon),\n",
    "                \"t2m\": interpolated_values.ravel(),\n",
    "            }\n",
    "        )\n",
    "\n",
    "        output_df = pd.concat([output_df, temp_df], ignore_index=True)\n",
    "\n",
    "    # Save to csv file\n",
    "    output_directory = folder_utils.find_folder(\n",
    "        country, data_folder, data_category, output_folder\n",
    "    )\n",
    "    output_filename = f\"{country}_ASOS_krige_{year}.csv\"\n",
    "    output_path = os.path.join(output_directory, output_filename)\n",
    "    output_df.to_csv(output_path, index=False)"
   ]
  },
  {
   "cell_type": "code",
   "execution_count": 138,
   "id": "c0edbc91-4c3d-4132-bd39-14d376973256",
   "metadata": {},
   "outputs": [],
   "source": [
    "def get_year(start_year, end_year):\n",
    "    # start_year = 1979\n",
    "    # end_year = 2023\n",
    "    year_list = list(range(start_year, end_year + 1))\n",
    "\n",
    "    # Convert the integer list to a string list\n",
    "    year_str_list = [str(year) for year in year_list]\n",
    "\n",
    "    return year_str_list\n",
    "\n",
    "\n",
    "def get_year_from_filename(filename):\n",
    "    # extract year from filename\n",
    "    # filename = \"GB_merged_ASOS_1979.csv\"\n",
    "    parts = filename.split(\"_\")\n",
    "    return parts[3]\n",
    "\n",
    "\n",
    "def get_asos_year_file_list(country, data_folder, data_category, output_folder):\n",
    "    input_folder_path = folder_utils.find_folder(\n",
    "        country, data_folder, data_category, output_folder\n",
    "    )\n",
    "    csv_files = [\n",
    "        f\n",
    "        for f in os.listdir(input_folder_path)\n",
    "        if f.endswith(\".csv\") and \"_merged_ASOS_\" in f\n",
    "    ]\n",
    "\n",
    "    # sort by year\n",
    "    csv_files.sort(key=lambda x: get_year_from_filename(x))\n",
    "\n",
    "    return [\n",
    "        os.path.join(input_folder_path, csv_file) for csv_file in csv_files\n",
    "    ]  # return the full path\n"
   ]
  },
  {
   "cell_type": "markdown",
   "id": "2d0bc66d-c821-4447-971e-cdbfb99c7dd3",
   "metadata": {},
   "source": [
    "#### example"
   ]
  },
  {
   "cell_type": "code",
   "execution_count": 146,
   "id": "49ccf40e-5234-4662-bc1b-0662f3aae2e4",
   "metadata": {},
   "outputs": [],
   "source": [
    "# Example usage\n",
    "country = \"GB\"\n",
    "data_folder = \"data\"\n",
    "data_read_category = \"raw_data\"\n",
    "data_test_category = \"test_data\"\n",
    "data_save_category = \"processed_data\"\n",
    "output_folder = \"ASOS_DATA\""
   ]
  },
  {
   "cell_type": "code",
   "execution_count": 139,
   "id": "254754fb-fa14-43d2-bde1-fb944fdf6fb5",
   "metadata": {},
   "outputs": [],
   "source": [
    "year_list = get_year(start_year=1979, end_year=2023)"
   ]
  },
  {
   "cell_type": "code",
   "execution_count": 140,
   "id": "9b8f4348-a170-4b83-ab49-6b5335e00d7e",
   "metadata": {},
   "outputs": [],
   "source": [
    "csv_paths = get_asos_year_file_list(\n",
    "    country, data_folder, data_save_category, output_folder\n",
    ")"
   ]
  },
  {
   "cell_type": "code",
   "execution_count": 144,
   "id": "5e9c4be8-bd4b-4c75-ae48-9431aa76aa94",
   "metadata": {},
   "outputs": [],
   "source": [
    "test_path =csv_paths[0]"
   ]
  },
  {
   "cell_type": "code",
   "execution_count": 145,
   "id": "2c2c39c9-eb38-44fe-8e62-53243d2f788b",
   "metadata": {},
   "outputs": [
    {
     "ename": "NameError",
     "evalue": "name 'data_category' is not defined",
     "output_type": "error",
     "traceback": [
      "\u001b[0;31m---------------------------------------------------------------------------\u001b[0m",
      "\u001b[0;31mNameError\u001b[0m                                 Traceback (most recent call last)",
      "Cell \u001b[0;32mIn[145], line 1\u001b[0m\n\u001b[0;32m----> 1\u001b[0m krige_regrid(test_path, \u001b[38;5;241m1979\u001b[39m, country, data_folder, \u001b[43mdata_category\u001b[49m, output_folder)\n",
      "\u001b[0;31mNameError\u001b[0m: name 'data_category' is not defined"
     ]
    }
   ],
   "source": [
    "krige_regrid(test_path, 1979, country, data_folder, data_save_category, output_folder)"
   ]
  },
  {
   "cell_type": "code",
   "execution_count": null,
   "id": "bbcb034f-1b7f-4bd3-a8e1-97ea59268f99",
   "metadata": {},
   "outputs": [],
   "source": [
    "def krige_regrid(\n",
    "    year_df_path, year, country, data_folder, data_category, output_folder\n",
    "):\n",
    "    # 1. Load the data\n",
    "    df = pd.read_csv(year_df_path)\n",
    "    lat = df[\"latitude\"].values\n",
    "    lon = df[\"longitude\"].values\n",
    "\n",
    "    # 2. Create a new dataframe to store the interpolated data\n",
    "    output_df = pd.DataFrame()\n",
    "\n",
    "    # 3.Define the grid\n",
    "    g_lon = np.linspace(-6.0, 1.875, 64)  # longitude\n",
    "    g_lat = np.linspace(50.0, 57.5, 32)  # latitude\n",
    "    # gridx, gridy = np.meshgrid(gridx, gridy)\n",
    "\n",
    "    # 4. Drift term\n",
    "    def north_south_drift(lat, lon):\n",
    "        return lat\n",
    "\n",
    "    unique_times = df[\"time\"].unique()\n",
    "\n",
    "    # Iterate over each time\n",
    "    for time_point in unique_times:\n",
    "        # 1. Load data\n",
    "        t2m = df[df[\"time\"] == time_point][\"t2m\"].values\n",
    "\n",
    "        # 2. Estimate the variogram\n",
    "        bin_center, vario = gs.vario_estimate(\n",
    "            (lat, lon), t2m, latlon=True, geo_scale=gs.KM_SCALE, max_dist=900\n",
    "        )\n",
    "\n",
    "        # 3. krige interpolation\n",
    "        model = gs.Spherical(latlon=True, geo_scale=gs.KM_SCALE)\n",
    "        model.fit_variogram(bin_center, vario, nugget=False)\n",
    "\n",
    "        # 5. Universal Kriging\n",
    "\n",
    "        uk = gs.krige.Universal(\n",
    "            model=model,\n",
    "            cond_pos=(lat, lon),\n",
    "            cond_val=t2m,\n",
    "            drift_functions=north_south_drift,\n",
    "        )\n",
    "\n",
    "        uk.set_pos((g_lat, g_lon), mesh_type=\"structured\")\n",
    "        interpolated_values = uk(return_var=False)\n",
    "\n",
    "        temp_df = pd.DataFrame(\n",
    "            {\n",
    "                \"lat\": np.tile(g_lat, len(g_lon)),\n",
    "                \"lon\": np.repeat(g_lon, len(g_lat)),\n",
    "                \"time\": [time_point] * len(g_lat) * len(g_lon),\n",
    "                \"t2m\": interpolated_values.ravel(),\n",
    "            }\n",
    "        )\n",
    "\n",
    "        output_df = pd.concat([output_df, temp_df], ignore_index=True)\n",
    "\n",
    "    # Save to csv file\n",
    "    output_directory = folder_utils.find_folder(\n",
    "        country, data_folder, data_category, output_folder\n",
    "    )\n",
    "    output_filename = f\"{country}_ASOS_krige_{year}.csv\"\n",
    "    output_path = os.path.join(output_directory, output_filename)\n",
    "    output_df.to_csv(output_path, index=False)"
   ]
  }
 ],
 "metadata": {
  "kernelspec": {
   "display_name": "Python 3 (ipykernel)",
   "language": "python",
   "name": "python3"
  },
  "language_info": {
   "codemirror_mode": {
    "name": "ipython",
    "version": 3
   },
   "file_extension": ".py",
   "mimetype": "text/x-python",
   "name": "python",
   "nbconvert_exporter": "python",
   "pygments_lexer": "ipython3",
   "version": "3.9.17"
  }
 },
 "nbformat": 4,
 "nbformat_minor": 5
}
