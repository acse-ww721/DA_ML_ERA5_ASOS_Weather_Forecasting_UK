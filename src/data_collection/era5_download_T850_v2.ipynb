{
 "cells": [
  {
   "cell_type": "code",
   "execution_count": null,
   "id": "7fa5130b-73d6-41fc-8fbf-1117f82439f4",
   "metadata": {},
   "outputs": [],
   "source": [
    "# Name: Wenqi Wang\n",
    "# Github username: acse-ww721"
   ]
  },
  {
   "cell_type": "code",
   "execution_count": 24,
   "id": "c0e6bb3d-b4ff-4ebe-9c8d-c759841172ff",
   "metadata": {
    "ExecuteTime": {
     "end_time": "2023-08-26T11:35:15.062126Z",
     "start_time": "2023-08-26T11:35:15.055099Z"
    }
   },
   "outputs": [],
   "source": [
    "# Basic setting for Jupyter_notebook to import utils\n",
    "import os\n",
    "import sys\n",
    "\n",
    "notebook_path = os.path.abspath(\"\")\n",
    "project_root = os.path.abspath(os.path.join(notebook_path, \"../../\"))\n",
    "\n",
    "sys.path.append(project_root)"
   ]
  },
  {
   "cell_type": "code",
   "execution_count": 25,
   "id": "e2d77372-6e46-4fcb-bf1d-7dc4d55db3e3",
   "metadata": {
    "ExecuteTime": {
     "end_time": "2023-08-26T11:35:15.499414Z",
     "start_time": "2023-08-26T11:35:15.483810Z"
    }
   },
   "outputs": [],
   "source": [
    "import cdsapi\n",
    "import threading\n",
    "import time\n",
    "import os\n",
    "import sys\n",
    "from tqdm import tqdm\n",
    "# from utils import time_utils, folder_utils\n",
    "from concurrent.futures import ThreadPoolExecutor  # thread pool module"
   ]
  },
  {
   "cell_type": "code",
   "execution_count": 26,
   "id": "ac93fff2",
   "metadata": {
    "ExecuteTime": {
     "end_time": "2023-08-26T11:35:16.011663Z",
     "start_time": "2023-08-26T11:35:15.990316Z"
    }
   },
   "outputs": [],
   "source": [
    "def get_current_directory():\n",
    "    if \"__file__\" in globals():\n",
    "        # Running in a Python file\n",
    "        return os.path.abspath(os.path.dirname(__file__))\n",
    "    else:\n",
    "        # Running in a Jupyter Notebook\n",
    "        return os.path.abspath(os.path.dirname(\"\"))\n",
    "\n",
    "\n",
    "def find_folder(c, data_folder, data_category, output_folder):\n",
    "    # c: country list\n",
    "    current_directory = get_current_directory()\n",
    "    project_root = os.path.abspath(os.path.join(current_directory, \"..\", \".\"))\n",
    "    folder_name = f\"{c}_{output_folder}\"\n",
    "    folder_path = os.path.join(\n",
    "        project_root, data_folder, data_category, output_folder, folder_name\n",
    "    )\n",
    "\n",
    "    return folder_path\n",
    "\n",
    "\n",
    "def create_folder(c, data_folder, data_category, output_folder):\n",
    "    # c: country list\n",
    "    folder_path = find_folder(c, data_folder, data_category, output_folder)\n",
    "\n",
    "    try:\n",
    "        os.makedirs(folder_path, exist_ok=True)\n",
    "        print(f\"Folder '{folder_path}' created successfully.\")\n",
    "    except FileExistsError:\n",
    "        print(f\"Folder '{folder_path}' already exists.\")\n",
    "\n",
    "    return folder_path"
   ]
  },
  {
   "cell_type": "code",
   "execution_count": 27,
   "id": "bd85a757",
   "metadata": {
    "ExecuteTime": {
     "end_time": "2023-08-26T11:35:16.490584Z",
     "start_time": "2023-08-26T11:35:16.479199Z"
    }
   },
   "outputs": [],
   "source": [
    "\n",
    "def time_select(df, date_column, start_date, end_date):\n",
    "    df[date_column] = pd.to_datetime(df[date_column], format=\"%Y%m%d\")\n",
    "    filtered_df = df[(df[date_column] >= start_date) & (df[date_column] <= end_date)]\n",
    "    return filtered_df\n",
    "\n",
    "\n",
    "# Example\n",
    "# filtered_noaa_df = time_select(processed_df_noaa, \"DATE\", start_date, end_date)\n",
    "# filtered_asos_df = time_select(processed_df_asos, \"date\", start_date, end_date)\n",
    "\n",
    "\n",
    "def is_leap_year(year):\n",
    "    year = int(year)  # Convert the string to integer\n",
    "    return (year % 4 == 0 and year % 100 != 0) or (year % 400 == 0)\n",
    "\n",
    "\n",
    "def days_check(year, month):\n",
    "    year = int(year)  # Convert the string to integer\n",
    "    days_by_month = {\n",
    "        \"01\": 31,  # January\n",
    "        \"02\": 29 if is_leap_year(year) else 28,  # February\n",
    "        \"03\": 31,  # March\n",
    "        \"04\": 30,  # April\n",
    "        \"05\": 31,  # May\n",
    "        \"06\": 30,  # June\n",
    "        \"07\": 31,  # July\n",
    "        \"08\": 31,  # August\n",
    "        \"09\": 30,  # September\n",
    "        \"10\": 31,  # October\n",
    "        \"11\": 30,  # November\n",
    "        \"12\": 31,  # December\n",
    "    }\n",
    "\n",
    "    return [str(day).zfill(2) for day in range(1, days_by_month.get(month, 0) + 1)]"
   ]
  },
  {
   "cell_type": "code",
   "execution_count": 28,
   "id": "9d10fc44-1ee4-497d-97e3-a657c6a7b3ee",
   "metadata": {
    "ExecuteTime": {
     "end_time": "2023-08-26T11:35:18.465305Z",
     "start_time": "2023-08-26T11:35:18.460686Z"
    }
   },
   "outputs": [],
   "source": [
    "# folder setting\n",
    "country = \"GB\"\n",
    "\n",
    "data_folder = \"data\"\n",
    "data_category = \"raw_data\"\n",
    "output_folder = \"ERA5_DATA\""
   ]
  },
  {
   "cell_type": "code",
   "execution_count": 23,
   "id": "c3e7c304",
   "metadata": {
    "ExecuteTime": {
     "end_time": "2023-08-26T11:34:53.676503Z",
     "start_time": "2023-08-26T11:34:53.661284Z"
    }
   },
   "outputs": [
    {
     "name": "stdout",
     "output_type": "stream",
     "text": [
      "Folder 'F:\\JuPyterNotebook\\data\\raw_data\\ERA5_DATA\\GB_ERA5_DATA' created successfully.\n"
     ]
    },
    {
     "data": {
      "text/plain": [
       "'F:\\\\JuPyterNotebook\\\\data\\\\raw_data\\\\ERA5_DATA\\\\GB_ERA5_DATA'"
      ]
     },
     "execution_count": 23,
     "metadata": {},
     "output_type": "execute_result"
    }
   ],
   "source": [
    "input = create_folder(country,data_folder,data_category,output_folder)\n",
    "input"
   ]
  },
  {
   "cell_type": "code",
   "execution_count": 29,
   "id": "7875ecf4-a9ca-472b-bbf3-e9921dc09114",
   "metadata": {
    "ExecuteTime": {
     "end_time": "2023-08-26T11:35:20.137725Z",
     "start_time": "2023-08-26T11:35:20.126387Z"
    }
   },
   "outputs": [],
   "source": [
    "# variable setting\n",
    "data_year = [  # the target years\n",
    "    \"1979\",\n",
    "    \"1980\",\n",
    "    \"1981\",\n",
    "    \"1982\",\n",
    "    \"1983\",\n",
    "    \"1984\",\n",
    "    \"1985\",\n",
    "    \"1986\",\n",
    "    \"1987\",\n",
    "    \"1988\",\n",
    "    \"1989\",\n",
    "    \"1990\",\n",
    "    \"1991\",\n",
    "    \"1992\",\n",
    "    \"1993\",\n",
    "    \"1994\",\n",
    "    \"1995\",\n",
    "    \"1996\",\n",
    "    \"1997\",\n",
    "    \"1998\",\n",
    "    \"1999\",\n",
    "    \"2000\",\n",
    "    \"2001\",\n",
    "    \"2002\",\n",
    "    \"2003\",\n",
    "    \"2004\",\n",
    "    \"2005\",\n",
    "    \"2006\",\n",
    "    \"2007\",\n",
    "    \"2008\",\n",
    "    \"2009\",\n",
    "    \"2010\",\n",
    "    \"2011\",\n",
    "    \"2012\",\n",
    "    \"2013\",\n",
    "    \"2014\",\n",
    "    \"2015\",\n",
    "    \"2016\",\n",
    "    \"2017\",\n",
    "    \"2018\",\n",
    "    \"2019\",\n",
    "    \"2020\",\n",
    "    \"2021\",\n",
    "    \"2022\",\n",
    "]\n",
    "\n",
    "data_month = [  # the target months\n",
    "    \"01\",\n",
    "    \"02\",\n",
    "    \"03\",\n",
    "    \"04\",\n",
    "    \"05\",\n",
    "    \"06\",\n",
    "    \"07\",\n",
    "    \"08\",\n",
    "    \"09\",\n",
    "    \"10\",\n",
    "    \"11\",\n",
    "    \"12\",\n",
    "]\n",
    "\n",
    "data_day = [\n",
    "    \"01\",\n",
    "    \"02\",\n",
    "    \"03\",\n",
    "    \"04\",\n",
    "    \"05\",\n",
    "    \"06\",\n",
    "    \"07\",\n",
    "    \"08\",\n",
    "    \"09\",\n",
    "    \"10\",\n",
    "    \"11\",\n",
    "    \"12\",\n",
    "    \"13\",\n",
    "    \"14\",\n",
    "    \"15\",\n",
    "    \"16\",\n",
    "    \"17\",\n",
    "    \"18\",\n",
    "    \"19\",\n",
    "    \"20\",\n",
    "    \"21\",\n",
    "    \"22\",\n",
    "    \"23\",\n",
    "    \"24\",\n",
    "    \"25\",\n",
    "    \"26\",\n",
    "    \"27\",\n",
    "    \"28\",\n",
    "    \"29\",\n",
    "    \"30\",\n",
    "    \"31\",\n",
    "]  # the target day  # s\n",
    "\n",
    "\n",
    "data_time = [  # the target times_UTC\n",
    "    \"00:00\",\n",
    "    \"01:00\",\n",
    "    \"02:00\",\n",
    "    \"03:00\",\n",
    "    \"04:00\",\n",
    "    \"05:00\",\n",
    "    \"06:00\",\n",
    "    \"07:00\",\n",
    "    \"08:00\",\n",
    "    \"09:00\",\n",
    "    \"10:00\",\n",
    "    \"11:00\",\n",
    "    \"12:00\",\n",
    "    \"13:00\",\n",
    "    \"14:00\",\n",
    "    \"15:00\",\n",
    "    \"16:00\",\n",
    "    \"17:00\",\n",
    "    \"18:00\",\n",
    "    \"19:00\",\n",
    "    \"20:00\",\n",
    "    \"21:00\",\n",
    "    \"22:00\",\n",
    "    \"23:00\",\n",
    "]"
   ]
  },
  {
   "cell_type": "code",
   "execution_count": 30,
   "id": "1e4c5104-3d10-4530-aa4c-387508fdf97d",
   "metadata": {
    "ExecuteTime": {
     "end_time": "2023-08-26T11:35:21.256913Z",
     "start_time": "2023-08-26T11:35:21.238745Z"
    }
   },
   "outputs": [],
   "source": [
    "# 1,571,328 > 120,000 per time\n",
    "\n",
    "# dataset setting\n",
    "dataset = \"reanalysis-era5-pressure-levels\"\n",
    "variable_list = [\n",
    "    \"temperature\", # priority download T850\n",
    "    # \"relative_humidity\",\n",
    "    # 'geopotential', the common variable for weather forecasting\n",
    "    # \"specific_humidity\",\n",
    "]\n",
    "\n",
    "pressure_level = \"850\"\n"
   ]
  },
  {
   "cell_type": "code",
   "execution_count": 31,
   "id": "dbe55c44-3409-47e0-95c5-8ca9ca4fda9e",
   "metadata": {
    "ExecuteTime": {
     "end_time": "2023-08-26T11:35:21.737875Z",
     "start_time": "2023-08-26T11:35:21.730876Z"
    }
   },
   "outputs": [],
   "source": [
    "area_uk = [\n",
    "    58,\n",
    "    -7,\n",
    "    50,\n",
    "    2,\n",
    "]"
   ]
  },
  {
   "cell_type": "code",
   "execution_count": 47,
   "id": "78ef8a1b-22c8-4182-9ff8-5d4d7cfb19fc",
   "metadata": {
    "ExecuteTime": {
     "end_time": "2023-08-26T11:48:02.433928Z",
     "start_time": "2023-08-26T11:48:02.424209Z"
    }
   },
   "outputs": [],
   "source": [
    "def era5_get_data_t850(c, dataset, variable_list, year, month):\n",
    "    # download the whole year data\n",
    "    try:\n",
    "        output_directory = create_folder(\n",
    "            country, data_folder, data_category, output_folder\n",
    "        )\n",
    "        output_filename = f\"era5_pressure_level_{year}_{month}_{pressure_level}.nc\"\n",
    "        output_filepath = os.path.join(output_directory, output_filename)\n",
    "        c.retrieve(\n",
    "            dataset,\n",
    "            {\n",
    "                \"product_type\": \"reanalysis\",\n",
    "                \"format\": \"netcdf\",\n",
    "                \"variable\":'temperature',\n",
    "                \"pressure_level\": '850',\n",
    "                \"year\": year,\n",
    "                \"month\": month,\n",
    "                \"day\": days_check(year, month),\n",
    "                \"time\": data_time,\n",
    "                \"area\": area_uk,\n",
    "            },\n",
    "            output_filepath,\n",
    "        )\n",
    "\n",
    "        print(f\"{output_filename} done!\")\n",
    "\n",
    "    except Exception as e:\n",
    "        print(f\"Error downloading {output_filename}: {e}\\n\")\n"
   ]
  },
  {
   "cell_type": "code",
   "execution_count": 39,
   "id": "e0615c48",
   "metadata": {
    "ExecuteTime": {
     "end_time": "2023-08-26T11:39:47.672332Z",
     "start_time": "2023-08-26T11:39:47.657908Z"
    }
   },
   "outputs": [],
   "source": [
    "# 44*12 =528"
   ]
  },
  {
   "cell_type": "code",
   "execution_count": 45,
   "id": "89674832-2f9a-4ac9-81a3-bf7f3c8d9f4a",
   "metadata": {
    "ExecuteTime": {
     "end_time": "2023-08-26T11:47:13.547748Z",
     "start_time": "2023-08-26T11:47:13.533714Z"
    }
   },
   "outputs": [],
   "source": [
    "def thread_function(year, month):\n",
    "    c = cdsapi.Client()  # Initialize client within the thread\n",
    "\n",
    "    start_time = time.time()  # Record start time\n",
    "    era5_get_data_t850(\n",
    "        c,\n",
    "        dataset,\n",
    "        variable_list,\n",
    "        year,\n",
    "        month,\n",
    "    )\n",
    "    end_time = time.time()  # Record end time\n",
    "    run_time = end_time - start_time\n",
    "    print(f\"Download time: {run_time:.3f} s\")\n"
   ]
  },
  {
   "cell_type": "code",
   "execution_count": 44,
   "id": "247b117e-e56e-4cf6-9701-6c188f45fdd8",
   "metadata": {
    "ExecuteTime": {
     "end_time": "2023-08-26T11:41:51.362023Z",
     "start_time": "2023-08-26T11:41:51.311558Z"
    },
    "code_folding": []
   },
   "outputs": [],
   "source": [
    "# Create a thread pool  # 8 threads\n",
    "with ThreadPoolExecutor(max_workers=2) as executor:\n",
    "    # iterate through the data_year and data month to be the most efficient\n",
    "    for i in data_year:\n",
    "        for k in data_month:\n",
    "            executor.submit(thread_function, i, k)"
   ]
  },
  {
   "cell_type": "code",
   "execution_count": 48,
   "id": "e206502d",
   "metadata": {
    "ExecuteTime": {
     "end_time": "2023-08-26T19:12:15.876911Z",
     "start_time": "2023-08-26T11:48:07.847604Z"
    },
    "scrolled": true
   },
   "outputs": [
    {
     "name": "stderr",
     "output_type": "stream",
     "text": [
      "2023-08-26 12:48:08,016 INFO Welcome to the CDS\n",
      "2023-08-26 12:48:08,016 INFO Sending request to https://cds.climate.copernicus.eu/api/v2/resources/reanalysis-era5-pressure-levels\n"
     ]
    },
    {
     "name": "stdout",
     "output_type": "stream",
     "text": [
      "Folder 'F:\\JuPyterNotebook\\data\\raw_data\\ERA5_DATA\\GB_ERA5_DATA' created successfully.\n"
     ]
    },
    {
     "name": "stderr",
     "output_type": "stream",
     "text": [
      "2023-08-26 12:48:08,087 INFO Request is queued\n",
      "2023-08-26 12:48:09,139 INFO Request is running\n",
      "2023-08-26 12:48:57,704 INFO Request is completed\n",
      "2023-08-26 12:48:57,706 INFO Downloading https://download-0003-clone.copernicus-climate.eu/cache-compute-0003/cache/data6/adaptor.mars.internal-1693050523.9571652-30807-11-9f2e4cee-f5dd-4cb7-bd14-d8cfa9322780.nc to F:\\JuPyterNotebook\\data\\raw_data\\ERA5_DATA\\GB_ERA5_DATA\\era5_pressure_level_1979_01_850.nc (1.7M)\n",
      "2023-08-26 12:48:58,194 INFO Download rate 3.6M/s                                                                      \n",
      "2023-08-26 12:48:58,280 INFO Welcome to the CDS\n",
      "2023-08-26 12:48:58,281 INFO Sending request to https://cds.climate.copernicus.eu/api/v2/resources/reanalysis-era5-pressure-levels\n",
      "2023-08-26 12:48:58,357 INFO Request is queued\n"
     ]
    },
    {
     "name": "stdout",
     "output_type": "stream",
     "text": [
      "era5_pressure_level_1979_01_850.nc done!\n",
      "Download time: 50.386 s\n",
      "Folder 'F:\\JuPyterNotebook\\data\\raw_data\\ERA5_DATA\\GB_ERA5_DATA' created successfully.\n"
     ]
    },
    {
     "name": "stderr",
     "output_type": "stream",
     "text": [
      "2023-08-26 12:48:59,398 INFO Request is running\n",
      "2023-08-26 12:49:47,979 INFO Request is completed\n",
      "2023-08-26 12:49:47,979 INFO Downloading https://download-0020.copernicus-climate.eu/cache-compute-0020/cache/data2/adaptor.mars.internal-1693050574.4731333-15978-19-7f221243-4610-42b1-919f-0423ea92b380.nc to F:\\JuPyterNotebook\\data\\raw_data\\ERA5_DATA\\GB_ERA5_DATA\\era5_pressure_level_1979_02_850.nc (1.6M)\n",
      "2023-08-26 12:49:48,475 INFO Download rate 3.2M/s                                                                      \n",
      "2023-08-26 12:49:48,558 INFO Welcome to the CDS\n",
      "2023-08-26 12:49:48,560 INFO Sending request to https://cds.climate.copernicus.eu/api/v2/resources/reanalysis-era5-pressure-levels\n",
      "2023-08-26 12:49:48,633 INFO Request is queued\n"
     ]
    },
    {
     "name": "stdout",
     "output_type": "stream",
     "text": [
      "era5_pressure_level_1979_02_850.nc done!\n",
      "Download time: 50.275 s\n",
      "Folder 'F:\\JuPyterNotebook\\data\\raw_data\\ERA5_DATA\\GB_ERA5_DATA' created successfully.\n"
     ]
    },
    {
     "name": "stderr",
     "output_type": "stream",
     "text": [
      "2023-08-26 12:49:49,664 INFO Request is running\n",
      "2023-08-26 12:50:38,253 INFO Request is completed\n",
      "2023-08-26 12:50:38,253 INFO Downloading https://download-0007-clone.copernicus-climate.eu/cache-compute-0007/cache/data1/adaptor.mars.internal-1693050629.1383498-10074-11-18b6c957-91e2-462d-a26e-48499c3ddcd5.nc to F:\\JuPyterNotebook\\data\\raw_data\\ERA5_DATA\\GB_ERA5_DATA\\era5_pressure_level_1979_03_850.nc (1.7M)\n",
      "2023-08-26 12:50:38,746 INFO Download rate 3.6M/s                                                                      \n",
      "2023-08-26 12:50:38,826 INFO Welcome to the CDS\n",
      "2023-08-26 12:50:38,826 INFO Sending request to https://cds.climate.copernicus.eu/api/v2/resources/reanalysis-era5-pressure-levels\n",
      "2023-08-26 12:50:38,905 INFO Request is queued\n"
     ]
    },
    {
     "name": "stdout",
     "output_type": "stream",
     "text": [
      "era5_pressure_level_1979_03_850.nc done!\n",
      "Download time: 50.273 s\n",
      "Folder 'F:\\JuPyterNotebook\\data\\raw_data\\ERA5_DATA\\GB_ERA5_DATA' created successfully.\n"
     ]
    },
    {
     "name": "stderr",
     "output_type": "stream",
     "text": [
      "2023-08-26 12:50:39,945 INFO Request is running\n",
      "2023-08-26 12:51:28,505 INFO Request is completed\n",
      "2023-08-26 12:51:28,521 INFO Downloading https://download-0020.copernicus-climate.eu/cache-compute-0020/cache/data2/adaptor.mars.internal-1693050675.1266081-20715-9-1731d991-dcae-4a4f-9c61-57fba7fc9277.nc to F:\\JuPyterNotebook\\data\\raw_data\\ERA5_DATA\\GB_ERA5_DATA\\era5_pressure_level_1979_04_850.nc (1.7M)\n",
      "2023-08-26 12:51:28,992 INFO Download rate 3.6M/s                                                                      \n",
      "2023-08-26 12:51:29,076 INFO Welcome to the CDS\n",
      "2023-08-26 12:51:29,076 INFO Sending request to https://cds.climate.copernicus.eu/api/v2/resources/reanalysis-era5-pressure-levels\n"
     ]
    },
    {
     "name": "stdout",
     "output_type": "stream",
     "text": [
      "era5_pressure_level_1979_04_850.nc done!\n",
      "Download time: 50.235 s\n",
      "Folder 'F:\\JuPyterNotebook\\data\\raw_data\\ERA5_DATA\\GB_ERA5_DATA' created successfully.\n"
     ]
    },
    {
     "name": "stderr",
     "output_type": "stream",
     "text": [
      "2023-08-26 12:51:29,235 INFO Request is queued\n",
      "2023-08-26 12:51:30,376 INFO Request is running\n",
      "2023-08-26 12:52:18,982 INFO Request is completed\n",
      "2023-08-26 12:52:18,982 INFO Downloading https://download-0003-clone.copernicus-climate.eu/cache-compute-0003/cache/data3/adaptor.mars.internal-1693050722.2742786-1053-2-e975bd31-92dc-47d7-a89f-ae7dad85de1f.nc to F:\\JuPyterNotebook\\data\\raw_data\\ERA5_DATA\\GB_ERA5_DATA\\era5_pressure_level_1979_05_850.nc (1.7M)\n",
      "2023-08-26 12:52:19,507 INFO Download rate 3.3M/s                                                                      \n",
      "2023-08-26 12:52:19,600 INFO Welcome to the CDS\n",
      "2023-08-26 12:52:19,600 INFO Sending request to https://cds.climate.copernicus.eu/api/v2/resources/reanalysis-era5-pressure-levels\n",
      "2023-08-26 12:52:19,641 INFO Request is queued\n"
     ]
    },
    {
     "name": "stdout",
     "output_type": "stream",
     "text": [
      "era5_pressure_level_1979_05_850.nc done!\n",
      "Download time: 50.521 s\n",
      "Folder 'F:\\JuPyterNotebook\\data\\raw_data\\ERA5_DATA\\GB_ERA5_DATA' created successfully.\n"
     ]
    },
    {
     "name": "stderr",
     "output_type": "stream",
     "text": [
      "2023-08-26 12:52:20,701 INFO Request is running\n",
      "2023-08-26 12:53:09,250 INFO Request is completed\n",
      "2023-08-26 12:53:09,250 INFO Downloading https://download-0004-clone.copernicus-climate.eu/cache-compute-0004/cache/data7/adaptor.mars.internal-1693050776.6265354-6492-7-7a96ac63-eca9-409c-b534-6b95242fa7e3.nc to F:\\JuPyterNotebook\\data\\raw_data\\ERA5_DATA\\GB_ERA5_DATA\\era5_pressure_level_1979_06_850.nc (1.7M)\n",
      "2023-08-26 12:53:09,827 INFO Download rate 3M/s                                                                        \n",
      "2023-08-26 12:53:09,899 INFO Welcome to the CDS\n",
      "2023-08-26 12:53:09,899 INFO Sending request to https://cds.climate.copernicus.eu/api/v2/resources/reanalysis-era5-pressure-levels\n",
      "2023-08-26 12:53:09,977 INFO Request is queued\n"
     ]
    },
    {
     "name": "stdout",
     "output_type": "stream",
     "text": [
      "era5_pressure_level_1979_06_850.nc done!\n",
      "Download time: 50.301 s\n",
      "Folder 'F:\\JuPyterNotebook\\data\\raw_data\\ERA5_DATA\\GB_ERA5_DATA' created successfully.\n"
     ]
    },
    {
     "name": "stderr",
     "output_type": "stream",
     "text": [
      "2023-08-26 12:53:11,021 INFO Request is running\n",
      "2023-08-26 12:53:59,577 INFO Request is completed\n",
      "2023-08-26 12:53:59,577 INFO Downloading https://download-0002-clone.copernicus-climate.eu/cache-compute-0002/cache/data7/adaptor.mars.internal-1693050827.993494-25597-7-75630a31-7cb0-486e-bac5-e2904f02b9a1.nc to F:\\JuPyterNotebook\\data\\raw_data\\ERA5_DATA\\GB_ERA5_DATA\\era5_pressure_level_1979_07_850.nc (1.7M)\n",
      "2023-08-26 12:54:00,191 INFO Download rate 2.8M/s                                                                      \n",
      "2023-08-26 12:54:00,270 INFO Welcome to the CDS\n",
      "2023-08-26 12:54:00,270 INFO Sending request to https://cds.climate.copernicus.eu/api/v2/resources/reanalysis-era5-pressure-levels\n",
      "2023-08-26 12:54:00,362 INFO Request is queued\n"
     ]
    },
    {
     "name": "stdout",
     "output_type": "stream",
     "text": [
      "era5_pressure_level_1979_07_850.nc done!\n",
      "Download time: 50.353 s\n",
      "Folder 'F:\\JuPyterNotebook\\data\\raw_data\\ERA5_DATA\\GB_ERA5_DATA' created successfully.\n"
     ]
    },
    {
     "name": "stderr",
     "output_type": "stream",
     "text": [
      "2023-08-26 12:54:01,402 INFO Request is running\n",
      "2023-08-26 12:54:49,958 INFO Request is completed\n",
      "2023-08-26 12:54:49,958 INFO Downloading https://download-0007-clone.copernicus-climate.eu/cache-compute-0007/cache/data9/adaptor.mars.internal-1693050878.616047-10902-18-bf2f1b4c-036c-4e5f-9968-4d494611c4ec.nc to F:\\JuPyterNotebook\\data\\raw_data\\ERA5_DATA\\GB_ERA5_DATA\\era5_pressure_level_1979_08_850.nc (1.7M)\n",
      "2023-08-26 12:54:50,427 INFO Download rate 3.7M/s                                                                      \n",
      "2023-08-26 12:54:50,521 INFO Welcome to the CDS\n",
      "2023-08-26 12:54:50,521 INFO Sending request to https://cds.climate.copernicus.eu/api/v2/resources/reanalysis-era5-pressure-levels\n",
      "2023-08-26 12:54:50,568 INFO Request is queued\n"
     ]
    },
    {
     "name": "stdout",
     "output_type": "stream",
     "text": [
      "era5_pressure_level_1979_08_850.nc done!\n",
      "Download time: 50.253 s\n",
      "Folder 'F:\\JuPyterNotebook\\data\\raw_data\\ERA5_DATA\\GB_ERA5_DATA' created successfully.\n"
     ]
    },
    {
     "name": "stderr",
     "output_type": "stream",
     "text": [
      "2023-08-26 12:54:51,613 INFO Request is running\n",
      "2023-08-26 12:55:40,136 INFO Request is completed\n",
      "2023-08-26 12:55:40,136 INFO Downloading https://download-0010-clone.copernicus-climate.eu/cache-compute-0010/cache/data9/adaptor.mars.internal-1693050923.857681-11750-15-b437b748-585a-4b76-a5f4-98cef7cb92c9.nc to F:\\JuPyterNotebook\\data\\raw_data\\ERA5_DATA\\GB_ERA5_DATA\\era5_pressure_level_1979_09_850.nc (1.7M)\n",
      "2023-08-26 12:55:40,682 INFO Download rate 3.2M/s                                                                      \n",
      "2023-08-26 12:55:40,762 INFO Welcome to the CDS\n",
      "2023-08-26 12:55:40,762 INFO Sending request to https://cds.climate.copernicus.eu/api/v2/resources/reanalysis-era5-pressure-levels\n"
     ]
    },
    {
     "name": "stdout",
     "output_type": "stream",
     "text": [
      "era5_pressure_level_1979_09_850.nc done!\n",
      "Download time: 50.241 s\n",
      "Folder 'F:\\JuPyterNotebook\\data\\raw_data\\ERA5_DATA\\GB_ERA5_DATA' created successfully.\n"
     ]
    },
    {
     "name": "stderr",
     "output_type": "stream",
     "text": [
      "2023-08-26 12:55:40,983 INFO Request is queued\n",
      "2023-08-26 12:55:42,026 INFO Request is running\n",
      "2023-08-26 12:56:56,236 INFO Request is completed\n",
      "2023-08-26 12:56:56,245 INFO Downloading https://download-0021.copernicus-climate.eu/cache-compute-0021/cache/data4/adaptor.mars.internal-1693050993.800854-15433-6-2487983a-9c55-4b61-8045-3a2938b2feaf.nc to F:\\JuPyterNotebook\\data\\raw_data\\ERA5_DATA\\GB_ERA5_DATA\\era5_pressure_level_1979_10_850.nc (1.7M)\n",
      "2023-08-26 12:56:56,756 INFO Download rate 3.4M/s                                                                      \n",
      "2023-08-26 12:56:56,853 INFO Welcome to the CDS\n",
      "2023-08-26 12:56:56,853 INFO Sending request to https://cds.climate.copernicus.eu/api/v2/resources/reanalysis-era5-pressure-levels\n",
      "2023-08-26 12:56:56,936 INFO Request is queued\n"
     ]
    },
    {
     "name": "stdout",
     "output_type": "stream",
     "text": [
      "era5_pressure_level_1979_10_850.nc done!\n",
      "Download time: 76.073 s\n",
      "Folder 'F:\\JuPyterNotebook\\data\\raw_data\\ERA5_DATA\\GB_ERA5_DATA' created successfully.\n"
     ]
    },
    {
     "name": "stderr",
     "output_type": "stream",
     "text": [
      "2023-08-26 12:56:57,977 INFO Request is running\n",
      "2023-08-26 12:57:46,524 INFO Request is completed\n",
      "2023-08-26 12:57:46,524 INFO Downloading https://download-0002-clone.copernicus-climate.eu/cache-compute-0002/cache/data7/adaptor.mars.internal-1693051052.8856235-30884-7-e6105279-a642-4c09-a22d-05f841beaab3.nc to F:\\JuPyterNotebook\\data\\raw_data\\ERA5_DATA\\GB_ERA5_DATA\\era5_pressure_level_1979_11_850.nc (1.7M)\n",
      "2023-08-26 12:57:46,988 INFO Download rate 3.6M/s                                                                      \n",
      "2023-08-26 12:57:47,069 INFO Welcome to the CDS\n",
      "2023-08-26 12:57:47,069 INFO Sending request to https://cds.climate.copernicus.eu/api/v2/resources/reanalysis-era5-pressure-levels\n",
      "2023-08-26 12:57:47,200 INFO Request is queued\n"
     ]
    },
    {
     "name": "stdout",
     "output_type": "stream",
     "text": [
      "era5_pressure_level_1979_11_850.nc done!\n",
      "Download time: 50.233 s\n",
      "Folder 'F:\\JuPyterNotebook\\data\\raw_data\\ERA5_DATA\\GB_ERA5_DATA' created successfully.\n"
     ]
    },
    {
     "name": "stderr",
     "output_type": "stream",
     "text": [
      "2023-08-26 12:57:48,255 INFO Request is running\n",
      "2023-08-26 12:58:36,806 INFO Request is completed\n",
      "2023-08-26 12:58:36,806 INFO Downloading https://download-0012-clone.copernicus-climate.eu/cache-compute-0012/cache/data6/adaptor.mars.internal-1693051103.7560768-11321-18-1018e7ca-3f6f-47eb-9e0c-31a221226c9c.nc to F:\\JuPyterNotebook\\data\\raw_data\\ERA5_DATA\\GB_ERA5_DATA\\era5_pressure_level_1979_12_850.nc (1.7M)\n",
      "2023-08-26 12:58:37,349 INFO Download rate 3.2M/s                                                                      \n",
      "2023-08-26 12:58:37,431 INFO Welcome to the CDS\n",
      "2023-08-26 12:58:37,431 INFO Sending request to https://cds.climate.copernicus.eu/api/v2/resources/reanalysis-era5-pressure-levels\n",
      "2023-08-26 12:58:37,522 INFO Request is queued\n"
     ]
    },
    {
     "name": "stdout",
     "output_type": "stream",
     "text": [
      "era5_pressure_level_1979_12_850.nc done!\n",
      "Download time: 50.347 s\n",
      "Folder 'F:\\JuPyterNotebook\\data\\raw_data\\ERA5_DATA\\GB_ERA5_DATA' created successfully.\n"
     ]
    },
    {
     "name": "stderr",
     "output_type": "stream",
     "text": [
      "2023-08-26 12:58:38,571 INFO Request is running\n",
      "2023-08-26 12:59:27,123 INFO Request is completed\n",
      "2023-08-26 12:59:27,139 INFO Downloading https://download-0006-clone.copernicus-climate.eu/cache-compute-0006/cache/data6/adaptor.mars.internal-1693051153.454276-7087-20-683f9b2f-99e9-4612-884f-193d9f73f0bf.nc to F:\\JuPyterNotebook\\data\\raw_data\\ERA5_DATA\\GB_ERA5_DATA\\era5_pressure_level_1980_01_850.nc (1.7M)\n",
      "2023-08-26 12:59:27,601 INFO Download rate 3.8M/s                                                                      \n",
      "2023-08-26 12:59:27,697 INFO Welcome to the CDS\n",
      "2023-08-26 12:59:27,697 INFO Sending request to https://cds.climate.copernicus.eu/api/v2/resources/reanalysis-era5-pressure-levels\n",
      "2023-08-26 12:59:27,798 INFO Request is queued\n"
     ]
    },
    {
     "name": "stdout",
     "output_type": "stream",
     "text": [
      "era5_pressure_level_1980_01_850.nc done!\n",
      "Download time: 50.266 s\n",
      "Folder 'F:\\JuPyterNotebook\\data\\raw_data\\ERA5_DATA\\GB_ERA5_DATA' created successfully.\n"
     ]
    },
    {
     "name": "stderr",
     "output_type": "stream",
     "text": [
      "2023-08-26 12:59:28,845 INFO Request is running\n",
      "2023-08-26 13:00:17,409 INFO Request is completed\n",
      "2023-08-26 13:00:17,409 INFO Downloading https://download-0017.copernicus-climate.eu/cache-compute-0017/cache/data7/adaptor.mars.internal-1693051201.4929147-28206-3-23bed95e-f338-4cb9-9dba-0a7a22fde524.nc to F:\\JuPyterNotebook\\data\\raw_data\\ERA5_DATA\\GB_ERA5_DATA\\era5_pressure_level_1980_02_850.nc (1.6M)\n",
      "2023-08-26 13:00:17,857 INFO Download rate 3.6M/s                                                                      \n",
      "2023-08-26 13:00:17,945 INFO Welcome to the CDS\n",
      "2023-08-26 13:00:17,945 INFO Sending request to https://cds.climate.copernicus.eu/api/v2/resources/reanalysis-era5-pressure-levels\n",
      "2023-08-26 13:00:18,040 INFO Request is queued\n"
     ]
    },
    {
     "name": "stdout",
     "output_type": "stream",
     "text": [
      "era5_pressure_level_1980_02_850.nc done!\n",
      "Download time: 50.264 s\n",
      "Folder 'F:\\JuPyterNotebook\\data\\raw_data\\ERA5_DATA\\GB_ERA5_DATA' created successfully.\n"
     ]
    },
    {
     "name": "stderr",
     "output_type": "stream",
     "text": [
      "2023-08-26 13:00:19,083 INFO Request is running\n",
      "2023-08-26 13:01:07,640 INFO Request is completed\n",
      "2023-08-26 13:01:07,642 INFO Downloading https://download-0009-clone.copernicus-climate.eu/cache-compute-0009/cache/data0/adaptor.mars.internal-1693051257.362499-7004-9-9ab38dcb-57e3-43e5-85ca-19b297acf045.nc to F:\\JuPyterNotebook\\data\\raw_data\\ERA5_DATA\\GB_ERA5_DATA\\era5_pressure_level_1980_03_850.nc (1.7M)\n",
      "2023-08-26 13:01:08,120 INFO Download rate 3.6M/s                                                                      \n",
      "2023-08-26 13:01:08,217 INFO Welcome to the CDS\n",
      "2023-08-26 13:01:08,218 INFO Sending request to https://cds.climate.copernicus.eu/api/v2/resources/reanalysis-era5-pressure-levels\n",
      "2023-08-26 13:01:08,320 INFO Request is queued\n"
     ]
    },
    {
     "name": "stdout",
     "output_type": "stream",
     "text": [
      "era5_pressure_level_1980_03_850.nc done!\n",
      "Download time: 50.264 s\n",
      "Folder 'F:\\JuPyterNotebook\\data\\raw_data\\ERA5_DATA\\GB_ERA5_DATA' created successfully.\n"
     ]
    },
    {
     "name": "stderr",
     "output_type": "stream",
     "text": [
      "2023-08-26 13:01:09,361 INFO Request is running\n",
      "2023-08-26 13:01:57,920 INFO Request is completed\n",
      "2023-08-26 13:01:57,920 INFO Downloading https://download-0011-clone.copernicus-climate.eu/cache-compute-0011/cache/data4/adaptor.mars.internal-1693051306.2777169-11453-5-a9f00355-f118-45c8-8a03-899aa0bff0d3.nc to F:\\JuPyterNotebook\\data\\raw_data\\ERA5_DATA\\GB_ERA5_DATA\\era5_pressure_level_1980_04_850.nc (1.7M)\n",
      "2023-08-26 13:01:58,376 INFO Download rate 3.7M/s                                                                      \n",
      "2023-08-26 13:01:58,468 INFO Welcome to the CDS\n",
      "2023-08-26 13:01:58,468 INFO Sending request to https://cds.climate.copernicus.eu/api/v2/resources/reanalysis-era5-pressure-levels\n",
      "2023-08-26 13:01:58,527 INFO Request is queued\n"
     ]
    },
    {
     "name": "stdout",
     "output_type": "stream",
     "text": [
      "era5_pressure_level_1980_04_850.nc done!\n",
      "Download time: 50.240 s\n",
      "Folder 'F:\\JuPyterNotebook\\data\\raw_data\\ERA5_DATA\\GB_ERA5_DATA' created successfully.\n"
     ]
    },
    {
     "name": "stderr",
     "output_type": "stream",
     "text": [
      "2023-08-26 13:01:59,559 INFO Request is running\n",
      "2023-08-26 13:02:48,065 INFO Request is completed\n",
      "2023-08-26 13:02:48,065 INFO Downloading https://download-0017.copernicus-climate.eu/cache-compute-0017/cache/data4/adaptor.mars.internal-1693051359.4361548-13955-18-834108a4-729b-4e7b-81c3-de3941650b91.nc to F:\\JuPyterNotebook\\data\\raw_data\\ERA5_DATA\\GB_ERA5_DATA\\era5_pressure_level_1980_05_850.nc (1.7M)\n",
      "2023-08-26 13:02:48,552 INFO Download rate 3.6M/s                                                                      \n",
      "2023-08-26 13:02:48,639 INFO Welcome to the CDS\n",
      "2023-08-26 13:02:48,639 INFO Sending request to https://cds.climate.copernicus.eu/api/v2/resources/reanalysis-era5-pressure-levels\n",
      "2023-08-26 13:02:48,696 INFO Request is queued\n"
     ]
    },
    {
     "name": "stdout",
     "output_type": "stream",
     "text": [
      "era5_pressure_level_1980_05_850.nc done!\n",
      "Download time: 50.170 s\n",
      "Folder 'F:\\JuPyterNotebook\\data\\raw_data\\ERA5_DATA\\GB_ERA5_DATA' created successfully.\n"
     ]
    },
    {
     "name": "stderr",
     "output_type": "stream",
     "text": [
      "2023-08-26 13:02:49,758 INFO Request is running\n",
      "2023-08-26 13:03:38,314 INFO Request is completed\n",
      "2023-08-26 13:03:38,314 INFO Downloading https://download-0015-clone.copernicus-climate.eu/cache-compute-0015/cache/data2/adaptor.mars.internal-1693051405.8272116-29888-5-dc86bcc6-ab1f-467f-a6f5-e5d052223b6f.nc to F:\\JuPyterNotebook\\data\\raw_data\\ERA5_DATA\\GB_ERA5_DATA\\era5_pressure_level_1980_06_850.nc (1.7M)\n",
      "2023-08-26 13:03:38,813 INFO Download rate 3.4M/s                                                                      \n",
      "2023-08-26 13:03:38,904 INFO Welcome to the CDS\n",
      "2023-08-26 13:03:38,904 INFO Sending request to https://cds.climate.copernicus.eu/api/v2/resources/reanalysis-era5-pressure-levels\n"
     ]
    },
    {
     "name": "stdout",
     "output_type": "stream",
     "text": [
      "era5_pressure_level_1980_06_850.nc done!\n",
      "Download time: 50.267 s\n",
      "Folder 'F:\\JuPyterNotebook\\data\\raw_data\\ERA5_DATA\\GB_ERA5_DATA' created successfully.\n"
     ]
    },
    {
     "name": "stderr",
     "output_type": "stream",
     "text": [
      "2023-08-26 13:03:39,135 INFO Request is queued\n",
      "2023-08-26 13:03:40,185 INFO Request is running\n",
      "2023-08-26 13:04:28,718 INFO Request is completed\n",
      "2023-08-26 13:04:28,718 INFO Downloading https://download-0020.copernicus-climate.eu/cache-compute-0020/cache/data2/adaptor.mars.internal-1693051457.4269965-23576-9-beec5e22-b677-46ec-8728-8a8215456c98.nc to F:\\JuPyterNotebook\\data\\raw_data\\ERA5_DATA\\GB_ERA5_DATA\\era5_pressure_level_1980_07_850.nc (1.7M)\n",
      "2023-08-26 13:04:29,253 INFO Download rate 3.2M/s                                                                      \n",
      "2023-08-26 13:04:29,359 INFO Welcome to the CDS\n",
      "2023-08-26 13:04:29,368 INFO Sending request to https://cds.climate.copernicus.eu/api/v2/resources/reanalysis-era5-pressure-levels\n",
      "2023-08-26 13:04:29,446 INFO Request is queued\n"
     ]
    },
    {
     "name": "stdout",
     "output_type": "stream",
     "text": [
      "era5_pressure_level_1980_07_850.nc done!\n",
      "Download time: 50.411 s\n",
      "Folder 'F:\\JuPyterNotebook\\data\\raw_data\\ERA5_DATA\\GB_ERA5_DATA' created successfully.\n"
     ]
    },
    {
     "name": "stderr",
     "output_type": "stream",
     "text": [
      "2023-08-26 13:04:30,489 INFO Request is running\n",
      "2023-08-26 13:05:19,012 INFO Request is completed\n",
      "2023-08-26 13:05:19,012 INFO Downloading https://download-0017.copernicus-climate.eu/cache-compute-0017/cache/data1/adaptor.mars.internal-1693051505.8082778-26220-17-50a4f8a1-4fcd-4bdc-93e3-45a4e24a9432.nc to F:\\JuPyterNotebook\\data\\raw_data\\ERA5_DATA\\GB_ERA5_DATA\\era5_pressure_level_1980_08_850.nc (1.7M)\n",
      "2023-08-26 13:05:19,497 INFO Download rate 3.6M/s                                                                      \n",
      "2023-08-26 13:05:19,578 INFO Welcome to the CDS\n",
      "2023-08-26 13:05:19,578 INFO Sending request to https://cds.climate.copernicus.eu/api/v2/resources/reanalysis-era5-pressure-levels\n",
      "2023-08-26 13:05:19,627 INFO Request is queued\n"
     ]
    },
    {
     "name": "stdout",
     "output_type": "stream",
     "text": [
      "era5_pressure_level_1980_08_850.nc done!\n",
      "Download time: 50.262 s\n",
      "Folder 'F:\\JuPyterNotebook\\data\\raw_data\\ERA5_DATA\\GB_ERA5_DATA' created successfully.\n"
     ]
    },
    {
     "name": "stderr",
     "output_type": "stream",
     "text": [
      "2023-08-26 13:05:20,663 INFO Request is running\n",
      "2023-08-26 13:06:09,235 INFO Request is completed\n",
      "2023-08-26 13:06:09,235 INFO Downloading https://download-0001-clone.copernicus-climate.eu/cache-compute-0001/cache/data2/adaptor.mars.internal-1693051552.5176682-31155-10-9750da23-078e-404c-9d9b-fd7d5a129730.nc to F:\\JuPyterNotebook\\data\\raw_data\\ERA5_DATA\\GB_ERA5_DATA\\era5_pressure_level_1980_09_850.nc (1.7M)\n",
      "2023-08-26 13:06:09,692 INFO Download rate 3.7M/s                                                                      \n",
      "2023-08-26 13:06:09,782 INFO Welcome to the CDS\n",
      "2023-08-26 13:06:09,782 INFO Sending request to https://cds.climate.copernicus.eu/api/v2/resources/reanalysis-era5-pressure-levels\n",
      "2023-08-26 13:06:09,875 INFO Request is queued\n"
     ]
    },
    {
     "name": "stdout",
     "output_type": "stream",
     "text": [
      "era5_pressure_level_1980_09_850.nc done!\n",
      "Download time: 50.188 s\n",
      "Folder 'F:\\JuPyterNotebook\\data\\raw_data\\ERA5_DATA\\GB_ERA5_DATA' created successfully.\n"
     ]
    },
    {
     "name": "stderr",
     "output_type": "stream",
     "text": [
      "2023-08-26 13:06:10,910 INFO Request is running\n",
      "2023-08-26 13:06:59,466 INFO Request is completed\n",
      "2023-08-26 13:06:59,467 INFO Downloading https://download-0008-clone.copernicus-climate.eu/cache-compute-0008/cache/data4/adaptor.mars.internal-1693051608.049317-30349-13-9bb28755-7f78-4552-879a-f1a7abce0824.nc to F:\\JuPyterNotebook\\data\\raw_data\\ERA5_DATA\\GB_ERA5_DATA\\era5_pressure_level_1980_10_850.nc (1.7M)\n",
      "2023-08-26 13:06:59,972 INFO Download rate 3.4M/s                                                                      \n",
      "2023-08-26 13:07:00,045 INFO Welcome to the CDS\n",
      "2023-08-26 13:07:00,062 INFO Sending request to https://cds.climate.copernicus.eu/api/v2/resources/reanalysis-era5-pressure-levels\n",
      "2023-08-26 13:07:00,100 INFO Request is queued\n"
     ]
    },
    {
     "name": "stdout",
     "output_type": "stream",
     "text": [
      "era5_pressure_level_1980_10_850.nc done!\n",
      "Download time: 50.279 s\n",
      "Folder 'F:\\JuPyterNotebook\\data\\raw_data\\ERA5_DATA\\GB_ERA5_DATA' created successfully.\n"
     ]
    },
    {
     "name": "stderr",
     "output_type": "stream",
     "text": [
      "2023-08-26 13:07:01,142 INFO Request is running\n",
      "2023-08-26 13:07:49,684 INFO Request is completed\n",
      "2023-08-26 13:07:49,684 INFO Downloading https://download-0007-clone.copernicus-climate.eu/cache-compute-0007/cache/data8/adaptor.mars.internal-1693051656.172313-16503-4-8e5bc065-ce72-4361-be37-f7e7a7ee8f92.nc to F:\\JuPyterNotebook\\data\\raw_data\\ERA5_DATA\\GB_ERA5_DATA\\era5_pressure_level_1980_11_850.nc (1.7M)\n",
      "2023-08-26 13:07:50,222 INFO Download rate 3.1M/s                                                                      \n",
      "2023-08-26 13:07:50,297 INFO Welcome to the CDS\n",
      "2023-08-26 13:07:50,297 INFO Sending request to https://cds.climate.copernicus.eu/api/v2/resources/reanalysis-era5-pressure-levels\n",
      "2023-08-26 13:07:50,391 INFO Request is queued\n"
     ]
    },
    {
     "name": "stdout",
     "output_type": "stream",
     "text": [
      "era5_pressure_level_1980_11_850.nc done!\n",
      "Download time: 50.235 s\n",
      "Folder 'F:\\JuPyterNotebook\\data\\raw_data\\ERA5_DATA\\GB_ERA5_DATA' created successfully.\n"
     ]
    },
    {
     "name": "stderr",
     "output_type": "stream",
     "text": [
      "2023-08-26 13:07:51,437 INFO Request is running\n",
      "2023-08-26 13:08:39,990 INFO Request is completed\n",
      "2023-08-26 13:08:39,990 INFO Downloading https://download-0015-clone.copernicus-climate.eu/cache-compute-0015/cache/data1/adaptor.mars.internal-1693051713.9840612-27998-15-beab134d-db54-4e77-921d-1834c6433373.nc to F:\\JuPyterNotebook\\data\\raw_data\\ERA5_DATA\\GB_ERA5_DATA\\era5_pressure_level_1980_12_850.nc (1.7M)\n",
      "2023-08-26 13:08:40,512 INFO Download rate 3.3M/s                                                                      \n",
      "2023-08-26 13:08:40,594 INFO Welcome to the CDS\n",
      "2023-08-26 13:08:40,594 INFO Sending request to https://cds.climate.copernicus.eu/api/v2/resources/reanalysis-era5-pressure-levels\n",
      "2023-08-26 13:08:40,669 INFO Request is queued\n"
     ]
    },
    {
     "name": "stdout",
     "output_type": "stream",
     "text": [
      "era5_pressure_level_1980_12_850.nc done!\n",
      "Download time: 50.296 s\n",
      "Folder 'F:\\JuPyterNotebook\\data\\raw_data\\ERA5_DATA\\GB_ERA5_DATA' created successfully.\n"
     ]
    },
    {
     "name": "stderr",
     "output_type": "stream",
     "text": [
      "2023-08-26 13:08:41,717 INFO Request is running\n",
      "2023-08-26 13:09:30,343 INFO Request is completed\n",
      "2023-08-26 13:09:30,343 INFO Downloading https://download-0021.copernicus-climate.eu/cache-compute-0021/cache/data8/adaptor.mars.internal-1693051759.656575-24291-5-53c92a1c-cee5-4070-bed3-18c28741efd4.nc to F:\\JuPyterNotebook\\data\\raw_data\\ERA5_DATA\\GB_ERA5_DATA\\era5_pressure_level_1981_01_850.nc (1.7M)\n",
      "2023-08-26 13:09:30,872 INFO Download rate 3.3M/s                                                                      \n",
      "2023-08-26 13:09:30,940 INFO Welcome to the CDS\n",
      "2023-08-26 13:09:30,940 INFO Sending request to https://cds.climate.copernicus.eu/api/v2/resources/reanalysis-era5-pressure-levels\n",
      "2023-08-26 13:09:31,013 INFO Request is queued\n"
     ]
    },
    {
     "name": "stdout",
     "output_type": "stream",
     "text": [
      "era5_pressure_level_1981_01_850.nc done!\n",
      "Download time: 50.347 s\n",
      "Folder 'F:\\JuPyterNotebook\\data\\raw_data\\ERA5_DATA\\GB_ERA5_DATA' created successfully.\n"
     ]
    },
    {
     "name": "stderr",
     "output_type": "stream",
     "text": [
      "2023-08-26 13:09:32,065 INFO Request is running\n",
      "2023-08-26 13:10:20,664 INFO Request is completed\n",
      "2023-08-26 13:10:20,664 INFO Downloading https://download-0003-clone.copernicus-climate.eu/cache-compute-0003/cache/data2/adaptor.mars.internal-1693051809.7623293-2718-13-b1377515-4db5-4fb5-b69e-90fff4fac740.nc to F:\\JuPyterNotebook\\data\\raw_data\\ERA5_DATA\\GB_ERA5_DATA\\era5_pressure_level_1981_02_850.nc (1.6M)\n",
      "2023-08-26 13:10:21,340 INFO Download rate 2.3M/s                                                                      \n",
      "2023-08-26 13:10:21,420 INFO Welcome to the CDS\n",
      "2023-08-26 13:10:21,420 INFO Sending request to https://cds.climate.copernicus.eu/api/v2/resources/reanalysis-era5-pressure-levels\n",
      "2023-08-26 13:10:21,495 INFO Request is queued\n"
     ]
    },
    {
     "name": "stdout",
     "output_type": "stream",
     "text": [
      "era5_pressure_level_1981_02_850.nc done!\n",
      "Download time: 50.466 s\n",
      "Folder 'F:\\JuPyterNotebook\\data\\raw_data\\ERA5_DATA\\GB_ERA5_DATA' created successfully.\n"
     ]
    },
    {
     "name": "stderr",
     "output_type": "stream",
     "text": [
      "2023-08-26 13:10:22,538 INFO Request is running\n",
      "2023-08-26 13:11:11,075 INFO Request is completed\n",
      "2023-08-26 13:11:11,075 INFO Downloading https://download-0007-clone.copernicus-climate.eu/cache-compute-0007/cache/data1/adaptor.mars.internal-1693051867.318058-15400-14-18fb138e-66b2-4a78-b384-6a44336fc7b7.nc to F:\\JuPyterNotebook\\data\\raw_data\\ERA5_DATA\\GB_ERA5_DATA\\era5_pressure_level_1981_03_850.nc (1.7M)\n",
      "2023-08-26 13:11:11,586 INFO Download rate 3.4M/s                                                                      \n",
      "2023-08-26 13:11:11,673 INFO Welcome to the CDS\n",
      "2023-08-26 13:11:11,673 INFO Sending request to https://cds.climate.copernicus.eu/api/v2/resources/reanalysis-era5-pressure-levels\n",
      "2023-08-26 13:11:11,745 INFO Request is queued\n"
     ]
    },
    {
     "name": "stdout",
     "output_type": "stream",
     "text": [
      "era5_pressure_level_1981_03_850.nc done!\n",
      "Download time: 50.253 s\n",
      "Folder 'F:\\JuPyterNotebook\\data\\raw_data\\ERA5_DATA\\GB_ERA5_DATA' created successfully.\n"
     ]
    },
    {
     "name": "stderr",
     "output_type": "stream",
     "text": [
      "2023-08-26 13:11:12,923 INFO Request is running\n",
      "2023-08-26 13:12:01,500 INFO Request is completed\n",
      "2023-08-26 13:12:01,500 INFO Downloading https://download-0004-clone.copernicus-climate.eu/cache-compute-0004/cache/data6/adaptor.mars.internal-1693051914.8199968-19376-1-5e369a6e-1f50-4d96-a8b1-54ed872efbe0.nc to F:\\JuPyterNotebook\\data\\raw_data\\ERA5_DATA\\GB_ERA5_DATA\\era5_pressure_level_1981_04_850.nc (1.7M)\n",
      "2023-08-26 13:12:01,982 INFO Download rate 3.5M/s                                                                      \n",
      "2023-08-26 13:12:02,058 INFO Welcome to the CDS\n",
      "2023-08-26 13:12:02,062 INFO Sending request to https://cds.climate.copernicus.eu/api/v2/resources/reanalysis-era5-pressure-levels\n",
      "2023-08-26 13:12:02,111 INFO Request is queued\n"
     ]
    },
    {
     "name": "stdout",
     "output_type": "stream",
     "text": [
      "era5_pressure_level_1981_04_850.nc done!\n",
      "Download time: 50.397 s\n",
      "Folder 'F:\\JuPyterNotebook\\data\\raw_data\\ERA5_DATA\\GB_ERA5_DATA' created successfully.\n"
     ]
    },
    {
     "name": "stderr",
     "output_type": "stream",
     "text": [
      "2023-08-26 13:12:03,164 INFO Request is running\n",
      "2023-08-26 13:12:51,772 INFO Request is completed\n",
      "2023-08-26 13:12:51,776 INFO Downloading https://download-0009-clone.copernicus-climate.eu/cache-compute-0009/cache/data8/adaptor.mars.internal-1693051961.5597074-9329-14-3e11293b-2186-4c4b-a755-828e75b5a014.nc to F:\\JuPyterNotebook\\data\\raw_data\\ERA5_DATA\\GB_ERA5_DATA\\era5_pressure_level_1981_05_850.nc (1.7M)\n",
      "2023-08-26 13:12:52,287 INFO Download rate 3.4M/s                                                                      \n",
      "2023-08-26 13:12:52,368 INFO Welcome to the CDS\n",
      "2023-08-26 13:12:52,372 INFO Sending request to https://cds.climate.copernicus.eu/api/v2/resources/reanalysis-era5-pressure-levels\n",
      "2023-08-26 13:12:52,470 INFO Request is queued\n"
     ]
    },
    {
     "name": "stdout",
     "output_type": "stream",
     "text": [
      "era5_pressure_level_1981_05_850.nc done!\n",
      "Download time: 50.306 s\n",
      "Folder 'F:\\JuPyterNotebook\\data\\raw_data\\ERA5_DATA\\GB_ERA5_DATA' created successfully.\n"
     ]
    },
    {
     "name": "stderr",
     "output_type": "stream",
     "text": [
      "2023-08-26 13:12:53,515 INFO Request is running\n",
      "2023-08-26 13:13:42,127 INFO Request is completed\n",
      "2023-08-26 13:13:42,127 INFO Downloading https://download-0014-clone.copernicus-climate.eu/cache-compute-0014/cache/data4/adaptor.mars.internal-1693052009.7249548-22965-3-f133c76b-546f-4e07-8802-df514cf0cdcc.nc to F:\\JuPyterNotebook\\data\\raw_data\\ERA5_DATA\\GB_ERA5_DATA\\era5_pressure_level_1981_06_850.nc (1.7M)\n",
      "2023-08-26 13:13:42,652 INFO Download rate 3.2M/s                                                                      \n",
      "2023-08-26 13:13:42,727 INFO Welcome to the CDS\n",
      "2023-08-26 13:13:42,730 INFO Sending request to https://cds.climate.copernicus.eu/api/v2/resources/reanalysis-era5-pressure-levels\n",
      "2023-08-26 13:13:42,842 INFO Request is queued\n"
     ]
    },
    {
     "name": "stdout",
     "output_type": "stream",
     "text": [
      "era5_pressure_level_1981_06_850.nc done!\n",
      "Download time: 50.358 s\n",
      "Folder 'F:\\JuPyterNotebook\\data\\raw_data\\ERA5_DATA\\GB_ERA5_DATA' created successfully.\n"
     ]
    },
    {
     "name": "stderr",
     "output_type": "stream",
     "text": [
      "2023-08-26 13:13:43,898 INFO Request is running\n",
      "2023-08-26 13:14:32,573 INFO Request is completed\n",
      "2023-08-26 13:14:32,577 INFO Downloading https://download-0015-clone.copernicus-climate.eu/cache-compute-0015/cache/data9/adaptor.mars.internal-1693052059.4334316-5259-9-e6867e63-2b5a-42b6-99e1-9153fcb8007b.nc to F:\\JuPyterNotebook\\data\\raw_data\\ERA5_DATA\\GB_ERA5_DATA\\era5_pressure_level_1981_07_850.nc (1.7M)\n",
      "2023-08-26 13:14:33,145 INFO Download rate 3.1M/s                                                                      \n",
      "2023-08-26 13:14:33,220 INFO Welcome to the CDS\n",
      "2023-08-26 13:14:33,224 INFO Sending request to https://cds.climate.copernicus.eu/api/v2/resources/reanalysis-era5-pressure-levels\n",
      "2023-08-26 13:14:33,269 INFO Request is queued\n"
     ]
    },
    {
     "name": "stdout",
     "output_type": "stream",
     "text": [
      "era5_pressure_level_1981_07_850.nc done!\n",
      "Download time: 50.496 s\n",
      "Folder 'F:\\JuPyterNotebook\\data\\raw_data\\ERA5_DATA\\GB_ERA5_DATA' created successfully.\n"
     ]
    },
    {
     "name": "stderr",
     "output_type": "stream",
     "text": [
      "2023-08-26 13:14:34,328 INFO Request is running\n",
      "2023-08-26 13:15:22,913 INFO Request is completed\n",
      "2023-08-26 13:15:22,917 INFO Downloading https://download-0002-clone.copernicus-climate.eu/cache-compute-0002/cache/data5/adaptor.mars.internal-1693052111.6647499-26730-2-345679c7-c5df-4ffd-af3b-06675f88e8a1.nc to F:\\JuPyterNotebook\\data\\raw_data\\ERA5_DATA\\GB_ERA5_DATA\\era5_pressure_level_1981_08_850.nc (1.7M)\n",
      "2023-08-26 13:15:23,440 INFO Download rate 3.3M/s                                                                      \n",
      "2023-08-26 13:15:23,519 INFO Welcome to the CDS\n",
      "2023-08-26 13:15:23,520 INFO Sending request to https://cds.climate.copernicus.eu/api/v2/resources/reanalysis-era5-pressure-levels\n",
      "2023-08-26 13:15:23,636 INFO Request is queued\n"
     ]
    },
    {
     "name": "stdout",
     "output_type": "stream",
     "text": [
      "era5_pressure_level_1981_08_850.nc done!\n",
      "Download time: 50.295 s\n",
      "Folder 'F:\\JuPyterNotebook\\data\\raw_data\\ERA5_DATA\\GB_ERA5_DATA' created successfully.\n"
     ]
    },
    {
     "name": "stderr",
     "output_type": "stream",
     "text": [
      "2023-08-26 13:15:24,684 INFO Request is running\n",
      "2023-08-26 13:16:13,264 INFO Request is completed\n",
      "2023-08-26 13:16:13,269 INFO Downloading https://download-0016.copernicus-climate.eu/cache-compute-0016/cache/data1/adaptor.mars.internal-1693052158.3618379-32248-11-057c230d-0eb1-4a38-a5f1-b108dfdbc6e8.nc to F:\\JuPyterNotebook\\data\\raw_data\\ERA5_DATA\\GB_ERA5_DATA\\era5_pressure_level_1981_09_850.nc (1.7M)\n",
      "2023-08-26 13:16:13,783 INFO Download rate 3.3M/s                                                                      \n",
      "2023-08-26 13:16:13,864 INFO Welcome to the CDS\n",
      "2023-08-26 13:16:13,864 INFO Sending request to https://cds.climate.copernicus.eu/api/v2/resources/reanalysis-era5-pressure-levels\n",
      "2023-08-26 13:16:13,910 INFO Request is queued\n"
     ]
    },
    {
     "name": "stdout",
     "output_type": "stream",
     "text": [
      "era5_pressure_level_1981_09_850.nc done!\n",
      "Download time: 50.345 s\n",
      "Folder 'F:\\JuPyterNotebook\\data\\raw_data\\ERA5_DATA\\GB_ERA5_DATA' created successfully.\n"
     ]
    },
    {
     "name": "stderr",
     "output_type": "stream",
     "text": [
      "2023-08-26 13:16:14,969 INFO Request is running\n",
      "2023-08-26 13:17:03,560 INFO Request is completed\n",
      "2023-08-26 13:17:03,566 INFO Downloading https://download-0003-clone.copernicus-climate.eu/cache-compute-0003/cache/data6/adaptor.mars.internal-1693052211.66156-12702-6-0804badf-5c19-4626-ac63-0c9e6c465ef4.nc to F:\\JuPyterNotebook\\data\\raw_data\\ERA5_DATA\\GB_ERA5_DATA\\era5_pressure_level_1981_10_850.nc (1.7M)\n",
      "2023-08-26 13:17:04,072 INFO Download rate 3.4M/s                                                                      \n",
      "2023-08-26 13:17:04,149 INFO Welcome to the CDS\n",
      "2023-08-26 13:17:04,152 INFO Sending request to https://cds.climate.copernicus.eu/api/v2/resources/reanalysis-era5-pressure-levels\n",
      "2023-08-26 13:17:04,195 INFO Request is queued\n"
     ]
    },
    {
     "name": "stdout",
     "output_type": "stream",
     "text": [
      "era5_pressure_level_1981_10_850.nc done!\n",
      "Download time: 50.287 s\n",
      "Folder 'F:\\JuPyterNotebook\\data\\raw_data\\ERA5_DATA\\GB_ERA5_DATA' created successfully.\n"
     ]
    },
    {
     "name": "stderr",
     "output_type": "stream",
     "text": [
      "2023-08-26 13:17:05,250 INFO Request is running\n",
      "2023-08-26 13:17:53,824 INFO Request is completed\n",
      "2023-08-26 13:17:53,824 INFO Downloading https://download-0015-clone.copernicus-climate.eu/cache-compute-0015/cache/data8/adaptor.mars.internal-1693052260.8547232-7814-4-bc5f94d8-efad-4326-8c59-b6ac800566c7.nc to F:\\JuPyterNotebook\\data\\raw_data\\ERA5_DATA\\GB_ERA5_DATA\\era5_pressure_level_1981_11_850.nc (1.7M)\n",
      "2023-08-26 13:17:54,317 INFO Download rate 3.4M/s                                                                      \n",
      "2023-08-26 13:17:54,395 INFO Welcome to the CDS\n",
      "2023-08-26 13:17:54,399 INFO Sending request to https://cds.climate.copernicus.eu/api/v2/resources/reanalysis-era5-pressure-levels\n",
      "2023-08-26 13:17:54,482 INFO Request is queued\n"
     ]
    },
    {
     "name": "stdout",
     "output_type": "stream",
     "text": [
      "era5_pressure_level_1981_11_850.nc done!\n",
      "Download time: 50.245 s\n",
      "Folder 'F:\\JuPyterNotebook\\data\\raw_data\\ERA5_DATA\\GB_ERA5_DATA' created successfully.\n"
     ]
    },
    {
     "name": "stderr",
     "output_type": "stream",
     "text": [
      "2023-08-26 13:17:55,527 INFO Request is running\n",
      "2023-08-26 13:18:44,092 INFO Request is completed\n",
      "2023-08-26 13:18:44,092 INFO Downloading https://download-0019.copernicus-climate.eu/cache-compute-0019/cache/data6/adaptor.mars.internal-1693052310.9077091-14664-7-b9ffadf2-50b7-43b3-a84d-8ee066e0d7bd.nc to F:\\JuPyterNotebook\\data\\raw_data\\ERA5_DATA\\GB_ERA5_DATA\\era5_pressure_level_1981_12_850.nc (1.7M)\n",
      "2023-08-26 13:18:44,594 INFO Download rate 3.5M/s                                                                      \n",
      "2023-08-26 13:18:44,673 INFO Welcome to the CDS\n",
      "2023-08-26 13:18:44,673 INFO Sending request to https://cds.climate.copernicus.eu/api/v2/resources/reanalysis-era5-pressure-levels\n",
      "2023-08-26 13:18:44,754 INFO Request is queued\n"
     ]
    },
    {
     "name": "stdout",
     "output_type": "stream",
     "text": [
      "era5_pressure_level_1981_12_850.nc done!\n",
      "Download time: 50.276 s\n",
      "Folder 'F:\\JuPyterNotebook\\data\\raw_data\\ERA5_DATA\\GB_ERA5_DATA' created successfully.\n"
     ]
    },
    {
     "name": "stderr",
     "output_type": "stream",
     "text": [
      "2023-08-26 13:18:45,795 INFO Request is running\n",
      "2023-08-26 13:19:34,558 INFO Request is completed\n",
      "2023-08-26 13:19:34,562 INFO Downloading https://download-0017.copernicus-climate.eu/cache-compute-0017/cache/data1/adaptor.mars.internal-1693052361.3887227-7158-4-9d09a123-c022-4201-abe9-06e0264f9fee.nc to F:\\JuPyterNotebook\\data\\raw_data\\ERA5_DATA\\GB_ERA5_DATA\\era5_pressure_level_1982_01_850.nc (1.7M)\n",
      "2023-08-26 13:19:35,079 INFO Download rate 3.4M/s                                                                      \n",
      "2023-08-26 13:19:35,161 INFO Welcome to the CDS\n",
      "2023-08-26 13:19:35,164 INFO Sending request to https://cds.climate.copernicus.eu/api/v2/resources/reanalysis-era5-pressure-levels\n",
      "2023-08-26 13:19:35,311 INFO Request is queued\n"
     ]
    },
    {
     "name": "stdout",
     "output_type": "stream",
     "text": [
      "era5_pressure_level_1982_01_850.nc done!\n",
      "Download time: 50.484 s\n",
      "Folder 'F:\\JuPyterNotebook\\data\\raw_data\\ERA5_DATA\\GB_ERA5_DATA' created successfully.\n"
     ]
    },
    {
     "name": "stderr",
     "output_type": "stream",
     "text": [
      "2023-08-26 13:19:36,363 INFO Request is running\n",
      "2023-08-26 13:20:24,989 INFO Request is completed\n",
      "2023-08-26 13:20:24,993 INFO Downloading https://download-0002-clone.copernicus-climate.eu/cache-compute-0002/cache/data7/adaptor.mars.internal-1693052410.2211802-21602-7-dff447ff-2486-408b-afb5-49e789dacf50.nc to F:\\JuPyterNotebook\\data\\raw_data\\ERA5_DATA\\GB_ERA5_DATA\\era5_pressure_level_1982_02_850.nc (1.6M)\n",
      "2023-08-26 13:20:25,458 INFO Download rate 3.4M/s                                                                      \n",
      "2023-08-26 13:20:25,541 INFO Welcome to the CDS\n",
      "2023-08-26 13:20:25,541 INFO Sending request to https://cds.climate.copernicus.eu/api/v2/resources/reanalysis-era5-pressure-levels\n",
      "2023-08-26 13:20:25,606 INFO Request is queued\n"
     ]
    },
    {
     "name": "stdout",
     "output_type": "stream",
     "text": [
      "era5_pressure_level_1982_02_850.nc done!\n",
      "Download time: 50.376 s\n",
      "Folder 'F:\\JuPyterNotebook\\data\\raw_data\\ERA5_DATA\\GB_ERA5_DATA' created successfully.\n"
     ]
    },
    {
     "name": "stderr",
     "output_type": "stream",
     "text": [
      "2023-08-26 13:20:26,653 INFO Request is running\n",
      "2023-08-26 13:21:15,260 INFO Request is completed\n",
      "2023-08-26 13:21:15,260 INFO Downloading https://download-0021.copernicus-climate.eu/cache-compute-0021/cache/data5/adaptor.mars.internal-1693052465.1940665-26676-14-f18a07fa-8174-43a1-9bc8-e26f1c69e5df.nc to F:\\JuPyterNotebook\\data\\raw_data\\ERA5_DATA\\GB_ERA5_DATA\\era5_pressure_level_1982_03_850.nc (1.7M)\n",
      "2023-08-26 13:21:15,747 INFO Download rate 3.6M/s                                                                      \n",
      "2023-08-26 13:21:15,829 INFO Welcome to the CDS\n",
      "2023-08-26 13:21:15,833 INFO Sending request to https://cds.climate.copernicus.eu/api/v2/resources/reanalysis-era5-pressure-levels\n",
      "2023-08-26 13:21:15,985 INFO Request is queued\n"
     ]
    },
    {
     "name": "stdout",
     "output_type": "stream",
     "text": [
      "era5_pressure_level_1982_03_850.nc done!\n",
      "Download time: 50.288 s\n",
      "Folder 'F:\\JuPyterNotebook\\data\\raw_data\\ERA5_DATA\\GB_ERA5_DATA' created successfully.\n"
     ]
    },
    {
     "name": "stderr",
     "output_type": "stream",
     "text": [
      "2023-08-26 13:21:17,038 INFO Request is running\n",
      "2023-08-26 13:22:05,645 INFO Request is completed\n",
      "2023-08-26 13:22:05,645 INFO Downloading https://download-0016.copernicus-climate.eu/cache-compute-0016/cache/data3/adaptor.mars.internal-1693052520.7725718-8099-2-7784ea9b-b5f0-4be5-a635-ca34cac6b9a7.nc to F:\\JuPyterNotebook\\data\\raw_data\\ERA5_DATA\\GB_ERA5_DATA\\era5_pressure_level_1982_04_850.nc (1.7M)\n",
      "2023-08-26 13:22:06,147 INFO Download rate 3.4M/s                                                                      \n",
      "2023-08-26 13:22:06,232 INFO Welcome to the CDS\n",
      "2023-08-26 13:22:06,232 INFO Sending request to https://cds.climate.copernicus.eu/api/v2/resources/reanalysis-era5-pressure-levels\n",
      "2023-08-26 13:22:06,341 INFO Request is queued\n"
     ]
    },
    {
     "name": "stdout",
     "output_type": "stream",
     "text": [
      "era5_pressure_level_1982_04_850.nc done!\n",
      "Download time: 50.397 s\n",
      "Folder 'F:\\JuPyterNotebook\\data\\raw_data\\ERA5_DATA\\GB_ERA5_DATA' created successfully.\n"
     ]
    },
    {
     "name": "stderr",
     "output_type": "stream",
     "text": [
      "2023-08-26 13:22:07,397 INFO Request is running\n",
      "2023-08-26 13:22:55,986 INFO Request is completed\n",
      "2023-08-26 13:22:55,989 INFO Downloading https://download-0004-clone.copernicus-climate.eu/cache-compute-0004/cache/data9/adaptor.mars.internal-1693052564.39463-19376-16-3d10929c-c53b-4d13-8d64-99874ecdd54a.nc to F:\\JuPyterNotebook\\data\\raw_data\\ERA5_DATA\\GB_ERA5_DATA\\era5_pressure_level_1982_05_850.nc (1.7M)\n",
      "2023-08-26 13:22:56,509 INFO Download rate 3.3M/s                                                                      \n",
      "2023-08-26 13:22:56,594 INFO Welcome to the CDS\n",
      "2023-08-26 13:22:56,599 INFO Sending request to https://cds.climate.copernicus.eu/api/v2/resources/reanalysis-era5-pressure-levels\n",
      "2023-08-26 13:22:56,657 INFO Request is queued\n"
     ]
    },
    {
     "name": "stdout",
     "output_type": "stream",
     "text": [
      "era5_pressure_level_1982_05_850.nc done!\n",
      "Download time: 50.365 s\n",
      "Folder 'F:\\JuPyterNotebook\\data\\raw_data\\ERA5_DATA\\GB_ERA5_DATA' created successfully.\n"
     ]
    },
    {
     "name": "stderr",
     "output_type": "stream",
     "text": [
      "2023-08-26 13:22:57,737 INFO Request is running\n",
      "2023-08-26 13:23:46,346 INFO Request is completed\n",
      "2023-08-26 13:23:46,346 INFO Downloading https://download-0000-clone.copernicus-climate.eu/cache-compute-0000/cache/data2/adaptor.mars.internal-1693052613.9950154-27839-12-adf8cd37-071a-40cb-8671-a4522537ea65.nc to F:\\JuPyterNotebook\\data\\raw_data\\ERA5_DATA\\GB_ERA5_DATA\\era5_pressure_level_1982_06_850.nc (1.7M)\n",
      "2023-08-26 13:23:46,855 INFO Download rate 3.3M/s                                                                      \n",
      "2023-08-26 13:23:46,937 INFO Welcome to the CDS\n",
      "2023-08-26 13:23:46,941 INFO Sending request to https://cds.climate.copernicus.eu/api/v2/resources/reanalysis-era5-pressure-levels\n",
      "2023-08-26 13:23:47,009 INFO Request is queued\n"
     ]
    },
    {
     "name": "stdout",
     "output_type": "stream",
     "text": [
      "era5_pressure_level_1982_06_850.nc done!\n",
      "Download time: 50.343 s\n",
      "Folder 'F:\\JuPyterNotebook\\data\\raw_data\\ERA5_DATA\\GB_ERA5_DATA' created successfully.\n"
     ]
    },
    {
     "name": "stderr",
     "output_type": "stream",
     "text": [
      "2023-08-26 13:23:48,058 INFO Request is running\n",
      "2023-08-26 13:24:36,663 INFO Request is completed\n",
      "2023-08-26 13:24:36,667 INFO Downloading https://download-0007-clone.copernicus-climate.eu/cache-compute-0007/cache/data2/adaptor.mars.internal-1693052664.6591485-15754-8-268ed441-1a0e-4832-8535-ad0284ff0c2b.nc to F:\\JuPyterNotebook\\data\\raw_data\\ERA5_DATA\\GB_ERA5_DATA\\era5_pressure_level_1982_07_850.nc (1.7M)\n",
      "2023-08-26 13:24:37,153 INFO Download rate 3.6M/s                                                                      \n",
      "2023-08-26 13:24:37,227 INFO Welcome to the CDS\n",
      "2023-08-26 13:24:37,231 INFO Sending request to https://cds.climate.copernicus.eu/api/v2/resources/reanalysis-era5-pressure-levels\n",
      "2023-08-26 13:24:37,277 INFO Request is queued\n"
     ]
    },
    {
     "name": "stdout",
     "output_type": "stream",
     "text": [
      "era5_pressure_level_1982_07_850.nc done!\n",
      "Download time: 50.296 s\n",
      "Folder 'F:\\JuPyterNotebook\\data\\raw_data\\ERA5_DATA\\GB_ERA5_DATA' created successfully.\n"
     ]
    },
    {
     "name": "stderr",
     "output_type": "stream",
     "text": [
      "2023-08-26 13:24:38,329 INFO Request is running\n",
      "2023-08-26 13:25:26,948 INFO Request is completed\n",
      "2023-08-26 13:25:26,948 INFO Downloading https://download-0017.copernicus-climate.eu/cache-compute-0017/cache/data8/adaptor.mars.internal-1693052715.3841498-5932-19-9a9cbd04-ca0b-42e9-b290-7a9e5658ef06.nc to F:\\JuPyterNotebook\\data\\raw_data\\ERA5_DATA\\GB_ERA5_DATA\\era5_pressure_level_1982_08_850.nc (1.7M)\n",
      "2023-08-26 13:25:27,527 INFO Download rate 3M/s                                                                        \n",
      "2023-08-26 13:25:27,610 INFO Welcome to the CDS\n",
      "2023-08-26 13:25:27,613 INFO Sending request to https://cds.climate.copernicus.eu/api/v2/resources/reanalysis-era5-pressure-levels\n",
      "2023-08-26 13:25:27,690 INFO Request is queued\n"
     ]
    },
    {
     "name": "stdout",
     "output_type": "stream",
     "text": [
      "era5_pressure_level_1982_08_850.nc done!\n",
      "Download time: 50.377 s\n",
      "Folder 'F:\\JuPyterNotebook\\data\\raw_data\\ERA5_DATA\\GB_ERA5_DATA' created successfully.\n"
     ]
    },
    {
     "name": "stderr",
     "output_type": "stream",
     "text": [
      "2023-08-26 13:25:28,740 INFO Request is running\n",
      "2023-08-26 13:26:17,355 INFO Request is completed\n",
      "2023-08-26 13:26:17,359 INFO Downloading https://download-0016.copernicus-climate.eu/cache-compute-0016/cache/data9/adaptor.mars.internal-1693052765.7928598-7652-9-4142629e-7a1c-4290-b1a4-019b235783c1.nc to F:\\JuPyterNotebook\\data\\raw_data\\ERA5_DATA\\GB_ERA5_DATA\\era5_pressure_level_1982_09_850.nc (1.7M)\n",
      "2023-08-26 13:26:17,850 INFO Download rate 3.4M/s                                                                      \n",
      "2023-08-26 13:26:17,941 INFO Welcome to the CDS\n",
      "2023-08-26 13:26:17,941 INFO Sending request to https://cds.climate.copernicus.eu/api/v2/resources/reanalysis-era5-pressure-levels\n",
      "2023-08-26 13:26:17,990 INFO Request is queued\n"
     ]
    },
    {
     "name": "stdout",
     "output_type": "stream",
     "text": [
      "era5_pressure_level_1982_09_850.nc done!\n",
      "Download time: 50.327 s\n",
      "Folder 'F:\\JuPyterNotebook\\data\\raw_data\\ERA5_DATA\\GB_ERA5_DATA' created successfully.\n"
     ]
    },
    {
     "name": "stderr",
     "output_type": "stream",
     "text": [
      "2023-08-26 13:26:19,037 INFO Request is running\n",
      "2023-08-26 13:27:07,757 INFO Request is completed\n",
      "2023-08-26 13:27:07,757 INFO Downloading https://download-0010-clone.copernicus-climate.eu/cache-compute-0010/cache/data8/adaptor.mars.internal-1693052819.2365377-27225-14-670aa6e1-88c1-45ee-b1f5-c8afc237cd26.nc to F:\\JuPyterNotebook\\data\\raw_data\\ERA5_DATA\\GB_ERA5_DATA\\era5_pressure_level_1982_10_850.nc (1.7M)\n",
      "2023-08-26 13:27:08,256 INFO Download rate 3.5M/s                                                                      \n",
      "2023-08-26 13:27:08,352 INFO Welcome to the CDS\n",
      "2023-08-26 13:27:08,352 INFO Sending request to https://cds.climate.copernicus.eu/api/v2/resources/reanalysis-era5-pressure-levels\n",
      "2023-08-26 13:27:08,408 INFO Request is queued\n"
     ]
    },
    {
     "name": "stdout",
     "output_type": "stream",
     "text": [
      "era5_pressure_level_1982_10_850.nc done!\n",
      "Download time: 50.410 s\n",
      "Folder 'F:\\JuPyterNotebook\\data\\raw_data\\ERA5_DATA\\GB_ERA5_DATA' created successfully.\n"
     ]
    },
    {
     "name": "stderr",
     "output_type": "stream",
     "text": [
      "2023-08-26 13:27:09,453 INFO Request is running\n",
      "2023-08-26 13:27:58,020 INFO Request is completed\n",
      "2023-08-26 13:27:58,024 INFO Downloading https://download-0015-clone.copernicus-climate.eu/cache-compute-0015/cache/data1/adaptor.mars.internal-1693052867.4111638-6944-15-af821512-4125-4f1a-8d02-627a5f19fa5c.nc to F:\\JuPyterNotebook\\data\\raw_data\\ERA5_DATA\\GB_ERA5_DATA\\era5_pressure_level_1982_11_850.nc (1.7M)\n",
      "2023-08-26 13:27:58,497 INFO Download rate 3.6M/s                                                                      \n",
      "2023-08-26 13:27:58,576 INFO Welcome to the CDS\n",
      "2023-08-26 13:27:58,576 INFO Sending request to https://cds.climate.copernicus.eu/api/v2/resources/reanalysis-era5-pressure-levels\n",
      "2023-08-26 13:27:58,685 INFO Request is queued\n"
     ]
    },
    {
     "name": "stdout",
     "output_type": "stream",
     "text": [
      "era5_pressure_level_1982_11_850.nc done!\n",
      "Download time: 50.222 s\n",
      "Folder 'F:\\JuPyterNotebook\\data\\raw_data\\ERA5_DATA\\GB_ERA5_DATA' created successfully.\n"
     ]
    },
    {
     "name": "stderr",
     "output_type": "stream",
     "text": [
      "2023-08-26 13:27:59,726 INFO Request is running\n",
      "2023-08-26 13:28:48,317 INFO Request is completed\n",
      "2023-08-26 13:28:48,321 INFO Downloading https://download-0002-clone.copernicus-climate.eu/cache-compute-0002/cache/data8/adaptor.mars.internal-1693052919.757868-32438-11-efef5117-c71c-4d35-b2b0-6699ad6c23e0.nc to F:\\JuPyterNotebook\\data\\raw_data\\ERA5_DATA\\GB_ERA5_DATA\\era5_pressure_level_1982_12_850.nc (1.7M)\n",
      "2023-08-26 13:28:48,825 INFO Download rate 3.4M/s                                                                      \n",
      "2023-08-26 13:28:48,907 INFO Welcome to the CDS\n",
      "2023-08-26 13:28:48,907 INFO Sending request to https://cds.climate.copernicus.eu/api/v2/resources/reanalysis-era5-pressure-levels\n",
      "2023-08-26 13:28:48,953 INFO Request is queued\n"
     ]
    },
    {
     "name": "stdout",
     "output_type": "stream",
     "text": [
      "era5_pressure_level_1982_12_850.nc done!\n",
      "Download time: 50.328 s\n",
      "Folder 'F:\\JuPyterNotebook\\data\\raw_data\\ERA5_DATA\\GB_ERA5_DATA' created successfully.\n"
     ]
    },
    {
     "name": "stderr",
     "output_type": "stream",
     "text": [
      "2023-08-26 13:28:50,000 INFO Request is running\n",
      "2023-08-26 13:29:38,593 INFO Request is completed\n",
      "2023-08-26 13:29:38,593 INFO Downloading https://download-0004-clone.copernicus-climate.eu/cache-compute-0004/cache/data8/adaptor.mars.internal-1693052964.4754436-23130-5-74db152d-524f-485f-81d6-cb73a26c7f3c.nc to F:\\JuPyterNotebook\\data\\raw_data\\ERA5_DATA\\GB_ERA5_DATA\\era5_pressure_level_1983_01_850.nc (1.7M)\n",
      "2023-08-26 13:29:39,093 INFO Download rate 3.5M/s                                                                      \n",
      "2023-08-26 13:29:39,168 INFO Welcome to the CDS\n",
      "2023-08-26 13:29:39,172 INFO Sending request to https://cds.climate.copernicus.eu/api/v2/resources/reanalysis-era5-pressure-levels\n"
     ]
    },
    {
     "name": "stdout",
     "output_type": "stream",
     "text": [
      "era5_pressure_level_1983_01_850.nc done!\n",
      "Download time: 50.265 s\n",
      "Folder 'F:\\JuPyterNotebook\\data\\raw_data\\ERA5_DATA\\GB_ERA5_DATA' created successfully.\n"
     ]
    },
    {
     "name": "stderr",
     "output_type": "stream",
     "text": [
      "2023-08-26 13:29:39,344 INFO Request is queued\n",
      "2023-08-26 13:29:40,401 INFO Request is running\n",
      "2023-08-26 13:30:28,966 INFO Request is completed\n",
      "2023-08-26 13:30:28,970 INFO Downloading https://download-0012-clone.copernicus-climate.eu/cache-compute-0012/cache/data6/adaptor.mars.internal-1693053010.8461404-28982-18-eadd3491-68ef-48e9-8ab9-1c7ec3959c67.nc to F:\\JuPyterNotebook\\data\\raw_data\\ERA5_DATA\\GB_ERA5_DATA\\era5_pressure_level_1983_02_850.nc (1.6M)\n",
      "2023-08-26 13:30:29,920 INFO Download rate 1.7M/s                                                                      \n",
      "2023-08-26 13:30:29,998 INFO Welcome to the CDS\n",
      "2023-08-26 13:30:30,002 INFO Sending request to https://cds.climate.copernicus.eu/api/v2/resources/reanalysis-era5-pressure-levels\n",
      "2023-08-26 13:30:30,049 INFO Request is queued\n"
     ]
    },
    {
     "name": "stdout",
     "output_type": "stream",
     "text": [
      "era5_pressure_level_1983_02_850.nc done!\n",
      "Download time: 50.820 s\n",
      "Folder 'F:\\JuPyterNotebook\\data\\raw_data\\ERA5_DATA\\GB_ERA5_DATA' created successfully.\n"
     ]
    },
    {
     "name": "stderr",
     "output_type": "stream",
     "text": [
      "2023-08-26 13:30:31,093 INFO Request is running\n",
      "2023-08-26 13:31:19,673 INFO Request is completed\n",
      "2023-08-26 13:31:19,677 INFO Downloading https://download-0003-clone.copernicus-climate.eu/cache-compute-0003/cache/data8/adaptor.mars.internal-1693053062.4897811-17372-1-0e2ff201-d5f6-4f3f-b64a-50536fd9f926.nc to F:\\JuPyterNotebook\\data\\raw_data\\ERA5_DATA\\GB_ERA5_DATA\\era5_pressure_level_1983_03_850.nc (1.7M)\n",
      "2023-08-26 13:31:20,276 INFO Download rate 2.9M/s                                                                      \n",
      "2023-08-26 13:31:20,356 INFO Welcome to the CDS\n",
      "2023-08-26 13:31:20,356 INFO Sending request to https://cds.climate.copernicus.eu/api/v2/resources/reanalysis-era5-pressure-levels\n",
      "2023-08-26 13:31:20,401 INFO Request is queued\n"
     ]
    },
    {
     "name": "stdout",
     "output_type": "stream",
     "text": [
      "era5_pressure_level_1983_03_850.nc done!\n",
      "Download time: 50.357 s\n",
      "Folder 'F:\\JuPyterNotebook\\data\\raw_data\\ERA5_DATA\\GB_ERA5_DATA' created successfully.\n"
     ]
    },
    {
     "name": "stderr",
     "output_type": "stream",
     "text": [
      "2023-08-26 13:31:21,446 INFO Request is running\n",
      "2023-08-26 13:32:10,063 INFO Request is completed\n",
      "2023-08-26 13:32:10,063 INFO Downloading https://download-0016.copernicus-climate.eu/cache-compute-0016/cache/data4/adaptor.mars.internal-1693053118.1319242-8723-13-262937fb-7fc0-4c46-a3fa-85f10354eddc.nc to F:\\JuPyterNotebook\\data\\raw_data\\ERA5_DATA\\GB_ERA5_DATA\\era5_pressure_level_1983_04_850.nc (1.7M)\n",
      "2023-08-26 13:32:10,629 INFO Download rate 3M/s                                                                        \n",
      "2023-08-26 13:32:10,710 INFO Welcome to the CDS\n",
      "2023-08-26 13:32:10,714 INFO Sending request to https://cds.climate.copernicus.eu/api/v2/resources/reanalysis-era5-pressure-levels\n",
      "2023-08-26 13:32:10,778 INFO Request is queued\n"
     ]
    },
    {
     "name": "stdout",
     "output_type": "stream",
     "text": [
      "era5_pressure_level_1983_04_850.nc done!\n",
      "Download time: 50.351 s\n",
      "Folder 'F:\\JuPyterNotebook\\data\\raw_data\\ERA5_DATA\\GB_ERA5_DATA' created successfully.\n"
     ]
    },
    {
     "name": "stderr",
     "output_type": "stream",
     "text": [
      "2023-08-26 13:32:11,822 INFO Request is running\n",
      "2023-08-26 13:32:24,187 INFO Request is completed\n",
      "2023-08-26 13:32:24,187 INFO Downloading https://download-0019.copernicus-climate.eu/cache-compute-0019/cache/data0/adaptor.mars.internal-1693053142.4447694-5075-9-2ad16f2f-f09c-4062-9c3e-6865fbd073f3.nc to F:\\JuPyterNotebook\\data\\raw_data\\ERA5_DATA\\GB_ERA5_DATA\\era5_pressure_level_1983_05_850.nc (1.7M)\n",
      "2023-08-26 13:32:24,744 INFO Download rate 3.1M/s                                                                      \n",
      "2023-08-26 13:32:24,825 INFO Welcome to the CDS\n",
      "2023-08-26 13:32:24,825 INFO Sending request to https://cds.climate.copernicus.eu/api/v2/resources/reanalysis-era5-pressure-levels\n",
      "2023-08-26 13:32:24,909 INFO Request is queued\n"
     ]
    },
    {
     "name": "stdout",
     "output_type": "stream",
     "text": [
      "era5_pressure_level_1983_05_850.nc done!\n",
      "Download time: 14.112 s\n",
      "Folder 'F:\\JuPyterNotebook\\data\\raw_data\\ERA5_DATA\\GB_ERA5_DATA' created successfully.\n"
     ]
    },
    {
     "name": "stderr",
     "output_type": "stream",
     "text": [
      "2023-08-26 13:32:25,947 INFO Request is running\n",
      "2023-08-26 13:33:14,539 INFO Request is completed\n",
      "2023-08-26 13:33:14,539 INFO Downloading https://download-0014-clone.copernicus-climate.eu/cache-compute-0014/cache/data0/adaptor.mars.internal-1693053182.8922875-27966-7-15106df4-2eac-4c36-af46-dcedcfc04151.nc to F:\\JuPyterNotebook\\data\\raw_data\\ERA5_DATA\\GB_ERA5_DATA\\era5_pressure_level_1983_06_850.nc (1.7M)\n",
      "2023-08-26 13:33:15,045 INFO Download rate 3.4M/s                                                                      \n",
      "2023-08-26 13:33:15,119 INFO Welcome to the CDS\n",
      "2023-08-26 13:33:15,119 INFO Sending request to https://cds.climate.copernicus.eu/api/v2/resources/reanalysis-era5-pressure-levels\n",
      "2023-08-26 13:33:15,195 INFO Request is queued\n"
     ]
    },
    {
     "name": "stdout",
     "output_type": "stream",
     "text": [
      "era5_pressure_level_1983_06_850.nc done!\n",
      "Download time: 50.298 s\n",
      "Folder 'F:\\JuPyterNotebook\\data\\raw_data\\ERA5_DATA\\GB_ERA5_DATA' created successfully.\n"
     ]
    },
    {
     "name": "stderr",
     "output_type": "stream",
     "text": [
      "2023-08-26 13:33:16,239 INFO Request is running\n",
      "2023-08-26 13:34:04,976 INFO Request is completed\n",
      "2023-08-26 13:34:04,976 INFO Downloading https://download-0006-clone.copernicus-climate.eu/cache-compute-0006/cache/data7/adaptor.mars.internal-1693053234.2081788-9788-5-1f03adc4-462e-46e6-b351-401bd7f4e49e.nc to F:\\JuPyterNotebook\\data\\raw_data\\ERA5_DATA\\GB_ERA5_DATA\\era5_pressure_level_1983_07_850.nc (1.7M)\n",
      "2023-08-26 13:34:05,529 INFO Download rate 3.2M/s                                                                      \n",
      "2023-08-26 13:34:05,609 INFO Welcome to the CDS\n",
      "2023-08-26 13:34:05,613 INFO Sending request to https://cds.climate.copernicus.eu/api/v2/resources/reanalysis-era5-pressure-levels\n",
      "2023-08-26 13:34:05,712 INFO Request is queued\n"
     ]
    },
    {
     "name": "stdout",
     "output_type": "stream",
     "text": [
      "era5_pressure_level_1983_07_850.nc done!\n",
      "Download time: 50.484 s\n",
      "Folder 'F:\\JuPyterNotebook\\data\\raw_data\\ERA5_DATA\\GB_ERA5_DATA' created successfully.\n"
     ]
    },
    {
     "name": "stderr",
     "output_type": "stream",
     "text": [
      "2023-08-26 13:34:06,760 INFO Request is running\n",
      "2023-08-26 13:34:55,374 INFO Request is completed\n",
      "2023-08-26 13:34:55,374 INFO Downloading https://download-0008-clone.copernicus-climate.eu/cache-compute-0008/cache/data8/adaptor.mars.internal-1693053286.043586-11395-9-7bb03431-54a2-45dd-b137-45cc3ee991ee.nc to F:\\JuPyterNotebook\\data\\raw_data\\ERA5_DATA\\GB_ERA5_DATA\\era5_pressure_level_1983_08_850.nc (1.7M)\n",
      "2023-08-26 13:34:55,905 INFO Download rate 3.3M/s                                                                      \n",
      "2023-08-26 13:34:55,980 INFO Welcome to the CDS\n",
      "2023-08-26 13:34:55,980 INFO Sending request to https://cds.climate.copernicus.eu/api/v2/resources/reanalysis-era5-pressure-levels\n",
      "2023-08-26 13:34:56,041 INFO Request is queued\n"
     ]
    },
    {
     "name": "stdout",
     "output_type": "stream",
     "text": [
      "era5_pressure_level_1983_08_850.nc done!\n",
      "Download time: 50.369 s\n",
      "Folder 'F:\\JuPyterNotebook\\data\\raw_data\\ERA5_DATA\\GB_ERA5_DATA' created successfully.\n"
     ]
    },
    {
     "name": "stderr",
     "output_type": "stream",
     "text": [
      "2023-08-26 13:34:57,086 INFO Request is running\n",
      "2023-08-26 13:35:45,665 INFO Request is completed\n",
      "2023-08-26 13:35:45,665 INFO Downloading https://download-0009-clone.copernicus-climate.eu/cache-compute-0009/cache/data3/adaptor.mars.internal-1693053333.000483-23848-8-a589d82b-512c-42b1-b61a-a4bd03fd4d20.nc to F:\\JuPyterNotebook\\data\\raw_data\\ERA5_DATA\\GB_ERA5_DATA\\era5_pressure_level_1983_09_850.nc (1.7M)\n",
      "2023-08-26 13:35:46,171 INFO Download rate 3.3M/s                                                                      \n",
      "2023-08-26 13:35:46,254 INFO Welcome to the CDS\n",
      "2023-08-26 13:35:46,254 INFO Sending request to https://cds.climate.copernicus.eu/api/v2/resources/reanalysis-era5-pressure-levels\n",
      "2023-08-26 13:35:46,315 INFO Request is queued\n"
     ]
    },
    {
     "name": "stdout",
     "output_type": "stream",
     "text": [
      "era5_pressure_level_1983_09_850.nc done!\n",
      "Download time: 50.268 s\n",
      "Folder 'F:\\JuPyterNotebook\\data\\raw_data\\ERA5_DATA\\GB_ERA5_DATA' created successfully.\n"
     ]
    },
    {
     "name": "stderr",
     "output_type": "stream",
     "text": [
      "2023-08-26 13:35:47,366 INFO Request is running\n",
      "2023-08-26 13:36:35,946 INFO Request is completed\n",
      "2023-08-26 13:36:35,946 INFO Downloading https://download-0016.copernicus-climate.eu/cache-compute-0016/cache/data4/adaptor.mars.internal-1693053379.2340512-9710-12-e21656a1-04eb-4f5f-ad82-9bb6822642c8.nc to F:\\JuPyterNotebook\\data\\raw_data\\ERA5_DATA\\GB_ERA5_DATA\\era5_pressure_level_1983_10_850.nc (1.7M)\n",
      "2023-08-26 13:36:36,389 INFO Download rate 3.9M/s                                                                      \n",
      "2023-08-26 13:36:36,485 INFO Welcome to the CDS\n",
      "2023-08-26 13:36:36,485 INFO Sending request to https://cds.climate.copernicus.eu/api/v2/resources/reanalysis-era5-pressure-levels\n",
      "2023-08-26 13:36:36,532 INFO Request is queued\n"
     ]
    },
    {
     "name": "stdout",
     "output_type": "stream",
     "text": [
      "era5_pressure_level_1983_10_850.nc done!\n",
      "Download time: 50.229 s\n",
      "Folder 'F:\\JuPyterNotebook\\data\\raw_data\\ERA5_DATA\\GB_ERA5_DATA' created successfully.\n"
     ]
    },
    {
     "name": "stderr",
     "output_type": "stream",
     "text": [
      "2023-08-26 13:36:37,582 INFO Request is running\n",
      "2023-08-26 13:39:59,787 WARNING Connection error: [('Connection aborted.', RemoteDisconnected('Remote end closed connection without response'))]. Attempt 1 of 500.\n",
      "2023-08-26 13:39:59,787 WARNING Retrying in 120 seconds\n",
      "2023-08-26 13:41:59,814 INFO Retrying now...\n",
      "2023-08-26 13:41:59,988 INFO Request is completed\n",
      "2023-08-26 13:41:59,988 INFO Downloading https://download-0005-clone.copernicus-climate.eu/cache-compute-0005/cache/data6/adaptor.mars.internal-1693053427.9782875-17308-3-d2566652-09ec-4dfc-a81b-2f77775b388f.nc to F:\\JuPyterNotebook\\data\\raw_data\\ERA5_DATA\\GB_ERA5_DATA\\era5_pressure_level_1983_11_850.nc (1.7M)\n",
      "2023-08-26 13:42:00,471 INFO Download rate 3.5M/s                                                                      \n",
      "2023-08-26 13:42:00,556 INFO Welcome to the CDS\n",
      "2023-08-26 13:42:00,556 INFO Sending request to https://cds.climate.copernicus.eu/api/v2/resources/reanalysis-era5-pressure-levels\n",
      "2023-08-26 13:42:00,639 INFO Request is queued\n"
     ]
    },
    {
     "name": "stdout",
     "output_type": "stream",
     "text": [
      "era5_pressure_level_1983_11_850.nc done!\n",
      "Download time: 324.022 s\n",
      "Folder 'F:\\JuPyterNotebook\\data\\raw_data\\ERA5_DATA\\GB_ERA5_DATA' created successfully.\n"
     ]
    },
    {
     "name": "stderr",
     "output_type": "stream",
     "text": [
      "2023-08-26 13:42:01,674 INFO Request is running\n",
      "2023-08-26 13:42:50,246 INFO Request is completed\n",
      "2023-08-26 13:42:50,246 INFO Downloading https://download-0004-clone.copernicus-climate.eu/cache-compute-0004/cache/data4/adaptor.mars.internal-1693053758.8657603-25093-10-b7db3003-d706-4633-9663-6953bd6e23b8.nc to F:\\JuPyterNotebook\\data\\raw_data\\ERA5_DATA\\GB_ERA5_DATA\\era5_pressure_level_1983_12_850.nc (1.7M)\n",
      "2023-08-26 13:42:50,695 INFO Download rate 3.9M/s                                                                      \n",
      "2023-08-26 13:42:50,767 INFO Welcome to the CDS\n",
      "2023-08-26 13:42:50,783 INFO Sending request to https://cds.climate.copernicus.eu/api/v2/resources/reanalysis-era5-pressure-levels\n",
      "2023-08-26 13:42:50,861 INFO Request is queued\n"
     ]
    },
    {
     "name": "stdout",
     "output_type": "stream",
     "text": [
      "era5_pressure_level_1983_12_850.nc done!\n",
      "Download time: 50.214 s\n",
      "Folder 'F:\\JuPyterNotebook\\data\\raw_data\\ERA5_DATA\\GB_ERA5_DATA' created successfully.\n"
     ]
    },
    {
     "name": "stderr",
     "output_type": "stream",
     "text": [
      "2023-08-26 13:42:51,910 INFO Request is running\n",
      "2023-08-26 13:43:40,446 INFO Request is completed\n",
      "2023-08-26 13:43:40,446 INFO Downloading https://download-0008-clone.copernicus-climate.eu/cache-compute-0008/cache/data2/adaptor.mars.internal-1693053814.9048085-21279-1-7f574e3b-9485-4674-9bbd-1406b7b65cb2.nc to F:\\JuPyterNotebook\\data\\raw_data\\ERA5_DATA\\GB_ERA5_DATA\\era5_pressure_level_1984_01_850.nc (1.7M)\n",
      "2023-08-26 13:43:40,985 INFO Download rate 3.2M/s                                                                      \n",
      "2023-08-26 13:43:41,058 INFO Welcome to the CDS\n",
      "2023-08-26 13:43:41,058 INFO Sending request to https://cds.climate.copernicus.eu/api/v2/resources/reanalysis-era5-pressure-levels\n",
      "2023-08-26 13:43:41,105 INFO Request is queued\n"
     ]
    },
    {
     "name": "stdout",
     "output_type": "stream",
     "text": [
      "era5_pressure_level_1984_01_850.nc done!\n",
      "Download time: 50.290 s\n",
      "Folder 'F:\\JuPyterNotebook\\data\\raw_data\\ERA5_DATA\\GB_ERA5_DATA' created successfully.\n"
     ]
    },
    {
     "name": "stderr",
     "output_type": "stream",
     "text": [
      "2023-08-26 13:43:42,143 INFO Request is running\n",
      "2023-08-26 13:44:30,691 INFO Request is completed\n",
      "2023-08-26 13:44:30,691 INFO Downloading https://download-0004-clone.copernicus-climate.eu/cache-compute-0004/cache/data7/adaptor.mars.internal-1693053855.6046658-585-1-36f519f8-fd46-425e-9339-e1992b7613f8.nc to F:\\JuPyterNotebook\\data\\raw_data\\ERA5_DATA\\GB_ERA5_DATA\\era5_pressure_level_1984_02_850.nc (1.6M)\n",
      "2023-08-26 13:44:32,014 INFO Download rate 1.2M/s                                                                      \n",
      "2023-08-26 13:44:32,096 INFO Welcome to the CDS\n",
      "2023-08-26 13:44:32,096 INFO Sending request to https://cds.climate.copernicus.eu/api/v2/resources/reanalysis-era5-pressure-levels\n",
      "2023-08-26 13:44:32,135 INFO Request is queued\n"
     ]
    },
    {
     "name": "stdout",
     "output_type": "stream",
     "text": [
      "era5_pressure_level_1984_02_850.nc done!\n",
      "Download time: 51.023 s\n",
      "Folder 'F:\\JuPyterNotebook\\data\\raw_data\\ERA5_DATA\\GB_ERA5_DATA' created successfully.\n"
     ]
    },
    {
     "name": "stderr",
     "output_type": "stream",
     "text": [
      "2023-08-26 13:44:33,183 INFO Request is running\n",
      "2023-08-26 13:45:21,724 INFO Request is completed\n",
      "2023-08-26 13:45:21,724 INFO Downloading https://download-0009-clone.copernicus-climate.eu/cache-compute-0009/cache/data2/adaptor.mars.internal-1693053911.7868278-26558-15-627396eb-6f97-4f0a-b147-1ba5bab0b600.nc to F:\\JuPyterNotebook\\data\\raw_data\\ERA5_DATA\\GB_ERA5_DATA\\era5_pressure_level_1984_03_850.nc (1.7M)\n",
      "2023-08-26 13:45:22,271 INFO Download rate 3.2M/s                                                                      \n",
      "2023-08-26 13:45:22,372 INFO Welcome to the CDS\n",
      "2023-08-26 13:45:22,372 INFO Sending request to https://cds.climate.copernicus.eu/api/v2/resources/reanalysis-era5-pressure-levels\n",
      "2023-08-26 13:45:22,433 INFO Request is queued\n"
     ]
    },
    {
     "name": "stdout",
     "output_type": "stream",
     "text": [
      "era5_pressure_level_1984_03_850.nc done!\n",
      "Download time: 50.291 s\n",
      "Folder 'F:\\JuPyterNotebook\\data\\raw_data\\ERA5_DATA\\GB_ERA5_DATA' created successfully.\n"
     ]
    },
    {
     "name": "stderr",
     "output_type": "stream",
     "text": [
      "2023-08-26 13:45:23,474 INFO Request is running\n",
      "2023-08-26 13:46:12,012 INFO Request is completed\n",
      "2023-08-26 13:46:12,012 INFO Downloading https://download-0019.copernicus-climate.eu/cache-compute-0019/cache/data7/adaptor.mars.internal-1693053963.9467928-28358-3-53ddfec6-5f09-476f-bf9a-bcaf66294c81.nc to F:\\JuPyterNotebook\\data\\raw_data\\ERA5_DATA\\GB_ERA5_DATA\\era5_pressure_level_1984_04_850.nc (1.7M)\n",
      "2023-08-26 13:46:12,537 INFO Download rate 3.2M/s                                                                      \n",
      "2023-08-26 13:46:12,652 INFO Welcome to the CDS\n",
      "2023-08-26 13:46:12,652 INFO Sending request to https://cds.climate.copernicus.eu/api/v2/resources/reanalysis-era5-pressure-levels\n",
      "2023-08-26 13:46:12,762 INFO Request is queued\n"
     ]
    },
    {
     "name": "stdout",
     "output_type": "stream",
     "text": [
      "era5_pressure_level_1984_04_850.nc done!\n",
      "Download time: 50.264 s\n",
      "Folder 'F:\\JuPyterNotebook\\data\\raw_data\\ERA5_DATA\\GB_ERA5_DATA' created successfully.\n"
     ]
    },
    {
     "name": "stderr",
     "output_type": "stream",
     "text": [
      "2023-08-26 13:46:13,797 INFO Request is running\n",
      "2023-08-26 13:47:02,374 INFO Request is completed\n",
      "2023-08-26 13:47:02,374 INFO Downloading https://download-0002-clone.copernicus-climate.eu/cache-compute-0002/cache/data8/adaptor.mars.internal-1693054014.5184612-25548-11-80c87cd5-d44a-4cf0-8445-4ddce1093dad.nc to F:\\JuPyterNotebook\\data\\raw_data\\ERA5_DATA\\GB_ERA5_DATA\\era5_pressure_level_1984_05_850.nc (1.7M)\n",
      "2023-08-26 13:47:02,941 INFO Download rate 3.1M/s                                                                      \n",
      "2023-08-26 13:47:03,004 INFO Welcome to the CDS\n",
      "2023-08-26 13:47:03,004 INFO Sending request to https://cds.climate.copernicus.eu/api/v2/resources/reanalysis-era5-pressure-levels\n",
      "2023-08-26 13:47:03,061 INFO Request is queued\n"
     ]
    },
    {
     "name": "stdout",
     "output_type": "stream",
     "text": [
      "era5_pressure_level_1984_05_850.nc done!\n",
      "Download time: 50.368 s\n",
      "Folder 'F:\\JuPyterNotebook\\data\\raw_data\\ERA5_DATA\\GB_ERA5_DATA' created successfully.\n"
     ]
    },
    {
     "name": "stderr",
     "output_type": "stream",
     "text": [
      "2023-08-26 13:47:04,108 INFO Request is running\n",
      "2023-08-26 13:47:52,661 INFO Request is completed\n",
      "2023-08-26 13:47:52,661 INFO Downloading https://download-0009-clone.copernicus-climate.eu/cache-compute-0009/cache/data2/adaptor.mars.internal-1693054059.1910744-23176-13-4b3a1603-c43d-4350-b7aa-9e28684f0411.nc to F:\\JuPyterNotebook\\data\\raw_data\\ERA5_DATA\\GB_ERA5_DATA\\era5_pressure_level_1984_06_850.nc (1.7M)\n",
      "2023-08-26 13:47:53,227 INFO Download rate 3M/s                                                                        \n",
      "2023-08-26 13:47:53,307 INFO Welcome to the CDS\n",
      "2023-08-26 13:47:53,307 INFO Sending request to https://cds.climate.copernicus.eu/api/v2/resources/reanalysis-era5-pressure-levels\n",
      "2023-08-26 13:47:53,385 INFO Request is queued\n"
     ]
    },
    {
     "name": "stdout",
     "output_type": "stream",
     "text": [
      "era5_pressure_level_1984_06_850.nc done!\n",
      "Download time: 50.302 s\n",
      "Folder 'F:\\JuPyterNotebook\\data\\raw_data\\ERA5_DATA\\GB_ERA5_DATA' created successfully.\n"
     ]
    },
    {
     "name": "stderr",
     "output_type": "stream",
     "text": [
      "2023-08-26 13:47:54,416 INFO Request is running\n",
      "2023-08-26 13:48:42,960 INFO Request is completed\n",
      "2023-08-26 13:48:42,960 INFO Downloading https://download-0009-clone.copernicus-climate.eu/cache-compute-0009/cache/data8/adaptor.mars.internal-1693054112.8250244-23176-14-9b55977c-0a73-4553-82bd-c5661b0481f4.nc to F:\\JuPyterNotebook\\data\\raw_data\\ERA5_DATA\\GB_ERA5_DATA\\era5_pressure_level_1984_07_850.nc (1.7M)\n",
      "2023-08-26 13:48:43,368 INFO Download rate 4.3M/s                                                                      \n",
      "2023-08-26 13:48:43,442 INFO Welcome to the CDS\n",
      "2023-08-26 13:48:43,442 INFO Sending request to https://cds.climate.copernicus.eu/api/v2/resources/reanalysis-era5-pressure-levels\n",
      "2023-08-26 13:48:43,537 INFO Request is queued\n"
     ]
    },
    {
     "name": "stdout",
     "output_type": "stream",
     "text": [
      "era5_pressure_level_1984_07_850.nc done!\n",
      "Download time: 50.119 s\n",
      "Folder 'F:\\JuPyterNotebook\\data\\raw_data\\ERA5_DATA\\GB_ERA5_DATA' created successfully.\n"
     ]
    },
    {
     "name": "stderr",
     "output_type": "stream",
     "text": [
      "2023-08-26 13:48:44,586 INFO Request is running\n",
      "2023-08-26 13:49:33,146 INFO Request is completed\n",
      "2023-08-26 13:49:33,146 INFO Downloading https://download-0016.copernicus-climate.eu/cache-compute-0016/cache/data4/adaptor.mars.internal-1693054169.913128-13361-17-71a37084-d506-4a7f-8d61-ee0d8337cb77.nc to F:\\JuPyterNotebook\\data\\raw_data\\ERA5_DATA\\GB_ERA5_DATA\\era5_pressure_level_1984_08_850.nc (1.7M)\n",
      "2023-08-26 13:49:54,794 WARNING Connection error: [('Connection aborted.', RemoteDisconnected('Remote end closed connection without response'))]. Attempt 1 of 500.\n",
      "2023-08-26 13:49:54,794 WARNING Retrying in 120 seconds\n",
      "2023-08-26 13:51:54,808 INFO Retrying now...\n",
      "2023-08-26 13:51:55,355 INFO Download rate 12.5K/s                                                                     \n",
      "2023-08-26 13:51:55,539 INFO Welcome to the CDS\n",
      "2023-08-26 13:51:55,539 INFO Sending request to https://cds.climate.copernicus.eu/api/v2/resources/reanalysis-era5-pressure-levels\n"
     ]
    },
    {
     "name": "stdout",
     "output_type": "stream",
     "text": [
      "era5_pressure_level_1984_08_850.nc done!\n",
      "Download time: 191.977 s\n",
      "Folder 'F:\\JuPyterNotebook\\data\\raw_data\\ERA5_DATA\\GB_ERA5_DATA' created successfully.\n"
     ]
    },
    {
     "name": "stderr",
     "output_type": "stream",
     "text": [
      "2023-08-26 13:51:55,615 INFO Request is queued\n",
      "2023-08-26 13:51:56,847 INFO Request is running\n",
      "2023-08-26 13:52:45,433 INFO Request is completed\n",
      "2023-08-26 13:52:45,433 INFO Downloading https://download-0012-clone.copernicus-climate.eu/cache-compute-0012/cache/data0/adaptor.mars.internal-1693054357.7629719-11423-7-83862a1f-e79c-4fde-98a3-89e025c5ea4d.nc to F:\\JuPyterNotebook\\data\\raw_data\\ERA5_DATA\\GB_ERA5_DATA\\era5_pressure_level_1984_09_850.nc (1.7M)\n",
      "2023-08-26 13:52:45,989 INFO Download rate 3.1M/s                                                                      \n",
      "2023-08-26 13:52:46,067 INFO Welcome to the CDS\n",
      "2023-08-26 13:52:46,067 INFO Sending request to https://cds.climate.copernicus.eu/api/v2/resources/reanalysis-era5-pressure-levels\n",
      "2023-08-26 13:52:46,120 INFO Request is queued\n"
     ]
    },
    {
     "name": "stdout",
     "output_type": "stream",
     "text": [
      "era5_pressure_level_1984_09_850.nc done!\n",
      "Download time: 50.646 s\n",
      "Folder 'F:\\JuPyterNotebook\\data\\raw_data\\ERA5_DATA\\GB_ERA5_DATA' created successfully.\n"
     ]
    },
    {
     "name": "stderr",
     "output_type": "stream",
     "text": [
      "2023-08-26 13:52:47,175 INFO Request is running\n",
      "2023-08-26 13:53:35,747 INFO Request is completed\n",
      "2023-08-26 13:53:35,747 INFO Downloading https://download-0013-clone.copernicus-climate.eu/cache-compute-0013/cache/data3/adaptor.mars.internal-1693054413.2544591-20761-7-0218f2eb-a149-4fe5-b938-34f4a1bec15d.nc to F:\\JuPyterNotebook\\data\\raw_data\\ERA5_DATA\\GB_ERA5_DATA\\era5_pressure_level_1984_10_850.nc (1.7M)\n",
      "2023-08-26 13:53:36,341 INFO Download rate 3M/s                                                                        \n",
      "2023-08-26 13:53:36,435 INFO Welcome to the CDS\n",
      "2023-08-26 13:53:36,435 INFO Sending request to https://cds.climate.copernicus.eu/api/v2/resources/reanalysis-era5-pressure-levels\n",
      "2023-08-26 13:53:36,504 INFO Request is queued\n"
     ]
    },
    {
     "name": "stdout",
     "output_type": "stream",
     "text": [
      "era5_pressure_level_1984_10_850.nc done!\n",
      "Download time: 50.363 s\n",
      "Folder 'F:\\JuPyterNotebook\\data\\raw_data\\ERA5_DATA\\GB_ERA5_DATA' created successfully.\n"
     ]
    },
    {
     "name": "stderr",
     "output_type": "stream",
     "text": [
      "2023-08-26 13:53:37,543 INFO Request is running\n",
      "2023-08-26 13:54:26,150 INFO Request is completed\n",
      "2023-08-26 13:54:26,150 INFO Downloading https://download-0008-clone.copernicus-climate.eu/cache-compute-0008/cache/data9/adaptor.mars.internal-1693054458.4140928-20332-17-3be64cd7-ae76-4109-97c2-4d67f7572e79.nc to F:\\JuPyterNotebook\\data\\raw_data\\ERA5_DATA\\GB_ERA5_DATA\\era5_pressure_level_1984_11_850.nc (1.7M)\n",
      "2023-08-26 13:54:26,768 INFO Download rate 2.7M/s                                                                      \n",
      "2023-08-26 13:54:26,840 INFO Welcome to the CDS\n",
      "2023-08-26 13:54:26,840 INFO Sending request to https://cds.climate.copernicus.eu/api/v2/resources/reanalysis-era5-pressure-levels\n",
      "2023-08-26 13:54:26,955 INFO Request is queued\n"
     ]
    },
    {
     "name": "stdout",
     "output_type": "stream",
     "text": [
      "era5_pressure_level_1984_11_850.nc done!\n",
      "Download time: 50.410 s\n",
      "Folder 'F:\\JuPyterNotebook\\data\\raw_data\\ERA5_DATA\\GB_ERA5_DATA' created successfully.\n"
     ]
    },
    {
     "name": "stderr",
     "output_type": "stream",
     "text": [
      "2023-08-26 13:54:27,997 INFO Request is running\n",
      "2023-08-26 13:55:16,560 INFO Request is completed\n",
      "2023-08-26 13:55:16,560 INFO Downloading https://download-0018.copernicus-climate.eu/cache-compute-0018/cache/data4/adaptor.mars.internal-1693054511.9843404-30702-17-10bd3984-0da4-4fed-9aec-79b27152217a.nc to F:\\JuPyterNotebook\\data\\raw_data\\ERA5_DATA\\GB_ERA5_DATA\\era5_pressure_level_1984_12_850.nc (1.7M)\n",
      "2023-08-26 13:55:17,152 INFO Download rate 2.9M/s                                                                      \n",
      "2023-08-26 13:55:17,230 INFO Welcome to the CDS\n",
      "2023-08-26 13:55:17,230 INFO Sending request to https://cds.climate.copernicus.eu/api/v2/resources/reanalysis-era5-pressure-levels\n",
      "2023-08-26 13:55:17,329 INFO Request is queued\n"
     ]
    },
    {
     "name": "stdout",
     "output_type": "stream",
     "text": [
      "era5_pressure_level_1984_12_850.nc done!\n",
      "Download time: 50.390 s\n",
      "Folder 'F:\\JuPyterNotebook\\data\\raw_data\\ERA5_DATA\\GB_ERA5_DATA' created successfully.\n"
     ]
    },
    {
     "name": "stderr",
     "output_type": "stream",
     "text": [
      "2023-08-26 13:55:18,369 INFO Request is running\n",
      "2023-08-26 13:56:06,932 INFO Request is completed\n",
      "2023-08-26 13:56:06,932 INFO Downloading https://download-0016.copernicus-climate.eu/cache-compute-0016/cache/data4/adaptor.mars.internal-1693054554.4986393-19715-12-006d2851-9c19-4ded-8c9e-b0c07d1d8ac9.nc to F:\\JuPyterNotebook\\data\\raw_data\\ERA5_DATA\\GB_ERA5_DATA\\era5_pressure_level_1985_01_850.nc (1.7M)\n",
      "2023-08-26 13:56:07,513 INFO Download rate 3M/s                                                                        \n",
      "2023-08-26 13:56:07,594 INFO Welcome to the CDS\n",
      "2023-08-26 13:56:07,594 INFO Sending request to https://cds.climate.copernicus.eu/api/v2/resources/reanalysis-era5-pressure-levels\n",
      "2023-08-26 13:56:07,710 INFO Request is queued\n"
     ]
    },
    {
     "name": "stdout",
     "output_type": "stream",
     "text": [
      "era5_pressure_level_1985_01_850.nc done!\n",
      "Download time: 50.364 s\n",
      "Folder 'F:\\JuPyterNotebook\\data\\raw_data\\ERA5_DATA\\GB_ERA5_DATA' created successfully.\n"
     ]
    },
    {
     "name": "stderr",
     "output_type": "stream",
     "text": [
      "2023-08-26 13:56:08,755 INFO Request is running\n",
      "2023-08-26 13:56:40,176 INFO Request is completed\n",
      "2023-08-26 13:56:40,176 INFO Downloading https://download-0003-clone.copernicus-climate.eu/cache-compute-0003/cache/data6/adaptor.mars.internal-1693054597.7105758-19065-17-f03c1278-b79f-4573-825e-0d0484bdf9e8.nc to F:\\JuPyterNotebook\\data\\raw_data\\ERA5_DATA\\GB_ERA5_DATA\\era5_pressure_level_1985_02_850.nc (1.6M)\n",
      "2023-08-26 13:56:40,766 INFO Download rate 2.7M/s                                                                      \n",
      "2023-08-26 13:56:40,858 INFO Welcome to the CDS\n",
      "2023-08-26 13:56:40,858 INFO Sending request to https://cds.climate.copernicus.eu/api/v2/resources/reanalysis-era5-pressure-levels\n",
      "2023-08-26 13:56:40,920 INFO Request is queued\n"
     ]
    },
    {
     "name": "stdout",
     "output_type": "stream",
     "text": [
      "era5_pressure_level_1985_02_850.nc done!\n",
      "Download time: 33.249 s\n",
      "Folder 'F:\\JuPyterNotebook\\data\\raw_data\\ERA5_DATA\\GB_ERA5_DATA' created successfully.\n"
     ]
    },
    {
     "name": "stderr",
     "output_type": "stream",
     "text": [
      "2023-08-26 13:56:41,954 INFO Request is running\n",
      "2023-08-26 13:57:30,503 INFO Request is completed\n",
      "2023-08-26 13:57:30,503 INFO Downloading https://download-0000-clone.copernicus-climate.eu/cache-compute-0000/cache/data3/adaptor.mars.internal-1693054632.1370935-11353-6-36af99ae-b43b-4be6-8dd4-6cf30c29eb3c.nc to F:\\JuPyterNotebook\\data\\raw_data\\ERA5_DATA\\GB_ERA5_DATA\\era5_pressure_level_1985_03_850.nc (1.7M)\n",
      "2023-08-26 13:57:31,014 INFO Download rate 3.4M/s                                                                      \n",
      "2023-08-26 13:57:31,097 INFO Welcome to the CDS\n",
      "2023-08-26 13:57:31,097 INFO Sending request to https://cds.climate.copernicus.eu/api/v2/resources/reanalysis-era5-pressure-levels\n",
      "2023-08-26 13:57:31,186 INFO Request is queued\n"
     ]
    },
    {
     "name": "stdout",
     "output_type": "stream",
     "text": [
      "era5_pressure_level_1985_03_850.nc done!\n",
      "Download time: 50.240 s\n",
      "Folder 'F:\\JuPyterNotebook\\data\\raw_data\\ERA5_DATA\\GB_ERA5_DATA' created successfully.\n"
     ]
    },
    {
     "name": "stderr",
     "output_type": "stream",
     "text": [
      "2023-08-26 13:57:32,228 INFO Request is running\n",
      "2023-08-26 13:58:20,769 INFO Request is completed\n",
      "2023-08-26 13:58:20,785 INFO Downloading https://download-0017.copernicus-climate.eu/cache-compute-0017/cache/data6/adaptor.mars.internal-1693054689.78178-27082-13-a66dab0d-c18e-4a3f-81a8-bb812d363c72.nc to F:\\JuPyterNotebook\\data\\raw_data\\ERA5_DATA\\GB_ERA5_DATA\\era5_pressure_level_1985_04_850.nc (1.7M)\n",
      "2023-08-26 13:58:21,313 INFO Download rate 3.2M/s                                                                      \n",
      "2023-08-26 13:58:21,391 INFO Welcome to the CDS\n",
      "2023-08-26 13:58:21,391 INFO Sending request to https://cds.climate.copernicus.eu/api/v2/resources/reanalysis-era5-pressure-levels\n",
      "2023-08-26 13:58:21,450 INFO Request is queued\n"
     ]
    },
    {
     "name": "stdout",
     "output_type": "stream",
     "text": [
      "era5_pressure_level_1985_04_850.nc done!\n",
      "Download time: 50.278 s\n",
      "Folder 'F:\\JuPyterNotebook\\data\\raw_data\\ERA5_DATA\\GB_ERA5_DATA' created successfully.\n"
     ]
    },
    {
     "name": "stderr",
     "output_type": "stream",
     "text": [
      "2023-08-26 13:58:22,485 INFO Request is running\n",
      "2023-08-26 13:59:11,066 INFO Request is completed\n",
      "2023-08-26 13:59:11,066 INFO Downloading https://download-0018.copernicus-climate.eu/cache-compute-0018/cache/data9/adaptor.mars.internal-1693054741.303377-2298-5-8ff7b953-b5f0-4a13-9032-b163d108cddb.nc to F:\\JuPyterNotebook\\data\\raw_data\\ERA5_DATA\\GB_ERA5_DATA\\era5_pressure_level_1985_05_850.nc (1.7M)\n",
      "2023-08-26 13:59:11,612 INFO Download rate 3.2M/s                                                                      \n",
      "2023-08-26 13:59:11,733 INFO Welcome to the CDS\n",
      "2023-08-26 13:59:11,733 INFO Sending request to https://cds.climate.copernicus.eu/api/v2/resources/reanalysis-era5-pressure-levels\n",
      "2023-08-26 13:59:11,854 INFO Request is queued\n"
     ]
    },
    {
     "name": "stdout",
     "output_type": "stream",
     "text": [
      "era5_pressure_level_1985_05_850.nc done!\n",
      "Download time: 50.326 s\n",
      "Folder 'F:\\JuPyterNotebook\\data\\raw_data\\ERA5_DATA\\GB_ERA5_DATA' created successfully.\n"
     ]
    },
    {
     "name": "stderr",
     "output_type": "stream",
     "text": [
      "2023-08-26 13:59:13,044 INFO Request is running\n",
      "2023-08-26 14:00:01,676 INFO Request is completed\n",
      "2023-08-26 14:00:01,692 INFO Downloading https://download-0000-clone.copernicus-climate.eu/cache-compute-0000/cache/data0/adaptor.mars.internal-1693054788.5519648-12608-3-95b2cf5b-4a5d-4af5-b301-ec23ab22815d.nc to F:\\JuPyterNotebook\\data\\raw_data\\ERA5_DATA\\GB_ERA5_DATA\\era5_pressure_level_1985_06_850.nc (1.7M)\n",
      "2023-08-26 14:00:02,219 INFO Download rate 3.2M/s                                                                      \n",
      "2023-08-26 14:00:02,302 INFO Welcome to the CDS\n",
      "2023-08-26 14:00:02,302 INFO Sending request to https://cds.climate.copernicus.eu/api/v2/resources/reanalysis-era5-pressure-levels\n",
      "2023-08-26 14:00:02,411 INFO Request is queued\n"
     ]
    },
    {
     "name": "stdout",
     "output_type": "stream",
     "text": [
      "era5_pressure_level_1985_06_850.nc done!\n",
      "Download time: 50.585 s\n",
      "Folder 'F:\\JuPyterNotebook\\data\\raw_data\\ERA5_DATA\\GB_ERA5_DATA' created successfully.\n"
     ]
    },
    {
     "name": "stderr",
     "output_type": "stream",
     "text": [
      "2023-08-26 14:00:03,451 INFO Request is running\n",
      "2023-08-26 14:00:52,002 INFO Request is completed\n",
      "2023-08-26 14:00:52,002 INFO Downloading https://download-0014-clone.copernicus-climate.eu/cache-compute-0014/cache/data0/adaptor.mars.internal-1693054838.7410882-6198-19-6b3f2985-c402-42a0-896e-7e5d239d402b.nc to F:\\JuPyterNotebook\\data\\raw_data\\ERA5_DATA\\GB_ERA5_DATA\\era5_pressure_level_1985_07_850.nc (1.7M)\n",
      "2023-08-26 14:00:52,589 INFO Download rate 3M/s                                                                        \n",
      "2023-08-26 14:00:52,689 INFO Welcome to the CDS\n",
      "2023-08-26 14:00:52,689 INFO Sending request to https://cds.climate.copernicus.eu/api/v2/resources/reanalysis-era5-pressure-levels\n",
      "2023-08-26 14:00:52,811 INFO Request is queued\n"
     ]
    },
    {
     "name": "stdout",
     "output_type": "stream",
     "text": [
      "era5_pressure_level_1985_07_850.nc done!\n",
      "Download time: 50.371 s\n",
      "Folder 'F:\\JuPyterNotebook\\data\\raw_data\\ERA5_DATA\\GB_ERA5_DATA' created successfully.\n"
     ]
    },
    {
     "name": "stderr",
     "output_type": "stream",
     "text": [
      "2023-08-26 14:00:53,857 INFO Request is running\n",
      "2023-08-26 14:01:42,416 INFO Request is completed\n",
      "2023-08-26 14:01:42,416 INFO Downloading https://download-0003-clone.copernicus-climate.eu/cache-compute-0003/cache/data3/adaptor.mars.internal-1693054889.2719972-27801-8-e6f39102-b990-44d5-a704-fc5247e6cca1.nc to F:\\JuPyterNotebook\\data\\raw_data\\ERA5_DATA\\GB_ERA5_DATA\\era5_pressure_level_1985_08_850.nc (1.7M)\n",
      "2023-08-26 14:01:42,962 INFO Download rate 3.2M/s                                                                      \n",
      "2023-08-26 14:01:43,043 INFO Welcome to the CDS\n",
      "2023-08-26 14:01:43,043 INFO Sending request to https://cds.climate.copernicus.eu/api/v2/resources/reanalysis-era5-pressure-levels\n",
      "2023-08-26 14:01:43,146 INFO Request is queued\n"
     ]
    },
    {
     "name": "stdout",
     "output_type": "stream",
     "text": [
      "era5_pressure_level_1985_08_850.nc done!\n",
      "Download time: 50.352 s\n",
      "Folder 'F:\\JuPyterNotebook\\data\\raw_data\\ERA5_DATA\\GB_ERA5_DATA' created successfully.\n"
     ]
    },
    {
     "name": "stderr",
     "output_type": "stream",
     "text": [
      "2023-08-26 14:01:44,190 INFO Request is running\n",
      "2023-08-26 14:02:32,723 INFO Request is completed\n",
      "2023-08-26 14:02:32,723 INFO Downloading https://download-0006-clone.copernicus-climate.eu/cache-compute-0006/cache/data7/adaptor.mars.internal-1693054938.7989862-20884-10-15acbfaa-2220-4a48-b1cc-ec92c220f361.nc to F:\\JuPyterNotebook\\data\\raw_data\\ERA5_DATA\\GB_ERA5_DATA\\era5_pressure_level_1985_09_850.nc (1.7M)\n",
      "2023-08-26 14:02:33,263 INFO Download rate 3.1M/s                                                                      \n",
      "2023-08-26 14:02:33,345 INFO Welcome to the CDS\n",
      "2023-08-26 14:02:33,345 INFO Sending request to https://cds.climate.copernicus.eu/api/v2/resources/reanalysis-era5-pressure-levels\n",
      "2023-08-26 14:02:33,393 INFO Request is queued\n"
     ]
    },
    {
     "name": "stdout",
     "output_type": "stream",
     "text": [
      "era5_pressure_level_1985_09_850.nc done!\n",
      "Download time: 50.298 s\n",
      "Folder 'F:\\JuPyterNotebook\\data\\raw_data\\ERA5_DATA\\GB_ERA5_DATA' created successfully.\n"
     ]
    },
    {
     "name": "stderr",
     "output_type": "stream",
     "text": [
      "2023-08-26 14:02:34,459 INFO Request is running\n",
      "2023-08-26 14:03:23,006 INFO Request is completed\n",
      "2023-08-26 14:03:23,006 INFO Downloading https://download-0004-clone.copernicus-climate.eu/cache-compute-0004/cache/data4/adaptor.mars.internal-1693054990.5684175-531-15-992f11fe-a40c-443a-abf3-4de372b099ac.nc to F:\\JuPyterNotebook\\data\\raw_data\\ERA5_DATA\\GB_ERA5_DATA\\era5_pressure_level_1985_10_850.nc (1.7M)\n",
      "2023-08-26 14:03:23,558 INFO Download rate 3.1M/s                                                                      \n",
      "2023-08-26 14:03:23,654 INFO Welcome to the CDS\n",
      "2023-08-26 14:03:23,654 INFO Sending request to https://cds.climate.copernicus.eu/api/v2/resources/reanalysis-era5-pressure-levels\n"
     ]
    },
    {
     "name": "stdout",
     "output_type": "stream",
     "text": [
      "era5_pressure_level_1985_10_850.nc done!\n",
      "Download time: 50.282 s\n",
      "Folder 'F:\\JuPyterNotebook\\data\\raw_data\\ERA5_DATA\\GB_ERA5_DATA' created successfully.\n"
     ]
    },
    {
     "name": "stderr",
     "output_type": "stream",
     "text": [
      "2023-08-26 14:03:23,814 INFO Request is queued\n",
      "2023-08-26 14:03:24,853 INFO Request is running\n",
      "2023-08-26 14:04:13,414 INFO Request is completed\n",
      "2023-08-26 14:04:13,414 INFO Downloading https://download-0010-clone.copernicus-climate.eu/cache-compute-0010/cache/data2/adaptor.mars.internal-1693055040.2675054-9269-8-8ee6992a-c850-4b07-a831-7050160183d2.nc to F:\\JuPyterNotebook\\data\\raw_data\\ERA5_DATA\\GB_ERA5_DATA\\era5_pressure_level_1985_11_850.nc (1.7M)\n",
      "2023-08-26 14:04:14,068 INFO Download rate 2.6M/s                                                                      \n",
      "2023-08-26 14:04:14,160 INFO Welcome to the CDS\n",
      "2023-08-26 14:04:14,160 INFO Sending request to https://cds.climate.copernicus.eu/api/v2/resources/reanalysis-era5-pressure-levels\n",
      "2023-08-26 14:04:14,279 INFO Request is queued\n"
     ]
    },
    {
     "name": "stdout",
     "output_type": "stream",
     "text": [
      "era5_pressure_level_1985_11_850.nc done!\n",
      "Download time: 50.522 s\n",
      "Folder 'F:\\JuPyterNotebook\\data\\raw_data\\ERA5_DATA\\GB_ERA5_DATA' created successfully.\n"
     ]
    },
    {
     "name": "stderr",
     "output_type": "stream",
     "text": [
      "2023-08-26 14:04:15,314 INFO Request is running\n",
      "2023-08-26 14:05:03,886 INFO Request is completed\n",
      "2023-08-26 14:05:03,886 INFO Downloading https://download-0006-clone.copernicus-climate.eu/cache-compute-0006/cache/data7/adaptor.mars.internal-1693055092.9562485-22294-10-3cb1ef8d-76bf-44f3-a1dc-a0045028c94e.nc to F:\\JuPyterNotebook\\data\\raw_data\\ERA5_DATA\\GB_ERA5_DATA\\era5_pressure_level_1985_12_850.nc (1.7M)\n",
      "2023-08-26 14:05:04,430 INFO Download rate 3.2M/s                                                                      \n",
      "2023-08-26 14:05:04,520 INFO Welcome to the CDS\n",
      "2023-08-26 14:05:04,520 INFO Sending request to https://cds.climate.copernicus.eu/api/v2/resources/reanalysis-era5-pressure-levels\n",
      "2023-08-26 14:05:04,579 INFO Request is queued\n"
     ]
    },
    {
     "name": "stdout",
     "output_type": "stream",
     "text": [
      "era5_pressure_level_1985_12_850.nc done!\n",
      "Download time: 50.376 s\n",
      "Folder 'F:\\JuPyterNotebook\\data\\raw_data\\ERA5_DATA\\GB_ERA5_DATA' created successfully.\n"
     ]
    },
    {
     "name": "stderr",
     "output_type": "stream",
     "text": [
      "2023-08-26 14:05:05,622 INFO Request is running\n",
      "2023-08-26 14:05:54,188 INFO Request is completed\n",
      "2023-08-26 14:05:54,201 INFO Downloading https://download-0013-clone.copernicus-climate.eu/cache-compute-0013/cache/data6/adaptor.mars.internal-1693055146.1598253-25390-6-dce28278-f1e7-4a82-89df-5c5f6732ecb8.nc to F:\\JuPyterNotebook\\data\\raw_data\\ERA5_DATA\\GB_ERA5_DATA\\era5_pressure_level_1986_01_850.nc (1.7M)\n",
      "2023-08-26 14:05:54,747 INFO Download rate 3.2M/s                                                                      \n",
      "2023-08-26 14:05:54,868 INFO Welcome to the CDS\n",
      "2023-08-26 14:05:54,883 INFO Sending request to https://cds.climate.copernicus.eu/api/v2/resources/reanalysis-era5-pressure-levels\n",
      "2023-08-26 14:05:54,969 INFO Request is queued\n"
     ]
    },
    {
     "name": "stdout",
     "output_type": "stream",
     "text": [
      "era5_pressure_level_1986_01_850.nc done!\n",
      "Download time: 50.315 s\n",
      "Folder 'F:\\JuPyterNotebook\\data\\raw_data\\ERA5_DATA\\GB_ERA5_DATA' created successfully.\n"
     ]
    },
    {
     "name": "stderr",
     "output_type": "stream",
     "text": [
      "2023-08-26 14:05:56,025 INFO Request is running\n",
      "2023-08-26 14:06:44,559 INFO Request is completed\n",
      "2023-08-26 14:06:44,559 INFO Downloading https://download-0018.copernicus-climate.eu/cache-compute-0018/cache/data6/adaptor.mars.internal-1693055191.0162358-2298-16-fc1845c4-b86b-41a4-a5fe-11b62f107f2c.nc to F:\\JuPyterNotebook\\data\\raw_data\\ERA5_DATA\\GB_ERA5_DATA\\era5_pressure_level_1986_02_850.nc (1.6M)\n",
      "2023-08-26 14:06:45,027 INFO Download rate 3.3M/s                                                                      \n",
      "2023-08-26 14:06:45,113 INFO Welcome to the CDS\n",
      "2023-08-26 14:06:45,113 INFO Sending request to https://cds.climate.copernicus.eu/api/v2/resources/reanalysis-era5-pressure-levels\n",
      "2023-08-26 14:06:45,174 INFO Request is queued\n"
     ]
    },
    {
     "name": "stdout",
     "output_type": "stream",
     "text": [
      "era5_pressure_level_1986_02_850.nc done!\n",
      "Download time: 50.274 s\n",
      "Folder 'F:\\JuPyterNotebook\\data\\raw_data\\ERA5_DATA\\GB_ERA5_DATA' created successfully.\n"
     ]
    },
    {
     "name": "stderr",
     "output_type": "stream",
     "text": [
      "2023-08-26 14:06:46,230 INFO Request is running\n",
      "2023-08-26 14:07:35,099 INFO Request is completed\n",
      "2023-08-26 14:07:35,099 INFO Downloading https://download-0001-clone.copernicus-climate.eu/cache-compute-0001/cache/data4/adaptor.mars.internal-1693055245.8481889-27165-12-b479d33d-b7e6-453e-955f-0eb78a51da60.nc to F:\\JuPyterNotebook\\data\\raw_data\\ERA5_DATA\\GB_ERA5_DATA\\era5_pressure_level_1986_03_850.nc (1.7M)\n",
      "2023-08-26 14:07:35,696 INFO Download rate 2.9M/s                                                                      \n",
      "2023-08-26 14:07:35,768 INFO Welcome to the CDS\n",
      "2023-08-26 14:07:35,768 INFO Sending request to https://cds.climate.copernicus.eu/api/v2/resources/reanalysis-era5-pressure-levels\n",
      "2023-08-26 14:07:35,859 INFO Request is queued\n"
     ]
    },
    {
     "name": "stdout",
     "output_type": "stream",
     "text": [
      "era5_pressure_level_1986_03_850.nc done!\n",
      "Download time: 50.656 s\n",
      "Folder 'F:\\JuPyterNotebook\\data\\raw_data\\ERA5_DATA\\GB_ERA5_DATA' created successfully.\n"
     ]
    },
    {
     "name": "stderr",
     "output_type": "stream",
     "text": [
      "2023-08-26 14:07:36,895 INFO Request is running\n",
      "2023-08-26 14:08:25,481 INFO Request is completed\n",
      "2023-08-26 14:08:25,497 INFO Downloading https://download-0003-clone.copernicus-climate.eu/cache-compute-0003/cache/data6/adaptor.mars.internal-1693055293.6020067-27458-11-b7af4f8d-1eb2-44ce-9eb0-0e26ce3a5147.nc to F:\\JuPyterNotebook\\data\\raw_data\\ERA5_DATA\\GB_ERA5_DATA\\era5_pressure_level_1986_04_850.nc (1.7M)\n",
      "2023-08-26 14:08:26,012 INFO Download rate 3.3M/s                                                                      \n",
      "2023-08-26 14:08:26,086 INFO Welcome to the CDS\n",
      "2023-08-26 14:08:26,086 INFO Sending request to https://cds.climate.copernicus.eu/api/v2/resources/reanalysis-era5-pressure-levels\n",
      "2023-08-26 14:08:26,187 INFO Request is queued\n"
     ]
    },
    {
     "name": "stdout",
     "output_type": "stream",
     "text": [
      "era5_pressure_level_1986_04_850.nc done!\n",
      "Download time: 50.318 s\n",
      "Folder 'F:\\JuPyterNotebook\\data\\raw_data\\ERA5_DATA\\GB_ERA5_DATA' created successfully.\n"
     ]
    },
    {
     "name": "stderr",
     "output_type": "stream",
     "text": [
      "2023-08-26 14:08:27,232 INFO Request is running\n",
      "2023-08-26 14:09:15,774 INFO Request is completed\n",
      "2023-08-26 14:09:15,774 INFO Downloading https://download-0001-clone.copernicus-climate.eu/cache-compute-0001/cache/data7/adaptor.mars.internal-1693055339.1099136-24992-17-44915627-5f58-404c-beb5-87d569ea5285.nc to F:\\JuPyterNotebook\\data\\raw_data\\ERA5_DATA\\GB_ERA5_DATA\\era5_pressure_level_1986_05_850.nc (1.7M)\n",
      "2023-08-26 14:09:16,443 INFO Download rate 2.6M/s                                                                      \n",
      "2023-08-26 14:09:16,524 INFO Welcome to the CDS\n",
      "2023-08-26 14:09:16,524 INFO Sending request to https://cds.climate.copernicus.eu/api/v2/resources/reanalysis-era5-pressure-levels\n",
      "2023-08-26 14:09:16,581 INFO Request is queued\n"
     ]
    },
    {
     "name": "stdout",
     "output_type": "stream",
     "text": [
      "era5_pressure_level_1986_05_850.nc done!\n",
      "Download time: 50.423 s\n",
      "Folder 'F:\\JuPyterNotebook\\data\\raw_data\\ERA5_DATA\\GB_ERA5_DATA' created successfully.\n"
     ]
    },
    {
     "name": "stderr",
     "output_type": "stream",
     "text": [
      "2023-08-26 14:09:17,614 INFO Request is running\n",
      "2023-08-26 14:10:06,174 INFO Request is completed\n",
      "2023-08-26 14:10:06,174 INFO Downloading https://download-0001-clone.copernicus-climate.eu/cache-compute-0001/cache/data2/adaptor.mars.internal-1693055399.3547368-16244-10-bdcb47bf-1bf1-4139-8ae7-330de02587bc.nc to F:\\JuPyterNotebook\\data\\raw_data\\ERA5_DATA\\GB_ERA5_DATA\\era5_pressure_level_1986_06_850.nc (1.7M)\n",
      "2023-08-26 14:10:06,678 INFO Download rate 3.3M/s                                                                      \n",
      "2023-08-26 14:10:06,748 INFO Welcome to the CDS\n",
      "2023-08-26 14:10:06,748 INFO Sending request to https://cds.climate.copernicus.eu/api/v2/resources/reanalysis-era5-pressure-levels\n",
      "2023-08-26 14:10:06,790 INFO Request is queued\n"
     ]
    },
    {
     "name": "stdout",
     "output_type": "stream",
     "text": [
      "era5_pressure_level_1986_06_850.nc done!\n",
      "Download time: 50.239 s\n",
      "Folder 'F:\\JuPyterNotebook\\data\\raw_data\\ERA5_DATA\\GB_ERA5_DATA' created successfully.\n"
     ]
    },
    {
     "name": "stderr",
     "output_type": "stream",
     "text": [
      "2023-08-26 14:10:07,831 INFO Request is running\n",
      "2023-08-26 14:10:56,366 INFO Request is completed\n",
      "2023-08-26 14:10:56,378 INFO Downloading https://download-0003-clone.copernicus-climate.eu/cache-compute-0003/cache/data6/adaptor.mars.internal-1693055446.1586998-30337-6-850db5ff-14fd-45fc-8f8e-47daa9db77e8.nc to F:\\JuPyterNotebook\\data\\raw_data\\ERA5_DATA\\GB_ERA5_DATA\\era5_pressure_level_1986_07_850.nc (1.7M)\n",
      "2023-08-26 14:10:56,942 INFO Download rate 3.1M/s                                                                      \n",
      "2023-08-26 14:10:57,019 INFO Welcome to the CDS\n",
      "2023-08-26 14:10:57,019 INFO Sending request to https://cds.climate.copernicus.eu/api/v2/resources/reanalysis-era5-pressure-levels\n",
      "2023-08-26 14:10:57,081 INFO Request is queued\n"
     ]
    },
    {
     "name": "stdout",
     "output_type": "stream",
     "text": [
      "era5_pressure_level_1986_07_850.nc done!\n",
      "Download time: 50.256 s\n",
      "Folder 'F:\\JuPyterNotebook\\data\\raw_data\\ERA5_DATA\\GB_ERA5_DATA' created successfully.\n"
     ]
    },
    {
     "name": "stderr",
     "output_type": "stream",
     "text": [
      "2023-08-26 14:10:58,121 INFO Request is running\n",
      "2023-08-26 14:11:46,664 INFO Request is completed\n",
      "2023-08-26 14:11:46,664 INFO Downloading https://download-0012-clone.copernicus-climate.eu/cache-compute-0012/cache/data2/adaptor.mars.internal-1693055494.3892014-23241-2-29770af3-80ff-46eb-b0a8-226dae060ba5.nc to F:\\JuPyterNotebook\\data\\raw_data\\ERA5_DATA\\GB_ERA5_DATA\\era5_pressure_level_1986_08_850.nc (1.7M)\n",
      "2023-08-26 14:11:47,158 INFO Download rate 3.6M/s                                                                      \n",
      "2023-08-26 14:11:47,240 INFO Welcome to the CDS\n",
      "2023-08-26 14:11:47,240 INFO Sending request to https://cds.climate.copernicus.eu/api/v2/resources/reanalysis-era5-pressure-levels\n",
      "2023-08-26 14:11:47,316 INFO Request is queued\n"
     ]
    },
    {
     "name": "stdout",
     "output_type": "stream",
     "text": [
      "era5_pressure_level_1986_08_850.nc done!\n",
      "Download time: 50.220 s\n",
      "Folder 'F:\\JuPyterNotebook\\data\\raw_data\\ERA5_DATA\\GB_ERA5_DATA' created successfully.\n"
     ]
    },
    {
     "name": "stderr",
     "output_type": "stream",
     "text": [
      "2023-08-26 14:11:48,366 INFO Request is running\n",
      "2023-08-26 14:12:36,920 INFO Request is completed\n",
      "2023-08-26 14:12:36,920 INFO Downloading https://download-0012-clone.copernicus-climate.eu/cache-compute-0012/cache/data4/adaptor.mars.internal-1693055544.6454937-12105-19-b064686a-a16c-46c5-b4c1-2587bad79891.nc to F:\\JuPyterNotebook\\data\\raw_data\\ERA5_DATA\\GB_ERA5_DATA\\era5_pressure_level_1986_09_850.nc (1.7M)\n",
      "2023-08-26 14:12:37,276 INFO Download rate 4.7M/s                                                                      \n",
      "2023-08-26 14:12:37,364 INFO Welcome to the CDS\n",
      "2023-08-26 14:12:37,364 INFO Sending request to https://cds.climate.copernicus.eu/api/v2/resources/reanalysis-era5-pressure-levels\n",
      "2023-08-26 14:12:37,403 INFO Request is queued\n"
     ]
    },
    {
     "name": "stdout",
     "output_type": "stream",
     "text": [
      "era5_pressure_level_1986_09_850.nc done!\n",
      "Download time: 50.107 s\n",
      "Folder 'F:\\JuPyterNotebook\\data\\raw_data\\ERA5_DATA\\GB_ERA5_DATA' created successfully.\n"
     ]
    },
    {
     "name": "stderr",
     "output_type": "stream",
     "text": [
      "2023-08-26 14:12:38,445 INFO Request is running\n",
      "2023-08-26 14:13:27,008 INFO Request is completed\n",
      "2023-08-26 14:13:27,008 INFO Downloading https://download-0007-clone.copernicus-climate.eu/cache-compute-0007/cache/data1/adaptor.mars.internal-1693055597.7378128-10599-14-22520ae3-700d-44b2-9db3-3d5fe1b43d6a.nc to F:\\JuPyterNotebook\\data\\raw_data\\ERA5_DATA\\GB_ERA5_DATA\\era5_pressure_level_1986_10_850.nc (1.7M)\n",
      "2023-08-26 14:13:27,535 INFO Download rate 3.4M/s                                                                      \n",
      "2023-08-26 14:13:27,626 INFO Welcome to the CDS\n",
      "2023-08-26 14:13:27,626 INFO Sending request to https://cds.climate.copernicus.eu/api/v2/resources/reanalysis-era5-pressure-levels\n",
      "2023-08-26 14:13:27,738 INFO Request is queued\n"
     ]
    },
    {
     "name": "stdout",
     "output_type": "stream",
     "text": [
      "era5_pressure_level_1986_10_850.nc done!\n",
      "Download time: 50.259 s\n",
      "Folder 'F:\\JuPyterNotebook\\data\\raw_data\\ERA5_DATA\\GB_ERA5_DATA' created successfully.\n"
     ]
    },
    {
     "name": "stderr",
     "output_type": "stream",
     "text": [
      "2023-08-26 14:13:28,772 INFO Request is running\n",
      "2023-08-26 14:14:17,323 INFO Request is completed\n",
      "2023-08-26 14:14:17,323 INFO Downloading https://download-0019.copernicus-climate.eu/cache-compute-0019/cache/data2/adaptor.mars.internal-1693055639.863811-30488-17-08cc22e2-3b9a-44e6-a1f3-1964d3a4ddc8.nc to F:\\JuPyterNotebook\\data\\raw_data\\ERA5_DATA\\GB_ERA5_DATA\\era5_pressure_level_1986_11_850.nc (1.7M)\n",
      "2023-08-26 14:14:17,868 INFO Download rate 3.1M/s                                                                      \n",
      "2023-08-26 14:14:17,945 INFO Welcome to the CDS\n",
      "2023-08-26 14:14:17,945 INFO Sending request to https://cds.climate.copernicus.eu/api/v2/resources/reanalysis-era5-pressure-levels\n",
      "2023-08-26 14:14:18,027 INFO Request is queued\n"
     ]
    },
    {
     "name": "stdout",
     "output_type": "stream",
     "text": [
      "era5_pressure_level_1986_11_850.nc done!\n",
      "Download time: 50.324 s\n",
      "Folder 'F:\\JuPyterNotebook\\data\\raw_data\\ERA5_DATA\\GB_ERA5_DATA' created successfully.\n"
     ]
    },
    {
     "name": "stderr",
     "output_type": "stream",
     "text": [
      "2023-08-26 14:14:19,062 INFO Request is running\n",
      "2023-08-26 14:15:07,811 INFO Request is completed\n",
      "2023-08-26 14:15:07,811 INFO Downloading https://download-0012-clone.copernicus-climate.eu/cache-compute-0012/cache/data6/adaptor.mars.internal-1693055695.7013602-16085-16-c61b601f-2053-4588-abca-f09d4d9dc17e.nc to F:\\JuPyterNotebook\\data\\raw_data\\ERA5_DATA\\GB_ERA5_DATA\\era5_pressure_level_1986_12_850.nc (1.7M)\n",
      "2023-08-26 14:15:08,322 INFO Download rate 3.4M/s                                                                      \n",
      "2023-08-26 14:15:08,408 INFO Welcome to the CDS\n",
      "2023-08-26 14:15:08,408 INFO Sending request to https://cds.climate.copernicus.eu/api/v2/resources/reanalysis-era5-pressure-levels\n",
      "2023-08-26 14:15:08,470 INFO Request is queued\n"
     ]
    },
    {
     "name": "stdout",
     "output_type": "stream",
     "text": [
      "era5_pressure_level_1986_12_850.nc done!\n",
      "Download time: 50.447 s\n",
      "Folder 'F:\\JuPyterNotebook\\data\\raw_data\\ERA5_DATA\\GB_ERA5_DATA' created successfully.\n"
     ]
    },
    {
     "name": "stderr",
     "output_type": "stream",
     "text": [
      "2023-08-26 14:15:09,523 INFO Request is running\n",
      "2023-08-26 14:15:58,107 INFO Request is completed\n",
      "2023-08-26 14:15:58,107 INFO Downloading https://download-0010-clone.copernicus-climate.eu/cache-compute-0010/cache/data5/adaptor.mars.internal-1693055746.656315-20038-9-42f80801-f49e-4941-a59a-5906a0580733.nc to F:\\JuPyterNotebook\\data\\raw_data\\ERA5_DATA\\GB_ERA5_DATA\\era5_pressure_level_1987_01_850.nc (1.7M)\n",
      "2023-08-26 14:15:58,578 INFO Download rate 3.7M/s                                                                      \n",
      "2023-08-26 14:15:58,705 INFO Welcome to the CDS\n",
      "2023-08-26 14:15:58,705 INFO Sending request to https://cds.climate.copernicus.eu/api/v2/resources/reanalysis-era5-pressure-levels\n",
      "2023-08-26 14:15:58,772 INFO Request is queued\n"
     ]
    },
    {
     "name": "stdout",
     "output_type": "stream",
     "text": [
      "era5_pressure_level_1987_01_850.nc done!\n",
      "Download time: 50.297 s\n",
      "Folder 'F:\\JuPyterNotebook\\data\\raw_data\\ERA5_DATA\\GB_ERA5_DATA' created successfully.\n"
     ]
    },
    {
     "name": "stderr",
     "output_type": "stream",
     "text": [
      "2023-08-26 14:15:59,828 INFO Request is running\n",
      "2023-08-26 14:16:48,416 INFO Request is completed\n",
      "2023-08-26 14:16:48,416 INFO Downloading https://download-0011-clone.copernicus-climate.eu/cache-compute-0011/cache/data8/adaptor.mars.internal-1693055795.2228022-15001-13-aabb5333-87e9-4437-85da-69327ed8018e.nc to F:\\JuPyterNotebook\\data\\raw_data\\ERA5_DATA\\GB_ERA5_DATA\\era5_pressure_level_1987_02_850.nc (1.6M)\n",
      "2023-08-26 14:16:48,952 INFO Download rate 2.9M/s                                                                      \n",
      "2023-08-26 14:16:49,031 INFO Welcome to the CDS\n",
      "2023-08-26 14:16:49,031 INFO Sending request to https://cds.climate.copernicus.eu/api/v2/resources/reanalysis-era5-pressure-levels\n",
      "2023-08-26 14:16:49,100 INFO Request is queued\n"
     ]
    },
    {
     "name": "stdout",
     "output_type": "stream",
     "text": [
      "era5_pressure_level_1987_02_850.nc done!\n",
      "Download time: 50.326 s\n",
      "Folder 'F:\\JuPyterNotebook\\data\\raw_data\\ERA5_DATA\\GB_ERA5_DATA' created successfully.\n"
     ]
    },
    {
     "name": "stderr",
     "output_type": "stream",
     "text": [
      "2023-08-26 14:16:50,155 INFO Request is running\n",
      "2023-08-26 14:17:02,536 INFO Request is completed\n",
      "2023-08-26 14:17:02,536 INFO Downloading https://download-0000-clone.copernicus-climate.eu/cache-compute-0000/cache/data0/adaptor.mars.internal-1693055819.6770215-14026-17-78d6a2af-e8f4-4a71-88c1-b4fc44cea8c1.nc to F:\\JuPyterNotebook\\data\\raw_data\\ERA5_DATA\\GB_ERA5_DATA\\era5_pressure_level_1987_03_850.nc (1.7M)\n",
      "2023-08-26 14:17:03,061 INFO Download rate 3.3M/s                                                                      \n",
      "2023-08-26 14:17:03,154 INFO Welcome to the CDS\n",
      "2023-08-26 14:17:03,154 INFO Sending request to https://cds.climate.copernicus.eu/api/v2/resources/reanalysis-era5-pressure-levels\n",
      "2023-08-26 14:17:03,256 INFO Request is queued\n"
     ]
    },
    {
     "name": "stdout",
     "output_type": "stream",
     "text": [
      "era5_pressure_level_1987_03_850.nc done!\n",
      "Download time: 14.108 s\n",
      "Folder 'F:\\JuPyterNotebook\\data\\raw_data\\ERA5_DATA\\GB_ERA5_DATA' created successfully.\n"
     ]
    },
    {
     "name": "stderr",
     "output_type": "stream",
     "text": [
      "2023-08-26 14:17:04,292 INFO Request is running\n",
      "2023-08-26 14:17:52,891 INFO Request is completed\n",
      "2023-08-26 14:17:52,891 INFO Downloading https://download-0006-clone.copernicus-climate.eu/cache-compute-0006/cache/data9/adaptor.mars.internal-1693055860.1301837-31144-9-bd722e30-b5d3-4130-abcc-0148fd0420a3.nc to F:\\JuPyterNotebook\\data\\raw_data\\ERA5_DATA\\GB_ERA5_DATA\\era5_pressure_level_1987_04_850.nc (1.7M)\n",
      "2023-08-26 14:17:53,449 INFO Download rate 3M/s                                                                        \n",
      "2023-08-26 14:17:53,524 INFO Welcome to the CDS\n",
      "2023-08-26 14:17:53,524 INFO Sending request to https://cds.climate.copernicus.eu/api/v2/resources/reanalysis-era5-pressure-levels\n",
      "2023-08-26 14:17:53,637 INFO Request is queued\n"
     ]
    },
    {
     "name": "stdout",
     "output_type": "stream",
     "text": [
      "era5_pressure_level_1987_04_850.nc done!\n",
      "Download time: 50.384 s\n",
      "Folder 'F:\\JuPyterNotebook\\data\\raw_data\\ERA5_DATA\\GB_ERA5_DATA' created successfully.\n"
     ]
    },
    {
     "name": "stderr",
     "output_type": "stream",
     "text": [
      "2023-08-26 14:17:54,671 INFO Request is running\n",
      "2023-08-26 14:18:43,272 INFO Request is completed\n",
      "2023-08-26 14:18:43,272 INFO Downloading https://download-0014-clone.copernicus-climate.eu/cache-compute-0014/cache/data4/adaptor.mars.internal-1693055912.0092096-19249-13-5a232536-0a86-412e-869c-2777015b92c5.nc to F:\\JuPyterNotebook\\data\\raw_data\\ERA5_DATA\\GB_ERA5_DATA\\era5_pressure_level_1987_05_850.nc (1.7M)\n",
      "2023-08-26 14:18:43,788 INFO Download rate 3.4M/s                                                                      \n",
      "2023-08-26 14:18:43,876 INFO Welcome to the CDS\n",
      "2023-08-26 14:18:43,876 INFO Sending request to https://cds.climate.copernicus.eu/api/v2/resources/reanalysis-era5-pressure-levels\n",
      "2023-08-26 14:18:43,946 INFO Request is queued\n"
     ]
    },
    {
     "name": "stdout",
     "output_type": "stream",
     "text": [
      "era5_pressure_level_1987_05_850.nc done!\n",
      "Download time: 50.334 s\n",
      "Folder 'F:\\JuPyterNotebook\\data\\raw_data\\ERA5_DATA\\GB_ERA5_DATA' created successfully.\n"
     ]
    },
    {
     "name": "stderr",
     "output_type": "stream",
     "text": [
      "2023-08-26 14:18:44,987 INFO Request is running\n",
      "2023-08-26 14:19:33,558 INFO Request is completed\n",
      "2023-08-26 14:19:33,558 INFO Downloading https://download-0018.copernicus-climate.eu/cache-compute-0018/cache/data4/adaptor.mars.internal-1693055959.3434906-9771-13-e6b58357-894a-4e5c-9262-651b48a935a8.nc to F:\\JuPyterNotebook\\data\\raw_data\\ERA5_DATA\\GB_ERA5_DATA\\era5_pressure_level_1987_06_850.nc (1.7M)\n",
      "2023-08-26 14:19:34,095 INFO Download rate 3.2M/s                                                                      \n",
      "2023-08-26 14:19:34,171 INFO Welcome to the CDS\n",
      "2023-08-26 14:19:34,187 INFO Sending request to https://cds.climate.copernicus.eu/api/v2/resources/reanalysis-era5-pressure-levels\n",
      "2023-08-26 14:19:34,271 INFO Request is queued\n"
     ]
    },
    {
     "name": "stdout",
     "output_type": "stream",
     "text": [
      "era5_pressure_level_1987_06_850.nc done!\n",
      "Download time: 50.315 s\n",
      "Folder 'F:\\JuPyterNotebook\\data\\raw_data\\ERA5_DATA\\GB_ERA5_DATA' created successfully.\n"
     ]
    },
    {
     "name": "stderr",
     "output_type": "stream",
     "text": [
      "2023-08-26 14:19:35,319 INFO Request is running\n",
      "2023-08-26 14:20:23,901 INFO Request is completed\n",
      "2023-08-26 14:20:23,917 INFO Downloading https://download-0000-clone.copernicus-climate.eu/cache-compute-0000/cache/data0/adaptor.mars.internal-1693056013.040591-24506-2-6005af91-ad82-4b57-b176-a43e09378c5b.nc to F:\\JuPyterNotebook\\data\\raw_data\\ERA5_DATA\\GB_ERA5_DATA\\era5_pressure_level_1987_07_850.nc (1.7M)\n",
      "2023-08-26 14:20:24,426 INFO Download rate 3.4M/s                                                                      \n",
      "2023-08-26 14:20:24,512 INFO Welcome to the CDS\n",
      "2023-08-26 14:20:24,512 INFO Sending request to https://cds.climate.copernicus.eu/api/v2/resources/reanalysis-era5-pressure-levels\n",
      "2023-08-26 14:20:24,579 INFO Request is queued\n"
     ]
    },
    {
     "name": "stdout",
     "output_type": "stream",
     "text": [
      "era5_pressure_level_1987_07_850.nc done!\n",
      "Download time: 50.340 s\n",
      "Folder 'F:\\JuPyterNotebook\\data\\raw_data\\ERA5_DATA\\GB_ERA5_DATA' created successfully.\n"
     ]
    },
    {
     "name": "stderr",
     "output_type": "stream",
     "text": [
      "2023-08-26 14:20:25,635 INFO Request is running\n",
      "2023-08-26 14:21:14,205 INFO Request is completed\n",
      "2023-08-26 14:21:14,205 INFO Downloading https://download-0007-clone.copernicus-climate.eu/cache-compute-0007/cache/data6/adaptor.mars.internal-1693056063.7407234-18743-15-08f534db-a0ff-4b3b-ae0c-76c43f6e5739.nc to F:\\JuPyterNotebook\\data\\raw_data\\ERA5_DATA\\GB_ERA5_DATA\\era5_pressure_level_1987_08_850.nc (1.7M)\n",
      "2023-08-26 14:21:14,779 INFO Download rate 3M/s                                                                        \n",
      "2023-08-26 14:21:14,860 INFO Welcome to the CDS\n",
      "2023-08-26 14:21:14,860 INFO Sending request to https://cds.climate.copernicus.eu/api/v2/resources/reanalysis-era5-pressure-levels\n",
      "2023-08-26 14:21:14,985 INFO Request is queued\n"
     ]
    },
    {
     "name": "stdout",
     "output_type": "stream",
     "text": [
      "era5_pressure_level_1987_08_850.nc done!\n",
      "Download time: 50.333 s\n",
      "Folder 'F:\\JuPyterNotebook\\data\\raw_data\\ERA5_DATA\\GB_ERA5_DATA' created successfully.\n"
     ]
    },
    {
     "name": "stderr",
     "output_type": "stream",
     "text": [
      "2023-08-26 14:21:16,031 INFO Request is running\n",
      "2023-08-26 14:22:04,943 INFO Request is completed\n",
      "2023-08-26 14:22:04,959 INFO Downloading https://download-0009-clone.copernicus-climate.eu/cache-compute-0009/cache/data6/adaptor.mars.internal-1693056118.7668111-16637-1-607c486f-ffda-47c6-90d0-52c3231f6a09.nc to F:\\JuPyterNotebook\\data\\raw_data\\ERA5_DATA\\GB_ERA5_DATA\\era5_pressure_level_1987_09_850.nc (1.7M)\n",
      "2023-08-26 14:22:05,486 INFO Download rate 3.2M/s                                                                      \n",
      "2023-08-26 14:22:05,571 INFO Welcome to the CDS\n",
      "2023-08-26 14:22:05,572 INFO Sending request to https://cds.climate.copernicus.eu/api/v2/resources/reanalysis-era5-pressure-levels\n",
      "2023-08-26 14:22:05,608 INFO Request is queued\n"
     ]
    },
    {
     "name": "stdout",
     "output_type": "stream",
     "text": [
      "era5_pressure_level_1987_09_850.nc done!\n",
      "Download time: 50.691 s\n",
      "Folder 'F:\\JuPyterNotebook\\data\\raw_data\\ERA5_DATA\\GB_ERA5_DATA' created successfully.\n"
     ]
    },
    {
     "name": "stderr",
     "output_type": "stream",
     "text": [
      "2023-08-26 14:22:06,650 INFO Request is running\n",
      "2023-08-26 14:22:55,178 INFO Request is completed\n",
      "2023-08-26 14:22:55,178 INFO Downloading https://download-0019.copernicus-climate.eu/cache-compute-0019/cache/data8/adaptor.mars.internal-1693056170.8199942-1076-18-c13845b5-7bdc-47a1-a796-6fa1775ac9dd.nc to F:\\JuPyterNotebook\\data\\raw_data\\ERA5_DATA\\GB_ERA5_DATA\\era5_pressure_level_1987_10_850.nc (1.7M)\n",
      "2023-08-26 14:22:55,689 INFO Download rate 3.4M/s                                                                      \n",
      "2023-08-26 14:22:55,757 INFO Welcome to the CDS\n",
      "2023-08-26 14:22:55,757 INFO Sending request to https://cds.climate.copernicus.eu/api/v2/resources/reanalysis-era5-pressure-levels\n",
      "2023-08-26 14:22:55,806 INFO Request is queued\n"
     ]
    },
    {
     "name": "stdout",
     "output_type": "stream",
     "text": [
      "era5_pressure_level_1987_10_850.nc done!\n",
      "Download time: 50.206 s\n",
      "Folder 'F:\\JuPyterNotebook\\data\\raw_data\\ERA5_DATA\\GB_ERA5_DATA' created successfully.\n"
     ]
    },
    {
     "name": "stderr",
     "output_type": "stream",
     "text": [
      "2023-08-26 14:22:56,847 INFO Request is running\n",
      "2023-08-26 14:23:45,388 INFO Request is completed\n",
      "2023-08-26 14:23:45,388 INFO Downloading https://download-0020.copernicus-climate.eu/cache-compute-0020/cache/data1/adaptor.mars.internal-1693056222.653581-1148-8-53e52484-7c95-4573-8566-676e967712e8.nc to F:\\JuPyterNotebook\\data\\raw_data\\ERA5_DATA\\GB_ERA5_DATA\\era5_pressure_level_1987_11_850.nc (1.7M)\n",
      "2023-08-26 14:23:45,891 INFO Download rate 3.3M/s                                                                      \n",
      "2023-08-26 14:23:45,979 INFO Welcome to the CDS\n",
      "2023-08-26 14:23:45,981 INFO Sending request to https://cds.climate.copernicus.eu/api/v2/resources/reanalysis-era5-pressure-levels\n",
      "2023-08-26 14:23:46,096 INFO Request is queued\n"
     ]
    },
    {
     "name": "stdout",
     "output_type": "stream",
     "text": [
      "era5_pressure_level_1987_11_850.nc done!\n",
      "Download time: 50.202 s\n",
      "Folder 'F:\\JuPyterNotebook\\data\\raw_data\\ERA5_DATA\\GB_ERA5_DATA' created successfully.\n"
     ]
    },
    {
     "name": "stderr",
     "output_type": "stream",
     "text": [
      "2023-08-26 14:23:47,140 INFO Request is running\n",
      "2023-08-26 14:24:35,706 INFO Request is completed\n",
      "2023-08-26 14:24:35,706 INFO Downloading https://download-0020.copernicus-climate.eu/cache-compute-0020/cache/data7/adaptor.mars.internal-1693056264.8061697-1595-5-675de4db-1175-4c37-8abf-ffc922c750ef.nc to F:\\JuPyterNotebook\\data\\raw_data\\ERA5_DATA\\GB_ERA5_DATA\\era5_pressure_level_1987_12_850.nc (1.7M)\n",
      "2023-08-26 14:24:36,068 INFO Download rate 4.8M/s                                                                      \n",
      "2023-08-26 14:24:36,161 INFO Welcome to the CDS\n",
      "2023-08-26 14:24:36,161 INFO Sending request to https://cds.climate.copernicus.eu/api/v2/resources/reanalysis-era5-pressure-levels\n",
      "2023-08-26 14:24:36,279 INFO Request is queued\n"
     ]
    },
    {
     "name": "stdout",
     "output_type": "stream",
     "text": [
      "era5_pressure_level_1987_12_850.nc done!\n",
      "Download time: 50.185 s\n",
      "Folder 'F:\\JuPyterNotebook\\data\\raw_data\\ERA5_DATA\\GB_ERA5_DATA' created successfully.\n"
     ]
    },
    {
     "name": "stderr",
     "output_type": "stream",
     "text": [
      "2023-08-26 14:24:37,317 INFO Request is running\n",
      "2023-08-26 14:25:25,913 INFO Request is completed\n",
      "2023-08-26 14:25:25,913 INFO Downloading https://download-0007-clone.copernicus-climate.eu/cache-compute-0007/cache/data1/adaptor.mars.internal-1693056312.6685371-20916-11-b0822aaa-c594-4922-a489-be197ef422db.nc to F:\\JuPyterNotebook\\data\\raw_data\\ERA5_DATA\\GB_ERA5_DATA\\era5_pressure_level_1988_01_850.nc (1.7M)\n",
      "2023-08-26 14:25:26,391 INFO Download rate 3.6M/s                                                                      \n",
      "2023-08-26 14:25:26,466 INFO Welcome to the CDS\n",
      "2023-08-26 14:25:26,482 INFO Sending request to https://cds.climate.copernicus.eu/api/v2/resources/reanalysis-era5-pressure-levels\n",
      "2023-08-26 14:25:26,520 INFO Request is queued\n"
     ]
    },
    {
     "name": "stdout",
     "output_type": "stream",
     "text": [
      "era5_pressure_level_1988_01_850.nc done!\n",
      "Download time: 50.321 s\n",
      "Folder 'F:\\JuPyterNotebook\\data\\raw_data\\ERA5_DATA\\GB_ERA5_DATA' created successfully.\n"
     ]
    },
    {
     "name": "stderr",
     "output_type": "stream",
     "text": [
      "2023-08-26 14:25:27,556 INFO Request is running\n",
      "2023-08-26 14:26:16,101 INFO Request is completed\n",
      "2023-08-26 14:26:16,101 INFO Downloading https://download-0020.copernicus-climate.eu/cache-compute-0020/cache/data3/adaptor.mars.internal-1693056363.0525455-3082-2-990deb9d-aeb8-4e5e-aa8f-59043a66066d.nc to F:\\JuPyterNotebook\\data\\raw_data\\ERA5_DATA\\GB_ERA5_DATA\\era5_pressure_level_1988_02_850.nc (1.6M)\n",
      "2023-08-26 14:26:16,595 INFO Download rate 3.3M/s                                                                      \n",
      "2023-08-26 14:26:16,677 INFO Welcome to the CDS\n",
      "2023-08-26 14:26:16,677 INFO Sending request to https://cds.climate.copernicus.eu/api/v2/resources/reanalysis-era5-pressure-levels\n",
      "2023-08-26 14:26:16,761 INFO Request is queued\n"
     ]
    },
    {
     "name": "stdout",
     "output_type": "stream",
     "text": [
      "era5_pressure_level_1988_02_850.nc done!\n",
      "Download time: 50.195 s\n",
      "Folder 'F:\\JuPyterNotebook\\data\\raw_data\\ERA5_DATA\\GB_ERA5_DATA' created successfully.\n"
     ]
    },
    {
     "name": "stderr",
     "output_type": "stream",
     "text": [
      "2023-08-26 14:26:17,805 INFO Request is running\n",
      "2023-08-26 14:27:06,388 INFO Request is completed\n",
      "2023-08-26 14:27:06,404 INFO Downloading https://download-0005-clone.copernicus-climate.eu/cache-compute-0005/cache/data2/adaptor.mars.internal-1693056415.9430623-10031-2-693c4e22-7125-4eb5-8c6c-d4f29d9bec93.nc to F:\\JuPyterNotebook\\data\\raw_data\\ERA5_DATA\\GB_ERA5_DATA\\era5_pressure_level_1988_03_850.nc (1.7M)\n",
      "2023-08-26 14:27:06,888 INFO Download rate 3.6M/s                                                                      \n",
      "2023-08-26 14:27:06,975 INFO Welcome to the CDS\n",
      "2023-08-26 14:27:06,975 INFO Sending request to https://cds.climate.copernicus.eu/api/v2/resources/reanalysis-era5-pressure-levels\n",
      "2023-08-26 14:27:07,015 INFO Request is queued\n"
     ]
    },
    {
     "name": "stdout",
     "output_type": "stream",
     "text": [
      "era5_pressure_level_1988_03_850.nc done!\n",
      "Download time: 50.296 s\n",
      "Folder 'F:\\JuPyterNotebook\\data\\raw_data\\ERA5_DATA\\GB_ERA5_DATA' created successfully.\n"
     ]
    },
    {
     "name": "stderr",
     "output_type": "stream",
     "text": [
      "2023-08-26 14:27:08,047 INFO Request is running\n",
      "2023-08-26 14:27:56,614 INFO Request is completed\n",
      "2023-08-26 14:27:56,614 INFO Downloading https://download-0020.copernicus-climate.eu/cache-compute-0020/cache/data5/adaptor.mars.internal-1693056464.1680667-1248-11-7722eff9-4acd-45a5-b8b8-b2010b3ee1b1.nc to F:\\JuPyterNotebook\\data\\raw_data\\ERA5_DATA\\GB_ERA5_DATA\\era5_pressure_level_1988_04_850.nc (1.7M)\n",
      "2023-08-26 14:27:57,147 INFO Download rate 3.2M/s                                                                      \n",
      "2023-08-26 14:27:57,235 INFO Welcome to the CDS\n",
      "2023-08-26 14:27:57,235 INFO Sending request to https://cds.climate.copernicus.eu/api/v2/resources/reanalysis-era5-pressure-levels\n",
      "2023-08-26 14:27:57,323 INFO Request is queued\n"
     ]
    },
    {
     "name": "stdout",
     "output_type": "stream",
     "text": [
      "era5_pressure_level_1988_04_850.nc done!\n",
      "Download time: 50.278 s\n",
      "Folder 'F:\\JuPyterNotebook\\data\\raw_data\\ERA5_DATA\\GB_ERA5_DATA' created successfully.\n"
     ]
    },
    {
     "name": "stderr",
     "output_type": "stream",
     "text": [
      "2023-08-26 14:27:58,359 INFO Request is running\n",
      "2023-08-26 14:28:46,925 INFO Request is completed\n",
      "2023-08-26 14:28:46,925 INFO Downloading https://download-0016.copernicus-climate.eu/cache-compute-0016/cache/data3/adaptor.mars.internal-1693056515.751902-5209-2-7dfa65f0-e139-4759-b1e6-f87dc4a6cbab.nc to F:\\JuPyterNotebook\\data\\raw_data\\ERA5_DATA\\GB_ERA5_DATA\\era5_pressure_level_1988_05_850.nc (1.7M)\n",
      "2023-08-26 14:28:47,410 INFO Download rate 3.6M/s                                                                      \n",
      "2023-08-26 14:28:47,503 INFO Welcome to the CDS\n",
      "2023-08-26 14:28:47,503 INFO Sending request to https://cds.climate.copernicus.eu/api/v2/resources/reanalysis-era5-pressure-levels\n",
      "2023-08-26 14:28:47,577 INFO Request is queued\n"
     ]
    },
    {
     "name": "stdout",
     "output_type": "stream",
     "text": [
      "era5_pressure_level_1988_05_850.nc done!\n",
      "Download time: 50.252 s\n",
      "Folder 'F:\\JuPyterNotebook\\data\\raw_data\\ERA5_DATA\\GB_ERA5_DATA' created successfully.\n"
     ]
    },
    {
     "name": "stderr",
     "output_type": "stream",
     "text": [
      "2023-08-26 14:28:48,621 INFO Request is running\n",
      "2023-08-26 14:29:37,333 INFO Request is completed\n",
      "2023-08-26 14:29:37,333 INFO Downloading https://download-0003-clone.copernicus-climate.eu/cache-compute-0003/cache/data2/adaptor.mars.internal-1693056567.3417785-11645-4-c8b95195-f56a-478f-ab94-88d834ac6dda.nc to F:\\JuPyterNotebook\\data\\raw_data\\ERA5_DATA\\GB_ERA5_DATA\\era5_pressure_level_1988_06_850.nc (1.7M)\n",
      "2023-08-26 14:29:37,818 INFO Download rate 3.6M/s                                                                      \n",
      "2023-08-26 14:29:37,906 INFO Welcome to the CDS\n",
      "2023-08-26 14:29:37,906 INFO Sending request to https://cds.climate.copernicus.eu/api/v2/resources/reanalysis-era5-pressure-levels\n",
      "2023-08-26 14:29:37,983 INFO Request is queued\n"
     ]
    },
    {
     "name": "stdout",
     "output_type": "stream",
     "text": [
      "era5_pressure_level_1988_06_850.nc done!\n",
      "Download time: 50.419 s\n",
      "Folder 'F:\\JuPyterNotebook\\data\\raw_data\\ERA5_DATA\\GB_ERA5_DATA' created successfully.\n"
     ]
    },
    {
     "name": "stderr",
     "output_type": "stream",
     "text": [
      "2023-08-26 14:29:39,024 INFO Request is running\n",
      "2023-08-26 14:29:59,027 INFO Request is completed\n",
      "2023-08-26 14:29:59,027 INFO Downloading https://download-0011-clone.copernicus-climate.eu/cache-compute-0011/cache/data1/adaptor.mars.internal-1693056589.8610184-18133-14-93638c6c-4409-4472-b22a-2d5dde77bf6b.nc to F:\\JuPyterNotebook\\data\\raw_data\\ERA5_DATA\\GB_ERA5_DATA\\era5_pressure_level_1988_07_850.nc (1.7M)\n",
      "2023-08-26 14:29:59,547 INFO Download rate 3.4M/s                                                                      \n",
      "2023-08-26 14:29:59,666 INFO Welcome to the CDS\n",
      "2023-08-26 14:29:59,666 INFO Sending request to https://cds.climate.copernicus.eu/api/v2/resources/reanalysis-era5-pressure-levels\n",
      "2023-08-26 14:29:59,751 INFO Request is queued\n"
     ]
    },
    {
     "name": "stdout",
     "output_type": "stream",
     "text": [
      "era5_pressure_level_1988_07_850.nc done!\n",
      "Download time: 21.744 s\n",
      "Folder 'F:\\JuPyterNotebook\\data\\raw_data\\ERA5_DATA\\GB_ERA5_DATA' created successfully.\n"
     ]
    },
    {
     "name": "stderr",
     "output_type": "stream",
     "text": [
      "2023-08-26 14:30:00,804 INFO Request is running\n",
      "2023-08-26 14:30:49,357 INFO Request is completed\n",
      "2023-08-26 14:30:49,357 INFO Downloading https://download-0003-clone.copernicus-climate.eu/cache-compute-0003/cache/data3/adaptor.mars.internal-1693056639.2263486-10181-15-7964c4c8-db1b-4216-a25f-d97120995a66.nc to F:\\JuPyterNotebook\\data\\raw_data\\ERA5_DATA\\GB_ERA5_DATA\\era5_pressure_level_1988_08_850.nc (1.7M)\n",
      "2023-08-26 14:30:49,899 INFO Download rate 3.2M/s                                                                      \n",
      "2023-08-26 14:30:49,981 INFO Welcome to the CDS\n",
      "2023-08-26 14:30:49,981 INFO Sending request to https://cds.climate.copernicus.eu/api/v2/resources/reanalysis-era5-pressure-levels\n",
      "2023-08-26 14:30:50,055 INFO Request is queued\n"
     ]
    },
    {
     "name": "stdout",
     "output_type": "stream",
     "text": [
      "era5_pressure_level_1988_08_850.nc done!\n",
      "Download time: 50.313 s\n",
      "Folder 'F:\\JuPyterNotebook\\data\\raw_data\\ERA5_DATA\\GB_ERA5_DATA' created successfully.\n"
     ]
    },
    {
     "name": "stderr",
     "output_type": "stream",
     "text": [
      "2023-08-26 14:30:51,104 INFO Request is running\n",
      "2023-08-26 14:31:39,663 INFO Request is completed\n",
      "2023-08-26 14:31:39,663 INFO Downloading https://download-0017.copernicus-climate.eu/cache-compute-0017/cache/data3/adaptor.mars.internal-1693056689.1296434-3171-12-9bef0da4-a37c-4a14-8435-9f3edfffdb5b.nc to F:\\JuPyterNotebook\\data\\raw_data\\ERA5_DATA\\GB_ERA5_DATA\\era5_pressure_level_1988_09_850.nc (1.7M)\n",
      "2023-08-26 14:31:40,172 INFO Download rate 3.4M/s                                                                      \n",
      "2023-08-26 14:31:40,271 INFO Welcome to the CDS\n",
      "2023-08-26 14:31:40,271 INFO Sending request to https://cds.climate.copernicus.eu/api/v2/resources/reanalysis-era5-pressure-levels\n",
      "2023-08-26 14:31:40,338 INFO Request is queued\n"
     ]
    },
    {
     "name": "stdout",
     "output_type": "stream",
     "text": [
      "era5_pressure_level_1988_09_850.nc done!\n",
      "Download time: 50.292 s\n",
      "Folder 'F:\\JuPyterNotebook\\data\\raw_data\\ERA5_DATA\\GB_ERA5_DATA' created successfully.\n"
     ]
    },
    {
     "name": "stderr",
     "output_type": "stream",
     "text": [
      "2023-08-26 14:31:41,384 INFO Request is running\n",
      "2023-08-26 14:32:30,011 INFO Request is completed\n",
      "2023-08-26 14:32:30,011 INFO Downloading https://download-0004-clone.copernicus-climate.eu/cache-compute-0004/cache/data5/adaptor.mars.internal-1693056745.5208135-14638-17-3b6a97df-f220-40a6-87f4-80681ee4a76e.nc to F:\\JuPyterNotebook\\data\\raw_data\\ERA5_DATA\\GB_ERA5_DATA\\era5_pressure_level_1988_10_850.nc (1.7M)\n",
      "2023-08-26 14:32:30,486 INFO Download rate 3.7M/s                                                                      \n",
      "2023-08-26 14:32:30,568 INFO Welcome to the CDS\n",
      "2023-08-26 14:32:30,568 INFO Sending request to https://cds.climate.copernicus.eu/api/v2/resources/reanalysis-era5-pressure-levels\n",
      "2023-08-26 14:32:30,645 INFO Request is queued\n"
     ]
    },
    {
     "name": "stdout",
     "output_type": "stream",
     "text": [
      "era5_pressure_level_1988_10_850.nc done!\n",
      "Download time: 50.279 s\n",
      "Folder 'F:\\JuPyterNotebook\\data\\raw_data\\ERA5_DATA\\GB_ERA5_DATA' created successfully.\n"
     ]
    },
    {
     "name": "stderr",
     "output_type": "stream",
     "text": [
      "2023-08-26 14:32:31,692 INFO Request is running\n",
      "2023-08-26 14:32:44,144 INFO Request is completed\n",
      "2023-08-26 14:32:44,144 INFO Downloading https://download-0017.copernicus-climate.eu/cache-compute-0017/cache/data7/adaptor.mars.internal-1693056762.1471298-7568-3-3b1032a9-9f91-44de-87fd-62f2674bdc79.nc to F:\\JuPyterNotebook\\data\\raw_data\\ERA5_DATA\\GB_ERA5_DATA\\era5_pressure_level_1988_11_850.nc (1.7M)\n",
      "2023-08-26 14:32:44,506 INFO Download rate 4.7M/s                                                                      \n",
      "2023-08-26 14:32:44,590 INFO Welcome to the CDS\n",
      "2023-08-26 14:32:44,590 INFO Sending request to https://cds.climate.copernicus.eu/api/v2/resources/reanalysis-era5-pressure-levels\n",
      "2023-08-26 14:32:44,685 INFO Request is queued\n"
     ]
    },
    {
     "name": "stdout",
     "output_type": "stream",
     "text": [
      "era5_pressure_level_1988_11_850.nc done!\n",
      "Download time: 14.006 s\n",
      "Folder 'F:\\JuPyterNotebook\\data\\raw_data\\ERA5_DATA\\GB_ERA5_DATA' created successfully.\n"
     ]
    },
    {
     "name": "stderr",
     "output_type": "stream",
     "text": [
      "2023-08-26 14:32:45,737 INFO Request is running\n",
      "2023-08-26 14:33:34,427 INFO Request is completed\n",
      "2023-08-26 14:33:34,427 INFO Downloading https://download-0019.copernicus-climate.eu/cache-compute-0019/cache/data7/adaptor.mars.internal-1693056803.7628946-13269-6-71c0aeac-ac56-4c23-a501-a4455bd1b755.nc to F:\\JuPyterNotebook\\data\\raw_data\\ERA5_DATA\\GB_ERA5_DATA\\era5_pressure_level_1988_12_850.nc (1.7M)\n",
      "2023-08-26 14:33:34,950 INFO Download rate 3.3M/s                                                                      \n",
      "2023-08-26 14:33:35,044 INFO Welcome to the CDS\n",
      "2023-08-26 14:33:35,044 INFO Sending request to https://cds.climate.copernicus.eu/api/v2/resources/reanalysis-era5-pressure-levels\n",
      "2023-08-26 14:33:35,130 INFO Request is queued\n"
     ]
    },
    {
     "name": "stdout",
     "output_type": "stream",
     "text": [
      "era5_pressure_level_1988_12_850.nc done!\n",
      "Download time: 50.449 s\n",
      "Folder 'F:\\JuPyterNotebook\\data\\raw_data\\ERA5_DATA\\GB_ERA5_DATA' created successfully.\n"
     ]
    },
    {
     "name": "stderr",
     "output_type": "stream",
     "text": [
      "2023-08-26 14:33:36,174 INFO Request is running\n",
      "2023-08-26 14:34:24,752 INFO Request is completed\n",
      "2023-08-26 14:34:24,752 INFO Downloading https://download-0011-clone.copernicus-climate.eu/cache-compute-0011/cache/data7/adaptor.mars.internal-1693056853.8966231-22468-9-81d395ef-24b4-4a03-a66b-173c08a00f9a.nc to F:\\JuPyterNotebook\\data\\raw_data\\ERA5_DATA\\GB_ERA5_DATA\\era5_pressure_level_1989_01_850.nc (1.7M)\n",
      "2023-08-26 14:34:25,251 INFO Download rate 3.5M/s                                                                      \n",
      "2023-08-26 14:34:25,344 INFO Welcome to the CDS\n",
      "2023-08-26 14:34:25,360 INFO Sending request to https://cds.climate.copernicus.eu/api/v2/resources/reanalysis-era5-pressure-levels\n",
      "2023-08-26 14:34:25,428 INFO Request is queued\n"
     ]
    },
    {
     "name": "stdout",
     "output_type": "stream",
     "text": [
      "era5_pressure_level_1989_01_850.nc done!\n",
      "Download time: 50.305 s\n",
      "Folder 'F:\\JuPyterNotebook\\data\\raw_data\\ERA5_DATA\\GB_ERA5_DATA' created successfully.\n"
     ]
    },
    {
     "name": "stderr",
     "output_type": "stream",
     "text": [
      "2023-08-26 14:34:26,494 INFO Request is running\n",
      "2023-08-26 14:35:15,128 INFO Request is completed\n",
      "2023-08-26 14:35:15,128 INFO Downloading https://download-0000-clone.copernicus-climate.eu/cache-compute-0000/cache/data5/adaptor.mars.internal-1693056901.1078255-24599-18-9806a643-81bb-43ce-851f-e6acc1161874.nc to F:\\JuPyterNotebook\\data\\raw_data\\ERA5_DATA\\GB_ERA5_DATA\\era5_pressure_level_1989_02_850.nc (1.6M)\n",
      "2023-08-26 14:35:15,634 INFO Download rate 3.1M/s                                                                      \n",
      "2023-08-26 14:35:15,721 INFO Welcome to the CDS\n",
      "2023-08-26 14:35:15,721 INFO Sending request to https://cds.climate.copernicus.eu/api/v2/resources/reanalysis-era5-pressure-levels\n",
      "2023-08-26 14:35:15,845 INFO Request is queued\n"
     ]
    },
    {
     "name": "stdout",
     "output_type": "stream",
     "text": [
      "era5_pressure_level_1989_02_850.nc done!\n",
      "Download time: 50.376 s\n",
      "Folder 'F:\\JuPyterNotebook\\data\\raw_data\\ERA5_DATA\\GB_ERA5_DATA' created successfully.\n"
     ]
    },
    {
     "name": "stderr",
     "output_type": "stream",
     "text": [
      "2023-08-26 14:35:16,922 INFO Request is running\n",
      "2023-08-26 14:36:05,515 INFO Request is completed\n",
      "2023-08-26 14:36:05,515 INFO Downloading https://download-0013-clone.copernicus-climate.eu/cache-compute-0013/cache/data6/adaptor.mars.internal-1693056951.3487551-6629-11-41f28a54-4e44-42e6-b680-3bae9e744d73.nc to F:\\JuPyterNotebook\\data\\raw_data\\ERA5_DATA\\GB_ERA5_DATA\\era5_pressure_level_1989_03_850.nc (1.7M)\n",
      "2023-08-26 14:36:06,030 INFO Download rate 3.4M/s                                                                      \n",
      "2023-08-26 14:36:06,132 INFO Welcome to the CDS\n",
      "2023-08-26 14:36:06,132 INFO Sending request to https://cds.climate.copernicus.eu/api/v2/resources/reanalysis-era5-pressure-levels\n",
      "2023-08-26 14:36:06,183 INFO Request is queued\n"
     ]
    },
    {
     "name": "stdout",
     "output_type": "stream",
     "text": [
      "era5_pressure_level_1989_03_850.nc done!\n",
      "Download time: 50.396 s\n",
      "Folder 'F:\\JuPyterNotebook\\data\\raw_data\\ERA5_DATA\\GB_ERA5_DATA' created successfully.\n"
     ]
    },
    {
     "name": "stderr",
     "output_type": "stream",
     "text": [
      "2023-08-26 14:36:07,243 INFO Request is running\n",
      "2023-08-26 14:36:55,934 INFO Request is completed\n",
      "2023-08-26 14:36:55,934 INFO Downloading https://download-0019.copernicus-climate.eu/cache-compute-0019/cache/data6/adaptor.mars.internal-1693057003.3332222-20939-1-e4c48634-6db5-4657-936c-0c4fa8895bcf.nc to F:\\JuPyterNotebook\\data\\raw_data\\ERA5_DATA\\GB_ERA5_DATA\\era5_pressure_level_1989_04_850.nc (1.7M)\n",
      "2023-08-26 14:36:56,432 INFO Download rate 3.4M/s                                                                      \n",
      "2023-08-26 14:36:56,524 INFO Welcome to the CDS\n",
      "2023-08-26 14:36:56,540 INFO Sending request to https://cds.climate.copernicus.eu/api/v2/resources/reanalysis-era5-pressure-levels\n",
      "2023-08-26 14:36:56,576 INFO Request is queued\n"
     ]
    },
    {
     "name": "stdout",
     "output_type": "stream",
     "text": [
      "era5_pressure_level_1989_04_850.nc done!\n",
      "Download time: 50.408 s\n",
      "Folder 'F:\\JuPyterNotebook\\data\\raw_data\\ERA5_DATA\\GB_ERA5_DATA' created successfully.\n"
     ]
    },
    {
     "name": "stderr",
     "output_type": "stream",
     "text": [
      "2023-08-26 14:36:57,618 INFO Request is running\n",
      "2023-08-26 14:37:46,172 INFO Request is completed\n",
      "2023-08-26 14:37:46,172 INFO Downloading https://download-0015-clone.copernicus-climate.eu/cache-compute-0015/cache/data0/adaptor.mars.internal-1693057054.4422543-6799-8-82522932-555d-4715-a3e1-6aa15ee16bd5.nc to F:\\JuPyterNotebook\\data\\raw_data\\ERA5_DATA\\GB_ERA5_DATA\\era5_pressure_level_1989_05_850.nc (1.7M)\n",
      "2023-08-26 14:37:46,733 INFO Download rate 3.2M/s                                                                      \n",
      "2023-08-26 14:37:46,808 INFO Welcome to the CDS\n",
      "2023-08-26 14:37:46,808 INFO Sending request to https://cds.climate.copernicus.eu/api/v2/resources/reanalysis-era5-pressure-levels\n",
      "2023-08-26 14:37:46,895 INFO Request is queued\n"
     ]
    },
    {
     "name": "stdout",
     "output_type": "stream",
     "text": [
      "era5_pressure_level_1989_05_850.nc done!\n",
      "Download time: 50.283 s\n",
      "Folder 'F:\\JuPyterNotebook\\data\\raw_data\\ERA5_DATA\\GB_ERA5_DATA' created successfully.\n"
     ]
    },
    {
     "name": "stderr",
     "output_type": "stream",
     "text": [
      "2023-08-26 14:37:47,954 INFO Request is running\n",
      "2023-08-26 14:38:36,494 INFO Request is completed\n",
      "2023-08-26 14:38:36,510 INFO Downloading https://download-0012-clone.copernicus-climate.eu/cache-compute-0012/cache/data5/adaptor.mars.internal-1693057105.2144065-30820-5-3ee0abb0-4b79-42e6-ae4b-d63e022ee148.nc to F:\\JuPyterNotebook\\data\\raw_data\\ERA5_DATA\\GB_ERA5_DATA\\era5_pressure_level_1989_06_850.nc (1.7M)\n",
      "2023-08-26 14:38:37,021 INFO Download rate 3.3M/s                                                                      \n",
      "2023-08-26 14:38:37,106 INFO Welcome to the CDS\n",
      "2023-08-26 14:38:37,106 INFO Sending request to https://cds.climate.copernicus.eu/api/v2/resources/reanalysis-era5-pressure-levels\n",
      "2023-08-26 14:38:37,165 INFO Request is queued\n"
     ]
    },
    {
     "name": "stdout",
     "output_type": "stream",
     "text": [
      "era5_pressure_level_1989_06_850.nc done!\n",
      "Download time: 50.283 s\n",
      "Folder 'F:\\JuPyterNotebook\\data\\raw_data\\ERA5_DATA\\GB_ERA5_DATA' created successfully.\n"
     ]
    },
    {
     "name": "stderr",
     "output_type": "stream",
     "text": [
      "2023-08-26 14:38:38,200 INFO Request is running\n",
      "2023-08-26 14:39:26,722 INFO Request is completed\n",
      "2023-08-26 14:39:26,722 INFO Downloading https://download-0007-clone.copernicus-climate.eu/cache-compute-0007/cache/data2/adaptor.mars.internal-1693057154.3455832-25138-9-03c0a92b-aa08-432d-a66c-fafc256fc3b1.nc to F:\\JuPyterNotebook\\data\\raw_data\\ERA5_DATA\\GB_ERA5_DATA\\era5_pressure_level_1989_07_850.nc (1.7M)\n",
      "2023-08-26 14:39:27,212 INFO Download rate 3.5M/s                                                                      \n",
      "2023-08-26 14:39:27,291 INFO Welcome to the CDS\n",
      "2023-08-26 14:39:27,291 INFO Sending request to https://cds.climate.copernicus.eu/api/v2/resources/reanalysis-era5-pressure-levels\n",
      "2023-08-26 14:39:27,360 INFO Request is queued\n"
     ]
    },
    {
     "name": "stdout",
     "output_type": "stream",
     "text": [
      "era5_pressure_level_1989_07_850.nc done!\n",
      "Download time: 50.200 s\n",
      "Folder 'F:\\JuPyterNotebook\\data\\raw_data\\ERA5_DATA\\GB_ERA5_DATA' created successfully.\n"
     ]
    },
    {
     "name": "stderr",
     "output_type": "stream",
     "text": [
      "2023-08-26 14:39:28,395 INFO Request is running\n",
      "2023-08-26 14:40:17,045 INFO Request is completed\n",
      "2023-08-26 14:40:17,045 INFO Downloading https://download-0002-clone.copernicus-climate.eu/cache-compute-0002/cache/data6/adaptor.mars.internal-1693057206.2105193-22539-9-fc83d879-2865-406b-8ad1-9f6710008709.nc to F:\\JuPyterNotebook\\data\\raw_data\\ERA5_DATA\\GB_ERA5_DATA\\era5_pressure_level_1989_08_850.nc (1.7M)\n",
      "2023-08-26 14:40:17,586 INFO Download rate 3.2M/s                                                                      \n",
      "2023-08-26 14:40:17,700 INFO Welcome to the CDS\n",
      "2023-08-26 14:40:17,701 INFO Sending request to https://cds.climate.copernicus.eu/api/v2/resources/reanalysis-era5-pressure-levels\n",
      "2023-08-26 14:40:17,802 INFO Request is queued\n"
     ]
    },
    {
     "name": "stdout",
     "output_type": "stream",
     "text": [
      "era5_pressure_level_1989_08_850.nc done!\n",
      "Download time: 50.359 s\n",
      "Folder 'F:\\JuPyterNotebook\\data\\raw_data\\ERA5_DATA\\GB_ERA5_DATA' created successfully.\n"
     ]
    },
    {
     "name": "stderr",
     "output_type": "stream",
     "text": [
      "2023-08-26 14:40:18,844 INFO Request is running\n",
      "2023-08-26 14:41:07,390 INFO Request is completed\n",
      "2023-08-26 14:41:07,390 INFO Downloading https://download-0017.copernicus-climate.eu/cache-compute-0017/cache/data7/adaptor.mars.internal-1693057254.632598-7825-10-d44580b6-2469-499f-85c8-0fbd5792865e.nc to F:\\JuPyterNotebook\\data\\raw_data\\ERA5_DATA\\GB_ERA5_DATA\\era5_pressure_level_1989_09_850.nc (1.7M)\n",
      "2023-08-26 14:41:07,855 INFO Download rate 3.6M/s                                                                      \n",
      "2023-08-26 14:41:07,951 INFO Welcome to the CDS\n",
      "2023-08-26 14:41:07,952 INFO Sending request to https://cds.climate.copernicus.eu/api/v2/resources/reanalysis-era5-pressure-levels\n",
      "2023-08-26 14:41:08,005 INFO Request is queued\n"
     ]
    },
    {
     "name": "stdout",
     "output_type": "stream",
     "text": [
      "era5_pressure_level_1989_09_850.nc done!\n",
      "Download time: 50.267 s\n",
      "Folder 'F:\\JuPyterNotebook\\data\\raw_data\\ERA5_DATA\\GB_ERA5_DATA' created successfully.\n"
     ]
    },
    {
     "name": "stderr",
     "output_type": "stream",
     "text": [
      "2023-08-26 14:41:09,039 INFO Request is running\n",
      "2023-08-26 14:41:57,571 INFO Request is completed\n",
      "2023-08-26 14:41:57,571 INFO Downloading https://download-0004-clone.copernicus-climate.eu/cache-compute-0004/cache/data0/adaptor.mars.internal-1693057304.5909553-18289-11-4ac95564-fdc5-4657-8ba7-a7fa40032bc5.nc to F:\\JuPyterNotebook\\data\\raw_data\\ERA5_DATA\\GB_ERA5_DATA\\era5_pressure_level_1989_10_850.nc (1.7M)\n",
      "2023-08-26 14:41:58,052 INFO Download rate 3.7M/s                                                                      \n",
      "2023-08-26 14:41:58,145 INFO Welcome to the CDS\n",
      "2023-08-26 14:41:58,145 INFO Sending request to https://cds.climate.copernicus.eu/api/v2/resources/reanalysis-era5-pressure-levels\n"
     ]
    },
    {
     "name": "stdout",
     "output_type": "stream",
     "text": [
      "era5_pressure_level_1989_10_850.nc done!\n",
      "Download time: 50.196 s\n",
      "Folder 'F:\\JuPyterNotebook\\data\\raw_data\\ERA5_DATA\\GB_ERA5_DATA' created successfully.\n"
     ]
    },
    {
     "name": "stderr",
     "output_type": "stream",
     "text": [
      "2023-08-26 14:41:58,311 INFO Request is queued\n",
      "2023-08-26 14:41:59,350 INFO Request is running\n",
      "2023-08-26 14:42:47,903 INFO Request is completed\n",
      "2023-08-26 14:42:47,909 INFO Downloading https://download-0013-clone.copernicus-climate.eu/cache-compute-0013/cache/data4/adaptor.mars.internal-1693057359.3931196-3830-15-1fbea145-6ae7-4b74-ac5f-54eaccf0c113.nc to F:\\JuPyterNotebook\\data\\raw_data\\ERA5_DATA\\GB_ERA5_DATA\\era5_pressure_level_1989_11_850.nc (1.7M)\n",
      "2023-08-26 14:42:48,364 INFO Download rate 3.7M/s                                                                      \n",
      "2023-08-26 14:42:48,443 INFO Welcome to the CDS\n",
      "2023-08-26 14:42:48,443 INFO Sending request to https://cds.climate.copernicus.eu/api/v2/resources/reanalysis-era5-pressure-levels\n",
      "2023-08-26 14:42:48,490 INFO Request is queued\n"
     ]
    },
    {
     "name": "stdout",
     "output_type": "stream",
     "text": [
      "era5_pressure_level_1989_11_850.nc done!\n",
      "Download time: 50.295 s\n",
      "Folder 'F:\\JuPyterNotebook\\data\\raw_data\\ERA5_DATA\\GB_ERA5_DATA' created successfully.\n"
     ]
    },
    {
     "name": "stderr",
     "output_type": "stream",
     "text": [
      "2023-08-26 14:42:49,539 INFO Request is running\n",
      "2023-08-26 14:43:38,099 INFO Request is completed\n",
      "2023-08-26 14:43:38,099 INFO Downloading https://download-0012-clone.copernicus-climate.eu/cache-compute-0012/cache/data4/adaptor.mars.internal-1693057414.1219895-29088-14-11875f83-eb62-4492-8d54-00cc27ca6d27.nc to F:\\JuPyterNotebook\\data\\raw_data\\ERA5_DATA\\GB_ERA5_DATA\\era5_pressure_level_1989_12_850.nc (1.7M)\n",
      "2023-08-26 14:43:38,610 INFO Download rate 3.5M/s                                                                      \n",
      "2023-08-26 14:43:38,704 INFO Welcome to the CDS\n",
      "2023-08-26 14:43:38,704 INFO Sending request to https://cds.climate.copernicus.eu/api/v2/resources/reanalysis-era5-pressure-levels\n",
      "2023-08-26 14:43:38,806 INFO Request is queued\n"
     ]
    },
    {
     "name": "stdout",
     "output_type": "stream",
     "text": [
      "era5_pressure_level_1989_12_850.nc done!\n",
      "Download time: 50.234 s\n",
      "Folder 'F:\\JuPyterNotebook\\data\\raw_data\\ERA5_DATA\\GB_ERA5_DATA' created successfully.\n"
     ]
    },
    {
     "name": "stderr",
     "output_type": "stream",
     "text": [
      "2023-08-26 14:43:39,850 INFO Request is running\n",
      "2023-08-26 14:44:28,536 INFO Request is completed\n",
      "2023-08-26 14:44:28,536 INFO Downloading https://download-0001-clone.copernicus-climate.eu/cache-compute-0001/cache/data2/adaptor.mars.internal-1693057455.5363514-7794-10-01bcf3c8-e326-4627-bb0a-24623b08805d.nc to F:\\JuPyterNotebook\\data\\raw_data\\ERA5_DATA\\GB_ERA5_DATA\\era5_pressure_level_1990_01_850.nc (1.7M)\n",
      "2023-08-26 14:44:29,040 INFO Download rate 3.6M/s                                                                      \n",
      "2023-08-26 14:44:29,130 INFO Welcome to the CDS\n",
      "2023-08-26 14:44:29,130 INFO Sending request to https://cds.climate.copernicus.eu/api/v2/resources/reanalysis-era5-pressure-levels\n",
      "2023-08-26 14:44:29,216 INFO Request is queued\n"
     ]
    },
    {
     "name": "stdout",
     "output_type": "stream",
     "text": [
      "era5_pressure_level_1990_01_850.nc done!\n",
      "Download time: 50.442 s\n",
      "Folder 'F:\\JuPyterNotebook\\data\\raw_data\\ERA5_DATA\\GB_ERA5_DATA' created successfully.\n"
     ]
    },
    {
     "name": "stderr",
     "output_type": "stream",
     "text": [
      "2023-08-26 14:44:30,254 INFO Request is running\n",
      "2023-08-26 14:45:18,808 INFO Request is completed\n",
      "2023-08-26 14:45:18,808 INFO Downloading https://download-0014-clone.copernicus-climate.eu/cache-compute-0014/cache/data2/adaptor.mars.internal-1693057505.0001278-20664-14-d2c38892-9762-4cc8-8f92-006fd9d5a4e4.nc to F:\\JuPyterNotebook\\data\\raw_data\\ERA5_DATA\\GB_ERA5_DATA\\era5_pressure_level_1990_02_850.nc (1.6M)\n",
      "2023-08-26 14:45:19,298 INFO Download rate 3.2M/s                                                                      \n",
      "2023-08-26 14:45:19,396 INFO Welcome to the CDS\n",
      "2023-08-26 14:45:19,396 INFO Sending request to https://cds.climate.copernicus.eu/api/v2/resources/reanalysis-era5-pressure-levels\n",
      "2023-08-26 14:45:19,499 INFO Request is queued\n"
     ]
    },
    {
     "name": "stdout",
     "output_type": "stream",
     "text": [
      "era5_pressure_level_1990_02_850.nc done!\n",
      "Download time: 50.250 s\n",
      "Folder 'F:\\JuPyterNotebook\\data\\raw_data\\ERA5_DATA\\GB_ERA5_DATA' created successfully.\n"
     ]
    },
    {
     "name": "stderr",
     "output_type": "stream",
     "text": [
      "2023-08-26 14:45:20,548 INFO Request is running\n",
      "2023-08-26 14:46:09,088 INFO Request is completed\n",
      "2023-08-26 14:46:09,088 INFO Downloading https://download-0016.copernicus-climate.eu/cache-compute-0016/cache/data3/adaptor.mars.internal-1693057557.2740428-6813-12-047410fb-5dff-4398-b24d-3fbf708b2ced.nc to F:\\JuPyterNotebook\\data\\raw_data\\ERA5_DATA\\GB_ERA5_DATA\\era5_pressure_level_1990_03_850.nc (1.7M)\n",
      "2023-08-26 14:46:09,627 INFO Download rate 3.3M/s                                                                      \n",
      "2023-08-26 14:46:09,753 INFO Welcome to the CDS\n",
      "2023-08-26 14:46:09,753 INFO Sending request to https://cds.climate.copernicus.eu/api/v2/resources/reanalysis-era5-pressure-levels\n",
      "2023-08-26 14:46:09,813 INFO Request is queued\n"
     ]
    },
    {
     "name": "stdout",
     "output_type": "stream",
     "text": [
      "era5_pressure_level_1990_03_850.nc done!\n",
      "Download time: 50.356 s\n",
      "Folder 'F:\\JuPyterNotebook\\data\\raw_data\\ERA5_DATA\\GB_ERA5_DATA' created successfully.\n"
     ]
    },
    {
     "name": "stderr",
     "output_type": "stream",
     "text": [
      "2023-08-26 14:46:10,857 INFO Request is running\n",
      "2023-08-26 14:46:59,421 INFO Request is completed\n",
      "2023-08-26 14:46:59,421 INFO Downloading https://download-0018.copernicus-climate.eu/cache-compute-0018/cache/data6/adaptor.mars.internal-1693057606.4656801-19462-16-4a56b52f-e02e-4bd7-9394-3da91d2e3c16.nc to F:\\JuPyterNotebook\\data\\raw_data\\ERA5_DATA\\GB_ERA5_DATA\\era5_pressure_level_1990_04_850.nc (1.7M)\n",
      "2023-08-26 14:46:59,880 INFO Download rate 3.7M/s                                                                      \n",
      "2023-08-26 14:46:59,959 INFO Welcome to the CDS\n",
      "2023-08-26 14:46:59,959 INFO Sending request to https://cds.climate.copernicus.eu/api/v2/resources/reanalysis-era5-pressure-levels\n",
      "2023-08-26 14:47:00,043 INFO Request is queued\n"
     ]
    },
    {
     "name": "stdout",
     "output_type": "stream",
     "text": [
      "era5_pressure_level_1990_04_850.nc done!\n",
      "Download time: 50.227 s\n",
      "Folder 'F:\\JuPyterNotebook\\data\\raw_data\\ERA5_DATA\\GB_ERA5_DATA' created successfully.\n"
     ]
    },
    {
     "name": "stderr",
     "output_type": "stream",
     "text": [
      "2023-08-26 14:47:01,085 INFO Request is running\n",
      "2023-08-26 14:47:49,600 INFO Request is completed\n",
      "2023-08-26 14:47:49,600 INFO Downloading https://download-0014-clone.copernicus-climate.eu/cache-compute-0014/cache/data4/adaptor.mars.internal-1693057658.302288-1531-3-bfb6ed68-2e1c-422f-a081-77e3c10360e6.nc to F:\\JuPyterNotebook\\data\\raw_data\\ERA5_DATA\\GB_ERA5_DATA\\era5_pressure_level_1990_05_850.nc (1.7M)\n",
      "2023-08-26 14:47:50,105 INFO Download rate 3.5M/s                                                                      \n",
      "2023-08-26 14:47:50,190 INFO Welcome to the CDS\n",
      "2023-08-26 14:47:50,190 INFO Sending request to https://cds.climate.copernicus.eu/api/v2/resources/reanalysis-era5-pressure-levels\n",
      "2023-08-26 14:47:50,246 INFO Request is queued\n"
     ]
    },
    {
     "name": "stdout",
     "output_type": "stream",
     "text": [
      "era5_pressure_level_1990_05_850.nc done!\n",
      "Download time: 50.209 s\n",
      "Folder 'F:\\JuPyterNotebook\\data\\raw_data\\ERA5_DATA\\GB_ERA5_DATA' created successfully.\n"
     ]
    },
    {
     "name": "stderr",
     "output_type": "stream",
     "text": [
      "2023-08-26 14:47:51,293 INFO Request is running\n",
      "2023-08-26 14:48:39,827 INFO Request is completed\n",
      "2023-08-26 14:48:39,827 INFO Downloading https://download-0008-clone.copernicus-climate.eu/cache-compute-0008/cache/data2/adaptor.mars.internal-1693057706.622388-17075-1-bfc9dd6a-2c76-4e33-ba64-62c86e382aa0.nc to F:\\JuPyterNotebook\\data\\raw_data\\ERA5_DATA\\GB_ERA5_DATA\\era5_pressure_level_1990_06_850.nc (1.7M)\n",
      "2023-08-26 14:48:40,307 INFO Download rate 3.6M/s                                                                      \n",
      "2023-08-26 14:48:40,391 INFO Welcome to the CDS\n",
      "2023-08-26 14:48:40,392 INFO Sending request to https://cds.climate.copernicus.eu/api/v2/resources/reanalysis-era5-pressure-levels\n",
      "2023-08-26 14:48:40,453 INFO Request is queued\n"
     ]
    },
    {
     "name": "stdout",
     "output_type": "stream",
     "text": [
      "era5_pressure_level_1990_06_850.nc done!\n",
      "Download time: 50.213 s\n",
      "Folder 'F:\\JuPyterNotebook\\data\\raw_data\\ERA5_DATA\\GB_ERA5_DATA' created successfully.\n"
     ]
    },
    {
     "name": "stderr",
     "output_type": "stream",
     "text": [
      "2023-08-26 14:48:41,501 INFO Request is running\n",
      "2023-08-26 14:49:30,071 INFO Request is completed\n",
      "2023-08-26 14:49:30,071 INFO Downloading https://download-0016.copernicus-climate.eu/cache-compute-0016/cache/data3/adaptor.mars.internal-1693057760.034671-2891-17-20b038a1-a3c4-458f-a5ab-0e746b1dbfd7.nc to F:\\JuPyterNotebook\\data\\raw_data\\ERA5_DATA\\GB_ERA5_DATA\\era5_pressure_level_1990_07_850.nc (1.7M)\n",
      "2023-08-26 14:49:30,533 INFO Download rate 3.8M/s                                                                      \n",
      "2023-08-26 14:49:30,626 INFO Welcome to the CDS\n",
      "2023-08-26 14:49:30,626 INFO Sending request to https://cds.climate.copernicus.eu/api/v2/resources/reanalysis-era5-pressure-levels\n",
      "2023-08-26 14:49:30,704 INFO Request is queued\n"
     ]
    },
    {
     "name": "stdout",
     "output_type": "stream",
     "text": [
      "era5_pressure_level_1990_07_850.nc done!\n",
      "Download time: 50.224 s\n",
      "Folder 'F:\\JuPyterNotebook\\data\\raw_data\\ERA5_DATA\\GB_ERA5_DATA' created successfully.\n"
     ]
    },
    {
     "name": "stderr",
     "output_type": "stream",
     "text": [
      "2023-08-26 14:49:31,747 INFO Request is running\n",
      "2023-08-26 14:50:20,299 INFO Request is completed\n",
      "2023-08-26 14:50:20,315 INFO Downloading https://download-0006-clone.copernicus-climate.eu/cache-compute-0006/cache/data3/adaptor.mars.internal-1693057810.9849818-1062-15-75f77b05-11bb-4ce7-8ace-9fa4683b9a99.nc to F:\\JuPyterNotebook\\data\\raw_data\\ERA5_DATA\\GB_ERA5_DATA\\era5_pressure_level_1990_08_850.nc (1.7M)\n",
      "2023-08-26 14:50:20,789 INFO Download rate 3.7M/s                                                                      \n",
      "2023-08-26 14:50:20,867 INFO Welcome to the CDS\n",
      "2023-08-26 14:50:20,867 INFO Sending request to https://cds.climate.copernicus.eu/api/v2/resources/reanalysis-era5-pressure-levels\n",
      "2023-08-26 14:50:20,930 INFO Request is queued\n"
     ]
    },
    {
     "name": "stdout",
     "output_type": "stream",
     "text": [
      "era5_pressure_level_1990_08_850.nc done!\n",
      "Download time: 50.236 s\n",
      "Folder 'F:\\JuPyterNotebook\\data\\raw_data\\ERA5_DATA\\GB_ERA5_DATA' created successfully.\n"
     ]
    },
    {
     "name": "stderr",
     "output_type": "stream",
     "text": [
      "2023-08-26 14:50:21,976 INFO Request is running\n",
      "2023-08-26 14:51:10,536 INFO Request is completed\n",
      "2023-08-26 14:51:10,536 INFO Downloading https://download-0021.copernicus-climate.eu/cache-compute-0021/cache/data8/adaptor.mars.internal-1693057863.25819-5412-5-25fa8119-5884-4d84-98c8-3c172615a50c.nc to F:\\JuPyterNotebook\\data\\raw_data\\ERA5_DATA\\GB_ERA5_DATA\\era5_pressure_level_1990_09_850.nc (1.7M)\n",
      "2023-08-26 14:51:11,049 INFO Download rate 3.3M/s                                                                      \n",
      "2023-08-26 14:51:11,136 INFO Welcome to the CDS\n",
      "2023-08-26 14:51:11,136 INFO Sending request to https://cds.climate.copernicus.eu/api/v2/resources/reanalysis-era5-pressure-levels\n",
      "2023-08-26 14:51:11,199 INFO Request is queued\n"
     ]
    },
    {
     "name": "stdout",
     "output_type": "stream",
     "text": [
      "era5_pressure_level_1990_09_850.nc done!\n",
      "Download time: 50.271 s\n",
      "Folder 'F:\\JuPyterNotebook\\data\\raw_data\\ERA5_DATA\\GB_ERA5_DATA' created successfully.\n"
     ]
    },
    {
     "name": "stderr",
     "output_type": "stream",
     "text": [
      "2023-08-26 14:51:12,236 INFO Request is running\n",
      "2023-08-26 14:52:00,887 INFO Request is completed\n",
      "2023-08-26 14:52:00,887 INFO Downloading https://download-0006-clone.copernicus-climate.eu/cache-compute-0006/cache/data9/adaptor.mars.internal-1693057910.7521863-14493-4-d6d27e05-41b4-43ce-962f-ce9232c66294.nc to F:\\JuPyterNotebook\\data\\raw_data\\ERA5_DATA\\GB_ERA5_DATA\\era5_pressure_level_1990_10_850.nc (1.7M)\n",
      "2023-08-26 14:52:01,397 INFO Download rate 3.4M/s                                                                      \n",
      "2023-08-26 14:52:01,490 INFO Welcome to the CDS\n",
      "2023-08-26 14:52:01,490 INFO Sending request to https://cds.climate.copernicus.eu/api/v2/resources/reanalysis-era5-pressure-levels\n",
      "2023-08-26 14:52:01,532 INFO Request is queued\n"
     ]
    },
    {
     "name": "stdout",
     "output_type": "stream",
     "text": [
      "era5_pressure_level_1990_10_850.nc done!\n",
      "Download time: 50.353 s\n",
      "Folder 'F:\\JuPyterNotebook\\data\\raw_data\\ERA5_DATA\\GB_ERA5_DATA' created successfully.\n"
     ]
    },
    {
     "name": "stderr",
     "output_type": "stream",
     "text": [
      "2023-08-26 14:52:02,563 INFO Request is running\n",
      "2023-08-26 14:52:51,104 INFO Request is completed\n",
      "2023-08-26 14:52:51,105 INFO Downloading https://download-0012-clone.copernicus-climate.eu/cache-compute-0012/cache/data6/adaptor.mars.internal-1693057960.010758-29088-17-3343f9a3-1726-4ee2-af19-6534df6aea0c.nc to F:\\JuPyterNotebook\\data\\raw_data\\ERA5_DATA\\GB_ERA5_DATA\\era5_pressure_level_1990_11_850.nc (1.7M)\n",
      "2023-08-26 14:52:51,580 INFO Download rate 3.5M/s                                                                      \n",
      "2023-08-26 14:52:51,651 INFO Welcome to the CDS\n",
      "2023-08-26 14:52:51,651 INFO Sending request to https://cds.climate.copernicus.eu/api/v2/resources/reanalysis-era5-pressure-levels\n",
      "2023-08-26 14:52:51,766 INFO Request is queued\n"
     ]
    },
    {
     "name": "stdout",
     "output_type": "stream",
     "text": [
      "era5_pressure_level_1990_11_850.nc done!\n",
      "Download time: 50.162 s\n",
      "Folder 'F:\\JuPyterNotebook\\data\\raw_data\\ERA5_DATA\\GB_ERA5_DATA' created successfully.\n"
     ]
    },
    {
     "name": "stderr",
     "output_type": "stream",
     "text": [
      "2023-08-26 14:52:52,806 INFO Request is running\n",
      "2023-08-26 14:53:41,370 INFO Request is completed\n",
      "2023-08-26 14:53:41,370 INFO Downloading https://download-0021.copernicus-climate.eu/cache-compute-0021/cache/data8/adaptor.mars.internal-1693058011.2044077-22923-9-806f93e0-9316-4294-bae8-7d8b59825278.nc to F:\\JuPyterNotebook\\data\\raw_data\\ERA5_DATA\\GB_ERA5_DATA\\era5_pressure_level_1990_12_850.nc (1.7M)\n",
      "2023-08-26 14:53:41,887 INFO Download rate 3.4M/s                                                                      \n",
      "2023-08-26 14:53:41,964 INFO Welcome to the CDS\n",
      "2023-08-26 14:53:41,964 INFO Sending request to https://cds.climate.copernicus.eu/api/v2/resources/reanalysis-era5-pressure-levels\n",
      "2023-08-26 14:53:42,027 INFO Request is queued\n"
     ]
    },
    {
     "name": "stdout",
     "output_type": "stream",
     "text": [
      "era5_pressure_level_1990_12_850.nc done!\n",
      "Download time: 50.314 s\n",
      "Folder 'F:\\JuPyterNotebook\\data\\raw_data\\ERA5_DATA\\GB_ERA5_DATA' created successfully.\n"
     ]
    },
    {
     "name": "stderr",
     "output_type": "stream",
     "text": [
      "2023-08-26 14:53:43,062 INFO Request is running\n",
      "2023-08-26 14:54:31,594 INFO Request is completed\n",
      "2023-08-26 14:54:31,594 INFO Downloading https://download-0006-clone.copernicus-climate.eu/cache-compute-0006/cache/data1/adaptor.mars.internal-1693058062.2635627-15838-1-4f7f6000-853f-4b58-8fb5-bdbc08374623.nc to F:\\JuPyterNotebook\\data\\raw_data\\ERA5_DATA\\GB_ERA5_DATA\\era5_pressure_level_1991_01_850.nc (1.7M)\n",
      "2023-08-26 14:54:32,096 INFO Download rate 3.5M/s                                                                      \n",
      "2023-08-26 14:54:32,169 INFO Welcome to the CDS\n",
      "2023-08-26 14:54:32,184 INFO Sending request to https://cds.climate.copernicus.eu/api/v2/resources/reanalysis-era5-pressure-levels\n",
      "2023-08-26 14:54:32,253 INFO Request is queued\n"
     ]
    },
    {
     "name": "stdout",
     "output_type": "stream",
     "text": [
      "era5_pressure_level_1991_01_850.nc done!\n",
      "Download time: 50.218 s\n",
      "Folder 'F:\\JuPyterNotebook\\data\\raw_data\\ERA5_DATA\\GB_ERA5_DATA' created successfully.\n"
     ]
    },
    {
     "name": "stderr",
     "output_type": "stream",
     "text": [
      "2023-08-26 14:54:33,291 INFO Request is running\n",
      "2023-08-26 14:55:21,850 INFO Request is completed\n",
      "2023-08-26 14:55:21,850 INFO Downloading https://download-0011-clone.copernicus-climate.eu/cache-compute-0011/cache/data8/adaptor.mars.internal-1693058108.402913-31403-13-6f25ef88-25d1-40ac-ae2a-c1c7e349b337.nc to F:\\JuPyterNotebook\\data\\raw_data\\ERA5_DATA\\GB_ERA5_DATA\\era5_pressure_level_1991_02_850.nc (1.6M)\n",
      "2023-08-26 14:55:22,314 INFO Download rate 3.4M/s                                                                      \n",
      "2023-08-26 14:55:22,391 INFO Welcome to the CDS\n",
      "2023-08-26 14:55:22,406 INFO Sending request to https://cds.climate.copernicus.eu/api/v2/resources/reanalysis-era5-pressure-levels\n",
      "2023-08-26 14:55:22,503 INFO Request is queued\n"
     ]
    },
    {
     "name": "stdout",
     "output_type": "stream",
     "text": [
      "era5_pressure_level_1991_02_850.nc done!\n",
      "Download time: 50.207 s\n",
      "Folder 'F:\\JuPyterNotebook\\data\\raw_data\\ERA5_DATA\\GB_ERA5_DATA' created successfully.\n"
     ]
    },
    {
     "name": "stderr",
     "output_type": "stream",
     "text": [
      "2023-08-26 14:55:23,545 INFO Request is running\n",
      "2023-08-26 14:56:12,089 INFO Request is completed\n",
      "2023-08-26 14:56:12,089 INFO Downloading https://download-0010-clone.copernicus-climate.eu/cache-compute-0010/cache/data0/adaptor.mars.internal-1693058160.817606-23708-18-af92db62-6e7a-47a0-9884-36fb22be4b39.nc to F:\\JuPyterNotebook\\data\\raw_data\\ERA5_DATA\\GB_ERA5_DATA\\era5_pressure_level_1991_03_850.nc (1.7M)\n",
      "2023-08-26 14:56:12,544 INFO Download rate 3.8M/s                                                                      \n",
      "2023-08-26 14:56:12,637 INFO Welcome to the CDS\n",
      "2023-08-26 14:56:12,637 INFO Sending request to https://cds.climate.copernicus.eu/api/v2/resources/reanalysis-era5-pressure-levels\n",
      "2023-08-26 14:56:12,709 INFO Request is queued\n"
     ]
    },
    {
     "name": "stdout",
     "output_type": "stream",
     "text": [
      "era5_pressure_level_1991_03_850.nc done!\n",
      "Download time: 50.229 s\n",
      "Folder 'F:\\JuPyterNotebook\\data\\raw_data\\ERA5_DATA\\GB_ERA5_DATA' created successfully.\n"
     ]
    },
    {
     "name": "stderr",
     "output_type": "stream",
     "text": [
      "2023-08-26 14:56:13,751 INFO Request is running\n",
      "2023-08-26 14:57:02,282 INFO Request is completed\n",
      "2023-08-26 14:57:02,282 INFO Downloading https://download-0001-clone.copernicus-climate.eu/cache-compute-0001/cache/data2/adaptor.mars.internal-1693058209.6169534-17860-10-c9919f64-de22-418e-b354-2e6a4e454269.nc to F:\\JuPyterNotebook\\data\\raw_data\\ERA5_DATA\\GB_ERA5_DATA\\era5_pressure_level_1991_04_850.nc (1.7M)\n",
      "2023-08-26 14:57:03,006 INFO Download rate 2.3M/s                                                                      \n",
      "2023-08-26 14:57:03,100 INFO Welcome to the CDS\n",
      "2023-08-26 14:57:03,100 INFO Sending request to https://cds.climate.copernicus.eu/api/v2/resources/reanalysis-era5-pressure-levels\n",
      "2023-08-26 14:57:03,176 INFO Request is queued\n"
     ]
    },
    {
     "name": "stdout",
     "output_type": "stream",
     "text": [
      "era5_pressure_level_1991_04_850.nc done!\n",
      "Download time: 50.465 s\n",
      "Folder 'F:\\JuPyterNotebook\\data\\raw_data\\ERA5_DATA\\GB_ERA5_DATA' created successfully.\n"
     ]
    },
    {
     "name": "stderr",
     "output_type": "stream",
     "text": [
      "2023-08-26 14:57:04,215 INFO Request is running\n",
      "2023-08-26 14:57:52,771 INFO Request is completed\n",
      "2023-08-26 14:57:52,771 INFO Downloading https://download-0011-clone.copernicus-climate.eu/cache-compute-0011/cache/data4/adaptor.mars.internal-1693058261.136403-1988-5-e9940e11-6f6e-4b76-ac44-21ead0344188.nc to F:\\JuPyterNotebook\\data\\raw_data\\ERA5_DATA\\GB_ERA5_DATA\\era5_pressure_level_1991_05_850.nc (1.7M)\n",
      "2023-08-26 14:57:53,290 INFO Download rate 3.3M/s                                                                      \n",
      "2023-08-26 14:57:53,364 INFO Welcome to the CDS\n",
      "2023-08-26 14:57:53,380 INFO Sending request to https://cds.climate.copernicus.eu/api/v2/resources/reanalysis-era5-pressure-levels\n",
      "2023-08-26 14:57:53,432 INFO Request is queued\n"
     ]
    },
    {
     "name": "stdout",
     "output_type": "stream",
     "text": [
      "era5_pressure_level_1991_05_850.nc done!\n",
      "Download time: 50.263 s\n",
      "Folder 'F:\\JuPyterNotebook\\data\\raw_data\\ERA5_DATA\\GB_ERA5_DATA' created successfully.\n"
     ]
    },
    {
     "name": "stderr",
     "output_type": "stream",
     "text": [
      "2023-08-26 14:57:54,464 INFO Request is running\n",
      "2023-08-26 14:58:43,014 INFO Request is completed\n",
      "2023-08-26 14:58:43,014 INFO Downloading https://download-0010-clone.copernicus-climate.eu/cache-compute-0010/cache/data2/adaptor.mars.internal-1693058309.3752453-4168-8-65ad6fe0-616c-4227-8945-ab42f153c550.nc to F:\\JuPyterNotebook\\data\\raw_data\\ERA5_DATA\\GB_ERA5_DATA\\era5_pressure_level_1991_06_850.nc (1.7M)\n",
      "2023-08-26 14:58:43,473 INFO Download rate 3.8M/s                                                                      \n",
      "2023-08-26 14:58:43,555 INFO Welcome to the CDS\n",
      "2023-08-26 14:58:43,555 INFO Sending request to https://cds.climate.copernicus.eu/api/v2/resources/reanalysis-era5-pressure-levels\n",
      "2023-08-26 14:58:43,626 INFO Request is queued\n"
     ]
    },
    {
     "name": "stdout",
     "output_type": "stream",
     "text": [
      "era5_pressure_level_1991_06_850.nc done!\n",
      "Download time: 50.176 s\n",
      "Folder 'F:\\JuPyterNotebook\\data\\raw_data\\ERA5_DATA\\GB_ERA5_DATA' created successfully.\n"
     ]
    },
    {
     "name": "stderr",
     "output_type": "stream",
     "text": [
      "2023-08-26 14:58:44,660 INFO Request is running\n",
      "2023-08-26 14:59:33,392 INFO Request is completed\n",
      "2023-08-26 14:59:33,392 INFO Downloading https://download-0003-clone.copernicus-climate.eu/cache-compute-0003/cache/data3/adaptor.mars.internal-1693058364.03743-21265-15-8d7c557d-e8a9-45c8-94b1-78c2f7fedfaa.nc to F:\\JuPyterNotebook\\data\\raw_data\\ERA5_DATA\\GB_ERA5_DATA\\era5_pressure_level_1991_07_850.nc (1.7M)\n",
      "2023-08-26 14:59:33,864 INFO Download rate 3.7M/s                                                                      \n",
      "2023-08-26 14:59:33,948 INFO Welcome to the CDS\n",
      "2023-08-26 14:59:33,948 INFO Sending request to https://cds.climate.copernicus.eu/api/v2/resources/reanalysis-era5-pressure-levels\n",
      "2023-08-26 14:59:34,042 INFO Request is queued\n"
     ]
    },
    {
     "name": "stdout",
     "output_type": "stream",
     "text": [
      "era5_pressure_level_1991_07_850.nc done!\n",
      "Download time: 50.393 s\n",
      "Folder 'F:\\JuPyterNotebook\\data\\raw_data\\ERA5_DATA\\GB_ERA5_DATA' created successfully.\n"
     ]
    },
    {
     "name": "stderr",
     "output_type": "stream",
     "text": [
      "2023-08-26 14:59:35,080 INFO Request is running\n",
      "2023-08-26 15:00:23,608 INFO Request is completed\n",
      "2023-08-26 15:00:23,608 INFO Downloading https://download-0012-clone.copernicus-climate.eu/cache-compute-0012/cache/data4/adaptor.mars.internal-1693058412.742065-6423-14-cce5d7b9-3dea-4b0d-9d1d-dd3965f7b611.nc to F:\\JuPyterNotebook\\data\\raw_data\\ERA5_DATA\\GB_ERA5_DATA\\era5_pressure_level_1991_08_850.nc (1.7M)\n",
      "2023-08-26 15:00:24,088 INFO Download rate 3.6M/s                                                                      \n",
      "2023-08-26 15:00:24,172 INFO Welcome to the CDS\n",
      "2023-08-26 15:00:24,172 INFO Sending request to https://cds.climate.copernicus.eu/api/v2/resources/reanalysis-era5-pressure-levels\n",
      "2023-08-26 15:00:24,216 INFO Request is queued\n"
     ]
    },
    {
     "name": "stdout",
     "output_type": "stream",
     "text": [
      "era5_pressure_level_1991_08_850.nc done!\n",
      "Download time: 50.238 s\n",
      "Folder 'F:\\JuPyterNotebook\\data\\raw_data\\ERA5_DATA\\GB_ERA5_DATA' created successfully.\n"
     ]
    },
    {
     "name": "stderr",
     "output_type": "stream",
     "text": [
      "2023-08-26 15:00:25,253 INFO Request is running\n",
      "2023-08-26 15:01:13,807 INFO Request is completed\n",
      "2023-08-26 15:01:13,807 INFO Downloading https://download-0017.copernicus-climate.eu/cache-compute-0017/cache/data3/adaptor.mars.internal-1693058463.169083-20153-2-bc7b01d5-72c1-452c-b5e2-a8052a92dc4d.nc to F:\\JuPyterNotebook\\data\\raw_data\\ERA5_DATA\\GB_ERA5_DATA\\era5_pressure_level_1991_09_850.nc (1.7M)\n",
      "2023-08-26 15:01:14,261 INFO Download rate 3.7M/s                                                                      \n",
      "2023-08-26 15:01:14,335 INFO Welcome to the CDS\n",
      "2023-08-26 15:01:14,335 INFO Sending request to https://cds.climate.copernicus.eu/api/v2/resources/reanalysis-era5-pressure-levels\n",
      "2023-08-26 15:01:14,431 INFO Request is queued\n"
     ]
    },
    {
     "name": "stdout",
     "output_type": "stream",
     "text": [
      "era5_pressure_level_1991_09_850.nc done!\n",
      "Download time: 50.164 s\n",
      "Folder 'F:\\JuPyterNotebook\\data\\raw_data\\ERA5_DATA\\GB_ERA5_DATA' created successfully.\n"
     ]
    },
    {
     "name": "stderr",
     "output_type": "stream",
     "text": [
      "2023-08-26 15:01:15,484 INFO Request is running\n",
      "2023-08-26 15:02:04,028 INFO Request is completed\n",
      "2023-08-26 15:02:04,028 INFO Downloading https://download-0013-clone.copernicus-climate.eu/cache-compute-0013/cache/data4/adaptor.mars.internal-1693058516.2242668-20127-4-394622d3-f8f6-4741-b8ae-faf71c8dac68.nc to F:\\JuPyterNotebook\\data\\raw_data\\ERA5_DATA\\GB_ERA5_DATA\\era5_pressure_level_1991_10_850.nc (1.7M)\n",
      "2023-08-26 15:02:04,585 INFO Download rate 3.1M/s                                                                      \n",
      "2023-08-26 15:02:04,751 INFO Welcome to the CDS\n",
      "2023-08-26 15:02:04,751 INFO Sending request to https://cds.climate.copernicus.eu/api/v2/resources/reanalysis-era5-pressure-levels\n",
      "2023-08-26 15:02:04,815 INFO Request is queued\n"
     ]
    },
    {
     "name": "stdout",
     "output_type": "stream",
     "text": [
      "era5_pressure_level_1991_10_850.nc done!\n",
      "Download time: 50.415 s\n",
      "Folder 'F:\\JuPyterNotebook\\data\\raw_data\\ERA5_DATA\\GB_ERA5_DATA' created successfully.\n"
     ]
    },
    {
     "name": "stderr",
     "output_type": "stream",
     "text": [
      "2023-08-26 15:02:05,848 INFO Request is running\n",
      "2023-08-26 15:02:54,399 INFO Request is completed\n",
      "2023-08-26 15:02:54,399 INFO Downloading https://download-0019.copernicus-climate.eu/cache-compute-0019/cache/data6/adaptor.mars.internal-1693058561.7186425-26222-4-bf83148d-4e8c-4366-be30-1988727ad787.nc to F:\\JuPyterNotebook\\data\\raw_data\\ERA5_DATA\\GB_ERA5_DATA\\era5_pressure_level_1991_11_850.nc (1.7M)\n",
      "2023-08-26 15:02:54,913 INFO Download rate 3.3M/s                                                                      \n",
      "2023-08-26 15:02:54,998 INFO Welcome to the CDS\n",
      "2023-08-26 15:02:54,998 INFO Sending request to https://cds.climate.copernicus.eu/api/v2/resources/reanalysis-era5-pressure-levels\n",
      "2023-08-26 15:02:55,083 INFO Request is queued\n"
     ]
    },
    {
     "name": "stdout",
     "output_type": "stream",
     "text": [
      "era5_pressure_level_1991_11_850.nc done!\n",
      "Download time: 50.233 s\n",
      "Folder 'F:\\JuPyterNotebook\\data\\raw_data\\ERA5_DATA\\GB_ERA5_DATA' created successfully.\n"
     ]
    },
    {
     "name": "stderr",
     "output_type": "stream",
     "text": [
      "2023-08-26 15:02:56,130 INFO Request is running\n",
      "2023-08-26 15:03:44,679 INFO Request is completed\n",
      "2023-08-26 15:03:44,679 INFO Downloading https://download-0021.copernicus-climate.eu/cache-compute-0021/cache/data6/adaptor.mars.internal-1693058613.4490051-11150-2-77833857-5863-417e-8a9b-7fbd08a8220f.nc to F:\\JuPyterNotebook\\data\\raw_data\\ERA5_DATA\\GB_ERA5_DATA\\era5_pressure_level_1991_12_850.nc (1.7M)\n",
      "2023-08-26 15:03:45,186 INFO Download rate 3.4M/s                                                                      \n",
      "2023-08-26 15:03:45,262 INFO Welcome to the CDS\n",
      "2023-08-26 15:03:45,262 INFO Sending request to https://cds.climate.copernicus.eu/api/v2/resources/reanalysis-era5-pressure-levels\n",
      "2023-08-26 15:03:45,313 INFO Request is queued\n"
     ]
    },
    {
     "name": "stdout",
     "output_type": "stream",
     "text": [
      "era5_pressure_level_1991_12_850.nc done!\n",
      "Download time: 50.264 s\n",
      "Folder 'F:\\JuPyterNotebook\\data\\raw_data\\ERA5_DATA\\GB_ERA5_DATA' created successfully.\n"
     ]
    },
    {
     "name": "stderr",
     "output_type": "stream",
     "text": [
      "2023-08-26 15:03:46,357 INFO Request is running\n",
      "2023-08-26 15:04:34,977 INFO Request is completed\n",
      "2023-08-26 15:04:34,977 INFO Downloading https://download-0017.copernicus-climate.eu/cache-compute-0017/cache/data0/adaptor.mars.internal-1693058663.116253-19966-7-65843ed1-e0f7-40dd-a83e-812c54b50f77.nc to F:\\JuPyterNotebook\\data\\raw_data\\ERA5_DATA\\GB_ERA5_DATA\\era5_pressure_level_1992_01_850.nc (1.7M)\n",
      "2023-08-26 15:04:35,509 INFO Download rate 3.3M/s                                                                      \n",
      "2023-08-26 15:04:35,593 INFO Welcome to the CDS\n",
      "2023-08-26 15:04:35,593 INFO Sending request to https://cds.climate.copernicus.eu/api/v2/resources/reanalysis-era5-pressure-levels\n",
      "2023-08-26 15:04:35,634 INFO Request is queued\n"
     ]
    },
    {
     "name": "stdout",
     "output_type": "stream",
     "text": [
      "era5_pressure_level_1992_01_850.nc done!\n",
      "Download time: 50.315 s\n",
      "Folder 'F:\\JuPyterNotebook\\data\\raw_data\\ERA5_DATA\\GB_ERA5_DATA' created successfully.\n"
     ]
    },
    {
     "name": "stderr",
     "output_type": "stream",
     "text": [
      "2023-08-26 15:04:36,686 INFO Request is running\n",
      "2023-08-26 15:05:25,224 INFO Request is completed\n",
      "2023-08-26 15:05:25,224 INFO Downloading https://download-0011-clone.copernicus-climate.eu/cache-compute-0011/cache/data5/adaptor.mars.internal-1693058710.0431597-31120-15-e80788d8-9d76-4329-b03d-2ac43a87771a.nc to F:\\JuPyterNotebook\\data\\raw_data\\ERA5_DATA\\GB_ERA5_DATA\\era5_pressure_level_1992_02_850.nc (1.6M)\n",
      "2023-08-26 15:05:25,747 INFO Download rate 3.1M/s                                                                      \n",
      "2023-08-26 15:05:25,824 INFO Welcome to the CDS\n",
      "2023-08-26 15:05:25,824 INFO Sending request to https://cds.climate.copernicus.eu/api/v2/resources/reanalysis-era5-pressure-levels\n",
      "2023-08-26 15:05:25,864 INFO Request is queued\n"
     ]
    },
    {
     "name": "stdout",
     "output_type": "stream",
     "text": [
      "era5_pressure_level_1992_02_850.nc done!\n",
      "Download time: 50.216 s\n",
      "Folder 'F:\\JuPyterNotebook\\data\\raw_data\\ERA5_DATA\\GB_ERA5_DATA' created successfully.\n"
     ]
    },
    {
     "name": "stderr",
     "output_type": "stream",
     "text": [
      "2023-08-26 15:05:26,903 INFO Request is running\n",
      "2023-08-26 15:06:15,467 INFO Request is completed\n",
      "2023-08-26 15:06:15,467 INFO Downloading https://download-0016.copernicus-climate.eu/cache-compute-0016/cache/data3/adaptor.mars.internal-1693058764.1587558-21987-1-a41a855f-9370-4d10-8d1f-fdc6fe55fde3.nc to F:\\JuPyterNotebook\\data\\raw_data\\ERA5_DATA\\GB_ERA5_DATA\\era5_pressure_level_1992_03_850.nc (1.7M)\n",
      "2023-08-26 15:06:15,944 INFO Download rate 3.6M/s                                                                      \n",
      "2023-08-26 15:06:16,017 INFO Welcome to the CDS\n",
      "2023-08-26 15:06:16,017 INFO Sending request to https://cds.climate.copernicus.eu/api/v2/resources/reanalysis-era5-pressure-levels\n",
      "2023-08-26 15:06:16,100 INFO Request is queued\n"
     ]
    },
    {
     "name": "stdout",
     "output_type": "stream",
     "text": [
      "era5_pressure_level_1992_03_850.nc done!\n",
      "Download time: 50.208 s\n",
      "Folder 'F:\\JuPyterNotebook\\data\\raw_data\\ERA5_DATA\\GB_ERA5_DATA' created successfully.\n"
     ]
    },
    {
     "name": "stderr",
     "output_type": "stream",
     "text": [
      "2023-08-26 15:06:17,144 INFO Request is running\n",
      "2023-08-26 15:07:05,874 INFO Request is completed\n",
      "2023-08-26 15:07:05,874 INFO Downloading https://download-0016.copernicus-climate.eu/cache-compute-0016/cache/data4/adaptor.mars.internal-1693058814.0035052-16898-13-2cf4e23c-785d-46d4-a2fa-80ab28199016.nc to F:\\JuPyterNotebook\\data\\raw_data\\ERA5_DATA\\GB_ERA5_DATA\\era5_pressure_level_1992_04_850.nc (1.7M)\n",
      "2023-08-26 15:07:06,178 INFO Download rate 5.5M/s                                                                      \n",
      "2023-08-26 15:07:06,265 INFO Welcome to the CDS\n",
      "2023-08-26 15:07:06,265 INFO Sending request to https://cds.climate.copernicus.eu/api/v2/resources/reanalysis-era5-pressure-levels\n",
      "2023-08-26 15:07:06,359 INFO Request is queued\n"
     ]
    },
    {
     "name": "stdout",
     "output_type": "stream",
     "text": [
      "era5_pressure_level_1992_04_850.nc done!\n",
      "Download time: 50.245 s\n",
      "Folder 'F:\\JuPyterNotebook\\data\\raw_data\\ERA5_DATA\\GB_ERA5_DATA' created successfully.\n"
     ]
    },
    {
     "name": "stderr",
     "output_type": "stream",
     "text": [
      "2023-08-26 15:07:07,404 INFO Request is running\n",
      "2023-08-26 15:07:19,751 INFO Request is completed\n",
      "2023-08-26 15:07:19,751 INFO Downloading https://download-0017.copernicus-climate.eu/cache-compute-0017/cache/data4/adaptor.mars.internal-1693058837.064659-15798-11-a58aa602-affe-4fc4-bd19-5dba72241b55.nc to F:\\JuPyterNotebook\\data\\raw_data\\ERA5_DATA\\GB_ERA5_DATA\\era5_pressure_level_1992_05_850.nc (1.7M)\n",
      "2023-08-26 15:07:20,250 INFO Download rate 3.6M/s                                                                      \n",
      "2023-08-26 15:07:20,350 INFO Welcome to the CDS\n",
      "2023-08-26 15:07:20,350 INFO Sending request to https://cds.climate.copernicus.eu/api/v2/resources/reanalysis-era5-pressure-levels\n",
      "2023-08-26 15:07:20,437 INFO Request is queued\n"
     ]
    },
    {
     "name": "stdout",
     "output_type": "stream",
     "text": [
      "era5_pressure_level_1992_05_850.nc done!\n",
      "Download time: 14.069 s\n",
      "Folder 'F:\\JuPyterNotebook\\data\\raw_data\\ERA5_DATA\\GB_ERA5_DATA' created successfully.\n"
     ]
    },
    {
     "name": "stderr",
     "output_type": "stream",
     "text": [
      "2023-08-26 15:07:21,475 INFO Request is running\n",
      "2023-08-26 15:08:10,025 INFO Request is completed\n",
      "2023-08-26 15:08:10,025 INFO Downloading https://download-0006-clone.copernicus-climate.eu/cache-compute-0006/cache/data6/adaptor.mars.internal-1693058879.792334-11416-19-ba309274-82cc-4122-99f0-8f031e604244.nc to F:\\JuPyterNotebook\\data\\raw_data\\ERA5_DATA\\GB_ERA5_DATA\\era5_pressure_level_1992_06_850.nc (1.7M)\n",
      "2023-08-26 15:08:10,573 INFO Download rate 3.1M/s                                                                      \n",
      "2023-08-26 15:08:10,655 INFO Welcome to the CDS\n",
      "2023-08-26 15:08:10,655 INFO Sending request to https://cds.climate.copernicus.eu/api/v2/resources/reanalysis-era5-pressure-levels\n",
      "2023-08-26 15:08:10,741 INFO Request is queued\n"
     ]
    },
    {
     "name": "stdout",
     "output_type": "stream",
     "text": [
      "era5_pressure_level_1992_06_850.nc done!\n",
      "Download time: 50.305 s\n",
      "Folder 'F:\\JuPyterNotebook\\data\\raw_data\\ERA5_DATA\\GB_ERA5_DATA' created successfully.\n"
     ]
    },
    {
     "name": "stderr",
     "output_type": "stream",
     "text": [
      "2023-08-26 15:08:11,779 INFO Request is running\n",
      "2023-08-26 15:09:00,308 INFO Request is completed\n",
      "2023-08-26 15:09:00,308 INFO Downloading https://download-0002-clone.copernicus-climate.eu/cache-compute-0002/cache/data2/adaptor.mars.internal-1693058929.4015577-29338-4-46f9f34f-c136-4bc8-9840-d6ecae79e181.nc to F:\\JuPyterNotebook\\data\\raw_data\\ERA5_DATA\\GB_ERA5_DATA\\era5_pressure_level_1992_07_850.nc (1.7M)\n",
      "2023-08-26 15:09:00,819 INFO Download rate 3.4M/s                                                                      \n",
      "2023-08-26 15:09:00,904 INFO Welcome to the CDS\n",
      "2023-08-26 15:09:00,904 INFO Sending request to https://cds.climate.copernicus.eu/api/v2/resources/reanalysis-era5-pressure-levels\n",
      "2023-08-26 15:09:00,961 INFO Request is queued\n"
     ]
    },
    {
     "name": "stdout",
     "output_type": "stream",
     "text": [
      "era5_pressure_level_1992_07_850.nc done!\n",
      "Download time: 50.247 s\n",
      "Folder 'F:\\JuPyterNotebook\\data\\raw_data\\ERA5_DATA\\GB_ERA5_DATA' created successfully.\n"
     ]
    },
    {
     "name": "stderr",
     "output_type": "stream",
     "text": [
      "2023-08-26 15:09:02,020 INFO Request is running\n",
      "2023-08-26 15:09:50,582 INFO Request is completed\n",
      "2023-08-26 15:09:50,598 INFO Downloading https://download-0001-clone.copernicus-climate.eu/cache-compute-0001/cache/data7/adaptor.mars.internal-1693058987.807548-21758-9-1c9f7224-022e-4a03-a88f-831915eebf4a.nc to F:\\JuPyterNotebook\\data\\raw_data\\ERA5_DATA\\GB_ERA5_DATA\\era5_pressure_level_1992_08_850.nc (1.7M)\n",
      "2023-08-26 15:09:51,139 INFO Download rate 3.2M/s                                                                      \n",
      "2023-08-26 15:09:51,223 INFO Welcome to the CDS\n",
      "2023-08-26 15:09:51,224 INFO Sending request to https://cds.climate.copernicus.eu/api/v2/resources/reanalysis-era5-pressure-levels\n",
      "2023-08-26 15:09:51,291 INFO Request is queued\n"
     ]
    },
    {
     "name": "stdout",
     "output_type": "stream",
     "text": [
      "era5_pressure_level_1992_08_850.nc done!\n",
      "Download time: 50.327 s\n",
      "Folder 'F:\\JuPyterNotebook\\data\\raw_data\\ERA5_DATA\\GB_ERA5_DATA' created successfully.\n"
     ]
    },
    {
     "name": "stderr",
     "output_type": "stream",
     "text": [
      "2023-08-26 15:09:52,338 INFO Request is running\n",
      "2023-08-26 15:10:40,894 INFO Request is completed\n",
      "2023-08-26 15:10:40,894 INFO Downloading https://download-0020.copernicus-climate.eu/cache-compute-0020/cache/data9/adaptor.mars.internal-1693059028.3222542-25342-1-671861f5-09e6-4dae-8869-5e83a1e64f76.nc to F:\\JuPyterNotebook\\data\\raw_data\\ERA5_DATA\\GB_ERA5_DATA\\era5_pressure_level_1992_09_850.nc (1.7M)\n",
      "2023-08-26 15:10:41,413 INFO Download rate 3.2M/s                                                                      \n",
      "2023-08-26 15:10:41,505 INFO Welcome to the CDS\n",
      "2023-08-26 15:10:41,505 INFO Sending request to https://cds.climate.copernicus.eu/api/v2/resources/reanalysis-era5-pressure-levels\n",
      "2023-08-26 15:10:41,597 INFO Request is queued\n"
     ]
    },
    {
     "name": "stdout",
     "output_type": "stream",
     "text": [
      "era5_pressure_level_1992_09_850.nc done!\n",
      "Download time: 50.275 s\n",
      "Folder 'F:\\JuPyterNotebook\\data\\raw_data\\ERA5_DATA\\GB_ERA5_DATA' created successfully.\n"
     ]
    },
    {
     "name": "stderr",
     "output_type": "stream",
     "text": [
      "2023-08-26 15:10:42,641 INFO Request is running\n",
      "2023-08-26 15:11:31,199 INFO Request is completed\n",
      "2023-08-26 15:11:31,215 INFO Downloading https://download-0020.copernicus-climate.eu/cache-compute-0020/cache/data8/adaptor.mars.internal-1693059084.253038-18801-3-6f57231c-1113-4c46-8f3a-074391eead02.nc to F:\\JuPyterNotebook\\data\\raw_data\\ERA5_DATA\\GB_ERA5_DATA\\era5_pressure_level_1992_10_850.nc (1.7M)\n",
      "2023-08-26 15:11:31,581 INFO Download rate 4.7M/s                                                                      \n",
      "2023-08-26 15:11:31,667 INFO Welcome to the CDS\n",
      "2023-08-26 15:11:31,667 INFO Sending request to https://cds.climate.copernicus.eu/api/v2/resources/reanalysis-era5-pressure-levels\n",
      "2023-08-26 15:11:31,735 INFO Request is queued\n"
     ]
    },
    {
     "name": "stdout",
     "output_type": "stream",
     "text": [
      "era5_pressure_level_1992_10_850.nc done!\n",
      "Download time: 50.146 s\n",
      "Folder 'F:\\JuPyterNotebook\\data\\raw_data\\ERA5_DATA\\GB_ERA5_DATA' created successfully.\n"
     ]
    },
    {
     "name": "stderr",
     "output_type": "stream",
     "text": [
      "2023-08-26 15:11:32,778 INFO Request is running\n",
      "2023-08-26 15:12:21,319 INFO Request is completed\n",
      "2023-08-26 15:12:21,319 INFO Downloading https://download-0013-clone.copernicus-climate.eu/cache-compute-0013/cache/data6/adaptor.mars.internal-1693059128.9852953-27817-6-a0b4fc51-fe60-4d80-9920-3bf02aa0f34c.nc to F:\\JuPyterNotebook\\data\\raw_data\\ERA5_DATA\\GB_ERA5_DATA\\era5_pressure_level_1992_11_850.nc (1.7M)\n",
      "2023-08-26 15:12:21,811 INFO Download rate 3.4M/s                                                                      \n",
      "2023-08-26 15:12:21,890 INFO Welcome to the CDS\n",
      "2023-08-26 15:12:21,890 INFO Sending request to https://cds.climate.copernicus.eu/api/v2/resources/reanalysis-era5-pressure-levels\n",
      "2023-08-26 15:12:21,970 INFO Request is queued\n"
     ]
    },
    {
     "name": "stdout",
     "output_type": "stream",
     "text": [
      "era5_pressure_level_1992_11_850.nc done!\n",
      "Download time: 50.239 s\n",
      "Folder 'F:\\JuPyterNotebook\\data\\raw_data\\ERA5_DATA\\GB_ERA5_DATA' created successfully.\n"
     ]
    },
    {
     "name": "stderr",
     "output_type": "stream",
     "text": [
      "2023-08-26 15:12:23,109 INFO Request is running\n",
      "2023-08-26 15:13:11,725 INFO Request is completed\n",
      "2023-08-26 15:13:11,725 INFO Downloading https://download-0007-clone.copernicus-climate.eu/cache-compute-0007/cache/data0/adaptor.mars.internal-1693059177.6245732-7936-12-19246bda-cefc-4a98-af09-cfa2a3eb2566.nc to F:\\JuPyterNotebook\\data\\raw_data\\ERA5_DATA\\GB_ERA5_DATA\\era5_pressure_level_1992_12_850.nc (1.7M)\n",
      "2023-08-26 15:13:12,590 INFO Download rate 2M/s                                                                        \n",
      "2023-08-26 15:13:12,678 INFO Welcome to the CDS\n",
      "2023-08-26 15:13:12,678 INFO Sending request to https://cds.climate.copernicus.eu/api/v2/resources/reanalysis-era5-pressure-levels\n",
      "2023-08-26 15:13:12,754 INFO Request is queued\n"
     ]
    },
    {
     "name": "stdout",
     "output_type": "stream",
     "text": [
      "era5_pressure_level_1992_12_850.nc done!\n",
      "Download time: 50.772 s\n",
      "Folder 'F:\\JuPyterNotebook\\data\\raw_data\\ERA5_DATA\\GB_ERA5_DATA' created successfully.\n"
     ]
    },
    {
     "name": "stderr",
     "output_type": "stream",
     "text": [
      "2023-08-26 15:13:13,799 INFO Request is running\n",
      "2023-08-26 15:14:02,342 INFO Request is completed\n",
      "2023-08-26 15:14:02,342 INFO Downloading https://download-0007-clone.copernicus-climate.eu/cache-compute-0007/cache/data5/adaptor.mars.internal-1693059233.3341556-15587-3-8fe2e062-5f42-48cf-85ab-f85d20d5ac70.nc to F:\\JuPyterNotebook\\data\\raw_data\\ERA5_DATA\\GB_ERA5_DATA\\era5_pressure_level_1993_01_850.nc (1.7M)\n",
      "2023-08-26 15:14:02,784 INFO Download rate 3.9M/s                                                                      \n",
      "2023-08-26 15:14:02,863 INFO Welcome to the CDS\n",
      "2023-08-26 15:14:02,863 INFO Sending request to https://cds.climate.copernicus.eu/api/v2/resources/reanalysis-era5-pressure-levels\n"
     ]
    },
    {
     "name": "stdout",
     "output_type": "stream",
     "text": [
      "era5_pressure_level_1993_01_850.nc done!\n",
      "Download time: 50.201 s\n",
      "Folder 'F:\\JuPyterNotebook\\data\\raw_data\\ERA5_DATA\\GB_ERA5_DATA' created successfully.\n"
     ]
    },
    {
     "name": "stderr",
     "output_type": "stream",
     "text": [
      "2023-08-26 15:14:03,055 INFO Request is queued\n",
      "2023-08-26 15:14:04,093 INFO Request is running\n",
      "2023-08-26 15:14:52,642 INFO Request is completed\n",
      "2023-08-26 15:14:52,642 INFO Downloading https://download-0021.copernicus-climate.eu/cache-compute-0021/cache/data2/adaptor.mars.internal-1693059279.4395866-7941-15-2771291c-e437-4ede-8296-93bcb0db5b6c.nc to F:\\JuPyterNotebook\\data\\raw_data\\ERA5_DATA\\GB_ERA5_DATA\\era5_pressure_level_1993_02_850.nc (1.6M)\n",
      "2023-08-26 15:14:53,162 INFO Download rate 3M/s                                                                        \n",
      "2023-08-26 15:14:53,247 INFO Welcome to the CDS\n",
      "2023-08-26 15:14:53,247 INFO Sending request to https://cds.climate.copernicus.eu/api/v2/resources/reanalysis-era5-pressure-levels\n",
      "2023-08-26 15:14:53,302 INFO Request is queued\n"
     ]
    },
    {
     "name": "stdout",
     "output_type": "stream",
     "text": [
      "era5_pressure_level_1993_02_850.nc done!\n",
      "Download time: 50.368 s\n",
      "Folder 'F:\\JuPyterNotebook\\data\\raw_data\\ERA5_DATA\\GB_ERA5_DATA' created successfully.\n"
     ]
    },
    {
     "name": "stderr",
     "output_type": "stream",
     "text": [
      "2023-08-26 15:14:54,337 INFO Request is running\n",
      "2023-08-26 15:15:42,888 INFO Request is completed\n",
      "2023-08-26 15:15:42,888 INFO Downloading https://download-0017.copernicus-climate.eu/cache-compute-0017/cache/data0/adaptor.mars.internal-1693059333.389458-27954-7-9cbb66d7-e8a0-4c20-8239-9bcec310194c.nc to F:\\JuPyterNotebook\\data\\raw_data\\ERA5_DATA\\GB_ERA5_DATA\\era5_pressure_level_1993_03_850.nc (1.7M)\n",
      "2023-08-26 15:15:43,402 INFO Download rate 3.4M/s                                                                      \n",
      "2023-08-26 15:15:43,476 INFO Welcome to the CDS\n",
      "2023-08-26 15:15:43,476 INFO Sending request to https://cds.climate.copernicus.eu/api/v2/resources/reanalysis-era5-pressure-levels\n",
      "2023-08-26 15:15:43,555 INFO Request is queued\n"
     ]
    },
    {
     "name": "stdout",
     "output_type": "stream",
     "text": [
      "era5_pressure_level_1993_03_850.nc done!\n",
      "Download time: 50.245 s\n",
      "Folder 'F:\\JuPyterNotebook\\data\\raw_data\\ERA5_DATA\\GB_ERA5_DATA' created successfully.\n"
     ]
    },
    {
     "name": "stderr",
     "output_type": "stream",
     "text": [
      "2023-08-26 15:15:44,595 INFO Request is running\n",
      "2023-08-26 15:16:33,203 INFO Request is completed\n",
      "2023-08-26 15:16:33,203 INFO Downloading https://download-0017.copernicus-climate.eu/cache-compute-0017/cache/data1/adaptor.mars.internal-1693059383.4230242-28919-4-f85014b2-7835-4ee1-ba1d-bcc90ab25706.nc to F:\\JuPyterNotebook\\data\\raw_data\\ERA5_DATA\\GB_ERA5_DATA\\era5_pressure_level_1993_04_850.nc (1.7M)\n",
      "2023-08-26 15:16:33,529 INFO Download rate 5.2M/s                                                                      \n",
      "2023-08-26 15:16:33,613 INFO Welcome to the CDS\n",
      "2023-08-26 15:16:33,613 INFO Sending request to https://cds.climate.copernicus.eu/api/v2/resources/reanalysis-era5-pressure-levels\n",
      "2023-08-26 15:16:33,677 INFO Request is queued\n"
     ]
    },
    {
     "name": "stdout",
     "output_type": "stream",
     "text": [
      "era5_pressure_level_1993_04_850.nc done!\n",
      "Download time: 50.135 s\n",
      "Folder 'F:\\JuPyterNotebook\\data\\raw_data\\ERA5_DATA\\GB_ERA5_DATA' created successfully.\n"
     ]
    },
    {
     "name": "stderr",
     "output_type": "stream",
     "text": [
      "2023-08-26 15:16:34,718 INFO Request is running\n",
      "2023-08-26 15:17:23,271 INFO Request is completed\n",
      "2023-08-26 15:17:23,271 INFO Downloading https://download-0003-clone.copernicus-climate.eu/cache-compute-0003/cache/data3/adaptor.mars.internal-1693059431.5983386-20856-19-373d05d1-98f3-473f-8371-59185894da95.nc to F:\\JuPyterNotebook\\data\\raw_data\\ERA5_DATA\\GB_ERA5_DATA\\era5_pressure_level_1993_05_850.nc (1.7M)\n",
      "2023-08-26 15:17:23,793 INFO Download rate 3.3M/s                                                                      \n",
      "2023-08-26 15:17:23,854 INFO Welcome to the CDS\n",
      "2023-08-26 15:17:23,869 INFO Sending request to https://cds.climate.copernicus.eu/api/v2/resources/reanalysis-era5-pressure-levels\n",
      "2023-08-26 15:17:23,921 INFO Request is queued\n"
     ]
    },
    {
     "name": "stdout",
     "output_type": "stream",
     "text": [
      "era5_pressure_level_1993_05_850.nc done!\n",
      "Download time: 50.242 s\n",
      "Folder 'F:\\JuPyterNotebook\\data\\raw_data\\ERA5_DATA\\GB_ERA5_DATA' created successfully.\n"
     ]
    },
    {
     "name": "stderr",
     "output_type": "stream",
     "text": [
      "2023-08-26 15:17:24,979 INFO Request is running\n",
      "2023-08-26 15:18:13,539 INFO Request is completed\n",
      "2023-08-26 15:18:13,539 INFO Downloading https://download-0000-clone.copernicus-climate.eu/cache-compute-0000/cache/data2/adaptor.mars.internal-1693059484.1336858-8332-12-07f0c2b6-482a-44be-9eaa-04280df16554.nc to F:\\JuPyterNotebook\\data\\raw_data\\ERA5_DATA\\GB_ERA5_DATA\\era5_pressure_level_1993_06_850.nc (1.7M)\n",
      "2023-08-26 15:18:14,043 INFO Download rate 3.3M/s                                                                      \n",
      "2023-08-26 15:18:14,110 INFO Welcome to the CDS\n",
      "2023-08-26 15:18:14,110 INFO Sending request to https://cds.climate.copernicus.eu/api/v2/resources/reanalysis-era5-pressure-levels\n",
      "2023-08-26 15:18:14,161 INFO Request is queued\n"
     ]
    },
    {
     "name": "stdout",
     "output_type": "stream",
     "text": [
      "era5_pressure_level_1993_06_850.nc done!\n",
      "Download time: 50.256 s\n",
      "Folder 'F:\\JuPyterNotebook\\data\\raw_data\\ERA5_DATA\\GB_ERA5_DATA' created successfully.\n"
     ]
    },
    {
     "name": "stderr",
     "output_type": "stream",
     "text": [
      "2023-08-26 15:18:15,208 INFO Request is running\n",
      "2023-08-26 15:19:03,763 INFO Request is completed\n",
      "2023-08-26 15:19:03,763 INFO Downloading https://download-0010-clone.copernicus-climate.eu/cache-compute-0010/cache/data0/adaptor.mars.internal-1693059539.4538739-16954-4-5a62187a-641c-4c8a-b699-3d88757b899a.nc to F:\\JuPyterNotebook\\data\\raw_data\\ERA5_DATA\\GB_ERA5_DATA\\era5_pressure_level_1993_07_850.nc (1.7M)\n",
      "2023-08-26 15:19:04,290 INFO Download rate 3.3M/s                                                                      \n",
      "2023-08-26 15:19:04,361 INFO Welcome to the CDS\n",
      "2023-08-26 15:19:04,361 INFO Sending request to https://cds.climate.copernicus.eu/api/v2/resources/reanalysis-era5-pressure-levels\n",
      "2023-08-26 15:19:04,445 INFO Request is queued\n"
     ]
    },
    {
     "name": "stdout",
     "output_type": "stream",
     "text": [
      "era5_pressure_level_1993_07_850.nc done!\n",
      "Download time: 50.241 s\n",
      "Folder 'F:\\JuPyterNotebook\\data\\raw_data\\ERA5_DATA\\GB_ERA5_DATA' created successfully.\n"
     ]
    },
    {
     "name": "stderr",
     "output_type": "stream",
     "text": [
      "2023-08-26 15:19:05,500 INFO Request is running\n",
      "2023-08-26 15:19:54,041 INFO Request is completed\n",
      "2023-08-26 15:19:54,041 INFO Downloading https://download-0017.copernicus-climate.eu/cache-compute-0017/cache/data7/adaptor.mars.internal-1693059588.5311453-28170-10-f3e26c01-4734-4065-9c4c-6f922596d817.nc to F:\\JuPyterNotebook\\data\\raw_data\\ERA5_DATA\\GB_ERA5_DATA\\era5_pressure_level_1993_08_850.nc (1.7M)\n",
      "2023-08-26 15:19:54,546 INFO Download rate 3.4M/s                                                                      \n",
      "2023-08-26 15:19:54,611 INFO Welcome to the CDS\n",
      "2023-08-26 15:19:54,611 INFO Sending request to https://cds.climate.copernicus.eu/api/v2/resources/reanalysis-era5-pressure-levels\n",
      "2023-08-26 15:19:54,671 INFO Request is queued\n"
     ]
    },
    {
     "name": "stdout",
     "output_type": "stream",
     "text": [
      "era5_pressure_level_1993_08_850.nc done!\n",
      "Download time: 50.259 s\n",
      "Folder 'F:\\JuPyterNotebook\\data\\raw_data\\ERA5_DATA\\GB_ERA5_DATA' created successfully.\n"
     ]
    },
    {
     "name": "stderr",
     "output_type": "stream",
     "text": [
      "2023-08-26 15:19:55,709 INFO Request is running\n",
      "2023-08-26 15:20:08,068 INFO Request is completed\n",
      "2023-08-26 15:20:08,068 INFO Downloading https://download-0013-clone.copernicus-climate.eu/cache-compute-0013/cache/data9/adaptor.mars.internal-1693059606.420412-21763-18-61988336-05ed-4c61-9108-bc5857ec5496.nc to F:\\JuPyterNotebook\\data\\raw_data\\ERA5_DATA\\GB_ERA5_DATA\\era5_pressure_level_1993_09_850.nc (1.7M)\n",
      "2023-08-26 15:20:08,555 INFO Download rate 3.5M/s                                                                      \n",
      "2023-08-26 15:20:08,637 INFO Welcome to the CDS\n",
      "2023-08-26 15:20:08,653 INFO Sending request to https://cds.climate.copernicus.eu/api/v2/resources/reanalysis-era5-pressure-levels\n",
      "2023-08-26 15:20:08,690 INFO Request is queued\n"
     ]
    },
    {
     "name": "stdout",
     "output_type": "stream",
     "text": [
      "era5_pressure_level_1993_09_850.nc done!\n",
      "Download time: 14.027 s\n",
      "Folder 'F:\\JuPyterNotebook\\data\\raw_data\\ERA5_DATA\\GB_ERA5_DATA' created successfully.\n"
     ]
    },
    {
     "name": "stderr",
     "output_type": "stream",
     "text": [
      "2023-08-26 15:20:09,733 INFO Request is running\n",
      "2023-08-26 15:20:58,312 INFO Request is completed\n",
      "2023-08-26 15:20:58,312 INFO Downloading https://download-0017.copernicus-climate.eu/cache-compute-0017/cache/data4/adaptor.mars.internal-1693059648.3963745-16429-18-99910c4f-f6f4-4ef0-8930-f82229474ed4.nc to F:\\JuPyterNotebook\\data\\raw_data\\ERA5_DATA\\GB_ERA5_DATA\\era5_pressure_level_1993_10_850.nc (1.7M)\n",
      "2023-08-26 15:20:58,656 INFO Download rate 5M/s                                                                        \n",
      "2023-08-26 15:20:58,772 INFO Welcome to the CDS\n",
      "2023-08-26 15:20:58,772 INFO Sending request to https://cds.climate.copernicus.eu/api/v2/resources/reanalysis-era5-pressure-levels\n",
      "2023-08-26 15:20:58,875 INFO Request is queued\n"
     ]
    },
    {
     "name": "stdout",
     "output_type": "stream",
     "text": [
      "era5_pressure_level_1993_10_850.nc done!\n",
      "Download time: 50.086 s\n",
      "Folder 'F:\\JuPyterNotebook\\data\\raw_data\\ERA5_DATA\\GB_ERA5_DATA' created successfully.\n"
     ]
    },
    {
     "name": "stderr",
     "output_type": "stream",
     "text": [
      "2023-08-26 15:20:59,920 INFO Request is running\n",
      "2023-08-26 15:21:48,630 INFO Request is completed\n",
      "2023-08-26 15:21:48,630 INFO Downloading https://download-0015-clone.copernicus-climate.eu/cache-compute-0015/cache/data4/adaptor.mars.internal-1693059696.498685-30959-11-cc8d95d6-ccc4-4470-b903-652900f43998.nc to F:\\JuPyterNotebook\\data\\raw_data\\ERA5_DATA\\GB_ERA5_DATA\\era5_pressure_level_1993_11_850.nc (1.7M)\n",
      "2023-08-26 15:21:49,099 INFO Download rate 3.6M/s                                                                      \n",
      "2023-08-26 15:21:49,184 INFO Welcome to the CDS\n",
      "2023-08-26 15:21:49,188 INFO Sending request to https://cds.climate.copernicus.eu/api/v2/resources/reanalysis-era5-pressure-levels\n",
      "2023-08-26 15:21:49,274 INFO Request is queued\n"
     ]
    },
    {
     "name": "stdout",
     "output_type": "stream",
     "text": [
      "era5_pressure_level_1993_11_850.nc done!\n",
      "Download time: 50.445 s\n",
      "Folder 'F:\\JuPyterNotebook\\data\\raw_data\\ERA5_DATA\\GB_ERA5_DATA' created successfully.\n"
     ]
    },
    {
     "name": "stderr",
     "output_type": "stream",
     "text": [
      "2023-08-26 15:21:50,321 INFO Request is running\n",
      "2023-08-26 15:22:38,848 INFO Request is completed\n",
      "2023-08-26 15:22:38,848 INFO Downloading https://download-0020.copernicus-climate.eu/cache-compute-0020/cache/data1/adaptor.mars.internal-1693059749.033549-17637-16-20d9ca28-feb3-4458-a257-fcdfe9aee4c3.nc to F:\\JuPyterNotebook\\data\\raw_data\\ERA5_DATA\\GB_ERA5_DATA\\era5_pressure_level_1993_12_850.nc (1.7M)\n",
      "2023-08-26 15:22:39,345 INFO Download rate 3.5M/s                                                                      \n",
      "2023-08-26 15:22:39,438 INFO Welcome to the CDS\n",
      "2023-08-26 15:22:39,438 INFO Sending request to https://cds.climate.copernicus.eu/api/v2/resources/reanalysis-era5-pressure-levels\n",
      "2023-08-26 15:22:39,518 INFO Request is queued\n"
     ]
    },
    {
     "name": "stdout",
     "output_type": "stream",
     "text": [
      "era5_pressure_level_1993_12_850.nc done!\n",
      "Download time: 50.254 s\n",
      "Folder 'F:\\JuPyterNotebook\\data\\raw_data\\ERA5_DATA\\GB_ERA5_DATA' created successfully.\n"
     ]
    },
    {
     "name": "stderr",
     "output_type": "stream",
     "text": [
      "2023-08-26 15:22:40,556 INFO Request is running\n",
      "2023-08-26 15:23:29,101 INFO Request is completed\n",
      "2023-08-26 15:23:29,101 INFO Downloading https://download-0009-clone.copernicus-climate.eu/cache-compute-0009/cache/data2/adaptor.mars.internal-1693059801.4392705-4110-15-83568286-1fd0-494a-878c-92c72d23b722.nc to F:\\JuPyterNotebook\\data\\raw_data\\ERA5_DATA\\GB_ERA5_DATA\\era5_pressure_level_1994_01_850.nc (1.7M)\n",
      "2023-08-26 15:23:29,666 INFO Download rate 3.1M/s                                                                      \n",
      "2023-08-26 15:23:29,776 INFO Welcome to the CDS\n",
      "2023-08-26 15:23:29,776 INFO Sending request to https://cds.climate.copernicus.eu/api/v2/resources/reanalysis-era5-pressure-levels\n",
      "2023-08-26 15:23:29,921 INFO Request is queued\n"
     ]
    },
    {
     "name": "stdout",
     "output_type": "stream",
     "text": [
      "era5_pressure_level_1994_01_850.nc done!\n",
      "Download time: 50.353 s\n",
      "Folder 'F:\\JuPyterNotebook\\data\\raw_data\\ERA5_DATA\\GB_ERA5_DATA' created successfully.\n"
     ]
    },
    {
     "name": "stderr",
     "output_type": "stream",
     "text": [
      "2023-08-26 15:23:30,954 INFO Request is running\n",
      "2023-08-26 15:24:19,497 INFO Request is completed\n",
      "2023-08-26 15:24:19,513 INFO Downloading https://download-0010-clone.copernicus-climate.eu/cache-compute-0010/cache/data9/adaptor.mars.internal-1693059846.4578245-16455-13-59429ecf-29e7-4269-bec5-70175beb80f8.nc to F:\\JuPyterNotebook\\data\\raw_data\\ERA5_DATA\\GB_ERA5_DATA\\era5_pressure_level_1994_02_850.nc (1.6M)\n",
      "2023-08-26 15:24:20,003 INFO Download rate 3.2M/s                                                                      \n",
      "2023-08-26 15:24:20,087 INFO Welcome to the CDS\n",
      "2023-08-26 15:24:20,087 INFO Sending request to https://cds.climate.copernicus.eu/api/v2/resources/reanalysis-era5-pressure-levels\n",
      "2023-08-26 15:24:20,163 INFO Request is queued\n"
     ]
    },
    {
     "name": "stdout",
     "output_type": "stream",
     "text": [
      "era5_pressure_level_1994_02_850.nc done!\n",
      "Download time: 50.312 s\n",
      "Folder 'F:\\JuPyterNotebook\\data\\raw_data\\ERA5_DATA\\GB_ERA5_DATA' created successfully.\n"
     ]
    },
    {
     "name": "stderr",
     "output_type": "stream",
     "text": [
      "2023-08-26 15:24:21,210 INFO Request is running\n",
      "2023-08-26 15:25:09,748 INFO Request is completed\n",
      "2023-08-26 15:25:09,748 INFO Downloading https://download-0014-clone.copernicus-climate.eu/cache-compute-0014/cache/data1/adaptor.mars.internal-1693059898.3853016-14661-16-f18f09ca-48aa-423f-b67c-7622c34eeee6.nc to F:\\JuPyterNotebook\\data\\raw_data\\ERA5_DATA\\GB_ERA5_DATA\\era5_pressure_level_1994_03_850.nc (1.7M)\n",
      "2023-08-26 15:25:10,231 INFO Download rate 3.7M/s                                                                      \n",
      "2023-08-26 15:25:10,323 INFO Welcome to the CDS\n",
      "2023-08-26 15:25:10,323 INFO Sending request to https://cds.climate.copernicus.eu/api/v2/resources/reanalysis-era5-pressure-levels\n",
      "2023-08-26 15:25:10,363 INFO Request is queued\n"
     ]
    },
    {
     "name": "stdout",
     "output_type": "stream",
     "text": [
      "era5_pressure_level_1994_03_850.nc done!\n",
      "Download time: 50.219 s\n",
      "Folder 'F:\\JuPyterNotebook\\data\\raw_data\\ERA5_DATA\\GB_ERA5_DATA' created successfully.\n"
     ]
    },
    {
     "name": "stderr",
     "output_type": "stream",
     "text": [
      "2023-08-26 15:25:11,406 INFO Request is running\n",
      "2023-08-26 15:25:59,950 INFO Request is completed\n",
      "2023-08-26 15:25:59,950 INFO Downloading https://download-0003-clone.copernicus-climate.eu/cache-compute-0003/cache/data8/adaptor.mars.internal-1693059948.1540926-4877-5-400b22d6-a06a-42e6-8633-ad5d3d5f7dfc.nc to F:\\JuPyterNotebook\\data\\raw_data\\ERA5_DATA\\GB_ERA5_DATA\\era5_pressure_level_1994_04_850.nc (1.7M)\n",
      "2023-08-26 15:26:00,424 INFO Download rate 3.5M/s                                                                      \n",
      "2023-08-26 15:26:00,507 INFO Welcome to the CDS\n",
      "2023-08-26 15:26:00,507 INFO Sending request to https://cds.climate.copernicus.eu/api/v2/resources/reanalysis-era5-pressure-levels\n",
      "2023-08-26 15:26:00,596 INFO Request is queued\n"
     ]
    },
    {
     "name": "stdout",
     "output_type": "stream",
     "text": [
      "era5_pressure_level_1994_04_850.nc done!\n",
      "Download time: 50.196 s\n",
      "Folder 'F:\\JuPyterNotebook\\data\\raw_data\\ERA5_DATA\\GB_ERA5_DATA' created successfully.\n"
     ]
    },
    {
     "name": "stderr",
     "output_type": "stream",
     "text": [
      "2023-08-26 15:26:01,642 INFO Request is running\n",
      "2023-08-26 15:26:50,183 INFO Request is completed\n",
      "2023-08-26 15:26:50,183 INFO Downloading https://download-0005-clone.copernicus-climate.eu/cache-compute-0005/cache/data2/adaptor.mars.internal-1693059999.6421616-2744-8-9a663230-7dfc-4f0c-8698-0365b297b6f5.nc to F:\\JuPyterNotebook\\data\\raw_data\\ERA5_DATA\\GB_ERA5_DATA\\era5_pressure_level_1994_05_850.nc (1.7M)\n",
      "2023-08-26 15:26:50,687 INFO Download rate 3.6M/s                                                                      \n",
      "2023-08-26 15:26:50,783 INFO Welcome to the CDS\n",
      "2023-08-26 15:26:50,783 INFO Sending request to https://cds.climate.copernicus.eu/api/v2/resources/reanalysis-era5-pressure-levels\n",
      "2023-08-26 15:26:50,844 INFO Request is queued\n"
     ]
    },
    {
     "name": "stdout",
     "output_type": "stream",
     "text": [
      "era5_pressure_level_1994_05_850.nc done!\n",
      "Download time: 50.280 s\n",
      "Folder 'F:\\JuPyterNotebook\\data\\raw_data\\ERA5_DATA\\GB_ERA5_DATA' created successfully.\n"
     ]
    },
    {
     "name": "stderr",
     "output_type": "stream",
     "text": [
      "2023-08-26 15:26:51,892 INFO Request is running\n",
      "2023-08-26 15:27:40,448 INFO Request is completed\n",
      "2023-08-26 15:27:40,448 INFO Downloading https://download-0017.copernicus-climate.eu/cache-compute-0017/cache/data3/adaptor.mars.internal-1693060054.9936898-884-5-09716600-8698-4f51-9092-5f8cb8976b3c.nc to F:\\JuPyterNotebook\\data\\raw_data\\ERA5_DATA\\GB_ERA5_DATA\\era5_pressure_level_1994_06_850.nc (1.7M)\n",
      "2023-08-26 15:27:40,940 INFO Download rate 3.4M/s                                                                      \n",
      "2023-08-26 15:27:41,031 INFO Welcome to the CDS\n",
      "2023-08-26 15:27:41,031 INFO Sending request to https://cds.climate.copernicus.eu/api/v2/resources/reanalysis-era5-pressure-levels\n",
      "2023-08-26 15:27:41,148 INFO Request is queued\n"
     ]
    },
    {
     "name": "stdout",
     "output_type": "stream",
     "text": [
      "era5_pressure_level_1994_06_850.nc done!\n",
      "Download time: 50.230 s\n",
      "Folder 'F:\\JuPyterNotebook\\data\\raw_data\\ERA5_DATA\\GB_ERA5_DATA' created successfully.\n"
     ]
    },
    {
     "name": "stderr",
     "output_type": "stream",
     "text": [
      "2023-08-26 15:27:42,186 INFO Request is running\n",
      "2023-08-26 15:28:30,733 INFO Request is completed\n",
      "2023-08-26 15:28:30,733 INFO Downloading https://download-0006-clone.copernicus-climate.eu/cache-compute-0006/cache/data3/adaptor.mars.internal-1693060101.0148506-20322-15-b68c2f68-29f5-41da-9f51-365d32bf6566.nc to F:\\JuPyterNotebook\\data\\raw_data\\ERA5_DATA\\GB_ERA5_DATA\\era5_pressure_level_1994_07_850.nc (1.7M)\n",
      "2023-08-26 15:28:31,220 INFO Download rate 3.6M/s                                                                      \n",
      "2023-08-26 15:28:31,313 INFO Welcome to the CDS\n",
      "2023-08-26 15:28:31,313 INFO Sending request to https://cds.climate.copernicus.eu/api/v2/resources/reanalysis-era5-pressure-levels\n",
      "2023-08-26 15:28:31,370 INFO Request is queued\n"
     ]
    },
    {
     "name": "stdout",
     "output_type": "stream",
     "text": [
      "era5_pressure_level_1994_07_850.nc done!\n",
      "Download time: 50.281 s\n",
      "Folder 'F:\\JuPyterNotebook\\data\\raw_data\\ERA5_DATA\\GB_ERA5_DATA' created successfully.\n"
     ]
    },
    {
     "name": "stderr",
     "output_type": "stream",
     "text": [
      "2023-08-26 15:28:32,416 INFO Request is running\n",
      "2023-08-26 15:29:21,138 INFO Request is completed\n",
      "2023-08-26 15:29:21,138 INFO Downloading https://download-0014-clone.copernicus-climate.eu/cache-compute-0014/cache/data1/adaptor.mars.internal-1693060150.7123735-15549-16-1a125ba7-b8dc-47ec-84ef-85d970c0967c.nc to F:\\JuPyterNotebook\\data\\raw_data\\ERA5_DATA\\GB_ERA5_DATA\\era5_pressure_level_1994_08_850.nc (1.7M)\n",
      "2023-08-26 15:29:21,649 INFO Download rate 3.4M/s                                                                      \n",
      "2023-08-26 15:29:21,733 INFO Welcome to the CDS\n",
      "2023-08-26 15:29:21,733 INFO Sending request to https://cds.climate.copernicus.eu/api/v2/resources/reanalysis-era5-pressure-levels\n",
      "2023-08-26 15:29:21,789 INFO Request is queued\n"
     ]
    },
    {
     "name": "stdout",
     "output_type": "stream",
     "text": [
      "era5_pressure_level_1994_08_850.nc done!\n",
      "Download time: 50.420 s\n",
      "Folder 'F:\\JuPyterNotebook\\data\\raw_data\\ERA5_DATA\\GB_ERA5_DATA' created successfully.\n"
     ]
    },
    {
     "name": "stderr",
     "output_type": "stream",
     "text": [
      "2023-08-26 15:29:22,895 INFO Request is running\n",
      "2023-08-26 15:30:11,517 INFO Request is completed\n",
      "2023-08-26 15:30:11,533 INFO Downloading https://download-0021.copernicus-climate.eu/cache-compute-0021/cache/data5/adaptor.mars.internal-1693060200.0541146-18609-17-0b26516a-35af-4786-ab27-295518a0cc6c.nc to F:\\JuPyterNotebook\\data\\raw_data\\ERA5_DATA\\GB_ERA5_DATA\\era5_pressure_level_1994_09_850.nc (1.7M)\n",
      "2023-08-26 15:30:12,058 INFO Download rate 3.2M/s                                                                      \n",
      "2023-08-26 15:30:12,134 INFO Welcome to the CDS\n",
      "2023-08-26 15:30:12,134 INFO Sending request to https://cds.climate.copernicus.eu/api/v2/resources/reanalysis-era5-pressure-levels\n",
      "2023-08-26 15:30:12,232 INFO Request is queued\n"
     ]
    },
    {
     "name": "stdout",
     "output_type": "stream",
     "text": [
      "era5_pressure_level_1994_09_850.nc done!\n",
      "Download time: 50.418 s\n",
      "Folder 'F:\\JuPyterNotebook\\data\\raw_data\\ERA5_DATA\\GB_ERA5_DATA' created successfully.\n"
     ]
    },
    {
     "name": "stderr",
     "output_type": "stream",
     "text": [
      "2023-08-26 15:30:13,281 INFO Request is running\n",
      "2023-08-26 15:31:01,817 INFO Request is completed\n",
      "2023-08-26 15:31:01,817 INFO Downloading https://download-0014-clone.copernicus-climate.eu/cache-compute-0014/cache/data4/adaptor.mars.internal-1693060251.0747797-14972-11-f2a7c923-f8eb-422e-9b39-d52621df5e53.nc to F:\\JuPyterNotebook\\data\\raw_data\\ERA5_DATA\\GB_ERA5_DATA\\era5_pressure_level_1994_10_850.nc (1.7M)\n",
      "2023-08-26 15:31:02,294 INFO Download rate 3.8M/s                                                                      \n",
      "2023-08-26 15:31:02,385 INFO Welcome to the CDS\n",
      "2023-08-26 15:31:02,385 INFO Sending request to https://cds.climate.copernicus.eu/api/v2/resources/reanalysis-era5-pressure-levels\n"
     ]
    },
    {
     "name": "stdout",
     "output_type": "stream",
     "text": [
      "era5_pressure_level_1994_10_850.nc done!\n",
      "Download time: 50.234 s\n",
      "Folder 'F:\\JuPyterNotebook\\data\\raw_data\\ERA5_DATA\\GB_ERA5_DATA' created successfully.\n"
     ]
    },
    {
     "name": "stderr",
     "output_type": "stream",
     "text": [
      "2023-08-26 15:31:02,613 INFO Request is queued\n",
      "2023-08-26 15:31:03,661 INFO Request is running\n",
      "2023-08-26 15:31:52,249 INFO Request is completed\n",
      "2023-08-26 15:31:52,249 INFO Downloading https://download-0011-clone.copernicus-climate.eu/cache-compute-0011/cache/data4/adaptor.mars.internal-1693060301.8244367-19172-4-43902397-24f0-4d96-a950-1eaec6e6ed96.nc to F:\\JuPyterNotebook\\data\\raw_data\\ERA5_DATA\\GB_ERA5_DATA\\era5_pressure_level_1994_11_850.nc (1.7M)\n",
      "2023-08-26 15:31:52,782 INFO Download rate 3.2M/s                                                                      \n",
      "2023-08-26 15:31:52,863 INFO Welcome to the CDS\n",
      "2023-08-26 15:31:52,863 INFO Sending request to https://cds.climate.copernicus.eu/api/v2/resources/reanalysis-era5-pressure-levels\n",
      "2023-08-26 15:31:52,952 INFO Request is queued\n"
     ]
    },
    {
     "name": "stdout",
     "output_type": "stream",
     "text": [
      "era5_pressure_level_1994_11_850.nc done!\n",
      "Download time: 50.477 s\n",
      "Folder 'F:\\JuPyterNotebook\\data\\raw_data\\ERA5_DATA\\GB_ERA5_DATA' created successfully.\n"
     ]
    },
    {
     "name": "stderr",
     "output_type": "stream",
     "text": [
      "2023-08-26 15:31:53,999 INFO Request is running\n",
      "2023-08-26 15:32:42,540 INFO Request is completed\n",
      "2023-08-26 15:32:42,540 INFO Downloading https://download-0014-clone.copernicus-climate.eu/cache-compute-0014/cache/data4/adaptor.mars.internal-1693060351.9530375-19729-3-3b2deb00-0cae-4623-a1ca-c5d30293b80e.nc to F:\\JuPyterNotebook\\data\\raw_data\\ERA5_DATA\\GB_ERA5_DATA\\era5_pressure_level_1994_12_850.nc (1.7M)\n",
      "2023-08-26 15:32:43,035 INFO Download rate 3.5M/s                                                                      \n",
      "2023-08-26 15:32:43,125 INFO Welcome to the CDS\n",
      "2023-08-26 15:32:43,128 INFO Sending request to https://cds.climate.copernicus.eu/api/v2/resources/reanalysis-era5-pressure-levels\n",
      "2023-08-26 15:32:43,224 INFO Request is queued\n"
     ]
    },
    {
     "name": "stdout",
     "output_type": "stream",
     "text": [
      "era5_pressure_level_1994_12_850.nc done!\n",
      "Download time: 50.260 s\n",
      "Folder 'F:\\JuPyterNotebook\\data\\raw_data\\ERA5_DATA\\GB_ERA5_DATA' created successfully.\n"
     ]
    },
    {
     "name": "stderr",
     "output_type": "stream",
     "text": [
      "2023-08-26 15:32:44,273 INFO Request is running\n",
      "2023-08-26 15:33:32,817 INFO Request is completed\n",
      "2023-08-26 15:33:32,817 INFO Downloading https://download-0013-clone.copernicus-climate.eu/cache-compute-0013/cache/data0/adaptor.mars.internal-1693060404.0022502-31495-10-3164a7a0-0df7-4054-beae-a18cbf7c32fb.nc to F:\\JuPyterNotebook\\data\\raw_data\\ERA5_DATA\\GB_ERA5_DATA\\era5_pressure_level_1995_01_850.nc (1.7M)\n",
      "2023-08-26 15:33:33,385 INFO Download rate 3.1M/s                                                                      \n",
      "2023-08-26 15:33:33,464 INFO Welcome to the CDS\n",
      "2023-08-26 15:33:33,464 INFO Sending request to https://cds.climate.copernicus.eu/api/v2/resources/reanalysis-era5-pressure-levels\n",
      "2023-08-26 15:33:33,572 INFO Request is queued\n"
     ]
    },
    {
     "name": "stdout",
     "output_type": "stream",
     "text": [
      "era5_pressure_level_1995_01_850.nc done!\n",
      "Download time: 50.359 s\n",
      "Folder 'F:\\JuPyterNotebook\\data\\raw_data\\ERA5_DATA\\GB_ERA5_DATA' created successfully.\n"
     ]
    },
    {
     "name": "stderr",
     "output_type": "stream",
     "text": [
      "2023-08-26 15:33:34,616 INFO Request is running\n",
      "2023-08-26 15:34:23,159 INFO Request is completed\n",
      "2023-08-26 15:34:23,159 INFO Downloading https://download-0010-clone.copernicus-climate.eu/cache-compute-0010/cache/data0/adaptor.mars.internal-1693060449.1832795-22144-3-43930d68-6b8f-428b-b626-896b4de62697.nc to F:\\JuPyterNotebook\\data\\raw_data\\ERA5_DATA\\GB_ERA5_DATA\\era5_pressure_level_1995_02_850.nc (1.6M)\n",
      "2023-08-26 15:34:23,632 INFO Download rate 3.4M/s                                                                      \n",
      "2023-08-26 15:34:23,747 INFO Welcome to the CDS\n",
      "2023-08-26 15:34:23,762 INFO Sending request to https://cds.climate.copernicus.eu/api/v2/resources/reanalysis-era5-pressure-levels\n",
      "2023-08-26 15:34:23,831 INFO Request is queued\n"
     ]
    },
    {
     "name": "stdout",
     "output_type": "stream",
     "text": [
      "era5_pressure_level_1995_02_850.nc done!\n",
      "Download time: 50.251 s\n",
      "Folder 'F:\\JuPyterNotebook\\data\\raw_data\\ERA5_DATA\\GB_ERA5_DATA' created successfully.\n"
     ]
    },
    {
     "name": "stderr",
     "output_type": "stream",
     "text": [
      "2023-08-26 15:34:24,890 INFO Request is running\n",
      "2023-08-26 15:35:13,398 INFO Request is completed\n",
      "2023-08-26 15:35:13,414 INFO Downloading https://download-0021.copernicus-climate.eu/cache-compute-0021/cache/data7/adaptor.mars.internal-1693060504.85655-25529-1-39f93eed-04d0-48ed-8ec9-8417d6319b34.nc to F:\\JuPyterNotebook\\data\\raw_data\\ERA5_DATA\\GB_ERA5_DATA\\era5_pressure_level_1995_03_850.nc (1.7M)\n",
      "2023-08-26 15:35:13,909 INFO Download rate 3.5M/s                                                                      \n",
      "2023-08-26 15:35:13,980 INFO Welcome to the CDS\n",
      "2023-08-26 15:35:13,980 INFO Sending request to https://cds.climate.copernicus.eu/api/v2/resources/reanalysis-era5-pressure-levels\n",
      "2023-08-26 15:35:14,063 INFO Request is queued\n"
     ]
    },
    {
     "name": "stdout",
     "output_type": "stream",
     "text": [
      "era5_pressure_level_1995_03_850.nc done!\n",
      "Download time: 50.261 s\n",
      "Folder 'F:\\JuPyterNotebook\\data\\raw_data\\ERA5_DATA\\GB_ERA5_DATA' created successfully.\n"
     ]
    },
    {
     "name": "stderr",
     "output_type": "stream",
     "text": [
      "2023-08-26 15:35:15,107 INFO Request is running\n",
      "2023-08-26 15:36:03,662 INFO Request is completed\n",
      "2023-08-26 15:36:03,662 INFO Downloading https://download-0015-clone.copernicus-climate.eu/cache-compute-0015/cache/data5/adaptor.mars.internal-1693060551.5411098-32476-17-1e28f2d1-9218-4245-bdf5-670c6c031f98.nc to F:\\JuPyterNotebook\\data\\raw_data\\ERA5_DATA\\GB_ERA5_DATA\\era5_pressure_level_1995_04_850.nc (1.7M)\n",
      "2023-08-26 15:36:04,157 INFO Download rate 3.5M/s                                                                      \n",
      "2023-08-26 15:36:04,239 INFO Welcome to the CDS\n",
      "2023-08-26 15:36:04,239 INFO Sending request to https://cds.climate.copernicus.eu/api/v2/resources/reanalysis-era5-pressure-levels\n",
      "2023-08-26 15:36:04,313 INFO Request is queued\n"
     ]
    },
    {
     "name": "stdout",
     "output_type": "stream",
     "text": [
      "era5_pressure_level_1995_04_850.nc done!\n",
      "Download time: 50.248 s\n",
      "Folder 'F:\\JuPyterNotebook\\data\\raw_data\\ERA5_DATA\\GB_ERA5_DATA' created successfully.\n"
     ]
    },
    {
     "name": "stderr",
     "output_type": "stream",
     "text": [
      "2023-08-26 15:36:05,345 INFO Request is running\n",
      "2023-08-26 15:36:17,712 INFO Request is completed\n",
      "2023-08-26 15:36:17,712 INFO Downloading https://download-0010-clone.copernicus-climate.eu/cache-compute-0010/cache/data1/adaptor.mars.internal-1693060575.7917066-24861-1-ba6e413e-e9ab-48ce-aab2-5e3c841b30e3.nc to F:\\JuPyterNotebook\\data\\raw_data\\ERA5_DATA\\GB_ERA5_DATA\\era5_pressure_level_1995_05_850.nc (1.7M)\n",
      "2023-08-26 15:36:18,197 INFO Download rate 3.7M/s                                                                      \n",
      "2023-08-26 15:36:18,406 INFO Welcome to the CDS\n",
      "2023-08-26 15:36:18,406 INFO Sending request to https://cds.climate.copernicus.eu/api/v2/resources/reanalysis-era5-pressure-levels\n",
      "2023-08-26 15:36:18,457 INFO Request is queued\n"
     ]
    },
    {
     "name": "stdout",
     "output_type": "stream",
     "text": [
      "era5_pressure_level_1995_05_850.nc done!\n",
      "Download time: 14.166 s\n",
      "Folder 'F:\\JuPyterNotebook\\data\\raw_data\\ERA5_DATA\\GB_ERA5_DATA' created successfully.\n"
     ]
    },
    {
     "name": "stderr",
     "output_type": "stream",
     "text": [
      "2023-08-26 15:36:19,493 INFO Request is running\n",
      "2023-08-26 15:37:08,042 INFO Request is completed\n",
      "2023-08-26 15:37:08,042 INFO Downloading https://download-0021.copernicus-climate.eu/cache-compute-0021/cache/data2/adaptor.mars.internal-1693060616.6713243-21438-13-bbb4d9d4-9c38-419f-8dac-40e98fe023ca.nc to F:\\JuPyterNotebook\\data\\raw_data\\ERA5_DATA\\GB_ERA5_DATA\\era5_pressure_level_1995_06_850.nc (1.7M)\n",
      "2023-08-26 15:37:08,541 INFO Download rate 3.4M/s                                                                      \n",
      "2023-08-26 15:37:08,605 INFO Welcome to the CDS\n",
      "2023-08-26 15:37:08,605 INFO Sending request to https://cds.climate.copernicus.eu/api/v2/resources/reanalysis-era5-pressure-levels\n",
      "2023-08-26 15:37:08,653 INFO Request is queued\n"
     ]
    },
    {
     "name": "stdout",
     "output_type": "stream",
     "text": [
      "era5_pressure_level_1995_06_850.nc done!\n",
      "Download time: 50.200 s\n",
      "Folder 'F:\\JuPyterNotebook\\data\\raw_data\\ERA5_DATA\\GB_ERA5_DATA' created successfully.\n"
     ]
    },
    {
     "name": "stderr",
     "output_type": "stream",
     "text": [
      "2023-08-26 15:37:09,696 INFO Request is running\n",
      "2023-08-26 15:37:58,233 INFO Request is completed\n",
      "2023-08-26 15:37:58,233 INFO Downloading https://download-0004-clone.copernicus-climate.eu/cache-compute-0004/cache/data9/adaptor.mars.internal-1693060670.8387415-9263-16-b95a8f94-3eb7-4ef1-9811-c8dbf261f339.nc to F:\\JuPyterNotebook\\data\\raw_data\\ERA5_DATA\\GB_ERA5_DATA\\era5_pressure_level_1995_07_850.nc (1.7M)\n",
      "2023-08-26 15:37:58,783 INFO Download rate 3.2M/s                                                                      \n",
      "2023-08-26 15:37:58,931 INFO Welcome to the CDS\n",
      "2023-08-26 15:37:58,931 INFO Sending request to https://cds.climate.copernicus.eu/api/v2/resources/reanalysis-era5-pressure-levels\n",
      "2023-08-26 15:37:58,978 INFO Request is queued\n"
     ]
    },
    {
     "name": "stdout",
     "output_type": "stream",
     "text": [
      "era5_pressure_level_1995_07_850.nc done!\n",
      "Download time: 50.245 s\n",
      "Folder 'F:\\JuPyterNotebook\\data\\raw_data\\ERA5_DATA\\GB_ERA5_DATA' created successfully.\n"
     ]
    },
    {
     "name": "stderr",
     "output_type": "stream",
     "text": [
      "2023-08-26 15:38:00,009 INFO Request is running\n",
      "2023-08-26 15:38:48,555 INFO Request is completed\n",
      "2023-08-26 15:38:48,555 INFO Downloading https://download-0012-clone.copernicus-climate.eu/cache-compute-0012/cache/data2/adaptor.mars.internal-1693060719.1917753-25383-6-33ba1387-4633-4a32-8637-64e12764925d.nc to F:\\JuPyterNotebook\\data\\raw_data\\ERA5_DATA\\GB_ERA5_DATA\\era5_pressure_level_1995_08_850.nc (1.7M)\n",
      "2023-08-26 15:38:49,286 INFO Download rate 2.4M/s                                                                      \n",
      "2023-08-26 15:38:49,358 INFO Welcome to the CDS\n",
      "2023-08-26 15:38:49,358 INFO Sending request to https://cds.climate.copernicus.eu/api/v2/resources/reanalysis-era5-pressure-levels\n",
      "2023-08-26 15:38:49,434 INFO Request is queued\n"
     ]
    },
    {
     "name": "stdout",
     "output_type": "stream",
     "text": [
      "era5_pressure_level_1995_08_850.nc done!\n",
      "Download time: 50.507 s\n",
      "Folder 'F:\\JuPyterNotebook\\data\\raw_data\\ERA5_DATA\\GB_ERA5_DATA' created successfully.\n"
     ]
    },
    {
     "name": "stderr",
     "output_type": "stream",
     "text": [
      "2023-08-26 15:38:50,480 INFO Request is running\n",
      "2023-08-26 15:39:39,042 INFO Request is completed\n",
      "2023-08-26 15:39:39,042 INFO Downloading https://download-0002-clone.copernicus-climate.eu/cache-compute-0002/cache/data6/adaptor.mars.internal-1693060766.183513-12135-9-e8c9e73c-13ab-410e-a963-303536885d30.nc to F:\\JuPyterNotebook\\data\\raw_data\\ERA5_DATA\\GB_ERA5_DATA\\era5_pressure_level_1995_09_850.nc (1.7M)\n",
      "2023-08-26 15:39:41,201 INFO Download rate 797.3K/s                                                                    \n",
      "2023-08-26 15:39:41,276 INFO Welcome to the CDS\n",
      "2023-08-26 15:39:41,276 INFO Sending request to https://cds.climate.copernicus.eu/api/v2/resources/reanalysis-era5-pressure-levels\n",
      "2023-08-26 15:39:41,373 INFO Request is queued\n"
     ]
    },
    {
     "name": "stdout",
     "output_type": "stream",
     "text": [
      "era5_pressure_level_1995_09_850.nc done!\n",
      "Download time: 51.916 s\n",
      "Folder 'F:\\JuPyterNotebook\\data\\raw_data\\ERA5_DATA\\GB_ERA5_DATA' created successfully.\n"
     ]
    },
    {
     "name": "stderr",
     "output_type": "stream",
     "text": [
      "2023-08-26 15:39:42,420 INFO Request is running\n",
      "2023-08-26 15:40:30,981 INFO Request is completed\n",
      "2023-08-26 15:40:30,981 INFO Downloading https://download-0000-clone.copernicus-climate.eu/cache-compute-0000/cache/data7/adaptor.mars.internal-1693060820.2921546-16396-14-5db04632-a8bd-4472-a35a-5d8f4d68e500.nc to F:\\JuPyterNotebook\\data\\raw_data\\ERA5_DATA\\GB_ERA5_DATA\\era5_pressure_level_1995_10_850.nc (1.7M)\n",
      "2023-08-26 15:40:31,460 INFO Download rate 3.6M/s                                                                      \n",
      "2023-08-26 15:40:31,530 INFO Welcome to the CDS\n",
      "2023-08-26 15:40:31,530 INFO Sending request to https://cds.climate.copernicus.eu/api/v2/resources/reanalysis-era5-pressure-levels\n",
      "2023-08-26 15:40:31,593 INFO Request is queued\n"
     ]
    },
    {
     "name": "stdout",
     "output_type": "stream",
     "text": [
      "era5_pressure_level_1995_10_850.nc done!\n",
      "Download time: 50.257 s\n",
      "Folder 'F:\\JuPyterNotebook\\data\\raw_data\\ERA5_DATA\\GB_ERA5_DATA' created successfully.\n"
     ]
    },
    {
     "name": "stderr",
     "output_type": "stream",
     "text": [
      "2023-08-26 15:40:32,629 INFO Request is running\n",
      "2023-08-26 15:41:21,164 INFO Request is completed\n",
      "2023-08-26 15:41:21,164 INFO Downloading https://download-0000-clone.copernicus-climate.eu/cache-compute-0000/cache/data8/adaptor.mars.internal-1693060867.4966407-20870-10-d7284a70-d2a4-4d1b-9502-dd8ba969d65f.nc to F:\\JuPyterNotebook\\data\\raw_data\\ERA5_DATA\\GB_ERA5_DATA\\era5_pressure_level_1995_11_850.nc (1.7M)\n",
      "2023-08-26 15:41:21,509 INFO Download rate 4.9M/s                                                                      \n",
      "2023-08-26 15:41:21,602 INFO Welcome to the CDS\n",
      "2023-08-26 15:41:21,602 INFO Sending request to https://cds.climate.copernicus.eu/api/v2/resources/reanalysis-era5-pressure-levels\n",
      "2023-08-26 15:41:21,668 INFO Request is queued\n"
     ]
    },
    {
     "name": "stdout",
     "output_type": "stream",
     "text": [
      "era5_pressure_level_1995_11_850.nc done!\n",
      "Download time: 50.069 s\n",
      "Folder 'F:\\JuPyterNotebook\\data\\raw_data\\ERA5_DATA\\GB_ERA5_DATA' created successfully.\n"
     ]
    },
    {
     "name": "stderr",
     "output_type": "stream",
     "text": [
      "2023-08-26 15:41:22,703 INFO Request is running\n",
      "2023-08-26 15:42:11,238 INFO Request is completed\n",
      "2023-08-26 15:42:11,238 INFO Downloading https://download-0004-clone.copernicus-climate.eu/cache-compute-0004/cache/data4/adaptor.mars.internal-1693060923.0132473-13628-12-53885717-ce04-4ad5-8dbc-c07722f7bbc9.nc to F:\\JuPyterNotebook\\data\\raw_data\\ERA5_DATA\\GB_ERA5_DATA\\era5_pressure_level_1995_12_850.nc (1.7M)\n",
      "2023-08-26 15:42:11,719 INFO Download rate 3.6M/s                                                                      \n",
      "2023-08-26 15:42:11,805 INFO Welcome to the CDS\n",
      "2023-08-26 15:42:11,805 INFO Sending request to https://cds.climate.copernicus.eu/api/v2/resources/reanalysis-era5-pressure-levels\n",
      "2023-08-26 15:42:11,911 INFO Request is queued\n"
     ]
    },
    {
     "name": "stdout",
     "output_type": "stream",
     "text": [
      "era5_pressure_level_1995_12_850.nc done!\n",
      "Download time: 50.190 s\n",
      "Folder 'F:\\JuPyterNotebook\\data\\raw_data\\ERA5_DATA\\GB_ERA5_DATA' created successfully.\n"
     ]
    },
    {
     "name": "stderr",
     "output_type": "stream",
     "text": [
      "2023-08-26 15:42:12,962 INFO Request is running\n",
      "2023-08-26 15:43:01,508 INFO Request is completed\n",
      "2023-08-26 15:43:01,508 INFO Downloading https://download-0006-clone.copernicus-climate.eu/cache-compute-0006/cache/data0/adaptor.mars.internal-1693060971.5894456-1341-6-992ca25c-052d-48ec-90ec-43574c1ab62a.nc to F:\\JuPyterNotebook\\data\\raw_data\\ERA5_DATA\\GB_ERA5_DATA\\era5_pressure_level_1996_01_850.nc (1.7M)\n",
      "2023-08-26 15:43:01,984 INFO Download rate 3.7M/s                                                                      \n",
      "2023-08-26 15:43:02,048 INFO Welcome to the CDS\n",
      "2023-08-26 15:43:02,064 INFO Sending request to https://cds.climate.copernicus.eu/api/v2/resources/reanalysis-era5-pressure-levels\n",
      "2023-08-26 15:43:02,148 INFO Request is queued\n"
     ]
    },
    {
     "name": "stdout",
     "output_type": "stream",
     "text": [
      "era5_pressure_level_1996_01_850.nc done!\n",
      "Download time: 50.243 s\n",
      "Folder 'F:\\JuPyterNotebook\\data\\raw_data\\ERA5_DATA\\GB_ERA5_DATA' created successfully.\n"
     ]
    },
    {
     "name": "stderr",
     "output_type": "stream",
     "text": [
      "2023-08-26 15:43:03,200 INFO Request is running\n",
      "2023-08-26 15:43:51,741 INFO Request is completed\n",
      "2023-08-26 15:43:51,741 INFO Downloading https://download-0018.copernicus-climate.eu/cache-compute-0018/cache/data8/adaptor.mars.internal-1693061019.1272109-21290-3-73931117-f1eb-461a-9c57-314f8885eca9.nc to F:\\JuPyterNotebook\\data\\raw_data\\ERA5_DATA\\GB_ERA5_DATA\\era5_pressure_level_1996_02_850.nc (1.6M)\n",
      "2023-08-26 15:43:52,219 INFO Download rate 3.4M/s                                                                      \n",
      "2023-08-26 15:43:52,434 INFO Welcome to the CDS\n",
      "2023-08-26 15:43:52,447 INFO Sending request to https://cds.climate.copernicus.eu/api/v2/resources/reanalysis-era5-pressure-levels\n"
     ]
    },
    {
     "name": "stdout",
     "output_type": "stream",
     "text": [
      "era5_pressure_level_1996_02_850.nc done!\n",
      "Download time: 50.245 s\n",
      "Folder 'F:\\JuPyterNotebook\\data\\raw_data\\ERA5_DATA\\GB_ERA5_DATA' created successfully.\n"
     ]
    },
    {
     "name": "stderr",
     "output_type": "stream",
     "text": [
      "2023-08-26 15:43:52,537 INFO Request is queued\n",
      "2023-08-26 15:43:53,592 INFO Request is running\n",
      "2023-08-26 15:44:42,163 INFO Request is completed\n",
      "2023-08-26 15:44:42,163 INFO Downloading https://download-0017.copernicus-climate.eu/cache-compute-0017/cache/data9/adaptor.mars.internal-1693061072.3532302-8895-8-38b8a810-b48e-442c-902b-e8a4a63583cf.nc to F:\\JuPyterNotebook\\data\\raw_data\\ERA5_DATA\\GB_ERA5_DATA\\era5_pressure_level_1996_03_850.nc (1.7M)\n",
      "2023-08-26 15:44:42,624 INFO Download rate 3.9M/s                                                                      \n",
      "2023-08-26 15:44:42,712 INFO Welcome to the CDS\n",
      "2023-08-26 15:44:42,712 INFO Sending request to https://cds.climate.copernicus.eu/api/v2/resources/reanalysis-era5-pressure-levels\n",
      "2023-08-26 15:44:42,769 INFO Request is queued\n"
     ]
    },
    {
     "name": "stdout",
     "output_type": "stream",
     "text": [
      "era5_pressure_level_1996_03_850.nc done!\n",
      "Download time: 50.403 s\n",
      "Folder 'F:\\JuPyterNotebook\\data\\raw_data\\ERA5_DATA\\GB_ERA5_DATA' created successfully.\n"
     ]
    },
    {
     "name": "stderr",
     "output_type": "stream",
     "text": [
      "2023-08-26 15:44:43,808 INFO Request is running\n",
      "2023-08-26 15:45:32,379 INFO Request is completed\n",
      "2023-08-26 15:45:32,381 INFO Downloading https://download-0016.copernicus-climate.eu/cache-compute-0016/cache/data3/adaptor.mars.internal-1693061119.2644207-2722-10-5969e674-b8f9-4d55-9ad4-efc4e1705ccf.nc to F:\\JuPyterNotebook\\data\\raw_data\\ERA5_DATA\\GB_ERA5_DATA\\era5_pressure_level_1996_04_850.nc (1.7M)\n",
      "2023-08-26 15:45:32,920 INFO Download rate 3.1M/s                                                                      \n",
      "2023-08-26 15:45:33,001 INFO Welcome to the CDS\n",
      "2023-08-26 15:45:33,001 INFO Sending request to https://cds.climate.copernicus.eu/api/v2/resources/reanalysis-era5-pressure-levels\n",
      "2023-08-26 15:45:33,103 INFO Request is queued\n"
     ]
    },
    {
     "name": "stdout",
     "output_type": "stream",
     "text": [
      "era5_pressure_level_1996_04_850.nc done!\n",
      "Download time: 50.290 s\n",
      "Folder 'F:\\JuPyterNotebook\\data\\raw_data\\ERA5_DATA\\GB_ERA5_DATA' created successfully.\n"
     ]
    },
    {
     "name": "stderr",
     "output_type": "stream",
     "text": [
      "2023-08-26 15:45:34,142 INFO Request is running\n",
      "2023-08-26 15:46:22,742 INFO Request is completed\n",
      "2023-08-26 15:46:22,742 INFO Downloading https://download-0000-clone.copernicus-climate.eu/cache-compute-0000/cache/data5/adaptor.mars.internal-1693061171.181351-29816-7-fec9c1ca-9654-4c00-98d2-c1af3487426e.nc to F:\\JuPyterNotebook\\data\\raw_data\\ERA5_DATA\\GB_ERA5_DATA\\era5_pressure_level_1996_05_850.nc (1.7M)\n",
      "2023-08-26 15:46:23,226 INFO Download rate 3.6M/s                                                                      \n",
      "2023-08-26 15:46:23,315 INFO Welcome to the CDS\n",
      "2023-08-26 15:46:23,331 INFO Sending request to https://cds.climate.copernicus.eu/api/v2/resources/reanalysis-era5-pressure-levels\n",
      "2023-08-26 15:46:23,383 INFO Request is queued\n"
     ]
    },
    {
     "name": "stdout",
     "output_type": "stream",
     "text": [
      "era5_pressure_level_1996_05_850.nc done!\n",
      "Download time: 50.329 s\n",
      "Folder 'F:\\JuPyterNotebook\\data\\raw_data\\ERA5_DATA\\GB_ERA5_DATA' created successfully.\n"
     ]
    },
    {
     "name": "stderr",
     "output_type": "stream",
     "text": [
      "2023-08-26 15:46:24,438 INFO Request is running\n",
      "2023-08-26 15:47:13,041 INFO Request is completed\n",
      "2023-08-26 15:47:13,041 INFO Downloading https://download-0009-clone.copernicus-climate.eu/cache-compute-0009/cache/data5/adaptor.mars.internal-1693061219.9226785-13688-16-6b128d15-c9ef-41b8-8da2-43adba9e90cf.nc to F:\\JuPyterNotebook\\data\\raw_data\\ERA5_DATA\\GB_ERA5_DATA\\era5_pressure_level_1996_06_850.nc (1.7M)\n",
      "2023-08-26 15:47:13,558 INFO Download rate 3.2M/s                                                                      \n",
      "2023-08-26 15:47:13,642 INFO Welcome to the CDS\n",
      "2023-08-26 15:47:13,642 INFO Sending request to https://cds.climate.copernicus.eu/api/v2/resources/reanalysis-era5-pressure-levels\n",
      "2023-08-26 15:47:13,689 INFO Request is queued\n"
     ]
    },
    {
     "name": "stdout",
     "output_type": "stream",
     "text": [
      "era5_pressure_level_1996_06_850.nc done!\n",
      "Download time: 50.317 s\n",
      "Folder 'F:\\JuPyterNotebook\\data\\raw_data\\ERA5_DATA\\GB_ERA5_DATA' created successfully.\n"
     ]
    },
    {
     "name": "stderr",
     "output_type": "stream",
     "text": [
      "2023-08-26 15:47:14,741 INFO Request is running\n",
      "2023-08-26 15:48:03,297 INFO Request is completed\n",
      "2023-08-26 15:48:03,297 INFO Downloading https://download-0004-clone.copernicus-climate.eu/cache-compute-0004/cache/data9/adaptor.mars.internal-1693061271.9838498-22983-4-66340794-76fb-4198-872d-ec8c8aaaddab.nc to F:\\JuPyterNotebook\\data\\raw_data\\ERA5_DATA\\GB_ERA5_DATA\\era5_pressure_level_1996_07_850.nc (1.7M)\n",
      "2023-08-26 15:48:03,883 INFO Download rate 3M/s                                                                        \n",
      "2023-08-26 15:48:03,971 INFO Welcome to the CDS\n",
      "2023-08-26 15:48:03,971 INFO Sending request to https://cds.climate.copernicus.eu/api/v2/resources/reanalysis-era5-pressure-levels\n"
     ]
    },
    {
     "name": "stdout",
     "output_type": "stream",
     "text": [
      "era5_pressure_level_1996_07_850.nc done!\n",
      "Download time: 50.339 s\n",
      "Folder 'F:\\JuPyterNotebook\\data\\raw_data\\ERA5_DATA\\GB_ERA5_DATA' created successfully.\n"
     ]
    },
    {
     "name": "stderr",
     "output_type": "stream",
     "text": [
      "2023-08-26 15:48:04,258 INFO Request is queued\n",
      "2023-08-26 15:48:05,320 INFO Request is running\n",
      "2023-08-26 15:48:53,906 INFO Request is completed\n",
      "2023-08-26 15:48:53,906 INFO Downloading https://download-0015-clone.copernicus-climate.eu/cache-compute-0015/cache/data2/adaptor.mars.internal-1693061329.0352747-15164-5-c4572227-a76f-416e-a288-11697fd7b0bf.nc to F:\\JuPyterNotebook\\data\\raw_data\\ERA5_DATA\\GB_ERA5_DATA\\era5_pressure_level_1996_08_850.nc (1.7M)\n",
      "2023-08-26 15:48:54,409 INFO Download rate 3.5M/s                                                                      \n",
      "2023-08-26 15:48:54,491 INFO Welcome to the CDS\n",
      "2023-08-26 15:48:54,491 INFO Sending request to https://cds.climate.copernicus.eu/api/v2/resources/reanalysis-era5-pressure-levels\n",
      "2023-08-26 15:48:54,547 INFO Request is queued\n"
     ]
    },
    {
     "name": "stdout",
     "output_type": "stream",
     "text": [
      "era5_pressure_level_1996_08_850.nc done!\n",
      "Download time: 50.505 s\n",
      "Folder 'F:\\JuPyterNotebook\\data\\raw_data\\ERA5_DATA\\GB_ERA5_DATA' created successfully.\n"
     ]
    },
    {
     "name": "stderr",
     "output_type": "stream",
     "text": [
      "2023-08-26 15:48:55,596 INFO Request is running\n",
      "2023-08-26 15:49:44,189 INFO Request is completed\n",
      "2023-08-26 15:49:44,189 INFO Downloading https://download-0018.copernicus-climate.eu/cache-compute-0018/cache/data3/adaptor.mars.internal-1693061374.5773451-13031-15-b64e92e0-009e-4b05-9d93-ff7ccab291fa.nc to F:\\JuPyterNotebook\\data\\raw_data\\ERA5_DATA\\GB_ERA5_DATA\\era5_pressure_level_1996_09_850.nc (1.7M)\n",
      "2023-08-26 15:49:44,658 INFO Download rate 3.6M/s                                                                      \n",
      "2023-08-26 15:49:44,774 INFO Welcome to the CDS\n",
      "2023-08-26 15:49:44,774 INFO Sending request to https://cds.climate.copernicus.eu/api/v2/resources/reanalysis-era5-pressure-levels\n"
     ]
    },
    {
     "name": "stdout",
     "output_type": "stream",
     "text": [
      "era5_pressure_level_1996_09_850.nc done!\n",
      "Download time: 50.244 s\n",
      "Folder 'F:\\JuPyterNotebook\\data\\raw_data\\ERA5_DATA\\GB_ERA5_DATA' created successfully.\n"
     ]
    },
    {
     "name": "stderr",
     "output_type": "stream",
     "text": [
      "2023-08-26 15:49:44,941 INFO Request is queued\n",
      "2023-08-26 15:49:45,993 INFO Request is running\n",
      "2023-08-26 15:50:34,507 INFO Request is completed\n",
      "2023-08-26 15:50:34,507 INFO Downloading https://download-0007-clone.copernicus-climate.eu/cache-compute-0007/cache/data5/adaptor.mars.internal-1693061426.43071-31521-7-0feb77c6-6f8b-4ff5-b304-24ab35b2ce29.nc to F:\\JuPyterNotebook\\data\\raw_data\\ERA5_DATA\\GB_ERA5_DATA\\era5_pressure_level_1996_10_850.nc (1.7M)\n",
      "2023-08-26 15:50:35,062 INFO Download rate 3.2M/s                                                                      \n",
      "2023-08-26 15:50:35,153 INFO Welcome to the CDS\n",
      "2023-08-26 15:50:35,153 INFO Sending request to https://cds.climate.copernicus.eu/api/v2/resources/reanalysis-era5-pressure-levels\n",
      "2023-08-26 15:50:35,223 INFO Request is queued\n"
     ]
    },
    {
     "name": "stdout",
     "output_type": "stream",
     "text": [
      "era5_pressure_level_1996_10_850.nc done!\n",
      "Download time: 50.403 s\n",
      "Folder 'F:\\JuPyterNotebook\\data\\raw_data\\ERA5_DATA\\GB_ERA5_DATA' created successfully.\n"
     ]
    },
    {
     "name": "stderr",
     "output_type": "stream",
     "text": [
      "2023-08-26 15:50:36,268 INFO Request is running\n",
      "2023-08-26 15:51:24,826 INFO Request is completed\n",
      "2023-08-26 15:51:24,841 INFO Downloading https://download-0013-clone.copernicus-climate.eu/cache-compute-0013/cache/data0/adaptor.mars.internal-1693061471.839559-13739-8-c2ae4542-a250-4680-a25a-c03130f28b81.nc to F:\\JuPyterNotebook\\data\\raw_data\\ERA5_DATA\\GB_ERA5_DATA\\era5_pressure_level_1996_11_850.nc (1.7M)\n",
      "2023-08-26 15:51:25,337 INFO Download rate 3.4M/s                                                                      \n",
      "2023-08-26 15:51:25,421 INFO Welcome to the CDS\n",
      "2023-08-26 15:51:25,421 INFO Sending request to https://cds.climate.copernicus.eu/api/v2/resources/reanalysis-era5-pressure-levels\n"
     ]
    },
    {
     "name": "stdout",
     "output_type": "stream",
     "text": [
      "era5_pressure_level_1996_11_850.nc done!\n",
      "Download time: 50.267 s\n",
      "Folder 'F:\\JuPyterNotebook\\data\\raw_data\\ERA5_DATA\\GB_ERA5_DATA' created successfully.\n"
     ]
    },
    {
     "name": "stderr",
     "output_type": "stream",
     "text": [
      "2023-08-26 15:51:25,607 INFO Request is queued\n",
      "2023-08-26 15:51:26,648 INFO Request is running\n",
      "2023-08-26 15:52:15,183 INFO Request is completed\n",
      "2023-08-26 15:52:15,183 INFO Downloading https://download-0021.copernicus-climate.eu/cache-compute-0021/cache/data2/adaptor.mars.internal-1693061526.426761-1254-13-38d48991-4e7a-445d-bdb5-816000a0b465.nc to F:\\JuPyterNotebook\\data\\raw_data\\ERA5_DATA\\GB_ERA5_DATA\\era5_pressure_level_1996_12_850.nc (1.7M)\n",
      "2023-08-26 15:52:15,684 INFO Download rate 3.7M/s                                                                      \n",
      "2023-08-26 15:52:15,777 INFO Welcome to the CDS\n",
      "2023-08-26 15:52:15,777 INFO Sending request to https://cds.climate.copernicus.eu/api/v2/resources/reanalysis-era5-pressure-levels\n",
      "2023-08-26 15:52:15,926 INFO Request is queued\n"
     ]
    },
    {
     "name": "stdout",
     "output_type": "stream",
     "text": [
      "era5_pressure_level_1996_12_850.nc done!\n",
      "Download time: 50.324 s\n",
      "Folder 'F:\\JuPyterNotebook\\data\\raw_data\\ERA5_DATA\\GB_ERA5_DATA' created successfully.\n"
     ]
    },
    {
     "name": "stderr",
     "output_type": "stream",
     "text": [
      "2023-08-26 15:52:16,967 INFO Request is running\n",
      "2023-08-26 15:53:05,502 INFO Request is completed\n",
      "2023-08-26 15:53:05,518 INFO Downloading https://download-0014-clone.copernicus-climate.eu/cache-compute-0014/cache/data0/adaptor.mars.internal-1693061574.9668696-28694-10-f798605b-785a-4b80-86d9-fe8f2c9b7d9e.nc to F:\\JuPyterNotebook\\data\\raw_data\\ERA5_DATA\\GB_ERA5_DATA\\era5_pressure_level_1997_01_850.nc (1.7M)\n",
      "2023-08-26 15:53:05,978 INFO Download rate 3.8M/s                                                                      \n",
      "2023-08-26 15:53:06,064 INFO Welcome to the CDS\n",
      "2023-08-26 15:53:06,064 INFO Sending request to https://cds.climate.copernicus.eu/api/v2/resources/reanalysis-era5-pressure-levels\n",
      "2023-08-26 15:53:06,172 INFO Request is queued\n"
     ]
    },
    {
     "name": "stdout",
     "output_type": "stream",
     "text": [
      "era5_pressure_level_1997_01_850.nc done!\n",
      "Download time: 50.302 s\n",
      "Folder 'F:\\JuPyterNotebook\\data\\raw_data\\ERA5_DATA\\GB_ERA5_DATA' created successfully.\n"
     ]
    },
    {
     "name": "stderr",
     "output_type": "stream",
     "text": [
      "2023-08-26 15:53:07,214 INFO Request is running\n",
      "2023-08-26 15:53:55,778 INFO Request is completed\n",
      "2023-08-26 15:53:55,778 INFO Downloading https://download-0004-clone.copernicus-climate.eu/cache-compute-0004/cache/data0/adaptor.mars.internal-1693061620.678207-22983-11-50836cf9-4e07-47b1-9d9e-b0f2da3ac9d4.nc to F:\\JuPyterNotebook\\data\\raw_data\\ERA5_DATA\\GB_ERA5_DATA\\era5_pressure_level_1997_02_850.nc (1.6M)\n",
      "2023-08-26 15:53:56,204 INFO Download rate 3.7M/s                                                                      \n",
      "2023-08-26 15:53:56,288 INFO Welcome to the CDS\n",
      "2023-08-26 15:53:56,288 INFO Sending request to https://cds.climate.copernicus.eu/api/v2/resources/reanalysis-era5-pressure-levels\n",
      "2023-08-26 15:53:56,414 INFO Request is queued\n"
     ]
    },
    {
     "name": "stdout",
     "output_type": "stream",
     "text": [
      "era5_pressure_level_1997_02_850.nc done!\n",
      "Download time: 50.209 s\n",
      "Folder 'F:\\JuPyterNotebook\\data\\raw_data\\ERA5_DATA\\GB_ERA5_DATA' created successfully.\n"
     ]
    },
    {
     "name": "stderr",
     "output_type": "stream",
     "text": [
      "2023-08-26 15:53:57,459 INFO Request is running\n",
      "2023-08-26 15:54:46,007 INFO Request is completed\n",
      "2023-08-26 15:54:46,023 INFO Downloading https://download-0009-clone.copernicus-climate.eu/cache-compute-0009/cache/data2/adaptor.mars.internal-1693061675.9850821-23866-2-6f41bc9a-a367-40e5-811c-7da25765adb7.nc to F:\\JuPyterNotebook\\data\\raw_data\\ERA5_DATA\\GB_ERA5_DATA\\era5_pressure_level_1997_03_850.nc (1.7M)\n",
      "2023-08-26 15:54:46,548 INFO Download rate 3.3M/s                                                                      \n",
      "2023-08-26 15:54:46,632 INFO Welcome to the CDS\n",
      "2023-08-26 15:54:46,632 INFO Sending request to https://cds.climate.copernicus.eu/api/v2/resources/reanalysis-era5-pressure-levels\n",
      "2023-08-26 15:54:46,707 INFO Request is queued\n"
     ]
    },
    {
     "name": "stdout",
     "output_type": "stream",
     "text": [
      "era5_pressure_level_1997_03_850.nc done!\n",
      "Download time: 50.343 s\n",
      "Folder 'F:\\JuPyterNotebook\\data\\raw_data\\ERA5_DATA\\GB_ERA5_DATA' created successfully.\n"
     ]
    },
    {
     "name": "stderr",
     "output_type": "stream",
     "text": [
      "2023-08-26 15:54:47,744 INFO Request is running\n",
      "2023-08-26 15:55:36,274 INFO Request is completed\n",
      "2023-08-26 15:55:36,274 INFO Downloading https://download-0000-clone.copernicus-climate.eu/cache-compute-0000/cache/data7/adaptor.mars.internal-1693061729.5283296-402-14-c7c0b214-9276-4ae3-b417-946926f4d79d.nc to F:\\JuPyterNotebook\\data\\raw_data\\ERA5_DATA\\GB_ERA5_DATA\\era5_pressure_level_1997_04_850.nc (1.7M)\n",
      "2023-08-26 15:55:36,800 INFO Download rate 3.3M/s                                                                      \n",
      "2023-08-26 15:55:36,876 INFO Welcome to the CDS\n",
      "2023-08-26 15:55:36,876 INFO Sending request to https://cds.climate.copernicus.eu/api/v2/resources/reanalysis-era5-pressure-levels\n",
      "2023-08-26 15:55:36,949 INFO Request is queued\n"
     ]
    },
    {
     "name": "stdout",
     "output_type": "stream",
     "text": [
      "era5_pressure_level_1997_04_850.nc done!\n",
      "Download time: 50.245 s\n",
      "Folder 'F:\\JuPyterNotebook\\data\\raw_data\\ERA5_DATA\\GB_ERA5_DATA' created successfully.\n"
     ]
    },
    {
     "name": "stderr",
     "output_type": "stream",
     "text": [
      "2023-08-26 15:55:37,992 INFO Request is running\n",
      "2023-08-26 15:56:26,567 INFO Request is completed\n",
      "2023-08-26 15:56:26,567 INFO Downloading https://download-0002-clone.copernicus-climate.eu/cache-compute-0002/cache/data5/adaptor.mars.internal-1693061779.7314754-23839-3-75691f97-327f-4d3d-a47e-5cb61a477754.nc to F:\\JuPyterNotebook\\data\\raw_data\\ERA5_DATA\\GB_ERA5_DATA\\era5_pressure_level_1997_05_850.nc (1.7M)\n",
      "2023-08-26 15:56:27,066 INFO Download rate 3.6M/s                                                                      \n",
      "2023-08-26 15:56:27,159 INFO Welcome to the CDS\n",
      "2023-08-26 15:56:27,159 INFO Sending request to https://cds.climate.copernicus.eu/api/v2/resources/reanalysis-era5-pressure-levels\n",
      "2023-08-26 15:56:27,232 INFO Request is queued\n"
     ]
    },
    {
     "name": "stdout",
     "output_type": "stream",
     "text": [
      "era5_pressure_level_1997_05_850.nc done!\n",
      "Download time: 50.283 s\n",
      "Folder 'F:\\JuPyterNotebook\\data\\raw_data\\ERA5_DATA\\GB_ERA5_DATA' created successfully.\n"
     ]
    },
    {
     "name": "stderr",
     "output_type": "stream",
     "text": [
      "2023-08-26 15:56:28,282 INFO Request is running\n",
      "2023-08-26 15:57:16,840 INFO Request is completed\n",
      "2023-08-26 15:57:16,849 INFO Downloading https://download-0021.copernicus-climate.eu/cache-compute-0021/cache/data4/adaptor.mars.internal-1693061825.7695515-1780-8-1ac583fc-46d6-42a3-aaef-5fe4d85d12ec.nc to F:\\JuPyterNotebook\\data\\raw_data\\ERA5_DATA\\GB_ERA5_DATA\\era5_pressure_level_1997_06_850.nc (1.7M)\n",
      "2023-08-26 15:57:17,347 INFO Download rate 3.4M/s                                                                      \n",
      "2023-08-26 15:57:17,435 INFO Welcome to the CDS\n",
      "2023-08-26 15:57:17,435 INFO Sending request to https://cds.climate.copernicus.eu/api/v2/resources/reanalysis-era5-pressure-levels\n",
      "2023-08-26 15:57:17,524 INFO Request is queued\n"
     ]
    },
    {
     "name": "stdout",
     "output_type": "stream",
     "text": [
      "era5_pressure_level_1997_06_850.nc done!\n",
      "Download time: 50.275 s\n",
      "Folder 'F:\\JuPyterNotebook\\data\\raw_data\\ERA5_DATA\\GB_ERA5_DATA' created successfully.\n"
     ]
    },
    {
     "name": "stderr",
     "output_type": "stream",
     "text": [
      "2023-08-26 15:57:18,565 INFO Request is running\n",
      "2023-08-26 15:58:07,121 INFO Request is completed\n",
      "2023-08-26 15:58:07,137 INFO Downloading https://download-0001-clone.copernicus-climate.eu/cache-compute-0001/cache/data3/adaptor.mars.internal-1693061875.4127455-1165-19-7f934e26-937c-419c-88ce-93ba2a5e2518.nc to F:\\JuPyterNotebook\\data\\raw_data\\ERA5_DATA\\GB_ERA5_DATA\\era5_pressure_level_1997_07_850.nc (1.7M)\n",
      "2023-08-26 15:58:07,674 INFO Download rate 3.2M/s                                                                      \n",
      "2023-08-26 15:58:07,754 INFO Welcome to the CDS\n",
      "2023-08-26 15:58:07,754 INFO Sending request to https://cds.climate.copernicus.eu/api/v2/resources/reanalysis-era5-pressure-levels\n",
      "2023-08-26 15:58:07,840 INFO Request is queued\n"
     ]
    },
    {
     "name": "stdout",
     "output_type": "stream",
     "text": [
      "era5_pressure_level_1997_07_850.nc done!\n",
      "Download time: 50.333 s\n",
      "Folder 'F:\\JuPyterNotebook\\data\\raw_data\\ERA5_DATA\\GB_ERA5_DATA' created successfully.\n"
     ]
    },
    {
     "name": "stderr",
     "output_type": "stream",
     "text": [
      "2023-08-26 15:58:08,879 INFO Request is running\n",
      "2023-08-26 15:58:57,445 INFO Request is completed\n",
      "2023-08-26 15:58:57,445 INFO Downloading https://download-0015-clone.copernicus-climate.eu/cache-compute-0015/cache/data8/adaptor.mars.internal-1693061932.2362177-18034-4-684b47d6-e3ce-4abd-9585-c0d41df139a6.nc to F:\\JuPyterNotebook\\data\\raw_data\\ERA5_DATA\\GB_ERA5_DATA\\era5_pressure_level_1997_08_850.nc (1.7M)\n",
      "2023-08-26 15:58:57,943 INFO Download rate 3.5M/s                                                                      \n",
      "2023-08-26 15:58:58,035 INFO Welcome to the CDS\n",
      "2023-08-26 15:58:58,035 INFO Sending request to https://cds.climate.copernicus.eu/api/v2/resources/reanalysis-era5-pressure-levels\n",
      "2023-08-26 15:58:58,143 INFO Request is queued\n"
     ]
    },
    {
     "name": "stdout",
     "output_type": "stream",
     "text": [
      "era5_pressure_level_1997_08_850.nc done!\n",
      "Download time: 50.267 s\n",
      "Folder 'F:\\JuPyterNotebook\\data\\raw_data\\ERA5_DATA\\GB_ERA5_DATA' created successfully.\n"
     ]
    },
    {
     "name": "stderr",
     "output_type": "stream",
     "text": [
      "2023-08-26 15:58:59,338 INFO Request is running\n",
      "2023-08-26 15:59:47,883 INFO Request is completed\n",
      "2023-08-26 15:59:47,884 INFO Downloading https://download-0011-clone.copernicus-climate.eu/cache-compute-0011/cache/data8/adaptor.mars.internal-1693061975.7462504-27603-13-3ce6aa52-9ffd-4b8b-b6bb-b8bcc7ec6000.nc to F:\\JuPyterNotebook\\data\\raw_data\\ERA5_DATA\\GB_ERA5_DATA\\era5_pressure_level_1997_09_850.nc (1.7M)\n",
      "2023-08-26 15:59:48,363 INFO Download rate 3.5M/s                                                                      \n",
      "2023-08-26 15:59:48,446 INFO Welcome to the CDS\n",
      "2023-08-26 15:59:48,446 INFO Sending request to https://cds.climate.copernicus.eu/api/v2/resources/reanalysis-era5-pressure-levels\n",
      "2023-08-26 15:59:48,512 INFO Request is queued\n"
     ]
    },
    {
     "name": "stdout",
     "output_type": "stream",
     "text": [
      "era5_pressure_level_1997_09_850.nc done!\n",
      "Download time: 50.427 s\n",
      "Folder 'F:\\JuPyterNotebook\\data\\raw_data\\ERA5_DATA\\GB_ERA5_DATA' created successfully.\n"
     ]
    },
    {
     "name": "stderr",
     "output_type": "stream",
     "text": [
      "2023-08-26 15:59:49,545 INFO Request is running\n",
      "2023-08-26 16:00:38,080 INFO Request is completed\n",
      "2023-08-26 16:00:38,080 INFO Downloading https://download-0000-clone.copernicus-climate.eu/cache-compute-0000/cache/data4/adaptor.mars.internal-1693062026.6022165-4162-5-47dd5a86-6e5a-4f66-96ad-2c70359510b7.nc to F:\\JuPyterNotebook\\data\\raw_data\\ERA5_DATA\\GB_ERA5_DATA\\era5_pressure_level_1997_10_850.nc (1.7M)\n",
      "2023-08-26 16:00:38,577 INFO Download rate 3.5M/s                                                                      \n",
      "2023-08-26 16:00:38,646 INFO Welcome to the CDS\n",
      "2023-08-26 16:00:38,646 INFO Sending request to https://cds.climate.copernicus.eu/api/v2/resources/reanalysis-era5-pressure-levels\n",
      "2023-08-26 16:00:38,722 INFO Request is queued\n"
     ]
    },
    {
     "name": "stdout",
     "output_type": "stream",
     "text": [
      "era5_pressure_level_1997_10_850.nc done!\n",
      "Download time: 50.199 s\n",
      "Folder 'F:\\JuPyterNotebook\\data\\raw_data\\ERA5_DATA\\GB_ERA5_DATA' created successfully.\n"
     ]
    },
    {
     "name": "stderr",
     "output_type": "stream",
     "text": [
      "2023-08-26 16:00:39,770 INFO Request is running\n",
      "2023-08-26 16:00:52,116 INFO Request is completed\n",
      "2023-08-26 16:00:52,116 INFO Downloading https://download-0020.copernicus-climate.eu/cache-compute-0020/cache/data8/adaptor.mars.internal-1693062049.790433-12486-3-0eaa6324-163f-4d28-9cbf-81c7c7511b69.nc to F:\\JuPyterNotebook\\data\\raw_data\\ERA5_DATA\\GB_ERA5_DATA\\era5_pressure_level_1997_11_850.nc (1.7M)\n",
      "2023-08-26 16:00:52,632 INFO Download rate 3.3M/s                                                                      \n",
      "2023-08-26 16:00:52,697 INFO Welcome to the CDS\n",
      "2023-08-26 16:00:52,697 INFO Sending request to https://cds.climate.copernicus.eu/api/v2/resources/reanalysis-era5-pressure-levels\n",
      "2023-08-26 16:00:52,775 INFO Request is queued\n"
     ]
    },
    {
     "name": "stdout",
     "output_type": "stream",
     "text": [
      "era5_pressure_level_1997_11_850.nc done!\n",
      "Download time: 14.052 s\n",
      "Folder 'F:\\JuPyterNotebook\\data\\raw_data\\ERA5_DATA\\GB_ERA5_DATA' created successfully.\n"
     ]
    },
    {
     "name": "stderr",
     "output_type": "stream",
     "text": [
      "2023-08-26 16:00:53,821 INFO Request is running\n",
      "2023-08-26 16:01:42,384 INFO Request is completed\n",
      "2023-08-26 16:01:42,384 INFO Downloading https://download-0002-clone.copernicus-climate.eu/cache-compute-0002/cache/data5/adaptor.mars.internal-1693062088.9755414-25909-3-eaaaec24-e44e-4923-b1ca-2230d8565d77.nc to F:\\JuPyterNotebook\\data\\raw_data\\ERA5_DATA\\GB_ERA5_DATA\\era5_pressure_level_1997_12_850.nc (1.7M)\n",
      "2023-08-26 16:01:42,897 INFO Download rate 3.4M/s                                                                      \n",
      "2023-08-26 16:01:42,975 INFO Welcome to the CDS\n",
      "2023-08-26 16:01:42,975 INFO Sending request to https://cds.climate.copernicus.eu/api/v2/resources/reanalysis-era5-pressure-levels\n",
      "2023-08-26 16:01:43,015 INFO Request is queued\n"
     ]
    },
    {
     "name": "stdout",
     "output_type": "stream",
     "text": [
      "era5_pressure_level_1997_12_850.nc done!\n",
      "Download time: 50.263 s\n",
      "Folder 'F:\\JuPyterNotebook\\data\\raw_data\\ERA5_DATA\\GB_ERA5_DATA' created successfully.\n"
     ]
    },
    {
     "name": "stderr",
     "output_type": "stream",
     "text": [
      "2023-08-26 16:01:44,066 INFO Request is running\n",
      "2023-08-26 16:02:32,591 INFO Request is completed\n",
      "2023-08-26 16:02:32,591 INFO Downloading https://download-0007-clone.copernicus-climate.eu/cache-compute-0007/cache/data9/adaptor.mars.internal-1693062143.2071471-30567-13-dbea5d37-c0f7-4b85-842a-71ff985c41da.nc to F:\\JuPyterNotebook\\data\\raw_data\\ERA5_DATA\\GB_ERA5_DATA\\era5_pressure_level_1998_01_850.nc (1.7M)\n",
      "2023-08-26 16:02:33,062 INFO Download rate 3.7M/s                                                                      \n",
      "2023-08-26 16:02:33,135 INFO Welcome to the CDS\n",
      "2023-08-26 16:02:33,135 INFO Sending request to https://cds.climate.copernicus.eu/api/v2/resources/reanalysis-era5-pressure-levels\n",
      "2023-08-26 16:02:33,217 INFO Request is queued\n"
     ]
    },
    {
     "name": "stdout",
     "output_type": "stream",
     "text": [
      "era5_pressure_level_1998_01_850.nc done!\n",
      "Download time: 50.175 s\n",
      "Folder 'F:\\JuPyterNotebook\\data\\raw_data\\ERA5_DATA\\GB_ERA5_DATA' created successfully.\n"
     ]
    },
    {
     "name": "stderr",
     "output_type": "stream",
     "text": [
      "2023-08-26 16:02:34,281 INFO Request is running\n",
      "2023-08-26 16:03:22,813 INFO Request is completed\n",
      "2023-08-26 16:03:22,813 INFO Downloading https://download-0010-clone.copernicus-climate.eu/cache-compute-0010/cache/data0/adaptor.mars.internal-1693062187.4262033-2983-6-9b1c453f-39ca-4a56-9be9-4f6aab20685a.nc to F:\\JuPyterNotebook\\data\\raw_data\\ERA5_DATA\\GB_ERA5_DATA\\era5_pressure_level_1998_02_850.nc (1.6M)\n",
      "2023-08-26 16:03:23,415 INFO Download rate 2.7M/s                                                                      \n",
      "2023-08-26 16:03:23,492 INFO Welcome to the CDS\n",
      "2023-08-26 16:03:23,492 INFO Sending request to https://cds.climate.copernicus.eu/api/v2/resources/reanalysis-era5-pressure-levels\n"
     ]
    },
    {
     "name": "stdout",
     "output_type": "stream",
     "text": [
      "era5_pressure_level_1998_02_850.nc done!\n",
      "Download time: 50.342 s\n",
      "Folder 'F:\\JuPyterNotebook\\data\\raw_data\\ERA5_DATA\\GB_ERA5_DATA' created successfully.\n"
     ]
    },
    {
     "name": "stderr",
     "output_type": "stream",
     "text": [
      "2023-08-26 16:03:23,666 INFO Request is queued\n",
      "2023-08-26 16:03:24,711 INFO Request is running\n",
      "2023-08-26 16:04:13,271 INFO Request is completed\n",
      "2023-08-26 16:04:13,271 INFO Downloading https://download-0020.copernicus-climate.eu/cache-compute-0020/cache/data7/adaptor.mars.internal-1693062240.892707-12297-7-8dc4cc1b-cc8c-4b1a-83d3-68345db2926e.nc to F:\\JuPyterNotebook\\data\\raw_data\\ERA5_DATA\\GB_ERA5_DATA\\era5_pressure_level_1998_03_850.nc (1.7M)\n",
      "2023-08-26 16:04:13,811 INFO Download rate 3.2M/s                                                                      \n",
      "2023-08-26 16:04:13,888 INFO Welcome to the CDS\n",
      "2023-08-26 16:04:13,888 INFO Sending request to https://cds.climate.copernicus.eu/api/v2/resources/reanalysis-era5-pressure-levels\n",
      "2023-08-26 16:04:13,962 INFO Request is queued\n"
     ]
    },
    {
     "name": "stdout",
     "output_type": "stream",
     "text": [
      "era5_pressure_level_1998_03_850.nc done!\n",
      "Download time: 50.396 s\n",
      "Folder 'F:\\JuPyterNotebook\\data\\raw_data\\ERA5_DATA\\GB_ERA5_DATA' created successfully.\n"
     ]
    },
    {
     "name": "stderr",
     "output_type": "stream",
     "text": [
      "2023-08-26 16:04:14,999 INFO Request is running\n",
      "2023-08-26 16:05:03,550 INFO Request is completed\n",
      "2023-08-26 16:05:03,550 INFO Downloading https://download-0004-clone.copernicus-climate.eu/cache-compute-0004/cache/data0/adaptor.mars.internal-1693062291.4303753-23435-11-6b43337c-9a91-4480-87a6-054c01f2d130.nc to F:\\JuPyterNotebook\\data\\raw_data\\ERA5_DATA\\GB_ERA5_DATA\\era5_pressure_level_1998_04_850.nc (1.7M)\n",
      "2023-08-26 16:05:04,027 INFO Download rate 3.5M/s                                                                      \n",
      "2023-08-26 16:05:04,116 INFO Welcome to the CDS\n",
      "2023-08-26 16:05:04,116 INFO Sending request to https://cds.climate.copernicus.eu/api/v2/resources/reanalysis-era5-pressure-levels\n",
      "2023-08-26 16:05:04,186 INFO Request is queued\n"
     ]
    },
    {
     "name": "stdout",
     "output_type": "stream",
     "text": [
      "era5_pressure_level_1998_04_850.nc done!\n",
      "Download time: 50.210 s\n",
      "Folder 'F:\\JuPyterNotebook\\data\\raw_data\\ERA5_DATA\\GB_ERA5_DATA' created successfully.\n"
     ]
    },
    {
     "name": "stderr",
     "output_type": "stream",
     "text": [
      "2023-08-26 16:05:05,240 INFO Request is running\n",
      "2023-08-26 16:05:53,773 INFO Request is completed\n",
      "2023-08-26 16:05:53,773 INFO Downloading https://download-0004-clone.copernicus-climate.eu/cache-compute-0004/cache/data8/adaptor.mars.internal-1693062344.1963418-27842-5-652d086e-ad05-4ded-8feb-c75e48109f51.nc to F:\\JuPyterNotebook\\data\\raw_data\\ERA5_DATA\\GB_ERA5_DATA\\era5_pressure_level_1998_05_850.nc (1.7M)\n",
      "2023-08-26 16:05:54,102 INFO Download rate 5.3M/s                                                                      \n",
      "2023-08-26 16:05:54,189 INFO Welcome to the CDS\n",
      "2023-08-26 16:05:54,189 INFO Sending request to https://cds.climate.copernicus.eu/api/v2/resources/reanalysis-era5-pressure-levels\n",
      "2023-08-26 16:05:54,282 INFO Request is queued\n"
     ]
    },
    {
     "name": "stdout",
     "output_type": "stream",
     "text": [
      "era5_pressure_level_1998_05_850.nc done!\n",
      "Download time: 50.076 s\n",
      "Folder 'F:\\JuPyterNotebook\\data\\raw_data\\ERA5_DATA\\GB_ERA5_DATA' created successfully.\n"
     ]
    },
    {
     "name": "stderr",
     "output_type": "stream",
     "text": [
      "2023-08-26 16:05:55,316 INFO Request is running\n",
      "2023-08-26 16:06:44,044 INFO Request is completed\n",
      "2023-08-26 16:06:44,059 INFO Downloading https://download-0014-clone.copernicus-climate.eu/cache-compute-0014/cache/data2/adaptor.mars.internal-1693062390.872287-29349-14-b7fdee4d-025c-4851-9f9c-1ff01fbc92a9.nc to F:\\JuPyterNotebook\\data\\raw_data\\ERA5_DATA\\GB_ERA5_DATA\\era5_pressure_level_1998_06_850.nc (1.7M)\n",
      "2023-08-26 16:06:44,552 INFO Download rate 3.4M/s                                                                      \n",
      "2023-08-26 16:06:44,643 INFO Welcome to the CDS\n",
      "2023-08-26 16:06:44,643 INFO Sending request to https://cds.climate.copernicus.eu/api/v2/resources/reanalysis-era5-pressure-levels\n",
      "2023-08-26 16:06:44,758 INFO Request is queued\n"
     ]
    },
    {
     "name": "stdout",
     "output_type": "stream",
     "text": [
      "era5_pressure_level_1998_06_850.nc done!\n",
      "Download time: 50.438 s\n",
      "Folder 'F:\\JuPyterNotebook\\data\\raw_data\\ERA5_DATA\\GB_ERA5_DATA' created successfully.\n"
     ]
    },
    {
     "name": "stderr",
     "output_type": "stream",
     "text": [
      "2023-08-26 16:06:45,815 INFO Request is running\n",
      "2023-08-26 16:07:34,345 INFO Request is completed\n",
      "2023-08-26 16:07:34,345 INFO Downloading https://download-0001-clone.copernicus-climate.eu/cache-compute-0001/cache/data6/adaptor.mars.internal-1693062450.8288019-17115-2-57d529c9-a945-461e-9897-50e3067545d0.nc to F:\\JuPyterNotebook\\data\\raw_data\\ERA5_DATA\\GB_ERA5_DATA\\era5_pressure_level_1998_07_850.nc (1.7M)\n",
      "2023-08-26 16:07:34,892 INFO Download rate 3.3M/s                                                                      \n",
      "2023-08-26 16:07:34,969 INFO Welcome to the CDS\n",
      "2023-08-26 16:07:34,969 INFO Sending request to https://cds.climate.copernicus.eu/api/v2/resources/reanalysis-era5-pressure-levels\n",
      "2023-08-26 16:07:35,048 INFO Request is queued\n"
     ]
    },
    {
     "name": "stdout",
     "output_type": "stream",
     "text": [
      "era5_pressure_level_1998_07_850.nc done!\n",
      "Download time: 50.310 s\n",
      "Folder 'F:\\JuPyterNotebook\\data\\raw_data\\ERA5_DATA\\GB_ERA5_DATA' created successfully.\n"
     ]
    },
    {
     "name": "stderr",
     "output_type": "stream",
     "text": [
      "2023-08-26 16:07:36,107 INFO Request is running\n",
      "2023-08-26 16:08:24,759 INFO Request is completed\n",
      "2023-08-26 16:08:24,759 INFO Downloading https://download-0001-clone.copernicus-climate.eu/cache-compute-0001/cache/data2/adaptor.mars.internal-1693062495.4833884-11543-13-86ccdf46-da22-4064-b0b0-b17f097d2b0c.nc to F:\\JuPyterNotebook\\data\\raw_data\\ERA5_DATA\\GB_ERA5_DATA\\era5_pressure_level_1998_08_850.nc (1.7M)\n",
      "2023-08-26 16:08:25,119 INFO Download rate 4.8M/s                                                                      \n",
      "2023-08-26 16:08:25,227 INFO Welcome to the CDS\n",
      "2023-08-26 16:08:25,232 INFO Sending request to https://cds.climate.copernicus.eu/api/v2/resources/reanalysis-era5-pressure-levels\n",
      "2023-08-26 16:08:25,323 INFO Request is queued\n"
     ]
    },
    {
     "name": "stdout",
     "output_type": "stream",
     "text": [
      "era5_pressure_level_1998_08_850.nc done!\n",
      "Download time: 50.259 s\n",
      "Folder 'F:\\JuPyterNotebook\\data\\raw_data\\ERA5_DATA\\GB_ERA5_DATA' created successfully.\n"
     ]
    },
    {
     "name": "stderr",
     "output_type": "stream",
     "text": [
      "2023-08-26 16:08:26,375 INFO Request is running\n",
      "2023-08-26 16:09:15,043 INFO Request is completed\n",
      "2023-08-26 16:09:15,043 INFO Downloading https://download-0020.copernicus-climate.eu/cache-compute-0020/cache/data5/adaptor.mars.internal-1693062544.2255251-11309-11-60a8b694-2fdc-4fd6-b618-dc9c9686395c.nc to F:\\JuPyterNotebook\\data\\raw_data\\ERA5_DATA\\GB_ERA5_DATA\\era5_pressure_level_1998_09_850.nc (1.7M)\n",
      "2023-08-26 16:09:15,543 INFO Download rate 3.4M/s                                                                      \n",
      "2023-08-26 16:09:15,636 INFO Welcome to the CDS\n",
      "2023-08-26 16:09:15,636 INFO Sending request to https://cds.climate.copernicus.eu/api/v2/resources/reanalysis-era5-pressure-levels\n",
      "2023-08-26 16:09:15,705 INFO Request is queued\n"
     ]
    },
    {
     "name": "stdout",
     "output_type": "stream",
     "text": [
      "era5_pressure_level_1998_09_850.nc done!\n",
      "Download time: 50.407 s\n",
      "Folder 'F:\\JuPyterNotebook\\data\\raw_data\\ERA5_DATA\\GB_ERA5_DATA' created successfully.\n"
     ]
    },
    {
     "name": "stderr",
     "output_type": "stream",
     "text": [
      "2023-08-26 16:09:16,745 INFO Request is running\n",
      "2023-08-26 16:10:05,304 INFO Request is completed\n",
      "2023-08-26 16:10:05,304 INFO Downloading https://download-0018.copernicus-climate.eu/cache-compute-0018/cache/data3/adaptor.mars.internal-1693062594.734785-26937-11-4ab8194c-e9b7-4a91-8ad1-f3af986f2d48.nc to F:\\JuPyterNotebook\\data\\raw_data\\ERA5_DATA\\GB_ERA5_DATA\\era5_pressure_level_1998_10_850.nc (1.7M)\n",
      "2023-08-26 16:10:05,786 INFO Download rate 3.6M/s                                                                      \n",
      "2023-08-26 16:10:05,863 INFO Welcome to the CDS\n",
      "2023-08-26 16:10:05,879 INFO Sending request to https://cds.climate.copernicus.eu/api/v2/resources/reanalysis-era5-pressure-levels\n",
      "2023-08-26 16:10:05,979 INFO Request is queued\n"
     ]
    },
    {
     "name": "stdout",
     "output_type": "stream",
     "text": [
      "era5_pressure_level_1998_10_850.nc done!\n",
      "Download time: 50.228 s\n",
      "Folder 'F:\\JuPyterNotebook\\data\\raw_data\\ERA5_DATA\\GB_ERA5_DATA' created successfully.\n"
     ]
    },
    {
     "name": "stderr",
     "output_type": "stream",
     "text": [
      "2023-08-26 16:10:07,021 INFO Request is running\n",
      "2023-08-26 16:10:55,621 INFO Request is completed\n",
      "2023-08-26 16:10:55,621 INFO Downloading https://download-0021.copernicus-climate.eu/cache-compute-0021/cache/data8/adaptor.mars.internal-1693062644.426889-14241-5-c4e8d692-cea5-4f11-9434-c2d3d07d2bfc.nc to F:\\JuPyterNotebook\\data\\raw_data\\ERA5_DATA\\GB_ERA5_DATA\\era5_pressure_level_1998_11_850.nc (1.7M)\n",
      "2023-08-26 16:10:56,109 INFO Download rate 3.4M/s                                                                      \n",
      "2023-08-26 16:10:56,203 INFO Welcome to the CDS\n",
      "2023-08-26 16:10:56,203 INFO Sending request to https://cds.climate.copernicus.eu/api/v2/resources/reanalysis-era5-pressure-levels\n",
      "2023-08-26 16:10:56,294 INFO Request is queued\n"
     ]
    },
    {
     "name": "stdout",
     "output_type": "stream",
     "text": [
      "era5_pressure_level_1998_11_850.nc done!\n",
      "Download time: 50.323 s\n",
      "Folder 'F:\\JuPyterNotebook\\data\\raw_data\\ERA5_DATA\\GB_ERA5_DATA' created successfully.\n"
     ]
    },
    {
     "name": "stderr",
     "output_type": "stream",
     "text": [
      "2023-08-26 16:10:57,333 INFO Request is running\n",
      "2023-08-26 16:11:45,901 INFO Request is completed\n",
      "2023-08-26 16:11:45,901 INFO Downloading https://download-0001-clone.copernicus-climate.eu/cache-compute-0001/cache/data7/adaptor.mars.internal-1693062693.4926581-17085-9-164bc049-7390-420e-924f-9684c3e69def.nc to F:\\JuPyterNotebook\\data\\raw_data\\ERA5_DATA\\GB_ERA5_DATA\\era5_pressure_level_1998_12_850.nc (1.7M)\n",
      "2023-08-26 16:11:46,395 INFO Download rate 3.5M/s                                                                      \n",
      "2023-08-26 16:11:46,478 INFO Welcome to the CDS\n",
      "2023-08-26 16:11:46,478 INFO Sending request to https://cds.climate.copernicus.eu/api/v2/resources/reanalysis-era5-pressure-levels\n",
      "2023-08-26 16:11:46,557 INFO Request is queued\n"
     ]
    },
    {
     "name": "stdout",
     "output_type": "stream",
     "text": [
      "era5_pressure_level_1998_12_850.nc done!\n",
      "Download time: 50.276 s\n",
      "Folder 'F:\\JuPyterNotebook\\data\\raw_data\\ERA5_DATA\\GB_ERA5_DATA' created successfully.\n"
     ]
    },
    {
     "name": "stderr",
     "output_type": "stream",
     "text": [
      "2023-08-26 16:11:47,602 INFO Request is running\n",
      "2023-08-26 16:12:36,196 INFO Request is completed\n",
      "2023-08-26 16:12:36,196 INFO Downloading https://download-0011-clone.copernicus-climate.eu/cache-compute-0011/cache/data7/adaptor.mars.internal-1693062750.82607-8175-15-973b7324-6a85-4fc0-98d7-cb7ee6a6e524.nc to F:\\JuPyterNotebook\\data\\raw_data\\ERA5_DATA\\GB_ERA5_DATA\\era5_pressure_level_1999_01_850.nc (1.7M)\n",
      "2023-08-26 16:12:36,719 INFO Download rate 3.3M/s                                                                      \n",
      "2023-08-26 16:12:36,830 INFO Welcome to the CDS\n",
      "2023-08-26 16:12:36,845 INFO Sending request to https://cds.climate.copernicus.eu/api/v2/resources/reanalysis-era5-pressure-levels\n",
      "2023-08-26 16:12:36,917 INFO Request is queued\n"
     ]
    },
    {
     "name": "stdout",
     "output_type": "stream",
     "text": [
      "era5_pressure_level_1999_01_850.nc done!\n",
      "Download time: 50.367 s\n",
      "Folder 'F:\\JuPyterNotebook\\data\\raw_data\\ERA5_DATA\\GB_ERA5_DATA' created successfully.\n"
     ]
    },
    {
     "name": "stderr",
     "output_type": "stream",
     "text": [
      "2023-08-26 16:12:37,961 INFO Request is running\n",
      "2023-08-26 16:13:26,507 INFO Request is completed\n",
      "2023-08-26 16:13:26,507 INFO Downloading https://download-0006-clone.copernicus-climate.eu/cache-compute-0006/cache/data9/adaptor.mars.internal-1693062791.3438756-16794-9-c79d1f29-6b2e-403c-a016-121d1ff6a66b.nc to F:\\JuPyterNotebook\\data\\raw_data\\ERA5_DATA\\GB_ERA5_DATA\\era5_pressure_level_1999_02_850.nc (1.6M)\n",
      "2023-08-26 16:13:27,016 INFO Download rate 3.1M/s                                                                      \n",
      "2023-08-26 16:13:27,102 INFO Welcome to the CDS\n",
      "2023-08-26 16:13:27,102 INFO Sending request to https://cds.climate.copernicus.eu/api/v2/resources/reanalysis-era5-pressure-levels\n"
     ]
    },
    {
     "name": "stdout",
     "output_type": "stream",
     "text": [
      "era5_pressure_level_1999_02_850.nc done!\n",
      "Download time: 50.269 s\n",
      "Folder 'F:\\JuPyterNotebook\\data\\raw_data\\ERA5_DATA\\GB_ERA5_DATA' created successfully.\n"
     ]
    },
    {
     "name": "stderr",
     "output_type": "stream",
     "text": [
      "2023-08-26 16:13:27,472 INFO Request is queued\n",
      "2023-08-26 16:13:28,508 INFO Request is running\n",
      "2023-08-26 16:14:17,231 INFO Request is completed\n",
      "2023-08-26 16:14:17,246 INFO Downloading https://download-0021.copernicus-climate.eu/cache-compute-0021/cache/data5/adaptor.mars.internal-1693062844.1009881-5131-17-6e06b0c6-60cb-465e-8cf5-e6e670b32a66.nc to F:\\JuPyterNotebook\\data\\raw_data\\ERA5_DATA\\GB_ERA5_DATA\\era5_pressure_level_1999_03_850.nc (1.7M)\n",
      "2023-08-26 16:14:17,912 INFO Download rate 2.6M/s                                                                      \n",
      "2023-08-26 16:14:17,995 INFO Welcome to the CDS\n",
      "2023-08-26 16:14:17,995 INFO Sending request to https://cds.climate.copernicus.eu/api/v2/resources/reanalysis-era5-pressure-levels\n",
      "2023-08-26 16:14:18,067 INFO Request is queued\n"
     ]
    },
    {
     "name": "stdout",
     "output_type": "stream",
     "text": [
      "era5_pressure_level_1999_03_850.nc done!\n",
      "Download time: 50.881 s\n",
      "Folder 'F:\\JuPyterNotebook\\data\\raw_data\\ERA5_DATA\\GB_ERA5_DATA' created successfully.\n"
     ]
    },
    {
     "name": "stderr",
     "output_type": "stream",
     "text": [
      "2023-08-26 16:14:19,110 INFO Request is running\n",
      "2023-08-26 16:15:07,644 INFO Request is completed\n",
      "2023-08-26 16:15:07,660 INFO Downloading https://download-0004-clone.copernicus-climate.eu/cache-compute-0004/cache/data8/adaptor.mars.internal-1693062896.2332473-3667-5-7a34a585-aa05-44ca-b7fd-95a206432889.nc to F:\\JuPyterNotebook\\data\\raw_data\\ERA5_DATA\\GB_ERA5_DATA\\era5_pressure_level_1999_04_850.nc (1.7M)\n",
      "2023-08-26 16:15:08,300 INFO Download rate 2.6M/s                                                                      \n",
      "2023-08-26 16:15:08,376 INFO Welcome to the CDS\n",
      "2023-08-26 16:15:08,376 INFO Sending request to https://cds.climate.copernicus.eu/api/v2/resources/reanalysis-era5-pressure-levels\n",
      "2023-08-26 16:15:08,443 INFO Request is queued\n"
     ]
    },
    {
     "name": "stdout",
     "output_type": "stream",
     "text": [
      "era5_pressure_level_1999_04_850.nc done!\n",
      "Download time: 50.396 s\n",
      "Folder 'F:\\JuPyterNotebook\\data\\raw_data\\ERA5_DATA\\GB_ERA5_DATA' created successfully.\n"
     ]
    },
    {
     "name": "stderr",
     "output_type": "stream",
     "text": [
      "2023-08-26 16:15:09,488 INFO Request is running\n",
      "2023-08-26 16:15:21,837 INFO Request is completed\n",
      "2023-08-26 16:15:21,837 INFO Downloading https://download-0015-clone.copernicus-climate.eu/cache-compute-0015/cache/data3/adaptor.mars.internal-1693062919.2606978-23333-10-8beda9df-494c-43d3-9b1c-095d30148342.nc to F:\\JuPyterNotebook\\data\\raw_data\\ERA5_DATA\\GB_ERA5_DATA\\era5_pressure_level_1999_05_850.nc (1.7M)\n",
      "2023-08-26 16:15:22,330 INFO Download rate 3.5M/s                                                                      \n",
      "2023-08-26 16:15:22,411 INFO Welcome to the CDS\n",
      "2023-08-26 16:15:22,411 INFO Sending request to https://cds.climate.copernicus.eu/api/v2/resources/reanalysis-era5-pressure-levels\n",
      "2023-08-26 16:15:22,518 INFO Request is queued\n"
     ]
    },
    {
     "name": "stdout",
     "output_type": "stream",
     "text": [
      "era5_pressure_level_1999_05_850.nc done!\n",
      "Download time: 14.034 s\n",
      "Folder 'F:\\JuPyterNotebook\\data\\raw_data\\ERA5_DATA\\GB_ERA5_DATA' created successfully.\n"
     ]
    },
    {
     "name": "stderr",
     "output_type": "stream",
     "text": [
      "2023-08-26 16:15:23,560 INFO Request is running\n",
      "2023-08-26 16:16:12,102 INFO Request is completed\n",
      "2023-08-26 16:16:12,102 INFO Downloading https://download-0014-clone.copernicus-climate.eu/cache-compute-0014/cache/data6/adaptor.mars.internal-1693062960.466109-31358-12-b34bf9cb-4309-4bd7-9aa9-607e8c6ec108.nc to F:\\JuPyterNotebook\\data\\raw_data\\ERA5_DATA\\GB_ERA5_DATA\\era5_pressure_level_1999_06_850.nc (1.7M)\n",
      "2023-08-26 16:16:12,566 INFO Download rate 3.6M/s                                                                      \n",
      "2023-08-26 16:16:12,652 INFO Welcome to the CDS\n",
      "2023-08-26 16:16:12,652 INFO Sending request to https://cds.climate.copernicus.eu/api/v2/resources/reanalysis-era5-pressure-levels\n",
      "2023-08-26 16:16:12,757 INFO Request is queued\n"
     ]
    },
    {
     "name": "stdout",
     "output_type": "stream",
     "text": [
      "era5_pressure_level_1999_06_850.nc done!\n",
      "Download time: 50.227 s\n",
      "Folder 'F:\\JuPyterNotebook\\data\\raw_data\\ERA5_DATA\\GB_ERA5_DATA' created successfully.\n"
     ]
    },
    {
     "name": "stderr",
     "output_type": "stream",
     "text": [
      "2023-08-26 16:16:13,805 INFO Request is running\n",
      "2023-08-26 16:17:02,355 INFO Request is completed\n",
      "2023-08-26 16:17:02,371 INFO Downloading https://download-0008-clone.copernicus-climate.eu/cache-compute-0008/cache/data5/adaptor.mars.internal-1693063011.378465-23768-3-d2bc09b3-82e7-4267-8750-375e29c1b7fe.nc to F:\\JuPyterNotebook\\data\\raw_data\\ERA5_DATA\\GB_ERA5_DATA\\era5_pressure_level_1999_07_850.nc (1.7M)\n",
      "2023-08-26 16:17:02,861 INFO Download rate 3.5M/s                                                                      \n",
      "2023-08-26 16:17:02,951 INFO Welcome to the CDS\n",
      "2023-08-26 16:17:02,951 INFO Sending request to https://cds.climate.copernicus.eu/api/v2/resources/reanalysis-era5-pressure-levels\n",
      "2023-08-26 16:17:03,041 INFO Request is queued\n"
     ]
    },
    {
     "name": "stdout",
     "output_type": "stream",
     "text": [
      "era5_pressure_level_1999_07_850.nc done!\n",
      "Download time: 50.299 s\n",
      "Folder 'F:\\JuPyterNotebook\\data\\raw_data\\ERA5_DATA\\GB_ERA5_DATA' created successfully.\n"
     ]
    },
    {
     "name": "stderr",
     "output_type": "stream",
     "text": [
      "2023-08-26 16:17:04,076 INFO Request is running\n",
      "2023-08-26 16:17:52,636 INFO Request is completed\n",
      "2023-08-26 16:17:52,652 INFO Downloading https://download-0016.copernicus-climate.eu/cache-compute-0016/cache/data2/adaptor.mars.internal-1693063060.7063355-21100-3-5e04c4d6-a025-4d1a-964b-d9deac09a9ca.nc to F:\\JuPyterNotebook\\data\\raw_data\\ERA5_DATA\\GB_ERA5_DATA\\era5_pressure_level_1999_08_850.nc (1.7M)\n",
      "2023-08-26 16:17:53,127 INFO Download rate 3.7M/s                                                                      \n",
      "2023-08-26 16:17:53,218 INFO Welcome to the CDS\n",
      "2023-08-26 16:17:53,218 INFO Sending request to https://cds.climate.copernicus.eu/api/v2/resources/reanalysis-era5-pressure-levels\n",
      "2023-08-26 16:17:53,322 INFO Request is queued\n"
     ]
    },
    {
     "name": "stdout",
     "output_type": "stream",
     "text": [
      "era5_pressure_level_1999_08_850.nc done!\n",
      "Download time: 50.267 s\n",
      "Folder 'F:\\JuPyterNotebook\\data\\raw_data\\ERA5_DATA\\GB_ERA5_DATA' created successfully.\n"
     ]
    },
    {
     "name": "stderr",
     "output_type": "stream",
     "text": [
      "2023-08-26 16:17:54,364 INFO Request is running\n",
      "2023-08-26 16:18:42,940 INFO Request is completed\n",
      "2023-08-26 16:18:42,940 INFO Downloading https://download-0016.copernicus-climate.eu/cache-compute-0016/cache/data7/adaptor.mars.internal-1693063112.4985962-26559-8-7a66c5d9-d86e-439e-8b47-cce3503cb66c.nc to F:\\JuPyterNotebook\\data\\raw_data\\ERA5_DATA\\GB_ERA5_DATA\\era5_pressure_level_1999_09_850.nc (1.7M)\n",
      "2023-08-26 16:18:43,305 INFO Download rate 4.6M/s                                                                      \n",
      "2023-08-26 16:18:43,382 INFO Welcome to the CDS\n",
      "2023-08-26 16:18:43,382 INFO Sending request to https://cds.climate.copernicus.eu/api/v2/resources/reanalysis-era5-pressure-levels\n",
      "2023-08-26 16:18:43,466 INFO Request is queued\n"
     ]
    },
    {
     "name": "stdout",
     "output_type": "stream",
     "text": [
      "era5_pressure_level_1999_09_850.nc done!\n",
      "Download time: 50.164 s\n",
      "Folder 'F:\\JuPyterNotebook\\data\\raw_data\\ERA5_DATA\\GB_ERA5_DATA' created successfully.\n"
     ]
    },
    {
     "name": "stderr",
     "output_type": "stream",
     "text": [
      "2023-08-26 16:18:44,502 INFO Request is running\n",
      "2023-08-26 16:19:04,527 INFO Request is completed\n",
      "2023-08-26 16:19:04,527 INFO Downloading https://download-0019.copernicus-climate.eu/cache-compute-0019/cache/data9/adaptor.mars.internal-1693063135.8292117-22008-14-26d54f21-8529-4d9c-b201-7c0fd8c47a89.nc to F:\\JuPyterNotebook\\data\\raw_data\\ERA5_DATA\\GB_ERA5_DATA\\era5_pressure_level_1999_10_850.nc (1.7M)\n",
      "2023-08-26 16:19:05,044 INFO Download rate 3.4M/s                                                                      \n",
      "2023-08-26 16:19:05,129 INFO Welcome to the CDS\n",
      "2023-08-26 16:19:05,131 INFO Sending request to https://cds.climate.copernicus.eu/api/v2/resources/reanalysis-era5-pressure-levels\n",
      "2023-08-26 16:19:05,191 INFO Request is queued\n"
     ]
    },
    {
     "name": "stdout",
     "output_type": "stream",
     "text": [
      "era5_pressure_level_1999_10_850.nc done!\n",
      "Download time: 21.741 s\n",
      "Folder 'F:\\JuPyterNotebook\\data\\raw_data\\ERA5_DATA\\GB_ERA5_DATA' created successfully.\n"
     ]
    },
    {
     "name": "stderr",
     "output_type": "stream",
     "text": [
      "2023-08-26 16:19:06,241 INFO Request is running\n",
      "2023-08-26 16:19:54,786 INFO Request is completed\n",
      "2023-08-26 16:19:54,786 INFO Downloading https://download-0021.copernicus-climate.eu/cache-compute-0021/cache/data8/adaptor.mars.internal-1693063182.1048613-15428-10-f5e9b2bd-73da-459d-9868-df78209fee18.nc to F:\\JuPyterNotebook\\data\\raw_data\\ERA5_DATA\\GB_ERA5_DATA\\era5_pressure_level_1999_11_850.nc (1.7M)\n",
      "2023-08-26 16:19:55,313 INFO Download rate 3.2M/s                                                                      \n",
      "2023-08-26 16:19:55,399 INFO Welcome to the CDS\n",
      "2023-08-26 16:19:55,399 INFO Sending request to https://cds.climate.copernicus.eu/api/v2/resources/reanalysis-era5-pressure-levels\n",
      "2023-08-26 16:19:55,455 INFO Request is queued\n"
     ]
    },
    {
     "name": "stdout",
     "output_type": "stream",
     "text": [
      "era5_pressure_level_1999_11_850.nc done!\n",
      "Download time: 50.260 s\n",
      "Folder 'F:\\JuPyterNotebook\\data\\raw_data\\ERA5_DATA\\GB_ERA5_DATA' created successfully.\n"
     ]
    },
    {
     "name": "stderr",
     "output_type": "stream",
     "text": [
      "2023-08-26 16:19:56,488 INFO Request is running\n",
      "2023-08-26 16:20:45,044 INFO Request is completed\n",
      "2023-08-26 16:20:45,044 INFO Downloading https://download-0008-clone.copernicus-climate.eu/cache-compute-0008/cache/data2/adaptor.mars.internal-1693063233.698734-13562-15-baaefeea-dc05-48f3-802b-4e87a3cf1698.nc to F:\\JuPyterNotebook\\data\\raw_data\\ERA5_DATA\\GB_ERA5_DATA\\era5_pressure_level_1999_12_850.nc (1.7M)\n",
      "2023-08-26 16:20:45,557 INFO Download rate 3.5M/s                                                                      \n",
      "2023-08-26 16:20:45,641 INFO Welcome to the CDS\n",
      "2023-08-26 16:20:45,641 INFO Sending request to https://cds.climate.copernicus.eu/api/v2/resources/reanalysis-era5-pressure-levels\n",
      "2023-08-26 16:20:45,743 INFO Request is queued\n"
     ]
    },
    {
     "name": "stdout",
     "output_type": "stream",
     "text": [
      "era5_pressure_level_1999_12_850.nc done!\n",
      "Download time: 50.240 s\n",
      "Folder 'F:\\JuPyterNotebook\\data\\raw_data\\ERA5_DATA\\GB_ERA5_DATA' created successfully.\n"
     ]
    },
    {
     "name": "stderr",
     "output_type": "stream",
     "text": [
      "2023-08-26 16:20:46,917 INFO Request is running\n",
      "2023-08-26 16:21:35,467 INFO Request is completed\n",
      "2023-08-26 16:21:35,467 INFO Downloading https://download-0004-clone.copernicus-climate.eu/cache-compute-0004/cache/data3/adaptor.mars.internal-1693063285.2960489-4672-6-5ef95b66-5613-487f-8203-f069d5955de5.nc to F:\\JuPyterNotebook\\data\\raw_data\\ERA5_DATA\\GB_ERA5_DATA\\era5_pressure_level_2000_01_850.nc (1.7M)\n",
      "2023-08-26 16:21:36,519 INFO Download rate 1.7M/s                                                                      \n",
      "2023-08-26 16:21:36,605 INFO Welcome to the CDS\n",
      "2023-08-26 16:21:36,605 INFO Sending request to https://cds.climate.copernicus.eu/api/v2/resources/reanalysis-era5-pressure-levels\n",
      "2023-08-26 16:21:36,675 INFO Request is queued\n"
     ]
    },
    {
     "name": "stdout",
     "output_type": "stream",
     "text": [
      "era5_pressure_level_2000_01_850.nc done!\n",
      "Download time: 50.963 s\n",
      "Folder 'F:\\JuPyterNotebook\\data\\raw_data\\ERA5_DATA\\GB_ERA5_DATA' created successfully.\n"
     ]
    },
    {
     "name": "stderr",
     "output_type": "stream",
     "text": [
      "2023-08-26 16:21:37,720 INFO Request is running\n",
      "2023-08-26 16:22:26,251 INFO Request is completed\n",
      "2023-08-26 16:22:26,251 INFO Downloading https://download-0011-clone.copernicus-climate.eu/cache-compute-0011/cache/data5/adaptor.mars.internal-1693063333.0279179-10186-15-625373b8-b973-4a96-8685-8bd4b838e6c2.nc to F:\\JuPyterNotebook\\data\\raw_data\\ERA5_DATA\\GB_ERA5_DATA\\era5_pressure_level_2000_02_850.nc (1.6M)\n",
      "2023-08-26 16:22:26,704 INFO Download rate 3.6M/s                                                                      \n",
      "2023-08-26 16:22:26,810 INFO Welcome to the CDS\n",
      "2023-08-26 16:22:26,810 INFO Sending request to https://cds.climate.copernicus.eu/api/v2/resources/reanalysis-era5-pressure-levels\n",
      "2023-08-26 16:22:26,911 INFO Request is queued\n"
     ]
    },
    {
     "name": "stdout",
     "output_type": "stream",
     "text": [
      "era5_pressure_level_2000_02_850.nc done!\n",
      "Download time: 50.189 s\n",
      "Folder 'F:\\JuPyterNotebook\\data\\raw_data\\ERA5_DATA\\GB_ERA5_DATA' created successfully.\n"
     ]
    },
    {
     "name": "stderr",
     "output_type": "stream",
     "text": [
      "2023-08-26 16:22:27,957 INFO Request is running\n",
      "2023-08-26 16:23:16,482 INFO Request is completed\n",
      "2023-08-26 16:23:16,498 INFO Downloading https://download-0016.copernicus-climate.eu/cache-compute-0016/cache/data1/adaptor.mars.internal-1693063387.0389235-16532-11-558f87ee-7806-4226-9a11-84249eabd8de.nc to F:\\JuPyterNotebook\\data\\raw_data\\ERA5_DATA\\GB_ERA5_DATA\\era5_pressure_level_2000_03_850.nc (1.7M)\n",
      "2023-08-26 16:23:17,021 INFO Download rate 3.3M/s                                                                      \n",
      "2023-08-26 16:23:17,106 INFO Welcome to the CDS\n",
      "2023-08-26 16:23:17,106 INFO Sending request to https://cds.climate.copernicus.eu/api/v2/resources/reanalysis-era5-pressure-levels\n",
      "2023-08-26 16:23:17,156 INFO Request is queued\n"
     ]
    },
    {
     "name": "stdout",
     "output_type": "stream",
     "text": [
      "era5_pressure_level_2000_03_850.nc done!\n",
      "Download time: 50.314 s\n",
      "Folder 'F:\\JuPyterNotebook\\data\\raw_data\\ERA5_DATA\\GB_ERA5_DATA' created successfully.\n"
     ]
    },
    {
     "name": "stderr",
     "output_type": "stream",
     "text": [
      "2023-08-26 16:23:18,215 INFO Request is running\n",
      "2023-08-26 16:24:06,788 INFO Request is completed\n",
      "2023-08-26 16:24:06,788 INFO Downloading https://download-0013-clone.copernicus-climate.eu/cache-compute-0013/cache/data8/adaptor.mars.internal-1693063441.8097277-20589-16-31c64c7b-8e17-46bd-8589-76b4dd0ac57a.nc to F:\\JuPyterNotebook\\data\\raw_data\\ERA5_DATA\\GB_ERA5_DATA\\era5_pressure_level_2000_04_850.nc (1.7M)\n",
      "2023-08-26 16:24:07,254 INFO Download rate 3.6M/s                                                                      \n",
      "2023-08-26 16:24:07,334 INFO Welcome to the CDS\n",
      "2023-08-26 16:24:07,334 INFO Sending request to https://cds.climate.copernicus.eu/api/v2/resources/reanalysis-era5-pressure-levels\n",
      "2023-08-26 16:24:07,390 INFO Request is queued\n"
     ]
    },
    {
     "name": "stdout",
     "output_type": "stream",
     "text": [
      "era5_pressure_level_2000_04_850.nc done!\n",
      "Download time: 50.243 s\n",
      "Folder 'F:\\JuPyterNotebook\\data\\raw_data\\ERA5_DATA\\GB_ERA5_DATA' created successfully.\n"
     ]
    },
    {
     "name": "stderr",
     "output_type": "stream",
     "text": [
      "2023-08-26 16:24:08,422 INFO Request is running\n",
      "2023-08-26 16:24:57,039 INFO Request is completed\n",
      "2023-08-26 16:24:57,039 INFO Downloading https://download-0000-clone.copernicus-climate.eu/cache-compute-0000/cache/data0/adaptor.mars.internal-1693063489.4476485-3661-17-1aa23769-f51f-4818-973d-3e6938c50c42.nc to F:\\JuPyterNotebook\\data\\raw_data\\ERA5_DATA\\GB_ERA5_DATA\\era5_pressure_level_2000_05_850.nc (1.7M)\n",
      "2023-08-26 16:24:57,540 INFO Download rate 3.6M/s                                                                      \n",
      "2023-08-26 16:24:57,628 INFO Welcome to the CDS\n",
      "2023-08-26 16:24:57,628 INFO Sending request to https://cds.climate.copernicus.eu/api/v2/resources/reanalysis-era5-pressure-levels\n",
      "2023-08-26 16:24:57,703 INFO Request is queued\n"
     ]
    },
    {
     "name": "stdout",
     "output_type": "stream",
     "text": [
      "era5_pressure_level_2000_05_850.nc done!\n",
      "Download time: 50.279 s\n",
      "Folder 'F:\\JuPyterNotebook\\data\\raw_data\\ERA5_DATA\\GB_ERA5_DATA' created successfully.\n"
     ]
    },
    {
     "name": "stderr",
     "output_type": "stream",
     "text": [
      "2023-08-26 16:24:58,754 INFO Request is running\n",
      "2023-08-26 16:25:47,371 INFO Request is completed\n",
      "2023-08-26 16:25:47,371 INFO Downloading https://download-0003-clone.copernicus-climate.eu/cache-compute-0003/cache/data3/adaptor.mars.internal-1693063538.714427-31392-8-697bfe76-63bf-4dd0-b813-5b6cb64dc2b2.nc to F:\\JuPyterNotebook\\data\\raw_data\\ERA5_DATA\\GB_ERA5_DATA\\era5_pressure_level_2000_06_850.nc (1.7M)\n",
      "2023-08-26 16:25:47,868 INFO Download rate 3.4M/s                                                                      \n",
      "2023-08-26 16:25:47,963 INFO Welcome to the CDS\n",
      "2023-08-26 16:25:47,963 INFO Sending request to https://cds.climate.copernicus.eu/api/v2/resources/reanalysis-era5-pressure-levels\n",
      "2023-08-26 16:25:48,036 INFO Request is queued\n"
     ]
    },
    {
     "name": "stdout",
     "output_type": "stream",
     "text": [
      "era5_pressure_level_2000_06_850.nc done!\n",
      "Download time: 50.333 s\n",
      "Folder 'F:\\JuPyterNotebook\\data\\raw_data\\ERA5_DATA\\GB_ERA5_DATA' created successfully.\n"
     ]
    },
    {
     "name": "stderr",
     "output_type": "stream",
     "text": [
      "2023-08-26 16:25:49,071 INFO Request is running\n",
      "2023-08-26 16:26:37,603 INFO Request is completed\n",
      "2023-08-26 16:26:37,603 INFO Downloading https://download-0016.copernicus-climate.eu/cache-compute-0016/cache/data7/adaptor.mars.internal-1693063593.6493936-30070-6-ddc1d755-5141-4ad2-a405-8de8b62b4fe9.nc to F:\\JuPyterNotebook\\data\\raw_data\\ERA5_DATA\\GB_ERA5_DATA\\era5_pressure_level_2000_07_850.nc (1.7M)\n",
      "2023-08-26 16:26:38,139 INFO Download rate 3.2M/s                                                                      \n",
      "2023-08-26 16:26:38,219 INFO Welcome to the CDS\n",
      "2023-08-26 16:26:38,219 INFO Sending request to https://cds.climate.copernicus.eu/api/v2/resources/reanalysis-era5-pressure-levels\n",
      "2023-08-26 16:26:38,279 INFO Request is queued\n"
     ]
    },
    {
     "name": "stdout",
     "output_type": "stream",
     "text": [
      "era5_pressure_level_2000_07_850.nc done!\n",
      "Download time: 50.247 s\n",
      "Folder 'F:\\JuPyterNotebook\\data\\raw_data\\ERA5_DATA\\GB_ERA5_DATA' created successfully.\n"
     ]
    },
    {
     "name": "stderr",
     "output_type": "stream",
     "text": [
      "2023-08-26 16:26:39,321 INFO Request is running\n",
      "2023-08-26 16:27:27,872 INFO Request is completed\n",
      "2023-08-26 16:27:27,872 INFO Downloading https://download-0021.copernicus-climate.eu/cache-compute-0021/cache/data8/adaptor.mars.internal-1693063642.8867068-16124-10-d117c78d-ce93-43f5-b785-cc414ea74692.nc to F:\\JuPyterNotebook\\data\\raw_data\\ERA5_DATA\\GB_ERA5_DATA\\era5_pressure_level_2000_08_850.nc (1.7M)\n",
      "2023-08-26 16:27:28,367 INFO Download rate 3.5M/s                                                                      \n",
      "2023-08-26 16:27:28,451 INFO Welcome to the CDS\n",
      "2023-08-26 16:27:28,451 INFO Sending request to https://cds.climate.copernicus.eu/api/v2/resources/reanalysis-era5-pressure-levels\n",
      "2023-08-26 16:27:28,507 INFO Request is queued\n"
     ]
    },
    {
     "name": "stdout",
     "output_type": "stream",
     "text": [
      "era5_pressure_level_2000_08_850.nc done!\n",
      "Download time: 50.226 s\n",
      "Folder 'F:\\JuPyterNotebook\\data\\raw_data\\ERA5_DATA\\GB_ERA5_DATA' created successfully.\n"
     ]
    },
    {
     "name": "stderr",
     "output_type": "stream",
     "text": [
      "2023-08-26 16:27:29,568 INFO Request is running\n",
      "2023-08-26 16:28:18,099 INFO Request is completed\n",
      "2023-08-26 16:28:18,099 INFO Downloading https://download-0017.copernicus-climate.eu/cache-compute-0017/cache/data7/adaptor.mars.internal-1693063686.6821132-27555-10-30adfa73-c00c-452d-a31a-8ec246352c6e.nc to F:\\JuPyterNotebook\\data\\raw_data\\ERA5_DATA\\GB_ERA5_DATA\\era5_pressure_level_2000_09_850.nc (1.7M)\n",
      "2023-08-26 16:28:18,584 INFO Download rate 3.6M/s                                                                      \n",
      "2023-08-26 16:28:18,679 INFO Welcome to the CDS\n",
      "2023-08-26 16:28:18,679 INFO Sending request to https://cds.climate.copernicus.eu/api/v2/resources/reanalysis-era5-pressure-levels\n",
      "2023-08-26 16:28:18,722 INFO Request is queued\n"
     ]
    },
    {
     "name": "stdout",
     "output_type": "stream",
     "text": [
      "era5_pressure_level_2000_09_850.nc done!\n",
      "Download time: 50.211 s\n",
      "Folder 'F:\\JuPyterNotebook\\data\\raw_data\\ERA5_DATA\\GB_ERA5_DATA' created successfully.\n"
     ]
    },
    {
     "name": "stderr",
     "output_type": "stream",
     "text": [
      "2023-08-26 16:28:19,782 INFO Request is running\n",
      "2023-08-26 16:29:08,454 INFO Request is completed\n",
      "2023-08-26 16:29:08,454 INFO Downloading https://download-0015-clone.copernicus-climate.eu/cache-compute-0015/cache/data6/adaptor.mars.internal-1693063738.4387574-29207-14-1851c551-f58a-4b71-b53b-5902f2c557c9.nc to F:\\JuPyterNotebook\\data\\raw_data\\ERA5_DATA\\GB_ERA5_DATA\\era5_pressure_level_2000_10_850.nc (1.7M)\n",
      "2023-08-26 16:29:08,968 INFO Download rate 3.4M/s                                                                      \n",
      "2023-08-26 16:29:09,037 INFO Welcome to the CDS\n",
      "2023-08-26 16:29:09,054 INFO Sending request to https://cds.climate.copernicus.eu/api/v2/resources/reanalysis-era5-pressure-levels\n",
      "2023-08-26 16:29:09,107 INFO Request is queued\n"
     ]
    },
    {
     "name": "stdout",
     "output_type": "stream",
     "text": [
      "era5_pressure_level_2000_10_850.nc done!\n",
      "Download time: 50.360 s\n",
      "Folder 'F:\\JuPyterNotebook\\data\\raw_data\\ERA5_DATA\\GB_ERA5_DATA' created successfully.\n"
     ]
    },
    {
     "name": "stderr",
     "output_type": "stream",
     "text": [
      "2023-08-26 16:29:10,157 INFO Request is running\n",
      "2023-08-26 16:29:58,675 INFO Request is completed\n",
      "2023-08-26 16:29:58,675 INFO Downloading https://download-0004-clone.copernicus-climate.eu/cache-compute-0004/cache/data0/adaptor.mars.internal-1693063785.238172-5883-11-4263623a-1661-4042-bd77-a027647007b0.nc to F:\\JuPyterNotebook\\data\\raw_data\\ERA5_DATA\\GB_ERA5_DATA\\era5_pressure_level_2000_11_850.nc (1.7M)\n",
      "2023-08-26 16:29:59,192 INFO Download rate 3.3M/s                                                                      \n",
      "2023-08-26 16:29:59,271 INFO Welcome to the CDS\n",
      "2023-08-26 16:29:59,271 INFO Sending request to https://cds.climate.copernicus.eu/api/v2/resources/reanalysis-era5-pressure-levels\n",
      "2023-08-26 16:29:59,327 INFO Request is queued\n"
     ]
    },
    {
     "name": "stdout",
     "output_type": "stream",
     "text": [
      "era5_pressure_level_2000_11_850.nc done!\n",
      "Download time: 50.232 s\n",
      "Folder 'F:\\JuPyterNotebook\\data\\raw_data\\ERA5_DATA\\GB_ERA5_DATA' created successfully.\n"
     ]
    },
    {
     "name": "stderr",
     "output_type": "stream",
     "text": [
      "2023-08-26 16:30:00,362 INFO Request is running\n",
      "2023-08-26 16:30:48,930 INFO Request is completed\n",
      "2023-08-26 16:30:48,930 INFO Downloading https://download-0019.copernicus-climate.eu/cache-compute-0019/cache/data6/adaptor.mars.internal-1693063837.7698407-773-7-ffcfedc5-014f-42a4-8731-7e0560380e9d.nc to F:\\JuPyterNotebook\\data\\raw_data\\ERA5_DATA\\GB_ERA5_DATA\\era5_pressure_level_2000_12_850.nc (1.7M)\n",
      "2023-08-26 16:30:49,427 INFO Download rate 3.5M/s                                                                      \n",
      "2023-08-26 16:30:49,502 INFO Welcome to the CDS\n",
      "2023-08-26 16:30:49,502 INFO Sending request to https://cds.climate.copernicus.eu/api/v2/resources/reanalysis-era5-pressure-levels\n",
      "2023-08-26 16:30:49,555 INFO Request is queued\n"
     ]
    },
    {
     "name": "stdout",
     "output_type": "stream",
     "text": [
      "era5_pressure_level_2000_12_850.nc done!\n",
      "Download time: 50.229 s\n",
      "Folder 'F:\\JuPyterNotebook\\data\\raw_data\\ERA5_DATA\\GB_ERA5_DATA' created successfully.\n"
     ]
    },
    {
     "name": "stderr",
     "output_type": "stream",
     "text": [
      "2023-08-26 16:30:50,589 INFO Request is running\n",
      "2023-08-26 16:31:39,151 INFO Request is completed\n",
      "2023-08-26 16:31:39,151 INFO Downloading https://download-0014-clone.copernicus-climate.eu/cache-compute-0014/cache/data1/adaptor.mars.internal-1693063891.4658897-15526-1-a36e8083-a164-4703-ada6-bb4023b7e2dd.nc to F:\\JuPyterNotebook\\data\\raw_data\\ERA5_DATA\\GB_ERA5_DATA\\era5_pressure_level_2001_01_850.nc (1.7M)\n",
      "2023-08-26 16:31:39,685 INFO Download rate 3.2M/s                                                                      \n",
      "2023-08-26 16:31:39,761 INFO Welcome to the CDS\n",
      "2023-08-26 16:31:39,761 INFO Sending request to https://cds.climate.copernicus.eu/api/v2/resources/reanalysis-era5-pressure-levels\n"
     ]
    },
    {
     "name": "stdout",
     "output_type": "stream",
     "text": [
      "era5_pressure_level_2001_01_850.nc done!\n",
      "Download time: 50.247 s\n",
      "Folder 'F:\\JuPyterNotebook\\data\\raw_data\\ERA5_DATA\\GB_ERA5_DATA' created successfully.\n"
     ]
    },
    {
     "name": "stderr",
     "output_type": "stream",
     "text": [
      "2023-08-26 16:31:39,928 INFO Request is queued\n",
      "2023-08-26 16:31:40,964 INFO Request is running\n",
      "2023-08-26 16:32:29,513 INFO Request is completed\n",
      "2023-08-26 16:32:29,513 INFO Downloading https://download-0012-clone.copernicus-climate.eu/cache-compute-0012/cache/data6/adaptor.mars.internal-1693063934.779592-23099-1-f6fdfe3f-d7d6-43aa-9ed0-fc16de1f0db2.nc to F:\\JuPyterNotebook\\data\\raw_data\\ERA5_DATA\\GB_ERA5_DATA\\era5_pressure_level_2001_02_850.nc (1.6M)\n",
      "2023-08-26 16:32:29,990 INFO Download rate 3.3M/s                                                                      \n",
      "2023-08-26 16:32:30,065 INFO Welcome to the CDS\n",
      "2023-08-26 16:32:30,065 INFO Sending request to https://cds.climate.copernicus.eu/api/v2/resources/reanalysis-era5-pressure-levels\n",
      "2023-08-26 16:32:30,178 INFO Request is queued\n"
     ]
    },
    {
     "name": "stdout",
     "output_type": "stream",
     "text": [
      "era5_pressure_level_2001_02_850.nc done!\n",
      "Download time: 50.319 s\n",
      "Folder 'F:\\JuPyterNotebook\\data\\raw_data\\ERA5_DATA\\GB_ERA5_DATA' created successfully.\n"
     ]
    },
    {
     "name": "stderr",
     "output_type": "stream",
     "text": [
      "2023-08-26 16:32:31,222 INFO Request is running\n",
      "2023-08-26 16:33:19,747 INFO Request is completed\n",
      "2023-08-26 16:33:19,747 INFO Downloading https://download-0021.copernicus-climate.eu/cache-compute-0021/cache/data4/adaptor.mars.internal-1693063993.1289477-18809-9-788b6e7b-c2a7-4792-b90a-86393f4cafed.nc to F:\\JuPyterNotebook\\data\\raw_data\\ERA5_DATA\\GB_ERA5_DATA\\era5_pressure_level_2001_03_850.nc (1.7M)\n",
      "2023-08-26 16:33:20,292 INFO Download rate 3.2M/s                                                                      \n",
      "2023-08-26 16:33:20,361 INFO Welcome to the CDS\n",
      "2023-08-26 16:33:20,377 INFO Sending request to https://cds.climate.copernicus.eu/api/v2/resources/reanalysis-era5-pressure-levels\n",
      "2023-08-26 16:33:20,488 INFO Request is queued\n"
     ]
    },
    {
     "name": "stdout",
     "output_type": "stream",
     "text": [
      "era5_pressure_level_2001_03_850.nc done!\n",
      "Download time: 50.294 s\n",
      "Folder 'F:\\JuPyterNotebook\\data\\raw_data\\ERA5_DATA\\GB_ERA5_DATA' created successfully.\n"
     ]
    },
    {
     "name": "stderr",
     "output_type": "stream",
     "text": [
      "2023-08-26 16:33:21,532 INFO Request is running\n",
      "2023-08-26 16:34:10,054 INFO Request is completed\n",
      "2023-08-26 16:34:10,054 INFO Downloading https://download-0004-clone.copernicus-climate.eu/cache-compute-0004/cache/data5/adaptor.mars.internal-1693064038.5975282-4641-17-1ecd6bf1-67c3-4e52-9b30-5a9cde57aa95.nc to F:\\JuPyterNotebook\\data\\raw_data\\ERA5_DATA\\GB_ERA5_DATA\\era5_pressure_level_2001_04_850.nc (1.7M)\n",
      "2023-08-26 16:34:10,583 INFO Download rate 3.2M/s                                                                      \n",
      "2023-08-26 16:34:10,672 INFO Welcome to the CDS\n",
      "2023-08-26 16:34:10,672 INFO Sending request to https://cds.climate.copernicus.eu/api/v2/resources/reanalysis-era5-pressure-levels\n",
      "2023-08-26 16:34:10,745 INFO Request is queued\n"
     ]
    },
    {
     "name": "stdout",
     "output_type": "stream",
     "text": [
      "era5_pressure_level_2001_04_850.nc done!\n",
      "Download time: 50.297 s\n",
      "Folder 'F:\\JuPyterNotebook\\data\\raw_data\\ERA5_DATA\\GB_ERA5_DATA' created successfully.\n"
     ]
    },
    {
     "name": "stderr",
     "output_type": "stream",
     "text": [
      "2023-08-26 16:34:11,789 INFO Request is running\n",
      "2023-08-26 16:35:00,339 INFO Request is completed\n",
      "2023-08-26 16:35:00,339 INFO Downloading https://download-0015-clone.copernicus-climate.eu/cache-compute-0015/cache/data1/adaptor.mars.internal-1693064088.355826-4294-1-7464a43e-a045-4c17-aeab-d50357bd1a17.nc to F:\\JuPyterNotebook\\data\\raw_data\\ERA5_DATA\\GB_ERA5_DATA\\era5_pressure_level_2001_05_850.nc (1.7M)\n",
      "2023-08-26 16:35:00,887 INFO Download rate 3.2M/s                                                                      \n",
      "2023-08-26 16:35:00,972 INFO Welcome to the CDS\n",
      "2023-08-26 16:35:00,972 INFO Sending request to https://cds.climate.copernicus.eu/api/v2/resources/reanalysis-era5-pressure-levels\n",
      "2023-08-26 16:35:01,036 INFO Request is queued\n"
     ]
    },
    {
     "name": "stdout",
     "output_type": "stream",
     "text": [
      "era5_pressure_level_2001_05_850.nc done!\n",
      "Download time: 50.315 s\n",
      "Folder 'F:\\JuPyterNotebook\\data\\raw_data\\ERA5_DATA\\GB_ERA5_DATA' created successfully.\n"
     ]
    },
    {
     "name": "stderr",
     "output_type": "stream",
     "text": [
      "2023-08-26 16:35:02,095 INFO Request is running\n",
      "2023-08-26 16:35:50,649 INFO Request is completed\n",
      "2023-08-26 16:35:50,649 INFO Downloading https://download-0003-clone.copernicus-climate.eu/cache-compute-0003/cache/data8/adaptor.mars.internal-1693064141.917645-2645-1-733ef3fc-c356-4c99-8b36-85b86cf3139a.nc to F:\\JuPyterNotebook\\data\\raw_data\\ERA5_DATA\\GB_ERA5_DATA\\era5_pressure_level_2001_06_850.nc (1.7M)\n",
      "2023-08-26 16:35:51,195 INFO Download rate 3.2M/s                                                                      \n",
      "2023-08-26 16:35:51,279 INFO Welcome to the CDS\n",
      "2023-08-26 16:35:51,279 INFO Sending request to https://cds.climate.copernicus.eu/api/v2/resources/reanalysis-era5-pressure-levels\n",
      "2023-08-26 16:35:51,321 INFO Request is queued\n"
     ]
    },
    {
     "name": "stdout",
     "output_type": "stream",
     "text": [
      "era5_pressure_level_2001_06_850.nc done!\n",
      "Download time: 50.291 s\n",
      "Folder 'F:\\JuPyterNotebook\\data\\raw_data\\ERA5_DATA\\GB_ERA5_DATA' created successfully.\n"
     ]
    },
    {
     "name": "stderr",
     "output_type": "stream",
     "text": [
      "2023-08-26 16:35:52,362 INFO Request is running\n",
      "2023-08-26 16:36:41,127 INFO Request is completed\n",
      "2023-08-26 16:36:41,127 INFO Downloading https://download-0016.copernicus-climate.eu/cache-compute-0016/cache/data7/adaptor.mars.internal-1693064192.7452483-30840-8-df436648-662c-4a79-af66-e42ef2e5e068.nc to F:\\JuPyterNotebook\\data\\raw_data\\ERA5_DATA\\GB_ERA5_DATA\\era5_pressure_level_2001_07_850.nc (1.7M)\n",
      "2023-08-26 16:36:41,619 INFO Download rate 3.5M/s                                                                      \n",
      "2023-08-26 16:36:41,928 INFO Welcome to the CDS\n",
      "2023-08-26 16:36:41,928 INFO Sending request to https://cds.climate.copernicus.eu/api/v2/resources/reanalysis-era5-pressure-levels\n",
      "2023-08-26 16:36:42,065 INFO Request is queued\n"
     ]
    },
    {
     "name": "stdout",
     "output_type": "stream",
     "text": [
      "era5_pressure_level_2001_07_850.nc done!\n",
      "Download time: 50.649 s\n",
      "Folder 'F:\\JuPyterNotebook\\data\\raw_data\\ERA5_DATA\\GB_ERA5_DATA' created successfully.\n"
     ]
    },
    {
     "name": "stderr",
     "output_type": "stream",
     "text": [
      "2023-08-26 16:36:43,119 INFO Request is running\n",
      "2023-08-26 16:37:31,669 INFO Request is completed\n",
      "2023-08-26 16:37:31,684 INFO Downloading https://download-0014-clone.copernicus-climate.eu/cache-compute-0014/cache/data2/adaptor.mars.internal-1693064244.6672652-19018-15-18ff1f2b-4958-4b6d-b3a3-7f27260d1a91.nc to F:\\JuPyterNotebook\\data\\raw_data\\ERA5_DATA\\GB_ERA5_DATA\\era5_pressure_level_2001_08_850.nc (1.7M)\n",
      "2023-08-26 16:37:32,214 INFO Download rate 3.3M/s                                                                      \n",
      "2023-08-26 16:37:32,302 INFO Welcome to the CDS\n",
      "2023-08-26 16:37:32,302 INFO Sending request to https://cds.climate.copernicus.eu/api/v2/resources/reanalysis-era5-pressure-levels\n",
      "2023-08-26 16:37:32,404 INFO Request is queued\n"
     ]
    },
    {
     "name": "stdout",
     "output_type": "stream",
     "text": [
      "era5_pressure_level_2001_08_850.nc done!\n",
      "Download time: 50.374 s\n",
      "Folder 'F:\\JuPyterNotebook\\data\\raw_data\\ERA5_DATA\\GB_ERA5_DATA' created successfully.\n"
     ]
    },
    {
     "name": "stderr",
     "output_type": "stream",
     "text": [
      "2023-08-26 16:37:33,435 INFO Request is running\n",
      "2023-08-26 16:38:22,016 INFO Request is completed\n",
      "2023-08-26 16:38:22,016 INFO Downloading https://download-0011-clone.copernicus-climate.eu/cache-compute-0011/cache/data4/adaptor.mars.internal-1693064289.0311246-18040-5-b975b7ef-176a-4bb2-856d-67f60737a838.nc to F:\\JuPyterNotebook\\data\\raw_data\\ERA5_DATA\\GB_ERA5_DATA\\era5_pressure_level_2001_09_850.nc (1.7M)\n",
      "2023-08-26 16:38:22,454 INFO Download rate 3.8M/s                                                                      \n",
      "2023-08-26 16:38:22,548 INFO Welcome to the CDS\n",
      "2023-08-26 16:38:22,548 INFO Sending request to https://cds.climate.copernicus.eu/api/v2/resources/reanalysis-era5-pressure-levels\n",
      "2023-08-26 16:38:22,644 INFO Request is queued\n"
     ]
    },
    {
     "name": "stdout",
     "output_type": "stream",
     "text": [
      "era5_pressure_level_2001_09_850.nc done!\n",
      "Download time: 50.245 s\n",
      "Folder 'F:\\JuPyterNotebook\\data\\raw_data\\ERA5_DATA\\GB_ERA5_DATA' created successfully.\n"
     ]
    },
    {
     "name": "stderr",
     "output_type": "stream",
     "text": [
      "2023-08-26 16:38:23,692 INFO Request is running\n",
      "2023-08-26 16:39:12,311 INFO Request is completed\n",
      "2023-08-26 16:39:12,311 INFO Downloading https://download-0020.copernicus-climate.eu/cache-compute-0020/cache/data7/adaptor.mars.internal-1693064341.797658-27385-5-1e3ce43e-4666-448b-bf52-c7b256ba699f.nc to F:\\JuPyterNotebook\\data\\raw_data\\ERA5_DATA\\GB_ERA5_DATA\\era5_pressure_level_2001_10_850.nc (1.7M)\n",
      "2023-08-26 16:39:12,938 INFO Download rate 2.8M/s                                                                      \n",
      "2023-08-26 16:39:13,022 INFO Welcome to the CDS\n",
      "2023-08-26 16:39:13,022 INFO Sending request to https://cds.climate.copernicus.eu/api/v2/resources/reanalysis-era5-pressure-levels\n",
      "2023-08-26 16:39:13,090 INFO Request is queued\n"
     ]
    },
    {
     "name": "stdout",
     "output_type": "stream",
     "text": [
      "era5_pressure_level_2001_10_850.nc done!\n",
      "Download time: 50.475 s\n",
      "Folder 'F:\\JuPyterNotebook\\data\\raw_data\\ERA5_DATA\\GB_ERA5_DATA' created successfully.\n"
     ]
    },
    {
     "name": "stderr",
     "output_type": "stream",
     "text": [
      "2023-08-26 16:39:14,142 INFO Request is running\n",
      "2023-08-26 16:40:02,754 INFO Request is completed\n",
      "2023-08-26 16:40:02,754 INFO Downloading https://download-0014-clone.copernicus-climate.eu/cache-compute-0014/cache/data1/adaptor.mars.internal-1693064398.8573751-15093-10-bed29e7c-a2b7-4339-aa1b-f29b74058ed2.nc to F:\\JuPyterNotebook\\data\\raw_data\\ERA5_DATA\\GB_ERA5_DATA\\era5_pressure_level_2001_11_850.nc (1.7M)\n",
      "2023-08-26 16:40:03,251 INFO Download rate 3.4M/s                                                                      \n",
      "2023-08-26 16:40:03,359 INFO Welcome to the CDS\n",
      "2023-08-26 16:40:03,359 INFO Sending request to https://cds.climate.copernicus.eu/api/v2/resources/reanalysis-era5-pressure-levels\n",
      "2023-08-26 16:40:03,446 INFO Request is queued\n"
     ]
    },
    {
     "name": "stdout",
     "output_type": "stream",
     "text": [
      "era5_pressure_level_2001_11_850.nc done!\n",
      "Download time: 50.321 s\n",
      "Folder 'F:\\JuPyterNotebook\\data\\raw_data\\ERA5_DATA\\GB_ERA5_DATA' created successfully.\n"
     ]
    },
    {
     "name": "stderr",
     "output_type": "stream",
     "text": [
      "2023-08-26 16:40:04,491 INFO Request is running\n",
      "2023-08-26 16:40:53,089 INFO Request is completed\n",
      "2023-08-26 16:40:53,089 INFO Downloading https://download-0004-clone.copernicus-climate.eu/cache-compute-0004/cache/data8/adaptor.mars.internal-1693064444.1863215-9600-5-a60952aa-7e6c-448e-99ad-dfeca4292789.nc to F:\\JuPyterNotebook\\data\\raw_data\\ERA5_DATA\\GB_ERA5_DATA\\era5_pressure_level_2001_12_850.nc (1.7M)\n",
      "2023-08-26 16:40:53,624 INFO Download rate 3.3M/s                                                                      \n",
      "2023-08-26 16:40:53,719 INFO Welcome to the CDS\n",
      "2023-08-26 16:40:53,719 INFO Sending request to https://cds.climate.copernicus.eu/api/v2/resources/reanalysis-era5-pressure-levels\n"
     ]
    },
    {
     "name": "stdout",
     "output_type": "stream",
     "text": [
      "era5_pressure_level_2001_12_850.nc done!\n",
      "Download time: 50.360 s\n",
      "Folder 'F:\\JuPyterNotebook\\data\\raw_data\\ERA5_DATA\\GB_ERA5_DATA' created successfully.\n"
     ]
    },
    {
     "name": "stderr",
     "output_type": "stream",
     "text": [
      "2023-08-26 16:40:53,898 INFO Request is queued\n",
      "2023-08-26 16:40:54,943 INFO Request is running\n",
      "2023-08-26 16:41:43,519 INFO Request is completed\n",
      "2023-08-26 16:41:43,519 INFO Downloading https://download-0006-clone.copernicus-climate.eu/cache-compute-0006/cache/data1/adaptor.mars.internal-1693064491.2963312-24492-14-68cf0ce9-f80f-4c1d-a0d9-8ccb9366bc75.nc to F:\\JuPyterNotebook\\data\\raw_data\\ERA5_DATA\\GB_ERA5_DATA\\era5_pressure_level_2002_01_850.nc (1.7M)\n",
      "2023-08-26 16:41:44,093 INFO Download rate 3M/s                                                                        \n",
      "2023-08-26 16:41:44,181 INFO Welcome to the CDS\n",
      "2023-08-26 16:41:44,181 INFO Sending request to https://cds.climate.copernicus.eu/api/v2/resources/reanalysis-era5-pressure-levels\n",
      "2023-08-26 16:41:44,301 INFO Request is queued\n"
     ]
    },
    {
     "name": "stdout",
     "output_type": "stream",
     "text": [
      "era5_pressure_level_2002_01_850.nc done!\n",
      "Download time: 50.462 s\n",
      "Folder 'F:\\JuPyterNotebook\\data\\raw_data\\ERA5_DATA\\GB_ERA5_DATA' created successfully.\n"
     ]
    },
    {
     "name": "stderr",
     "output_type": "stream",
     "text": [
      "2023-08-26 16:41:45,338 INFO Request is running\n",
      "2023-08-26 16:42:33,973 INFO Request is completed\n",
      "2023-08-26 16:42:33,973 INFO Downloading https://download-0005-clone.copernicus-climate.eu/cache-compute-0005/cache/data4/adaptor.mars.internal-1693064540.5201669-20891-17-9a02ce16-db98-49b8-affc-c7a77f0e35ea.nc to F:\\JuPyterNotebook\\data\\raw_data\\ERA5_DATA\\GB_ERA5_DATA\\era5_pressure_level_2002_02_850.nc (1.6M)\n",
      "2023-08-26 16:42:34,561 INFO Download rate 2.7M/s                                                                      \n",
      "2023-08-26 16:42:34,650 INFO Welcome to the CDS\n",
      "2023-08-26 16:42:34,650 INFO Sending request to https://cds.climate.copernicus.eu/api/v2/resources/reanalysis-era5-pressure-levels\n",
      "2023-08-26 16:42:34,686 INFO Request is queued\n"
     ]
    },
    {
     "name": "stdout",
     "output_type": "stream",
     "text": [
      "era5_pressure_level_2002_02_850.nc done!\n",
      "Download time: 50.480 s\n",
      "Folder 'F:\\JuPyterNotebook\\data\\raw_data\\ERA5_DATA\\GB_ERA5_DATA' created successfully.\n"
     ]
    },
    {
     "name": "stderr",
     "output_type": "stream",
     "text": [
      "2023-08-26 16:42:35,736 INFO Request is running\n",
      "2023-08-26 16:43:24,434 INFO Request is completed\n",
      "2023-08-26 16:43:24,434 INFO Downloading https://download-0003-clone.copernicus-climate.eu/cache-compute-0003/cache/data9/adaptor.mars.internal-1693064594.1357603-31819-16-68f42528-e172-4488-be37-4355d9ba8dc9.nc to F:\\JuPyterNotebook\\data\\raw_data\\ERA5_DATA\\GB_ERA5_DATA\\era5_pressure_level_2002_03_850.nc (1.7M)\n",
      "2023-08-26 16:43:24,909 INFO Download rate 3.7M/s                                                                      \n",
      "2023-08-26 16:43:25,001 INFO Welcome to the CDS\n",
      "2023-08-26 16:43:25,001 INFO Sending request to https://cds.climate.copernicus.eu/api/v2/resources/reanalysis-era5-pressure-levels\n",
      "2023-08-26 16:43:25,084 INFO Request is queued\n"
     ]
    },
    {
     "name": "stdout",
     "output_type": "stream",
     "text": [
      "era5_pressure_level_2002_03_850.nc done!\n",
      "Download time: 50.354 s\n",
      "Folder 'F:\\JuPyterNotebook\\data\\raw_data\\ERA5_DATA\\GB_ERA5_DATA' created successfully.\n"
     ]
    },
    {
     "name": "stderr",
     "output_type": "stream",
     "text": [
      "2023-08-26 16:43:26,130 INFO Request is running\n",
      "2023-08-26 16:44:14,839 INFO Request is completed\n",
      "2023-08-26 16:44:14,839 INFO Downloading https://download-0019.copernicus-climate.eu/cache-compute-0019/cache/data4/adaptor.mars.internal-1693064642.7578833-1119-19-9ab991a2-a992-49f5-87c6-92bb464d9385.nc to F:\\JuPyterNotebook\\data\\raw_data\\ERA5_DATA\\GB_ERA5_DATA\\era5_pressure_level_2002_04_850.nc (1.7M)\n",
      "2023-08-26 16:44:15,400 INFO Download rate 3M/s                                                                        \n",
      "2023-08-26 16:44:15,479 INFO Welcome to the CDS\n",
      "2023-08-26 16:44:15,479 INFO Sending request to https://cds.climate.copernicus.eu/api/v2/resources/reanalysis-era5-pressure-levels\n",
      "2023-08-26 16:44:15,577 INFO Request is queued\n"
     ]
    },
    {
     "name": "stdout",
     "output_type": "stream",
     "text": [
      "era5_pressure_level_2002_04_850.nc done!\n",
      "Download time: 50.479 s\n",
      "Folder 'F:\\JuPyterNotebook\\data\\raw_data\\ERA5_DATA\\GB_ERA5_DATA' created successfully.\n"
     ]
    },
    {
     "name": "stderr",
     "output_type": "stream",
     "text": [
      "2023-08-26 16:44:16,612 INFO Request is running\n",
      "2023-08-26 16:45:05,202 INFO Request is completed\n",
      "2023-08-26 16:45:05,202 INFO Downloading https://download-0019.copernicus-climate.eu/cache-compute-0019/cache/data9/adaptor.mars.internal-1693064697.7071567-1179-14-bf7dc228-14ae-4e9c-ad52-45dc0d98f3b6.nc to F:\\JuPyterNotebook\\data\\raw_data\\ERA5_DATA\\GB_ERA5_DATA\\era5_pressure_level_2002_05_850.nc (1.7M)\n",
      "2023-08-26 16:45:05,599 INFO Download rate 4.4M/s                                                                      \n",
      "2023-08-26 16:45:05,675 INFO Welcome to the CDS\n",
      "2023-08-26 16:45:05,691 INFO Sending request to https://cds.climate.copernicus.eu/api/v2/resources/reanalysis-era5-pressure-levels\n",
      "2023-08-26 16:45:05,790 INFO Request is queued\n"
     ]
    },
    {
     "name": "stdout",
     "output_type": "stream",
     "text": [
      "era5_pressure_level_2002_05_850.nc done!\n",
      "Download time: 50.196 s\n",
      "Folder 'F:\\JuPyterNotebook\\data\\raw_data\\ERA5_DATA\\GB_ERA5_DATA' created successfully.\n"
     ]
    },
    {
     "name": "stderr",
     "output_type": "stream",
     "text": [
      "2023-08-26 16:45:06,837 INFO Request is running\n",
      "2023-08-26 16:45:55,448 INFO Request is completed\n",
      "2023-08-26 16:45:55,464 INFO Downloading https://download-0001-clone.copernicus-climate.eu/cache-compute-0001/cache/data8/adaptor.mars.internal-1693064746.0367897-27359-18-bd9993be-4415-47bf-a5d6-85e86fec9072.nc to F:\\JuPyterNotebook\\data\\raw_data\\ERA5_DATA\\GB_ERA5_DATA\\era5_pressure_level_2002_06_850.nc (1.7M)\n",
      "2023-08-26 16:45:55,977 INFO Download rate 3.3M/s                                                                      \n",
      "2023-08-26 16:45:56,067 INFO Welcome to the CDS\n",
      "2023-08-26 16:45:56,067 INFO Sending request to https://cds.climate.copernicus.eu/api/v2/resources/reanalysis-era5-pressure-levels\n",
      "2023-08-26 16:45:56,155 INFO Request is queued\n"
     ]
    },
    {
     "name": "stdout",
     "output_type": "stream",
     "text": [
      "era5_pressure_level_2002_06_850.nc done!\n",
      "Download time: 50.377 s\n",
      "Folder 'F:\\JuPyterNotebook\\data\\raw_data\\ERA5_DATA\\GB_ERA5_DATA' created successfully.\n"
     ]
    },
    {
     "name": "stderr",
     "output_type": "stream",
     "text": [
      "2023-08-26 16:45:57,219 INFO Request is running\n",
      "2023-08-26 16:47:49,964 INFO Request is completed\n",
      "2023-08-26 16:47:49,980 INFO Downloading https://download-0002-clone.copernicus-climate.eu/cache-compute-0002/cache/data5/adaptor.mars.internal-1693064853.167377-8840-13-62438e46-e393-4128-90b9-e34ea2a7ef63.nc to F:\\JuPyterNotebook\\data\\raw_data\\ERA5_DATA\\GB_ERA5_DATA\\era5_pressure_level_2002_07_850.nc (1.7M)\n",
      "2023-08-26 16:47:50,548 INFO Download rate 3.1M/s                                                                      \n",
      "2023-08-26 16:47:50,625 INFO Welcome to the CDS\n",
      "2023-08-26 16:47:50,625 INFO Sending request to https://cds.climate.copernicus.eu/api/v2/resources/reanalysis-era5-pressure-levels\n",
      "2023-08-26 16:47:50,726 INFO Request is queued\n"
     ]
    },
    {
     "name": "stdout",
     "output_type": "stream",
     "text": [
      "era5_pressure_level_2002_07_850.nc done!\n",
      "Download time: 114.574 s\n",
      "Folder 'F:\\JuPyterNotebook\\data\\raw_data\\ERA5_DATA\\GB_ERA5_DATA' created successfully.\n"
     ]
    },
    {
     "name": "stderr",
     "output_type": "stream",
     "text": [
      "2023-08-26 16:47:51,784 INFO Request is running\n",
      "2023-08-26 16:48:40,367 INFO Request is completed\n",
      "2023-08-26 16:48:40,367 INFO Downloading https://download-0007-clone.copernicus-climate.eu/cache-compute-0007/cache/data5/adaptor.mars.internal-1693064915.847474-27390-1-9a9b1376-4457-477e-ac14-5f6b7b09833f.nc to F:\\JuPyterNotebook\\data\\raw_data\\ERA5_DATA\\GB_ERA5_DATA\\era5_pressure_level_2002_08_850.nc (1.7M)\n",
      "2023-08-26 16:48:40,912 INFO Download rate 3.2M/s                                                                      \n",
      "2023-08-26 16:48:41,002 INFO Welcome to the CDS\n",
      "2023-08-26 16:48:41,002 INFO Sending request to https://cds.climate.copernicus.eu/api/v2/resources/reanalysis-era5-pressure-levels\n",
      "2023-08-26 16:48:41,072 INFO Request is queued\n"
     ]
    },
    {
     "name": "stdout",
     "output_type": "stream",
     "text": [
      "era5_pressure_level_2002_08_850.nc done!\n",
      "Download time: 50.361 s\n",
      "Folder 'F:\\JuPyterNotebook\\data\\raw_data\\ERA5_DATA\\GB_ERA5_DATA' created successfully.\n"
     ]
    },
    {
     "name": "stderr",
     "output_type": "stream",
     "text": [
      "2023-08-26 16:48:54,457 INFO Request is running\n",
      "2023-08-26 16:49:56,347 INFO Request is completed\n",
      "2023-08-26 16:49:56,350 INFO Downloading https://download-0003-clone.copernicus-climate.eu/cache-compute-0003/cache/data8/adaptor.mars.internal-1693064970.0752122-12884-1-334a4608-6a1b-4d33-ae1c-7cb21b315c5b.nc to F:\\JuPyterNotebook\\data\\raw_data\\ERA5_DATA\\GB_ERA5_DATA\\era5_pressure_level_2002_09_850.nc (1.7M)\n",
      "2023-08-26 16:49:56,862 INFO Download rate 3.3M/s                                                                      \n",
      "2023-08-26 16:49:56,954 INFO Welcome to the CDS\n",
      "2023-08-26 16:49:56,954 INFO Sending request to https://cds.climate.copernicus.eu/api/v2/resources/reanalysis-era5-pressure-levels\n",
      "2023-08-26 16:49:57,042 INFO Request is queued\n"
     ]
    },
    {
     "name": "stdout",
     "output_type": "stream",
     "text": [
      "era5_pressure_level_2002_09_850.nc done!\n",
      "Download time: 75.952 s\n",
      "Folder 'F:\\JuPyterNotebook\\data\\raw_data\\ERA5_DATA\\GB_ERA5_DATA' created successfully.\n"
     ]
    },
    {
     "name": "stderr",
     "output_type": "stream",
     "text": [
      "2023-08-26 16:49:58,078 INFO Request is running\n",
      "2023-08-26 16:50:46,663 INFO Request is completed\n",
      "2023-08-26 16:50:46,663 INFO Downloading https://download-0016.copernicus-climate.eu/cache-compute-0016/cache/data1/adaptor.mars.internal-1693065040.4148674-32415-14-9217f799-511f-4fe7-94f3-6c21ae25a2be.nc to F:\\JuPyterNotebook\\data\\raw_data\\ERA5_DATA\\GB_ERA5_DATA\\era5_pressure_level_2002_10_850.nc (1.7M)\n",
      "2023-08-26 16:50:47,163 INFO Download rate 3.5M/s                                                                      \n",
      "2023-08-26 16:50:47,254 INFO Welcome to the CDS\n",
      "2023-08-26 16:50:47,254 INFO Sending request to https://cds.climate.copernicus.eu/api/v2/resources/reanalysis-era5-pressure-levels\n",
      "2023-08-26 16:50:47,320 INFO Request is queued\n"
     ]
    },
    {
     "name": "stdout",
     "output_type": "stream",
     "text": [
      "era5_pressure_level_2002_10_850.nc done!\n",
      "Download time: 50.311 s\n",
      "Folder 'F:\\JuPyterNotebook\\data\\raw_data\\ERA5_DATA\\GB_ERA5_DATA' created successfully.\n"
     ]
    },
    {
     "name": "stderr",
     "output_type": "stream",
     "text": [
      "2023-08-26 16:50:48,362 INFO Request is running\n",
      "2023-08-26 16:51:36,940 INFO Request is completed\n",
      "2023-08-26 16:51:36,940 INFO Downloading https://download-0020.copernicus-climate.eu/cache-compute-0020/cache/data5/adaptor.mars.internal-1693065085.8960404-3226-6-1b4cd275-695f-4587-9486-f204ff659626.nc to F:\\JuPyterNotebook\\data\\raw_data\\ERA5_DATA\\GB_ERA5_DATA\\era5_pressure_level_2002_11_850.nc (1.7M)\n",
      "2023-08-26 16:51:37,416 INFO Download rate 3.5M/s                                                                      \n",
      "2023-08-26 16:51:37,507 INFO Welcome to the CDS\n",
      "2023-08-26 16:51:37,507 INFO Sending request to https://cds.climate.copernicus.eu/api/v2/resources/reanalysis-era5-pressure-levels\n",
      "2023-08-26 16:51:37,568 INFO Request is queued\n"
     ]
    },
    {
     "name": "stdout",
     "output_type": "stream",
     "text": [
      "era5_pressure_level_2002_11_850.nc done!\n",
      "Download time: 50.257 s\n",
      "Folder 'F:\\JuPyterNotebook\\data\\raw_data\\ERA5_DATA\\GB_ERA5_DATA' created successfully.\n"
     ]
    },
    {
     "name": "stderr",
     "output_type": "stream",
     "text": [
      "2023-08-26 16:51:38,628 INFO Request is running\n",
      "2023-08-26 16:52:27,203 INFO Request is completed\n",
      "2023-08-26 16:52:27,203 INFO Downloading https://download-0002-clone.copernicus-climate.eu/cache-compute-0002/cache/data1/adaptor.mars.internal-1693065137.33676-11102-19-a04b1786-ae65-4490-b4dd-5b0bba5b2be8.nc to F:\\JuPyterNotebook\\data\\raw_data\\ERA5_DATA\\GB_ERA5_DATA\\era5_pressure_level_2002_12_850.nc (1.7M)\n",
      "2023-08-26 16:52:27,710 INFO Download rate 3.4M/s                                                                      \n",
      "2023-08-26 16:52:27,842 INFO Welcome to the CDS\n",
      "2023-08-26 16:52:27,842 INFO Sending request to https://cds.climate.copernicus.eu/api/v2/resources/reanalysis-era5-pressure-levels\n",
      "2023-08-26 16:52:27,903 INFO Request is queued\n"
     ]
    },
    {
     "name": "stdout",
     "output_type": "stream",
     "text": [
      "era5_pressure_level_2002_12_850.nc done!\n",
      "Download time: 50.272 s\n",
      "Folder 'F:\\JuPyterNotebook\\data\\raw_data\\ERA5_DATA\\GB_ERA5_DATA' created successfully.\n"
     ]
    },
    {
     "name": "stderr",
     "output_type": "stream",
     "text": [
      "2023-08-26 16:52:28,956 INFO Request is running\n",
      "2023-08-26 16:53:17,698 INFO Request is completed\n",
      "2023-08-26 16:53:17,698 INFO Downloading https://download-0010-clone.copernicus-climate.eu/cache-compute-0010/cache/data0/adaptor.mars.internal-1693065188.0067794-15186-18-40377516-0388-4f4b-a7ca-c1ddcc9da252.nc to F:\\JuPyterNotebook\\data\\raw_data\\ERA5_DATA\\GB_ERA5_DATA\\era5_pressure_level_2003_01_850.nc (1.7M)\n",
      "2023-08-26 16:53:18,206 INFO Download rate 3.4M/s                                                                      \n",
      "2023-08-26 16:53:18,298 INFO Welcome to the CDS\n",
      "2023-08-26 16:53:18,298 INFO Sending request to https://cds.climate.copernicus.eu/api/v2/resources/reanalysis-era5-pressure-levels\n",
      "2023-08-26 16:53:18,352 INFO Request is queued\n"
     ]
    },
    {
     "name": "stdout",
     "output_type": "stream",
     "text": [
      "era5_pressure_level_2003_01_850.nc done!\n",
      "Download time: 50.503 s\n",
      "Folder 'F:\\JuPyterNotebook\\data\\raw_data\\ERA5_DATA\\GB_ERA5_DATA' created successfully.\n"
     ]
    },
    {
     "name": "stderr",
     "output_type": "stream",
     "text": [
      "2023-08-26 16:53:19,387 INFO Request is running\n",
      "2023-08-26 16:54:08,019 INFO Request is completed\n",
      "2023-08-26 16:54:08,021 INFO Downloading https://download-0009-clone.copernicus-climate.eu/cache-compute-0009/cache/data4/adaptor.mars.internal-1693065240.7160707-6997-17-5e4a351f-86da-4e19-898f-4e4edfcc425f.nc to F:\\JuPyterNotebook\\data\\raw_data\\ERA5_DATA\\GB_ERA5_DATA\\era5_pressure_level_2003_02_850.nc (1.6M)\n",
      "2023-08-26 16:54:08,473 INFO Download rate 3.5M/s                                                                      \n",
      "2023-08-26 16:54:08,550 INFO Welcome to the CDS\n",
      "2023-08-26 16:54:08,550 INFO Sending request to https://cds.climate.copernicus.eu/api/v2/resources/reanalysis-era5-pressure-levels\n",
      "2023-08-26 16:54:08,680 INFO Request is queued\n"
     ]
    },
    {
     "name": "stdout",
     "output_type": "stream",
     "text": [
      "era5_pressure_level_2003_02_850.nc done!\n",
      "Download time: 50.268 s\n",
      "Folder 'F:\\JuPyterNotebook\\data\\raw_data\\ERA5_DATA\\GB_ERA5_DATA' created successfully.\n"
     ]
    },
    {
     "name": "stderr",
     "output_type": "stream",
     "text": [
      "2023-08-26 16:54:09,725 INFO Request is running\n",
      "2023-08-26 16:54:58,307 INFO Request is completed\n",
      "2023-08-26 16:54:58,307 INFO Downloading https://download-0001-clone.copernicus-climate.eu/cache-compute-0001/cache/data7/adaptor.mars.internal-1693065292.395118-30613-18-bb07434e-69bf-4cee-910e-89245d14bf63.nc to F:\\JuPyterNotebook\\data\\raw_data\\ERA5_DATA\\GB_ERA5_DATA\\era5_pressure_level_2003_03_850.nc (1.7M)\n",
      "2023-08-26 16:54:58,876 INFO Download rate 3.1M/s                                                                      \n",
      "2023-08-26 16:54:58,964 INFO Welcome to the CDS\n",
      "2023-08-26 16:54:58,964 INFO Sending request to https://cds.climate.copernicus.eu/api/v2/resources/reanalysis-era5-pressure-levels\n",
      "2023-08-26 16:54:59,003 INFO Request is queued\n"
     ]
    },
    {
     "name": "stdout",
     "output_type": "stream",
     "text": [
      "era5_pressure_level_2003_03_850.nc done!\n",
      "Download time: 50.398 s\n",
      "Folder 'F:\\JuPyterNotebook\\data\\raw_data\\ERA5_DATA\\GB_ERA5_DATA' created successfully.\n"
     ]
    },
    {
     "name": "stderr",
     "output_type": "stream",
     "text": [
      "2023-08-26 16:55:00,059 INFO Request is running\n",
      "2023-08-26 16:55:48,690 INFO Request is completed\n",
      "2023-08-26 16:55:48,690 INFO Downloading https://download-0007-clone.copernicus-climate.eu/cache-compute-0007/cache/data6/adaptor.mars.internal-1693065337.9557023-27936-5-b7187cdb-9eb3-40e1-9257-04cae2e2cdd6.nc to F:\\JuPyterNotebook\\data\\raw_data\\ERA5_DATA\\GB_ERA5_DATA\\era5_pressure_level_2003_04_850.nc (1.7M)\n",
      "2023-08-26 16:55:49,125 INFO Download rate 3.9M/s                                                                      \n",
      "2023-08-26 16:55:49,210 INFO Welcome to the CDS\n",
      "2023-08-26 16:55:49,226 INFO Sending request to https://cds.climate.copernicus.eu/api/v2/resources/reanalysis-era5-pressure-levels\n",
      "2023-08-26 16:55:49,294 INFO Request is queued\n"
     ]
    },
    {
     "name": "stdout",
     "output_type": "stream",
     "text": [
      "era5_pressure_level_2003_04_850.nc done!\n",
      "Download time: 50.262 s\n",
      "Folder 'F:\\JuPyterNotebook\\data\\raw_data\\ERA5_DATA\\GB_ERA5_DATA' created successfully.\n"
     ]
    },
    {
     "name": "stderr",
     "output_type": "stream",
     "text": [
      "2023-08-26 16:55:50,336 INFO Request is running\n",
      "2023-08-26 16:56:38,961 INFO Request is completed\n",
      "2023-08-26 16:56:38,961 INFO Downloading https://download-0019.copernicus-climate.eu/cache-compute-0019/cache/data6/adaptor.mars.internal-1693065387.1230602-14007-7-84b7c071-c8b2-4864-83c0-e8d2bb596323.nc to F:\\JuPyterNotebook\\data\\raw_data\\ERA5_DATA\\GB_ERA5_DATA\\era5_pressure_level_2003_05_850.nc (1.7M)\n",
      "2023-08-26 16:56:39,451 INFO Download rate 3.5M/s                                                                      \n",
      "2023-08-26 16:56:39,530 INFO Welcome to the CDS\n",
      "2023-08-26 16:56:39,530 INFO Sending request to https://cds.climate.copernicus.eu/api/v2/resources/reanalysis-era5-pressure-levels\n"
     ]
    },
    {
     "name": "stdout",
     "output_type": "stream",
     "text": [
      "era5_pressure_level_2003_05_850.nc done!\n",
      "Download time: 50.320 s\n",
      "Folder 'F:\\JuPyterNotebook\\data\\raw_data\\ERA5_DATA\\GB_ERA5_DATA' created successfully.\n"
     ]
    },
    {
     "name": "stderr",
     "output_type": "stream",
     "text": [
      "2023-08-26 16:56:39,725 INFO Request is queued\n",
      "2023-08-26 16:56:40,772 INFO Request is running\n",
      "2023-08-26 16:57:29,312 INFO Request is completed\n",
      "2023-08-26 16:57:29,312 INFO Downloading https://download-0007-clone.copernicus-climate.eu/cache-compute-0007/cache/data4/adaptor.mars.internal-1693065446.5980752-27981-6-74d57936-a688-43ae-8197-423de63a7d47.nc to F:\\JuPyterNotebook\\data\\raw_data\\ERA5_DATA\\GB_ERA5_DATA\\era5_pressure_level_2003_06_850.nc (1.7M)\n",
      "2023-08-26 16:57:29,846 INFO Download rate 3.1M/s                                                                      \n",
      "2023-08-26 16:57:29,944 INFO Welcome to the CDS\n",
      "2023-08-26 16:57:29,944 INFO Sending request to https://cds.climate.copernicus.eu/api/v2/resources/reanalysis-era5-pressure-levels\n"
     ]
    },
    {
     "name": "stdout",
     "output_type": "stream",
     "text": [
      "era5_pressure_level_2003_06_850.nc done!\n",
      "Download time: 50.398 s\n",
      "Folder 'F:\\JuPyterNotebook\\data\\raw_data\\ERA5_DATA\\GB_ERA5_DATA' created successfully.\n"
     ]
    },
    {
     "name": "stderr",
     "output_type": "stream",
     "text": [
      "2023-08-26 16:57:30,139 INFO Request is queued\n",
      "2023-08-26 16:57:31,179 INFO Request is running\n",
      "2023-08-26 16:58:19,737 INFO Request is completed\n",
      "2023-08-26 16:58:19,737 INFO Downloading https://download-0014-clone.copernicus-climate.eu/cache-compute-0014/cache/data0/adaptor.mars.internal-1693065491.5282264-25954-7-c8adc94f-1b48-4943-b744-c799d3e84575.nc to F:\\JuPyterNotebook\\data\\raw_data\\ERA5_DATA\\GB_ERA5_DATA\\era5_pressure_level_2003_07_850.nc (1.7M)\n",
      "2023-08-26 16:58:20,226 INFO Download rate 3.6M/s                                                                      \n",
      "2023-08-26 16:58:20,324 INFO Welcome to the CDS\n",
      "2023-08-26 16:58:20,324 INFO Sending request to https://cds.climate.copernicus.eu/api/v2/resources/reanalysis-era5-pressure-levels\n"
     ]
    },
    {
     "name": "stdout",
     "output_type": "stream",
     "text": [
      "era5_pressure_level_2003_07_850.nc done!\n",
      "Download time: 50.381 s\n",
      "Folder 'F:\\JuPyterNotebook\\data\\raw_data\\ERA5_DATA\\GB_ERA5_DATA' created successfully.\n"
     ]
    },
    {
     "name": "stderr",
     "output_type": "stream",
     "text": [
      "2023-08-26 16:58:20,521 INFO Request is queued\n",
      "2023-08-26 16:58:21,562 INFO Request is running\n",
      "2023-08-26 16:59:10,137 INFO Request is completed\n",
      "2023-08-26 16:59:10,137 INFO Downloading https://download-0006-clone.copernicus-climate.eu/cache-compute-0006/cache/data8/adaptor.mars.internal-1693065544.7796187-7516-2-0a0c6f73-9a37-4acd-9e03-67f17db71332.nc to F:\\JuPyterNotebook\\data\\raw_data\\ERA5_DATA\\GB_ERA5_DATA\\era5_pressure_level_2003_08_850.nc (1.7M)\n",
      "2023-08-26 16:59:10,644 INFO Download rate 3.4M/s                                                                      \n",
      "2023-08-26 16:59:10,728 INFO Welcome to the CDS\n",
      "2023-08-26 16:59:10,728 INFO Sending request to https://cds.climate.copernicus.eu/api/v2/resources/reanalysis-era5-pressure-levels\n",
      "2023-08-26 16:59:10,786 INFO Request is queued\n"
     ]
    },
    {
     "name": "stdout",
     "output_type": "stream",
     "text": [
      "era5_pressure_level_2003_08_850.nc done!\n",
      "Download time: 50.401 s\n",
      "Folder 'F:\\JuPyterNotebook\\data\\raw_data\\ERA5_DATA\\GB_ERA5_DATA' created successfully.\n"
     ]
    },
    {
     "name": "stderr",
     "output_type": "stream",
     "text": [
      "2023-08-26 16:59:11,824 INFO Request is running\n",
      "2023-08-26 17:00:00,400 INFO Request is completed\n",
      "2023-08-26 17:00:00,416 INFO Downloading https://download-0008-clone.copernicus-climate.eu/cache-compute-0008/cache/data3/adaptor.mars.internal-1693065588.3298752-4855-14-98a7a55f-63eb-4efb-b2f6-3d78145ff655.nc to F:\\JuPyterNotebook\\data\\raw_data\\ERA5_DATA\\GB_ERA5_DATA\\era5_pressure_level_2003_09_850.nc (1.7M)\n",
      "2023-08-26 17:00:00,969 INFO Download rate 3M/s                                                                        \n",
      "2023-08-26 17:00:01,058 INFO Welcome to the CDS\n",
      "2023-08-26 17:00:01,058 INFO Sending request to https://cds.climate.copernicus.eu/api/v2/resources/reanalysis-era5-pressure-levels\n",
      "2023-08-26 17:00:01,112 INFO Request is queued\n"
     ]
    },
    {
     "name": "stdout",
     "output_type": "stream",
     "text": [
      "era5_pressure_level_2003_09_850.nc done!\n",
      "Download time: 50.311 s\n",
      "Folder 'F:\\JuPyterNotebook\\data\\raw_data\\ERA5_DATA\\GB_ERA5_DATA' created successfully.\n"
     ]
    },
    {
     "name": "stderr",
     "output_type": "stream",
     "text": [
      "2023-08-26 17:00:02,171 INFO Request is running\n",
      "2023-08-26 17:00:50,860 INFO Request is completed\n",
      "2023-08-26 17:00:50,861 INFO Downloading https://download-0012-clone.copernicus-climate.eu/cache-compute-0012/cache/data3/adaptor.mars.internal-1693065639.6159139-1830-9-c9abe317-67cc-4cf4-b6e8-e166a655d036.nc to F:\\JuPyterNotebook\\data\\raw_data\\ERA5_DATA\\GB_ERA5_DATA\\era5_pressure_level_2003_10_850.nc (1.7M)\n",
      "2023-08-26 17:00:51,349 INFO Download rate 3.6M/s                                                                      \n",
      "2023-08-26 17:00:51,420 INFO Welcome to the CDS\n",
      "2023-08-26 17:00:51,420 INFO Sending request to https://cds.climate.copernicus.eu/api/v2/resources/reanalysis-era5-pressure-levels\n",
      "2023-08-26 17:00:51,494 INFO Request is queued\n"
     ]
    },
    {
     "name": "stdout",
     "output_type": "stream",
     "text": [
      "era5_pressure_level_2003_10_850.nc done!\n",
      "Download time: 50.383 s\n",
      "Folder 'F:\\JuPyterNotebook\\data\\raw_data\\ERA5_DATA\\GB_ERA5_DATA' created successfully.\n"
     ]
    },
    {
     "name": "stderr",
     "output_type": "stream",
     "text": [
      "2023-08-26 17:00:52,546 INFO Request is running\n",
      "2023-08-26 17:01:41,103 INFO Request is completed\n",
      "2023-08-26 17:01:41,103 INFO Downloading https://download-0004-clone.copernicus-climate.eu/cache-compute-0004/cache/data5/adaptor.mars.internal-1693065688.0104809-14055-18-a43f703d-eb2d-494b-9752-71d0e35a1d01.nc to F:\\JuPyterNotebook\\data\\raw_data\\ERA5_DATA\\GB_ERA5_DATA\\era5_pressure_level_2003_11_850.nc (1.7M)\n",
      "2023-08-26 17:01:41,625 INFO Download rate 3.2M/s                                                                      \n",
      "2023-08-26 17:01:41,699 INFO Welcome to the CDS\n",
      "2023-08-26 17:01:41,699 INFO Sending request to https://cds.climate.copernicus.eu/api/v2/resources/reanalysis-era5-pressure-levels\n",
      "2023-08-26 17:01:41,756 INFO Request is queued\n"
     ]
    },
    {
     "name": "stdout",
     "output_type": "stream",
     "text": [
      "era5_pressure_level_2003_11_850.nc done!\n",
      "Download time: 50.277 s\n",
      "Folder 'F:\\JuPyterNotebook\\data\\raw_data\\ERA5_DATA\\GB_ERA5_DATA' created successfully.\n"
     ]
    },
    {
     "name": "stderr",
     "output_type": "stream",
     "text": [
      "2023-08-26 17:01:42,801 INFO Request is running\n",
      "2023-08-26 17:02:31,324 INFO Request is completed\n",
      "2023-08-26 17:02:31,324 INFO Downloading https://download-0006-clone.copernicus-climate.eu/cache-compute-0006/cache/data4/adaptor.mars.internal-1693065742.9018507-3516-8-9d435ec6-08bb-48f5-93c5-c2f771732aed.nc to F:\\JuPyterNotebook\\data\\raw_data\\ERA5_DATA\\GB_ERA5_DATA\\era5_pressure_level_2003_12_850.nc (1.7M)\n",
      "2023-08-26 17:02:31,881 INFO Download rate 3.1M/s                                                                      \n",
      "2023-08-26 17:02:31,952 INFO Welcome to the CDS\n",
      "2023-08-26 17:02:31,952 INFO Sending request to https://cds.climate.copernicus.eu/api/v2/resources/reanalysis-era5-pressure-levels\n",
      "2023-08-26 17:02:32,028 INFO Request is queued\n"
     ]
    },
    {
     "name": "stdout",
     "output_type": "stream",
     "text": [
      "era5_pressure_level_2003_12_850.nc done!\n",
      "Download time: 50.255 s\n",
      "Folder 'F:\\JuPyterNotebook\\data\\raw_data\\ERA5_DATA\\GB_ERA5_DATA' created successfully.\n"
     ]
    },
    {
     "name": "stderr",
     "output_type": "stream",
     "text": [
      "2023-08-26 17:02:33,060 INFO Request is running\n",
      "2023-08-26 17:03:21,587 INFO Request is completed\n",
      "2023-08-26 17:03:21,587 INFO Downloading https://download-0004-clone.copernicus-climate.eu/cache-compute-0004/cache/data9/adaptor.mars.internal-1693065790.3391838-22122-4-a4368447-891d-43db-9f28-5b6dafe2524c.nc to F:\\JuPyterNotebook\\data\\raw_data\\ERA5_DATA\\GB_ERA5_DATA\\era5_pressure_level_2004_01_850.nc (1.7M)\n",
      "2023-08-26 17:03:22,142 INFO Download rate 3.1M/s                                                                      \n",
      "2023-08-26 17:03:22,219 INFO Welcome to the CDS\n",
      "2023-08-26 17:03:22,219 INFO Sending request to https://cds.climate.copernicus.eu/api/v2/resources/reanalysis-era5-pressure-levels\n",
      "2023-08-26 17:03:22,275 INFO Request is queued\n"
     ]
    },
    {
     "name": "stdout",
     "output_type": "stream",
     "text": [
      "era5_pressure_level_2004_01_850.nc done!\n",
      "Download time: 50.251 s\n",
      "Folder 'F:\\JuPyterNotebook\\data\\raw_data\\ERA5_DATA\\GB_ERA5_DATA' created successfully.\n"
     ]
    },
    {
     "name": "stderr",
     "output_type": "stream",
     "text": [
      "2023-08-26 17:03:23,317 INFO Request is running\n",
      "2023-08-26 17:04:11,885 INFO Request is completed\n",
      "2023-08-26 17:04:11,885 INFO Downloading https://download-0016.copernicus-climate.eu/cache-compute-0016/cache/data1/adaptor.mars.internal-1693065837.7204404-10977-11-d010feff-5e3c-4c60-8638-3dd76da9c58e.nc to F:\\JuPyterNotebook\\data\\raw_data\\ERA5_DATA\\GB_ERA5_DATA\\era5_pressure_level_2004_02_850.nc (1.6M)\n",
      "2023-08-26 17:04:12,371 INFO Download rate 3.3M/s                                                                      \n",
      "2023-08-26 17:04:12,457 INFO Welcome to the CDS\n",
      "2023-08-26 17:04:12,457 INFO Sending request to https://cds.climate.copernicus.eu/api/v2/resources/reanalysis-era5-pressure-levels\n",
      "2023-08-26 17:04:12,533 INFO Request is queued\n"
     ]
    },
    {
     "name": "stdout",
     "output_type": "stream",
     "text": [
      "era5_pressure_level_2004_02_850.nc done!\n",
      "Download time: 50.252 s\n",
      "Folder 'F:\\JuPyterNotebook\\data\\raw_data\\ERA5_DATA\\GB_ERA5_DATA' created successfully.\n"
     ]
    },
    {
     "name": "stderr",
     "output_type": "stream",
     "text": [
      "2023-08-26 17:04:13,587 INFO Request is running\n",
      "2023-08-26 17:05:02,135 INFO Request is completed\n",
      "2023-08-26 17:05:02,135 INFO Downloading https://download-0014-clone.copernicus-climate.eu/cache-compute-0014/cache/data1/adaptor.mars.internal-1693065890.7355552-26320-10-c5ab2f52-e61a-4f90-b1a9-af74d6677274.nc to F:\\JuPyterNotebook\\data\\raw_data\\ERA5_DATA\\GB_ERA5_DATA\\era5_pressure_level_2004_03_850.nc (1.7M)\n",
      "2023-08-26 17:05:02,652 INFO Download rate 3.4M/s                                                                      \n",
      "2023-08-26 17:05:02,727 INFO Welcome to the CDS\n",
      "2023-08-26 17:05:02,742 INFO Sending request to https://cds.climate.copernicus.eu/api/v2/resources/reanalysis-era5-pressure-levels\n",
      "2023-08-26 17:05:02,828 INFO Request is queued\n"
     ]
    },
    {
     "name": "stdout",
     "output_type": "stream",
     "text": [
      "era5_pressure_level_2004_03_850.nc done!\n",
      "Download time: 50.272 s\n",
      "Folder 'F:\\JuPyterNotebook\\data\\raw_data\\ERA5_DATA\\GB_ERA5_DATA' created successfully.\n"
     ]
    },
    {
     "name": "stderr",
     "output_type": "stream",
     "text": [
      "2023-08-26 17:05:03,871 INFO Request is running\n",
      "2023-08-26 17:05:52,384 INFO Request is completed\n",
      "2023-08-26 17:05:52,384 INFO Downloading https://download-0011-clone.copernicus-climate.eu/cache-compute-0011/cache/data8/adaptor.mars.internal-1693065938.638584-26182-13-6cd54f5b-a672-41a4-ac3d-f06a0fac6e1f.nc to F:\\JuPyterNotebook\\data\\raw_data\\ERA5_DATA\\GB_ERA5_DATA\\era5_pressure_level_2004_04_850.nc (1.7M)\n",
      "2023-08-26 17:05:52,870 INFO Download rate 3.5M/s                                                                      \n",
      "2023-08-26 17:05:52,941 INFO Welcome to the CDS\n",
      "2023-08-26 17:05:52,941 INFO Sending request to https://cds.climate.copernicus.eu/api/v2/resources/reanalysis-era5-pressure-levels\n",
      "2023-08-26 17:05:53,035 INFO Request is queued\n"
     ]
    },
    {
     "name": "stdout",
     "output_type": "stream",
     "text": [
      "era5_pressure_level_2004_04_850.nc done!\n",
      "Download time: 50.215 s\n",
      "Folder 'F:\\JuPyterNotebook\\data\\raw_data\\ERA5_DATA\\GB_ERA5_DATA' created successfully.\n"
     ]
    },
    {
     "name": "stderr",
     "output_type": "stream",
     "text": [
      "2023-08-26 17:05:54,077 INFO Request is running\n",
      "2023-08-26 17:06:42,600 INFO Request is completed\n",
      "2023-08-26 17:06:42,600 INFO Downloading https://download-0011-clone.copernicus-climate.eu/cache-compute-0011/cache/data1/adaptor.mars.internal-1693065989.8205276-26182-14-93ebda98-39b3-4cba-9cf2-41cedd425bed.nc to F:\\JuPyterNotebook\\data\\raw_data\\ERA5_DATA\\GB_ERA5_DATA\\era5_pressure_level_2004_05_850.nc (1.7M)\n",
      "2023-08-26 17:06:42,993 INFO Download rate 4.6M/s                                                                      \n",
      "2023-08-26 17:06:43,180 INFO Welcome to the CDS\n",
      "2023-08-26 17:06:43,180 INFO Sending request to https://cds.climate.copernicus.eu/api/v2/resources/reanalysis-era5-pressure-levels\n",
      "2023-08-26 17:06:43,284 INFO Request is queued\n"
     ]
    },
    {
     "name": "stdout",
     "output_type": "stream",
     "text": [
      "era5_pressure_level_2004_05_850.nc done!\n",
      "Download time: 50.223 s\n",
      "Folder 'F:\\JuPyterNotebook\\data\\raw_data\\ERA5_DATA\\GB_ERA5_DATA' created successfully.\n"
     ]
    },
    {
     "name": "stderr",
     "output_type": "stream",
     "text": [
      "2023-08-26 17:06:44,328 INFO Request is running\n",
      "2023-08-26 17:07:32,872 INFO Request is completed\n",
      "2023-08-26 17:07:32,872 INFO Downloading https://download-0014-clone.copernicus-climate.eu/cache-compute-0014/cache/data5/adaptor.mars.internal-1693066038.2877347-2802-4-7578f6ad-0dff-44c7-927f-1ede91bbfe8d.nc to F:\\JuPyterNotebook\\data\\raw_data\\ERA5_DATA\\GB_ERA5_DATA\\era5_pressure_level_2004_06_850.nc (1.7M)\n",
      "2023-08-26 17:07:33,292 INFO Download rate 4M/s                                                                        \n",
      "2023-08-26 17:07:33,382 INFO Welcome to the CDS\n",
      "2023-08-26 17:07:33,382 INFO Sending request to https://cds.climate.copernicus.eu/api/v2/resources/reanalysis-era5-pressure-levels\n",
      "2023-08-26 17:07:33,472 INFO Request is queued\n"
     ]
    },
    {
     "name": "stdout",
     "output_type": "stream",
     "text": [
      "era5_pressure_level_2004_06_850.nc done!\n",
      "Download time: 50.217 s\n",
      "Folder 'F:\\JuPyterNotebook\\data\\raw_data\\ERA5_DATA\\GB_ERA5_DATA' created successfully.\n"
     ]
    },
    {
     "name": "stderr",
     "output_type": "stream",
     "text": [
      "2023-08-26 17:07:34,514 INFO Request is running\n",
      "2023-08-26 17:08:23,190 INFO Request is completed\n",
      "2023-08-26 17:08:23,206 INFO Downloading https://download-0001-clone.copernicus-climate.eu/cache-compute-0001/cache/data7/adaptor.mars.internal-1693066095.3287783-11095-9-09b82058-723b-468d-a4c8-810404b89766.nc to F:\\JuPyterNotebook\\data\\raw_data\\ERA5_DATA\\GB_ERA5_DATA\\era5_pressure_level_2004_07_850.nc (1.7M)\n",
      "2023-08-26 17:08:23,710 INFO Download rate 3.4M/s                                                                      \n",
      "2023-08-26 17:08:23,802 INFO Welcome to the CDS\n",
      "2023-08-26 17:08:23,805 INFO Sending request to https://cds.climate.copernicus.eu/api/v2/resources/reanalysis-era5-pressure-levels\n"
     ]
    },
    {
     "name": "stdout",
     "output_type": "stream",
     "text": [
      "era5_pressure_level_2004_07_850.nc done!\n",
      "Download time: 50.404 s\n",
      "Folder 'F:\\JuPyterNotebook\\data\\raw_data\\ERA5_DATA\\GB_ERA5_DATA' created successfully.\n"
     ]
    },
    {
     "name": "stderr",
     "output_type": "stream",
     "text": [
      "2023-08-26 17:08:23,986 INFO Request is queued\n",
      "2023-08-26 17:08:25,030 INFO Request is running\n",
      "2023-08-26 17:09:13,582 INFO Request is completed\n",
      "2023-08-26 17:09:13,582 INFO Downloading https://download-0019.copernicus-climate.eu/cache-compute-0019/cache/data7/adaptor.mars.internal-1693066141.322613-18054-3-1412ed63-d26f-42d2-8e6d-c1b95f05cc85.nc to F:\\JuPyterNotebook\\data\\raw_data\\ERA5_DATA\\GB_ERA5_DATA\\era5_pressure_level_2004_08_850.nc (1.7M)\n",
      "2023-08-26 17:09:14,092 INFO Download rate 3.4M/s                                                                      \n",
      "2023-08-26 17:09:14,180 INFO Welcome to the CDS\n",
      "2023-08-26 17:09:14,180 INFO Sending request to https://cds.climate.copernicus.eu/api/v2/resources/reanalysis-era5-pressure-levels\n",
      "2023-08-26 17:09:14,225 INFO Request is queued\n"
     ]
    },
    {
     "name": "stdout",
     "output_type": "stream",
     "text": [
      "era5_pressure_level_2004_08_850.nc done!\n",
      "Download time: 50.379 s\n",
      "Folder 'F:\\JuPyterNotebook\\data\\raw_data\\ERA5_DATA\\GB_ERA5_DATA' created successfully.\n"
     ]
    },
    {
     "name": "stderr",
     "output_type": "stream",
     "text": [
      "2023-08-26 17:09:15,261 INFO Request is running\n",
      "2023-08-26 17:10:03,804 INFO Request is completed\n",
      "2023-08-26 17:10:03,804 INFO Downloading https://download-0015-clone.copernicus-climate.eu/cache-compute-0015/cache/data6/adaptor.mars.internal-1693066190.6663706-14793-14-2e59cd62-c897-428b-a595-03a97a13e0b3.nc to F:\\JuPyterNotebook\\data\\raw_data\\ERA5_DATA\\GB_ERA5_DATA\\era5_pressure_level_2004_09_850.nc (1.7M)\n",
      "2023-08-26 17:10:04,351 INFO Download rate 3.2M/s                                                                      \n",
      "2023-08-26 17:10:04,441 INFO Welcome to the CDS\n",
      "2023-08-26 17:10:04,441 INFO Sending request to https://cds.climate.copernicus.eu/api/v2/resources/reanalysis-era5-pressure-levels\n"
     ]
    },
    {
     "name": "stdout",
     "output_type": "stream",
     "text": [
      "era5_pressure_level_2004_09_850.nc done!\n",
      "Download time: 50.245 s\n",
      "Folder 'F:\\JuPyterNotebook\\data\\raw_data\\ERA5_DATA\\GB_ERA5_DATA' created successfully.\n"
     ]
    },
    {
     "name": "stderr",
     "output_type": "stream",
     "text": [
      "2023-08-26 17:10:04,650 INFO Request is queued\n",
      "2023-08-26 17:10:05,687 INFO Request is running\n",
      "2023-08-26 17:10:54,246 INFO Request is completed\n",
      "2023-08-26 17:10:54,246 INFO Downloading https://download-0011-clone.copernicus-climate.eu/cache-compute-0011/cache/data3/adaptor.mars.internal-1693066243.5365388-17564-16-9cab79d9-65ab-44ef-a98e-3f92a1021fd2.nc to F:\\JuPyterNotebook\\data\\raw_data\\ERA5_DATA\\GB_ERA5_DATA\\era5_pressure_level_2004_10_850.nc (1.7M)\n",
      "2023-08-26 17:10:54,728 INFO Download rate 3.6M/s                                                                      \n",
      "2023-08-26 17:10:54,801 INFO Welcome to the CDS\n",
      "2023-08-26 17:10:54,817 INFO Sending request to https://cds.climate.copernicus.eu/api/v2/resources/reanalysis-era5-pressure-levels\n"
     ]
    },
    {
     "name": "stdout",
     "output_type": "stream",
     "text": [
      "era5_pressure_level_2004_10_850.nc done!\n",
      "Download time: 50.376 s\n",
      "Folder 'F:\\JuPyterNotebook\\data\\raw_data\\ERA5_DATA\\GB_ERA5_DATA' created successfully.\n"
     ]
    },
    {
     "name": "stderr",
     "output_type": "stream",
     "text": [
      "2023-08-26 17:10:54,991 INFO Request is queued\n",
      "2023-08-26 17:10:56,034 INFO Request is running\n",
      "2023-08-26 17:11:44,573 INFO Request is completed\n",
      "2023-08-26 17:11:44,573 INFO Downloading https://download-0000-clone.copernicus-climate.eu/cache-compute-0000/cache/data2/adaptor.mars.internal-1693066292.0262556-1696-12-bd4156f9-879f-4aba-8295-3ea1a41878a0.nc to F:\\JuPyterNotebook\\data\\raw_data\\ERA5_DATA\\GB_ERA5_DATA\\era5_pressure_level_2004_11_850.nc (1.7M)\n",
      "2023-08-26 17:11:45,076 INFO Download rate 3.3M/s                                                                      \n",
      "2023-08-26 17:11:45,162 INFO Welcome to the CDS\n",
      "2023-08-26 17:11:45,177 INFO Sending request to https://cds.climate.copernicus.eu/api/v2/resources/reanalysis-era5-pressure-levels\n",
      "2023-08-26 17:11:45,285 INFO Request is queued\n"
     ]
    },
    {
     "name": "stdout",
     "output_type": "stream",
     "text": [
      "era5_pressure_level_2004_11_850.nc done!\n",
      "Download time: 50.358 s\n",
      "Folder 'F:\\JuPyterNotebook\\data\\raw_data\\ERA5_DATA\\GB_ERA5_DATA' created successfully.\n"
     ]
    },
    {
     "name": "stderr",
     "output_type": "stream",
     "text": [
      "2023-08-26 17:11:46,325 INFO Request is running\n",
      "2023-08-26 17:12:34,878 INFO Request is completed\n",
      "2023-08-26 17:12:34,893 INFO Downloading https://download-0007-clone.copernicus-climate.eu/cache-compute-0007/cache/data1/adaptor.mars.internal-1693066342.4465442-473-14-bca870d0-4ab7-41b0-b661-58924e944761.nc to F:\\JuPyterNotebook\\data\\raw_data\\ERA5_DATA\\GB_ERA5_DATA\\era5_pressure_level_2004_12_850.nc (1.7M)\n",
      "2023-08-26 17:12:35,394 INFO Download rate 3.5M/s                                                                      \n",
      "2023-08-26 17:12:35,482 INFO Welcome to the CDS\n",
      "2023-08-26 17:12:35,482 INFO Sending request to https://cds.climate.copernicus.eu/api/v2/resources/reanalysis-era5-pressure-levels\n"
     ]
    },
    {
     "name": "stdout",
     "output_type": "stream",
     "text": [
      "era5_pressure_level_2004_12_850.nc done!\n",
      "Download time: 50.307 s\n",
      "Folder 'F:\\JuPyterNotebook\\data\\raw_data\\ERA5_DATA\\GB_ERA5_DATA' created successfully.\n"
     ]
    },
    {
     "name": "stderr",
     "output_type": "stream",
     "text": [
      "2023-08-26 17:12:35,764 INFO Request is queued\n",
      "2023-08-26 17:12:36,795 INFO Request is running\n",
      "2023-08-26 17:13:25,328 INFO Request is completed\n",
      "2023-08-26 17:13:25,344 INFO Downloading https://download-0001-clone.copernicus-climate.eu/cache-compute-0001/cache/data7/adaptor.mars.internal-1693066393.7929194-11151-17-699b3d5b-e979-45a8-a1b1-52c6458b35f9.nc to F:\\JuPyterNotebook\\data\\raw_data\\ERA5_DATA\\GB_ERA5_DATA\\era5_pressure_level_2005_01_850.nc (1.7M)\n",
      "2023-08-26 17:13:25,893 INFO Download rate 3.2M/s                                                                      \n",
      "2023-08-26 17:13:25,971 INFO Welcome to the CDS\n",
      "2023-08-26 17:13:25,971 INFO Sending request to https://cds.climate.copernicus.eu/api/v2/resources/reanalysis-era5-pressure-levels\n",
      "2023-08-26 17:13:26,048 INFO Request is queued\n"
     ]
    },
    {
     "name": "stdout",
     "output_type": "stream",
     "text": [
      "era5_pressure_level_2005_01_850.nc done!\n",
      "Download time: 50.489 s\n",
      "Folder 'F:\\JuPyterNotebook\\data\\raw_data\\ERA5_DATA\\GB_ERA5_DATA' created successfully.\n"
     ]
    },
    {
     "name": "stderr",
     "output_type": "stream",
     "text": [
      "2023-08-26 17:13:27,080 INFO Request is running\n",
      "2023-08-26 17:14:15,640 INFO Request is completed\n",
      "2023-08-26 17:14:15,640 INFO Downloading https://download-0008-clone.copernicus-climate.eu/cache-compute-0008/cache/data5/adaptor.mars.internal-1693066441.350258-18233-3-e57dded3-8521-4e84-bf6b-7524ce0e8c96.nc to F:\\JuPyterNotebook\\data\\raw_data\\ERA5_DATA\\GB_ERA5_DATA\\era5_pressure_level_2005_02_850.nc (1.6M)\n",
      "2023-08-26 17:14:16,150 INFO Download rate 3.1M/s                                                                      \n",
      "2023-08-26 17:14:16,235 INFO Welcome to the CDS\n",
      "2023-08-26 17:14:16,252 INFO Sending request to https://cds.climate.copernicus.eu/api/v2/resources/reanalysis-era5-pressure-levels\n",
      "2023-08-26 17:14:16,369 INFO Request is queued\n"
     ]
    },
    {
     "name": "stdout",
     "output_type": "stream",
     "text": [
      "era5_pressure_level_2005_02_850.nc done!\n",
      "Download time: 50.280 s\n",
      "Folder 'F:\\JuPyterNotebook\\data\\raw_data\\ERA5_DATA\\GB_ERA5_DATA' created successfully.\n"
     ]
    },
    {
     "name": "stderr",
     "output_type": "stream",
     "text": [
      "2023-08-26 17:14:17,411 INFO Request is running\n",
      "2023-08-26 17:15:05,959 INFO Request is completed\n",
      "2023-08-26 17:15:05,959 INFO Downloading https://download-0018.copernicus-climate.eu/cache-compute-0018/cache/data6/adaptor.mars.internal-1693066493.8269954-24941-9-3ba8247a-fd16-45f6-8fbe-7788c4de1e9a.nc to F:\\JuPyterNotebook\\data\\raw_data\\ERA5_DATA\\GB_ERA5_DATA\\era5_pressure_level_2005_03_850.nc (1.7M)\n",
      "2023-08-26 17:15:06,438 INFO Download rate 3.6M/s                                                                      \n",
      "2023-08-26 17:15:06,510 INFO Welcome to the CDS\n",
      "2023-08-26 17:15:06,510 INFO Sending request to https://cds.climate.copernicus.eu/api/v2/resources/reanalysis-era5-pressure-levels\n",
      "2023-08-26 17:15:06,610 INFO Request is queued\n"
     ]
    },
    {
     "name": "stdout",
     "output_type": "stream",
     "text": [
      "era5_pressure_level_2005_03_850.nc done!\n",
      "Download time: 50.275 s\n",
      "Folder 'F:\\JuPyterNotebook\\data\\raw_data\\ERA5_DATA\\GB_ERA5_DATA' created successfully.\n"
     ]
    },
    {
     "name": "stderr",
     "output_type": "stream",
     "text": [
      "2023-08-26 17:15:07,649 INFO Request is running\n",
      "2023-08-26 17:15:56,339 INFO Request is completed\n",
      "2023-08-26 17:15:56,339 INFO Downloading https://download-0012-clone.copernicus-climate.eu/cache-compute-0012/cache/data1/adaptor.mars.internal-1693066545.1622508-13983-3-04954e17-a053-413b-8f94-9254689bfacc.nc to F:\\JuPyterNotebook\\data\\raw_data\\ERA5_DATA\\GB_ERA5_DATA\\era5_pressure_level_2005_04_850.nc (1.7M)\n",
      "2023-08-26 17:15:56,869 INFO Download rate 3.2M/s                                                                      \n",
      "2023-08-26 17:15:56,959 INFO Welcome to the CDS\n",
      "2023-08-26 17:15:56,959 INFO Sending request to https://cds.climate.copernicus.eu/api/v2/resources/reanalysis-era5-pressure-levels\n",
      "2023-08-26 17:15:57,061 INFO Request is queued\n"
     ]
    },
    {
     "name": "stdout",
     "output_type": "stream",
     "text": [
      "era5_pressure_level_2005_04_850.nc done!\n",
      "Download time: 50.434 s\n",
      "Folder 'F:\\JuPyterNotebook\\data\\raw_data\\ERA5_DATA\\GB_ERA5_DATA' created successfully.\n"
     ]
    },
    {
     "name": "stderr",
     "output_type": "stream",
     "text": [
      "2023-08-26 17:15:58,105 INFO Request is running\n",
      "2023-08-26 17:16:46,660 INFO Request is completed\n",
      "2023-08-26 17:16:46,660 INFO Downloading https://download-0011-clone.copernicus-climate.eu/cache-compute-0011/cache/data8/adaptor.mars.internal-1693066596.5854201-831-12-849d143b-7499-4160-ad70-de4c1694ef98.nc to F:\\JuPyterNotebook\\data\\raw_data\\ERA5_DATA\\GB_ERA5_DATA\\era5_pressure_level_2005_05_850.nc (1.7M)\n",
      "2023-08-26 17:16:47,173 INFO Download rate 3.4M/s                                                                      \n",
      "2023-08-26 17:16:47,254 INFO Welcome to the CDS\n",
      "2023-08-26 17:16:47,254 INFO Sending request to https://cds.climate.copernicus.eu/api/v2/resources/reanalysis-era5-pressure-levels\n",
      "2023-08-26 17:16:47,328 INFO Request is queued\n"
     ]
    },
    {
     "name": "stdout",
     "output_type": "stream",
     "text": [
      "era5_pressure_level_2005_05_850.nc done!\n",
      "Download time: 50.294 s\n",
      "Folder 'F:\\JuPyterNotebook\\data\\raw_data\\ERA5_DATA\\GB_ERA5_DATA' created successfully.\n"
     ]
    },
    {
     "name": "stderr",
     "output_type": "stream",
     "text": [
      "2023-08-26 17:16:48,387 INFO Request is running\n",
      "2023-08-26 17:17:37,021 INFO Request is completed\n",
      "2023-08-26 17:17:37,021 INFO Downloading https://download-0012-clone.copernicus-climate.eu/cache-compute-0012/cache/data5/adaptor.mars.internal-1693066652.1660025-13983-5-d94849e1-6a17-4eef-8df0-ac9be7095daa.nc to F:\\JuPyterNotebook\\data\\raw_data\\ERA5_DATA\\GB_ERA5_DATA\\era5_pressure_level_2005_06_850.nc (1.7M)\n",
      "2023-08-26 17:17:37,492 INFO Download rate 3.7M/s                                                                      \n",
      "2023-08-26 17:17:37,580 INFO Welcome to the CDS\n",
      "2023-08-26 17:17:37,580 INFO Sending request to https://cds.climate.copernicus.eu/api/v2/resources/reanalysis-era5-pressure-levels\n",
      "2023-08-26 17:17:37,663 INFO Request is queued\n"
     ]
    },
    {
     "name": "stdout",
     "output_type": "stream",
     "text": [
      "era5_pressure_level_2005_06_850.nc done!\n",
      "Download time: 50.326 s\n",
      "Folder 'F:\\JuPyterNotebook\\data\\raw_data\\ERA5_DATA\\GB_ERA5_DATA' created successfully.\n"
     ]
    },
    {
     "name": "stderr",
     "output_type": "stream",
     "text": [
      "2023-08-26 17:17:38,711 INFO Request is running\n",
      "2023-08-26 17:18:27,266 INFO Request is completed\n",
      "2023-08-26 17:18:27,266 INFO Downloading https://download-0011-clone.copernicus-climate.eu/cache-compute-0011/cache/data7/adaptor.mars.internal-1693066702.9898534-7415-9-2f266e1d-41cd-4280-ac54-f32bb94795c9.nc to F:\\JuPyterNotebook\\data\\raw_data\\ERA5_DATA\\GB_ERA5_DATA\\era5_pressure_level_2005_07_850.nc (1.7M)\n",
      "2023-08-26 17:18:27,733 INFO Download rate 3.7M/s                                                                      \n",
      "2023-08-26 17:18:27,811 INFO Welcome to the CDS\n",
      "2023-08-26 17:18:27,811 INFO Sending request to https://cds.climate.copernicus.eu/api/v2/resources/reanalysis-era5-pressure-levels\n",
      "2023-08-26 17:18:27,936 INFO Request is queued\n"
     ]
    },
    {
     "name": "stdout",
     "output_type": "stream",
     "text": [
      "era5_pressure_level_2005_07_850.nc done!\n",
      "Download time: 50.231 s\n",
      "Folder 'F:\\JuPyterNotebook\\data\\raw_data\\ERA5_DATA\\GB_ERA5_DATA' created successfully.\n"
     ]
    },
    {
     "name": "stderr",
     "output_type": "stream",
     "text": [
      "2023-08-26 17:18:28,980 INFO Request is running\n",
      "2023-08-26 17:19:17,509 INFO Request is completed\n",
      "2023-08-26 17:19:17,509 INFO Downloading https://download-0008-clone.copernicus-climate.eu/cache-compute-0008/cache/data7/adaptor.mars.internal-1693066751.0991504-19851-4-48adcab8-dc14-4ff4-8abe-c7880976e117.nc to F:\\JuPyterNotebook\\data\\raw_data\\ERA5_DATA\\GB_ERA5_DATA\\era5_pressure_level_2005_08_850.nc (1.7M)\n",
      "2023-08-26 17:19:17,961 INFO Download rate 4M/s                                                                        \n",
      "2023-08-26 17:19:18,038 INFO Welcome to the CDS\n",
      "2023-08-26 17:19:18,054 INFO Sending request to https://cds.climate.copernicus.eu/api/v2/resources/reanalysis-era5-pressure-levels\n",
      "2023-08-26 17:19:18,125 INFO Request is queued\n"
     ]
    },
    {
     "name": "stdout",
     "output_type": "stream",
     "text": [
      "era5_pressure_level_2005_08_850.nc done!\n",
      "Download time: 50.223 s\n",
      "Folder 'F:\\JuPyterNotebook\\data\\raw_data\\ERA5_DATA\\GB_ERA5_DATA' created successfully.\n"
     ]
    },
    {
     "name": "stderr",
     "output_type": "stream",
     "text": [
      "2023-08-26 17:19:19,161 INFO Request is running\n",
      "2023-08-26 17:20:07,706 INFO Request is completed\n",
      "2023-08-26 17:20:07,706 INFO Downloading https://download-0010-clone.copernicus-climate.eu/cache-compute-0010/cache/data9/adaptor.mars.internal-1693066794.8659074-27847-15-5f50aa1f-4496-4da9-a90e-c08bfe8624b4.nc to F:\\JuPyterNotebook\\data\\raw_data\\ERA5_DATA\\GB_ERA5_DATA\\era5_pressure_level_2005_09_850.nc (1.7M)\n",
      "2023-08-26 17:20:08,209 INFO Download rate 3.3M/s                                                                      \n",
      "2023-08-26 17:20:08,300 INFO Welcome to the CDS\n",
      "2023-08-26 17:20:08,300 INFO Sending request to https://cds.climate.copernicus.eu/api/v2/resources/reanalysis-era5-pressure-levels\n",
      "2023-08-26 17:20:08,386 INFO Request is queued\n"
     ]
    },
    {
     "name": "stdout",
     "output_type": "stream",
     "text": [
      "era5_pressure_level_2005_09_850.nc done!\n",
      "Download time: 50.250 s\n",
      "Folder 'F:\\JuPyterNotebook\\data\\raw_data\\ERA5_DATA\\GB_ERA5_DATA' created successfully.\n"
     ]
    },
    {
     "name": "stderr",
     "output_type": "stream",
     "text": [
      "2023-08-26 17:20:09,443 INFO Request is running\n",
      "2023-08-26 17:20:58,043 INFO Request is completed\n",
      "2023-08-26 17:20:58,043 INFO Downloading https://download-0003-clone.copernicus-climate.eu/cache-compute-0003/cache/data6/adaptor.mars.internal-1693066847.2807367-13794-11-8f3bd6ad-8222-4a25-9558-a7fd149cd369.nc to F:\\JuPyterNotebook\\data\\raw_data\\ERA5_DATA\\GB_ERA5_DATA\\era5_pressure_level_2005_10_850.nc (1.7M)\n",
      "2023-08-26 17:20:58,539 INFO Download rate 3.5M/s                                                                      \n",
      "2023-08-26 17:20:58,632 INFO Welcome to the CDS\n",
      "2023-08-26 17:20:58,632 INFO Sending request to https://cds.climate.copernicus.eu/api/v2/resources/reanalysis-era5-pressure-levels\n",
      "2023-08-26 17:20:58,679 INFO Request is queued\n"
     ]
    },
    {
     "name": "stdout",
     "output_type": "stream",
     "text": [
      "era5_pressure_level_2005_10_850.nc done!\n",
      "Download time: 50.330 s\n",
      "Folder 'F:\\JuPyterNotebook\\data\\raw_data\\ERA5_DATA\\GB_ERA5_DATA' created successfully.\n"
     ]
    },
    {
     "name": "stderr",
     "output_type": "stream",
     "text": [
      "2023-08-26 17:20:59,715 INFO Request is running\n",
      "2023-08-26 17:21:48,275 INFO Request is completed\n",
      "2023-08-26 17:21:48,282 INFO Downloading https://download-0018.copernicus-climate.eu/cache-compute-0018/cache/data4/adaptor.mars.internal-1693066895.9433036-25821-13-c1515a4c-f653-4bac-ad5e-5f3f8e758ac0.nc to F:\\JuPyterNotebook\\data\\raw_data\\ERA5_DATA\\GB_ERA5_DATA\\era5_pressure_level_2005_11_850.nc (1.7M)\n",
      "2023-08-26 17:21:48,773 INFO Download rate 3.4M/s                                                                      \n",
      "2023-08-26 17:21:48,871 INFO Welcome to the CDS\n",
      "2023-08-26 17:21:48,871 INFO Sending request to https://cds.climate.copernicus.eu/api/v2/resources/reanalysis-era5-pressure-levels\n",
      "2023-08-26 17:21:48,925 INFO Request is queued\n"
     ]
    },
    {
     "name": "stdout",
     "output_type": "stream",
     "text": [
      "era5_pressure_level_2005_11_850.nc done!\n",
      "Download time: 50.231 s\n",
      "Folder 'F:\\JuPyterNotebook\\data\\raw_data\\ERA5_DATA\\GB_ERA5_DATA' created successfully.\n"
     ]
    },
    {
     "name": "stderr",
     "output_type": "stream",
     "text": [
      "2023-08-26 17:21:49,960 INFO Request is running\n",
      "2023-08-26 17:22:38,510 INFO Request is completed\n",
      "2023-08-26 17:22:38,510 INFO Downloading https://download-0000-clone.copernicus-climate.eu/cache-compute-0000/cache/data9/adaptor.mars.internal-1693066946.7470973-9392-8-3797f095-7094-40f4-a91f-f87cace9c0c4.nc to F:\\JuPyterNotebook\\data\\raw_data\\ERA5_DATA\\GB_ERA5_DATA\\era5_pressure_level_2005_12_850.nc (1.7M)\n",
      "2023-08-26 17:22:38,966 INFO Download rate 3.9M/s                                                                      \n",
      "2023-08-26 17:22:39,057 INFO Welcome to the CDS\n",
      "2023-08-26 17:22:39,057 INFO Sending request to https://cds.climate.copernicus.eu/api/v2/resources/reanalysis-era5-pressure-levels\n",
      "2023-08-26 17:22:39,114 INFO Request is queued\n"
     ]
    },
    {
     "name": "stdout",
     "output_type": "stream",
     "text": [
      "era5_pressure_level_2005_12_850.nc done!\n",
      "Download time: 50.206 s\n",
      "Folder 'F:\\JuPyterNotebook\\data\\raw_data\\ERA5_DATA\\GB_ERA5_DATA' created successfully.\n"
     ]
    },
    {
     "name": "stderr",
     "output_type": "stream",
     "text": [
      "2023-08-26 17:22:40,149 INFO Request is running\n",
      "2023-08-26 17:23:28,858 INFO Request is completed\n",
      "2023-08-26 17:23:28,858 INFO Downloading https://download-0016.copernicus-climate.eu/cache-compute-0016/cache/data2/adaptor.mars.internal-1693066999.185989-23173-3-3fb028a5-75ed-4aaa-ac35-e039b6d39734.nc to F:\\JuPyterNotebook\\data\\raw_data\\ERA5_DATA\\GB_ERA5_DATA\\era5_pressure_level_2006_01_850.nc (1.7M)\n",
      "2023-08-26 17:23:29,365 INFO Download rate 3.4M/s                                                                      \n",
      "2023-08-26 17:23:29,440 INFO Welcome to the CDS\n",
      "2023-08-26 17:23:29,440 INFO Sending request to https://cds.climate.copernicus.eu/api/v2/resources/reanalysis-era5-pressure-levels\n",
      "2023-08-26 17:23:29,488 INFO Request is queued\n"
     ]
    },
    {
     "name": "stdout",
     "output_type": "stream",
     "text": [
      "era5_pressure_level_2006_01_850.nc done!\n",
      "Download time: 50.387 s\n",
      "Folder 'F:\\JuPyterNotebook\\data\\raw_data\\ERA5_DATA\\GB_ERA5_DATA' created successfully.\n"
     ]
    },
    {
     "name": "stderr",
     "output_type": "stream",
     "text": [
      "2023-08-26 17:23:30,521 INFO Request is running\n",
      "2023-08-26 17:24:19,090 INFO Request is completed\n",
      "2023-08-26 17:24:19,090 INFO Downloading https://download-0008-clone.copernicus-climate.eu/cache-compute-0008/cache/data3/adaptor.mars.internal-1693067051.2367966-18953-14-136373c9-547f-4ff9-a695-6f8bd561a872.nc to F:\\JuPyterNotebook\\data\\raw_data\\ERA5_DATA\\GB_ERA5_DATA\\era5_pressure_level_2006_02_850.nc (1.6M)\n",
      "2023-08-26 17:24:19,571 INFO Download rate 3.4M/s                                                                      \n",
      "2023-08-26 17:24:19,680 INFO Welcome to the CDS\n",
      "2023-08-26 17:24:19,680 INFO Sending request to https://cds.climate.copernicus.eu/api/v2/resources/reanalysis-era5-pressure-levels\n",
      "2023-08-26 17:24:19,794 INFO Request is queued\n"
     ]
    },
    {
     "name": "stdout",
     "output_type": "stream",
     "text": [
      "era5_pressure_level_2006_02_850.nc done!\n",
      "Download time: 50.241 s\n",
      "Folder 'F:\\JuPyterNotebook\\data\\raw_data\\ERA5_DATA\\GB_ERA5_DATA' created successfully.\n"
     ]
    },
    {
     "name": "stderr",
     "output_type": "stream",
     "text": [
      "2023-08-26 17:24:20,837 INFO Request is running\n",
      "2023-08-26 17:25:09,383 INFO Request is completed\n",
      "2023-08-26 17:25:09,383 INFO Downloading https://download-0007-clone.copernicus-climate.eu/cache-compute-0007/cache/data8/adaptor.mars.internal-1693067099.0790467-11161-2-4028527c-5f9c-40bc-a945-1f15d3b09851.nc to F:\\JuPyterNotebook\\data\\raw_data\\ERA5_DATA\\GB_ERA5_DATA\\era5_pressure_level_2006_03_850.nc (1.7M)\n",
      "2023-08-26 17:25:09,902 INFO Download rate 3.4M/s                                                                      \n",
      "2023-08-26 17:25:09,982 INFO Welcome to the CDS\n",
      "2023-08-26 17:25:09,982 INFO Sending request to https://cds.climate.copernicus.eu/api/v2/resources/reanalysis-era5-pressure-levels\n",
      "2023-08-26 17:25:10,031 INFO Request is queued\n"
     ]
    },
    {
     "name": "stdout",
     "output_type": "stream",
     "text": [
      "era5_pressure_level_2006_03_850.nc done!\n",
      "Download time: 50.285 s\n",
      "Folder 'F:\\JuPyterNotebook\\data\\raw_data\\ERA5_DATA\\GB_ERA5_DATA' created successfully.\n"
     ]
    },
    {
     "name": "stderr",
     "output_type": "stream",
     "text": [
      "2023-08-26 17:25:11,070 INFO Request is running\n",
      "2023-08-26 17:25:59,607 INFO Request is completed\n",
      "2023-08-26 17:25:59,622 INFO Downloading https://download-0000-clone.copernicus-climate.eu/cache-compute-0000/cache/data7/adaptor.mars.internal-1693067154.8831623-2174-10-24a2ebae-dcd4-4123-93c3-57942c748488.nc to F:\\JuPyterNotebook\\data\\raw_data\\ERA5_DATA\\GB_ERA5_DATA\\era5_pressure_level_2006_04_850.nc (1.7M)\n",
      "2023-08-26 17:26:00,074 INFO Download rate 3.7M/s                                                                      \n",
      "2023-08-26 17:26:00,160 INFO Welcome to the CDS\n",
      "2023-08-26 17:26:00,160 INFO Sending request to https://cds.climate.copernicus.eu/api/v2/resources/reanalysis-era5-pressure-levels\n",
      "2023-08-26 17:26:00,247 INFO Request is queued\n"
     ]
    },
    {
     "name": "stdout",
     "output_type": "stream",
     "text": [
      "era5_pressure_level_2006_04_850.nc done!\n",
      "Download time: 50.177 s\n",
      "Folder 'F:\\JuPyterNotebook\\data\\raw_data\\ERA5_DATA\\GB_ERA5_DATA' created successfully.\n"
     ]
    },
    {
     "name": "stderr",
     "output_type": "stream",
     "text": [
      "2023-08-26 17:26:01,375 INFO Request is running\n",
      "2023-08-26 17:26:49,922 INFO Request is completed\n",
      "2023-08-26 17:26:49,938 INFO Downloading https://download-0004-clone.copernicus-climate.eu/cache-compute-0004/cache/data3/adaptor.mars.internal-1693067198.8043013-876-6-88bb682e-e58d-4e9c-9da6-04090523eb0c.nc to F:\\JuPyterNotebook\\data\\raw_data\\ERA5_DATA\\GB_ERA5_DATA\\era5_pressure_level_2006_05_850.nc (1.7M)\n",
      "2023-08-26 17:26:50,390 INFO Download rate 3.9M/s                                                                      \n",
      "2023-08-26 17:26:50,474 INFO Welcome to the CDS\n",
      "2023-08-26 17:26:50,474 INFO Sending request to https://cds.climate.copernicus.eu/api/v2/resources/reanalysis-era5-pressure-levels\n",
      "2023-08-26 17:26:50,545 INFO Request is queued\n"
     ]
    },
    {
     "name": "stdout",
     "output_type": "stream",
     "text": [
      "era5_pressure_level_2006_05_850.nc done!\n",
      "Download time: 50.299 s\n",
      "Folder 'F:\\JuPyterNotebook\\data\\raw_data\\ERA5_DATA\\GB_ERA5_DATA' created successfully.\n"
     ]
    },
    {
     "name": "stderr",
     "output_type": "stream",
     "text": [
      "2023-08-26 17:26:51,579 INFO Request is running\n",
      "2023-08-26 17:27:40,103 INFO Request is completed\n",
      "2023-08-26 17:27:40,103 INFO Downloading https://download-0010-clone.copernicus-climate.eu/cache-compute-0010/cache/data5/adaptor.mars.internal-1693067247.2847056-9799-9-775a5171-1e15-4df1-9487-cac220744883.nc to F:\\JuPyterNotebook\\data\\raw_data\\ERA5_DATA\\GB_ERA5_DATA\\era5_pressure_level_2006_06_850.nc (1.7M)\n",
      "2023-08-26 17:27:40,622 INFO Download rate 3.2M/s                                                                      \n",
      "2023-08-26 17:27:40,718 INFO Welcome to the CDS\n",
      "2023-08-26 17:27:40,718 INFO Sending request to https://cds.climate.copernicus.eu/api/v2/resources/reanalysis-era5-pressure-levels\n",
      "2023-08-26 17:27:40,799 INFO Request is queued\n"
     ]
    },
    {
     "name": "stdout",
     "output_type": "stream",
     "text": [
      "era5_pressure_level_2006_06_850.nc done!\n",
      "Download time: 50.249 s\n",
      "Folder 'F:\\JuPyterNotebook\\data\\raw_data\\ERA5_DATA\\GB_ERA5_DATA' created successfully.\n"
     ]
    },
    {
     "name": "stderr",
     "output_type": "stream",
     "text": [
      "2023-08-26 17:27:41,840 INFO Request is running\n",
      "2023-08-26 17:28:30,395 INFO Request is completed\n",
      "2023-08-26 17:28:30,395 INFO Downloading https://download-0000-clone.copernicus-climate.eu/cache-compute-0000/cache/data7/adaptor.mars.internal-1693067299.9347427-1723-10-4d49d97d-ed73-4238-baea-95104482c517.nc to F:\\JuPyterNotebook\\data\\raw_data\\ERA5_DATA\\GB_ERA5_DATA\\era5_pressure_level_2006_07_850.nc (1.7M)\n",
      "2023-08-26 17:28:30,918 INFO Download rate 3.3M/s                                                                      \n",
      "2023-08-26 17:28:30,989 INFO Welcome to the CDS\n",
      "2023-08-26 17:28:30,989 INFO Sending request to https://cds.climate.copernicus.eu/api/v2/resources/reanalysis-era5-pressure-levels\n",
      "2023-08-26 17:28:31,049 INFO Request is queued\n"
     ]
    },
    {
     "name": "stdout",
     "output_type": "stream",
     "text": [
      "era5_pressure_level_2006_07_850.nc done!\n",
      "Download time: 50.281 s\n",
      "Folder 'F:\\JuPyterNotebook\\data\\raw_data\\ERA5_DATA\\GB_ERA5_DATA' created successfully.\n"
     ]
    },
    {
     "name": "stderr",
     "output_type": "stream",
     "text": [
      "2023-08-26 17:28:32,090 INFO Request is running\n",
      "2023-08-26 17:29:20,637 INFO Request is completed\n",
      "2023-08-26 17:29:20,637 INFO Downloading https://download-0012-clone.copernicus-climate.eu/cache-compute-0012/cache/data3/adaptor.mars.internal-1693067356.7515743-17337-4-1256c2be-814f-4b20-87d1-59850ff96279.nc to F:\\JuPyterNotebook\\data\\raw_data\\ERA5_DATA\\GB_ERA5_DATA\\era5_pressure_level_2006_08_850.nc (1.7M)\n",
      "2023-08-26 17:29:21,164 INFO Download rate 3.4M/s                                                                      \n",
      "2023-08-26 17:29:21,242 INFO Welcome to the CDS\n",
      "2023-08-26 17:29:21,242 INFO Sending request to https://cds.climate.copernicus.eu/api/v2/resources/reanalysis-era5-pressure-levels\n",
      "2023-08-26 17:29:21,331 INFO Request is queued\n"
     ]
    },
    {
     "name": "stdout",
     "output_type": "stream",
     "text": [
      "era5_pressure_level_2006_08_850.nc done!\n",
      "Download time: 50.238 s\n",
      "Folder 'F:\\JuPyterNotebook\\data\\raw_data\\ERA5_DATA\\GB_ERA5_DATA' created successfully.\n"
     ]
    },
    {
     "name": "stderr",
     "output_type": "stream",
     "text": [
      "2023-08-26 17:29:22,367 INFO Request is running\n",
      "2023-08-26 17:30:10,897 INFO Request is completed\n",
      "2023-08-26 17:30:10,912 INFO Downloading https://download-0008-clone.copernicus-climate.eu/cache-compute-0008/cache/data1/adaptor.mars.internal-1693067404.1939774-22099-6-02466708-dbc9-411c-8583-1e213b4fe5cc.nc to F:\\JuPyterNotebook\\data\\raw_data\\ERA5_DATA\\GB_ERA5_DATA\\era5_pressure_level_2006_09_850.nc (1.7M)\n",
      "2023-08-26 17:30:11,358 INFO Download rate 3.8M/s                                                                      \n",
      "2023-08-26 17:30:11,453 INFO Welcome to the CDS\n",
      "2023-08-26 17:30:11,453 INFO Sending request to https://cds.climate.copernicus.eu/api/v2/resources/reanalysis-era5-pressure-levels\n",
      "2023-08-26 17:30:11,528 INFO Request is queued\n"
     ]
    },
    {
     "name": "stdout",
     "output_type": "stream",
     "text": [
      "era5_pressure_level_2006_09_850.nc done!\n",
      "Download time: 50.212 s\n",
      "Folder 'F:\\JuPyterNotebook\\data\\raw_data\\ERA5_DATA\\GB_ERA5_DATA' created successfully.\n"
     ]
    },
    {
     "name": "stderr",
     "output_type": "stream",
     "text": [
      "2023-08-26 17:30:12,572 INFO Request is running\n",
      "2023-08-26 17:31:01,264 INFO Request is completed\n",
      "2023-08-26 17:31:01,264 INFO Downloading https://download-0017.copernicus-climate.eu/cache-compute-0017/cache/data7/adaptor.mars.internal-1693067459.3343828-23313-6-95996808-91ca-4eb5-aba2-14e70c73750a.nc to F:\\JuPyterNotebook\\data\\raw_data\\ERA5_DATA\\GB_ERA5_DATA\\era5_pressure_level_2006_10_850.nc (1.7M)\n",
      "2023-08-26 17:31:01,823 INFO Download rate 3.1M/s                                                                      \n",
      "2023-08-26 17:31:01,903 INFO Welcome to the CDS\n",
      "2023-08-26 17:31:01,903 INFO Sending request to https://cds.climate.copernicus.eu/api/v2/resources/reanalysis-era5-pressure-levels\n",
      "2023-08-26 17:31:01,941 INFO Request is queued\n"
     ]
    },
    {
     "name": "stdout",
     "output_type": "stream",
     "text": [
      "era5_pressure_level_2006_10_850.nc done!\n",
      "Download time: 50.447 s\n",
      "Folder 'F:\\JuPyterNotebook\\data\\raw_data\\ERA5_DATA\\GB_ERA5_DATA' created successfully.\n"
     ]
    },
    {
     "name": "stderr",
     "output_type": "stream",
     "text": [
      "2023-08-26 17:31:02,986 INFO Request is running\n",
      "2023-08-26 17:31:51,534 INFO Request is completed\n",
      "2023-08-26 17:31:51,534 INFO Downloading https://download-0007-clone.copernicus-climate.eu/cache-compute-0007/cache/data6/adaptor.mars.internal-1693067501.77515-8086-16-a7f25b8f-8ae1-408f-8516-77ac670b907e.nc to F:\\JuPyterNotebook\\data\\raw_data\\ERA5_DATA\\GB_ERA5_DATA\\era5_pressure_level_2006_11_850.nc (1.7M)\n",
      "2023-08-26 17:31:52,059 INFO Download rate 3.2M/s                                                                      \n",
      "2023-08-26 17:31:52,145 INFO Welcome to the CDS\n",
      "2023-08-26 17:31:52,145 INFO Sending request to https://cds.climate.copernicus.eu/api/v2/resources/reanalysis-era5-pressure-levels\n",
      "2023-08-26 17:31:52,220 INFO Request is queued\n"
     ]
    },
    {
     "name": "stdout",
     "output_type": "stream",
     "text": [
      "era5_pressure_level_2006_11_850.nc done!\n",
      "Download time: 50.245 s\n",
      "Folder 'F:\\JuPyterNotebook\\data\\raw_data\\ERA5_DATA\\GB_ERA5_DATA' created successfully.\n"
     ]
    },
    {
     "name": "stderr",
     "output_type": "stream",
     "text": [
      "2023-08-26 17:31:53,268 INFO Request is running\n",
      "2023-08-26 17:32:41,779 INFO Request is completed\n",
      "2023-08-26 17:32:41,779 INFO Downloading https://download-0016.copernicus-climate.eu/cache-compute-0016/cache/data7/adaptor.mars.internal-1693067550.1228397-23879-5-bf33a4cc-5788-44c1-82a8-98aa80b7f4cb.nc to F:\\JuPyterNotebook\\data\\raw_data\\ERA5_DATA\\GB_ERA5_DATA\\era5_pressure_level_2006_12_850.nc (1.7M)\n",
      "2023-08-26 17:32:42,517 INFO Download rate 2.4M/s                                                                      \n",
      "2023-08-26 17:32:42,586 INFO Welcome to the CDS\n",
      "2023-08-26 17:32:42,602 INFO Sending request to https://cds.climate.copernicus.eu/api/v2/resources/reanalysis-era5-pressure-levels\n",
      "2023-08-26 17:32:42,668 INFO Request is queued\n"
     ]
    },
    {
     "name": "stdout",
     "output_type": "stream",
     "text": [
      "era5_pressure_level_2006_12_850.nc done!\n",
      "Download time: 50.440 s\n",
      "Folder 'F:\\JuPyterNotebook\\data\\raw_data\\ERA5_DATA\\GB_ERA5_DATA' created successfully.\n"
     ]
    },
    {
     "name": "stderr",
     "output_type": "stream",
     "text": [
      "2023-08-26 17:32:43,701 INFO Request is running\n",
      "2023-08-26 17:33:32,414 INFO Request is completed\n",
      "2023-08-26 17:33:32,414 INFO Downloading https://download-0005-clone.copernicus-climate.eu/cache-compute-0005/cache/data8/adaptor.mars.internal-1693067602.0130036-26979-14-7ec7c0c9-d028-4836-b2e8-a86938a4c835.nc to F:\\JuPyterNotebook\\data\\raw_data\\ERA5_DATA\\GB_ERA5_DATA\\era5_pressure_level_2007_01_850.nc (1.7M)\n",
      "2023-08-26 17:33:33,378 INFO Download rate 1.8M/s                                                                      \n",
      "2023-08-26 17:33:33,445 INFO Welcome to the CDS\n",
      "2023-08-26 17:33:33,461 INFO Sending request to https://cds.climate.copernicus.eu/api/v2/resources/reanalysis-era5-pressure-levels\n",
      "2023-08-26 17:33:33,544 INFO Request is queued\n"
     ]
    },
    {
     "name": "stdout",
     "output_type": "stream",
     "text": [
      "era5_pressure_level_2007_01_850.nc done!\n",
      "Download time: 50.860 s\n",
      "Folder 'F:\\JuPyterNotebook\\data\\raw_data\\ERA5_DATA\\GB_ERA5_DATA' created successfully.\n"
     ]
    },
    {
     "name": "stderr",
     "output_type": "stream",
     "text": [
      "2023-08-26 17:33:34,581 INFO Request is running\n",
      "2023-08-26 17:34:23,322 INFO Request is completed\n",
      "2023-08-26 17:34:23,322 INFO Downloading https://download-0010-clone.copernicus-climate.eu/cache-compute-0010/cache/data8/adaptor.mars.internal-1693067654.0679274-11536-10-88302269-3862-44bd-b47b-a8b11669026d.nc to F:\\JuPyterNotebook\\data\\raw_data\\ERA5_DATA\\GB_ERA5_DATA\\era5_pressure_level_2007_02_850.nc (1.6M)\n",
      "2023-08-26 17:34:24,308 INFO Download rate 1.6M/s                                                                      \n",
      "2023-08-26 17:34:24,462 INFO Welcome to the CDS\n",
      "2023-08-26 17:34:24,462 INFO Sending request to https://cds.climate.copernicus.eu/api/v2/resources/reanalysis-era5-pressure-levels\n",
      "2023-08-26 17:34:24,572 INFO Request is queued\n"
     ]
    },
    {
     "name": "stdout",
     "output_type": "stream",
     "text": [
      "era5_pressure_level_2007_02_850.nc done!\n",
      "Download time: 50.969 s\n",
      "Folder 'F:\\JuPyterNotebook\\data\\raw_data\\ERA5_DATA\\GB_ERA5_DATA' created successfully.\n"
     ]
    },
    {
     "name": "stderr",
     "output_type": "stream",
     "text": [
      "2023-08-26 17:34:25,661 INFO Request is running\n",
      "2023-08-26 17:35:14,483 INFO Request is completed\n",
      "2023-08-26 17:35:14,483 INFO Downloading https://download-0021.copernicus-climate.eu/cache-compute-0021/cache/data8/adaptor.mars.internal-1693067706.7235372-12388-10-947a2fc3-ae6e-4c93-9232-59267a0a32b8.nc to F:\\JuPyterNotebook\\data\\raw_data\\ERA5_DATA\\GB_ERA5_DATA\\era5_pressure_level_2007_03_850.nc (1.7M)\n",
      "2023-08-26 17:35:15,224 INFO Download rate 2.3M/s                                                                      \n",
      "2023-08-26 17:35:15,300 INFO Welcome to the CDS\n",
      "2023-08-26 17:35:15,300 INFO Sending request to https://cds.climate.copernicus.eu/api/v2/resources/reanalysis-era5-pressure-levels\n",
      "2023-08-26 17:35:15,389 INFO Request is queued\n"
     ]
    },
    {
     "name": "stdout",
     "output_type": "stream",
     "text": [
      "era5_pressure_level_2007_03_850.nc done!\n",
      "Download time: 50.870 s\n",
      "Folder 'F:\\JuPyterNotebook\\data\\raw_data\\ERA5_DATA\\GB_ERA5_DATA' created successfully.\n"
     ]
    },
    {
     "name": "stderr",
     "output_type": "stream",
     "text": [
      "2023-08-26 17:35:16,436 INFO Request is running\n",
      "2023-08-26 17:36:05,056 INFO Request is completed\n",
      "2023-08-26 17:36:05,056 INFO Downloading https://download-0009-clone.copernicus-climate.eu/cache-compute-0009/cache/data3/adaptor.mars.internal-1693067751.5301492-1599-8-8122ce39-f0c0-4442-99a3-f8d0d0e4e37c.nc to F:\\JuPyterNotebook\\data\\raw_data\\ERA5_DATA\\GB_ERA5_DATA\\era5_pressure_level_2007_04_850.nc (1.7M)\n",
      "2023-08-26 17:36:05,812 INFO Download rate 2.2M/s                                                                      \n",
      "2023-08-26 17:36:05,927 INFO Welcome to the CDS\n",
      "2023-08-26 17:36:05,927 INFO Sending request to https://cds.climate.copernicus.eu/api/v2/resources/reanalysis-era5-pressure-levels\n",
      "2023-08-26 17:36:05,973 INFO Request is queued\n"
     ]
    },
    {
     "name": "stdout",
     "output_type": "stream",
     "text": [
      "era5_pressure_level_2007_04_850.nc done!\n",
      "Download time: 50.643 s\n",
      "Folder 'F:\\JuPyterNotebook\\data\\raw_data\\ERA5_DATA\\GB_ERA5_DATA' created successfully.\n"
     ]
    },
    {
     "name": "stderr",
     "output_type": "stream",
     "text": [
      "2023-08-26 17:36:07,044 INFO Request is running\n",
      "2023-08-26 17:36:55,658 INFO Request is completed\n",
      "2023-08-26 17:36:55,658 INFO Downloading https://download-0008-clone.copernicus-climate.eu/cache-compute-0008/cache/data1/adaptor.mars.internal-1693067803.1700613-19851-19-b6e07962-7a21-4e97-a80c-a8fed75c07bb.nc to F:\\JuPyterNotebook\\data\\raw_data\\ERA5_DATA\\GB_ERA5_DATA\\era5_pressure_level_2007_05_850.nc (1.7M)\n",
      "2023-08-26 17:36:56,170 INFO Download rate 3.4M/s                                                                      \n",
      "2023-08-26 17:36:56,248 INFO Welcome to the CDS\n",
      "2023-08-26 17:36:56,258 INFO Sending request to https://cds.climate.copernicus.eu/api/v2/resources/reanalysis-era5-pressure-levels\n",
      "2023-08-26 17:36:56,328 INFO Request is queued\n"
     ]
    },
    {
     "name": "stdout",
     "output_type": "stream",
     "text": [
      "era5_pressure_level_2007_05_850.nc done!\n",
      "Download time: 50.321 s\n",
      "Folder 'F:\\JuPyterNotebook\\data\\raw_data\\ERA5_DATA\\GB_ERA5_DATA' created successfully.\n"
     ]
    },
    {
     "name": "stderr",
     "output_type": "stream",
     "text": [
      "2023-08-26 17:36:57,363 INFO Request is running\n",
      "2023-08-26 17:38:11,701 INFO Request is completed\n",
      "2023-08-26 17:38:11,709 INFO Downloading https://download-0004-clone.copernicus-climate.eu/cache-compute-0004/cache/data8/adaptor.mars.internal-1693067879.8980846-9226-2-d47b154b-e9e0-4f35-b401-9ae05875ee3a.nc to F:\\JuPyterNotebook\\data\\raw_data\\ERA5_DATA\\GB_ERA5_DATA\\era5_pressure_level_2007_06_850.nc (1.7M)\n",
      "2023-08-26 17:38:13,046 INFO Download rate 1.3M/s                                                                      \n",
      "2023-08-26 17:38:13,226 INFO Welcome to the CDS\n",
      "2023-08-26 17:38:13,226 INFO Sending request to https://cds.climate.copernicus.eu/api/v2/resources/reanalysis-era5-pressure-levels\n"
     ]
    },
    {
     "name": "stdout",
     "output_type": "stream",
     "text": [
      "era5_pressure_level_2007_06_850.nc done!\n",
      "Download time: 76.914 s\n",
      "Folder 'F:\\JuPyterNotebook\\data\\raw_data\\ERA5_DATA\\GB_ERA5_DATA' created successfully.\n"
     ]
    },
    {
     "name": "stderr",
     "output_type": "stream",
     "text": [
      "2023-08-26 17:38:13,404 INFO Request is queued\n",
      "2023-08-26 17:38:14,523 INFO Request is running\n",
      "2023-08-26 17:39:04,043 INFO Request is completed\n",
      "2023-08-26 17:39:04,043 INFO Downloading https://download-0010-clone.copernicus-climate.eu/cache-compute-0010/cache/data2/adaptor.mars.internal-1693067933.7658699-7207-12-8849a2bf-7d28-4937-bf68-a4931ee08f93.nc to F:\\JuPyterNotebook\\data\\raw_data\\ERA5_DATA\\GB_ERA5_DATA\\era5_pressure_level_2007_07_850.nc (1.7M)\n",
      "2023-08-26 17:39:05,297 INFO Download rate 1.4M/s                                                                      \n",
      "2023-08-26 17:39:05,481 INFO Welcome to the CDS\n",
      "2023-08-26 17:39:05,481 INFO Sending request to https://cds.climate.copernicus.eu/api/v2/resources/reanalysis-era5-pressure-levels\n"
     ]
    },
    {
     "name": "stdout",
     "output_type": "stream",
     "text": [
      "era5_pressure_level_2007_07_850.nc done!\n",
      "Download time: 52.256 s\n",
      "Folder 'F:\\JuPyterNotebook\\data\\raw_data\\ERA5_DATA\\GB_ERA5_DATA' created successfully.\n"
     ]
    },
    {
     "name": "stderr",
     "output_type": "stream",
     "text": [
      "2023-08-26 17:39:05,624 INFO Request is queued\n",
      "2023-08-26 17:39:06,739 INFO Request is running\n",
      "2023-08-26 17:39:55,824 INFO Request is completed\n",
      "2023-08-26 17:39:55,824 INFO Downloading https://download-0008-clone.copernicus-climate.eu/cache-compute-0008/cache/data2/adaptor.mars.internal-1693067984.3682802-10510-15-e5dc4e59-866d-4e0a-bacb-2474a4ca699e.nc to F:\\JuPyterNotebook\\data\\raw_data\\ERA5_DATA\\GB_ERA5_DATA\\era5_pressure_level_2007_08_850.nc (1.7M)\n",
      "2023-08-26 17:39:57,169 INFO Download rate 1.3M/s                                                                      \n",
      "2023-08-26 17:39:57,363 INFO Welcome to the CDS\n",
      "2023-08-26 17:39:57,363 INFO Sending request to https://cds.climate.copernicus.eu/api/v2/resources/reanalysis-era5-pressure-levels\n"
     ]
    },
    {
     "name": "stdout",
     "output_type": "stream",
     "text": [
      "era5_pressure_level_2007_08_850.nc done!\n",
      "Download time: 51.872 s\n",
      "Folder 'F:\\JuPyterNotebook\\data\\raw_data\\ERA5_DATA\\GB_ERA5_DATA' created successfully.\n"
     ]
    },
    {
     "name": "stderr",
     "output_type": "stream",
     "text": [
      "2023-08-26 17:39:57,509 INFO Request is queued\n",
      "2023-08-26 17:39:58,614 INFO Request is running\n",
      "2023-08-26 17:40:47,396 INFO Request is completed\n",
      "2023-08-26 17:40:47,396 INFO Downloading https://download-0004-clone.copernicus-climate.eu/cache-compute-0004/cache/data3/adaptor.mars.internal-1693068031.706865-4215-5-f5d18664-05a2-480d-8aa0-36288a0e0350.nc to F:\\JuPyterNotebook\\data\\raw_data\\ERA5_DATA\\GB_ERA5_DATA\\era5_pressure_level_2007_09_850.nc (1.7M)\n",
      "2023-08-26 17:40:47,940 INFO Download rate 3.1M/s                                                                      \n",
      "2023-08-26 17:40:48,081 INFO Welcome to the CDS\n",
      "2023-08-26 17:40:48,081 INFO Sending request to https://cds.climate.copernicus.eu/api/v2/resources/reanalysis-era5-pressure-levels\n",
      "2023-08-26 17:40:48,122 INFO Request is queued\n"
     ]
    },
    {
     "name": "stdout",
     "output_type": "stream",
     "text": [
      "era5_pressure_level_2007_09_850.nc done!\n",
      "Download time: 50.788 s\n",
      "Folder 'F:\\JuPyterNotebook\\data\\raw_data\\ERA5_DATA\\GB_ERA5_DATA' created successfully.\n"
     ]
    },
    {
     "name": "stderr",
     "output_type": "stream",
     "text": [
      "2023-08-26 17:40:49,243 INFO Request is running\n",
      "2023-08-26 17:41:38,329 INFO Request is completed\n",
      "2023-08-26 17:41:38,329 INFO Downloading https://download-0004-clone.copernicus-climate.eu/cache-compute-0004/cache/data1/adaptor.mars.internal-1693068086.027061-11295-3-e199dab1-541b-42d7-a4ce-e2444673983e.nc to F:\\JuPyterNotebook\\data\\raw_data\\ERA5_DATA\\GB_ERA5_DATA\\era5_pressure_level_2007_10_850.nc (1.7M)\n",
      "2023-08-26 17:41:39,010 INFO Download rate 2.6M/s                                                                      \n",
      "2023-08-26 17:41:39,126 INFO Welcome to the CDS\n",
      "2023-08-26 17:41:39,126 INFO Sending request to https://cds.climate.copernicus.eu/api/v2/resources/reanalysis-era5-pressure-levels\n",
      "2023-08-26 17:41:39,236 INFO Request is queued\n"
     ]
    },
    {
     "name": "stdout",
     "output_type": "stream",
     "text": [
      "era5_pressure_level_2007_10_850.nc done!\n",
      "Download time: 51.017 s\n",
      "Folder 'F:\\JuPyterNotebook\\data\\raw_data\\ERA5_DATA\\GB_ERA5_DATA' created successfully.\n"
     ]
    },
    {
     "name": "stderr",
     "output_type": "stream",
     "text": [
      "2023-08-26 17:41:40,331 INFO Request is running\n",
      "2023-08-26 17:42:29,158 INFO Request is completed\n",
      "2023-08-26 17:42:29,158 INFO Downloading https://download-0013-clone.copernicus-climate.eu/cache-compute-0013/cache/data0/adaptor.mars.internal-1693068141.7128549-28680-10-2cba01f7-6c17-4cfe-ae6f-4989537c9b0b.nc to F:\\JuPyterNotebook\\data\\raw_data\\ERA5_DATA\\GB_ERA5_DATA\\era5_pressure_level_2007_11_850.nc (1.7M)\n",
      "2023-08-26 17:42:29,791 INFO Download rate 2.7M/s                                                                      \n",
      "2023-08-26 17:42:29,869 INFO Welcome to the CDS\n",
      "2023-08-26 17:42:29,869 INFO Sending request to https://cds.climate.copernicus.eu/api/v2/resources/reanalysis-era5-pressure-levels\n",
      "2023-08-26 17:42:29,962 INFO Request is queued\n"
     ]
    },
    {
     "name": "stdout",
     "output_type": "stream",
     "text": [
      "era5_pressure_level_2007_11_850.nc done!\n",
      "Download time: 50.759 s\n",
      "Folder 'F:\\JuPyterNotebook\\data\\raw_data\\ERA5_DATA\\GB_ERA5_DATA' created successfully.\n"
     ]
    },
    {
     "name": "stderr",
     "output_type": "stream",
     "text": [
      "2023-08-26 17:42:30,993 INFO Request is running\n",
      "2023-08-26 17:43:19,505 INFO Request is completed\n",
      "2023-08-26 17:43:19,505 INFO Downloading https://download-0017.copernicus-climate.eu/cache-compute-0017/cache/data7/adaptor.mars.internal-1693068188.2784607-24427-10-58e5298b-a5d2-47e5-b4fe-a269abc8f6cc.nc to F:\\JuPyterNotebook\\data\\raw_data\\ERA5_DATA\\GB_ERA5_DATA\\era5_pressure_level_2007_12_850.nc (1.7M)\n",
      "2023-08-26 17:43:20,003 INFO Download rate 3.5M/s                                                                      \n",
      "2023-08-26 17:43:20,076 INFO Welcome to the CDS\n",
      "2023-08-26 17:43:20,076 INFO Sending request to https://cds.climate.copernicus.eu/api/v2/resources/reanalysis-era5-pressure-levels\n",
      "2023-08-26 17:43:20,174 INFO Request is queued\n"
     ]
    },
    {
     "name": "stdout",
     "output_type": "stream",
     "text": [
      "era5_pressure_level_2007_12_850.nc done!\n",
      "Download time: 50.223 s\n",
      "Folder 'F:\\JuPyterNotebook\\data\\raw_data\\ERA5_DATA\\GB_ERA5_DATA' created successfully.\n"
     ]
    },
    {
     "name": "stderr",
     "output_type": "stream",
     "text": [
      "2023-08-26 17:43:21,221 INFO Request is running\n",
      "2023-08-26 17:44:09,762 INFO Request is completed\n",
      "2023-08-26 17:44:09,762 INFO Downloading https://download-0013-clone.copernicus-climate.eu/cache-compute-0013/cache/data5/adaptor.mars.internal-1693068242.5848765-31022-11-e89435a0-7b1a-4e90-b666-eac3d34c2f40.nc to F:\\JuPyterNotebook\\data\\raw_data\\ERA5_DATA\\GB_ERA5_DATA\\era5_pressure_level_2008_01_850.nc (1.7M)\n",
      "2023-08-26 17:44:10,328 INFO Download rate 3.1M/s                                                                      \n",
      "2023-08-26 17:44:10,406 INFO Welcome to the CDS\n",
      "2023-08-26 17:44:10,406 INFO Sending request to https://cds.climate.copernicus.eu/api/v2/resources/reanalysis-era5-pressure-levels\n",
      "2023-08-26 17:44:10,499 INFO Request is queued\n"
     ]
    },
    {
     "name": "stdout",
     "output_type": "stream",
     "text": [
      "era5_pressure_level_2008_01_850.nc done!\n",
      "Download time: 50.314 s\n",
      "Folder 'F:\\JuPyterNotebook\\data\\raw_data\\ERA5_DATA\\GB_ERA5_DATA' created successfully.\n"
     ]
    },
    {
     "name": "stderr",
     "output_type": "stream",
     "text": [
      "2023-08-26 17:44:11,533 INFO Request is running\n",
      "2023-08-26 17:45:00,153 INFO Request is completed\n",
      "2023-08-26 17:45:00,153 INFO Downloading https://download-0011-clone.copernicus-climate.eu/cache-compute-0011/cache/data8/adaptor.mars.internal-1693068286.0909739-14183-13-78c58dbd-db03-453d-af87-229e7ba61e06.nc to F:\\JuPyterNotebook\\data\\raw_data\\ERA5_DATA\\GB_ERA5_DATA\\era5_pressure_level_2008_02_850.nc (1.6M)\n",
      "2023-08-26 17:45:00,630 INFO Download rate 3.4M/s                                                                      \n",
      "2023-08-26 17:45:00,705 INFO Welcome to the CDS\n",
      "2023-08-26 17:45:00,705 INFO Sending request to https://cds.climate.copernicus.eu/api/v2/resources/reanalysis-era5-pressure-levels\n",
      "2023-08-26 17:45:00,776 INFO Request is queued\n"
     ]
    },
    {
     "name": "stdout",
     "output_type": "stream",
     "text": [
      "era5_pressure_level_2008_02_850.nc done!\n",
      "Download time: 50.309 s\n",
      "Folder 'F:\\JuPyterNotebook\\data\\raw_data\\ERA5_DATA\\GB_ERA5_DATA' created successfully.\n"
     ]
    },
    {
     "name": "stderr",
     "output_type": "stream",
     "text": [
      "2023-08-26 17:45:01,810 INFO Request is running\n",
      "2023-08-26 17:45:50,353 INFO Request is completed\n",
      "2023-08-26 17:45:50,353 INFO Downloading https://download-0017.copernicus-climate.eu/cache-compute-0017/cache/data3/adaptor.mars.internal-1693068338.3033829-23154-12-ec3fd78e-843a-41c2-af08-af0fe6fcfcf0.nc to F:\\JuPyterNotebook\\data\\raw_data\\ERA5_DATA\\GB_ERA5_DATA\\era5_pressure_level_2008_03_850.nc (1.7M)\n",
      "2023-08-26 17:45:50,818 INFO Download rate 3.7M/s                                                                      \n",
      "2023-08-26 17:45:50,907 INFO Welcome to the CDS\n",
      "2023-08-26 17:45:50,922 INFO Sending request to https://cds.climate.copernicus.eu/api/v2/resources/reanalysis-era5-pressure-levels\n",
      "2023-08-26 17:45:50,991 INFO Request is queued\n"
     ]
    },
    {
     "name": "stdout",
     "output_type": "stream",
     "text": [
      "era5_pressure_level_2008_03_850.nc done!\n",
      "Download time: 50.202 s\n",
      "Folder 'F:\\JuPyterNotebook\\data\\raw_data\\ERA5_DATA\\GB_ERA5_DATA' created successfully.\n"
     ]
    },
    {
     "name": "stderr",
     "output_type": "stream",
     "text": [
      "2023-08-26 17:45:52,039 INFO Request is running\n",
      "2023-08-26 17:46:40,744 INFO Request is completed\n",
      "2023-08-26 17:46:40,744 INFO Downloading https://download-0019.copernicus-climate.eu/cache-compute-0019/cache/data7/adaptor.mars.internal-1693068387.2251167-30146-6-867d8ed6-ab5d-43f0-ba70-dd60eb0d811d.nc to F:\\JuPyterNotebook\\data\\raw_data\\ERA5_DATA\\GB_ERA5_DATA\\era5_pressure_level_2008_04_850.nc (1.7M)\n",
      "2023-08-26 17:46:41,223 INFO Download rate 3.5M/s                                                                      \n",
      "2023-08-26 17:46:41,315 INFO Welcome to the CDS\n",
      "2023-08-26 17:46:41,315 INFO Sending request to https://cds.climate.copernicus.eu/api/v2/resources/reanalysis-era5-pressure-levels\n",
      "2023-08-26 17:46:41,399 INFO Request is queued\n"
     ]
    },
    {
     "name": "stdout",
     "output_type": "stream",
     "text": [
      "era5_pressure_level_2008_04_850.nc done!\n",
      "Download time: 50.393 s\n",
      "Folder 'F:\\JuPyterNotebook\\data\\raw_data\\ERA5_DATA\\GB_ERA5_DATA' created successfully.\n"
     ]
    },
    {
     "name": "stderr",
     "output_type": "stream",
     "text": [
      "2023-08-26 17:46:42,433 INFO Request is running\n",
      "2023-08-26 17:47:31,009 INFO Request is completed\n",
      "2023-08-26 17:47:31,012 INFO Downloading https://download-0013-clone.copernicus-climate.eu/cache-compute-0013/cache/data8/adaptor.mars.internal-1693068439.9291935-23641-16-444cef19-4d6d-45ff-bba4-9a1be9b9e7aa.nc to F:\\JuPyterNotebook\\data\\raw_data\\ERA5_DATA\\GB_ERA5_DATA\\era5_pressure_level_2008_05_850.nc (1.7M)\n",
      "2023-08-26 17:47:31,498 INFO Download rate 3.6M/s                                                                      \n",
      "2023-08-26 17:47:31,584 INFO Welcome to the CDS\n",
      "2023-08-26 17:47:31,584 INFO Sending request to https://cds.climate.copernicus.eu/api/v2/resources/reanalysis-era5-pressure-levels\n",
      "2023-08-26 17:47:31,642 INFO Request is queued\n"
     ]
    },
    {
     "name": "stdout",
     "output_type": "stream",
     "text": [
      "era5_pressure_level_2008_05_850.nc done!\n",
      "Download time: 50.274 s\n",
      "Folder 'F:\\JuPyterNotebook\\data\\raw_data\\ERA5_DATA\\GB_ERA5_DATA' created successfully.\n"
     ]
    },
    {
     "name": "stderr",
     "output_type": "stream",
     "text": [
      "2023-08-26 17:47:32,687 INFO Request is running\n",
      "2023-08-26 17:48:21,202 INFO Request is completed\n",
      "2023-08-26 17:48:21,202 INFO Downloading https://download-0001-clone.copernicus-climate.eu/cache-compute-0001/cache/data6/adaptor.mars.internal-1693068491.6613688-1118-2-52c09ce3-577a-46c9-a149-11e4fe1b4933.nc to F:\\JuPyterNotebook\\data\\raw_data\\ERA5_DATA\\GB_ERA5_DATA\\era5_pressure_level_2008_06_850.nc (1.7M)\n",
      "2023-08-26 17:48:21,656 INFO Download rate 3.8M/s                                                                      \n",
      "2023-08-26 17:48:21,736 INFO Welcome to the CDS\n",
      "2023-08-26 17:48:21,743 INFO Sending request to https://cds.climate.copernicus.eu/api/v2/resources/reanalysis-era5-pressure-levels\n",
      "2023-08-26 17:48:21,809 INFO Request is queued\n"
     ]
    },
    {
     "name": "stdout",
     "output_type": "stream",
     "text": [
      "era5_pressure_level_2008_06_850.nc done!\n",
      "Download time: 50.158 s\n",
      "Folder 'F:\\JuPyterNotebook\\data\\raw_data\\ERA5_DATA\\GB_ERA5_DATA' created successfully.\n"
     ]
    },
    {
     "name": "stderr",
     "output_type": "stream",
     "text": [
      "2023-08-26 17:48:22,855 INFO Request is running\n",
      "2023-08-26 17:49:11,424 INFO Request is completed\n",
      "2023-08-26 17:49:11,424 INFO Downloading https://download-0018.copernicus-climate.eu/cache-compute-0018/cache/data1/adaptor.mars.internal-1693068540.4428637-14478-2-ad9da670-313d-4060-8388-4b11bcea192f.nc to F:\\JuPyterNotebook\\data\\raw_data\\ERA5_DATA\\GB_ERA5_DATA\\era5_pressure_level_2008_07_850.nc (1.7M)\n",
      "2023-08-26 17:49:11,971 INFO Download rate 3.2M/s                                                                      \n",
      "2023-08-26 17:49:12,044 INFO Welcome to the CDS\n",
      "2023-08-26 17:49:12,044 INFO Sending request to https://cds.climate.copernicus.eu/api/v2/resources/reanalysis-era5-pressure-levels\n",
      "2023-08-26 17:49:12,100 INFO Request is queued\n"
     ]
    },
    {
     "name": "stdout",
     "output_type": "stream",
     "text": [
      "era5_pressure_level_2008_07_850.nc done!\n",
      "Download time: 50.310 s\n",
      "Folder 'F:\\JuPyterNotebook\\data\\raw_data\\ERA5_DATA\\GB_ERA5_DATA' created successfully.\n"
     ]
    },
    {
     "name": "stderr",
     "output_type": "stream",
     "text": [
      "2023-08-26 17:49:13,145 INFO Request is running\n",
      "2023-08-26 17:50:01,696 INFO Request is completed\n",
      "2023-08-26 17:50:01,696 INFO Downloading https://download-0020.copernicus-climate.eu/cache-compute-0020/cache/data4/adaptor.mars.internal-1693068588.9490566-20818-14-a0d62022-cfbe-428f-bc23-a7d0fe94e118.nc to F:\\JuPyterNotebook\\data\\raw_data\\ERA5_DATA\\GB_ERA5_DATA\\era5_pressure_level_2008_08_850.nc (1.7M)\n",
      "2023-08-26 17:50:02,235 INFO Download rate 3.2M/s                                                                      \n",
      "2023-08-26 17:50:02,310 INFO Welcome to the CDS\n",
      "2023-08-26 17:50:02,310 INFO Sending request to https://cds.climate.copernicus.eu/api/v2/resources/reanalysis-era5-pressure-levels\n",
      "2023-08-26 17:50:02,353 INFO Request is queued\n"
     ]
    },
    {
     "name": "stdout",
     "output_type": "stream",
     "text": [
      "era5_pressure_level_2008_08_850.nc done!\n",
      "Download time: 50.247 s\n",
      "Folder 'F:\\JuPyterNotebook\\data\\raw_data\\ERA5_DATA\\GB_ERA5_DATA' created successfully.\n"
     ]
    },
    {
     "name": "stderr",
     "output_type": "stream",
     "text": [
      "2023-08-26 17:50:03,387 INFO Request is running\n",
      "2023-08-26 17:50:51,959 INFO Request is completed\n",
      "2023-08-26 17:50:51,959 INFO Downloading https://download-0003-clone.copernicus-climate.eu/cache-compute-0003/cache/data1/adaptor.mars.internal-1693068637.7299824-28582-18-ab1c8494-8e3b-4b66-b7a4-7e91f24257d8.nc to F:\\JuPyterNotebook\\data\\raw_data\\ERA5_DATA\\GB_ERA5_DATA\\era5_pressure_level_2008_09_850.nc (1.7M)\n",
      "2023-08-26 17:50:52,480 INFO Download rate 3.2M/s                                                                      \n",
      "2023-08-26 17:50:52,567 INFO Welcome to the CDS\n",
      "2023-08-26 17:50:52,567 INFO Sending request to https://cds.climate.copernicus.eu/api/v2/resources/reanalysis-era5-pressure-levels\n",
      "2023-08-26 17:50:52,639 INFO Request is queued\n"
     ]
    },
    {
     "name": "stdout",
     "output_type": "stream",
     "text": [
      "era5_pressure_level_2008_09_850.nc done!\n",
      "Download time: 50.241 s\n",
      "Folder 'F:\\JuPyterNotebook\\data\\raw_data\\ERA5_DATA\\GB_ERA5_DATA' created successfully.\n"
     ]
    },
    {
     "name": "stderr",
     "output_type": "stream",
     "text": [
      "2023-08-26 17:50:53,684 INFO Request is running\n",
      "2023-08-26 17:51:42,238 INFO Request is completed\n",
      "2023-08-26 17:51:42,238 INFO Downloading https://download-0000-clone.copernicus-climate.eu/cache-compute-0000/cache/data5/adaptor.mars.internal-1693068691.4886403-13125-18-3b222ab8-5ff8-41f9-8cf7-fdce0fff45a9.nc to F:\\JuPyterNotebook\\data\\raw_data\\ERA5_DATA\\GB_ERA5_DATA\\era5_pressure_level_2008_10_850.nc (1.7M)\n",
      "2023-08-26 17:51:42,748 INFO Download rate 3.5M/s                                                                      \n",
      "2023-08-26 17:51:42,841 INFO Welcome to the CDS\n",
      "2023-08-26 17:51:42,841 INFO Sending request to https://cds.climate.copernicus.eu/api/v2/resources/reanalysis-era5-pressure-levels\n",
      "2023-08-26 17:51:42,966 INFO Request is queued\n"
     ]
    },
    {
     "name": "stdout",
     "output_type": "stream",
     "text": [
      "era5_pressure_level_2008_10_850.nc done!\n",
      "Download time: 50.274 s\n",
      "Folder 'F:\\JuPyterNotebook\\data\\raw_data\\ERA5_DATA\\GB_ERA5_DATA' created successfully.\n"
     ]
    },
    {
     "name": "stderr",
     "output_type": "stream",
     "text": [
      "2023-08-26 17:51:44,010 INFO Request is running\n",
      "2023-08-26 17:52:32,562 INFO Request is completed\n",
      "2023-08-26 17:52:32,562 INFO Downloading https://download-0010-clone.copernicus-climate.eu/cache-compute-0010/cache/data0/adaptor.mars.internal-1693068739.7455893-24037-3-940d538b-c456-4428-a3ca-b4d81e404eff.nc to F:\\JuPyterNotebook\\data\\raw_data\\ERA5_DATA\\GB_ERA5_DATA\\era5_pressure_level_2008_11_850.nc (1.7M)\n",
      "2023-08-26 17:52:33,064 INFO Download rate 3.3M/s                                                                      \n",
      "2023-08-26 17:52:33,140 INFO Welcome to the CDS\n",
      "2023-08-26 17:52:33,155 INFO Sending request to https://cds.climate.copernicus.eu/api/v2/resources/reanalysis-era5-pressure-levels\n",
      "2023-08-26 17:52:33,241 INFO Request is queued\n"
     ]
    },
    {
     "name": "stdout",
     "output_type": "stream",
     "text": [
      "era5_pressure_level_2008_11_850.nc done!\n",
      "Download time: 50.299 s\n",
      "Folder 'F:\\JuPyterNotebook\\data\\raw_data\\ERA5_DATA\\GB_ERA5_DATA' created successfully.\n"
     ]
    },
    {
     "name": "stderr",
     "output_type": "stream",
     "text": [
      "2023-08-26 17:52:34,281 INFO Request is running\n",
      "2023-08-26 17:53:22,829 INFO Request is completed\n",
      "2023-08-26 17:53:22,829 INFO Downloading https://download-0021.copernicus-climate.eu/cache-compute-0021/cache/data6/adaptor.mars.internal-1693068790.2513728-15577-17-01fbf8b4-078d-4501-a4f5-e4bf108e7804.nc to F:\\JuPyterNotebook\\data\\raw_data\\ERA5_DATA\\GB_ERA5_DATA\\era5_pressure_level_2008_12_850.nc (1.7M)\n",
      "2023-08-26 17:53:23,318 INFO Download rate 3.7M/s                                                                      \n",
      "2023-08-26 17:53:23,425 INFO Welcome to the CDS\n",
      "2023-08-26 17:53:23,425 INFO Sending request to https://cds.climate.copernicus.eu/api/v2/resources/reanalysis-era5-pressure-levels\n",
      "2023-08-26 17:53:23,501 INFO Request is queued\n"
     ]
    },
    {
     "name": "stdout",
     "output_type": "stream",
     "text": [
      "era5_pressure_level_2008_12_850.nc done!\n",
      "Download time: 50.284 s\n",
      "Folder 'F:\\JuPyterNotebook\\data\\raw_data\\ERA5_DATA\\GB_ERA5_DATA' created successfully.\n"
     ]
    },
    {
     "name": "stderr",
     "output_type": "stream",
     "text": [
      "2023-08-26 17:53:24,548 INFO Request is running\n",
      "2023-08-26 17:54:13,088 INFO Request is completed\n",
      "2023-08-26 17:54:13,104 INFO Downloading https://download-0000-clone.copernicus-climate.eu/cache-compute-0000/cache/data9/adaptor.mars.internal-1693068843.2932398-16259-8-53a4714f-30b0-4630-aa1c-8450a0131b31.nc to F:\\JuPyterNotebook\\data\\raw_data\\ERA5_DATA\\GB_ERA5_DATA\\era5_pressure_level_2009_01_850.nc (1.7M)\n",
      "2023-08-26 17:54:13,636 INFO Download rate 3.3M/s                                                                      \n",
      "2023-08-26 17:54:13,856 INFO Welcome to the CDS\n",
      "2023-08-26 17:54:13,856 INFO Sending request to https://cds.climate.copernicus.eu/api/v2/resources/reanalysis-era5-pressure-levels\n",
      "2023-08-26 17:54:13,934 INFO Request is queued\n"
     ]
    },
    {
     "name": "stdout",
     "output_type": "stream",
     "text": [
      "era5_pressure_level_2009_01_850.nc done!\n",
      "Download time: 50.414 s\n",
      "Folder 'F:\\JuPyterNotebook\\data\\raw_data\\ERA5_DATA\\GB_ERA5_DATA' created successfully.\n"
     ]
    },
    {
     "name": "stderr",
     "output_type": "stream",
     "text": [
      "2023-08-26 17:54:14,987 INFO Request is running\n",
      "2023-08-26 17:55:03,548 INFO Request is completed\n",
      "2023-08-26 17:55:03,548 INFO Downloading https://download-0017.copernicus-climate.eu/cache-compute-0017/cache/data1/adaptor.mars.internal-1693068886.5072656-22359-17-d29450ec-784e-4bd6-83c1-82abf65da8c5.nc to F:\\JuPyterNotebook\\data\\raw_data\\ERA5_DATA\\GB_ERA5_DATA\\era5_pressure_level_2009_02_850.nc (1.6M)\n",
      "2023-08-26 17:55:03,989 INFO Download rate 3.6M/s                                                                      \n",
      "2023-08-26 17:55:04,089 INFO Welcome to the CDS\n",
      "2023-08-26 17:55:04,089 INFO Sending request to https://cds.climate.copernicus.eu/api/v2/resources/reanalysis-era5-pressure-levels\n",
      "2023-08-26 17:55:04,150 INFO Request is queued\n"
     ]
    },
    {
     "name": "stdout",
     "output_type": "stream",
     "text": [
      "era5_pressure_level_2009_02_850.nc done!\n",
      "Download time: 50.218 s\n",
      "Folder 'F:\\JuPyterNotebook\\data\\raw_data\\ERA5_DATA\\GB_ERA5_DATA' created successfully.\n"
     ]
    },
    {
     "name": "stderr",
     "output_type": "stream",
     "text": [
      "2023-08-26 17:55:05,184 INFO Request is running\n",
      "2023-08-26 17:55:53,804 INFO Request is completed\n",
      "2023-08-26 17:55:53,804 INFO Downloading https://download-0006-clone.copernicus-climate.eu/cache-compute-0006/cache/data9/adaptor.mars.internal-1693068944.4060745-30264-9-478418a4-e128-4c82-9721-fb8bb4be0c7e.nc to F:\\JuPyterNotebook\\data\\raw_data\\ERA5_DATA\\GB_ERA5_DATA\\era5_pressure_level_2009_03_850.nc (1.7M)\n",
      "2023-08-26 17:55:54,363 INFO Download rate 3.1M/s                                                                      \n",
      "2023-08-26 17:55:54,452 INFO Welcome to the CDS\n",
      "2023-08-26 17:55:54,452 INFO Sending request to https://cds.climate.copernicus.eu/api/v2/resources/reanalysis-era5-pressure-levels\n",
      "2023-08-26 17:55:54,528 INFO Request is queued\n"
     ]
    },
    {
     "name": "stdout",
     "output_type": "stream",
     "text": [
      "era5_pressure_level_2009_03_850.nc done!\n",
      "Download time: 50.364 s\n",
      "Folder 'F:\\JuPyterNotebook\\data\\raw_data\\ERA5_DATA\\GB_ERA5_DATA' created successfully.\n"
     ]
    },
    {
     "name": "stderr",
     "output_type": "stream",
     "text": [
      "2023-08-26 17:55:55,582 INFO Request is running\n",
      "2023-08-26 17:56:44,202 INFO Request is completed\n",
      "2023-08-26 17:56:44,203 INFO Downloading https://download-0000-clone.copernicus-climate.eu/cache-compute-0000/cache/data8/adaptor.mars.internal-1693068989.3947525-25914-4-a51291b7-1530-40bd-8edf-94263b2ff0d1.nc to F:\\JuPyterNotebook\\data\\raw_data\\ERA5_DATA\\GB_ERA5_DATA\\era5_pressure_level_2009_04_850.nc (1.7M)\n",
      "2023-08-26 17:56:44,715 INFO Download rate 3.3M/s                                                                      \n",
      "2023-08-26 17:56:44,810 INFO Welcome to the CDS\n",
      "2023-08-26 17:56:44,810 INFO Sending request to https://cds.climate.copernicus.eu/api/v2/resources/reanalysis-era5-pressure-levels\n",
      "2023-08-26 17:56:44,961 INFO Request is queued\n"
     ]
    },
    {
     "name": "stdout",
     "output_type": "stream",
     "text": [
      "era5_pressure_level_2009_04_850.nc done!\n",
      "Download time: 50.354 s\n",
      "Folder 'F:\\JuPyterNotebook\\data\\raw_data\\ERA5_DATA\\GB_ERA5_DATA' created successfully.\n"
     ]
    },
    {
     "name": "stderr",
     "output_type": "stream",
     "text": [
      "2023-08-26 17:56:46,015 INFO Request is running\n",
      "2023-08-26 17:57:34,557 INFO Request is completed\n",
      "2023-08-26 17:57:34,559 INFO Downloading https://download-0006-clone.copernicus-climate.eu/cache-compute-0006/cache/data9/adaptor.mars.internal-1693069043.98706-29256-9-36462b98-0b13-4cdf-816e-b8a9092a7c4b.nc to F:\\JuPyterNotebook\\data\\raw_data\\ERA5_DATA\\GB_ERA5_DATA\\era5_pressure_level_2009_05_850.nc (1.7M)\n",
      "2023-08-26 17:57:35,015 INFO Download rate 3.8M/s                                                                      \n",
      "2023-08-26 17:57:35,096 INFO Welcome to the CDS\n",
      "2023-08-26 17:57:35,096 INFO Sending request to https://cds.climate.copernicus.eu/api/v2/resources/reanalysis-era5-pressure-levels\n",
      "2023-08-26 17:57:35,197 INFO Request is queued\n"
     ]
    },
    {
     "name": "stdout",
     "output_type": "stream",
     "text": [
      "era5_pressure_level_2009_05_850.nc done!\n",
      "Download time: 50.271 s\n",
      "Folder 'F:\\JuPyterNotebook\\data\\raw_data\\ERA5_DATA\\GB_ERA5_DATA' created successfully.\n"
     ]
    },
    {
     "name": "stderr",
     "output_type": "stream",
     "text": [
      "2023-08-26 17:57:36,234 INFO Request is running\n",
      "2023-08-26 17:58:24,807 INFO Request is completed\n",
      "2023-08-26 17:58:24,807 INFO Downloading https://download-0008-clone.copernicus-climate.eu/cache-compute-0008/cache/data1/adaptor.mars.internal-1693069090.6096447-2116-6-956f092d-9779-4a6a-bd04-460a907b2327.nc to F:\\JuPyterNotebook\\data\\raw_data\\ERA5_DATA\\GB_ERA5_DATA\\era5_pressure_level_2009_06_850.nc (1.7M)\n",
      "2023-08-26 17:58:25,302 INFO Download rate 3.4M/s                                                                      \n",
      "2023-08-26 17:58:25,389 INFO Welcome to the CDS\n",
      "2023-08-26 17:58:25,389 INFO Sending request to https://cds.climate.copernicus.eu/api/v2/resources/reanalysis-era5-pressure-levels\n"
     ]
    },
    {
     "name": "stdout",
     "output_type": "stream",
     "text": [
      "era5_pressure_level_2009_06_850.nc done!\n",
      "Download time: 50.294 s\n",
      "Folder 'F:\\JuPyterNotebook\\data\\raw_data\\ERA5_DATA\\GB_ERA5_DATA' created successfully.\n"
     ]
    },
    {
     "name": "stderr",
     "output_type": "stream",
     "text": [
      "2023-08-26 17:58:25,575 INFO Request is queued\n",
      "2023-08-26 17:58:26,628 INFO Request is running\n",
      "2023-08-26 17:59:15,197 INFO Request is completed\n",
      "2023-08-26 17:59:15,198 INFO Downloading https://download-0018.copernicus-climate.eu/cache-compute-0018/cache/data2/adaptor.mars.internal-1693069143.4047563-13437-12-49e23c1c-0610-4edc-ae41-31111efa2e7b.nc to F:\\JuPyterNotebook\\data\\raw_data\\ERA5_DATA\\GB_ERA5_DATA\\era5_pressure_level_2009_07_850.nc (1.7M)\n",
      "2023-08-26 17:59:15,659 INFO Download rate 3.8M/s                                                                      \n",
      "2023-08-26 17:59:15,765 INFO Welcome to the CDS\n",
      "2023-08-26 17:59:15,765 INFO Sending request to https://cds.climate.copernicus.eu/api/v2/resources/reanalysis-era5-pressure-levels\n",
      "2023-08-26 17:59:15,853 INFO Request is queued\n"
     ]
    },
    {
     "name": "stdout",
     "output_type": "stream",
     "text": [
      "era5_pressure_level_2009_07_850.nc done!\n",
      "Download time: 50.360 s\n",
      "Folder 'F:\\JuPyterNotebook\\data\\raw_data\\ERA5_DATA\\GB_ERA5_DATA' created successfully.\n"
     ]
    },
    {
     "name": "stderr",
     "output_type": "stream",
     "text": [
      "2023-08-26 17:59:16,888 INFO Request is running\n",
      "2023-08-26 18:00:05,459 INFO Request is completed\n",
      "2023-08-26 18:00:05,460 INFO Downloading https://download-0012-clone.copernicus-climate.eu/cache-compute-0012/cache/data4/adaptor.mars.internal-1693069194.7230508-28449-15-0c332667-94d2-4899-9d58-eee419cedf37.nc to F:\\JuPyterNotebook\\data\\raw_data\\ERA5_DATA\\GB_ERA5_DATA\\era5_pressure_level_2009_08_850.nc (1.7M)\n",
      "2023-08-26 18:00:05,981 INFO Download rate 3.3M/s                                                                      \n",
      "2023-08-26 18:00:06,060 INFO Welcome to the CDS\n",
      "2023-08-26 18:00:06,060 INFO Sending request to https://cds.climate.copernicus.eu/api/v2/resources/reanalysis-era5-pressure-levels\n",
      "2023-08-26 18:00:06,161 INFO Request is queued\n"
     ]
    },
    {
     "name": "stdout",
     "output_type": "stream",
     "text": [
      "era5_pressure_level_2009_08_850.nc done!\n",
      "Download time: 50.311 s\n",
      "Folder 'F:\\JuPyterNotebook\\data\\raw_data\\ERA5_DATA\\GB_ERA5_DATA' created successfully.\n"
     ]
    },
    {
     "name": "stderr",
     "output_type": "stream",
     "text": [
      "2023-08-26 18:00:07,201 INFO Request is running\n",
      "2023-08-26 18:00:55,801 INFO Request is completed\n",
      "2023-08-26 18:00:55,801 INFO Downloading https://download-0014-clone.copernicus-climate.eu/cache-compute-0014/cache/data4/adaptor.mars.internal-1693069245.1884544-23112-11-332d6106-5f6b-4428-9ddf-b51a5072c3b6.nc to F:\\JuPyterNotebook\\data\\raw_data\\ERA5_DATA\\GB_ERA5_DATA\\era5_pressure_level_2009_09_850.nc (1.7M)\n",
      "2023-08-26 18:00:56,383 INFO Download rate 2.9M/s                                                                      \n",
      "2023-08-26 18:00:56,460 INFO Welcome to the CDS\n",
      "2023-08-26 18:00:56,460 INFO Sending request to https://cds.climate.copernicus.eu/api/v2/resources/reanalysis-era5-pressure-levels\n",
      "2023-08-26 18:00:56,560 INFO Request is queued\n"
     ]
    },
    {
     "name": "stdout",
     "output_type": "stream",
     "text": [
      "era5_pressure_level_2009_09_850.nc done!\n",
      "Download time: 50.399 s\n",
      "Folder 'F:\\JuPyterNotebook\\data\\raw_data\\ERA5_DATA\\GB_ERA5_DATA' created successfully.\n"
     ]
    },
    {
     "name": "stderr",
     "output_type": "stream",
     "text": [
      "2023-08-26 18:00:57,599 INFO Request is running\n",
      "2023-08-26 18:01:46,170 INFO Request is completed\n",
      "2023-08-26 18:01:46,170 INFO Downloading https://download-0008-clone.copernicus-climate.eu/cache-compute-0008/cache/data7/adaptor.mars.internal-1693069294.1301813-2806-8-01022bf2-3aad-4732-9fad-9b577d0b78a6.nc to F:\\JuPyterNotebook\\data\\raw_data\\ERA5_DATA\\GB_ERA5_DATA\\era5_pressure_level_2009_10_850.nc (1.7M)\n",
      "2023-08-26 18:01:46,670 INFO Download rate 3.5M/s                                                                      \n",
      "2023-08-26 18:01:46,861 INFO Welcome to the CDS\n",
      "2023-08-26 18:01:46,861 INFO Sending request to https://cds.climate.copernicus.eu/api/v2/resources/reanalysis-era5-pressure-levels\n"
     ]
    },
    {
     "name": "stdout",
     "output_type": "stream",
     "text": [
      "era5_pressure_level_2009_10_850.nc done!\n",
      "Download time: 50.290 s\n",
      "Folder 'F:\\JuPyterNotebook\\data\\raw_data\\ERA5_DATA\\GB_ERA5_DATA' created successfully.\n"
     ]
    },
    {
     "name": "stderr",
     "output_type": "stream",
     "text": [
      "2023-08-26 18:01:46,959 INFO Request is queued\n",
      "2023-08-26 18:01:48,005 INFO Request is running\n",
      "2023-08-26 18:02:36,554 INFO Request is completed\n",
      "2023-08-26 18:02:36,554 INFO Downloading https://download-0002-clone.copernicus-climate.eu/cache-compute-0002/cache/data0/adaptor.mars.internal-1693069340.8405254-13742-14-816d8337-5019-4a1d-9073-743b2d4070d0.nc to F:\\JuPyterNotebook\\data\\raw_data\\ERA5_DATA\\GB_ERA5_DATA\\era5_pressure_level_2009_11_850.nc (1.7M)\n",
      "2023-08-26 18:02:37,013 INFO Download rate 3.7M/s                                                                      \n",
      "2023-08-26 18:02:37,095 INFO Welcome to the CDS\n",
      "2023-08-26 18:02:37,095 INFO Sending request to https://cds.climate.copernicus.eu/api/v2/resources/reanalysis-era5-pressure-levels\n",
      "2023-08-26 18:02:37,170 INFO Request is queued\n"
     ]
    },
    {
     "name": "stdout",
     "output_type": "stream",
     "text": [
      "era5_pressure_level_2009_11_850.nc done!\n",
      "Download time: 50.346 s\n",
      "Folder 'F:\\JuPyterNotebook\\data\\raw_data\\ERA5_DATA\\GB_ERA5_DATA' created successfully.\n"
     ]
    },
    {
     "name": "stderr",
     "output_type": "stream",
     "text": [
      "2023-08-26 18:02:38,212 INFO Request is running\n",
      "2023-08-26 18:03:26,768 INFO Request is completed\n",
      "2023-08-26 18:03:26,768 INFO Downloading https://download-0003-clone.copernicus-climate.eu/cache-compute-0003/cache/data1/adaptor.mars.internal-1693069395.7541552-9703-3-342d98e4-2c73-4c59-8ea9-ce92f53e2764.nc to F:\\JuPyterNotebook\\data\\raw_data\\ERA5_DATA\\GB_ERA5_DATA\\era5_pressure_level_2009_12_850.nc (1.7M)\n",
      "2023-08-26 18:03:27,245 INFO Download rate 3.6M/s                                                                      \n",
      "2023-08-26 18:03:27,325 INFO Welcome to the CDS\n",
      "2023-08-26 18:03:27,325 INFO Sending request to https://cds.climate.copernicus.eu/api/v2/resources/reanalysis-era5-pressure-levels\n",
      "2023-08-26 18:03:27,438 INFO Request is queued\n"
     ]
    },
    {
     "name": "stdout",
     "output_type": "stream",
     "text": [
      "era5_pressure_level_2009_12_850.nc done!\n",
      "Download time: 50.229 s\n",
      "Folder 'F:\\JuPyterNotebook\\data\\raw_data\\ERA5_DATA\\GB_ERA5_DATA' created successfully.\n"
     ]
    },
    {
     "name": "stderr",
     "output_type": "stream",
     "text": [
      "2023-08-26 18:03:28,480 INFO Request is running\n",
      "2023-08-26 18:04:17,022 INFO Request is completed\n",
      "2023-08-26 18:04:17,022 INFO Downloading https://download-0012-clone.copernicus-climate.eu/cache-compute-0012/cache/data4/adaptor.mars.internal-1693069443.5005388-19316-15-6d1593a5-d81b-4ac0-8b27-34c3b93db61e.nc to F:\\JuPyterNotebook\\data\\raw_data\\ERA5_DATA\\GB_ERA5_DATA\\era5_pressure_level_2010_01_850.nc (1.7M)\n",
      "2023-08-26 18:04:17,543 INFO Download rate 3.3M/s                                                                      \n",
      "2023-08-26 18:04:17,621 INFO Welcome to the CDS\n",
      "2023-08-26 18:04:17,621 INFO Sending request to https://cds.climate.copernicus.eu/api/v2/resources/reanalysis-era5-pressure-levels\n",
      "2023-08-26 18:04:17,691 INFO Request is queued\n"
     ]
    },
    {
     "name": "stdout",
     "output_type": "stream",
     "text": [
      "era5_pressure_level_2010_01_850.nc done!\n",
      "Download time: 50.278 s\n",
      "Folder 'F:\\JuPyterNotebook\\data\\raw_data\\ERA5_DATA\\GB_ERA5_DATA' created successfully.\n"
     ]
    },
    {
     "name": "stderr",
     "output_type": "stream",
     "text": [
      "2023-08-26 18:04:18,729 INFO Request is running\n",
      "2023-08-26 18:05:07,277 INFO Request is completed\n",
      "2023-08-26 18:05:07,277 INFO Downloading https://download-0019.copernicus-climate.eu/cache-compute-0019/cache/data9/adaptor.mars.internal-1693069492.332868-5490-14-4f0ca866-111d-44de-9a44-ce5c2280d14c.nc to F:\\JuPyterNotebook\\data\\raw_data\\ERA5_DATA\\GB_ERA5_DATA\\era5_pressure_level_2010_02_850.nc (1.6M)\n",
      "2023-08-26 18:05:07,765 INFO Download rate 3.2M/s                                                                      \n",
      "2023-08-26 18:05:07,844 INFO Welcome to the CDS\n",
      "2023-08-26 18:05:07,844 INFO Sending request to https://cds.climate.copernicus.eu/api/v2/resources/reanalysis-era5-pressure-levels\n",
      "2023-08-26 18:05:07,924 INFO Request is queued\n"
     ]
    },
    {
     "name": "stdout",
     "output_type": "stream",
     "text": [
      "era5_pressure_level_2010_02_850.nc done!\n",
      "Download time: 50.238 s\n",
      "Folder 'F:\\JuPyterNotebook\\data\\raw_data\\ERA5_DATA\\GB_ERA5_DATA' created successfully.\n"
     ]
    },
    {
     "name": "stderr",
     "output_type": "stream",
     "text": [
      "2023-08-26 18:05:08,969 INFO Request is running\n",
      "2023-08-26 18:05:57,510 INFO Request is completed\n",
      "2023-08-26 18:05:57,510 INFO Downloading https://download-0013-clone.copernicus-climate.eu/cache-compute-0013/cache/data7/adaptor.mars.internal-1693069545.0569751-13009-2-427b7f9d-b214-477e-825a-afb27fe7ebd2.nc to F:\\JuPyterNotebook\\data\\raw_data\\ERA5_DATA\\GB_ERA5_DATA\\era5_pressure_level_2010_03_850.nc (1.7M)\n",
      "2023-08-26 18:05:58,048 INFO Download rate 3.2M/s                                                                      \n",
      "2023-08-26 18:05:58,116 INFO Welcome to the CDS\n",
      "2023-08-26 18:05:58,116 INFO Sending request to https://cds.climate.copernicus.eu/api/v2/resources/reanalysis-era5-pressure-levels\n",
      "2023-08-26 18:05:58,197 INFO Request is queued\n"
     ]
    },
    {
     "name": "stdout",
     "output_type": "stream",
     "text": [
      "era5_pressure_level_2010_03_850.nc done!\n",
      "Download time: 50.275 s\n",
      "Folder 'F:\\JuPyterNotebook\\data\\raw_data\\ERA5_DATA\\GB_ERA5_DATA' created successfully.\n"
     ]
    },
    {
     "name": "stderr",
     "output_type": "stream",
     "text": [
      "2023-08-26 18:05:59,235 INFO Request is running\n",
      "2023-08-26 18:06:47,774 INFO Request is completed\n",
      "2023-08-26 18:06:47,774 INFO Downloading https://download-0008-clone.copernicus-climate.eu/cache-compute-0008/cache/data2/adaptor.mars.internal-1693069594.6082685-8483-1-b7075064-e19d-43f3-8b73-1dddf492c373.nc to F:\\JuPyterNotebook\\data\\raw_data\\ERA5_DATA\\GB_ERA5_DATA\\era5_pressure_level_2010_04_850.nc (1.7M)\n",
      "2023-08-26 18:06:48,265 INFO Download rate 3.4M/s                                                                      \n",
      "2023-08-26 18:06:48,334 INFO Welcome to the CDS\n",
      "2023-08-26 18:06:48,334 INFO Sending request to https://cds.climate.copernicus.eu/api/v2/resources/reanalysis-era5-pressure-levels\n",
      "2023-08-26 18:06:48,432 INFO Request is queued\n"
     ]
    },
    {
     "name": "stdout",
     "output_type": "stream",
     "text": [
      "era5_pressure_level_2010_04_850.nc done!\n",
      "Download time: 50.219 s\n",
      "Folder 'F:\\JuPyterNotebook\\data\\raw_data\\ERA5_DATA\\GB_ERA5_DATA' created successfully.\n"
     ]
    },
    {
     "name": "stderr",
     "output_type": "stream",
     "text": [
      "2023-08-26 18:06:49,467 INFO Request is running\n",
      "2023-08-26 18:07:38,003 INFO Request is completed\n",
      "2023-08-26 18:07:38,003 INFO Downloading https://download-0018.copernicus-climate.eu/cache-compute-0018/cache/data3/adaptor.mars.internal-1693069646.361421-16011-11-2ec77e48-75f2-4f22-aab3-4a6b29b3792f.nc to F:\\JuPyterNotebook\\data\\raw_data\\ERA5_DATA\\GB_ERA5_DATA\\era5_pressure_level_2010_05_850.nc (1.7M)\n",
      "2023-08-26 18:07:38,466 INFO Download rate 3.7M/s                                                                      \n",
      "2023-08-26 18:07:38,552 INFO Welcome to the CDS\n",
      "2023-08-26 18:07:38,552 INFO Sending request to https://cds.climate.copernicus.eu/api/v2/resources/reanalysis-era5-pressure-levels\n",
      "2023-08-26 18:07:38,627 INFO Request is queued\n"
     ]
    },
    {
     "name": "stdout",
     "output_type": "stream",
     "text": [
      "era5_pressure_level_2010_05_850.nc done!\n",
      "Download time: 50.216 s\n",
      "Folder 'F:\\JuPyterNotebook\\data\\raw_data\\ERA5_DATA\\GB_ERA5_DATA' created successfully.\n"
     ]
    },
    {
     "name": "stderr",
     "output_type": "stream",
     "text": [
      "2023-08-26 18:07:39,659 INFO Request is running\n",
      "2023-08-26 18:08:28,213 INFO Request is completed\n",
      "2023-08-26 18:08:28,213 INFO Downloading https://download-0009-clone.copernicus-climate.eu/cache-compute-0009/cache/data8/adaptor.mars.internal-1693069695.3667953-13033-10-325dc6ae-8429-4e7c-b4e1-c84ccbbc0e0d.nc to F:\\JuPyterNotebook\\data\\raw_data\\ERA5_DATA\\GB_ERA5_DATA\\era5_pressure_level_2010_06_850.nc (1.7M)\n",
      "2023-08-26 18:08:28,783 INFO Download rate 2.9M/s                                                                      \n",
      "2023-08-26 18:08:28,848 INFO Welcome to the CDS\n",
      "2023-08-26 18:08:28,848 INFO Sending request to https://cds.climate.copernicus.eu/api/v2/resources/reanalysis-era5-pressure-levels\n",
      "2023-08-26 18:08:28,948 INFO Request is queued\n"
     ]
    },
    {
     "name": "stdout",
     "output_type": "stream",
     "text": [
      "era5_pressure_level_2010_06_850.nc done!\n",
      "Download time: 50.298 s\n",
      "Folder 'F:\\JuPyterNotebook\\data\\raw_data\\ERA5_DATA\\GB_ERA5_DATA' created successfully.\n"
     ]
    },
    {
     "name": "stderr",
     "output_type": "stream",
     "text": [
      "2023-08-26 18:08:29,995 INFO Request is running\n",
      "2023-08-26 18:09:18,512 INFO Request is completed\n",
      "2023-08-26 18:09:18,512 INFO Downloading https://download-0016.copernicus-climate.eu/cache-compute-0016/cache/data0/adaptor.mars.internal-1693069747.432519-10009-4-17b51b3e-5e71-4b41-b63e-792ca7a05832.nc to F:\\JuPyterNotebook\\data\\raw_data\\ERA5_DATA\\GB_ERA5_DATA\\era5_pressure_level_2010_07_850.nc (1.7M)\n",
      "2023-08-26 18:09:19,050 INFO Download rate 3.2M/s                                                                      \n",
      "2023-08-26 18:09:19,129 INFO Welcome to the CDS\n",
      "2023-08-26 18:09:19,129 INFO Sending request to https://cds.climate.copernicus.eu/api/v2/resources/reanalysis-era5-pressure-levels\n"
     ]
    },
    {
     "name": "stdout",
     "output_type": "stream",
     "text": [
      "era5_pressure_level_2010_07_850.nc done!\n",
      "Download time: 50.281 s\n",
      "Folder 'F:\\JuPyterNotebook\\data\\raw_data\\ERA5_DATA\\GB_ERA5_DATA' created successfully.\n"
     ]
    },
    {
     "name": "stderr",
     "output_type": "stream",
     "text": [
      "2023-08-26 18:09:19,368 INFO Request is queued\n",
      "2023-08-26 18:09:20,414 INFO Request is running\n",
      "2023-08-26 18:10:08,943 INFO Request is completed\n",
      "2023-08-26 18:10:08,943 INFO Downloading https://download-0007-clone.copernicus-climate.eu/cache-compute-0007/cache/data2/adaptor.mars.internal-1693069797.311872-26949-10-a9ed4959-1ed0-49b7-a699-47aad61db7ad.nc to F:\\JuPyterNotebook\\data\\raw_data\\ERA5_DATA\\GB_ERA5_DATA\\era5_pressure_level_2010_08_850.nc (1.7M)\n",
      "2023-08-26 18:10:09,452 INFO Download rate 3.4M/s                                                                      \n",
      "2023-08-26 18:10:09,538 INFO Welcome to the CDS\n",
      "2023-08-26 18:10:09,542 INFO Sending request to https://cds.climate.copernicus.eu/api/v2/resources/reanalysis-era5-pressure-levels\n",
      "2023-08-26 18:10:09,611 INFO Request is queued\n"
     ]
    },
    {
     "name": "stdout",
     "output_type": "stream",
     "text": [
      "era5_pressure_level_2010_08_850.nc done!\n",
      "Download time: 50.394 s\n",
      "Folder 'F:\\JuPyterNotebook\\data\\raw_data\\ERA5_DATA\\GB_ERA5_DATA' created successfully.\n"
     ]
    },
    {
     "name": "stderr",
     "output_type": "stream",
     "text": [
      "2023-08-26 18:10:10,657 INFO Request is running\n",
      "2023-08-26 18:10:59,206 INFO Request is completed\n",
      "2023-08-26 18:10:59,222 INFO Downloading https://download-0018.copernicus-climate.eu/cache-compute-0018/cache/data1/adaptor.mars.internal-1693069847.4245913-24407-2-67deeca8-b428-4013-a889-b13b3dd3cbec.nc to F:\\JuPyterNotebook\\data\\raw_data\\ERA5_DATA\\GB_ERA5_DATA\\era5_pressure_level_2010_09_850.nc (1.7M)\n",
      "2023-08-26 18:10:59,685 INFO Download rate 3.6M/s                                                                      \n",
      "2023-08-26 18:10:59,793 INFO Welcome to the CDS\n",
      "2023-08-26 18:10:59,793 INFO Sending request to https://cds.climate.copernicus.eu/api/v2/resources/reanalysis-era5-pressure-levels\n",
      "2023-08-26 18:10:59,847 INFO Request is queued\n"
     ]
    },
    {
     "name": "stdout",
     "output_type": "stream",
     "text": [
      "era5_pressure_level_2010_09_850.nc done!\n",
      "Download time: 50.250 s\n",
      "Folder 'F:\\JuPyterNotebook\\data\\raw_data\\ERA5_DATA\\GB_ERA5_DATA' created successfully.\n"
     ]
    },
    {
     "name": "stderr",
     "output_type": "stream",
     "text": [
      "2023-08-26 18:11:00,887 INFO Request is running\n",
      "2023-08-26 18:11:49,504 INFO Request is completed\n",
      "2023-08-26 18:11:49,504 INFO Downloading https://download-0017.copernicus-climate.eu/cache-compute-0017/cache/data3/adaptor.mars.internal-1693069896.1690574-13956-2-7b077b2e-5741-44cd-828d-16ea5030206c.nc to F:\\JuPyterNotebook\\data\\raw_data\\ERA5_DATA\\GB_ERA5_DATA\\era5_pressure_level_2010_10_850.nc (1.7M)\n",
      "2023-08-26 18:11:50,022 INFO Download rate 3.3M/s                                                                      \n",
      "2023-08-26 18:11:50,110 INFO Welcome to the CDS\n",
      "2023-08-26 18:11:50,110 INFO Sending request to https://cds.climate.copernicus.eu/api/v2/resources/reanalysis-era5-pressure-levels\n",
      "2023-08-26 18:11:50,215 INFO Request is queued\n"
     ]
    },
    {
     "name": "stdout",
     "output_type": "stream",
     "text": [
      "era5_pressure_level_2010_10_850.nc done!\n",
      "Download time: 50.305 s\n",
      "Folder 'F:\\JuPyterNotebook\\data\\raw_data\\ERA5_DATA\\GB_ERA5_DATA' created successfully.\n"
     ]
    },
    {
     "name": "stderr",
     "output_type": "stream",
     "text": [
      "2023-08-26 18:11:51,248 INFO Request is running\n",
      "2023-08-26 18:12:39,795 INFO Request is completed\n",
      "2023-08-26 18:12:39,795 INFO Downloading https://download-0002-clone.copernicus-climate.eu/cache-compute-0002/cache/data8/adaptor.mars.internal-1693069949.0564883-16230-11-423ca484-db0f-4c45-8e01-6d5332eea869.nc to F:\\JuPyterNotebook\\data\\raw_data\\ERA5_DATA\\GB_ERA5_DATA\\era5_pressure_level_2010_11_850.nc (1.7M)\n",
      "2023-08-26 18:12:40,306 INFO Download rate 3.3M/s                                                                      \n",
      "2023-08-26 18:12:40,384 INFO Welcome to the CDS\n",
      "2023-08-26 18:12:40,384 INFO Sending request to https://cds.climate.copernicus.eu/api/v2/resources/reanalysis-era5-pressure-levels\n",
      "2023-08-26 18:12:40,479 INFO Request is queued\n"
     ]
    },
    {
     "name": "stdout",
     "output_type": "stream",
     "text": [
      "era5_pressure_level_2010_11_850.nc done!\n",
      "Download time: 50.275 s\n",
      "Folder 'F:\\JuPyterNotebook\\data\\raw_data\\ERA5_DATA\\GB_ERA5_DATA' created successfully.\n"
     ]
    },
    {
     "name": "stderr",
     "output_type": "stream",
     "text": [
      "2023-08-26 18:12:41,531 INFO Request is running\n",
      "2023-08-26 18:13:30,089 INFO Request is completed\n",
      "2023-08-26 18:13:30,089 INFO Downloading https://download-0012-clone.copernicus-climate.eu/cache-compute-0012/cache/data6/adaptor.mars.internal-1693069998.0855742-9362-1-1f20c8fa-55b7-4d9d-8f39-b2a5b397d58e.nc to F:\\JuPyterNotebook\\data\\raw_data\\ERA5_DATA\\GB_ERA5_DATA\\era5_pressure_level_2010_12_850.nc (1.7M)\n",
      "2023-08-26 18:13:30,624 INFO Download rate 3.3M/s                                                                      \n",
      "2023-08-26 18:13:30,692 INFO Welcome to the CDS\n",
      "2023-08-26 18:13:30,708 INFO Sending request to https://cds.climate.copernicus.eu/api/v2/resources/reanalysis-era5-pressure-levels\n",
      "2023-08-26 18:13:30,745 INFO Request is queued\n"
     ]
    },
    {
     "name": "stdout",
     "output_type": "stream",
     "text": [
      "era5_pressure_level_2010_12_850.nc done!\n",
      "Download time: 50.308 s\n",
      "Folder 'F:\\JuPyterNotebook\\data\\raw_data\\ERA5_DATA\\GB_ERA5_DATA' created successfully.\n"
     ]
    },
    {
     "name": "stderr",
     "output_type": "stream",
     "text": [
      "2023-08-26 18:13:31,785 INFO Request is running\n",
      "2023-08-26 18:14:20,332 INFO Request is completed\n",
      "2023-08-26 18:14:20,332 INFO Downloading https://download-0000-clone.copernicus-climate.eu/cache-compute-0000/cache/data5/adaptor.mars.internal-1693070048.6855097-29145-7-8ba507c3-e2da-499e-a2c2-11b2e06e4c7e.nc to F:\\JuPyterNotebook\\data\\raw_data\\ERA5_DATA\\GB_ERA5_DATA\\era5_pressure_level_2011_01_850.nc (1.7M)\n",
      "2023-08-26 18:14:20,806 INFO Download rate 3.8M/s                                                                      \n",
      "2023-08-26 18:14:20,936 INFO Welcome to the CDS\n",
      "2023-08-26 18:14:20,936 INFO Sending request to https://cds.climate.copernicus.eu/api/v2/resources/reanalysis-era5-pressure-levels\n",
      "2023-08-26 18:14:20,993 INFO Request is queued\n"
     ]
    },
    {
     "name": "stdout",
     "output_type": "stream",
     "text": [
      "era5_pressure_level_2011_01_850.nc done!\n",
      "Download time: 50.197 s\n",
      "Folder 'F:\\JuPyterNotebook\\data\\raw_data\\ERA5_DATA\\GB_ERA5_DATA' created successfully.\n"
     ]
    },
    {
     "name": "stderr",
     "output_type": "stream",
     "text": [
      "2023-08-26 18:14:22,036 INFO Request is running\n",
      "2023-08-26 18:15:10,601 INFO Request is completed\n",
      "2023-08-26 18:15:10,601 INFO Downloading https://download-0005-clone.copernicus-climate.eu/cache-compute-0005/cache/data6/adaptor.mars.internal-1693070096.4742653-20219-3-e408391f-0b09-45ab-8a74-47ade6608842.nc to F:\\JuPyterNotebook\\data\\raw_data\\ERA5_DATA\\GB_ERA5_DATA\\era5_pressure_level_2011_02_850.nc (1.6M)\n",
      "2023-08-26 18:15:11,137 INFO Download rate 3M/s                                                                        \n",
      "2023-08-26 18:15:11,217 INFO Welcome to the CDS\n",
      "2023-08-26 18:15:11,217 INFO Sending request to https://cds.climate.copernicus.eu/api/v2/resources/reanalysis-era5-pressure-levels\n",
      "2023-08-26 18:15:11,295 INFO Request is queued\n"
     ]
    },
    {
     "name": "stdout",
     "output_type": "stream",
     "text": [
      "era5_pressure_level_2011_02_850.nc done!\n",
      "Download time: 50.312 s\n",
      "Folder 'F:\\JuPyterNotebook\\data\\raw_data\\ERA5_DATA\\GB_ERA5_DATA' created successfully.\n"
     ]
    },
    {
     "name": "stderr",
     "output_type": "stream",
     "text": [
      "2023-08-26 18:15:12,342 INFO Request is running\n",
      "2023-08-26 18:16:00,921 INFO Request is completed\n",
      "2023-08-26 18:16:00,921 INFO Downloading https://download-0008-clone.copernicus-climate.eu/cache-compute-0008/cache/data2/adaptor.mars.internal-1693070150.0015175-14470-1-a66fa677-075c-4d96-8585-564e2edfb123.nc to F:\\JuPyterNotebook\\data\\raw_data\\ERA5_DATA\\GB_ERA5_DATA\\era5_pressure_level_2011_03_850.nc (1.7M)\n",
      "2023-08-26 18:16:01,406 INFO Download rate 3.6M/s                                                                      \n",
      "2023-08-26 18:16:01,499 INFO Welcome to the CDS\n",
      "2023-08-26 18:16:01,499 INFO Sending request to https://cds.climate.copernicus.eu/api/v2/resources/reanalysis-era5-pressure-levels\n",
      "2023-08-26 18:16:01,556 INFO Request is queued\n"
     ]
    },
    {
     "name": "stdout",
     "output_type": "stream",
     "text": [
      "era5_pressure_level_2011_03_850.nc done!\n",
      "Download time: 50.282 s\n",
      "Folder 'F:\\JuPyterNotebook\\data\\raw_data\\ERA5_DATA\\GB_ERA5_DATA' created successfully.\n"
     ]
    },
    {
     "name": "stderr",
     "output_type": "stream",
     "text": [
      "2023-08-26 18:16:02,594 INFO Request is running\n",
      "2023-08-26 18:16:51,167 INFO Request is completed\n",
      "2023-08-26 18:16:51,167 INFO Downloading https://download-0008-clone.copernicus-climate.eu/cache-compute-0008/cache/data2/adaptor.mars.internal-1693070200.0975363-5073-15-d250edde-2c1b-4649-9c5c-6d793f30f938.nc to F:\\JuPyterNotebook\\data\\raw_data\\ERA5_DATA\\GB_ERA5_DATA\\era5_pressure_level_2011_04_850.nc (1.7M)\n",
      "2023-08-26 18:16:51,517 INFO Download rate 4.8M/s                                                                      \n",
      "2023-08-26 18:16:51,601 INFO Welcome to the CDS\n",
      "2023-08-26 18:16:51,601 INFO Sending request to https://cds.climate.copernicus.eu/api/v2/resources/reanalysis-era5-pressure-levels\n",
      "2023-08-26 18:16:51,642 INFO Request is queued\n"
     ]
    },
    {
     "name": "stdout",
     "output_type": "stream",
     "text": [
      "era5_pressure_level_2011_04_850.nc done!\n",
      "Download time: 50.102 s\n",
      "Folder 'F:\\JuPyterNotebook\\data\\raw_data\\ERA5_DATA\\GB_ERA5_DATA' created successfully.\n"
     ]
    },
    {
     "name": "stderr",
     "output_type": "stream",
     "text": [
      "2023-08-26 18:16:52,823 INFO Request is running\n",
      "2023-08-26 18:17:41,362 INFO Request is completed\n",
      "2023-08-26 18:17:41,378 INFO Downloading https://download-0004-clone.copernicus-climate.eu/cache-compute-0004/cache/data2/adaptor.mars.internal-1693070250.5763953-16308-14-8545d865-1bae-4428-9292-9c3464da76ee.nc to F:\\JuPyterNotebook\\data\\raw_data\\ERA5_DATA\\GB_ERA5_DATA\\era5_pressure_level_2011_05_850.nc (1.7M)\n",
      "2023-08-26 18:17:42,400 INFO Download rate 1.7M/s                                                                      \n",
      "2023-08-26 18:17:42,477 INFO Welcome to the CDS\n",
      "2023-08-26 18:17:42,477 INFO Sending request to https://cds.climate.copernicus.eu/api/v2/resources/reanalysis-era5-pressure-levels\n",
      "2023-08-26 18:17:42,577 INFO Request is queued\n"
     ]
    },
    {
     "name": "stdout",
     "output_type": "stream",
     "text": [
      "era5_pressure_level_2011_05_850.nc done!\n",
      "Download time: 50.891 s\n",
      "Folder 'F:\\JuPyterNotebook\\data\\raw_data\\ERA5_DATA\\GB_ERA5_DATA' created successfully.\n"
     ]
    },
    {
     "name": "stderr",
     "output_type": "stream",
     "text": [
      "2023-08-26 18:17:43,630 INFO Request is running\n",
      "2023-08-26 18:18:32,179 INFO Request is completed\n",
      "2023-08-26 18:18:32,180 INFO Downloading https://download-0005-clone.copernicus-climate.eu/cache-compute-0005/cache/data2/adaptor.mars.internal-1693070300.2632532-21635-2-6b6e7fc7-c6a3-4824-ac25-6a35216c539b.nc to F:\\JuPyterNotebook\\data\\raw_data\\ERA5_DATA\\GB_ERA5_DATA\\era5_pressure_level_2011_06_850.nc (1.7M)\n",
      "2023-08-26 18:18:32,704 INFO Download rate 3.2M/s                                                                      \n",
      "2023-08-26 18:18:32,783 INFO Welcome to the CDS\n",
      "2023-08-26 18:18:32,783 INFO Sending request to https://cds.climate.copernicus.eu/api/v2/resources/reanalysis-era5-pressure-levels\n",
      "2023-08-26 18:18:32,894 INFO Request is queued\n"
     ]
    },
    {
     "name": "stdout",
     "output_type": "stream",
     "text": [
      "era5_pressure_level_2011_06_850.nc done!\n",
      "Download time: 50.306 s\n",
      "Folder 'F:\\JuPyterNotebook\\data\\raw_data\\ERA5_DATA\\GB_ERA5_DATA' created successfully.\n"
     ]
    },
    {
     "name": "stderr",
     "output_type": "stream",
     "text": [
      "2023-08-26 18:18:33,940 INFO Request is running\n",
      "2023-08-26 18:19:22,462 INFO Request is completed\n",
      "2023-08-26 18:19:22,462 INFO Downloading https://download-0021.copernicus-climate.eu/cache-compute-0021/cache/data6/adaptor.mars.internal-1693070352.3848495-31717-12-9f409522-e2e2-4151-bfc7-b212789fb30c.nc to F:\\JuPyterNotebook\\data\\raw_data\\ERA5_DATA\\GB_ERA5_DATA\\era5_pressure_level_2011_07_850.nc (1.7M)\n",
      "2023-08-26 18:19:23,073 INFO Download rate 2.8M/s                                                                      \n",
      "2023-08-26 18:19:23,155 INFO Welcome to the CDS\n",
      "2023-08-26 18:19:23,155 INFO Sending request to https://cds.climate.copernicus.eu/api/v2/resources/reanalysis-era5-pressure-levels\n",
      "2023-08-26 18:19:23,211 INFO Request is queued\n"
     ]
    },
    {
     "name": "stdout",
     "output_type": "stream",
     "text": [
      "era5_pressure_level_2011_07_850.nc done!\n",
      "Download time: 50.357 s\n",
      "Folder 'F:\\JuPyterNotebook\\data\\raw_data\\ERA5_DATA\\GB_ERA5_DATA' created successfully.\n"
     ]
    },
    {
     "name": "stderr",
     "output_type": "stream",
     "text": [
      "2023-08-26 18:19:24,247 INFO Request is running\n",
      "2023-08-26 18:20:12,789 INFO Request is completed\n",
      "2023-08-26 18:20:12,789 INFO Downloading https://download-0015-clone.copernicus-climate.eu/cache-compute-0015/cache/data5/adaptor.mars.internal-1693070400.928-6246-17-e4d4114a-30a3-4252-9cfc-145a8400c1d7.nc to F:\\JuPyterNotebook\\data\\raw_data\\ERA5_DATA\\GB_ERA5_DATA\\era5_pressure_level_2011_08_850.nc (1.7M)\n",
      "2023-08-26 18:20:13,290 INFO Download rate 3.5M/s                                                                      \n",
      "2023-08-26 18:20:13,365 INFO Welcome to the CDS\n",
      "2023-08-26 18:20:13,365 INFO Sending request to https://cds.climate.copernicus.eu/api/v2/resources/reanalysis-era5-pressure-levels\n",
      "2023-08-26 18:20:13,428 INFO Request is queued\n"
     ]
    },
    {
     "name": "stdout",
     "output_type": "stream",
     "text": [
      "era5_pressure_level_2011_08_850.nc done!\n",
      "Download time: 50.224 s\n",
      "Folder 'F:\\JuPyterNotebook\\data\\raw_data\\ERA5_DATA\\GB_ERA5_DATA' created successfully.\n"
     ]
    },
    {
     "name": "stderr",
     "output_type": "stream",
     "text": [
      "2023-08-26 18:20:14,471 INFO Request is running\n",
      "2023-08-26 18:21:03,028 INFO Request is completed\n",
      "2023-08-26 18:21:03,028 INFO Downloading https://download-0003-clone.copernicus-climate.eu/cache-compute-0003/cache/data6/adaptor.mars.internal-1693070450.0076313-2106-5-f8ffe678-9f82-44fa-90f1-fa0de6ab8f3b.nc to F:\\JuPyterNotebook\\data\\raw_data\\ERA5_DATA\\GB_ERA5_DATA\\era5_pressure_level_2011_09_850.nc (1.7M)\n",
      "2023-08-26 18:21:03,528 INFO Download rate 3.4M/s                                                                      \n",
      "2023-08-26 18:21:03,601 INFO Welcome to the CDS\n",
      "2023-08-26 18:21:03,601 INFO Sending request to https://cds.climate.copernicus.eu/api/v2/resources/reanalysis-era5-pressure-levels\n",
      "2023-08-26 18:21:03,698 INFO Request is queued\n"
     ]
    },
    {
     "name": "stdout",
     "output_type": "stream",
     "text": [
      "era5_pressure_level_2011_09_850.nc done!\n",
      "Download time: 50.237 s\n",
      "Folder 'F:\\JuPyterNotebook\\data\\raw_data\\ERA5_DATA\\GB_ERA5_DATA' created successfully.\n"
     ]
    },
    {
     "name": "stderr",
     "output_type": "stream",
     "text": [
      "2023-08-26 18:21:04,739 INFO Request is running\n",
      "2023-08-26 18:21:53,293 INFO Request is completed\n",
      "2023-08-26 18:21:53,309 INFO Downloading https://download-0003-clone.copernicus-climate.eu/cache-compute-0003/cache/data1/adaptor.mars.internal-1693070502.8521566-5455-18-d5da2506-d171-4b0f-98d4-80007450db4d.nc to F:\\JuPyterNotebook\\data\\raw_data\\ERA5_DATA\\GB_ERA5_DATA\\era5_pressure_level_2011_10_850.nc (1.7M)\n",
      "2023-08-26 18:21:53,641 INFO Download rate 5.2M/s                                                                      \n",
      "2023-08-26 18:21:53,712 INFO Welcome to the CDS\n",
      "2023-08-26 18:21:53,712 INFO Sending request to https://cds.climate.copernicus.eu/api/v2/resources/reanalysis-era5-pressure-levels\n",
      "2023-08-26 18:21:53,756 INFO Request is queued\n"
     ]
    },
    {
     "name": "stdout",
     "output_type": "stream",
     "text": [
      "era5_pressure_level_2011_10_850.nc done!\n",
      "Download time: 50.111 s\n",
      "Folder 'F:\\JuPyterNotebook\\data\\raw_data\\ERA5_DATA\\GB_ERA5_DATA' created successfully.\n"
     ]
    },
    {
     "name": "stderr",
     "output_type": "stream",
     "text": [
      "2023-08-26 18:21:54,802 INFO Request is running\n",
      "2023-08-26 18:22:43,325 INFO Request is completed\n",
      "2023-08-26 18:22:43,325 INFO Downloading https://download-0015-clone.copernicus-climate.eu/cache-compute-0015/cache/data3/adaptor.mars.internal-1693070552.3644602-21250-6-5bf2cebd-02cb-4c21-a140-302360b1cfe8.nc to F:\\JuPyterNotebook\\data\\raw_data\\ERA5_DATA\\GB_ERA5_DATA\\era5_pressure_level_2011_11_850.nc (1.7M)\n",
      "2023-08-26 18:22:43,771 INFO Download rate 3.8M/s                                                                      \n",
      "2023-08-26 18:22:43,844 INFO Welcome to the CDS\n",
      "2023-08-26 18:22:43,860 INFO Sending request to https://cds.climate.copernicus.eu/api/v2/resources/reanalysis-era5-pressure-levels\n",
      "2023-08-26 18:22:43,941 INFO Request is queued\n"
     ]
    },
    {
     "name": "stdout",
     "output_type": "stream",
     "text": [
      "era5_pressure_level_2011_11_850.nc done!\n",
      "Download time: 50.132 s\n",
      "Folder 'F:\\JuPyterNotebook\\data\\raw_data\\ERA5_DATA\\GB_ERA5_DATA' created successfully.\n"
     ]
    },
    {
     "name": "stderr",
     "output_type": "stream",
     "text": [
      "2023-08-26 18:22:44,977 INFO Request is running\n",
      "2023-08-26 18:23:33,538 INFO Request is completed\n",
      "2023-08-26 18:23:33,538 INFO Downloading https://download-0011-clone.copernicus-climate.eu/cache-compute-0011/cache/data5/adaptor.mars.internal-1693070602.4503021-28963-19-73d0276e-7ade-47c7-9f2b-18c3dd5bef3d.nc to F:\\JuPyterNotebook\\data\\raw_data\\ERA5_DATA\\GB_ERA5_DATA\\era5_pressure_level_2011_12_850.nc (1.7M)\n",
      "2023-08-26 18:23:34,041 INFO Download rate 3.5M/s                                                                      \n",
      "2023-08-26 18:23:34,103 INFO Welcome to the CDS\n",
      "2023-08-26 18:23:34,119 INFO Sending request to https://cds.climate.copernicus.eu/api/v2/resources/reanalysis-era5-pressure-levels\n",
      "2023-08-26 18:23:34,228 INFO Request is queued\n"
     ]
    },
    {
     "name": "stdout",
     "output_type": "stream",
     "text": [
      "era5_pressure_level_2011_12_850.nc done!\n",
      "Download time: 50.259 s\n",
      "Folder 'F:\\JuPyterNotebook\\data\\raw_data\\ERA5_DATA\\GB_ERA5_DATA' created successfully.\n"
     ]
    },
    {
     "name": "stderr",
     "output_type": "stream",
     "text": [
      "2023-08-26 18:23:35,271 INFO Request is running\n",
      "2023-08-26 18:24:23,834 INFO Request is completed\n",
      "2023-08-26 18:24:23,834 INFO Downloading https://download-0009-clone.copernicus-climate.eu/cache-compute-0009/cache/data3/adaptor.mars.internal-1693070654.5826428-23423-8-6c2a218c-f979-49af-bc62-e9ba41191aba.nc to F:\\JuPyterNotebook\\data\\raw_data\\ERA5_DATA\\GB_ERA5_DATA\\era5_pressure_level_2012_01_850.nc (1.7M)\n",
      "2023-08-26 18:24:24,347 INFO Download rate 3.4M/s                                                                      \n",
      "2023-08-26 18:24:24,430 INFO Welcome to the CDS\n",
      "2023-08-26 18:24:24,430 INFO Sending request to https://cds.climate.copernicus.eu/api/v2/resources/reanalysis-era5-pressure-levels\n",
      "2023-08-26 18:24:24,473 INFO Request is queued\n"
     ]
    },
    {
     "name": "stdout",
     "output_type": "stream",
     "text": [
      "era5_pressure_level_2012_01_850.nc done!\n",
      "Download time: 50.326 s\n",
      "Folder 'F:\\JuPyterNotebook\\data\\raw_data\\ERA5_DATA\\GB_ERA5_DATA' created successfully.\n"
     ]
    },
    {
     "name": "stderr",
     "output_type": "stream",
     "text": [
      "2023-08-26 18:24:25,513 INFO Request is running\n",
      "2023-08-26 18:25:14,223 INFO Request is completed\n",
      "2023-08-26 18:25:14,223 INFO Downloading https://download-0007-clone.copernicus-climate.eu/cache-compute-0007/cache/data2/adaptor.mars.internal-1693070698.331805-26188-10-035b9141-8b12-4fc9-ba3e-f43da4576378.nc to F:\\JuPyterNotebook\\data\\raw_data\\ERA5_DATA\\GB_ERA5_DATA\\era5_pressure_level_2012_02_850.nc (1.6M)\n",
      "2023-08-26 18:25:14,704 INFO Download rate 3.4M/s                                                                      \n",
      "2023-08-26 18:25:14,808 INFO Welcome to the CDS\n",
      "2023-08-26 18:25:14,808 INFO Sending request to https://cds.climate.copernicus.eu/api/v2/resources/reanalysis-era5-pressure-levels\n",
      "2023-08-26 18:25:14,880 INFO Request is queued\n"
     ]
    },
    {
     "name": "stdout",
     "output_type": "stream",
     "text": [
      "era5_pressure_level_2012_02_850.nc done!\n",
      "Download time: 50.363 s\n",
      "Folder 'F:\\JuPyterNotebook\\data\\raw_data\\ERA5_DATA\\GB_ERA5_DATA' created successfully.\n"
     ]
    },
    {
     "name": "stderr",
     "output_type": "stream",
     "text": [
      "2023-08-26 18:25:15,917 INFO Request is running\n",
      "2023-08-26 18:26:04,476 INFO Request is completed\n",
      "2023-08-26 18:26:04,476 INFO Downloading https://download-0019.copernicus-climate.eu/cache-compute-0019/cache/data8/adaptor.mars.internal-1693070759.302661-20414-13-c02bd8aa-b57a-46ef-aa73-8f160fff8e91.nc to F:\\JuPyterNotebook\\data\\raw_data\\ERA5_DATA\\GB_ERA5_DATA\\era5_pressure_level_2012_03_850.nc (1.7M)\n",
      "2023-08-26 18:26:05,024 INFO Download rate 3.3M/s                                                                      \n",
      "2023-08-26 18:26:05,114 INFO Welcome to the CDS\n",
      "2023-08-26 18:26:05,114 INFO Sending request to https://cds.climate.copernicus.eu/api/v2/resources/reanalysis-era5-pressure-levels\n",
      "2023-08-26 18:26:05,172 INFO Request is queued\n"
     ]
    },
    {
     "name": "stdout",
     "output_type": "stream",
     "text": [
      "era5_pressure_level_2012_03_850.nc done!\n",
      "Download time: 50.306 s\n",
      "Folder 'F:\\JuPyterNotebook\\data\\raw_data\\ERA5_DATA\\GB_ERA5_DATA' created successfully.\n"
     ]
    },
    {
     "name": "stderr",
     "output_type": "stream",
     "text": [
      "2023-08-26 18:26:06,218 INFO Request is running\n",
      "2023-08-26 18:26:54,752 INFO Request is completed\n",
      "2023-08-26 18:26:54,768 INFO Downloading https://download-0011-clone.copernicus-climate.eu/cache-compute-0011/cache/data5/adaptor.mars.internal-1693070799.514303-2855-15-078b8e7e-8b02-4874-bce5-bcec0aa18248.nc to F:\\JuPyterNotebook\\data\\raw_data\\ERA5_DATA\\GB_ERA5_DATA\\era5_pressure_level_2012_04_850.nc (1.7M)\n",
      "2023-08-26 18:26:55,312 INFO Download rate 3.1M/s                                                                      \n",
      "2023-08-26 18:26:55,396 INFO Welcome to the CDS\n",
      "2023-08-26 18:26:55,396 INFO Sending request to https://cds.climate.copernicus.eu/api/v2/resources/reanalysis-era5-pressure-levels\n",
      "2023-08-26 18:26:55,472 INFO Request is queued\n"
     ]
    },
    {
     "name": "stdout",
     "output_type": "stream",
     "text": [
      "era5_pressure_level_2012_04_850.nc done!\n",
      "Download time: 50.282 s\n",
      "Folder 'F:\\JuPyterNotebook\\data\\raw_data\\ERA5_DATA\\GB_ERA5_DATA' created successfully.\n"
     ]
    },
    {
     "name": "stderr",
     "output_type": "stream",
     "text": [
      "2023-08-26 18:26:56,517 INFO Request is running\n",
      "2023-08-26 18:27:45,074 INFO Request is completed\n",
      "2023-08-26 18:27:45,089 INFO Downloading https://download-0002-clone.copernicus-climate.eu/cache-compute-0002/cache/data4/adaptor.mars.internal-1693070856.3863826-27542-6-70b8d2ac-f264-4ae4-83c1-bd3667546045.nc to F:\\JuPyterNotebook\\data\\raw_data\\ERA5_DATA\\GB_ERA5_DATA\\era5_pressure_level_2012_05_850.nc (1.7M)\n",
      "2023-08-26 18:27:45,638 INFO Download rate 3.2M/s                                                                      \n",
      "2023-08-26 18:27:45,736 INFO Welcome to the CDS\n",
      "2023-08-26 18:27:45,736 INFO Sending request to https://cds.climate.copernicus.eu/api/v2/resources/reanalysis-era5-pressure-levels\n",
      "2023-08-26 18:27:45,796 INFO Request is queued\n"
     ]
    },
    {
     "name": "stdout",
     "output_type": "stream",
     "text": [
      "era5_pressure_level_2012_05_850.nc done!\n",
      "Download time: 50.351 s\n",
      "Folder 'F:\\JuPyterNotebook\\data\\raw_data\\ERA5_DATA\\GB_ERA5_DATA' created successfully.\n"
     ]
    },
    {
     "name": "stderr",
     "output_type": "stream",
     "text": [
      "2023-08-26 18:27:46,828 INFO Request is running\n",
      "2023-08-26 18:28:35,365 INFO Request is completed\n",
      "2023-08-26 18:28:35,365 INFO Downloading https://download-0007-clone.copernicus-climate.eu/cache-compute-0007/cache/data1/adaptor.mars.internal-1693070905.050923-4679-14-a91cbc10-c543-4890-9583-2b291700df1c.nc to F:\\JuPyterNotebook\\data\\raw_data\\ERA5_DATA\\GB_ERA5_DATA\\era5_pressure_level_2012_06_850.nc (1.7M)\n",
      "2023-08-26 18:28:35,837 INFO Download rate 3.7M/s                                                                      \n",
      "2023-08-26 18:28:35,948 INFO Welcome to the CDS\n",
      "2023-08-26 18:28:35,948 INFO Sending request to https://cds.climate.copernicus.eu/api/v2/resources/reanalysis-era5-pressure-levels\n"
     ]
    },
    {
     "name": "stdout",
     "output_type": "stream",
     "text": [
      "era5_pressure_level_2012_06_850.nc done!\n",
      "Download time: 50.181 s\n",
      "Folder 'F:\\JuPyterNotebook\\data\\raw_data\\ERA5_DATA\\GB_ERA5_DATA' created successfully.\n"
     ]
    },
    {
     "name": "stderr",
     "output_type": "stream",
     "text": [
      "2023-08-26 18:28:36,086 INFO Request is queued\n",
      "2023-08-26 18:28:37,133 INFO Request is running\n",
      "2023-08-26 18:29:25,657 INFO Request is completed\n",
      "2023-08-26 18:29:25,657 INFO Downloading https://download-0013-clone.copernicus-climate.eu/cache-compute-0013/cache/data8/adaptor.mars.internal-1693070958.6255229-21728-16-c93b14c8-c34a-41b2-b541-214d414cf382.nc to F:\\JuPyterNotebook\\data\\raw_data\\ERA5_DATA\\GB_ERA5_DATA\\era5_pressure_level_2012_07_850.nc (1.7M)\n",
      "2023-08-26 18:29:26,222 INFO Download rate 3.2M/s                                                                      \n",
      "2023-08-26 18:29:26,306 INFO Welcome to the CDS\n",
      "2023-08-26 18:29:26,306 INFO Sending request to https://cds.climate.copernicus.eu/api/v2/resources/reanalysis-era5-pressure-levels\n",
      "2023-08-26 18:29:26,375 INFO Request is queued\n"
     ]
    },
    {
     "name": "stdout",
     "output_type": "stream",
     "text": [
      "era5_pressure_level_2012_07_850.nc done!\n",
      "Download time: 50.378 s\n",
      "Folder 'F:\\JuPyterNotebook\\data\\raw_data\\ERA5_DATA\\GB_ERA5_DATA' created successfully.\n"
     ]
    },
    {
     "name": "stderr",
     "output_type": "stream",
     "text": [
      "2023-08-26 18:29:27,425 INFO Request is running\n",
      "2023-08-26 18:30:15,976 INFO Request is completed\n",
      "2023-08-26 18:30:15,976 INFO Downloading https://download-0004-clone.copernicus-climate.eu/cache-compute-0004/cache/data3/adaptor.mars.internal-1693071004.0668015-27301-6-2d1cf813-d717-42df-90f4-dbd7385eb5f5.nc to F:\\JuPyterNotebook\\data\\raw_data\\ERA5_DATA\\GB_ERA5_DATA\\era5_pressure_level_2012_08_850.nc (1.7M)\n",
      "2023-08-26 18:30:16,617 INFO Download rate 2.7M/s                                                                      \n",
      "2023-08-26 18:30:16,712 INFO Welcome to the CDS\n",
      "2023-08-26 18:30:16,712 INFO Sending request to https://cds.climate.copernicus.eu/api/v2/resources/reanalysis-era5-pressure-levels\n",
      "2023-08-26 18:30:16,808 INFO Request is queued\n"
     ]
    },
    {
     "name": "stdout",
     "output_type": "stream",
     "text": [
      "era5_pressure_level_2012_08_850.nc done!\n",
      "Download time: 50.405 s\n",
      "Folder 'F:\\JuPyterNotebook\\data\\raw_data\\ERA5_DATA\\GB_ERA5_DATA' created successfully.\n"
     ]
    },
    {
     "name": "stderr",
     "output_type": "stream",
     "text": [
      "2023-08-26 18:30:17,842 INFO Request is running\n",
      "2023-08-26 18:31:06,393 INFO Request is completed\n",
      "2023-08-26 18:31:06,393 INFO Downloading https://download-0011-clone.copernicus-climate.eu/cache-compute-0011/cache/data5/adaptor.mars.internal-1693071053.0115561-9482-1-ff21bbc9-8ba3-4336-8747-40e2521dd538.nc to F:\\JuPyterNotebook\\data\\raw_data\\ERA5_DATA\\GB_ERA5_DATA\\era5_pressure_level_2012_09_850.nc (1.7M)\n",
      "2023-08-26 18:31:06,939 INFO Download rate 3.1M/s                                                                      \n",
      "2023-08-26 18:31:07,025 INFO Welcome to the CDS\n",
      "2023-08-26 18:31:07,025 INFO Sending request to https://cds.climate.copernicus.eu/api/v2/resources/reanalysis-era5-pressure-levels\n",
      "2023-08-26 18:31:07,094 INFO Request is queued\n"
     ]
    },
    {
     "name": "stdout",
     "output_type": "stream",
     "text": [
      "era5_pressure_level_2012_09_850.nc done!\n",
      "Download time: 50.330 s\n",
      "Folder 'F:\\JuPyterNotebook\\data\\raw_data\\ERA5_DATA\\GB_ERA5_DATA' created successfully.\n"
     ]
    },
    {
     "name": "stderr",
     "output_type": "stream",
     "text": [
      "2023-08-26 18:31:08,134 INFO Request is running\n",
      "2023-08-26 18:31:56,682 INFO Request is completed\n",
      "2023-08-26 18:31:56,682 INFO Downloading https://download-0006-clone.copernicus-climate.eu/cache-compute-0006/cache/data0/adaptor.mars.internal-1693071103.0761049-11619-17-c2dc1e3a-9e46-4216-bf15-d1e8c40b8d7b.nc to F:\\JuPyterNotebook\\data\\raw_data\\ERA5_DATA\\GB_ERA5_DATA\\era5_pressure_level_2012_10_850.nc (1.7M)\n",
      "2023-08-26 18:31:57,213 INFO Download rate 3.4M/s                                                                      \n",
      "2023-08-26 18:31:57,297 INFO Welcome to the CDS\n",
      "2023-08-26 18:31:57,297 INFO Sending request to https://cds.climate.copernicus.eu/api/v2/resources/reanalysis-era5-pressure-levels\n",
      "2023-08-26 18:31:57,371 INFO Request is queued\n"
     ]
    },
    {
     "name": "stdout",
     "output_type": "stream",
     "text": [
      "era5_pressure_level_2012_10_850.nc done!\n",
      "Download time: 50.256 s\n",
      "Folder 'F:\\JuPyterNotebook\\data\\raw_data\\ERA5_DATA\\GB_ERA5_DATA' created successfully.\n"
     ]
    },
    {
     "name": "stderr",
     "output_type": "stream",
     "text": [
      "2023-08-26 18:31:58,422 INFO Request is running\n",
      "2023-08-26 18:32:47,129 INFO Request is completed\n",
      "2023-08-26 18:32:47,129 INFO Downloading https://download-0004-clone.copernicus-climate.eu/cache-compute-0004/cache/data9/adaptor.mars.internal-1693071155.9388723-28139-4-8846b657-44a9-46ac-a8cd-1fc1941400fc.nc to F:\\JuPyterNotebook\\data\\raw_data\\ERA5_DATA\\GB_ERA5_DATA\\era5_pressure_level_2012_11_850.nc (1.7M)\n",
      "2023-08-26 18:32:47,653 INFO Download rate 3.2M/s                                                                      \n",
      "2023-08-26 18:32:47,745 INFO Welcome to the CDS\n",
      "2023-08-26 18:32:47,745 INFO Sending request to https://cds.climate.copernicus.eu/api/v2/resources/reanalysis-era5-pressure-levels\n"
     ]
    },
    {
     "name": "stdout",
     "output_type": "stream",
     "text": [
      "era5_pressure_level_2012_11_850.nc done!\n",
      "Download time: 50.446 s\n",
      "Folder 'F:\\JuPyterNotebook\\data\\raw_data\\ERA5_DATA\\GB_ERA5_DATA' created successfully.\n"
     ]
    },
    {
     "name": "stderr",
     "output_type": "stream",
     "text": [
      "2023-08-26 18:32:48,014 INFO Request is queued\n",
      "2023-08-26 18:32:49,053 INFO Request is running\n",
      "2023-08-26 18:33:37,698 INFO Request is completed\n",
      "2023-08-26 18:33:37,699 INFO Downloading https://download-0004-clone.copernicus-climate.eu/cache-compute-0004/cache/data9/adaptor.mars.internal-1693071208.1083782-27360-9-5e3d7a2b-5c79-459f-b016-a112afc27052.nc to F:\\JuPyterNotebook\\data\\raw_data\\ERA5_DATA\\GB_ERA5_DATA\\era5_pressure_level_2012_12_850.nc (1.7M)\n",
      "2023-08-26 18:33:39,550 INFO Download rate 960.8K/s                                                                    \n",
      "2023-08-26 18:33:39,642 INFO Welcome to the CDS\n",
      "2023-08-26 18:33:39,642 INFO Sending request to https://cds.climate.copernicus.eu/api/v2/resources/reanalysis-era5-pressure-levels\n",
      "2023-08-26 18:33:39,731 INFO Request is queued\n"
     ]
    },
    {
     "name": "stdout",
     "output_type": "stream",
     "text": [
      "era5_pressure_level_2012_12_850.nc done!\n",
      "Download time: 51.883 s\n",
      "Folder 'F:\\JuPyterNotebook\\data\\raw_data\\ERA5_DATA\\GB_ERA5_DATA' created successfully.\n"
     ]
    },
    {
     "name": "stderr",
     "output_type": "stream",
     "text": [
      "2023-08-26 18:33:40,840 INFO Request is running\n",
      "2023-08-26 18:34:29,446 INFO Request is completed\n",
      "2023-08-26 18:34:29,446 INFO Downloading https://download-0015-clone.copernicus-climate.eu/cache-compute-0015/cache/data3/adaptor.mars.internal-1693071256.1129882-9722-10-375e39a8-f7c6-468b-92ac-9cd58d61d436.nc to F:\\JuPyterNotebook\\data\\raw_data\\ERA5_DATA\\GB_ERA5_DATA\\era5_pressure_level_2013_01_850.nc (1.7M)\n",
      "2023-08-26 18:34:29,913 INFO Download rate 3.7M/s                                                                      \n",
      "2023-08-26 18:34:30,031 INFO Welcome to the CDS\n",
      "2023-08-26 18:34:30,031 INFO Sending request to https://cds.climate.copernicus.eu/api/v2/resources/reanalysis-era5-pressure-levels\n",
      "2023-08-26 18:34:30,109 INFO Request is queued\n"
     ]
    },
    {
     "name": "stdout",
     "output_type": "stream",
     "text": [
      "era5_pressure_level_2013_01_850.nc done!\n",
      "Download time: 50.405 s\n",
      "Folder 'F:\\JuPyterNotebook\\data\\raw_data\\ERA5_DATA\\GB_ERA5_DATA' created successfully.\n"
     ]
    },
    {
     "name": "stderr",
     "output_type": "stream",
     "text": [
      "2023-08-26 18:34:31,155 INFO Request is running\n",
      "2023-08-26 18:35:19,763 INFO Request is completed\n",
      "2023-08-26 18:35:19,763 INFO Downloading https://download-0012-clone.copernicus-climate.eu/cache-compute-0012/cache/data1/adaptor.mars.internal-1693071306.2601213-14621-3-72961bed-0fd7-4091-8f07-ad8681f5586c.nc to F:\\JuPyterNotebook\\data\\raw_data\\ERA5_DATA\\GB_ERA5_DATA\\era5_pressure_level_2013_02_850.nc (1.6M)\n",
      "2023-08-26 18:35:20,324 INFO Download rate 2.8M/s                                                                      \n",
      "2023-08-26 18:35:20,414 INFO Welcome to the CDS\n",
      "2023-08-26 18:35:20,414 INFO Sending request to https://cds.climate.copernicus.eu/api/v2/resources/reanalysis-era5-pressure-levels\n",
      "2023-08-26 18:35:20,486 INFO Request is queued\n"
     ]
    },
    {
     "name": "stdout",
     "output_type": "stream",
     "text": [
      "era5_pressure_level_2013_02_850.nc done!\n",
      "Download time: 50.364 s\n",
      "Folder 'F:\\JuPyterNotebook\\data\\raw_data\\ERA5_DATA\\GB_ERA5_DATA' created successfully.\n"
     ]
    },
    {
     "name": "stderr",
     "output_type": "stream",
     "text": [
      "2023-08-26 18:35:21,526 INFO Request is running\n",
      "2023-08-26 18:36:10,091 INFO Request is completed\n",
      "2023-08-26 18:36:10,091 INFO Downloading https://download-0021.copernicus-climate.eu/cache-compute-0021/cache/data9/adaptor.mars.internal-1693071357.8688183-11068-3-0bc2f929-0b6f-4611-9f86-2ae7f64cb9c4.nc to F:\\JuPyterNotebook\\data\\raw_data\\ERA5_DATA\\GB_ERA5_DATA\\era5_pressure_level_2013_03_850.nc (1.7M)\n",
      "2023-08-26 18:36:10,723 INFO Download rate 2.7M/s                                                                      \n",
      "2023-08-26 18:36:10,819 INFO Welcome to the CDS\n",
      "2023-08-26 18:36:10,819 INFO Sending request to https://cds.climate.copernicus.eu/api/v2/resources/reanalysis-era5-pressure-levels\n",
      "2023-08-26 18:36:10,958 INFO Request is queued\n"
     ]
    },
    {
     "name": "stdout",
     "output_type": "stream",
     "text": [
      "era5_pressure_level_2013_03_850.nc done!\n",
      "Download time: 50.409 s\n",
      "Folder 'F:\\JuPyterNotebook\\data\\raw_data\\ERA5_DATA\\GB_ERA5_DATA' created successfully.\n"
     ]
    },
    {
     "name": "stderr",
     "output_type": "stream",
     "text": [
      "2023-08-26 18:36:12,003 INFO Request is running\n",
      "2023-08-26 18:37:00,582 INFO Request is completed\n",
      "2023-08-26 18:37:00,597 INFO Downloading https://download-0000-clone.copernicus-climate.eu/cache-compute-0000/cache/data7/adaptor.mars.internal-1693071405.910274-7232-10-763c7081-decd-4ae4-b1d2-bd8948f37db2.nc to F:\\JuPyterNotebook\\data\\raw_data\\ERA5_DATA\\GB_ERA5_DATA\\era5_pressure_level_2013_04_850.nc (1.7M)\n",
      "2023-08-26 18:37:01,048 INFO Download rate 3.7M/s                                                                      \n",
      "2023-08-26 18:37:01,152 INFO Welcome to the CDS\n",
      "2023-08-26 18:37:01,152 INFO Sending request to https://cds.climate.copernicus.eu/api/v2/resources/reanalysis-era5-pressure-levels\n",
      "2023-08-26 18:37:01,208 INFO Request is queued\n"
     ]
    },
    {
     "name": "stdout",
     "output_type": "stream",
     "text": [
      "era5_pressure_level_2013_04_850.nc done!\n",
      "Download time: 50.333 s\n",
      "Folder 'F:\\JuPyterNotebook\\data\\raw_data\\ERA5_DATA\\GB_ERA5_DATA' created successfully.\n"
     ]
    },
    {
     "name": "stderr",
     "output_type": "stream",
     "text": [
      "2023-08-26 18:37:02,258 INFO Request is running\n",
      "2023-08-26 18:37:50,830 INFO Request is completed\n",
      "2023-08-26 18:37:50,845 INFO Downloading https://download-0014-clone.copernicus-climate.eu/cache-compute-0014/cache/data0/adaptor.mars.internal-1693071459.5214267-13495-18-3892662d-daba-4cfe-8d4a-5c982d2980bc.nc to F:\\JuPyterNotebook\\data\\raw_data\\ERA5_DATA\\GB_ERA5_DATA\\era5_pressure_level_2013_05_850.nc (1.7M)\n",
      "2023-08-26 18:37:51,377 INFO Download rate 3.3M/s                                                                      \n",
      "2023-08-26 18:37:51,472 INFO Welcome to the CDS\n",
      "2023-08-26 18:37:51,472 INFO Sending request to https://cds.climate.copernicus.eu/api/v2/resources/reanalysis-era5-pressure-levels\n",
      "2023-08-26 18:37:51,568 INFO Request is queued\n"
     ]
    },
    {
     "name": "stdout",
     "output_type": "stream",
     "text": [
      "era5_pressure_level_2013_05_850.nc done!\n",
      "Download time: 50.317 s\n",
      "Folder 'F:\\JuPyterNotebook\\data\\raw_data\\ERA5_DATA\\GB_ERA5_DATA' created successfully.\n"
     ]
    },
    {
     "name": "stderr",
     "output_type": "stream",
     "text": [
      "2023-08-26 18:37:52,611 INFO Request is running\n",
      "2023-08-26 18:38:41,236 INFO Request is completed\n",
      "2023-08-26 18:38:41,236 INFO Downloading https://download-0006-clone.copernicus-climate.eu/cache-compute-0006/cache/data6/adaptor.mars.internal-1693071509.93143-12739-19-13dd6334-33e4-4973-b606-4f7a0d13b939.nc to F:\\JuPyterNotebook\\data\\raw_data\\ERA5_DATA\\GB_ERA5_DATA\\era5_pressure_level_2013_06_850.nc (1.7M)\n",
      "2023-08-26 18:38:41,746 INFO Download rate 3.3M/s                                                                      \n",
      "2023-08-26 18:38:41,928 INFO Welcome to the CDS\n",
      "2023-08-26 18:38:41,928 INFO Sending request to https://cds.climate.copernicus.eu/api/v2/resources/reanalysis-era5-pressure-levels\n",
      "2023-08-26 18:38:42,016 INFO Request is queued\n"
     ]
    },
    {
     "name": "stdout",
     "output_type": "stream",
     "text": [
      "era5_pressure_level_2013_06_850.nc done!\n",
      "Download time: 50.459 s\n",
      "Folder 'F:\\JuPyterNotebook\\data\\raw_data\\ERA5_DATA\\GB_ERA5_DATA' created successfully.\n"
     ]
    },
    {
     "name": "stderr",
     "output_type": "stream",
     "text": [
      "2023-08-26 18:38:43,064 INFO Request is running\n",
      "2023-08-26 18:39:31,646 INFO Request is completed\n",
      "2023-08-26 18:39:31,662 INFO Downloading https://download-0008-clone.copernicus-climate.eu/cache-compute-0008/cache/data2/adaptor.mars.internal-1693071560.876256-27659-1-1e8bfeb6-5b85-472d-a147-dbaa7a3ff98e.nc to F:\\JuPyterNotebook\\data\\raw_data\\ERA5_DATA\\GB_ERA5_DATA\\era5_pressure_level_2013_07_850.nc (1.7M)\n",
      "2023-08-26 18:39:32,245 INFO Download rate 3M/s                                                                        \n",
      "2023-08-26 18:39:32,328 INFO Welcome to the CDS\n",
      "2023-08-26 18:39:32,344 INFO Sending request to https://cds.climate.copernicus.eu/api/v2/resources/reanalysis-era5-pressure-levels\n",
      "2023-08-26 18:39:32,427 INFO Request is queued\n"
     ]
    },
    {
     "name": "stdout",
     "output_type": "stream",
     "text": [
      "era5_pressure_level_2013_07_850.nc done!\n",
      "Download time: 50.417 s\n",
      "Folder 'F:\\JuPyterNotebook\\data\\raw_data\\ERA5_DATA\\GB_ERA5_DATA' created successfully.\n"
     ]
    },
    {
     "name": "stderr",
     "output_type": "stream",
     "text": [
      "2023-08-26 18:39:33,477 INFO Request is running\n",
      "2023-08-26 18:40:22,198 INFO Request is completed\n",
      "2023-08-26 18:40:22,198 INFO Downloading https://download-0001-clone.copernicus-climate.eu/cache-compute-0001/cache/data6/adaptor.mars.internal-1693071605.2859218-2729-16-64c7d58f-25a6-4528-931e-46d44de2c203.nc to F:\\JuPyterNotebook\\data\\raw_data\\ERA5_DATA\\GB_ERA5_DATA\\era5_pressure_level_2013_08_850.nc (1.7M)\n",
      "2023-08-26 18:40:24,593 INFO Download rate 742.5K/s                                                                    \n",
      "2023-08-26 18:40:24,692 INFO Welcome to the CDS\n",
      "2023-08-26 18:40:24,692 INFO Sending request to https://cds.climate.copernicus.eu/api/v2/resources/reanalysis-era5-pressure-levels\n"
     ]
    },
    {
     "name": "stdout",
     "output_type": "stream",
     "text": [
      "era5_pressure_level_2013_08_850.nc done!\n",
      "Download time: 52.347 s\n",
      "Folder 'F:\\JuPyterNotebook\\data\\raw_data\\ERA5_DATA\\GB_ERA5_DATA' created successfully.\n"
     ]
    },
    {
     "name": "stderr",
     "output_type": "stream",
     "text": [
      "2023-08-26 18:40:24,845 INFO Request is queued\n",
      "2023-08-26 18:40:25,886 INFO Request is running\n",
      "2023-08-26 18:41:14,458 INFO Request is completed\n",
      "2023-08-26 18:41:14,458 INFO Downloading https://download-0017.copernicus-climate.eu/cache-compute-0017/cache/data5/adaptor.mars.internal-1693071660.7621112-18437-14-0688357f-cb42-4677-a55d-a86510283543.nc to F:\\JuPyterNotebook\\data\\raw_data\\ERA5_DATA\\GB_ERA5_DATA\\era5_pressure_level_2013_09_850.nc (1.7M)\n",
      "2023-08-26 18:41:14,987 INFO Download rate 3.2M/s                                                                      \n",
      "2023-08-26 18:41:15,063 INFO Welcome to the CDS\n",
      "2023-08-26 18:41:15,063 INFO Sending request to https://cds.climate.copernicus.eu/api/v2/resources/reanalysis-era5-pressure-levels\n",
      "2023-08-26 18:41:15,161 INFO Request is queued\n"
     ]
    },
    {
     "name": "stdout",
     "output_type": "stream",
     "text": [
      "era5_pressure_level_2013_09_850.nc done!\n",
      "Download time: 50.388 s\n",
      "Folder 'F:\\JuPyterNotebook\\data\\raw_data\\ERA5_DATA\\GB_ERA5_DATA' created successfully.\n"
     ]
    },
    {
     "name": "stderr",
     "output_type": "stream",
     "text": [
      "2023-08-26 18:41:16,198 INFO Request is running\n",
      "2023-08-26 18:42:04,790 INFO Request is completed\n",
      "2023-08-26 18:42:04,790 INFO Downloading https://download-0002-clone.copernicus-climate.eu/cache-compute-0002/cache/data0/adaptor.mars.internal-1693071712.1291425-27586-14-17336753-bcf1-44d6-a81d-80e3d0f5f7af.nc to F:\\JuPyterNotebook\\data\\raw_data\\ERA5_DATA\\GB_ERA5_DATA\\era5_pressure_level_2013_10_850.nc (1.7M)\n",
      "2023-08-26 18:42:05,285 INFO Download rate 3.5M/s                                                                      \n",
      "2023-08-26 18:42:05,368 INFO Welcome to the CDS\n",
      "2023-08-26 18:42:05,368 INFO Sending request to https://cds.climate.copernicus.eu/api/v2/resources/reanalysis-era5-pressure-levels\n",
      "2023-08-26 18:42:05,460 INFO Request is queued\n"
     ]
    },
    {
     "name": "stdout",
     "output_type": "stream",
     "text": [
      "era5_pressure_level_2013_10_850.nc done!\n",
      "Download time: 50.289 s\n",
      "Folder 'F:\\JuPyterNotebook\\data\\raw_data\\ERA5_DATA\\GB_ERA5_DATA' created successfully.\n"
     ]
    },
    {
     "name": "stderr",
     "output_type": "stream",
     "text": [
      "2023-08-26 18:42:06,502 INFO Request is running\n",
      "2023-08-26 18:42:55,064 INFO Request is completed\n",
      "2023-08-26 18:42:55,079 INFO Downloading https://download-0018.copernicus-climate.eu/cache-compute-0018/cache/data3/adaptor.mars.internal-1693071762.9998465-31224-11-066e2553-66e5-41d4-86f1-d214871cab7e.nc to F:\\JuPyterNotebook\\data\\raw_data\\ERA5_DATA\\GB_ERA5_DATA\\era5_pressure_level_2013_11_850.nc (1.7M)\n",
      "2023-08-26 18:42:55,541 INFO Download rate 3.6M/s                                                                      \n",
      "2023-08-26 18:42:55,628 INFO Welcome to the CDS\n",
      "2023-08-26 18:42:55,628 INFO Sending request to https://cds.climate.copernicus.eu/api/v2/resources/reanalysis-era5-pressure-levels\n",
      "2023-08-26 18:42:55,731 INFO Request is queued\n"
     ]
    },
    {
     "name": "stdout",
     "output_type": "stream",
     "text": [
      "era5_pressure_level_2013_11_850.nc done!\n",
      "Download time: 50.260 s\n",
      "Folder 'F:\\JuPyterNotebook\\data\\raw_data\\ERA5_DATA\\GB_ERA5_DATA' created successfully.\n"
     ]
    },
    {
     "name": "stderr",
     "output_type": "stream",
     "text": [
      "2023-08-26 18:42:56,800 INFO Request is running\n",
      "2023-08-26 18:43:45,393 INFO Request is completed\n",
      "2023-08-26 18:43:45,393 INFO Downloading https://download-0014-clone.copernicus-climate.eu/cache-compute-0014/cache/data1/adaptor.mars.internal-1693071814.030509-5332-10-d6292417-ae30-46ca-8907-2a662fa42b3c.nc to F:\\JuPyterNotebook\\data\\raw_data\\ERA5_DATA\\GB_ERA5_DATA\\era5_pressure_level_2013_12_850.nc (1.7M)\n",
      "2023-08-26 18:43:46,015 INFO Download rate 2.8M/s                                                                      \n",
      "2023-08-26 18:43:46,121 INFO Welcome to the CDS\n",
      "2023-08-26 18:43:46,121 INFO Sending request to https://cds.climate.copernicus.eu/api/v2/resources/reanalysis-era5-pressure-levels\n",
      "2023-08-26 18:43:46,186 INFO Request is queued\n"
     ]
    },
    {
     "name": "stdout",
     "output_type": "stream",
     "text": [
      "era5_pressure_level_2013_12_850.nc done!\n",
      "Download time: 50.493 s\n",
      "Folder 'F:\\JuPyterNotebook\\data\\raw_data\\ERA5_DATA\\GB_ERA5_DATA' created successfully.\n"
     ]
    },
    {
     "name": "stderr",
     "output_type": "stream",
     "text": [
      "2023-08-26 18:43:47,233 INFO Request is running\n",
      "2023-08-26 18:44:35,766 INFO Request is completed\n",
      "2023-08-26 18:44:35,766 INFO Downloading https://download-0006-clone.copernicus-climate.eu/cache-compute-0006/cache/data5/adaptor.mars.internal-1693071872.169878-24455-3-1acf28ba-b4c6-4c5a-9807-d1d16b2f2039.nc to F:\\JuPyterNotebook\\data\\raw_data\\ERA5_DATA\\GB_ERA5_DATA\\era5_pressure_level_2014_01_850.nc (1.7M)\n",
      "2023-08-26 18:44:36,285 INFO Download rate 3.3M/s                                                                      \n",
      "2023-08-26 18:44:36,383 INFO Welcome to the CDS\n",
      "2023-08-26 18:44:36,383 INFO Sending request to https://cds.climate.copernicus.eu/api/v2/resources/reanalysis-era5-pressure-levels\n",
      "2023-08-26 18:44:36,451 INFO Request is queued\n"
     ]
    },
    {
     "name": "stdout",
     "output_type": "stream",
     "text": [
      "era5_pressure_level_2014_01_850.nc done!\n",
      "Download time: 50.247 s\n",
      "Folder 'F:\\JuPyterNotebook\\data\\raw_data\\ERA5_DATA\\GB_ERA5_DATA' created successfully.\n"
     ]
    },
    {
     "name": "stderr",
     "output_type": "stream",
     "text": [
      "2023-08-26 18:44:37,491 INFO Request is running\n",
      "2023-08-26 18:45:26,114 INFO Request is completed\n",
      "2023-08-26 18:45:26,114 INFO Downloading https://download-0018.copernicus-climate.eu/cache-compute-0018/cache/data4/adaptor.mars.internal-1693071909.5906363-32236-13-09876db7-1955-4ac8-95cc-1c2b54d13611.nc to F:\\JuPyterNotebook\\data\\raw_data\\ERA5_DATA\\GB_ERA5_DATA\\era5_pressure_level_2014_02_850.nc (1.6M)\n",
      "2023-08-26 18:45:26,627 INFO Download rate 3.1M/s                                                                      \n",
      "2023-08-26 18:45:26,714 INFO Welcome to the CDS\n",
      "2023-08-26 18:45:26,714 INFO Sending request to https://cds.climate.copernicus.eu/api/v2/resources/reanalysis-era5-pressure-levels\n",
      "2023-08-26 18:45:26,803 INFO Request is queued\n"
     ]
    },
    {
     "name": "stdout",
     "output_type": "stream",
     "text": [
      "era5_pressure_level_2014_02_850.nc done!\n",
      "Download time: 50.315 s\n",
      "Folder 'F:\\JuPyterNotebook\\data\\raw_data\\ERA5_DATA\\GB_ERA5_DATA' created successfully.\n"
     ]
    },
    {
     "name": "stderr",
     "output_type": "stream",
     "text": [
      "2023-08-26 18:45:27,846 INFO Request is running\n",
      "2023-08-26 18:46:16,430 INFO Request is completed\n",
      "2023-08-26 18:46:16,430 INFO Downloading https://download-0017.copernicus-climate.eu/cache-compute-0017/cache/data7/adaptor.mars.internal-1693071963.6814075-27022-6-f0c73713-5808-41f2-ace5-97d6d6fb3176.nc to F:\\JuPyterNotebook\\data\\raw_data\\ERA5_DATA\\GB_ERA5_DATA\\era5_pressure_level_2014_03_850.nc (1.7M)\n",
      "2023-08-26 18:46:16,919 INFO Download rate 3.6M/s                                                                      \n",
      "2023-08-26 18:46:17,005 INFO Welcome to the CDS\n",
      "2023-08-26 18:46:17,020 INFO Sending request to https://cds.climate.copernicus.eu/api/v2/resources/reanalysis-era5-pressure-levels\n",
      "2023-08-26 18:46:17,097 INFO Request is queued\n"
     ]
    },
    {
     "name": "stdout",
     "output_type": "stream",
     "text": [
      "era5_pressure_level_2014_03_850.nc done!\n",
      "Download time: 50.307 s\n",
      "Folder 'F:\\JuPyterNotebook\\data\\raw_data\\ERA5_DATA\\GB_ERA5_DATA' created successfully.\n"
     ]
    },
    {
     "name": "stderr",
     "output_type": "stream",
     "text": [
      "2023-08-26 18:46:18,133 INFO Request is running\n",
      "2023-08-26 18:47:06,703 INFO Request is completed\n",
      "2023-08-26 18:47:06,703 INFO Downloading https://download-0005-clone.copernicus-climate.eu/cache-compute-0005/cache/data3/adaptor.mars.internal-1693072011.8881214-24741-11-9805b465-be91-491a-a367-b1a957b9f2e2.nc to F:\\JuPyterNotebook\\data\\raw_data\\ERA5_DATA\\GB_ERA5_DATA\\era5_pressure_level_2014_04_850.nc (1.7M)\n",
      "2023-08-26 18:47:07,218 INFO Download rate 3.3M/s                                                                      \n",
      "2023-08-26 18:47:07,309 INFO Welcome to the CDS\n",
      "2023-08-26 18:47:07,309 INFO Sending request to https://cds.climate.copernicus.eu/api/v2/resources/reanalysis-era5-pressure-levels\n",
      "2023-08-26 18:47:07,350 INFO Request is queued\n"
     ]
    },
    {
     "name": "stdout",
     "output_type": "stream",
     "text": [
      "era5_pressure_level_2014_04_850.nc done!\n",
      "Download time: 50.287 s\n",
      "Folder 'F:\\JuPyterNotebook\\data\\raw_data\\ERA5_DATA\\GB_ERA5_DATA' created successfully.\n"
     ]
    },
    {
     "name": "stderr",
     "output_type": "stream",
     "text": [
      "2023-08-26 18:47:08,411 INFO Request is running\n",
      "2023-08-26 18:47:57,119 INFO Request is completed\n",
      "2023-08-26 18:47:57,119 INFO Downloading https://download-0021.copernicus-climate.eu/cache-compute-0021/cache/data8/adaptor.mars.internal-1693072065.6304555-11075-10-7f5f22f6-7094-4ed4-b1da-5fbdf3cf89f8.nc to F:\\JuPyterNotebook\\data\\raw_data\\ERA5_DATA\\GB_ERA5_DATA\\era5_pressure_level_2014_05_850.nc (1.7M)\n",
      "2023-08-26 18:47:58,807 INFO Download rate 1M/s                                                                        \n",
      "2023-08-26 18:47:58,878 INFO Welcome to the CDS\n",
      "2023-08-26 18:47:58,878 INFO Sending request to https://cds.climate.copernicus.eu/api/v2/resources/reanalysis-era5-pressure-levels\n",
      "2023-08-26 18:47:58,986 INFO Request is queued\n"
     ]
    },
    {
     "name": "stdout",
     "output_type": "stream",
     "text": [
      "era5_pressure_level_2014_05_850.nc done!\n",
      "Download time: 51.585 s\n",
      "Folder 'F:\\JuPyterNotebook\\data\\raw_data\\ERA5_DATA\\GB_ERA5_DATA' created successfully.\n"
     ]
    },
    {
     "name": "stderr",
     "output_type": "stream",
     "text": [
      "2023-08-26 18:48:00,019 INFO Request is running\n",
      "2023-08-26 18:48:48,560 INFO Request is completed\n",
      "2023-08-26 18:48:48,560 INFO Downloading https://download-0009-clone.copernicus-climate.eu/cache-compute-0009/cache/data2/adaptor.mars.internal-1693072119.0685575-29717-15-10dff737-43c0-48f6-b0a5-12b87ca832a9.nc to F:\\JuPyterNotebook\\data\\raw_data\\ERA5_DATA\\GB_ERA5_DATA\\era5_pressure_level_2014_06_850.nc (1.7M)\n",
      "2023-08-26 18:48:49,118 INFO Download rate 3.1M/s                                                                      \n",
      "2023-08-26 18:48:49,207 INFO Welcome to the CDS\n",
      "2023-08-26 18:48:49,207 INFO Sending request to https://cds.climate.copernicus.eu/api/v2/resources/reanalysis-era5-pressure-levels\n",
      "2023-08-26 18:48:49,259 INFO Request is queued\n"
     ]
    },
    {
     "name": "stdout",
     "output_type": "stream",
     "text": [
      "era5_pressure_level_2014_06_850.nc done!\n",
      "Download time: 50.314 s\n",
      "Folder 'F:\\JuPyterNotebook\\data\\raw_data\\ERA5_DATA\\GB_ERA5_DATA' created successfully.\n"
     ]
    },
    {
     "name": "stderr",
     "output_type": "stream",
     "text": [
      "2023-08-26 18:48:50,300 INFO Request is running\n",
      "2023-08-26 18:49:38,862 INFO Request is completed\n",
      "2023-08-26 18:49:38,862 INFO Downloading https://download-0011-clone.copernicus-climate.eu/cache-compute-0011/cache/data3/adaptor.mars.internal-1693072167.6131597-8800-17-efa87f07-f222-4c3f-98da-c9d42fcd54d2.nc to F:\\JuPyterNotebook\\data\\raw_data\\ERA5_DATA\\GB_ERA5_DATA\\era5_pressure_level_2014_07_850.nc (1.7M)\n",
      "2023-08-26 18:49:39,364 INFO Download rate 3.5M/s                                                                      \n",
      "2023-08-26 18:49:39,438 INFO Welcome to the CDS\n",
      "2023-08-26 18:49:39,438 INFO Sending request to https://cds.climate.copernicus.eu/api/v2/resources/reanalysis-era5-pressure-levels\n",
      "2023-08-26 18:49:39,534 INFO Request is queued\n"
     ]
    },
    {
     "name": "stdout",
     "output_type": "stream",
     "text": [
      "era5_pressure_level_2014_07_850.nc done!\n",
      "Download time: 50.243 s\n",
      "Folder 'F:\\JuPyterNotebook\\data\\raw_data\\ERA5_DATA\\GB_ERA5_DATA' created successfully.\n"
     ]
    },
    {
     "name": "stderr",
     "output_type": "stream",
     "text": [
      "2023-08-26 18:49:40,580 INFO Request is running\n",
      "2023-08-26 18:50:29,118 INFO Request is completed\n",
      "2023-08-26 18:50:29,118 INFO Downloading https://download-0017.copernicus-climate.eu/cache-compute-0017/cache/data4/adaptor.mars.internal-1693072216.4329894-21167-11-5149b5fb-bc0e-43c5-99d4-431e883a3dae.nc to F:\\JuPyterNotebook\\data\\raw_data\\ERA5_DATA\\GB_ERA5_DATA\\era5_pressure_level_2014_08_850.nc (1.7M)\n",
      "2023-08-26 18:50:29,579 INFO Download rate 3.8M/s                                                                      \n",
      "2023-08-26 18:50:29,675 INFO Welcome to the CDS\n",
      "2023-08-26 18:50:29,675 INFO Sending request to https://cds.climate.copernicus.eu/api/v2/resources/reanalysis-era5-pressure-levels\n",
      "2023-08-26 18:50:29,764 INFO Request is queued\n"
     ]
    },
    {
     "name": "stdout",
     "output_type": "stream",
     "text": [
      "era5_pressure_level_2014_08_850.nc done!\n",
      "Download time: 50.225 s\n",
      "Folder 'F:\\JuPyterNotebook\\data\\raw_data\\ERA5_DATA\\GB_ERA5_DATA' created successfully.\n"
     ]
    },
    {
     "name": "stderr",
     "output_type": "stream",
     "text": [
      "2023-08-26 18:50:30,798 INFO Request is running\n",
      "2023-08-26 18:51:19,329 INFO Request is completed\n",
      "2023-08-26 18:51:19,329 INFO Downloading https://download-0004-clone.copernicus-climate.eu/cache-compute-0004/cache/data9/adaptor.mars.internal-1693072265.998828-4077-15-13f27332-5d9f-47a8-bba6-a089efe5bd8c.nc to F:\\JuPyterNotebook\\data\\raw_data\\ERA5_DATA\\GB_ERA5_DATA\\era5_pressure_level_2014_09_850.nc (1.7M)\n",
      "2023-08-26 18:51:19,827 INFO Download rate 3.4M/s                                                                      \n",
      "2023-08-26 18:51:19,909 INFO Welcome to the CDS\n",
      "2023-08-26 18:51:19,909 INFO Sending request to https://cds.climate.copernicus.eu/api/v2/resources/reanalysis-era5-pressure-levels\n",
      "2023-08-26 18:51:19,980 INFO Request is queued\n"
     ]
    },
    {
     "name": "stdout",
     "output_type": "stream",
     "text": [
      "era5_pressure_level_2014_09_850.nc done!\n",
      "Download time: 50.234 s\n",
      "Folder 'F:\\JuPyterNotebook\\data\\raw_data\\ERA5_DATA\\GB_ERA5_DATA' created successfully.\n"
     ]
    },
    {
     "name": "stderr",
     "output_type": "stream",
     "text": [
      "2023-08-26 18:51:21,023 INFO Request is running\n",
      "2023-08-26 18:52:09,581 INFO Request is completed\n",
      "2023-08-26 18:52:09,597 INFO Downloading https://download-0017.copernicus-climate.eu/cache-compute-0017/cache/data4/adaptor.mars.internal-1693072315.829266-18511-18-66f68595-61cf-4855-8920-f4537479ce2f.nc to F:\\JuPyterNotebook\\data\\raw_data\\ERA5_DATA\\GB_ERA5_DATA\\era5_pressure_level_2014_10_850.nc (1.7M)\n",
      "2023-08-26 18:52:10,031 INFO Download rate 4M/s                                                                        \n",
      "2023-08-26 18:52:10,121 INFO Welcome to the CDS\n",
      "2023-08-26 18:52:10,121 INFO Sending request to https://cds.climate.copernicus.eu/api/v2/resources/reanalysis-era5-pressure-levels\n",
      "2023-08-26 18:52:10,207 INFO Request is queued\n"
     ]
    },
    {
     "name": "stdout",
     "output_type": "stream",
     "text": [
      "era5_pressure_level_2014_10_850.nc done!\n",
      "Download time: 50.212 s\n",
      "Folder 'F:\\JuPyterNotebook\\data\\raw_data\\ERA5_DATA\\GB_ERA5_DATA' created successfully.\n"
     ]
    },
    {
     "name": "stderr",
     "output_type": "stream",
     "text": [
      "2023-08-26 18:52:11,240 INFO Request is running\n",
      "2023-08-26 18:52:59,786 INFO Request is completed\n",
      "2023-08-26 18:52:59,786 INFO Downloading https://download-0010-clone.copernicus-climate.eu/cache-compute-0010/cache/data0/adaptor.mars.internal-1693072369.1405208-19424-4-20be999c-76bb-4f4c-96bb-e8802486e7d6.nc to F:\\JuPyterNotebook\\data\\raw_data\\ERA5_DATA\\GB_ERA5_DATA\\era5_pressure_level_2014_11_850.nc (1.7M)\n",
      "2023-08-26 18:53:00,291 INFO Download rate 3.3M/s                                                                      \n",
      "2023-08-26 18:53:00,369 INFO Welcome to the CDS\n",
      "2023-08-26 18:53:00,369 INFO Sending request to https://cds.climate.copernicus.eu/api/v2/resources/reanalysis-era5-pressure-levels\n",
      "2023-08-26 18:53:00,474 INFO Request is queued\n"
     ]
    },
    {
     "name": "stdout",
     "output_type": "stream",
     "text": [
      "era5_pressure_level_2014_11_850.nc done!\n",
      "Download time: 50.245 s\n",
      "Folder 'F:\\JuPyterNotebook\\data\\raw_data\\ERA5_DATA\\GB_ERA5_DATA' created successfully.\n"
     ]
    },
    {
     "name": "stderr",
     "output_type": "stream",
     "text": [
      "2023-08-26 18:53:01,517 INFO Request is running\n",
      "2023-08-26 18:53:50,152 INFO Request is completed\n",
      "2023-08-26 18:53:50,167 INFO Downloading https://download-0020.copernicus-climate.eu/cache-compute-0020/cache/data4/adaptor.mars.internal-1693072420.1544838-20980-14-580117bb-9255-4e71-9e7f-9fdcd22fc9d0.nc to F:\\JuPyterNotebook\\data\\raw_data\\ERA5_DATA\\GB_ERA5_DATA\\era5_pressure_level_2014_12_850.nc (1.7M)\n",
      "2023-08-26 18:53:50,675 INFO Download rate 3.4M/s                                                                      \n",
      "2023-08-26 18:53:50,769 INFO Welcome to the CDS\n",
      "2023-08-26 18:53:50,769 INFO Sending request to https://cds.climate.copernicus.eu/api/v2/resources/reanalysis-era5-pressure-levels\n",
      "2023-08-26 18:53:50,819 INFO Request is queued\n"
     ]
    },
    {
     "name": "stdout",
     "output_type": "stream",
     "text": [
      "era5_pressure_level_2014_12_850.nc done!\n",
      "Download time: 50.385 s\n",
      "Folder 'F:\\JuPyterNotebook\\data\\raw_data\\ERA5_DATA\\GB_ERA5_DATA' created successfully.\n"
     ]
    },
    {
     "name": "stderr",
     "output_type": "stream",
     "text": [
      "2023-08-26 18:53:51,886 INFO Request is running\n",
      "2023-08-26 18:54:40,417 INFO Request is completed\n",
      "2023-08-26 18:54:40,420 INFO Downloading https://download-0009-clone.copernicus-climate.eu/cache-compute-0009/cache/data9/adaptor.mars.internal-1693072470.6167867-6453-6-e8f7b5bd-30bb-45cb-a0bb-a0e87a27ce35.nc to F:\\JuPyterNotebook\\data\\raw_data\\ERA5_DATA\\GB_ERA5_DATA\\era5_pressure_level_2015_01_850.nc (1.7M)\n",
      "2023-08-26 18:54:40,957 INFO Download rate 3.2M/s                                                                      \n",
      "2023-08-26 18:54:41,055 INFO Welcome to the CDS\n",
      "2023-08-26 18:54:41,055 INFO Sending request to https://cds.climate.copernicus.eu/api/v2/resources/reanalysis-era5-pressure-levels\n",
      "2023-08-26 18:54:41,119 INFO Request is queued\n"
     ]
    },
    {
     "name": "stdout",
     "output_type": "stream",
     "text": [
      "era5_pressure_level_2015_01_850.nc done!\n",
      "Download time: 50.283 s\n",
      "Folder 'F:\\JuPyterNotebook\\data\\raw_data\\ERA5_DATA\\GB_ERA5_DATA' created successfully.\n"
     ]
    },
    {
     "name": "stderr",
     "output_type": "stream",
     "text": [
      "2023-08-26 18:54:42,165 INFO Request is running\n",
      "2023-08-26 18:55:30,896 INFO Request is completed\n",
      "2023-08-26 18:55:30,896 INFO Downloading https://download-0009-clone.copernicus-climate.eu/cache-compute-0009/cache/data9/adaptor.mars.internal-1693072514.5165653-7962-3-dd23e2b6-2bfe-4951-bd25-3bc165cb1899.nc to F:\\JuPyterNotebook\\data\\raw_data\\ERA5_DATA\\GB_ERA5_DATA\\era5_pressure_level_2015_02_850.nc (1.6M)\n",
      "2023-08-26 18:55:31,247 INFO Download rate 4.7M/s                                                                      \n",
      "2023-08-26 18:55:31,346 INFO Welcome to the CDS\n",
      "2023-08-26 18:55:31,346 INFO Sending request to https://cds.climate.copernicus.eu/api/v2/resources/reanalysis-era5-pressure-levels\n",
      "2023-08-26 18:55:31,402 INFO Request is queued\n"
     ]
    },
    {
     "name": "stdout",
     "output_type": "stream",
     "text": [
      "era5_pressure_level_2015_02_850.nc done!\n",
      "Download time: 50.278 s\n",
      "Folder 'F:\\JuPyterNotebook\\data\\raw_data\\ERA5_DATA\\GB_ERA5_DATA' created successfully.\n"
     ]
    },
    {
     "name": "stderr",
     "output_type": "stream",
     "text": [
      "2023-08-26 18:55:32,449 INFO Request is running\n",
      "2023-08-26 18:56:21,045 INFO Request is completed\n",
      "2023-08-26 18:56:21,045 INFO Downloading https://download-0009-clone.copernicus-climate.eu/cache-compute-0009/cache/data6/adaptor.mars.internal-1693072568.1718872-4085-11-6ad1bbaf-2dcb-44a1-a1eb-c46e7e9a39e9.nc to F:\\JuPyterNotebook\\data\\raw_data\\ERA5_DATA\\GB_ERA5_DATA\\era5_pressure_level_2015_03_850.nc (1.7M)\n",
      "2023-08-26 18:56:21,414 INFO Download rate 4.7M/s                                                                      \n",
      "2023-08-26 18:56:21,501 INFO Welcome to the CDS\n",
      "2023-08-26 18:56:21,501 INFO Sending request to https://cds.climate.copernicus.eu/api/v2/resources/reanalysis-era5-pressure-levels\n",
      "2023-08-26 18:56:21,600 INFO Request is queued\n"
     ]
    },
    {
     "name": "stdout",
     "output_type": "stream",
     "text": [
      "era5_pressure_level_2015_03_850.nc done!\n",
      "Download time: 50.141 s\n",
      "Folder 'F:\\JuPyterNotebook\\data\\raw_data\\ERA5_DATA\\GB_ERA5_DATA' created successfully.\n"
     ]
    },
    {
     "name": "stderr",
     "output_type": "stream",
     "text": [
      "2023-08-26 18:56:22,655 INFO Request is running\n",
      "2023-08-26 18:57:11,236 INFO Request is completed\n",
      "2023-08-26 18:57:11,236 INFO Downloading https://download-0019.copernicus-climate.eu/cache-compute-0019/cache/data7/adaptor.mars.internal-1693072615.4351106-5207-3-e185dcb1-175b-4702-a6cd-9058e8e2878d.nc to F:\\JuPyterNotebook\\data\\raw_data\\ERA5_DATA\\GB_ERA5_DATA\\era5_pressure_level_2015_04_850.nc (1.7M)\n",
      "2023-08-26 18:57:11,731 INFO Download rate 3.4M/s                                                                      \n",
      "2023-08-26 18:57:11,814 INFO Welcome to the CDS\n",
      "2023-08-26 18:57:11,814 INFO Sending request to https://cds.climate.copernicus.eu/api/v2/resources/reanalysis-era5-pressure-levels\n",
      "2023-08-26 18:57:11,875 INFO Request is queued\n"
     ]
    },
    {
     "name": "stdout",
     "output_type": "stream",
     "text": [
      "era5_pressure_level_2015_04_850.nc done!\n",
      "Download time: 50.313 s\n",
      "Folder 'F:\\JuPyterNotebook\\data\\raw_data\\ERA5_DATA\\GB_ERA5_DATA' created successfully.\n"
     ]
    },
    {
     "name": "stderr",
     "output_type": "stream",
     "text": [
      "2023-08-26 18:57:12,926 INFO Request is running\n",
      "2023-08-26 18:58:01,483 INFO Request is completed\n",
      "2023-08-26 18:58:01,493 INFO Downloading https://download-0019.copernicus-climate.eu/cache-compute-0019/cache/data7/adaptor.mars.internal-1693072669.9433858-5379-3-9eea5fc5-1c16-4bd4-82c5-b3d0164bb06b.nc to F:\\JuPyterNotebook\\data\\raw_data\\ERA5_DATA\\GB_ERA5_DATA\\era5_pressure_level_2015_05_850.nc (1.7M)\n",
      "2023-08-26 18:58:01,908 INFO Download rate 4.2M/s                                                                      \n",
      "2023-08-26 18:58:01,995 INFO Welcome to the CDS\n",
      "2023-08-26 18:58:01,995 INFO Sending request to https://cds.climate.copernicus.eu/api/v2/resources/reanalysis-era5-pressure-levels\n",
      "2023-08-26 18:58:02,087 INFO Request is queued\n"
     ]
    },
    {
     "name": "stdout",
     "output_type": "stream",
     "text": [
      "era5_pressure_level_2015_05_850.nc done!\n",
      "Download time: 50.181 s\n",
      "Folder 'F:\\JuPyterNotebook\\data\\raw_data\\ERA5_DATA\\GB_ERA5_DATA' created successfully.\n"
     ]
    },
    {
     "name": "stderr",
     "output_type": "stream",
     "text": [
      "2023-08-26 18:58:03,150 INFO Request is running\n",
      "2023-08-26 18:58:51,728 INFO Request is completed\n",
      "2023-08-26 18:58:51,728 INFO Downloading https://download-0013-clone.copernicus-climate.eu/cache-compute-0013/cache/data4/adaptor.mars.internal-1693072721.5311525-27906-17-f55a4dc6-3f66-4610-a4d4-76e7b3dff100.nc to F:\\JuPyterNotebook\\data\\raw_data\\ERA5_DATA\\GB_ERA5_DATA\\era5_pressure_level_2015_06_850.nc (1.7M)\n",
      "2023-08-26 18:58:52,243 INFO Download rate 3.3M/s                                                                      \n",
      "2023-08-26 18:58:52,325 INFO Welcome to the CDS\n",
      "2023-08-26 18:58:52,325 INFO Sending request to https://cds.climate.copernicus.eu/api/v2/resources/reanalysis-era5-pressure-levels\n",
      "2023-08-26 18:58:52,398 INFO Request is queued\n"
     ]
    },
    {
     "name": "stdout",
     "output_type": "stream",
     "text": [
      "era5_pressure_level_2015_06_850.nc done!\n",
      "Download time: 50.314 s\n",
      "Folder 'F:\\JuPyterNotebook\\data\\raw_data\\ERA5_DATA\\GB_ERA5_DATA' created successfully.\n"
     ]
    },
    {
     "name": "stderr",
     "output_type": "stream",
     "text": [
      "2023-08-26 18:58:53,452 INFO Request is running\n",
      "2023-08-26 18:59:42,084 INFO Request is completed\n",
      "2023-08-26 18:59:42,084 INFO Downloading https://download-0014-clone.copernicus-climate.eu/cache-compute-0014/cache/data4/adaptor.mars.internal-1693072771.9378362-18606-6-98f03b15-5458-4f13-9163-4430894d1a55.nc to F:\\JuPyterNotebook\\data\\raw_data\\ERA5_DATA\\GB_ERA5_DATA\\era5_pressure_level_2015_07_850.nc (1.7M)\n",
      "2023-08-26 18:59:42,637 INFO Download rate 3.2M/s                                                                      \n",
      "2023-08-26 18:59:42,713 INFO Welcome to the CDS\n",
      "2023-08-26 18:59:42,713 INFO Sending request to https://cds.climate.copernicus.eu/api/v2/resources/reanalysis-era5-pressure-levels\n",
      "2023-08-26 18:59:42,780 INFO Request is queued\n"
     ]
    },
    {
     "name": "stdout",
     "output_type": "stream",
     "text": [
      "era5_pressure_level_2015_07_850.nc done!\n",
      "Download time: 50.373 s\n",
      "Folder 'F:\\JuPyterNotebook\\data\\raw_data\\ERA5_DATA\\GB_ERA5_DATA' created successfully.\n"
     ]
    },
    {
     "name": "stderr",
     "output_type": "stream",
     "text": [
      "2023-08-26 18:59:43,821 INFO Request is running\n",
      "2023-08-26 19:00:32,397 INFO Request is completed\n",
      "2023-08-26 19:00:32,413 INFO Downloading https://download-0011-clone.copernicus-climate.eu/cache-compute-0011/cache/data2/adaptor.mars.internal-1693072824.9786582-23425-2-c9148f96-0af5-4138-81d1-ff815b1a020e.nc to F:\\JuPyterNotebook\\data\\raw_data\\ERA5_DATA\\GB_ERA5_DATA\\era5_pressure_level_2015_08_850.nc (1.7M)\n",
      "2023-08-26 19:00:32,930 INFO Download rate 3.4M/s                                                                      \n",
      "2023-08-26 19:00:33,020 INFO Welcome to the CDS\n",
      "2023-08-26 19:00:33,036 INFO Sending request to https://cds.climate.copernicus.eu/api/v2/resources/reanalysis-era5-pressure-levels\n",
      "2023-08-26 19:00:33,104 INFO Request is queued\n"
     ]
    },
    {
     "name": "stdout",
     "output_type": "stream",
     "text": [
      "era5_pressure_level_2015_08_850.nc done!\n",
      "Download time: 50.323 s\n",
      "Folder 'F:\\JuPyterNotebook\\data\\raw_data\\ERA5_DATA\\GB_ERA5_DATA' created successfully.\n"
     ]
    },
    {
     "name": "stderr",
     "output_type": "stream",
     "text": [
      "2023-08-26 19:00:34,155 INFO Request is running\n",
      "2023-08-26 19:01:22,763 INFO Request is completed\n",
      "2023-08-26 19:01:22,763 INFO Downloading https://download-0011-clone.copernicus-climate.eu/cache-compute-0011/cache/data8/adaptor.mars.internal-1693072868.0114737-20339-11-38d71b7b-bdc5-4d9b-8b91-0d0703eab9eb.nc to F:\\JuPyterNotebook\\data\\raw_data\\ERA5_DATA\\GB_ERA5_DATA\\era5_pressure_level_2015_09_850.nc (1.7M)\n",
      "2023-08-26 19:01:23,131 INFO Download rate 4.6M/s                                                                      \n",
      "2023-08-26 19:01:23,231 INFO Welcome to the CDS\n",
      "2023-08-26 19:01:23,231 INFO Sending request to https://cds.climate.copernicus.eu/api/v2/resources/reanalysis-era5-pressure-levels\n",
      "2023-08-26 19:01:23,332 INFO Request is queued\n"
     ]
    },
    {
     "name": "stdout",
     "output_type": "stream",
     "text": [
      "era5_pressure_level_2015_09_850.nc done!\n",
      "Download time: 50.188 s\n",
      "Folder 'F:\\JuPyterNotebook\\data\\raw_data\\ERA5_DATA\\GB_ERA5_DATA' created successfully.\n"
     ]
    },
    {
     "name": "stderr",
     "output_type": "stream",
     "text": [
      "2023-08-26 19:01:24,394 INFO Request is running\n",
      "2023-08-26 19:02:12,973 INFO Request is completed\n",
      "2023-08-26 19:02:12,973 INFO Downloading https://download-0010-clone.copernicus-climate.eu/cache-compute-0010/cache/data2/adaptor.mars.internal-1693072925.1478755-22334-2-6b0d246c-30cb-40c7-bed6-262a51996387.nc to F:\\JuPyterNotebook\\data\\raw_data\\ERA5_DATA\\GB_ERA5_DATA\\era5_pressure_level_2015_10_850.nc (1.7M)\n",
      "2023-08-26 19:02:13,477 INFO Download rate 3.5M/s                                                                      \n",
      "2023-08-26 19:02:13,560 INFO Welcome to the CDS\n",
      "2023-08-26 19:02:13,560 INFO Sending request to https://cds.climate.copernicus.eu/api/v2/resources/reanalysis-era5-pressure-levels\n",
      "2023-08-26 19:02:13,620 INFO Request is queued\n"
     ]
    },
    {
     "name": "stdout",
     "output_type": "stream",
     "text": [
      "era5_pressure_level_2015_10_850.nc done!\n",
      "Download time: 50.333 s\n",
      "Folder 'F:\\JuPyterNotebook\\data\\raw_data\\ERA5_DATA\\GB_ERA5_DATA' created successfully.\n"
     ]
    },
    {
     "name": "stderr",
     "output_type": "stream",
     "text": [
      "2023-08-26 19:02:14,685 INFO Request is running\n",
      "2023-08-26 19:03:03,369 INFO Request is completed\n",
      "2023-08-26 19:03:03,370 INFO Downloading https://download-0003-clone.copernicus-climate.eu/cache-compute-0003/cache/data6/adaptor.mars.internal-1693072971.577384-30411-17-d33eb881-9723-43f0-a1dd-ce2c8387616e.nc to F:\\JuPyterNotebook\\data\\raw_data\\ERA5_DATA\\GB_ERA5_DATA\\era5_pressure_level_2015_11_850.nc (1.7M)\n",
      "2023-08-26 19:03:03,864 INFO Download rate 3.4M/s                                                                      \n",
      "2023-08-26 19:03:03,941 INFO Welcome to the CDS\n",
      "2023-08-26 19:03:03,941 INFO Sending request to https://cds.climate.copernicus.eu/api/v2/resources/reanalysis-era5-pressure-levels\n",
      "2023-08-26 19:03:04,072 INFO Request is queued\n"
     ]
    },
    {
     "name": "stdout",
     "output_type": "stream",
     "text": [
      "era5_pressure_level_2015_11_850.nc done!\n",
      "Download time: 50.382 s\n",
      "Folder 'F:\\JuPyterNotebook\\data\\raw_data\\ERA5_DATA\\GB_ERA5_DATA' created successfully.\n"
     ]
    },
    {
     "name": "stderr",
     "output_type": "stream",
     "text": [
      "2023-08-26 19:03:05,118 INFO Request is running\n",
      "2023-08-26 19:03:53,658 INFO Request is completed\n",
      "2023-08-26 19:03:53,658 INFO Downloading https://download-0012-clone.copernicus-climate.eu/cache-compute-0012/cache/data2/adaptor.mars.internal-1693073023.8237214-22432-12-8bf83543-0e0f-4f5f-90a4-4586ab6cfd34.nc to F:\\JuPyterNotebook\\data\\raw_data\\ERA5_DATA\\GB_ERA5_DATA\\era5_pressure_level_2015_12_850.nc (1.7M)\n",
      "2023-08-26 19:03:54,178 INFO Download rate 3.3M/s                                                                      \n",
      "2023-08-26 19:03:54,266 INFO Welcome to the CDS\n",
      "2023-08-26 19:03:54,266 INFO Sending request to https://cds.climate.copernicus.eu/api/v2/resources/reanalysis-era5-pressure-levels\n",
      "2023-08-26 19:03:54,304 INFO Request is queued\n"
     ]
    },
    {
     "name": "stdout",
     "output_type": "stream",
     "text": [
      "era5_pressure_level_2015_12_850.nc done!\n",
      "Download time: 50.310 s\n",
      "Folder 'F:\\JuPyterNotebook\\data\\raw_data\\ERA5_DATA\\GB_ERA5_DATA' created successfully.\n"
     ]
    },
    {
     "name": "stderr",
     "output_type": "stream",
     "text": [
      "2023-08-26 19:03:55,335 INFO Request is running\n",
      "2023-08-26 19:04:44,133 INFO Request is completed\n",
      "2023-08-26 19:04:44,133 INFO Downloading https://download-0004-clone.copernicus-climate.eu/cache-compute-0004/cache/data4/adaptor.mars.internal-1693073069.652731-5769-15-f18aed02-57da-4c12-9f32-df55aa36475c.nc to F:\\JuPyterNotebook\\data\\raw_data\\ERA5_DATA\\GB_ERA5_DATA\\era5_pressure_level_2016_01_850.nc (1.7M)\n",
      "2023-08-26 19:04:44,641 INFO Download rate 3.4M/s                                                                      \n",
      "2023-08-26 19:04:44,713 INFO Welcome to the CDS\n",
      "2023-08-26 19:04:44,713 INFO Sending request to https://cds.climate.copernicus.eu/api/v2/resources/reanalysis-era5-pressure-levels\n",
      "2023-08-26 19:04:44,817 INFO Request is queued\n"
     ]
    },
    {
     "name": "stdout",
     "output_type": "stream",
     "text": [
      "era5_pressure_level_2016_01_850.nc done!\n",
      "Download time: 50.464 s\n",
      "Folder 'F:\\JuPyterNotebook\\data\\raw_data\\ERA5_DATA\\GB_ERA5_DATA' created successfully.\n"
     ]
    },
    {
     "name": "stderr",
     "output_type": "stream",
     "text": [
      "2023-08-26 19:04:45,860 INFO Request is running\n",
      "2023-08-26 19:05:34,493 INFO Request is completed\n",
      "2023-08-26 19:05:34,493 INFO Downloading https://download-0002-clone.copernicus-climate.eu/cache-compute-0002/cache/data9/adaptor.mars.internal-1693073119.9123175-12988-1-c4172a02-66e2-4b55-be1b-5369cf2b450e.nc to F:\\JuPyterNotebook\\data\\raw_data\\ERA5_DATA\\GB_ERA5_DATA\\era5_pressure_level_2016_02_850.nc (1.6M)\n",
      "2023-08-26 19:05:34,913 INFO Download rate 3.9M/s                                                                      \n",
      "2023-08-26 19:05:34,995 INFO Welcome to the CDS\n",
      "2023-08-26 19:05:34,995 INFO Sending request to https://cds.climate.copernicus.eu/api/v2/resources/reanalysis-era5-pressure-levels\n",
      "2023-08-26 19:05:35,085 INFO Request is queued\n"
     ]
    },
    {
     "name": "stdout",
     "output_type": "stream",
     "text": [
      "era5_pressure_level_2016_02_850.nc done!\n",
      "Download time: 50.280 s\n",
      "Folder 'F:\\JuPyterNotebook\\data\\raw_data\\ERA5_DATA\\GB_ERA5_DATA' created successfully.\n"
     ]
    },
    {
     "name": "stderr",
     "output_type": "stream",
     "text": [
      "2023-08-26 19:05:36,123 INFO Request is running\n",
      "2023-08-26 19:06:24,685 INFO Request is completed\n",
      "2023-08-26 19:06:24,685 INFO Downloading https://download-0009-clone.copernicus-climate.eu/cache-compute-0009/cache/data9/adaptor.mars.internal-1693073170.4040804-7033-12-b5afa19f-3375-44ca-94d5-863e5fd45b7f.nc to F:\\JuPyterNotebook\\data\\raw_data\\ERA5_DATA\\GB_ERA5_DATA\\era5_pressure_level_2016_03_850.nc (1.7M)\n",
      "2023-08-26 19:06:25,174 INFO Download rate 3.5M/s                                                                      \n",
      "2023-08-26 19:06:25,262 INFO Welcome to the CDS\n",
      "2023-08-26 19:06:25,262 INFO Sending request to https://cds.climate.copernicus.eu/api/v2/resources/reanalysis-era5-pressure-levels\n",
      "2023-08-26 19:06:25,327 INFO Request is queued\n"
     ]
    },
    {
     "name": "stdout",
     "output_type": "stream",
     "text": [
      "era5_pressure_level_2016_03_850.nc done!\n",
      "Download time: 50.265 s\n",
      "Folder 'F:\\JuPyterNotebook\\data\\raw_data\\ERA5_DATA\\GB_ERA5_DATA' created successfully.\n"
     ]
    },
    {
     "name": "stderr",
     "output_type": "stream",
     "text": [
      "2023-08-26 19:06:26,362 INFO Request is running\n",
      "2023-08-26 19:07:14,904 INFO Request is completed\n",
      "2023-08-26 19:07:14,904 INFO Downloading https://download-0006-clone.copernicus-climate.eu/cache-compute-0006/cache/data9/adaptor.mars.internal-1693073222.4908192-25208-18-79b6f0f5-1cdb-433a-91c6-f3aa51fe0bed.nc to F:\\JuPyterNotebook\\data\\raw_data\\ERA5_DATA\\GB_ERA5_DATA\\era5_pressure_level_2016_04_850.nc (1.7M)\n",
      "2023-08-26 19:07:16,947 INFO Download rate 842.4K/s                                                                    \n",
      "2023-08-26 19:07:17,030 INFO Welcome to the CDS\n",
      "2023-08-26 19:07:17,030 INFO Sending request to https://cds.climate.copernicus.eu/api/v2/resources/reanalysis-era5-pressure-levels\n",
      "2023-08-26 19:07:17,128 INFO Request is queued\n"
     ]
    },
    {
     "name": "stdout",
     "output_type": "stream",
     "text": [
      "era5_pressure_level_2016_04_850.nc done!\n",
      "Download time: 51.768 s\n",
      "Folder 'F:\\JuPyterNotebook\\data\\raw_data\\ERA5_DATA\\GB_ERA5_DATA' created successfully.\n"
     ]
    },
    {
     "name": "stderr",
     "output_type": "stream",
     "text": [
      "2023-08-26 19:07:18,167 INFO Request is running\n",
      "2023-08-26 19:08:06,678 INFO Request is completed\n",
      "2023-08-26 19:08:06,678 INFO Downloading https://download-0019.copernicus-climate.eu/cache-compute-0019/cache/data8/adaptor.mars.internal-1693073276.4675832-2089-18-f9c53078-9a07-4ec9-bb00-e032de6ea264.nc to F:\\JuPyterNotebook\\data\\raw_data\\ERA5_DATA\\GB_ERA5_DATA\\era5_pressure_level_2016_05_850.nc (1.7M)\n",
      "2023-08-26 19:08:07,190 INFO Download rate 3.5M/s                                                                      \n",
      "2023-08-26 19:08:07,265 INFO Welcome to the CDS\n",
      "2023-08-26 19:08:07,265 INFO Sending request to https://cds.climate.copernicus.eu/api/v2/resources/reanalysis-era5-pressure-levels\n",
      "2023-08-26 19:08:07,423 INFO Request is queued\n"
     ]
    },
    {
     "name": "stdout",
     "output_type": "stream",
     "text": [
      "era5_pressure_level_2016_05_850.nc done!\n",
      "Download time: 50.234 s\n",
      "Folder 'F:\\JuPyterNotebook\\data\\raw_data\\ERA5_DATA\\GB_ERA5_DATA' created successfully.\n"
     ]
    },
    {
     "name": "stderr",
     "output_type": "stream",
     "text": [
      "2023-08-26 19:08:08,469 INFO Request is running\n",
      "2023-08-26 19:08:57,024 INFO Request is completed\n",
      "2023-08-26 19:08:57,024 INFO Downloading https://download-0003-clone.copernicus-climate.eu/cache-compute-0003/cache/data6/adaptor.mars.internal-1693073322.95572-3082-9-67324ce0-e308-44b1-b2d2-dd75f2174c72.nc to F:\\JuPyterNotebook\\data\\raw_data\\ERA5_DATA\\GB_ERA5_DATA\\era5_pressure_level_2016_06_850.nc (1.7M)\n",
      "2023-08-26 19:08:57,510 INFO Download rate 3.5M/s                                                                      \n",
      "2023-08-26 19:08:57,584 INFO Welcome to the CDS\n",
      "2023-08-26 19:08:57,584 INFO Sending request to https://cds.climate.copernicus.eu/api/v2/resources/reanalysis-era5-pressure-levels\n",
      "2023-08-26 19:08:57,633 INFO Request is queued\n"
     ]
    },
    {
     "name": "stdout",
     "output_type": "stream",
     "text": [
      "era5_pressure_level_2016_06_850.nc done!\n",
      "Download time: 50.316 s\n",
      "Folder 'F:\\JuPyterNotebook\\data\\raw_data\\ERA5_DATA\\GB_ERA5_DATA' created successfully.\n"
     ]
    },
    {
     "name": "stderr",
     "output_type": "stream",
     "text": [
      "2023-08-26 19:08:58,666 INFO Request is running\n",
      "2023-08-26 19:09:47,200 INFO Request is completed\n",
      "2023-08-26 19:09:47,200 INFO Downloading https://download-0009-clone.copernicus-climate.eu/cache-compute-0009/cache/data1/adaptor.mars.internal-1693073372.0549061-10578-7-6b925c91-a59b-4bb4-bcfa-4cb6d256c79b.nc to F:\\JuPyterNotebook\\data\\raw_data\\ERA5_DATA\\GB_ERA5_DATA\\era5_pressure_level_2016_07_850.nc (1.7M)\n",
      "2023-08-26 19:09:47,747 INFO Download rate 3.2M/s                                                                      \n",
      "2023-08-26 19:09:47,826 INFO Welcome to the CDS\n",
      "2023-08-26 19:09:47,826 INFO Sending request to https://cds.climate.copernicus.eu/api/v2/resources/reanalysis-era5-pressure-levels\n",
      "2023-08-26 19:09:47,894 INFO Request is queued\n"
     ]
    },
    {
     "name": "stdout",
     "output_type": "stream",
     "text": [
      "era5_pressure_level_2016_07_850.nc done!\n",
      "Download time: 50.228 s\n",
      "Folder 'F:\\JuPyterNotebook\\data\\raw_data\\ERA5_DATA\\GB_ERA5_DATA' created successfully.\n"
     ]
    },
    {
     "name": "stderr",
     "output_type": "stream",
     "text": [
      "2023-08-26 19:09:48,937 INFO Request is running\n",
      "2023-08-26 19:10:37,591 INFO Request is completed\n",
      "2023-08-26 19:10:37,607 INFO Downloading https://download-0011-clone.copernicus-climate.eu/cache-compute-0011/cache/data3/adaptor.mars.internal-1693073425.8951228-20076-18-e4189a5f-aab2-456d-90f6-dba0ec200f1f.nc to F:\\JuPyterNotebook\\data\\raw_data\\ERA5_DATA\\GB_ERA5_DATA\\era5_pressure_level_2016_08_850.nc (1.7M)\n",
      "2023-08-26 19:10:38,131 INFO Download rate 3.3M/s                                                                      \n",
      "2023-08-26 19:10:38,214 INFO Welcome to the CDS\n",
      "2023-08-26 19:10:38,215 INFO Sending request to https://cds.climate.copernicus.eu/api/v2/resources/reanalysis-era5-pressure-levels\n",
      "2023-08-26 19:10:38,297 INFO Request is queued\n"
     ]
    },
    {
     "name": "stdout",
     "output_type": "stream",
     "text": [
      "era5_pressure_level_2016_08_850.nc done!\n",
      "Download time: 50.395 s\n",
      "Folder 'F:\\JuPyterNotebook\\data\\raw_data\\ERA5_DATA\\GB_ERA5_DATA' created successfully.\n"
     ]
    },
    {
     "name": "stderr",
     "output_type": "stream",
     "text": [
      "2023-08-26 19:10:39,343 INFO Request is running\n",
      "2023-08-26 19:11:27,887 INFO Request is completed\n",
      "2023-08-26 19:11:27,887 INFO Downloading https://download-0021.copernicus-climate.eu/cache-compute-0021/cache/data2/adaptor.mars.internal-1693073474.9679437-20884-18-49a34c7d-fcf3-453f-8168-54710abe3073.nc to F:\\JuPyterNotebook\\data\\raw_data\\ERA5_DATA\\GB_ERA5_DATA\\era5_pressure_level_2016_09_850.nc (1.7M)\n",
      "2023-08-26 19:11:28,381 INFO Download rate 3.4M/s                                                                      \n",
      "2023-08-26 19:11:28,463 INFO Welcome to the CDS\n",
      "2023-08-26 19:11:28,463 INFO Sending request to https://cds.climate.copernicus.eu/api/v2/resources/reanalysis-era5-pressure-levels\n",
      "2023-08-26 19:11:28,530 INFO Request is queued\n"
     ]
    },
    {
     "name": "stdout",
     "output_type": "stream",
     "text": [
      "era5_pressure_level_2016_09_850.nc done!\n",
      "Download time: 50.258 s\n",
      "Folder 'F:\\JuPyterNotebook\\data\\raw_data\\ERA5_DATA\\GB_ERA5_DATA' created successfully.\n"
     ]
    },
    {
     "name": "stderr",
     "output_type": "stream",
     "text": [
      "2023-08-26 19:11:29,638 INFO Request is running\n",
      "2023-08-26 19:12:18,260 INFO Request is completed\n",
      "2023-08-26 19:12:18,260 INFO Downloading https://download-0019.copernicus-climate.eu/cache-compute-0019/cache/data6/adaptor.mars.internal-1693073528.7311926-9921-8-9840966d-000d-4760-819c-a0efb1210155.nc to F:\\JuPyterNotebook\\data\\raw_data\\ERA5_DATA\\GB_ERA5_DATA\\era5_pressure_level_2016_10_850.nc (1.7M)\n",
      "2023-08-26 19:12:18,725 INFO Download rate 3.7M/s                                                                      \n",
      "2023-08-26 19:12:18,816 INFO Welcome to the CDS\n",
      "2023-08-26 19:12:18,816 INFO Sending request to https://cds.climate.copernicus.eu/api/v2/resources/reanalysis-era5-pressure-levels\n",
      "2023-08-26 19:12:18,863 INFO Request is queued\n"
     ]
    },
    {
     "name": "stdout",
     "output_type": "stream",
     "text": [
      "era5_pressure_level_2016_10_850.nc done!\n",
      "Download time: 50.338 s\n",
      "Folder 'F:\\JuPyterNotebook\\data\\raw_data\\ERA5_DATA\\GB_ERA5_DATA' created successfully.\n"
     ]
    },
    {
     "name": "stderr",
     "output_type": "stream",
     "text": [
      "2023-08-26 19:12:19,904 INFO Request is running\n",
      "2023-08-26 19:13:08,438 INFO Request is completed\n",
      "2023-08-26 19:13:08,438 INFO Downloading https://download-0010-clone.copernicus-climate.eu/cache-compute-0010/cache/data9/adaptor.mars.internal-1693073575.4848042-28763-5-c5216be3-9711-4eef-a903-04fd0c22c0ef.nc to F:\\JuPyterNotebook\\data\\raw_data\\ERA5_DATA\\GB_ERA5_DATA\\era5_pressure_level_2016_11_850.nc (1.7M)\n",
      "2023-08-26 19:13:08,933 INFO Download rate 3.4M/s                                                                      \n",
      "2023-08-26 19:13:09,040 INFO Welcome to the CDS\n",
      "2023-08-26 19:13:09,040 INFO Sending request to https://cds.climate.copernicus.eu/api/v2/resources/reanalysis-era5-pressure-levels\n",
      "2023-08-26 19:13:09,083 INFO Request is queued\n"
     ]
    },
    {
     "name": "stdout",
     "output_type": "stream",
     "text": [
      "era5_pressure_level_2016_11_850.nc done!\n",
      "Download time: 50.226 s\n",
      "Folder 'F:\\JuPyterNotebook\\data\\raw_data\\ERA5_DATA\\GB_ERA5_DATA' created successfully.\n"
     ]
    },
    {
     "name": "stderr",
     "output_type": "stream",
     "text": [
      "2023-08-26 19:13:10,122 INFO Request is running\n",
      "2023-08-26 19:13:58,701 INFO Request is completed\n",
      "2023-08-26 19:13:58,701 INFO Downloading https://download-0005-clone.copernicus-climate.eu/cache-compute-0005/cache/data4/adaptor.mars.internal-1693073627.4470944-7779-9-2fe2a7f5-35b3-412c-a308-cd3c70a78c71.nc to F:\\JuPyterNotebook\\data\\raw_data\\ERA5_DATA\\GB_ERA5_DATA\\era5_pressure_level_2016_12_850.nc (1.7M)\n",
      "2023-08-26 19:13:59,273 INFO Download rate 3M/s                                                                        \n",
      "2023-08-26 19:13:59,364 INFO Welcome to the CDS\n",
      "2023-08-26 19:13:59,364 INFO Sending request to https://cds.climate.copernicus.eu/api/v2/resources/reanalysis-era5-pressure-levels\n",
      "2023-08-26 19:13:59,449 INFO Request is queued\n"
     ]
    },
    {
     "name": "stdout",
     "output_type": "stream",
     "text": [
      "era5_pressure_level_2016_12_850.nc done!\n",
      "Download time: 50.324 s\n",
      "Folder 'F:\\JuPyterNotebook\\data\\raw_data\\ERA5_DATA\\GB_ERA5_DATA' created successfully.\n"
     ]
    },
    {
     "name": "stderr",
     "output_type": "stream",
     "text": [
      "2023-08-26 19:14:00,483 INFO Request is running\n",
      "2023-08-26 19:14:49,024 INFO Request is completed\n",
      "2023-08-26 19:14:49,024 INFO Downloading https://download-0010-clone.copernicus-climate.eu/cache-compute-0010/cache/data9/adaptor.mars.internal-1693073679.022454-22462-10-b8554711-2ce9-46a7-be5d-bb54b6a8c92a.nc to F:\\JuPyterNotebook\\data\\raw_data\\ERA5_DATA\\GB_ERA5_DATA\\era5_pressure_level_2017_01_850.nc (1.7M)\n",
      "2023-08-26 19:14:49,564 INFO Download rate 3.2M/s                                                                      \n",
      "2023-08-26 19:14:49,644 INFO Welcome to the CDS\n",
      "2023-08-26 19:14:49,644 INFO Sending request to https://cds.climate.copernicus.eu/api/v2/resources/reanalysis-era5-pressure-levels\n",
      "2023-08-26 19:14:49,710 INFO Request is queued\n"
     ]
    },
    {
     "name": "stdout",
     "output_type": "stream",
     "text": [
      "era5_pressure_level_2017_01_850.nc done!\n",
      "Download time: 50.278 s\n",
      "Folder 'F:\\JuPyterNotebook\\data\\raw_data\\ERA5_DATA\\GB_ERA5_DATA' created successfully.\n"
     ]
    },
    {
     "name": "stderr",
     "output_type": "stream",
     "text": [
      "2023-08-26 19:14:50,754 INFO Request is running\n",
      "2023-08-26 19:15:39,293 INFO Request is completed\n",
      "2023-08-26 19:15:39,309 INFO Downloading https://download-0005-clone.copernicus-climate.eu/cache-compute-0005/cache/data2/adaptor.mars.internal-1693073721.4625242-15280-2-5d7a42dd-db3b-4c0c-9e34-2e0e21e8656b.nc to F:\\JuPyterNotebook\\data\\raw_data\\ERA5_DATA\\GB_ERA5_DATA\\era5_pressure_level_2017_02_850.nc (1.6M)\n",
      "2023-08-26 19:15:39,784 INFO Download rate 3.3M/s                                                                      \n",
      "2023-08-26 19:15:39,874 INFO Welcome to the CDS\n",
      "2023-08-26 19:15:39,874 INFO Sending request to https://cds.climate.copernicus.eu/api/v2/resources/reanalysis-era5-pressure-levels\n",
      "2023-08-26 19:15:39,940 INFO Request is queued\n"
     ]
    },
    {
     "name": "stdout",
     "output_type": "stream",
     "text": [
      "era5_pressure_level_2017_02_850.nc done!\n",
      "Download time: 50.216 s\n",
      "Folder 'F:\\JuPyterNotebook\\data\\raw_data\\ERA5_DATA\\GB_ERA5_DATA' created successfully.\n"
     ]
    },
    {
     "name": "stderr",
     "output_type": "stream",
     "text": [
      "2023-08-26 19:15:40,987 INFO Request is running\n",
      "2023-08-26 19:16:29,529 INFO Request is completed\n",
      "2023-08-26 19:16:29,529 INFO Downloading https://download-0017.copernicus-climate.eu/cache-compute-0017/cache/data9/adaptor.mars.internal-1693073776.819122-2507-13-95b51cc9-c0ff-4d3a-92cf-fbd35eef3e5c.nc to F:\\JuPyterNotebook\\data\\raw_data\\ERA5_DATA\\GB_ERA5_DATA\\era5_pressure_level_2017_03_850.nc (1.7M)\n",
      "2023-08-26 19:16:30,066 INFO Download rate 3.3M/s                                                                      \n",
      "2023-08-26 19:16:30,146 INFO Welcome to the CDS\n",
      "2023-08-26 19:16:30,146 INFO Sending request to https://cds.climate.copernicus.eu/api/v2/resources/reanalysis-era5-pressure-levels\n",
      "2023-08-26 19:16:30,234 INFO Request is queued\n"
     ]
    },
    {
     "name": "stdout",
     "output_type": "stream",
     "text": [
      "era5_pressure_level_2017_03_850.nc done!\n",
      "Download time: 50.271 s\n",
      "Folder 'F:\\JuPyterNotebook\\data\\raw_data\\ERA5_DATA\\GB_ERA5_DATA' created successfully.\n"
     ]
    },
    {
     "name": "stderr",
     "output_type": "stream",
     "text": [
      "2023-08-26 19:16:31,278 INFO Request is running\n",
      "2023-08-26 19:17:19,823 INFO Request is completed\n",
      "2023-08-26 19:17:19,823 INFO Downloading https://download-0013-clone.copernicus-climate.eu/cache-compute-0013/cache/data7/adaptor.mars.internal-1693073825.5280244-17956-2-3a79d237-49d4-44e2-b039-4a2662e13cca.nc to F:\\JuPyterNotebook\\data\\raw_data\\ERA5_DATA\\GB_ERA5_DATA\\era5_pressure_level_2017_04_850.nc (1.7M)\n",
      "2023-08-26 19:17:20,312 INFO Download rate 3.5M/s                                                                      \n",
      "2023-08-26 19:17:20,390 INFO Welcome to the CDS\n",
      "2023-08-26 19:17:20,405 INFO Sending request to https://cds.climate.copernicus.eu/api/v2/resources/reanalysis-era5-pressure-levels\n",
      "2023-08-26 19:17:20,488 INFO Request is queued\n"
     ]
    },
    {
     "name": "stdout",
     "output_type": "stream",
     "text": [
      "era5_pressure_level_2017_04_850.nc done!\n",
      "Download time: 50.260 s\n",
      "Folder 'F:\\JuPyterNotebook\\data\\raw_data\\ERA5_DATA\\GB_ERA5_DATA' created successfully.\n"
     ]
    },
    {
     "name": "stderr",
     "output_type": "stream",
     "text": [
      "2023-08-26 19:17:21,534 INFO Request is running\n",
      "2023-08-26 19:18:10,082 INFO Request is completed\n",
      "2023-08-26 19:18:10,082 INFO Downloading https://download-0017.copernicus-climate.eu/cache-compute-0017/cache/data3/adaptor.mars.internal-1693073878.6133535-11992-2-7796aa9d-14fb-4a83-950b-1d278b810540.nc to F:\\JuPyterNotebook\\data\\raw_data\\ERA5_DATA\\GB_ERA5_DATA\\era5_pressure_level_2017_05_850.nc (1.7M)\n",
      "2023-08-26 19:18:10,574 INFO Download rate 3.5M/s                                                                      \n",
      "2023-08-26 19:18:10,796 INFO Welcome to the CDS\n",
      "2023-08-26 19:18:10,796 INFO Sending request to https://cds.climate.copernicus.eu/api/v2/resources/reanalysis-era5-pressure-levels\n",
      "2023-08-26 19:18:10,897 INFO Request is queued\n"
     ]
    },
    {
     "name": "stdout",
     "output_type": "stream",
     "text": [
      "era5_pressure_level_2017_05_850.nc done!\n",
      "Download time: 50.390 s\n",
      "Folder 'F:\\JuPyterNotebook\\data\\raw_data\\ERA5_DATA\\GB_ERA5_DATA' created successfully.\n"
     ]
    },
    {
     "name": "stderr",
     "output_type": "stream",
     "text": [
      "2023-08-26 19:18:11,941 INFO Request is running\n",
      "2023-08-26 19:19:00,495 INFO Request is completed\n",
      "2023-08-26 19:19:00,495 INFO Downloading https://download-0015-clone.copernicus-climate.eu/cache-compute-0015/cache/data9/adaptor.mars.internal-1693073925.484377-14564-12-8f0decea-9f1e-4dfb-9eff-fefe2ba26686.nc to F:\\JuPyterNotebook\\data\\raw_data\\ERA5_DATA\\GB_ERA5_DATA\\era5_pressure_level_2017_06_850.nc (1.7M)\n",
      "2023-08-26 19:19:02,116 INFO Download rate 1M/s                                                                        \n",
      "2023-08-26 19:19:02,198 INFO Welcome to the CDS\n",
      "2023-08-26 19:19:02,198 INFO Sending request to https://cds.climate.copernicus.eu/api/v2/resources/reanalysis-era5-pressure-levels\n",
      "2023-08-26 19:19:02,260 INFO Request is queued\n"
     ]
    },
    {
     "name": "stdout",
     "output_type": "stream",
     "text": [
      "era5_pressure_level_2017_06_850.nc done!\n",
      "Download time: 51.421 s\n",
      "Folder 'F:\\JuPyterNotebook\\data\\raw_data\\ERA5_DATA\\GB_ERA5_DATA' created successfully.\n"
     ]
    },
    {
     "name": "stderr",
     "output_type": "stream",
     "text": [
      "2023-08-26 19:19:03,311 INFO Request is running\n",
      "2023-08-26 19:19:51,889 INFO Request is completed\n",
      "2023-08-26 19:19:51,889 INFO Downloading https://download-0002-clone.copernicus-climate.eu/cache-compute-0002/cache/data8/adaptor.mars.internal-1693073978.4056592-9496-12-3d191a88-6b41-4e70-9ee0-16af96f5c997.nc to F:\\JuPyterNotebook\\data\\raw_data\\ERA5_DATA\\GB_ERA5_DATA\\era5_pressure_level_2017_07_850.nc (1.7M)\n",
      "2023-08-26 19:19:52,413 INFO Download rate 3.4M/s                                                                      \n",
      "2023-08-26 19:19:52,498 INFO Welcome to the CDS\n",
      "2023-08-26 19:19:52,498 INFO Sending request to https://cds.climate.copernicus.eu/api/v2/resources/reanalysis-era5-pressure-levels\n",
      "2023-08-26 19:19:52,570 INFO Request is queued\n"
     ]
    },
    {
     "name": "stdout",
     "output_type": "stream",
     "text": [
      "era5_pressure_level_2017_07_850.nc done!\n",
      "Download time: 50.284 s\n",
      "Folder 'F:\\JuPyterNotebook\\data\\raw_data\\ERA5_DATA\\GB_ERA5_DATA' created successfully.\n"
     ]
    },
    {
     "name": "stderr",
     "output_type": "stream",
     "text": [
      "2023-08-26 19:19:53,615 INFO Request is running\n",
      "2023-08-26 19:20:42,159 INFO Request is completed\n",
      "2023-08-26 19:20:42,159 INFO Downloading https://download-0005-clone.copernicus-climate.eu/cache-compute-0005/cache/data6/adaptor.mars.internal-1693074030.8956177-15280-7-619db725-724c-4ee5-ba4c-da9758ec4de3.nc to F:\\JuPyterNotebook\\data\\raw_data\\ERA5_DATA\\GB_ERA5_DATA\\era5_pressure_level_2017_08_850.nc (1.7M)\n",
      "2023-08-26 19:20:42,704 INFO Download rate 3.2M/s                                                                      \n",
      "2023-08-26 19:20:42,838 INFO Welcome to the CDS\n",
      "2023-08-26 19:20:42,838 INFO Sending request to https://cds.climate.copernicus.eu/api/v2/resources/reanalysis-era5-pressure-levels\n",
      "2023-08-26 19:20:42,931 INFO Request is queued\n"
     ]
    },
    {
     "name": "stdout",
     "output_type": "stream",
     "text": [
      "era5_pressure_level_2017_08_850.nc done!\n",
      "Download time: 50.323 s\n",
      "Folder 'F:\\JuPyterNotebook\\data\\raw_data\\ERA5_DATA\\GB_ERA5_DATA' created successfully.\n"
     ]
    },
    {
     "name": "stderr",
     "output_type": "stream",
     "text": [
      "2023-08-26 19:20:43,975 INFO Request is running\n",
      "2023-08-26 19:21:32,507 INFO Request is completed\n",
      "2023-08-26 19:21:32,507 INFO Downloading https://download-0007-clone.copernicus-climate.eu/cache-compute-0007/cache/data5/adaptor.mars.internal-1693074082.4079487-1338-1-2bb3f119-11cc-4328-a16a-7d1893668b0e.nc to F:\\JuPyterNotebook\\data\\raw_data\\ERA5_DATA\\GB_ERA5_DATA\\era5_pressure_level_2017_09_850.nc (1.7M)\n",
      "2023-08-26 19:21:33,027 INFO Download rate 3.3M/s                                                                      \n",
      "2023-08-26 19:21:33,114 INFO Welcome to the CDS\n",
      "2023-08-26 19:21:33,129 INFO Sending request to https://cds.climate.copernicus.eu/api/v2/resources/reanalysis-era5-pressure-levels\n",
      "2023-08-26 19:21:33,179 INFO Request is queued\n"
     ]
    },
    {
     "name": "stdout",
     "output_type": "stream",
     "text": [
      "era5_pressure_level_2017_09_850.nc done!\n",
      "Download time: 50.292 s\n",
      "Folder 'F:\\JuPyterNotebook\\data\\raw_data\\ERA5_DATA\\GB_ERA5_DATA' created successfully.\n"
     ]
    },
    {
     "name": "stderr",
     "output_type": "stream",
     "text": [
      "2023-08-26 19:21:34,244 INFO Request is running\n",
      "2023-08-26 19:22:22,856 INFO Request is completed\n",
      "2023-08-26 19:22:22,856 INFO Downloading https://download-0005-clone.copernicus-climate.eu/cache-compute-0005/cache/data6/adaptor.mars.internal-1693074134.210074-15528-6-37fa119e-61e2-419d-b42b-7c32059582d5.nc to F:\\JuPyterNotebook\\data\\raw_data\\ERA5_DATA\\GB_ERA5_DATA\\era5_pressure_level_2017_10_850.nc (1.7M)\n",
      "2023-08-26 19:22:23,386 INFO Download rate 3.4M/s                                                                      \n",
      "2023-08-26 19:22:23,468 INFO Welcome to the CDS\n",
      "2023-08-26 19:22:23,468 INFO Sending request to https://cds.climate.copernicus.eu/api/v2/resources/reanalysis-era5-pressure-levels\n",
      "2023-08-26 19:22:23,539 INFO Request is queued\n"
     ]
    },
    {
     "name": "stdout",
     "output_type": "stream",
     "text": [
      "era5_pressure_level_2017_10_850.nc done!\n",
      "Download time: 50.338 s\n",
      "Folder 'F:\\JuPyterNotebook\\data\\raw_data\\ERA5_DATA\\GB_ERA5_DATA' created successfully.\n"
     ]
    },
    {
     "name": "stderr",
     "output_type": "stream",
     "text": [
      "2023-08-26 19:22:24,577 INFO Request is running\n",
      "2023-08-26 19:23:13,120 INFO Request is completed\n",
      "2023-08-26 19:23:13,120 INFO Downloading https://download-0002-clone.copernicus-climate.eu/cache-compute-0002/cache/data8/adaptor.mars.internal-1693074178.7527752-20348-7-d0f98b89-d5c5-4f3d-99e7-12af05d72083.nc to F:\\JuPyterNotebook\\data\\raw_data\\ERA5_DATA\\GB_ERA5_DATA\\era5_pressure_level_2017_11_850.nc (1.7M)\n",
      "2023-08-26 19:23:13,608 INFO Download rate 3.4M/s                                                                      \n",
      "2023-08-26 19:23:13,698 INFO Welcome to the CDS\n",
      "2023-08-26 19:23:13,698 INFO Sending request to https://cds.climate.copernicus.eu/api/v2/resources/reanalysis-era5-pressure-levels\n",
      "2023-08-26 19:23:13,818 INFO Request is queued\n"
     ]
    },
    {
     "name": "stdout",
     "output_type": "stream",
     "text": [
      "era5_pressure_level_2017_11_850.nc done!\n",
      "Download time: 50.230 s\n",
      "Folder 'F:\\JuPyterNotebook\\data\\raw_data\\ERA5_DATA\\GB_ERA5_DATA' created successfully.\n"
     ]
    },
    {
     "name": "stderr",
     "output_type": "stream",
     "text": [
      "2023-08-26 19:23:14,863 INFO Request is running\n",
      "2023-08-26 19:24:03,400 INFO Request is completed\n",
      "2023-08-26 19:24:03,400 INFO Downloading https://download-0006-clone.copernicus-climate.eu/cache-compute-0006/cache/data1/adaptor.mars.internal-1693074231.6390371-10256-1-7a760aac-a883-4966-bd55-cc2668b10dd7.nc to F:\\JuPyterNotebook\\data\\raw_data\\ERA5_DATA\\GB_ERA5_DATA\\era5_pressure_level_2017_12_850.nc (1.7M)\n",
      "2023-08-26 19:24:03,879 INFO Download rate 3.6M/s                                                                      \n",
      "2023-08-26 19:24:03,956 INFO Welcome to the CDS\n",
      "2023-08-26 19:24:03,956 INFO Sending request to https://cds.climate.copernicus.eu/api/v2/resources/reanalysis-era5-pressure-levels\n",
      "2023-08-26 19:24:04,034 INFO Request is queued\n"
     ]
    },
    {
     "name": "stdout",
     "output_type": "stream",
     "text": [
      "era5_pressure_level_2017_12_850.nc done!\n",
      "Download time: 50.273 s\n",
      "Folder 'F:\\JuPyterNotebook\\data\\raw_data\\ERA5_DATA\\GB_ERA5_DATA' created successfully.\n"
     ]
    },
    {
     "name": "stderr",
     "output_type": "stream",
     "text": [
      "2023-08-26 19:24:05,080 INFO Request is running\n",
      "2023-08-26 19:24:53,638 INFO Request is completed\n",
      "2023-08-26 19:24:53,638 INFO Downloading https://download-0021.copernicus-climate.eu/cache-compute-0021/cache/data2/adaptor.mars.internal-1693074281.458839-18462-15-45ed4039-dfa8-456f-b1a3-78e016550323.nc to F:\\JuPyterNotebook\\data\\raw_data\\ERA5_DATA\\GB_ERA5_DATA\\era5_pressure_level_2018_01_850.nc (1.7M)\n",
      "2023-08-26 19:24:54,209 INFO Download rate 3M/s                                                                        \n",
      "2023-08-26 19:24:54,292 INFO Welcome to the CDS\n",
      "2023-08-26 19:24:54,292 INFO Sending request to https://cds.climate.copernicus.eu/api/v2/resources/reanalysis-era5-pressure-levels\n",
      "2023-08-26 19:24:54,413 INFO Request is queued\n"
     ]
    },
    {
     "name": "stdout",
     "output_type": "stream",
     "text": [
      "era5_pressure_level_2018_01_850.nc done!\n",
      "Download time: 50.320 s\n",
      "Folder 'F:\\JuPyterNotebook\\data\\raw_data\\ERA5_DATA\\GB_ERA5_DATA' created successfully.\n"
     ]
    },
    {
     "name": "stderr",
     "output_type": "stream",
     "text": [
      "2023-08-26 19:24:55,474 INFO Request is running\n",
      "2023-08-26 19:25:26,946 INFO Request is completed\n",
      "2023-08-26 19:25:26,946 INFO Downloading https://download-0000-clone.copernicus-climate.eu/cache-compute-0000/cache/data0/adaptor.mars.internal-1693074323.8179233-1816-2-eb24e794-7a21-4466-894f-3691d32e91c1.nc to F:\\JuPyterNotebook\\data\\raw_data\\ERA5_DATA\\GB_ERA5_DATA\\era5_pressure_level_2018_02_850.nc (1.6M)\n",
      "2023-08-26 19:25:27,436 INFO Download rate 3.3M/s                                                                      \n",
      "2023-08-26 19:25:27,515 INFO Welcome to the CDS\n",
      "2023-08-26 19:25:27,515 INFO Sending request to https://cds.climate.copernicus.eu/api/v2/resources/reanalysis-era5-pressure-levels\n"
     ]
    },
    {
     "name": "stdout",
     "output_type": "stream",
     "text": [
      "era5_pressure_level_2018_02_850.nc done!\n",
      "Download time: 33.231 s\n",
      "Folder 'F:\\JuPyterNotebook\\data\\raw_data\\ERA5_DATA\\GB_ERA5_DATA' created successfully.\n"
     ]
    },
    {
     "name": "stderr",
     "output_type": "stream",
     "text": [
      "2023-08-26 19:25:27,736 INFO Request is queued\n",
      "2023-08-26 19:25:28,791 INFO Request is running\n",
      "2023-08-26 19:26:17,346 INFO Request is completed\n",
      "2023-08-26 19:26:17,346 INFO Downloading https://download-0001-clone.copernicus-climate.eu/cache-compute-0001/cache/data0/adaptor.mars.internal-1693074364.9799647-8456-1-a81ae115-5d97-44ac-85f1-1210e7798cf6.nc to F:\\JuPyterNotebook\\data\\raw_data\\ERA5_DATA\\GB_ERA5_DATA\\era5_pressure_level_2018_03_850.nc (1.7M)\n",
      "2023-08-26 19:26:17,883 INFO Download rate 3.2M/s                                                                      \n",
      "2023-08-26 19:26:17,960 INFO Welcome to the CDS\n",
      "2023-08-26 19:26:17,960 INFO Sending request to https://cds.climate.copernicus.eu/api/v2/resources/reanalysis-era5-pressure-levels\n",
      "2023-08-26 19:26:18,072 INFO Request is queued\n"
     ]
    },
    {
     "name": "stdout",
     "output_type": "stream",
     "text": [
      "era5_pressure_level_2018_03_850.nc done!\n",
      "Download time: 50.445 s\n",
      "Folder 'F:\\JuPyterNotebook\\data\\raw_data\\ERA5_DATA\\GB_ERA5_DATA' created successfully.\n"
     ]
    },
    {
     "name": "stderr",
     "output_type": "stream",
     "text": [
      "2023-08-26 19:26:19,121 INFO Request is running\n",
      "2023-08-26 19:27:07,804 INFO Request is completed\n",
      "2023-08-26 19:27:07,804 INFO Downloading https://download-0019.copernicus-climate.eu/cache-compute-0019/cache/data0/adaptor.mars.internal-1693074413.8162928-16905-9-291349d4-f81c-447c-b6eb-23dd9dbc363d.nc to F:\\JuPyterNotebook\\data\\raw_data\\ERA5_DATA\\GB_ERA5_DATA\\era5_pressure_level_2018_04_850.nc (1.7M)\n",
      "2023-08-26 19:27:08,288 INFO Download rate 3.5M/s                                                                      \n",
      "2023-08-26 19:27:08,387 INFO Welcome to the CDS\n",
      "2023-08-26 19:27:08,387 INFO Sending request to https://cds.climate.copernicus.eu/api/v2/resources/reanalysis-era5-pressure-levels\n",
      "2023-08-26 19:27:08,473 INFO Request is queued\n"
     ]
    },
    {
     "name": "stdout",
     "output_type": "stream",
     "text": [
      "era5_pressure_level_2018_04_850.nc done!\n",
      "Download time: 50.408 s\n",
      "Folder 'F:\\JuPyterNotebook\\data\\raw_data\\ERA5_DATA\\GB_ERA5_DATA' created successfully.\n"
     ]
    },
    {
     "name": "stderr",
     "output_type": "stream",
     "text": [
      "2023-08-26 19:27:09,529 INFO Request is running\n",
      "2023-08-26 19:27:58,100 INFO Request is completed\n",
      "2023-08-26 19:27:58,116 INFO Downloading https://download-0010-clone.copernicus-climate.eu/cache-compute-0010/cache/data6/adaptor.mars.internal-1693074464.5573094-23212-19-f5281121-4bb5-41ce-992f-0c80d8ef6337.nc to F:\\JuPyterNotebook\\data\\raw_data\\ERA5_DATA\\GB_ERA5_DATA\\era5_pressure_level_2018_05_850.nc (1.7M)\n",
      "2023-08-26 19:27:58,621 INFO Download rate 3.4M/s                                                                      \n",
      "2023-08-26 19:27:58,704 INFO Welcome to the CDS\n",
      "2023-08-26 19:27:58,704 INFO Sending request to https://cds.climate.copernicus.eu/api/v2/resources/reanalysis-era5-pressure-levels\n"
     ]
    },
    {
     "name": "stdout",
     "output_type": "stream",
     "text": [
      "era5_pressure_level_2018_05_850.nc done!\n",
      "Download time: 50.332 s\n",
      "Folder 'F:\\JuPyterNotebook\\data\\raw_data\\ERA5_DATA\\GB_ERA5_DATA' created successfully.\n"
     ]
    },
    {
     "name": "stderr",
     "output_type": "stream",
     "text": [
      "2023-08-26 19:27:58,875 INFO Request is queued\n",
      "2023-08-26 19:27:59,930 INFO Request is running\n",
      "2023-08-26 19:28:48,505 INFO Request is completed\n",
      "2023-08-26 19:28:48,505 INFO Downloading https://download-0017.copernicus-climate.eu/cache-compute-0017/cache/data1/adaptor.mars.internal-1693074515.6471045-10499-17-4551f24c-81f3-47d6-b128-d3f8f257518d.nc to F:\\JuPyterNotebook\\data\\raw_data\\ERA5_DATA\\GB_ERA5_DATA\\era5_pressure_level_2018_06_850.nc (1.7M)\n",
      "2023-08-26 19:28:49,092 INFO Download rate 2.9M/s                                                                      \n",
      "2023-08-26 19:28:49,183 INFO Welcome to the CDS\n",
      "2023-08-26 19:28:49,199 INFO Sending request to https://cds.climate.copernicus.eu/api/v2/resources/reanalysis-era5-pressure-levels\n",
      "2023-08-26 19:28:49,284 INFO Request is queued\n"
     ]
    },
    {
     "name": "stdout",
     "output_type": "stream",
     "text": [
      "era5_pressure_level_2018_06_850.nc done!\n",
      "Download time: 50.483 s\n",
      "Folder 'F:\\JuPyterNotebook\\data\\raw_data\\ERA5_DATA\\GB_ERA5_DATA' created successfully.\n"
     ]
    },
    {
     "name": "stderr",
     "output_type": "stream",
     "text": [
      "2023-08-26 19:28:50,339 INFO Request is running\n",
      "2023-08-26 19:29:38,896 INFO Request is completed\n",
      "2023-08-26 19:29:38,896 INFO Downloading https://download-0014-clone.copernicus-climate.eu/cache-compute-0014/cache/data5/adaptor.mars.internal-1693074568.9016743-31023-4-4606a83a-f27c-4f18-bbf3-cdb7553364e5.nc to F:\\JuPyterNotebook\\data\\raw_data\\ERA5_DATA\\GB_ERA5_DATA\\era5_pressure_level_2018_07_850.nc (1.7M)\n",
      "2023-08-26 19:29:39,453 INFO Download rate 3.1M/s                                                                      \n",
      "2023-08-26 19:29:39,539 INFO Welcome to the CDS\n",
      "2023-08-26 19:29:39,539 INFO Sending request to https://cds.climate.copernicus.eu/api/v2/resources/reanalysis-era5-pressure-levels\n",
      "2023-08-26 19:29:39,677 INFO Request is queued\n"
     ]
    },
    {
     "name": "stdout",
     "output_type": "stream",
     "text": [
      "era5_pressure_level_2018_07_850.nc done!\n",
      "Download time: 50.354 s\n",
      "Folder 'F:\\JuPyterNotebook\\data\\raw_data\\ERA5_DATA\\GB_ERA5_DATA' created successfully.\n"
     ]
    },
    {
     "name": "stderr",
     "output_type": "stream",
     "text": [
      "2023-08-26 19:29:40,727 INFO Request is running\n",
      "2023-08-26 19:30:29,306 INFO Request is completed\n",
      "2023-08-26 19:30:29,322 INFO Downloading https://download-0000-clone.copernicus-climate.eu/cache-compute-0000/cache/data9/adaptor.mars.internal-1693074617.0414212-1451-8-7b041903-a1c7-437c-bb9a-431a2482d6bc.nc to F:\\JuPyterNotebook\\data\\raw_data\\ERA5_DATA\\GB_ERA5_DATA\\era5_pressure_level_2018_08_850.nc (1.7M)\n",
      "2023-08-26 19:30:29,765 INFO Download rate 3.9M/s                                                                      \n",
      "2023-08-26 19:30:29,847 INFO Welcome to the CDS\n",
      "2023-08-26 19:30:29,847 INFO Sending request to https://cds.climate.copernicus.eu/api/v2/resources/reanalysis-era5-pressure-levels\n",
      "2023-08-26 19:30:29,921 INFO Request is queued\n"
     ]
    },
    {
     "name": "stdout",
     "output_type": "stream",
     "text": [
      "era5_pressure_level_2018_08_850.nc done!\n",
      "Download time: 50.309 s\n",
      "Folder 'F:\\JuPyterNotebook\\data\\raw_data\\ERA5_DATA\\GB_ERA5_DATA' created successfully.\n"
     ]
    },
    {
     "name": "stderr",
     "output_type": "stream",
     "text": [
      "2023-08-26 19:30:30,955 INFO Request is running\n",
      "2023-08-26 19:31:19,556 INFO Request is completed\n",
      "2023-08-26 19:31:19,572 INFO Downloading https://download-0020.copernicus-climate.eu/cache-compute-0020/cache/data2/adaptor.mars.internal-1693074670.994816-5267-9-5bc96a9e-a1a0-40c2-8e3f-994c55b8c9e6.nc to F:\\JuPyterNotebook\\data\\raw_data\\ERA5_DATA\\GB_ERA5_DATA\\era5_pressure_level_2018_09_850.nc (1.7M)\n",
      "2023-08-26 19:31:20,128 INFO Download rate 3M/s                                                                        \n",
      "2023-08-26 19:31:20,211 INFO Welcome to the CDS\n",
      "2023-08-26 19:31:20,211 INFO Sending request to https://cds.climate.copernicus.eu/api/v2/resources/reanalysis-era5-pressure-levels\n",
      "2023-08-26 19:31:20,314 INFO Request is queued\n"
     ]
    },
    {
     "name": "stdout",
     "output_type": "stream",
     "text": [
      "era5_pressure_level_2018_09_850.nc done!\n",
      "Download time: 50.347 s\n",
      "Folder 'F:\\JuPyterNotebook\\data\\raw_data\\ERA5_DATA\\GB_ERA5_DATA' created successfully.\n"
     ]
    },
    {
     "name": "stderr",
     "output_type": "stream",
     "text": [
      "2023-08-26 19:31:21,365 INFO Request is running\n",
      "2023-08-26 19:32:09,952 INFO Request is completed\n",
      "2023-08-26 19:32:09,968 INFO Downloading https://download-0011-clone.copernicus-climate.eu/cache-compute-0011/cache/data7/adaptor.mars.internal-1693074719.0744362-607-16-7b25d908-1d87-4ff6-ac64-17163a494f09.nc to F:\\JuPyterNotebook\\data\\raw_data\\ERA5_DATA\\GB_ERA5_DATA\\era5_pressure_level_2018_10_850.nc (1.7M)\n",
      "2023-08-26 19:32:10,427 INFO Download rate 3.8M/s                                                                      \n",
      "2023-08-26 19:32:10,533 INFO Welcome to the CDS\n",
      "2023-08-26 19:32:10,533 INFO Sending request to https://cds.climate.copernicus.eu/api/v2/resources/reanalysis-era5-pressure-levels\n",
      "2023-08-26 19:32:10,624 INFO Request is queued\n"
     ]
    },
    {
     "name": "stdout",
     "output_type": "stream",
     "text": [
      "era5_pressure_level_2018_10_850.nc done!\n",
      "Download time: 50.308 s\n",
      "Folder 'F:\\JuPyterNotebook\\data\\raw_data\\ERA5_DATA\\GB_ERA5_DATA' created successfully.\n"
     ]
    },
    {
     "name": "stderr",
     "output_type": "stream",
     "text": [
      "2023-08-26 19:32:11,682 INFO Request is running\n",
      "2023-08-26 19:33:00,224 INFO Request is completed\n",
      "2023-08-26 19:33:00,239 INFO Downloading https://download-0012-clone.copernicus-climate.eu/cache-compute-0012/cache/data6/adaptor.mars.internal-1693074770.4284983-10928-1-558ba06f-c01e-4168-a789-c271e4e7bfe8.nc to F:\\JuPyterNotebook\\data\\raw_data\\ERA5_DATA\\GB_ERA5_DATA\\era5_pressure_level_2018_11_850.nc (1.7M)\n",
      "2023-08-26 19:33:00,766 INFO Download rate 3.2M/s                                                                      \n",
      "2023-08-26 19:33:00,850 INFO Welcome to the CDS\n",
      "2023-08-26 19:33:00,850 INFO Sending request to https://cds.climate.copernicus.eu/api/v2/resources/reanalysis-era5-pressure-levels\n",
      "2023-08-26 19:33:00,908 INFO Request is queued\n"
     ]
    },
    {
     "name": "stdout",
     "output_type": "stream",
     "text": [
      "era5_pressure_level_2018_11_850.nc done!\n",
      "Download time: 50.316 s\n",
      "Folder 'F:\\JuPyterNotebook\\data\\raw_data\\ERA5_DATA\\GB_ERA5_DATA' created successfully.\n"
     ]
    },
    {
     "name": "stderr",
     "output_type": "stream",
     "text": [
      "2023-08-26 19:33:02,141 INFO Request is running\n",
      "2023-08-26 19:33:50,684 INFO Request is completed\n",
      "2023-08-26 19:33:50,684 INFO Downloading https://download-0008-clone.copernicus-climate.eu/cache-compute-0008/cache/data2/adaptor.mars.internal-1693074819.896181-8347-18-c5898b50-19f7-4177-8b40-3d6658f16d7e.nc to F:\\JuPyterNotebook\\data\\raw_data\\ERA5_DATA\\GB_ERA5_DATA\\era5_pressure_level_2018_12_850.nc (1.7M)\n",
      "2023-08-26 19:33:51,217 INFO Download rate 3.3M/s                                                                      \n",
      "2023-08-26 19:33:51,295 INFO Welcome to the CDS\n",
      "2023-08-26 19:33:51,295 INFO Sending request to https://cds.climate.copernicus.eu/api/v2/resources/reanalysis-era5-pressure-levels\n",
      "2023-08-26 19:33:51,395 INFO Request is queued\n"
     ]
    },
    {
     "name": "stdout",
     "output_type": "stream",
     "text": [
      "era5_pressure_level_2018_12_850.nc done!\n",
      "Download time: 50.461 s\n",
      "Folder 'F:\\JuPyterNotebook\\data\\raw_data\\ERA5_DATA\\GB_ERA5_DATA' created successfully.\n"
     ]
    },
    {
     "name": "stderr",
     "output_type": "stream",
     "text": [
      "2023-08-26 19:33:52,442 INFO Request is running\n",
      "2023-08-26 19:34:41,033 INFO Request is completed\n",
      "2023-08-26 19:34:41,033 INFO Downloading https://download-0009-clone.copernicus-climate.eu/cache-compute-0009/cache/data2/adaptor.mars.internal-1693074874.420969-25815-2-fee6c9d4-cb08-4d1d-a1de-821df79e3435.nc to F:\\JuPyterNotebook\\data\\raw_data\\ERA5_DATA\\GB_ERA5_DATA\\era5_pressure_level_2019_01_850.nc (1.7M)\n",
      "2023-08-26 19:34:41,528 INFO Download rate 3.5M/s                                                                      \n",
      "2023-08-26 19:34:41,629 INFO Welcome to the CDS\n",
      "2023-08-26 19:34:41,629 INFO Sending request to https://cds.climate.copernicus.eu/api/v2/resources/reanalysis-era5-pressure-levels\n",
      "2023-08-26 19:34:41,686 INFO Request is queued\n"
     ]
    },
    {
     "name": "stdout",
     "output_type": "stream",
     "text": [
      "era5_pressure_level_2019_01_850.nc done!\n",
      "Download time: 50.315 s\n",
      "Folder 'F:\\JuPyterNotebook\\data\\raw_data\\ERA5_DATA\\GB_ERA5_DATA' created successfully.\n"
     ]
    },
    {
     "name": "stderr",
     "output_type": "stream",
     "text": [
      "2023-08-26 19:34:42,728 INFO Request is running\n",
      "2023-08-26 19:35:31,303 INFO Request is completed\n",
      "2023-08-26 19:35:31,303 INFO Downloading https://download-0003-clone.copernicus-climate.eu/cache-compute-0003/cache/data3/adaptor.mars.internal-1693074919.8924105-12476-15-5db72a3a-3e40-42dc-8fab-6c955eb1bdd9.nc to F:\\JuPyterNotebook\\data\\raw_data\\ERA5_DATA\\GB_ERA5_DATA\\era5_pressure_level_2019_02_850.nc (1.6M)\n",
      "2023-08-26 19:35:31,834 INFO Download rate 3M/s                                                                        \n",
      "2023-08-26 19:35:31,919 INFO Welcome to the CDS\n",
      "2023-08-26 19:35:31,919 INFO Sending request to https://cds.climate.copernicus.eu/api/v2/resources/reanalysis-era5-pressure-levels\n",
      "2023-08-26 19:35:31,997 INFO Request is queued\n"
     ]
    },
    {
     "name": "stdout",
     "output_type": "stream",
     "text": [
      "era5_pressure_level_2019_02_850.nc done!\n",
      "Download time: 50.294 s\n",
      "Folder 'F:\\JuPyterNotebook\\data\\raw_data\\ERA5_DATA\\GB_ERA5_DATA' created successfully.\n"
     ]
    },
    {
     "name": "stderr",
     "output_type": "stream",
     "text": [
      "2023-08-26 19:35:33,043 INFO Request is running\n",
      "2023-08-26 19:36:21,621 INFO Request is completed\n",
      "2023-08-26 19:36:21,621 INFO Downloading https://download-0012-clone.copernicus-climate.eu/cache-compute-0012/cache/data2/adaptor.mars.internal-1693074975.25031-8460-12-2e490248-896c-438b-bec8-cb3f37f4b70b.nc to F:\\JuPyterNotebook\\data\\raw_data\\ERA5_DATA\\GB_ERA5_DATA\\era5_pressure_level_2019_03_850.nc (1.7M)\n",
      "2023-08-26 19:36:22,306 INFO Download rate 2.5M/s                                                                      \n",
      "2023-08-26 19:36:22,390 INFO Welcome to the CDS\n",
      "2023-08-26 19:36:22,406 INFO Sending request to https://cds.climate.copernicus.eu/api/v2/resources/reanalysis-era5-pressure-levels\n",
      "2023-08-26 19:36:22,504 INFO Request is queued\n"
     ]
    },
    {
     "name": "stdout",
     "output_type": "stream",
     "text": [
      "era5_pressure_level_2019_03_850.nc done!\n",
      "Download time: 50.471 s\n",
      "Folder 'F:\\JuPyterNotebook\\data\\raw_data\\ERA5_DATA\\GB_ERA5_DATA' created successfully.\n"
     ]
    },
    {
     "name": "stderr",
     "output_type": "stream",
     "text": [
      "2023-08-26 19:36:23,559 INFO Request is running\n",
      "2023-08-26 19:37:12,148 INFO Request is completed\n",
      "2023-08-26 19:37:12,148 INFO Downloading https://download-0001-clone.copernicus-climate.eu/cache-compute-0001/cache/data2/adaptor.mars.internal-1693075022.672656-8456-13-e79d2df8-d615-43fc-8cd1-b05677337e66.nc to F:\\JuPyterNotebook\\data\\raw_data\\ERA5_DATA\\GB_ERA5_DATA\\era5_pressure_level_2019_04_850.nc (1.7M)\n",
      "2023-08-26 19:37:12,706 INFO Download rate 3M/s                                                                        \n",
      "2023-08-26 19:37:12,791 INFO Welcome to the CDS\n",
      "2023-08-26 19:37:12,791 INFO Sending request to https://cds.climate.copernicus.eu/api/v2/resources/reanalysis-era5-pressure-levels\n",
      "2023-08-26 19:37:12,883 INFO Request is queued\n"
     ]
    },
    {
     "name": "stdout",
     "output_type": "stream",
     "text": [
      "era5_pressure_level_2019_04_850.nc done!\n",
      "Download time: 50.384 s\n",
      "Folder 'F:\\JuPyterNotebook\\data\\raw_data\\ERA5_DATA\\GB_ERA5_DATA' created successfully.\n"
     ]
    },
    {
     "name": "stderr",
     "output_type": "stream",
     "text": [
      "2023-08-26 19:37:13,916 INFO Request is running\n",
      "2023-08-26 19:38:02,557 INFO Request is completed\n",
      "2023-08-26 19:38:02,559 INFO Downloading https://download-0002-clone.copernicus-climate.eu/cache-compute-0002/cache/data5/adaptor.mars.internal-1693075072.8054879-22172-16-de986960-5f47-4fd1-9555-cdad91ba9ea2.nc to F:\\JuPyterNotebook\\data\\raw_data\\ERA5_DATA\\GB_ERA5_DATA\\era5_pressure_level_2019_05_850.nc (1.7M)\n",
      "2023-08-26 19:38:03,098 INFO Download rate 3.2M/s                                                                      \n",
      "2023-08-26 19:38:03,194 INFO Welcome to the CDS\n",
      "2023-08-26 19:38:03,194 INFO Sending request to https://cds.climate.copernicus.eu/api/v2/resources/reanalysis-era5-pressure-levels\n",
      "2023-08-26 19:38:03,271 INFO Request is queued\n"
     ]
    },
    {
     "name": "stdout",
     "output_type": "stream",
     "text": [
      "era5_pressure_level_2019_05_850.nc done!\n",
      "Download time: 50.399 s\n",
      "Folder 'F:\\JuPyterNotebook\\data\\raw_data\\ERA5_DATA\\GB_ERA5_DATA' created successfully.\n"
     ]
    },
    {
     "name": "stderr",
     "output_type": "stream",
     "text": [
      "2023-08-26 19:38:04,313 INFO Request is running\n",
      "2023-08-26 19:38:52,911 INFO Request is completed\n",
      "2023-08-26 19:38:52,911 INFO Downloading https://download-0006-clone.copernicus-climate.eu/cache-compute-0006/cache/data1/adaptor.mars.internal-1693075122.2513201-10256-11-d65462d4-024e-41cc-a19c-6bb1aa6176fb.nc to F:\\JuPyterNotebook\\data\\raw_data\\ERA5_DATA\\GB_ERA5_DATA\\era5_pressure_level_2019_06_850.nc (1.7M)\n",
      "2023-08-26 19:38:53,420 INFO Download rate 3.3M/s                                                                      \n",
      "2023-08-26 19:38:53,505 INFO Welcome to the CDS\n",
      "2023-08-26 19:38:53,505 INFO Sending request to https://cds.climate.copernicus.eu/api/v2/resources/reanalysis-era5-pressure-levels\n",
      "2023-08-26 19:38:53,602 INFO Request is queued\n"
     ]
    },
    {
     "name": "stdout",
     "output_type": "stream",
     "text": [
      "era5_pressure_level_2019_06_850.nc done!\n",
      "Download time: 50.299 s\n",
      "Folder 'F:\\JuPyterNotebook\\data\\raw_data\\ERA5_DATA\\GB_ERA5_DATA' created successfully.\n"
     ]
    },
    {
     "name": "stderr",
     "output_type": "stream",
     "text": [
      "2023-08-26 19:38:54,652 INFO Request is running\n",
      "2023-08-26 19:39:43,236 INFO Request is completed\n",
      "2023-08-26 19:39:43,253 INFO Downloading https://download-0010-clone.copernicus-climate.eu/cache-compute-0010/cache/data3/adaptor.mars.internal-1693075175.7733996-31722-17-30816077-8fc3-4b34-a4e3-1669886eab40.nc to F:\\JuPyterNotebook\\data\\raw_data\\ERA5_DATA\\GB_ERA5_DATA\\era5_pressure_level_2019_07_850.nc (1.7M)\n",
      "2023-08-26 19:39:43,761 INFO Download rate 3.4M/s                                                                      \n",
      "2023-08-26 19:39:43,855 INFO Welcome to the CDS\n",
      "2023-08-26 19:39:43,855 INFO Sending request to https://cds.climate.copernicus.eu/api/v2/resources/reanalysis-era5-pressure-levels\n",
      "2023-08-26 19:39:43,926 INFO Request is queued\n"
     ]
    },
    {
     "name": "stdout",
     "output_type": "stream",
     "text": [
      "era5_pressure_level_2019_07_850.nc done!\n",
      "Download time: 50.348 s\n",
      "Folder 'F:\\JuPyterNotebook\\data\\raw_data\\ERA5_DATA\\GB_ERA5_DATA' created successfully.\n"
     ]
    },
    {
     "name": "stderr",
     "output_type": "stream",
     "text": [
      "2023-08-26 19:39:44,979 INFO Request is running\n",
      "2023-08-26 19:40:33,530 INFO Request is completed\n",
      "2023-08-26 19:40:33,546 INFO Downloading https://download-0003-clone.copernicus-climate.eu/cache-compute-0003/cache/data6/adaptor.mars.internal-1693075224.236769-16835-17-9e871bd4-a61e-42fa-b1cf-8c38ca8db6ba.nc to F:\\JuPyterNotebook\\data\\raw_data\\ERA5_DATA\\GB_ERA5_DATA\\era5_pressure_level_2019_08_850.nc (1.7M)\n",
      "2023-08-26 19:40:34,077 INFO Download rate 3.3M/s                                                                      \n",
      "2023-08-26 19:40:34,161 INFO Welcome to the CDS\n",
      "2023-08-26 19:40:34,161 INFO Sending request to https://cds.climate.copernicus.eu/api/v2/resources/reanalysis-era5-pressure-levels\n",
      "2023-08-26 19:40:34,242 INFO Request is queued\n"
     ]
    },
    {
     "name": "stdout",
     "output_type": "stream",
     "text": [
      "era5_pressure_level_2019_08_850.nc done!\n",
      "Download time: 50.293 s\n",
      "Folder 'F:\\JuPyterNotebook\\data\\raw_data\\ERA5_DATA\\GB_ERA5_DATA' created successfully.\n"
     ]
    },
    {
     "name": "stderr",
     "output_type": "stream",
     "text": [
      "2023-08-26 19:40:35,295 INFO Request is running\n",
      "2023-08-26 19:41:24,002 INFO Request is completed\n",
      "2023-08-26 19:41:24,002 INFO Downloading https://download-0005-clone.copernicus-climate.eu/cache-compute-0005/cache/data3/adaptor.mars.internal-1693075273.3515203-16718-11-17f7ec12-dcd1-4efc-87e2-482b4f335dc6.nc to F:\\JuPyterNotebook\\data\\raw_data\\ERA5_DATA\\GB_ERA5_DATA\\era5_pressure_level_2019_09_850.nc (1.7M)\n",
      "2023-08-26 19:41:24,528 INFO Download rate 3.3M/s                                                                      \n",
      "2023-08-26 19:41:24,603 INFO Welcome to the CDS\n",
      "2023-08-26 19:41:24,618 INFO Sending request to https://cds.climate.copernicus.eu/api/v2/resources/reanalysis-era5-pressure-levels\n",
      "2023-08-26 19:41:24,677 INFO Request is queued\n"
     ]
    },
    {
     "name": "stdout",
     "output_type": "stream",
     "text": [
      "era5_pressure_level_2019_09_850.nc done!\n",
      "Download time: 50.457 s\n",
      "Folder 'F:\\JuPyterNotebook\\data\\raw_data\\ERA5_DATA\\GB_ERA5_DATA' created successfully.\n"
     ]
    },
    {
     "name": "stderr",
     "output_type": "stream",
     "text": [
      "2023-08-26 19:41:25,718 INFO Request is running\n",
      "2023-08-26 19:42:14,318 INFO Request is completed\n",
      "2023-08-26 19:42:14,318 INFO Downloading https://download-0004-clone.copernicus-climate.eu/cache-compute-0004/cache/data5/adaptor.mars.internal-1693075320.6075618-18784-17-4bdc51aa-d52e-4c3c-882a-c971278d25dc.nc to F:\\JuPyterNotebook\\data\\raw_data\\ERA5_DATA\\GB_ERA5_DATA\\era5_pressure_level_2019_10_850.nc (1.7M)\n",
      "2023-08-26 19:42:16,530 INFO Download rate 804.1K/s                                                                    \n",
      "2023-08-26 19:42:16,627 INFO Welcome to the CDS\n",
      "2023-08-26 19:42:16,627 INFO Sending request to https://cds.climate.copernicus.eu/api/v2/resources/reanalysis-era5-pressure-levels\n",
      "2023-08-26 19:42:16,774 INFO Request is queued\n"
     ]
    },
    {
     "name": "stdout",
     "output_type": "stream",
     "text": [
      "era5_pressure_level_2019_10_850.nc done!\n",
      "Download time: 52.021 s\n",
      "Folder 'F:\\JuPyterNotebook\\data\\raw_data\\ERA5_DATA\\GB_ERA5_DATA' created successfully.\n"
     ]
    },
    {
     "name": "stderr",
     "output_type": "stream",
     "text": [
      "2023-08-26 19:42:17,832 INFO Request is running\n",
      "2023-08-26 19:43:06,363 INFO Request is completed\n",
      "2023-08-26 19:43:06,378 INFO Downloading https://download-0016.copernicus-climate.eu/cache-compute-0016/cache/data0/adaptor.mars.internal-1693075373.7675064-22253-4-13b88e2f-ee3d-4a00-9b52-bdc7d203cc7d.nc to F:\\JuPyterNotebook\\data\\raw_data\\ERA5_DATA\\GB_ERA5_DATA\\era5_pressure_level_2019_11_850.nc (1.7M)\n",
      "2023-08-26 19:43:07,104 INFO Download rate 2.3M/s                                                                      \n",
      "2023-08-26 19:43:07,192 INFO Welcome to the CDS\n",
      "2023-08-26 19:43:07,192 INFO Sending request to https://cds.climate.copernicus.eu/api/v2/resources/reanalysis-era5-pressure-levels\n",
      "2023-08-26 19:43:07,266 INFO Request is queued\n"
     ]
    },
    {
     "name": "stdout",
     "output_type": "stream",
     "text": [
      "era5_pressure_level_2019_11_850.nc done!\n",
      "Download time: 50.553 s\n",
      "Folder 'F:\\JuPyterNotebook\\data\\raw_data\\ERA5_DATA\\GB_ERA5_DATA' created successfully.\n"
     ]
    },
    {
     "name": "stderr",
     "output_type": "stream",
     "text": [
      "2023-08-26 19:43:08,313 INFO Request is running\n",
      "2023-08-26 19:43:56,888 INFO Request is completed\n",
      "2023-08-26 19:43:56,888 INFO Downloading https://download-0014-clone.copernicus-climate.eu/cache-compute-0014/cache/data0/adaptor.mars.internal-1693075424.9830005-32245-7-010ac53d-208b-4c1a-9945-2cb337108df3.nc to F:\\JuPyterNotebook\\data\\raw_data\\ERA5_DATA\\GB_ERA5_DATA\\era5_pressure_level_2019_12_850.nc (1.7M)\n",
      "2023-08-26 19:43:57,488 INFO Download rate 2.9M/s                                                                      \n",
      "2023-08-26 19:43:57,576 INFO Welcome to the CDS\n",
      "2023-08-26 19:43:57,576 INFO Sending request to https://cds.climate.copernicus.eu/api/v2/resources/reanalysis-era5-pressure-levels\n",
      "2023-08-26 19:43:57,641 INFO Request is queued\n"
     ]
    },
    {
     "name": "stdout",
     "output_type": "stream",
     "text": [
      "era5_pressure_level_2019_12_850.nc done!\n",
      "Download time: 50.367 s\n",
      "Folder 'F:\\JuPyterNotebook\\data\\raw_data\\ERA5_DATA\\GB_ERA5_DATA' created successfully.\n"
     ]
    },
    {
     "name": "stderr",
     "output_type": "stream",
     "text": [
      "2023-08-26 19:43:58,706 INFO Request is running\n",
      "2023-08-26 19:44:47,288 INFO Request is completed\n",
      "2023-08-26 19:44:47,288 INFO Downloading https://download-0009-clone.copernicus-climate.eu/cache-compute-0009/cache/data2/adaptor.mars.internal-1693075475.2051666-1017-2-8153f276-718e-4038-91f1-04f68cd232ba.nc to F:\\JuPyterNotebook\\data\\raw_data\\ERA5_DATA\\GB_ERA5_DATA\\era5_pressure_level_2020_01_850.nc (1.7M)\n",
      "2023-08-26 19:44:47,942 INFO Download rate 2.7M/s                                                                      \n",
      "2023-08-26 19:44:48,054 INFO Welcome to the CDS\n",
      "2023-08-26 19:44:48,054 INFO Sending request to https://cds.climate.copernicus.eu/api/v2/resources/reanalysis-era5-pressure-levels\n",
      "2023-08-26 19:44:48,096 INFO Request is queued\n"
     ]
    },
    {
     "name": "stdout",
     "output_type": "stream",
     "text": [
      "era5_pressure_level_2020_01_850.nc done!\n",
      "Download time: 50.479 s\n",
      "Folder 'F:\\JuPyterNotebook\\data\\raw_data\\ERA5_DATA\\GB_ERA5_DATA' created successfully.\n"
     ]
    },
    {
     "name": "stderr",
     "output_type": "stream",
     "text": [
      "2023-08-26 19:44:49,150 INFO Request is running\n",
      "2023-08-26 19:45:37,698 INFO Request is completed\n",
      "2023-08-26 19:45:37,713 INFO Downloading https://download-0004-clone.copernicus-climate.eu/cache-compute-0004/cache/data5/adaptor.mars.internal-1693075525.812676-5836-17-fb12e3d8-d937-454b-8a8a-b34cfd0c1d49.nc to F:\\JuPyterNotebook\\data\\raw_data\\ERA5_DATA\\GB_ERA5_DATA\\era5_pressure_level_2020_02_850.nc (1.6M)\n",
      "2023-08-26 19:45:38,178 INFO Download rate 3.5M/s                                                                      \n",
      "2023-08-26 19:45:38,279 INFO Welcome to the CDS\n",
      "2023-08-26 19:45:38,279 INFO Sending request to https://cds.climate.copernicus.eu/api/v2/resources/reanalysis-era5-pressure-levels\n",
      "2023-08-26 19:45:38,345 INFO Request is queued\n"
     ]
    },
    {
     "name": "stdout",
     "output_type": "stream",
     "text": [
      "era5_pressure_level_2020_02_850.nc done!\n",
      "Download time: 50.223 s\n",
      "Folder 'F:\\JuPyterNotebook\\data\\raw_data\\ERA5_DATA\\GB_ERA5_DATA' created successfully.\n"
     ]
    },
    {
     "name": "stderr",
     "output_type": "stream",
     "text": [
      "2023-08-26 19:45:39,391 INFO Request is running\n",
      "2023-08-26 19:46:27,956 INFO Request is completed\n",
      "2023-08-26 19:46:27,956 INFO Downloading https://download-0017.copernicus-climate.eu/cache-compute-0017/cache/data7/adaptor.mars.internal-1693075575.7127776-24524-3-660bcb0a-d03b-4c7e-9c30-054360870722.nc to F:\\JuPyterNotebook\\data\\raw_data\\ERA5_DATA\\GB_ERA5_DATA\\era5_pressure_level_2020_03_850.nc (1.7M)\n",
      "2023-08-26 19:46:28,478 INFO Download rate 3.3M/s                                                                      \n",
      "2023-08-26 19:46:28,555 INFO Welcome to the CDS\n",
      "2023-08-26 19:46:28,555 INFO Sending request to https://cds.climate.copernicus.eu/api/v2/resources/reanalysis-era5-pressure-levels\n",
      "2023-08-26 19:46:28,664 INFO Request is queued\n"
     ]
    },
    {
     "name": "stdout",
     "output_type": "stream",
     "text": [
      "era5_pressure_level_2020_03_850.nc done!\n",
      "Download time: 50.293 s\n",
      "Folder 'F:\\JuPyterNotebook\\data\\raw_data\\ERA5_DATA\\GB_ERA5_DATA' created successfully.\n"
     ]
    },
    {
     "name": "stderr",
     "output_type": "stream",
     "text": [
      "2023-08-26 19:46:29,716 INFO Request is running\n",
      "2023-08-26 19:47:18,286 INFO Request is completed\n",
      "2023-08-26 19:47:18,286 INFO Downloading https://download-0016.copernicus-climate.eu/cache-compute-0016/cache/data3/adaptor.mars.internal-1693075624.5538-22215-10-a8d54ff0-12f2-477a-95c5-931cdd20f3eb.nc to F:\\JuPyterNotebook\\data\\raw_data\\ERA5_DATA\\GB_ERA5_DATA\\era5_pressure_level_2020_04_850.nc (1.7M)\n",
      "2023-08-26 19:47:18,744 INFO Download rate 3.7M/s                                                                      \n",
      "2023-08-26 19:47:18,842 INFO Welcome to the CDS\n",
      "2023-08-26 19:47:18,842 INFO Sending request to https://cds.climate.copernicus.eu/api/v2/resources/reanalysis-era5-pressure-levels\n",
      "2023-08-26 19:47:18,915 INFO Request is queued\n"
     ]
    },
    {
     "name": "stdout",
     "output_type": "stream",
     "text": [
      "era5_pressure_level_2020_04_850.nc done!\n",
      "Download time: 50.272 s\n",
      "Folder 'F:\\JuPyterNotebook\\data\\raw_data\\ERA5_DATA\\GB_ERA5_DATA' created successfully.\n"
     ]
    },
    {
     "name": "stderr",
     "output_type": "stream",
     "text": [
      "2023-08-26 19:47:19,953 INFO Request is running\n",
      "2023-08-26 19:48:08,527 INFO Request is completed\n",
      "2023-08-26 19:48:08,527 INFO Downloading https://download-0015-clone.copernicus-climate.eu/cache-compute-0015/cache/data9/adaptor.mars.internal-1693075676.9024174-26329-12-7946b2d4-9c35-4996-bdc4-0e6cf6f6ce5e.nc to F:\\JuPyterNotebook\\data\\raw_data\\ERA5_DATA\\GB_ERA5_DATA\\era5_pressure_level_2020_05_850.nc (1.7M)\n",
      "2023-08-26 19:48:09,062 INFO Download rate 3.2M/s                                                                      \n",
      "2023-08-26 19:48:09,147 INFO Welcome to the CDS\n",
      "2023-08-26 19:48:09,147 INFO Sending request to https://cds.climate.copernicus.eu/api/v2/resources/reanalysis-era5-pressure-levels\n",
      "2023-08-26 19:48:09,196 INFO Request is queued\n"
     ]
    },
    {
     "name": "stdout",
     "output_type": "stream",
     "text": [
      "era5_pressure_level_2020_05_850.nc done!\n",
      "Download time: 50.304 s\n",
      "Folder 'F:\\JuPyterNotebook\\data\\raw_data\\ERA5_DATA\\GB_ERA5_DATA' created successfully.\n"
     ]
    },
    {
     "name": "stderr",
     "output_type": "stream",
     "text": [
      "2023-08-26 19:48:10,231 INFO Request is running\n",
      "2023-08-26 19:48:30,347 INFO Request is completed\n",
      "2023-08-26 19:48:30,347 INFO Downloading https://download-0019.copernicus-climate.eu/cache-compute-0019/cache/data4/adaptor.mars.internal-1693075702.5707653-22844-16-7e4619cf-2379-4a62-8ad8-e59de0b7100f.nc to F:\\JuPyterNotebook\\data\\raw_data\\ERA5_DATA\\GB_ERA5_DATA\\era5_pressure_level_2020_06_850.nc (1.7M)\n",
      "2023-08-26 19:48:30,850 INFO Download rate 3.3M/s                                                                      \n",
      "2023-08-26 19:48:30,921 INFO Welcome to the CDS\n",
      "2023-08-26 19:48:30,921 INFO Sending request to https://cds.climate.copernicus.eu/api/v2/resources/reanalysis-era5-pressure-levels\n",
      "2023-08-26 19:48:30,994 INFO Request is queued\n"
     ]
    },
    {
     "name": "stdout",
     "output_type": "stream",
     "text": [
      "era5_pressure_level_2020_06_850.nc done!\n",
      "Download time: 21.774 s\n",
      "Folder 'F:\\JuPyterNotebook\\data\\raw_data\\ERA5_DATA\\GB_ERA5_DATA' created successfully.\n"
     ]
    },
    {
     "name": "stderr",
     "output_type": "stream",
     "text": [
      "2023-08-26 19:48:32,039 INFO Request is running\n",
      "2023-08-26 19:49:20,580 INFO Request is completed\n",
      "2023-08-26 19:49:20,580 INFO Downloading https://download-0005-clone.copernicus-climate.eu/cache-compute-0005/cache/data0/adaptor.mars.internal-1693075751.0821254-29979-4-e02e5e3c-3811-481d-bbce-0684293c45fc.nc to F:\\JuPyterNotebook\\data\\raw_data\\ERA5_DATA\\GB_ERA5_DATA\\era5_pressure_level_2020_07_850.nc (1.7M)\n",
      "2023-08-26 19:49:21,136 INFO Download rate 3.1M/s                                                                      \n",
      "2023-08-26 19:49:21,208 INFO Welcome to the CDS\n",
      "2023-08-26 19:49:21,208 INFO Sending request to https://cds.climate.copernicus.eu/api/v2/resources/reanalysis-era5-pressure-levels\n",
      "2023-08-26 19:49:21,280 INFO Request is queued\n"
     ]
    },
    {
     "name": "stdout",
     "output_type": "stream",
     "text": [
      "era5_pressure_level_2020_07_850.nc done!\n",
      "Download time: 50.287 s\n",
      "Folder 'F:\\JuPyterNotebook\\data\\raw_data\\ERA5_DATA\\GB_ERA5_DATA' created successfully.\n"
     ]
    },
    {
     "name": "stderr",
     "output_type": "stream",
     "text": [
      "2023-08-26 19:49:22,322 INFO Request is running\n",
      "2023-08-26 19:50:10,859 INFO Request is completed\n",
      "2023-08-26 19:50:10,859 INFO Downloading https://download-0014-clone.copernicus-climate.eu/cache-compute-0014/cache/data6/adaptor.mars.internal-1693075797.8894389-8939-15-30491f14-2aa4-4772-a59e-baf021011b1b.nc to F:\\JuPyterNotebook\\data\\raw_data\\ERA5_DATA\\GB_ERA5_DATA\\era5_pressure_level_2020_08_850.nc (1.7M)\n",
      "2023-08-26 19:50:11,330 INFO Download rate 3.7M/s                                                                      \n",
      "2023-08-26 19:50:11,408 INFO Welcome to the CDS\n",
      "2023-08-26 19:50:11,408 INFO Sending request to https://cds.climate.copernicus.eu/api/v2/resources/reanalysis-era5-pressure-levels\n",
      "2023-08-26 19:50:11,455 INFO Request is queued\n"
     ]
    },
    {
     "name": "stdout",
     "output_type": "stream",
     "text": [
      "era5_pressure_level_2020_08_850.nc done!\n",
      "Download time: 50.201 s\n",
      "Folder 'F:\\JuPyterNotebook\\data\\raw_data\\ERA5_DATA\\GB_ERA5_DATA' created successfully.\n"
     ]
    },
    {
     "name": "stderr",
     "output_type": "stream",
     "text": [
      "2023-08-26 19:50:12,492 INFO Request is running\n",
      "2023-08-26 19:51:01,063 INFO Request is completed\n",
      "2023-08-26 19:51:01,063 INFO Downloading https://download-0008-clone.copernicus-climate.eu/cache-compute-0008/cache/data5/adaptor.mars.internal-1693075845.9968333-18501-13-c026f32e-5704-47e2-a28c-6bf3e3cb1689.nc to F:\\JuPyterNotebook\\data\\raw_data\\ERA5_DATA\\GB_ERA5_DATA\\era5_pressure_level_2020_09_850.nc (1.7M)\n",
      "2023-08-26 19:51:01,588 INFO Download rate 3.2M/s                                                                      \n",
      "2023-08-26 19:51:01,654 INFO Welcome to the CDS\n",
      "2023-08-26 19:51:01,654 INFO Sending request to https://cds.climate.copernicus.eu/api/v2/resources/reanalysis-era5-pressure-levels\n",
      "2023-08-26 19:51:01,711 INFO Request is queued\n"
     ]
    },
    {
     "name": "stdout",
     "output_type": "stream",
     "text": [
      "era5_pressure_level_2020_09_850.nc done!\n",
      "Download time: 50.246 s\n",
      "Folder 'F:\\JuPyterNotebook\\data\\raw_data\\ERA5_DATA\\GB_ERA5_DATA' created successfully.\n"
     ]
    },
    {
     "name": "stderr",
     "output_type": "stream",
     "text": [
      "2023-08-26 19:51:02,772 INFO Request is running\n",
      "2023-08-26 19:51:51,359 INFO Request is completed\n",
      "2023-08-26 19:51:51,359 INFO Downloading https://download-0021.copernicus-climate.eu/cache-compute-0021/cache/data8/adaptor.mars.internal-1693075901.484164-12821-5-d35fe92e-4ded-4b7d-9d81-f19092dd7126.nc to F:\\JuPyterNotebook\\data\\raw_data\\ERA5_DATA\\GB_ERA5_DATA\\era5_pressure_level_2020_10_850.nc (1.7M)\n",
      "2023-08-26 19:51:51,932 INFO Download rate 3M/s                                                                        \n",
      "2023-08-26 19:51:52,039 INFO Welcome to the CDS\n",
      "2023-08-26 19:51:52,039 INFO Sending request to https://cds.climate.copernicus.eu/api/v2/resources/reanalysis-era5-pressure-levels\n"
     ]
    },
    {
     "name": "stdout",
     "output_type": "stream",
     "text": [
      "era5_pressure_level_2020_10_850.nc done!\n",
      "Download time: 50.352 s\n",
      "Folder 'F:\\JuPyterNotebook\\data\\raw_data\\ERA5_DATA\\GB_ERA5_DATA' created successfully.\n"
     ]
    },
    {
     "name": "stderr",
     "output_type": "stream",
     "text": [
      "2023-08-26 19:51:52,197 INFO Request is queued\n",
      "2023-08-26 19:51:53,242 INFO Request is running\n",
      "2023-08-26 19:52:41,781 INFO Request is completed\n",
      "2023-08-26 19:52:41,781 INFO Downloading https://download-0021.copernicus-climate.eu/cache-compute-0021/cache/data8/adaptor.mars.internal-1693075947.2466671-11667-10-e229f76c-f7bc-477c-9c0c-6438b35f4872.nc to F:\\JuPyterNotebook\\data\\raw_data\\ERA5_DATA\\GB_ERA5_DATA\\era5_pressure_level_2020_11_850.nc (1.7M)\n",
      "2023-08-26 19:52:42,142 INFO Download rate 4.7M/s                                                                      \n",
      "2023-08-26 19:52:42,217 INFO Welcome to the CDS\n",
      "2023-08-26 19:52:42,217 INFO Sending request to https://cds.climate.copernicus.eu/api/v2/resources/reanalysis-era5-pressure-levels\n"
     ]
    },
    {
     "name": "stdout",
     "output_type": "stream",
     "text": [
      "era5_pressure_level_2020_11_850.nc done!\n",
      "Download time: 50.194 s\n",
      "Folder 'F:\\JuPyterNotebook\\data\\raw_data\\ERA5_DATA\\GB_ERA5_DATA' created successfully.\n"
     ]
    },
    {
     "name": "stderr",
     "output_type": "stream",
     "text": [
      "2023-08-26 19:52:42,432 INFO Request is queued\n",
      "2023-08-26 19:52:43,468 INFO Request is running\n",
      "2023-08-26 19:53:32,003 INFO Request is completed\n",
      "2023-08-26 19:53:32,003 INFO Downloading https://download-0011-clone.copernicus-climate.eu/cache-compute-0011/cache/data2/adaptor.mars.internal-1693075997.8506184-12020-18-24de8c73-651b-4983-abe9-16357787b1ba.nc to F:\\JuPyterNotebook\\data\\raw_data\\ERA5_DATA\\GB_ERA5_DATA\\era5_pressure_level_2020_12_850.nc (1.7M)\n",
      "2023-08-26 19:53:32,537 INFO Download rate 3.2M/s                                                                      \n",
      "2023-08-26 19:53:32,607 INFO Welcome to the CDS\n",
      "2023-08-26 19:53:32,607 INFO Sending request to https://cds.climate.copernicus.eu/api/v2/resources/reanalysis-era5-pressure-levels\n",
      "2023-08-26 19:53:32,658 INFO Request is queued\n"
     ]
    },
    {
     "name": "stdout",
     "output_type": "stream",
     "text": [
      "era5_pressure_level_2020_12_850.nc done!\n",
      "Download time: 50.391 s\n",
      "Folder 'F:\\JuPyterNotebook\\data\\raw_data\\ERA5_DATA\\GB_ERA5_DATA' created successfully.\n"
     ]
    },
    {
     "name": "stderr",
     "output_type": "stream",
     "text": [
      "2023-08-26 19:53:33,703 INFO Request is running\n",
      "2023-08-26 19:54:05,109 INFO Request is completed\n",
      "2023-08-26 19:54:05,109 INFO Downloading https://download-0009-clone.copernicus-climate.eu/cache-compute-0009/cache/data1/adaptor.mars.internal-1693076041.7482483-31437-18-7c9b052a-9aa5-4448-bc3e-d4bc0f86db98.nc to F:\\JuPyterNotebook\\data\\raw_data\\ERA5_DATA\\GB_ERA5_DATA\\era5_pressure_level_2021_01_850.nc (1.7M)\n",
      "2023-08-26 19:54:05,663 INFO Download rate 3.2M/s                                                                      \n",
      "2023-08-26 19:54:05,727 INFO Welcome to the CDS\n",
      "2023-08-26 19:54:05,742 INFO Sending request to https://cds.climate.copernicus.eu/api/v2/resources/reanalysis-era5-pressure-levels\n",
      "2023-08-26 19:54:05,802 INFO Request is queued\n"
     ]
    },
    {
     "name": "stdout",
     "output_type": "stream",
     "text": [
      "era5_pressure_level_2021_01_850.nc done!\n",
      "Download time: 33.119 s\n",
      "Folder 'F:\\JuPyterNotebook\\data\\raw_data\\ERA5_DATA\\GB_ERA5_DATA' created successfully.\n"
     ]
    },
    {
     "name": "stderr",
     "output_type": "stream",
     "text": [
      "2023-08-26 19:54:06,840 INFO Request is running\n",
      "2023-08-26 19:54:38,267 INFO Request is completed\n",
      "2023-08-26 19:54:38,267 INFO Downloading https://download-0002-clone.copernicus-climate.eu/cache-compute-0002/cache/data5/adaptor.mars.internal-1693076071.7595465-31418-19-633257cc-91f0-4d7e-bc4d-3976cdc4c6d0.nc to F:\\JuPyterNotebook\\data\\raw_data\\ERA5_DATA\\GB_ERA5_DATA\\era5_pressure_level_2021_02_850.nc (1.6M)\n",
      "2023-08-26 19:54:38,790 INFO Download rate 3M/s                                                                        \n",
      "2023-08-26 19:54:38,852 INFO Welcome to the CDS\n",
      "2023-08-26 19:54:38,852 INFO Sending request to https://cds.climate.copernicus.eu/api/v2/resources/reanalysis-era5-pressure-levels\n",
      "2023-08-26 19:54:38,928 INFO Request is queued\n"
     ]
    },
    {
     "name": "stdout",
     "output_type": "stream",
     "text": [
      "era5_pressure_level_2021_02_850.nc done!\n",
      "Download time: 33.126 s\n",
      "Folder 'F:\\JuPyterNotebook\\data\\raw_data\\ERA5_DATA\\GB_ERA5_DATA' created successfully.\n"
     ]
    },
    {
     "name": "stderr",
     "output_type": "stream",
     "text": [
      "2023-08-26 19:54:39,965 INFO Request is running\n",
      "2023-08-26 19:55:28,668 INFO Request is completed\n",
      "2023-08-26 19:55:28,683 INFO Downloading https://download-0009-clone.copernicus-climate.eu/cache-compute-0009/cache/data6/adaptor.mars.internal-1693076112.5347724-4078-1-ab19da41-91c8-4b4d-a3bb-20cfd23c18bb.nc to F:\\JuPyterNotebook\\data\\raw_data\\ERA5_DATA\\GB_ERA5_DATA\\era5_pressure_level_2021_03_850.nc (1.7M)\n",
      "2023-08-26 19:55:29,150 INFO Download rate 3.7M/s                                                                      \n",
      "2023-08-26 19:55:29,234 INFO Welcome to the CDS\n",
      "2023-08-26 19:55:29,234 INFO Sending request to https://cds.climate.copernicus.eu/api/v2/resources/reanalysis-era5-pressure-levels\n",
      "2023-08-26 19:55:29,323 INFO Request is queued\n"
     ]
    },
    {
     "name": "stdout",
     "output_type": "stream",
     "text": [
      "era5_pressure_level_2021_03_850.nc done!\n",
      "Download time: 50.382 s\n",
      "Folder 'F:\\JuPyterNotebook\\data\\raw_data\\ERA5_DATA\\GB_ERA5_DATA' created successfully.\n"
     ]
    },
    {
     "name": "stderr",
     "output_type": "stream",
     "text": [
      "2023-08-26 19:55:30,387 INFO Request is running\n",
      "2023-08-26 19:56:18,933 INFO Request is completed\n",
      "2023-08-26 19:56:18,933 INFO Downloading https://download-0006-clone.copernicus-climate.eu/cache-compute-0006/cache/data0/adaptor.mars.internal-1693076165.5924485-21317-6-8b120a22-37f8-44a6-9207-05dedbf1f68a.nc to F:\\JuPyterNotebook\\data\\raw_data\\ERA5_DATA\\GB_ERA5_DATA\\era5_pressure_level_2021_04_850.nc (1.7M)\n",
      "2023-08-26 19:56:19,384 INFO Download rate 3.9M/s                                                                      \n",
      "2023-08-26 19:56:19,475 INFO Welcome to the CDS\n",
      "2023-08-26 19:56:19,475 INFO Sending request to https://cds.climate.copernicus.eu/api/v2/resources/reanalysis-era5-pressure-levels\n"
     ]
    },
    {
     "name": "stdout",
     "output_type": "stream",
     "text": [
      "era5_pressure_level_2021_04_850.nc done!\n",
      "Download time: 50.224 s\n",
      "Folder 'F:\\JuPyterNotebook\\data\\raw_data\\ERA5_DATA\\GB_ERA5_DATA' created successfully.\n"
     ]
    },
    {
     "name": "stderr",
     "output_type": "stream",
     "text": [
      "2023-08-26 19:56:19,601 INFO Request is queued\n",
      "2023-08-26 19:56:20,641 INFO Request is running\n",
      "2023-08-26 19:57:09,171 INFO Request is completed\n",
      "2023-08-26 19:57:09,171 INFO Downloading https://download-0005-clone.copernicus-climate.eu/cache-compute-0005/cache/data6/adaptor.mars.internal-1693076215.4379988-31197-3-4d727e45-56a8-4a2d-9bba-5508729bc441.nc to F:\\JuPyterNotebook\\data\\raw_data\\ERA5_DATA\\GB_ERA5_DATA\\era5_pressure_level_2021_05_850.nc (1.7M)\n",
      "2023-08-26 19:57:09,676 INFO Download rate 3.4M/s                                                                      \n",
      "2023-08-26 19:57:09,768 INFO Welcome to the CDS\n",
      "2023-08-26 19:57:09,768 INFO Sending request to https://cds.climate.copernicus.eu/api/v2/resources/reanalysis-era5-pressure-levels\n",
      "2023-08-26 19:57:09,846 INFO Request is queued\n"
     ]
    },
    {
     "name": "stdout",
     "output_type": "stream",
     "text": [
      "era5_pressure_level_2021_05_850.nc done!\n",
      "Download time: 50.292 s\n",
      "Folder 'F:\\JuPyterNotebook\\data\\raw_data\\ERA5_DATA\\GB_ERA5_DATA' created successfully.\n"
     ]
    },
    {
     "name": "stderr",
     "output_type": "stream",
     "text": [
      "2023-08-26 19:57:10,884 INFO Request is running\n",
      "2023-08-26 19:57:59,422 INFO Request is completed\n",
      "2023-08-26 19:57:59,422 INFO Downloading https://download-0012-clone.copernicus-climate.eu/cache-compute-0012/cache/data6/adaptor.mars.internal-1693076265.6436188-18810-17-487a8e8d-e89c-45d1-928c-a6b1b9d8026e.nc to F:\\JuPyterNotebook\\data\\raw_data\\ERA5_DATA\\GB_ERA5_DATA\\era5_pressure_level_2021_06_850.nc (1.7M)\n",
      "2023-08-26 19:57:59,909 INFO Download rate 3.5M/s                                                                      \n",
      "2023-08-26 19:57:59,981 INFO Welcome to the CDS\n",
      "2023-08-26 19:57:59,981 INFO Sending request to https://cds.climate.copernicus.eu/api/v2/resources/reanalysis-era5-pressure-levels\n",
      "2023-08-26 19:58:00,085 INFO Request is queued\n"
     ]
    },
    {
     "name": "stdout",
     "output_type": "stream",
     "text": [
      "era5_pressure_level_2021_06_850.nc done!\n",
      "Download time: 50.230 s\n",
      "Folder 'F:\\JuPyterNotebook\\data\\raw_data\\ERA5_DATA\\GB_ERA5_DATA' created successfully.\n"
     ]
    },
    {
     "name": "stderr",
     "output_type": "stream",
     "text": [
      "2023-08-26 19:58:01,125 INFO Request is running\n",
      "2023-08-26 19:58:49,660 INFO Request is completed\n",
      "2023-08-26 19:58:49,660 INFO Downloading https://download-0013-clone.copernicus-climate.eu/cache-compute-0013/cache/data5/adaptor.mars.internal-1693076315.5723124-2369-4-a2026a3b-a081-46f3-8519-ad5ba03c06a4.nc to F:\\JuPyterNotebook\\data\\raw_data\\ERA5_DATA\\GB_ERA5_DATA\\era5_pressure_level_2021_07_850.nc (1.7M)\n",
      "2023-08-26 19:58:50,141 INFO Download rate 3.7M/s                                                                      \n",
      "2023-08-26 19:58:50,243 INFO Welcome to the CDS\n",
      "2023-08-26 19:58:50,259 INFO Sending request to https://cds.climate.copernicus.eu/api/v2/resources/reanalysis-era5-pressure-levels\n",
      "2023-08-26 19:58:50,367 INFO Request is queued\n"
     ]
    },
    {
     "name": "stdout",
     "output_type": "stream",
     "text": [
      "era5_pressure_level_2021_07_850.nc done!\n",
      "Download time: 50.259 s\n",
      "Folder 'F:\\JuPyterNotebook\\data\\raw_data\\ERA5_DATA\\GB_ERA5_DATA' created successfully.\n"
     ]
    },
    {
     "name": "stderr",
     "output_type": "stream",
     "text": [
      "2023-08-26 19:58:51,405 INFO Request is running\n",
      "2023-08-26 19:59:39,940 INFO Request is completed\n",
      "2023-08-26 19:59:39,940 INFO Downloading https://download-0018.copernicus-climate.eu/cache-compute-0018/cache/data5/adaptor.mars.internal-1693076368.3355007-5585-4-78fdf878-88be-4678-a2b9-068ba0ad59c7.nc to F:\\JuPyterNotebook\\data\\raw_data\\ERA5_DATA\\GB_ERA5_DATA\\era5_pressure_level_2021_08_850.nc (1.7M)\n",
      "2023-08-26 19:59:40,445 INFO Download rate 3.4M/s                                                                      \n",
      "2023-08-26 19:59:40,533 INFO Welcome to the CDS\n",
      "2023-08-26 19:59:40,533 INFO Sending request to https://cds.climate.copernicus.eu/api/v2/resources/reanalysis-era5-pressure-levels\n",
      "2023-08-26 19:59:40,642 INFO Request is queued\n"
     ]
    },
    {
     "name": "stdout",
     "output_type": "stream",
     "text": [
      "era5_pressure_level_2021_08_850.nc done!\n",
      "Download time: 50.278 s\n",
      "Folder 'F:\\JuPyterNotebook\\data\\raw_data\\ERA5_DATA\\GB_ERA5_DATA' created successfully.\n"
     ]
    },
    {
     "name": "stderr",
     "output_type": "stream",
     "text": [
      "2023-08-26 19:59:41,699 INFO Request is running\n",
      "2023-08-26 20:00:30,241 INFO Request is completed\n",
      "2023-08-26 20:00:30,256 INFO Downloading https://download-0006-clone.copernicus-climate.eu/cache-compute-0006/cache/data5/adaptor.mars.internal-1693076417.3942137-23362-3-4831d5b5-841c-423c-8a74-f0473f314034.nc to F:\\JuPyterNotebook\\data\\raw_data\\ERA5_DATA\\GB_ERA5_DATA\\era5_pressure_level_2021_09_850.nc (1.7M)\n",
      "2023-08-26 20:00:32,352 INFO Download rate 821.9K/s                                                                    \n",
      "2023-08-26 20:00:32,429 INFO Welcome to the CDS\n",
      "2023-08-26 20:00:32,429 INFO Sending request to https://cds.climate.copernicus.eu/api/v2/resources/reanalysis-era5-pressure-levels\n",
      "2023-08-26 20:00:32,513 INFO Request is queued\n"
     ]
    },
    {
     "name": "stdout",
     "output_type": "stream",
     "text": [
      "era5_pressure_level_2021_09_850.nc done!\n",
      "Download time: 51.896 s\n",
      "Folder 'F:\\JuPyterNotebook\\data\\raw_data\\ERA5_DATA\\GB_ERA5_DATA' created successfully.\n"
     ]
    },
    {
     "name": "stderr",
     "output_type": "stream",
     "text": [
      "2023-08-26 20:00:33,559 INFO Request is running\n",
      "2023-08-26 20:01:04,979 INFO Request is completed\n",
      "2023-08-26 20:01:04,979 INFO Downloading https://download-0015-clone.copernicus-climate.eu/cache-compute-0015/cache/data9/adaptor.mars.internal-1693076460.8154907-19469-12-48a69f7b-d521-4283-873e-55eedd187a12.nc to F:\\JuPyterNotebook\\data\\raw_data\\ERA5_DATA\\GB_ERA5_DATA\\era5_pressure_level_2021_10_850.nc (1.7M)\n",
      "2023-08-26 20:01:05,486 INFO Download rate 3.5M/s                                                                      \n",
      "2023-08-26 20:01:05,579 INFO Welcome to the CDS\n",
      "2023-08-26 20:01:05,579 INFO Sending request to https://cds.climate.copernicus.eu/api/v2/resources/reanalysis-era5-pressure-levels\n",
      "2023-08-26 20:01:05,646 INFO Request is queued\n"
     ]
    },
    {
     "name": "stdout",
     "output_type": "stream",
     "text": [
      "era5_pressure_level_2021_10_850.nc done!\n",
      "Download time: 33.149 s\n",
      "Folder 'F:\\JuPyterNotebook\\data\\raw_data\\ERA5_DATA\\GB_ERA5_DATA' created successfully.\n"
     ]
    },
    {
     "name": "stderr",
     "output_type": "stream",
     "text": [
      "2023-08-26 20:01:06,680 INFO Request is running\n",
      "2023-08-26 20:01:38,125 INFO Request is completed\n",
      "2023-08-26 20:01:38,125 INFO Downloading https://download-0000-clone.copernicus-climate.eu/cache-compute-0000/cache/data2/adaptor.mars.internal-1693076492.2220101-6978-15-3d82b22b-b944-4f8e-b0ae-f216edc375e2.nc to F:\\JuPyterNotebook\\data\\raw_data\\ERA5_DATA\\GB_ERA5_DATA\\era5_pressure_level_2021_11_850.nc (1.7M)\n",
      "2023-08-26 20:01:38,610 INFO Download rate 3.5M/s                                                                      \n",
      "2023-08-26 20:01:38,701 INFO Welcome to the CDS\n",
      "2023-08-26 20:01:38,701 INFO Sending request to https://cds.climate.copernicus.eu/api/v2/resources/reanalysis-era5-pressure-levels\n",
      "2023-08-26 20:01:38,824 INFO Request is queued\n"
     ]
    },
    {
     "name": "stdout",
     "output_type": "stream",
     "text": [
      "era5_pressure_level_2021_11_850.nc done!\n",
      "Download time: 33.107 s\n",
      "Folder 'F:\\JuPyterNotebook\\data\\raw_data\\ERA5_DATA\\GB_ERA5_DATA' created successfully.\n"
     ]
    },
    {
     "name": "stderr",
     "output_type": "stream",
     "text": [
      "2023-08-26 20:01:39,865 INFO Request is running\n",
      "2023-08-26 20:02:11,275 INFO Request is completed\n",
      "2023-08-26 20:02:11,275 INFO Downloading https://download-0018.copernicus-climate.eu/cache-compute-0018/cache/data1/adaptor.mars.internal-1693076527.7492967-6936-2-bf54a6ef-ffdb-448f-b1fd-39623201ba2d.nc to F:\\JuPyterNotebook\\data\\raw_data\\ERA5_DATA\\GB_ERA5_DATA\\era5_pressure_level_2021_12_850.nc (1.7M)\n",
      "2023-08-26 20:02:11,948 INFO Download rate 2.6M/s                                                                      \n",
      "2023-08-26 20:02:12,054 INFO Welcome to the CDS\n",
      "2023-08-26 20:02:12,054 INFO Sending request to https://cds.climate.copernicus.eu/api/v2/resources/reanalysis-era5-pressure-levels\n",
      "2023-08-26 20:02:12,189 INFO Request is queued\n"
     ]
    },
    {
     "name": "stdout",
     "output_type": "stream",
     "text": [
      "era5_pressure_level_2021_12_850.nc done!\n",
      "Download time: 33.337 s\n",
      "Folder 'F:\\JuPyterNotebook\\data\\raw_data\\ERA5_DATA\\GB_ERA5_DATA' created successfully.\n"
     ]
    },
    {
     "name": "stderr",
     "output_type": "stream",
     "text": [
      "2023-08-26 20:02:13,363 INFO Request is running\n",
      "2023-08-26 20:03:01,896 INFO Request is completed\n",
      "2023-08-26 20:03:01,911 INFO Downloading https://download-0002-clone.copernicus-climate.eu/cache-compute-0002/cache/data5/adaptor.mars.internal-1693076569.6353679-31590-19-f7952df7-0d58-48ad-916e-e71a1bb24632.nc to F:\\JuPyterNotebook\\data\\raw_data\\ERA5_DATA\\GB_ERA5_DATA\\era5_pressure_level_2022_01_850.nc (1.7M)\n",
      "2023-08-26 20:03:02,451 INFO Download rate 3.2M/s                                                                      \n",
      "2023-08-26 20:03:02,534 INFO Welcome to the CDS\n",
      "2023-08-26 20:03:02,549 INFO Sending request to https://cds.climate.copernicus.eu/api/v2/resources/reanalysis-era5-pressure-levels\n",
      "2023-08-26 20:03:02,640 INFO Request is queued\n"
     ]
    },
    {
     "name": "stdout",
     "output_type": "stream",
     "text": [
      "era5_pressure_level_2022_01_850.nc done!\n",
      "Download time: 50.511 s\n",
      "Folder 'F:\\JuPyterNotebook\\data\\raw_data\\ERA5_DATA\\GB_ERA5_DATA' created successfully.\n"
     ]
    },
    {
     "name": "stderr",
     "output_type": "stream",
     "text": [
      "2023-08-26 20:03:03,684 INFO Request is running\n",
      "2023-08-26 20:03:52,246 INFO Request is completed\n",
      "2023-08-26 20:03:52,246 INFO Downloading https://download-0020.copernicus-climate.eu/cache-compute-0020/cache/data5/adaptor.mars.internal-1693076627.629504-18507-6-5c72bdc7-788a-41d9-ae9a-936d8f16bc62.nc to F:\\JuPyterNotebook\\data\\raw_data\\ERA5_DATA\\GB_ERA5_DATA\\era5_pressure_level_2022_02_850.nc (1.6M)\n",
      "2023-08-26 20:03:52,799 INFO Download rate 2.9M/s                                                                      \n",
      "2023-08-26 20:03:52,888 INFO Welcome to the CDS\n",
      "2023-08-26 20:03:52,888 INFO Sending request to https://cds.climate.copernicus.eu/api/v2/resources/reanalysis-era5-pressure-levels\n",
      "2023-08-26 20:03:52,951 INFO Request is queued\n"
     ]
    },
    {
     "name": "stdout",
     "output_type": "stream",
     "text": [
      "era5_pressure_level_2022_02_850.nc done!\n",
      "Download time: 50.338 s\n",
      "Folder 'F:\\JuPyterNotebook\\data\\raw_data\\ERA5_DATA\\GB_ERA5_DATA' created successfully.\n"
     ]
    },
    {
     "name": "stderr",
     "output_type": "stream",
     "text": [
      "2023-08-26 20:03:53,983 INFO Request is running\n",
      "2023-08-26 20:04:42,543 INFO Request is completed\n",
      "2023-08-26 20:04:42,543 INFO Downloading https://download-0001-clone.copernicus-climate.eu/cache-compute-0001/cache/data0/adaptor.mars.internal-1693076674.306426-24071-1-b7e2326d-e078-4af7-b229-6edec6ad8ecf.nc to F:\\JuPyterNotebook\\data\\raw_data\\ERA5_DATA\\GB_ERA5_DATA\\era5_pressure_level_2022_03_850.nc (1.7M)\n",
      "2023-08-26 20:04:43,124 INFO Download rate 3.1M/s                                                                      \n",
      "2023-08-26 20:04:43,209 INFO Welcome to the CDS\n",
      "2023-08-26 20:04:43,209 INFO Sending request to https://cds.climate.copernicus.eu/api/v2/resources/reanalysis-era5-pressure-levels\n",
      "2023-08-26 20:04:43,318 INFO Request is queued\n"
     ]
    },
    {
     "name": "stdout",
     "output_type": "stream",
     "text": [
      "era5_pressure_level_2022_03_850.nc done!\n",
      "Download time: 50.320 s\n",
      "Folder 'F:\\JuPyterNotebook\\data\\raw_data\\ERA5_DATA\\GB_ERA5_DATA' created successfully.\n"
     ]
    },
    {
     "name": "stderr",
     "output_type": "stream",
     "text": [
      "2023-08-26 20:04:44,384 INFO Request is running\n",
      "2023-08-26 20:05:32,921 INFO Request is completed\n",
      "2023-08-26 20:05:32,921 INFO Downloading https://download-0002-clone.copernicus-climate.eu/cache-compute-0002/cache/data5/adaptor.mars.internal-1693076720.3093028-7707-2-69867cb0-43f0-4b89-8bbf-926e47782de2.nc to F:\\JuPyterNotebook\\data\\raw_data\\ERA5_DATA\\GB_ERA5_DATA\\era5_pressure_level_2022_04_850.nc (1.7M)\n",
      "2023-08-26 20:05:33,479 INFO Download rate 3M/s                                                                        \n",
      "2023-08-26 20:05:33,560 INFO Welcome to the CDS\n",
      "2023-08-26 20:05:33,560 INFO Sending request to https://cds.climate.copernicus.eu/api/v2/resources/reanalysis-era5-pressure-levels\n",
      "2023-08-26 20:05:33,671 INFO Request is queued\n"
     ]
    },
    {
     "name": "stdout",
     "output_type": "stream",
     "text": [
      "era5_pressure_level_2022_04_850.nc done!\n",
      "Download time: 50.352 s\n",
      "Folder 'F:\\JuPyterNotebook\\data\\raw_data\\ERA5_DATA\\GB_ERA5_DATA' created successfully.\n"
     ]
    },
    {
     "name": "stderr",
     "output_type": "stream",
     "text": [
      "2023-08-26 20:05:34,716 INFO Request is running\n",
      "2023-08-26 20:06:23,272 INFO Request is completed\n",
      "2023-08-26 20:06:23,272 INFO Downloading https://download-0021.copernicus-climate.eu/cache-compute-0021/cache/data6/adaptor.mars.internal-1693076771.59961-18263-2-15f1207b-0be2-471c-9d95-e6ce401d26e3.nc to F:\\JuPyterNotebook\\data\\raw_data\\ERA5_DATA\\GB_ERA5_DATA\\era5_pressure_level_2022_05_850.nc (1.7M)\n",
      "2023-08-26 20:06:23,778 INFO Download rate 3.4M/s                                                                      \n",
      "2023-08-26 20:06:23,867 INFO Welcome to the CDS\n",
      "2023-08-26 20:06:23,867 INFO Sending request to https://cds.climate.copernicus.eu/api/v2/resources/reanalysis-era5-pressure-levels\n",
      "2023-08-26 20:06:23,964 INFO Request is queued\n"
     ]
    },
    {
     "name": "stdout",
     "output_type": "stream",
     "text": [
      "era5_pressure_level_2022_05_850.nc done!\n",
      "Download time: 50.293 s\n",
      "Folder 'F:\\JuPyterNotebook\\data\\raw_data\\ERA5_DATA\\GB_ERA5_DATA' created successfully.\n"
     ]
    },
    {
     "name": "stderr",
     "output_type": "stream",
     "text": [
      "2023-08-26 20:06:25,004 INFO Request is running\n",
      "2023-08-26 20:07:13,553 INFO Request is completed\n",
      "2023-08-26 20:07:13,553 INFO Downloading https://download-0008-clone.copernicus-climate.eu/cache-compute-0008/cache/data3/adaptor.mars.internal-1693076819.3786128-29088-5-f843f95b-9e89-4a07-9e53-5973032275e5.nc to F:\\JuPyterNotebook\\data\\raw_data\\ERA5_DATA\\GB_ERA5_DATA\\era5_pressure_level_2022_06_850.nc (1.7M)\n",
      "2023-08-26 20:07:14,105 INFO Download rate 3.1M/s                                                                      \n",
      "2023-08-26 20:07:14,187 INFO Welcome to the CDS\n",
      "2023-08-26 20:07:14,187 INFO Sending request to https://cds.climate.copernicus.eu/api/v2/resources/reanalysis-era5-pressure-levels\n",
      "2023-08-26 20:07:14,267 INFO Request is queued\n"
     ]
    },
    {
     "name": "stdout",
     "output_type": "stream",
     "text": [
      "era5_pressure_level_2022_06_850.nc done!\n",
      "Download time: 50.317 s\n",
      "Folder 'F:\\JuPyterNotebook\\data\\raw_data\\ERA5_DATA\\GB_ERA5_DATA' created successfully.\n"
     ]
    },
    {
     "name": "stderr",
     "output_type": "stream",
     "text": [
      "2023-08-26 20:07:15,321 INFO Request is running\n",
      "2023-08-26 20:08:03,889 INFO Request is completed\n",
      "2023-08-26 20:08:03,889 INFO Downloading https://download-0002-clone.copernicus-climate.eu/cache-compute-0002/cache/data5/adaptor.mars.internal-1693076871.7663817-6267-8-00be604a-70de-4293-b86d-3877e0bfa2df.nc to F:\\JuPyterNotebook\\data\\raw_data\\ERA5_DATA\\GB_ERA5_DATA\\era5_pressure_level_2022_07_850.nc (1.7M)\n",
      "2023-08-26 20:08:04,516 INFO Download rate 2.8M/s                                                                      \n",
      "2023-08-26 20:08:04,603 INFO Welcome to the CDS\n",
      "2023-08-26 20:08:04,603 INFO Sending request to https://cds.climate.copernicus.eu/api/v2/resources/reanalysis-era5-pressure-levels\n",
      "2023-08-26 20:08:04,683 INFO Request is queued\n"
     ]
    },
    {
     "name": "stdout",
     "output_type": "stream",
     "text": [
      "era5_pressure_level_2022_07_850.nc done!\n",
      "Download time: 50.403 s\n",
      "Folder 'F:\\JuPyterNotebook\\data\\raw_data\\ERA5_DATA\\GB_ERA5_DATA' created successfully.\n"
     ]
    },
    {
     "name": "stderr",
     "output_type": "stream",
     "text": [
      "2023-08-26 20:08:05,720 INFO Request is running\n",
      "2023-08-26 20:08:54,261 INFO Request is completed\n",
      "2023-08-26 20:08:54,261 INFO Downloading https://download-0001-clone.copernicus-climate.eu/cache-compute-0001/cache/data3/adaptor.mars.internal-1693076925.189758-29500-3-974dda4e-d5d2-4fcb-8712-06971a87650b.nc to F:\\JuPyterNotebook\\data\\raw_data\\ERA5_DATA\\GB_ERA5_DATA\\era5_pressure_level_2022_08_850.nc (1.7M)\n",
      "2023-08-26 20:08:54,752 INFO Download rate 3.5M/s                                                                      \n",
      "2023-08-26 20:08:54,843 INFO Welcome to the CDS\n",
      "2023-08-26 20:08:54,844 INFO Sending request to https://cds.climate.copernicus.eu/api/v2/resources/reanalysis-era5-pressure-levels\n",
      "2023-08-26 20:08:54,904 INFO Request is queued\n"
     ]
    },
    {
     "name": "stdout",
     "output_type": "stream",
     "text": [
      "era5_pressure_level_2022_08_850.nc done!\n",
      "Download time: 50.240 s\n",
      "Folder 'F:\\JuPyterNotebook\\data\\raw_data\\ERA5_DATA\\GB_ERA5_DATA' created successfully.\n"
     ]
    },
    {
     "name": "stderr",
     "output_type": "stream",
     "text": [
      "2023-08-26 20:08:55,939 INFO Request is running\n",
      "2023-08-26 20:09:44,554 INFO Request is completed\n",
      "2023-08-26 20:09:44,554 INFO Downloading https://download-0001-clone.copernicus-climate.eu/cache-compute-0001/cache/data7/adaptor.mars.internal-1693076974.9491122-23977-7-9bf5f028-38c2-4d2d-b6f2-a5bc2811aec7.nc to F:\\JuPyterNotebook\\data\\raw_data\\ERA5_DATA\\GB_ERA5_DATA\\era5_pressure_level_2022_09_850.nc (1.7M)\n",
      "2023-08-26 20:09:44,909 INFO Download rate 4.7M/s                                                                      \n",
      "2023-08-26 20:09:44,996 INFO Welcome to the CDS\n",
      "2023-08-26 20:09:44,996 INFO Sending request to https://cds.climate.copernicus.eu/api/v2/resources/reanalysis-era5-pressure-levels\n",
      "2023-08-26 20:09:45,102 INFO Request is queued\n"
     ]
    },
    {
     "name": "stdout",
     "output_type": "stream",
     "text": [
      "era5_pressure_level_2022_09_850.nc done!\n",
      "Download time: 50.150 s\n",
      "Folder 'F:\\JuPyterNotebook\\data\\raw_data\\ERA5_DATA\\GB_ERA5_DATA' created successfully.\n"
     ]
    },
    {
     "name": "stderr",
     "output_type": "stream",
     "text": [
      "2023-08-26 20:09:46,139 INFO Request is running\n",
      "2023-08-26 20:10:34,830 INFO Request is completed\n",
      "2023-08-26 20:10:34,830 INFO Downloading https://download-0013-clone.copernicus-climate.eu/cache-compute-0013/cache/data3/adaptor.mars.internal-1693077026.0059783-4825-7-e505b04f-8b9e-401b-bc63-bf1af1879a27.nc to F:\\JuPyterNotebook\\data\\raw_data\\ERA5_DATA\\GB_ERA5_DATA\\era5_pressure_level_2022_10_850.nc (1.7M)\n",
      "2023-08-26 20:10:35,344 INFO Download rate 3.5M/s                                                                      \n",
      "2023-08-26 20:10:35,424 INFO Welcome to the CDS\n",
      "2023-08-26 20:10:35,424 INFO Sending request to https://cds.climate.copernicus.eu/api/v2/resources/reanalysis-era5-pressure-levels\n",
      "2023-08-26 20:10:35,501 INFO Request is queued\n"
     ]
    },
    {
     "name": "stdout",
     "output_type": "stream",
     "text": [
      "era5_pressure_level_2022_10_850.nc done!\n",
      "Download time: 50.432 s\n",
      "Folder 'F:\\JuPyterNotebook\\data\\raw_data\\ERA5_DATA\\GB_ERA5_DATA' created successfully.\n"
     ]
    },
    {
     "name": "stderr",
     "output_type": "stream",
     "text": [
      "2023-08-26 20:10:36,549 INFO Request is running\n",
      "2023-08-26 20:11:25,083 INFO Request is completed\n",
      "2023-08-26 20:11:25,083 INFO Downloading https://download-0014-clone.copernicus-climate.eu/cache-compute-0014/cache/data2/adaptor.mars.internal-1693077071.1071901-15226-14-1258ecb5-30ab-4ada-a320-2cc86c6b6985.nc to F:\\JuPyterNotebook\\data\\raw_data\\ERA5_DATA\\GB_ERA5_DATA\\era5_pressure_level_2022_11_850.nc (1.7M)\n",
      "2023-08-26 20:11:25,549 INFO Download rate 3.6M/s                                                                      \n",
      "2023-08-26 20:11:25,670 INFO Welcome to the CDS\n",
      "2023-08-26 20:11:25,670 INFO Sending request to https://cds.climate.copernicus.eu/api/v2/resources/reanalysis-era5-pressure-levels\n",
      "2023-08-26 20:11:25,747 INFO Request is queued\n"
     ]
    },
    {
     "name": "stdout",
     "output_type": "stream",
     "text": [
      "era5_pressure_level_2022_11_850.nc done!\n",
      "Download time: 50.245 s\n",
      "Folder 'F:\\JuPyterNotebook\\data\\raw_data\\ERA5_DATA\\GB_ERA5_DATA' created successfully.\n"
     ]
    },
    {
     "name": "stderr",
     "output_type": "stream",
     "text": [
      "2023-08-26 20:11:26,786 INFO Request is running\n",
      "2023-08-26 20:12:15,344 INFO Request is completed\n",
      "2023-08-26 20:12:15,344 INFO Downloading https://download-0009-clone.copernicus-climate.eu/cache-compute-0009/cache/data1/adaptor.mars.internal-1693077119.5366566-12224-7-5dccc770-1670-4ff4-8231-0ece4686efd8.nc to F:\\JuPyterNotebook\\data\\raw_data\\ERA5_DATA\\GB_ERA5_DATA\\era5_pressure_level_2022_12_850.nc (1.7M)\n",
      "2023-08-26 20:12:15,826 INFO Download rate 3.7M/s                                                                      \n"
     ]
    },
    {
     "name": "stdout",
     "output_type": "stream",
     "text": [
      "era5_pressure_level_2022_12_850.nc done!\n",
      "Download time: 50.239 s\n"
     ]
    }
   ],
   "source": [
    "for i in data_year:\n",
    "    for k in data_month:\n",
    "       thread_function(i, k)"
   ]
  },
  {
   "cell_type": "code",
   "execution_count": 42,
   "id": "21d02057",
   "metadata": {
    "ExecuteTime": {
     "end_time": "2023-08-26T11:39:52.826152Z",
     "start_time": "2023-08-26T11:39:52.319526Z"
    }
   },
   "outputs": [
    {
     "name": "stderr",
     "output_type": "stream",
     "text": [
      "2023-08-26 12:39:52,479 INFO Welcome to the CDS\n",
      "2023-08-26 12:39:52,479 INFO Sending request to https://cds.climate.copernicus.eu/api/v2/resources/reanalysis-era5-pressure-levels\n",
      "2023-08-26 12:39:52,624 INFO Request is completed\n",
      "2023-08-26 12:39:52,625 INFO Downloading https://download-0016.copernicus-climate.eu/cache-compute-0016/cache/data7/adaptor.mars.internal-1693049886.692061-15368-8-2ca281e4-d5a0-429e-b947-f2b2c9eb8759.nc to download.nc (3.7K)\n",
      "2023-08-26 12:39:52,807 INFO Download rate 20.3K/s                                                                     \n"
     ]
    },
    {
     "data": {
      "text/plain": [
       "Result(content_length=3764,content_type=application/x-netcdf,location=https://download-0016.copernicus-climate.eu/cache-compute-0016/cache/data7/adaptor.mars.internal-1693049886.692061-15368-8-2ca281e4-d5a0-429e-b947-f2b2c9eb8759.nc)"
      ]
     },
     "execution_count": 42,
     "metadata": {},
     "output_type": "execute_result"
    }
   ],
   "source": [
    "# TEST CDS API LINK\n",
    "import cdsapi\n",
    "\n",
    "c = cdsapi.Client()\n",
    "\n",
    "c.retrieve(\n",
    "    'reanalysis-era5-pressure-levels',\n",
    "    {\n",
    "        'product_type': 'reanalysis',\n",
    "        'format': 'netcdf',\n",
    "        'variable': 'temperature',\n",
    "        'pressure_level': '850',\n",
    "        'year': '2021',\n",
    "        'month': '01',\n",
    "        'day': '01',\n",
    "        'time': '00:00',\n",
    "        'area': [\n",
    "            58, -7, 50,\n",
    "            1.75,\n",
    "        ],\n",
    "    },\n",
    "    'download.nc')"
   ]
  },
  {
   "cell_type": "code",
   "execution_count": null,
   "id": "67400665-054c-406b-bde1-1d6f58af6535",
   "metadata": {},
   "outputs": [],
   "source": []
  }
 ],
 "metadata": {
  "hide_input": false,
  "kernelspec": {
   "display_name": "Python 3 (ipykernel)",
   "language": "python",
   "name": "python3"
  },
  "language_info": {
   "codemirror_mode": {
    "name": "ipython",
    "version": 3
   },
   "file_extension": ".py",
   "mimetype": "text/x-python",
   "name": "python",
   "nbconvert_exporter": "python",
   "pygments_lexer": "ipython3",
   "version": "3.11.5"
  },
  "toc": {
   "base_numbering": 1,
   "nav_menu": {},
   "number_sections": true,
   "sideBar": true,
   "skip_h1_title": false,
   "title_cell": "Table of Contents",
   "title_sidebar": "Contents",
   "toc_cell": false,
   "toc_position": {},
   "toc_section_display": true,
   "toc_window_display": false
  },
  "varInspector": {
   "cols": {
    "lenName": 16,
    "lenType": 16,
    "lenVar": 40
   },
   "kernels_config": {
    "python": {
     "delete_cmd_postfix": "",
     "delete_cmd_prefix": "del ",
     "library": "var_list.py",
     "varRefreshCmd": "print(var_dic_list())"
    },
    "r": {
     "delete_cmd_postfix": ") ",
     "delete_cmd_prefix": "rm(",
     "library": "var_list.r",
     "varRefreshCmd": "cat(var_dic_list()) "
    }
   },
   "types_to_exclude": [
    "module",
    "function",
    "builtin_function_or_method",
    "instance",
    "_Feature"
   ],
   "window_display": false
  }
 },
 "nbformat": 4,
 "nbformat_minor": 5
}
